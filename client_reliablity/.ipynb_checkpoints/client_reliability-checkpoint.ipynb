{
 "cells": [
  {
   "cell_type": "markdown",
   "metadata": {},
   "source": [
    "# Исследование надёжности заёмщиков"
   ]
  },
  {
   "cell_type": "markdown",
   "metadata": {},
   "source": [
    "# Цель и задачи проекта\n",
    "\n",
    "Основная цель проекта - выяснить является ли количество детей, семейное положение клиента, его уровень доходов и цели получения кредитования на факт погашения кредита в срок.\n",
    "\n",
    "Основными задачами во время работы проекта являются Задачами проекта являются:\n",
    "1. Ознакомиться с данными и выявить потенциальные проблемы при работы с ними;\n",
    "2. Определение и заполнение пропущенных значений;\n",
    "3. Замена типа данных в столбцах, где они неверно определяются;\n",
    "4. Выявление и обработка дубилкатов;\n",
    "5. Выделение групп данных и их категоризация;\n",
    "6. Анализ зависимости данных на возврат кредита."
   ]
  },
  {
   "cell_type": "markdown",
   "metadata": {},
   "source": [
    "Для анализа от предоставлена таблица с данными в формате csv, где в столбцы выделена основная информация по клиентам, которая может быть использована для построения модели кредитного скоринга.\n",
    "\n",
    "Всего в таблице 12 столбцов:<br>\n",
    "`children` — количество детей в семье<br>\n",
    "`days_employed` — общий трудовой стаж в днях<br>\n",
    "`dob_years` — возраст клиента в годах<br>\n",
    "`education` — уровень образования клиента<br>\n",
    "`education_id` — идентификатор уровня образования<br>\n",
    "`family_status` — семейное положение<br>\n",
    "`family_status_id` — идентификатор семейного положения<br>\n",
    "`gender` — пол клиента<br>\n",
    "`income_type` — тип занятости<br>\n",
    "`debt` — имел ли задолженность по возврату кредитов<br>\n",
    "`total_income` — ежемесячный доход<br>\n",
    "`purpose` — цель получения кредита"
   ]
  },
  {
   "cell_type": "markdown",
   "metadata": {},
   "source": [
    "## Открытие данных <a id=\"start\"></a>"
   ]
  },
  {
   "cell_type": "code",
   "execution_count": 1,
   "metadata": {},
   "outputs": [],
   "source": [
    "import pandas as pd\n",
    "data = pd.read_csv('/datasets/data.csv')\n",
    "data.to_csv('credit_score_data.csv', index=False) "
   ]
  },
  {
   "cell_type": "code",
   "execution_count": 2,
   "metadata": {},
   "outputs": [
    {
     "name": "stdout",
     "output_type": "stream",
     "text": [
      "<class 'pandas.core.frame.DataFrame'>\n",
      "RangeIndex: 21525 entries, 0 to 21524\n",
      "Data columns (total 12 columns):\n",
      " #   Column            Non-Null Count  Dtype  \n",
      "---  ------            --------------  -----  \n",
      " 0   children          21525 non-null  int64  \n",
      " 1   days_employed     19351 non-null  float64\n",
      " 2   dob_years         21525 non-null  int64  \n",
      " 3   education         21525 non-null  object \n",
      " 4   education_id      21525 non-null  int64  \n",
      " 5   family_status     21525 non-null  object \n",
      " 6   family_status_id  21525 non-null  int64  \n",
      " 7   gender            21525 non-null  object \n",
      " 8   income_type       21525 non-null  object \n",
      " 9   debt              21525 non-null  int64  \n",
      " 10  total_income      19351 non-null  float64\n",
      " 11  purpose           21525 non-null  object \n",
      "dtypes: float64(2), int64(5), object(5)\n",
      "memory usage: 2.0+ MB\n"
     ]
    },
    {
     "data": {
      "text/html": [
       "<div>\n",
       "<style scoped>\n",
       "    .dataframe tbody tr th:only-of-type {\n",
       "        vertical-align: middle;\n",
       "    }\n",
       "\n",
       "    .dataframe tbody tr th {\n",
       "        vertical-align: top;\n",
       "    }\n",
       "\n",
       "    .dataframe thead th {\n",
       "        text-align: right;\n",
       "    }\n",
       "</style>\n",
       "<table border=\"1\" class=\"dataframe\">\n",
       "  <thead>\n",
       "    <tr style=\"text-align: right;\">\n",
       "      <th></th>\n",
       "      <th>children</th>\n",
       "      <th>days_employed</th>\n",
       "      <th>dob_years</th>\n",
       "      <th>education</th>\n",
       "      <th>education_id</th>\n",
       "      <th>family_status</th>\n",
       "      <th>family_status_id</th>\n",
       "      <th>gender</th>\n",
       "      <th>income_type</th>\n",
       "      <th>debt</th>\n",
       "      <th>total_income</th>\n",
       "      <th>purpose</th>\n",
       "    </tr>\n",
       "  </thead>\n",
       "  <tbody>\n",
       "    <tr>\n",
       "      <th>0</th>\n",
       "      <td>1</td>\n",
       "      <td>-8437.673028</td>\n",
       "      <td>42</td>\n",
       "      <td>высшее</td>\n",
       "      <td>0</td>\n",
       "      <td>женат / замужем</td>\n",
       "      <td>0</td>\n",
       "      <td>F</td>\n",
       "      <td>сотрудник</td>\n",
       "      <td>0</td>\n",
       "      <td>253875.639453</td>\n",
       "      <td>покупка жилья</td>\n",
       "    </tr>\n",
       "    <tr>\n",
       "      <th>1</th>\n",
       "      <td>1</td>\n",
       "      <td>-4024.803754</td>\n",
       "      <td>36</td>\n",
       "      <td>среднее</td>\n",
       "      <td>1</td>\n",
       "      <td>женат / замужем</td>\n",
       "      <td>0</td>\n",
       "      <td>F</td>\n",
       "      <td>сотрудник</td>\n",
       "      <td>0</td>\n",
       "      <td>112080.014102</td>\n",
       "      <td>приобретение автомобиля</td>\n",
       "    </tr>\n",
       "    <tr>\n",
       "      <th>2</th>\n",
       "      <td>0</td>\n",
       "      <td>-5623.422610</td>\n",
       "      <td>33</td>\n",
       "      <td>Среднее</td>\n",
       "      <td>1</td>\n",
       "      <td>женат / замужем</td>\n",
       "      <td>0</td>\n",
       "      <td>M</td>\n",
       "      <td>сотрудник</td>\n",
       "      <td>0</td>\n",
       "      <td>145885.952297</td>\n",
       "      <td>покупка жилья</td>\n",
       "    </tr>\n",
       "    <tr>\n",
       "      <th>3</th>\n",
       "      <td>3</td>\n",
       "      <td>-4124.747207</td>\n",
       "      <td>32</td>\n",
       "      <td>среднее</td>\n",
       "      <td>1</td>\n",
       "      <td>женат / замужем</td>\n",
       "      <td>0</td>\n",
       "      <td>M</td>\n",
       "      <td>сотрудник</td>\n",
       "      <td>0</td>\n",
       "      <td>267628.550329</td>\n",
       "      <td>дополнительное образование</td>\n",
       "    </tr>\n",
       "    <tr>\n",
       "      <th>4</th>\n",
       "      <td>0</td>\n",
       "      <td>340266.072047</td>\n",
       "      <td>53</td>\n",
       "      <td>среднее</td>\n",
       "      <td>1</td>\n",
       "      <td>гражданский брак</td>\n",
       "      <td>1</td>\n",
       "      <td>F</td>\n",
       "      <td>пенсионер</td>\n",
       "      <td>0</td>\n",
       "      <td>158616.077870</td>\n",
       "      <td>сыграть свадьбу</td>\n",
       "    </tr>\n",
       "    <tr>\n",
       "      <th>5</th>\n",
       "      <td>0</td>\n",
       "      <td>-926.185831</td>\n",
       "      <td>27</td>\n",
       "      <td>высшее</td>\n",
       "      <td>0</td>\n",
       "      <td>гражданский брак</td>\n",
       "      <td>1</td>\n",
       "      <td>M</td>\n",
       "      <td>компаньон</td>\n",
       "      <td>0</td>\n",
       "      <td>255763.565419</td>\n",
       "      <td>покупка жилья</td>\n",
       "    </tr>\n",
       "    <tr>\n",
       "      <th>6</th>\n",
       "      <td>0</td>\n",
       "      <td>-2879.202052</td>\n",
       "      <td>43</td>\n",
       "      <td>высшее</td>\n",
       "      <td>0</td>\n",
       "      <td>женат / замужем</td>\n",
       "      <td>0</td>\n",
       "      <td>F</td>\n",
       "      <td>компаньон</td>\n",
       "      <td>0</td>\n",
       "      <td>240525.971920</td>\n",
       "      <td>операции с жильем</td>\n",
       "    </tr>\n",
       "    <tr>\n",
       "      <th>7</th>\n",
       "      <td>0</td>\n",
       "      <td>-152.779569</td>\n",
       "      <td>50</td>\n",
       "      <td>СРЕДНЕЕ</td>\n",
       "      <td>1</td>\n",
       "      <td>женат / замужем</td>\n",
       "      <td>0</td>\n",
       "      <td>M</td>\n",
       "      <td>сотрудник</td>\n",
       "      <td>0</td>\n",
       "      <td>135823.934197</td>\n",
       "      <td>образование</td>\n",
       "    </tr>\n",
       "    <tr>\n",
       "      <th>8</th>\n",
       "      <td>2</td>\n",
       "      <td>-6929.865299</td>\n",
       "      <td>35</td>\n",
       "      <td>ВЫСШЕЕ</td>\n",
       "      <td>0</td>\n",
       "      <td>гражданский брак</td>\n",
       "      <td>1</td>\n",
       "      <td>F</td>\n",
       "      <td>сотрудник</td>\n",
       "      <td>0</td>\n",
       "      <td>95856.832424</td>\n",
       "      <td>на проведение свадьбы</td>\n",
       "    </tr>\n",
       "    <tr>\n",
       "      <th>9</th>\n",
       "      <td>0</td>\n",
       "      <td>-2188.756445</td>\n",
       "      <td>41</td>\n",
       "      <td>среднее</td>\n",
       "      <td>1</td>\n",
       "      <td>женат / замужем</td>\n",
       "      <td>0</td>\n",
       "      <td>M</td>\n",
       "      <td>сотрудник</td>\n",
       "      <td>0</td>\n",
       "      <td>144425.938277</td>\n",
       "      <td>покупка жилья для семьи</td>\n",
       "    </tr>\n",
       "  </tbody>\n",
       "</table>\n",
       "</div>"
      ],
      "text/plain": [
       "   children  days_employed  dob_years education  education_id  \\\n",
       "0         1   -8437.673028         42    высшее             0   \n",
       "1         1   -4024.803754         36   среднее             1   \n",
       "2         0   -5623.422610         33   Среднее             1   \n",
       "3         3   -4124.747207         32   среднее             1   \n",
       "4         0  340266.072047         53   среднее             1   \n",
       "5         0    -926.185831         27    высшее             0   \n",
       "6         0   -2879.202052         43    высшее             0   \n",
       "7         0    -152.779569         50   СРЕДНЕЕ             1   \n",
       "8         2   -6929.865299         35    ВЫСШЕЕ             0   \n",
       "9         0   -2188.756445         41   среднее             1   \n",
       "\n",
       "      family_status  family_status_id gender income_type  debt   total_income  \\\n",
       "0   женат / замужем                 0      F   сотрудник     0  253875.639453   \n",
       "1   женат / замужем                 0      F   сотрудник     0  112080.014102   \n",
       "2   женат / замужем                 0      M   сотрудник     0  145885.952297   \n",
       "3   женат / замужем                 0      M   сотрудник     0  267628.550329   \n",
       "4  гражданский брак                 1      F   пенсионер     0  158616.077870   \n",
       "5  гражданский брак                 1      M   компаньон     0  255763.565419   \n",
       "6   женат / замужем                 0      F   компаньон     0  240525.971920   \n",
       "7   женат / замужем                 0      M   сотрудник     0  135823.934197   \n",
       "8  гражданский брак                 1      F   сотрудник     0   95856.832424   \n",
       "9   женат / замужем                 0      M   сотрудник     0  144425.938277   \n",
       "\n",
       "                      purpose  \n",
       "0               покупка жилья  \n",
       "1     приобретение автомобиля  \n",
       "2               покупка жилья  \n",
       "3  дополнительное образование  \n",
       "4             сыграть свадьбу  \n",
       "5               покупка жилья  \n",
       "6           операции с жильем  \n",
       "7                 образование  \n",
       "8       на проведение свадьбы  \n",
       "9     покупка жилья для семьи  "
      ]
     },
     "execution_count": 2,
     "metadata": {},
     "output_type": "execute_result"
    }
   ],
   "source": [
    "import pandas as pd\n",
    "data = pd.read_csv('/datasets/data.csv')\n",
    "data.info()\n",
    "data.head(10)"
   ]
  },
  {
   "cell_type": "markdown",
   "metadata": {},
   "source": [
    "**Вывод**\n"
   ]
  },
  {
   "cell_type": "markdown",
   "metadata": {},
   "source": [
    "Названия столбцов в таблице корректны: нет лишних пробелов, заглавных букв, все названия на английском языке.\n",
    "В предоставленной базе данных обнаружены следующие недочеты: \n",
    "- пропуски меются в столбцах `days_employed` и `total_income`;\n",
    "- В столбце `days_employed` имеются отрицательные значения, что не соответствует логике столбца;\n",
    "- количество дней стажа может быть только целочисленным значением, значит необходимо изменить тип столбца `days_employed` на int64;\n",
    "- в столбце `education` элементы прописаны разным регистром, необходимо привести их к единому виду;\n",
    "- в столбце `gender` имеется странное значение `XNA`;\n",
    "- в столбце `purpose` много близких по смыслу значений, необходимо выделить основные назначения и переименовать элементы столбца. "
   ]
  },
  {
   "cell_type": "markdown",
   "metadata": {},
   "source": [
    "## Предобработка данных <a id=\"preprocessing\"></a>"
   ]
  },
  {
   "cell_type": "code",
   "execution_count": 3,
   "metadata": {},
   "outputs": [
    {
     "data": {
      "text/plain": [
       "children               0\n",
       "days_employed       2174\n",
       "dob_years              0\n",
       "education              0\n",
       "education_id           0\n",
       "family_status          0\n",
       "family_status_id       0\n",
       "gender                 0\n",
       "income_type            0\n",
       "debt                   0\n",
       "total_income        2174\n",
       "purpose                0\n",
       "dtype: int64"
      ]
     },
     "execution_count": 3,
     "metadata": {},
     "output_type": "execute_result"
    }
   ],
   "source": [
    "data.isnull().sum()"
   ]
  },
  {
   "cell_type": "code",
   "execution_count": 4,
   "metadata": {},
   "outputs": [
    {
     "data": {
      "text/plain": [
       "<AxesSubplot:>"
      ]
     },
     "execution_count": 4,
     "metadata": {},
     "output_type": "execute_result"
    },
    {
     "data": {
      "image/png": "[encoded data removed]",
      "text/plain": [
       "<Figure size 432x288 with 1 Axes>"
      ]
     },
     "metadata": {
      "needs_background": "light"
     },
     "output_type": "display_data"
    }
   ],
   "source": [
    "# Возьмём все отрицательные значения стажа по модулю. \n",
    "data['days_employed'] = abs(data['days_employed'])\n",
    "data['days_employed'].hist()"
   ]
  },
  {
   "cell_type": "markdown",
   "metadata": {},
   "source": [
    "Пропуски в столбце стажа устранены. \n",
    "Необходимо выяснить у кредитного отдела причины появления ошибок в данном столбце.\n",
    "Отрицательные значения могут быть вызваны человеческим фактором или неверной формулой подсчета, зашитой в анкете клиента.\n",
    "Тоже самое относится к стажу в сотни лет, возможно были проставлены лишние нули в числах."
   ]
  },
  {
   "cell_type": "code",
   "execution_count": 5,
   "metadata": {},
   "outputs": [
    {
     "data": {
      "text/plain": [
       "True"
      ]
     },
     "execution_count": 5,
     "metadata": {},
     "output_type": "execute_result"
    }
   ],
   "source": [
    "(data['days_employed'].isnull()).equals(data['total_income'].isnull())"
   ]
  },
  {
   "cell_type": "markdown",
   "metadata": {},
   "source": [
    "### Обработка пропусков <a id=\"null\"></a>"
   ]
  },
  {
   "cell_type": "code",
   "execution_count": 6,
   "metadata": {},
   "outputs": [],
   "source": [
    "# Заменяем пустые значения стажа медианным значением для каждого типа занятости\n",
    "data['days_employed'] = data.groupby('income_type')['days_employed'].apply(lambda x: x.fillna(x.median())) "
   ]
  },
  {
   "cell_type": "code",
   "execution_count": 7,
   "metadata": {},
   "outputs": [],
   "source": [
    "# Заменяем пустые значения дохода медианным значением для каждого типа занятости\n",
    "data['total_income'] = data.groupby('income_type')['total_income'].apply(lambda x: x.fillna(x.median())) "
   ]
  },
  {
   "cell_type": "code",
   "execution_count": 8,
   "metadata": {},
   "outputs": [
    {
     "data": {
      "text/plain": [
       "children            0\n",
       "days_employed       0\n",
       "dob_years           0\n",
       "education           0\n",
       "education_id        0\n",
       "family_status       0\n",
       "family_status_id    0\n",
       "gender              0\n",
       "income_type         0\n",
       "debt                0\n",
       "total_income        0\n",
       "purpose             0\n",
       "dtype: int64"
      ]
     },
     "execution_count": 8,
     "metadata": {},
     "output_type": "execute_result"
    }
   ],
   "source": [
    "data.isnull().sum()"
   ]
  },
  {
   "cell_type": "markdown",
   "metadata": {},
   "source": [
    "**Вывод**"
   ]
  },
  {
   "cell_type": "markdown",
   "metadata": {},
   "source": [
    "Причины наличия пропусков в этих двух столбцах не случайны: люди могут не работать и соответственно не получать доход. Это в первую очередь относится к клиентам определенного типа занятости: студенты, пенсионеры и т.п.\n",
    "\n",
    "Пустые значения в столбцах заполнили медианными значения по соответствующим типам занятости."
   ]
  },
  {
   "cell_type": "markdown",
   "metadata": {},
   "source": [
    "### Замена типа данных <a id=\"type\"></a>"
   ]
  },
  {
   "cell_type": "code",
   "execution_count": 9,
   "metadata": {},
   "outputs": [
    {
     "data": {
      "text/plain": [
       "children             int64\n",
       "days_employed        int64\n",
       "dob_years            int64\n",
       "education           object\n",
       "education_id         int64\n",
       "family_status       object\n",
       "family_status_id     int64\n",
       "gender              object\n",
       "income_type         object\n",
       "debt                 int64\n",
       "total_income         int64\n",
       "purpose             object\n",
       "dtype: object"
      ]
     },
     "execution_count": 9,
     "metadata": {},
     "output_type": "execute_result"
    }
   ],
   "source": [
    "# Заменим тип столбцов, в которых были пропуски на целочисленный.\n",
    "data['days_employed'] = data['days_employed'].astype('int')\n",
    "data['total_income'] = data['total_income'].astype('int')\n",
    "data.dtypes"
   ]
  },
  {
   "cell_type": "code",
   "execution_count": 10,
   "metadata": {},
   "outputs": [
    {
     "data": {
      "text/plain": [
       "'Медианный доход: 142594 рублей'"
      ]
     },
     "execution_count": 10,
     "metadata": {},
     "output_type": "execute_result"
    }
   ],
   "source": [
    "total_income_median = data['total_income'].median()\n",
    "'Медианный доход: {:.0f} рублей'.format(total_income_median)"
   ]
  },
  {
   "cell_type": "markdown",
   "metadata": {},
   "source": [
    "**Вывод**"
   ]
  },
  {
   "cell_type": "markdown",
   "metadata": {},
   "source": [
    "Заменили типы данных в столбцах со стажем и доходом на целочисленные. Определили медианный доход клиентов - 142594 рубля."
   ]
  },
  {
   "cell_type": "markdown",
   "metadata": {},
   "source": [
    "### Обработка дубликатов <a id=\"duplicates\"></a>"
   ]
  },
  {
   "cell_type": "code",
   "execution_count": 11,
   "metadata": {},
   "outputs": [
    {
     "data": {
      "text/plain": [
       "среднее                13750\n",
       "высшее                  4718\n",
       "СРЕДНЕЕ                  772\n",
       "Среднее                  711\n",
       "неоконченное высшее      668\n",
       "ВЫСШЕЕ                   274\n",
       "Высшее                   268\n",
       "начальное                250\n",
       "Неоконченное высшее       47\n",
       "НЕОКОНЧЕННОЕ ВЫСШЕЕ       29\n",
       "НАЧАЛЬНОЕ                 17\n",
       "Начальное                 15\n",
       "ученая степень             4\n",
       "УЧЕНАЯ СТЕПЕНЬ             1\n",
       "Ученая степень             1\n",
       "Name: education, dtype: int64"
      ]
     },
     "execution_count": 11,
     "metadata": {},
     "output_type": "execute_result"
    }
   ],
   "source": [
    "data['education'].value_counts()"
   ]
  },
  {
   "cell_type": "markdown",
   "metadata": {},
   "source": [
    "В результате проверки видим, что в столбце `education` имеются дубликаты, причина их появления - разные регистры значений.\n",
    "Уберём дубликаты путём привидения всех значений стоблца к единому регистру - нижнему."
   ]
  },
  {
   "cell_type": "code",
   "execution_count": 12,
   "metadata": {},
   "outputs": [
    {
     "data": {
      "text/plain": [
       "54"
      ]
     },
     "execution_count": 12,
     "metadata": {},
     "output_type": "execute_result"
    }
   ],
   "source": [
    "data.duplicated().sum()"
   ]
  },
  {
   "cell_type": "code",
   "execution_count": 13,
   "metadata": {},
   "outputs": [
    {
     "data": {
      "text/plain": [
       "среднее                15233\n",
       "высшее                  5260\n",
       "неоконченное высшее      744\n",
       "начальное                282\n",
       "ученая степень             6\n",
       "Name: education, dtype: int64"
      ]
     },
     "execution_count": 13,
     "metadata": {},
     "output_type": "execute_result"
    }
   ],
   "source": [
    "data['education'] = data['education'].str.lower() #значения привели к единому регистру\n",
    "data['education'].value_counts()"
   ]
  },
  {
   "cell_type": "code",
   "execution_count": 14,
   "metadata": {},
   "outputs": [
    {
     "data": {
      "text/plain": [
       "71"
      ]
     },
     "execution_count": 14,
     "metadata": {},
     "output_type": "execute_result"
    }
   ],
   "source": [
    "data.duplicated().sum()"
   ]
  },
  {
   "cell_type": "markdown",
   "metadata": {},
   "source": [
    "После приведения значений столбца `education` к общему регистру число дубликтов увеличилось."
   ]
  },
  {
   "cell_type": "code",
   "execution_count": 15,
   "metadata": {},
   "outputs": [
    {
     "data": {
      "text/plain": [
       "('Число дубликатов в таблице:', 0)"
      ]
     },
     "execution_count": 15,
     "metadata": {},
     "output_type": "execute_result"
    }
   ],
   "source": [
    "data = data.drop_duplicates().reset_index(drop = True)\n",
    "'Число дубликатов в таблице:', data.duplicated().sum()"
   ]
  },
  {
   "cell_type": "markdown",
   "metadata": {},
   "source": [
    "**Вывод**"
   ]
  },
  {
   "cell_type": "markdown",
   "metadata": {},
   "source": [
    "До того, как приступили к обработке дубликатов их число составляло 54. После приведения значений столбца `education`к единому регистру, число дубликатов увеличилось до 71. Все выявленные дубликаты были удалены."
   ]
  },
  {
   "cell_type": "markdown",
   "metadata": {},
   "source": [
    "### Лемматизация <a id=\"lemmas\"></a>"
   ]
  },
  {
   "cell_type": "code",
   "execution_count": 16,
   "metadata": {},
   "outputs": [
    {
     "data": {
      "text/plain": [
       "свадьба                                   791\n",
       "на проведение свадьбы                     768\n",
       "сыграть свадьбу                           765\n",
       "операции с недвижимостью                  675\n",
       "покупка коммерческой недвижимости         661\n",
       "операции с жильем                         652\n",
       "покупка жилья для сдачи                   651\n",
       "операции с коммерческой недвижимостью     650\n",
       "жилье                                     646\n",
       "покупка жилья                             646\n",
       "покупка жилья для семьи                   638\n",
       "строительство собственной недвижимости    635\n",
       "недвижимость                              633\n",
       "операции со своей недвижимостью           627\n",
       "строительство жилой недвижимости          624\n",
       "покупка недвижимости                      621\n",
       "покупка своего жилья                      620\n",
       "строительство недвижимости                619\n",
       "ремонт жилью                              607\n",
       "покупка жилой недвижимости                606\n",
       "на покупку своего автомобиля              505\n",
       "заняться высшим образованием              496\n",
       "автомобиль                                494\n",
       "сделка с подержанным автомобилем          486\n",
       "на покупку подержанного автомобиля        478\n",
       "автомобили                                478\n",
       "свой автомобиль                           478\n",
       "на покупку автомобиля                     471\n",
       "приобретение автомобиля                   461\n",
       "дополнительное образование                460\n",
       "сделка с автомобилем                      455\n",
       "высшее образование                        452\n",
       "образование                               447\n",
       "получение дополнительного образования     446\n",
       "получение образования                     442\n",
       "профильное образование                    436\n",
       "получение высшего образования             426\n",
       "заняться образованием                     408\n",
       "Name: purpose, dtype: int64"
      ]
     },
     "execution_count": 16,
     "metadata": {},
     "output_type": "execute_result"
    }
   ],
   "source": [
    "# Проверяем какие значения имеются в столбце purpose\n",
    "data['purpose'].value_counts()"
   ]
  },
  {
   "cell_type": "markdown",
   "metadata": {},
   "source": [
    "Необходимо привести значения в столбце к одной из 4 групп."
   ]
  },
  {
   "cell_type": "code",
   "execution_count": 17,
   "metadata": {},
   "outputs": [
    {
     "data": {
      "text/plain": [
       "автомобиль \\n                                    972\n",
       "свадьба \\n                                       791\n",
       "на   проведение   свадьба \\n                     768\n",
       "сыграть   свадьба \\n                             765\n",
       "операция   с   недвижимость \\n                   675\n",
       "покупка   коммерческий   недвижимость \\n         661\n",
       "операция   с   жилье \\n                          652\n",
       "покупка   жилье   для   сдача \\n                 651\n",
       "операция   с   коммерческий   недвижимость \\n    650\n",
       "покупка   жилье \\n                               646\n",
       "жилье \\n                                         646\n",
       "покупка   жилье   для   семья \\n                 638\n",
       "строительство   собственный   недвижимость \\n    635\n",
       "недвижимость \\n                                  633\n",
       "операция   со   свой   недвижимость \\n           627\n",
       "строительство   жилой   недвижимость \\n          624\n",
       "покупка   недвижимость \\n                        621\n",
       "покупка   свой   жилье \\n                        620\n",
       "строительство   недвижимость \\n                  619\n",
       "ремонт   жилье \\n                                607\n",
       "покупка   жилой   недвижимость \\n                606\n",
       "на   покупка   свой   автомобиль \\n              505\n",
       "заниматься   высокий   образование \\n            496\n",
       "сделка   с   подержанный   автомобиль \\n         486\n",
       "на   покупка   подержать   автомобиль \\n         478\n",
       "свой   автомобиль \\n                             478\n",
       "на   покупка   автомобиль \\n                     471\n",
       "приобретение   автомобиль \\n                     461\n",
       "дополнительный   образование \\n                  460\n",
       "сделка   с   автомобиль \\n                       455\n",
       "высокий   образование \\n                         452\n",
       "образование \\n                                   447\n",
       "получение   дополнительный   образование \\n      446\n",
       "получение   образование \\n                       442\n",
       "профильный   образование \\n                      436\n",
       "получение   высокий   образование \\n             426\n",
       "заниматься   образование \\n                      408\n",
       "Name: purpose, dtype: int64"
      ]
     },
     "execution_count": 17,
     "metadata": {},
     "output_type": "execute_result"
    }
   ],
   "source": [
    "from pymystem3 import Mystem\n",
    "m = Mystem()\n",
    "def lemmatize(text):\n",
    "      lemmas = m.lemmatize(text)\n",
    "      text = \" \".join(lemmas)\n",
    "      return text\n",
    "data['purpose'] = data['purpose'].apply(lemmatize)\n",
    "data['purpose'].value_counts()"
   ]
  },
  {
   "cell_type": "markdown",
   "metadata": {},
   "source": [
    "**Вывод**"
   ]
  },
  {
   "cell_type": "markdown",
   "metadata": {},
   "source": [
    "Используя библиотеку `pymystem3` выделили леммы в каждой строке столбца с `purpose`. Все представленные значения в столбце можно укрупнённо разделить на 4 группы: `недвижимость`, `автокредит`, `свадьба`, `образование`. Далее объединим их в одну из 4 групп, определенных ранее."
   ]
  },
  {
   "cell_type": "markdown",
   "metadata": {},
   "source": [
    "### Категоризация данных <a id=\"classification\"></a>"
   ]
  },
  {
   "cell_type": "code",
   "execution_count": 18,
   "metadata": {},
   "outputs": [
    {
     "data": {
      "text/plain": [
       "недвижимость    6351\n",
       "жилье           4460\n",
       "автомобиль      4306\n",
       "образование     4013\n",
       "свадьба         2324\n",
       "Name: purpose, dtype: int64"
      ]
     },
     "execution_count": 18,
     "metadata": {},
     "output_type": "execute_result"
    }
   ],
   "source": [
    "#Проверяем категоризации данных с использованием функции\n",
    "\n",
    "def purpose(text):\n",
    "    words = ['недвижимость', 'автомобиль', 'свадьба', 'образование', 'жилье']\n",
    "    for word in words:\n",
    "        if word in text:\n",
    "            return word\n",
    "data['purpose'] = data['purpose'].apply(purpose)\n",
    "data['purpose'].value_counts()"
   ]
  },
  {
   "cell_type": "markdown",
   "metadata": {},
   "source": [
    "Если применить эту функцию, то значения в столбце заменяются на значения из списка `words`, однако остаётся проблема объединения значений `недвижимость` и `жилье` в общую группу `недвижимость` и замены леммы `автомобиль` на `автокредит`."
   ]
  },
  {
   "cell_type": "markdown",
   "metadata": {},
   "source": [
    "Для приведения значений к указанным группам заменим значения `жилье` и `автомобиль`"
   ]
  },
  {
   "cell_type": "code",
   "execution_count": 19,
   "metadata": {},
   "outputs": [
    {
     "data": {
      "text/plain": [
       "array(['недвижимость', 'автокредит', 'образование', 'свадьба'],\n",
       "      dtype=object)"
      ]
     },
     "execution_count": 19,
     "metadata": {},
     "output_type": "execute_result"
    }
   ],
   "source": [
    "data.loc[data['purpose'] == 'жилье', 'purpose'] = 'недвижимость'\n",
    "data.loc[data['purpose'] == 'автомобиль', 'purpose'] = 'автокредит'\n",
    "data['purpose'].unique()"
   ]
  },
  {
   "cell_type": "markdown",
   "metadata": {},
   "source": [
    "**Вывод**"
   ]
  },
  {
   "cell_type": "markdown",
   "metadata": {},
   "source": [
    "Все значения в столбце `purpose` приведены к одной из 4 групп: `недвижимость`, `автокредит`, `свадьба`, `образование`."
   ]
  },
  {
   "cell_type": "markdown",
   "metadata": {},
   "source": [
    "## Ответы на вопросы <a id=\"analysis\"></a>"
   ]
  },
  {
   "cell_type": "markdown",
   "metadata": {},
   "source": [
    "- Есть ли зависимость между наличием детей и возвратом кредита в срок?"
   ]
  },
  {
   "cell_type": "markdown",
   "metadata": {},
   "source": [
    "В столбце имеются недостоверные значения `-1`и `20`, возможно ошибка связана с человеческим фактором. Предполагаем, что для значения `-1` имелось в виду `1`.\n",
    "Значение `20` можно оставить без изменений, т.к. количество строк с ним незначительное. Будем считать эти значение, как подтверждение наличия детей у заемщика. Возможная причина такого большого количества детей - лишний ноль при вводе информации."
   ]
  },
  {
   "cell_type": "code",
   "execution_count": 20,
   "metadata": {},
   "outputs": [
    {
     "data": {
      "text/plain": [
       "0     14091\n",
       "1      4855\n",
       "2      2052\n",
       "3       330\n",
       "20       76\n",
       "4        41\n",
       "5         9\n",
       "Name: children, dtype: int64"
      ]
     },
     "execution_count": 20,
     "metadata": {},
     "output_type": "execute_result"
    }
   ],
   "source": [
    "data['children'] = abs(data['children'])\n",
    "data['children'].value_counts()"
   ]
  },
  {
   "cell_type": "code",
   "execution_count": 21,
   "metadata": {},
   "outputs": [],
   "source": [
    "def children_count(children):\n",
    "    if children > 0:\n",
    "        return 1\n",
    "    else:\n",
    "        return 0\n",
    "data['children_count'] = data['children'].apply(children_count)"
   ]
  },
  {
   "cell_type": "code",
   "execution_count": 22,
   "metadata": {},
   "outputs": [
    {
     "data": {
      "text/html": [
       "<div>\n",
       "<style scoped>\n",
       "    .dataframe tbody tr th:only-of-type {\n",
       "        vertical-align: middle;\n",
       "    }\n",
       "\n",
       "    .dataframe tbody tr th {\n",
       "        vertical-align: top;\n",
       "    }\n",
       "\n",
       "    .dataframe thead th {\n",
       "        text-align: right;\n",
       "    }\n",
       "</style>\n",
       "<table border=\"1\" class=\"dataframe\">\n",
       "  <thead>\n",
       "    <tr style=\"text-align: right;\">\n",
       "      <th>debt</th>\n",
       "      <th>0</th>\n",
       "      <th>1</th>\n",
       "      <th>ratio</th>\n",
       "    </tr>\n",
       "    <tr>\n",
       "      <th>children_count</th>\n",
       "      <th></th>\n",
       "      <th></th>\n",
       "      <th></th>\n",
       "    </tr>\n",
       "  </thead>\n",
       "  <tbody>\n",
       "    <tr>\n",
       "      <th>0</th>\n",
       "      <td>13028</td>\n",
       "      <td>1063</td>\n",
       "      <td>0.075</td>\n",
       "    </tr>\n",
       "    <tr>\n",
       "      <th>1</th>\n",
       "      <td>6685</td>\n",
       "      <td>678</td>\n",
       "      <td>0.092</td>\n",
       "    </tr>\n",
       "  </tbody>\n",
       "</table>\n",
       "</div>"
      ],
      "text/plain": [
       "debt                0     1  ratio\n",
       "children_count                    \n",
       "0               13028  1063  0.075\n",
       "1                6685   678  0.092"
      ]
     },
     "execution_count": 22,
     "metadata": {},
     "output_type": "execute_result"
    }
   ],
   "source": [
    "pivot_children = data.pivot_table(index='children_count', columns='debt', values = 'gender', aggfunc='count')\n",
    "pivot_children['ratio'] = pivot_children[1] / (pivot_children[0] + pivot_children[1]) \n",
    "pivot_children.round(3)"
   ]
  },
  {
   "cell_type": "markdown",
   "metadata": {},
   "source": [
    "**Вывод**"
   ]
  },
  {
   "cell_type": "markdown",
   "metadata": {},
   "source": [
    "По результатам анализа доля клиентов с детьми, у которых имеется просроченная задолженность составляет **9,2%**;\n",
    "доля клиентов без детей с просроченной задолженностью - **7,5%**"
   ]
  },
  {
   "cell_type": "markdown",
   "metadata": {},
   "source": [
    "- Есть ли зависимость между семейным положением и возвратом кредита в срок?\n"
   ]
  },
  {
   "cell_type": "code",
   "execution_count": 23,
   "metadata": {},
   "outputs": [
    {
     "data": {
      "text/html": [
       "<div>\n",
       "<style scoped>\n",
       "    .dataframe tbody tr th:only-of-type {\n",
       "        vertical-align: middle;\n",
       "    }\n",
       "\n",
       "    .dataframe tbody tr th {\n",
       "        vertical-align: top;\n",
       "    }\n",
       "\n",
       "    .dataframe thead th {\n",
       "        text-align: right;\n",
       "    }\n",
       "</style>\n",
       "<table border=\"1\" class=\"dataframe\">\n",
       "  <thead>\n",
       "    <tr style=\"text-align: right;\">\n",
       "      <th>debt</th>\n",
       "      <th>0</th>\n",
       "      <th>1</th>\n",
       "      <th>ratio</th>\n",
       "    </tr>\n",
       "    <tr>\n",
       "      <th>family_status</th>\n",
       "      <th></th>\n",
       "      <th></th>\n",
       "      <th></th>\n",
       "    </tr>\n",
       "  </thead>\n",
       "  <tbody>\n",
       "    <tr>\n",
       "      <th>Не женат / не замужем</th>\n",
       "      <td>2536</td>\n",
       "      <td>274</td>\n",
       "      <td>0.098</td>\n",
       "    </tr>\n",
       "    <tr>\n",
       "      <th>гражданский брак</th>\n",
       "      <td>3763</td>\n",
       "      <td>388</td>\n",
       "      <td>0.093</td>\n",
       "    </tr>\n",
       "    <tr>\n",
       "      <th>женат / замужем</th>\n",
       "      <td>11408</td>\n",
       "      <td>931</td>\n",
       "      <td>0.075</td>\n",
       "    </tr>\n",
       "    <tr>\n",
       "      <th>в разводе</th>\n",
       "      <td>1110</td>\n",
       "      <td>85</td>\n",
       "      <td>0.071</td>\n",
       "    </tr>\n",
       "    <tr>\n",
       "      <th>вдовец / вдова</th>\n",
       "      <td>896</td>\n",
       "      <td>63</td>\n",
       "      <td>0.066</td>\n",
       "    </tr>\n",
       "  </tbody>\n",
       "</table>\n",
       "</div>"
      ],
      "text/plain": [
       "debt                       0    1  ratio\n",
       "family_status                           \n",
       "Не женат / не замужем   2536  274  0.098\n",
       "гражданский брак        3763  388  0.093\n",
       "женат / замужем        11408  931  0.075\n",
       "в разводе               1110   85  0.071\n",
       "вдовец / вдова           896   63  0.066"
      ]
     },
     "execution_count": 23,
     "metadata": {},
     "output_type": "execute_result"
    }
   ],
   "source": [
    "pivot_family = data.pivot_table(index = ['family_status'], columns = 'debt', values = 'gender', aggfunc = 'count')\n",
    "pivot_family['ratio'] = pivot_family[1] / (pivot_family[0] + pivot_family[1])\n",
    "pivot_family.sort_values('ratio', ascending = False).round(3)"
   ]
  },
  {
   "cell_type": "markdown",
   "metadata": {},
   "source": [
    "**Вывод**"
   ]
  },
  {
   "cell_type": "markdown",
   "metadata": {},
   "source": [
    "Для клиентов, которые никогда не состояли в официальному браке процент просрочек выше. Возможно, это обусловлено некоторой безответственностью и меньшим уровнем финансовой дисциплиной у заемщиков, которые привыкли следить только за личным бюджетом.\n",
    "Нахождение заемщика в гражданском браке не способствует лучшей платежеспособности заемщика, в отличие от зарегистрированного брака."
   ]
  },
  {
   "cell_type": "markdown",
   "metadata": {},
   "source": [
    "- Есть ли зависимость между уровнем дохода и возвратом кредита в срок?"
   ]
  },
  {
   "cell_type": "code",
   "execution_count": 24,
   "metadata": {},
   "outputs": [
    {
     "data": {
      "text/plain": [
       "count      21454.00\n",
       "mean      165319.57\n",
       "std        98187.30\n",
       "min        20667.00\n",
       "25%       107623.00\n",
       "50%       142594.00\n",
       "75%       195820.25\n",
       "max      2265604.00\n",
       "Name: total_income, dtype: float64"
      ]
     },
     "execution_count": 24,
     "metadata": {},
     "output_type": "execute_result"
    }
   ],
   "source": [
    "data['total_income'].describe().round(2)"
   ]
  },
  {
   "cell_type": "markdown",
   "metadata": {},
   "source": [
    "Для удобства выделим разделим доходы заемщиком на 4 группы по квантилям"
   ]
  },
  {
   "cell_type": "code",
   "execution_count": 25,
   "metadata": {},
   "outputs": [],
   "source": [
    "data['income_group'] = pd.qcut(data['total_income'],4)"
   ]
  },
  {
   "cell_type": "code",
   "execution_count": 26,
   "metadata": {},
   "outputs": [
    {
     "data": {
      "text/html": [
       "<div>\n",
       "<style scoped>\n",
       "    .dataframe tbody tr th:only-of-type {\n",
       "        vertical-align: middle;\n",
       "    }\n",
       "\n",
       "    .dataframe tbody tr th {\n",
       "        vertical-align: top;\n",
       "    }\n",
       "\n",
       "    .dataframe thead th {\n",
       "        text-align: right;\n",
       "    }\n",
       "</style>\n",
       "<table border=\"1\" class=\"dataframe\">\n",
       "  <thead>\n",
       "    <tr style=\"text-align: right;\">\n",
       "      <th>debt</th>\n",
       "      <th>0</th>\n",
       "      <th>1</th>\n",
       "      <th>ratio</th>\n",
       "    </tr>\n",
       "    <tr>\n",
       "      <th>income_group</th>\n",
       "      <th></th>\n",
       "      <th></th>\n",
       "      <th></th>\n",
       "    </tr>\n",
       "  </thead>\n",
       "  <tbody>\n",
       "    <tr>\n",
       "      <th>(20666.999, 107623.0]</th>\n",
       "      <td>4937</td>\n",
       "      <td>427</td>\n",
       "      <td>0.080</td>\n",
       "    </tr>\n",
       "    <tr>\n",
       "      <th>(107623.0, 142594.0]</th>\n",
       "      <td>4996</td>\n",
       "      <td>483</td>\n",
       "      <td>0.088</td>\n",
       "    </tr>\n",
       "    <tr>\n",
       "      <th>(142594.0, 195820.25]</th>\n",
       "      <td>4799</td>\n",
       "      <td>448</td>\n",
       "      <td>0.085</td>\n",
       "    </tr>\n",
       "    <tr>\n",
       "      <th>(195820.25, 2265604.0]</th>\n",
       "      <td>4981</td>\n",
       "      <td>383</td>\n",
       "      <td>0.071</td>\n",
       "    </tr>\n",
       "  </tbody>\n",
       "</table>\n",
       "</div>"
      ],
      "text/plain": [
       "debt                       0    1  ratio\n",
       "income_group                            \n",
       "(20666.999, 107623.0]   4937  427  0.080\n",
       "(107623.0, 142594.0]    4996  483  0.088\n",
       "(142594.0, 195820.25]   4799  448  0.085\n",
       "(195820.25, 2265604.0]  4981  383  0.071"
      ]
     },
     "execution_count": 26,
     "metadata": {},
     "output_type": "execute_result"
    }
   ],
   "source": [
    "pivot_income = data.pivot_table(index = ['income_group'], columns = 'debt', values = 'gender', aggfunc = 'count')\n",
    "pivot_income['ratio'] = pivot_income[1] / (pivot_income[0] + pivot_income[1])\n",
    "pivot_income.round(3)"
   ]
  },
  {
   "cell_type": "markdown",
   "metadata": {},
   "source": [
    "**Вывод**"
   ]
  },
  {
   "cell_type": "markdown",
   "metadata": {},
   "source": [
    "Получившиеся вероятности задолженности групп заемщиков:\n",
    "\n",
    "доход менее 107,6 тыс. руб. = 8%\n",
    "доход в диапазоне от 107,6 до 142,6 тыс. руб. = 8,8%\n",
    "доход в диапазоне от 142,6 до 195,8 тыс. руб. = 8,5%\n",
    "доход свыше 195,8 тыс.руб. = 7,1%\n",
    "\n",
    "Наилучшая платежеспособность у клиентов, которые получают свыше 195,8 т.р. Возможно это обусловлено тем, что такая группа заемщиков берёт больше кредитов на инвестиционные цели,которые приносят дополнительный доход, что способствует возвратам кредитов. Зачастую клиенты с высокими доходами имеют свой бизнес, что может послужить стимул в сохранении положительной кредитной истории.\n",
    "Следом идут клиенты, входящие в группу с наименьшим  уровнем доходов: до 107,6 т.р., что кажется контринтуитивным, но может объяснятся тем, что клиенты берут небольшие суммы кредитов. \n",
    "Набольшая доля просроченной задолженности наблюдается у клиентов с доходом от 107,6 т.р. до 195,8 т.р."
   ]
  },
  {
   "cell_type": "markdown",
   "metadata": {},
   "source": [
    "- Как разные цели кредита влияют на его возврат в срок?"
   ]
  },
  {
   "cell_type": "code",
   "execution_count": 27,
   "metadata": {},
   "outputs": [
    {
     "data": {
      "text/html": [
       "<div>\n",
       "<style scoped>\n",
       "    .dataframe tbody tr th:only-of-type {\n",
       "        vertical-align: middle;\n",
       "    }\n",
       "\n",
       "    .dataframe tbody tr th {\n",
       "        vertical-align: top;\n",
       "    }\n",
       "\n",
       "    .dataframe thead th {\n",
       "        text-align: right;\n",
       "    }\n",
       "</style>\n",
       "<table border=\"1\" class=\"dataframe\">\n",
       "  <thead>\n",
       "    <tr style=\"text-align: right;\">\n",
       "      <th>debt</th>\n",
       "      <th>0</th>\n",
       "      <th>1</th>\n",
       "      <th>ratio</th>\n",
       "    </tr>\n",
       "    <tr>\n",
       "      <th>purpose</th>\n",
       "      <th></th>\n",
       "      <th></th>\n",
       "      <th></th>\n",
       "    </tr>\n",
       "  </thead>\n",
       "  <tbody>\n",
       "    <tr>\n",
       "      <th>автокредит</th>\n",
       "      <td>3903</td>\n",
       "      <td>403</td>\n",
       "      <td>0.094</td>\n",
       "    </tr>\n",
       "    <tr>\n",
       "      <th>недвижимость</th>\n",
       "      <td>10029</td>\n",
       "      <td>782</td>\n",
       "      <td>0.072</td>\n",
       "    </tr>\n",
       "    <tr>\n",
       "      <th>образование</th>\n",
       "      <td>3643</td>\n",
       "      <td>370</td>\n",
       "      <td>0.092</td>\n",
       "    </tr>\n",
       "    <tr>\n",
       "      <th>свадьба</th>\n",
       "      <td>2138</td>\n",
       "      <td>186</td>\n",
       "      <td>0.080</td>\n",
       "    </tr>\n",
       "  </tbody>\n",
       "</table>\n",
       "</div>"
      ],
      "text/plain": [
       "debt              0    1  ratio\n",
       "purpose                        \n",
       "автокредит     3903  403  0.094\n",
       "недвижимость  10029  782  0.072\n",
       "образование    3643  370  0.092\n",
       "свадьба        2138  186  0.080"
      ]
     },
     "execution_count": 27,
     "metadata": {},
     "output_type": "execute_result"
    }
   ],
   "source": [
    "pivot_purpose = data.pivot_table(index='purpose', columns ='debt', values = 'gender',aggfunc='count')\n",
    "pivot_purpose['ratio'] = pivot_purpose[1] / (pivot_purpose[0] + pivot_purpose[1])\n",
    "pivot_purpose.round(3)"
   ]
  },
  {
   "cell_type": "markdown",
   "metadata": {},
   "source": [
    "**Вывод**"
   ]
  },
  {
   "cell_type": "markdown",
   "metadata": {},
   "source": [
    "Вероятность задолженности для каждой цели получения кредита от большей к меньшей:\n",
    "\n",
    "1. автомобиль - 9,4%\n",
    "2. образование - 9,2%\n",
    "3. свадьба - 8%\n",
    "4. недвижимость - 7,2%\n",
    "Лучшая платежеспособность наблюдается у клиентов, которые берут кредиты на цели связанные с приобретение недвижимости.\n",
    "Причины этого могут быть следующие:\n",
    "- более низкие ставки по ипотечным кредитам, по сравнению с потребительскими кредитами;\n",
    "- обычно по таким кредитам приобретаемое имущество находится в залоге у банка и клиенты заинтересованы в соблюдении кредитной дисциплины, чтобы заложенное имущество не было изъято.\n",
    "- в случае приобретения недвижимости в коммерческих целях (продажа, сдача в аренду), клиенты могут гасить кредиты частично или полностью за счёт денежных поступлений от этих операций.\n",
    "\n",
    "Второй по уровню возвратов целью является свадьба, что может обусловлено тем, что в случае необходимости кредит могу погашать оба супруга, это также коррелирует с выводом, что у клиентов, находящихся в браке лучшая платежная дисциплина.\n",
    "\n",
    "Высокая доля просрочек по кредитам на образование может объяснятся тем, что их в основном берут студенты, у которых может не быть стабильного заработка, доходы на стартовых позициях довольно скромные для содержания долга.\n",
    "\n",
    "Наибольшая вероятность просрочек у автокредитов так же логична, зачастую именно по этим кредитам выявляется наибольшая доля мошенничества. Приобретенные за счет кредита автомобили могут быть повреждены, что является причиной для некоторых клиентов не осуществлять платежи по кредитам вовремя пока не будет получено страховое возмещение.\n"
   ]
  },
  {
   "cell_type": "markdown",
   "metadata": {},
   "source": [
    "## Общий вывод <a id=\"conclusion\"></a>"
   ]
  },
  {
   "cell_type": "markdown",
   "metadata": {},
   "source": [
    "Лучший заемщик с точки зрения вероятности возврата кредита: клиент, который находится или находился в официально браке, у которого нет детей, доходы у которого выше 195,8 тыс.руб., целью получения кредита которого является приобретение недвижимости.\n",
    "\n",
    "Данные исследования можно использовать в посторении скоринговой модели для оценки платежеспособности заемщика."
   ]
  }
 ],
 "metadata": {
  "ExecuteTimeLog": [
   {
    "duration": 1154,
    "start_time": "2023-10-16T19:57:25.440Z"
   },
   {
    "duration": 1826,
    "start_time": "2023-10-18T13:57:34.571Z"
   },
   {
    "duration": 150,
    "start_time": "2023-10-18T13:57:36.400Z"
   },
   {
    "duration": 13,
    "start_time": "2023-10-18T13:57:36.552Z"
   },
   {
    "duration": 740,
    "start_time": "2023-10-18T13:57:36.568Z"
   },
   {
    "duration": 7,
    "start_time": "2023-10-18T13:57:37.310Z"
   },
   {
    "duration": 42,
    "start_time": "2023-10-18T13:57:37.320Z"
   },
   {
    "duration": 23,
    "start_time": "2023-10-18T13:57:37.364Z"
   },
   {
    "duration": 26,
    "start_time": "2023-10-18T13:57:37.390Z"
   },
   {
    "duration": 19,
    "start_time": "2023-10-18T13:57:37.418Z"
   },
   {
    "duration": 18,
    "start_time": "2023-10-18T13:57:37.441Z"
   },
   {
    "duration": 21,
    "start_time": "2023-10-18T13:57:37.462Z"
   },
   {
    "duration": 36,
    "start_time": "2023-10-18T13:57:37.485Z"
   },
   {
    "duration": 19,
    "start_time": "2023-10-18T13:57:37.523Z"
   },
   {
    "duration": 39,
    "start_time": "2023-10-18T13:57:37.544Z"
   },
   {
    "duration": 36,
    "start_time": "2023-10-18T13:57:37.585Z"
   },
   {
    "duration": 9,
    "start_time": "2023-10-18T13:57:37.623Z"
   },
   {
    "duration": 4255,
    "start_time": "2023-10-18T13:57:37.633Z"
   },
   {
    "duration": 20,
    "start_time": "2023-10-18T13:57:41.890Z"
   },
   {
    "duration": 23,
    "start_time": "2023-10-18T13:57:41.911Z"
   },
   {
    "duration": 26,
    "start_time": "2023-10-18T13:57:41.937Z"
   },
   {
    "duration": 23,
    "start_time": "2023-10-18T13:57:41.965Z"
   },
   {
    "duration": 39,
    "start_time": "2023-10-18T13:57:41.990Z"
   },
   {
    "duration": 23,
    "start_time": "2023-10-18T13:57:42.031Z"
   },
   {
    "duration": 10,
    "start_time": "2023-10-18T13:57:42.056Z"
   },
   {
    "duration": 22,
    "start_time": "2023-10-18T13:57:42.069Z"
   },
   {
    "duration": 551,
    "start_time": "2023-10-18T13:57:42.093Z"
   },
   {
    "duration": 32,
    "start_time": "2023-10-18T13:57:42.645Z"
   },
   {
    "duration": 847,
    "start_time": "2023-10-18T13:58:21.083Z"
   },
   {
    "duration": 95,
    "start_time": "2023-10-18T13:58:21.933Z"
   },
   {
    "duration": 28,
    "start_time": "2023-10-18T13:58:22.029Z"
   },
   {
    "duration": 506,
    "start_time": "2023-10-18T13:58:22.060Z"
   },
   {
    "duration": 6,
    "start_time": "2023-10-18T13:58:22.568Z"
   },
   {
    "duration": 21,
    "start_time": "2023-10-18T13:58:22.575Z"
   },
   {
    "duration": 14,
    "start_time": "2023-10-18T13:58:22.598Z"
   },
   {
    "duration": 14,
    "start_time": "2023-10-18T13:58:22.614Z"
   },
   {
    "duration": 18,
    "start_time": "2023-10-18T13:58:22.647Z"
   },
   {
    "duration": 15,
    "start_time": "2023-10-18T13:58:22.667Z"
   },
   {
    "duration": 14,
    "start_time": "2023-10-18T13:58:22.684Z"
   },
   {
    "duration": 43,
    "start_time": "2023-10-18T13:58:22.699Z"
   },
   {
    "duration": 26,
    "start_time": "2023-10-18T13:58:22.744Z"
   },
   {
    "duration": 43,
    "start_time": "2023-10-18T13:58:22.772Z"
   },
   {
    "duration": 35,
    "start_time": "2023-10-18T13:58:22.816Z"
   },
   {
    "duration": 8,
    "start_time": "2023-10-18T13:58:22.853Z"
   },
   {
    "duration": 4027,
    "start_time": "2023-10-18T13:58:22.863Z"
   },
   {
    "duration": 26,
    "start_time": "2023-10-18T13:58:26.893Z"
   },
   {
    "duration": 40,
    "start_time": "2023-10-18T13:58:26.921Z"
   },
   {
    "duration": 6,
    "start_time": "2023-10-18T13:58:26.963Z"
   },
   {
    "duration": 12,
    "start_time": "2023-10-18T13:58:26.971Z"
   },
   {
    "duration": 27,
    "start_time": "2023-10-18T13:58:26.985Z"
   },
   {
    "duration": 49,
    "start_time": "2023-10-18T13:58:27.014Z"
   },
   {
    "duration": 15,
    "start_time": "2023-10-18T13:58:27.065Z"
   },
   {
    "duration": 32,
    "start_time": "2023-10-18T13:58:27.082Z"
   },
   {
    "duration": 108,
    "start_time": "2023-10-18T13:58:27.115Z"
   },
   {
    "duration": 23,
    "start_time": "2023-10-18T13:58:27.225Z"
   }
  ],
  "kernelspec": {
   "display_name": "Python 3 (ipykernel)",
   "language": "python",
   "name": "python3"
  },
  "language_info": {
   "codemirror_mode": {
    "name": "ipython",
    "version": 3
   },
   "file_extension": ".py",
   "mimetype": "text/x-python",
   "name": "python",
   "nbconvert_exporter": "python",
   "pygments_lexer": "ipython3",
   "version": "3.9.5"
  },
  "toc": {
   "base_numbering": 1,
   "nav_menu": {},
   "number_sections": true,
   "sideBar": true,
   "skip_h1_title": true,
   "title_cell": "Table of Contents",
   "title_sidebar": "Contents",
   "toc_cell": false,
   "toc_position": {
    "height": "calc(100% - 180px)",
    "left": "10px",
    "top": "150px",
    "width": "318.391px"
   },
   "toc_section_display": true,
   "toc_window_display": false
  }
 },
 "nbformat": 4,
 "nbformat_minor": 2
}
