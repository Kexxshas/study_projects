{
 "cells": [
  {
   "cell_type": "markdown",
   "metadata": {},
   "source": [
    "# Определение стоимости автомобилей"
   ]
  },
  {
   "cell_type": "markdown",
   "metadata": {},
   "source": [
    "**ЦЕЛЬ:** построить модель предсказания стоимости автомобиля по его характеристикам\n",
    "\n",
    "**Задачи:**\n",
    "1. Провести анализ и обработку данных\n",
    "2. Построить несколько моделей \n",
    "3. Сравнить модели между собой"
   ]
  },
  {
   "cell_type": "markdown",
   "metadata": {},
   "source": [
    "## Подготовка данных"
   ]
  },
  {
   "cell_type": "code",
   "execution_count": 2,
   "metadata": {},
   "outputs": [],
   "source": [
    "import pandas as pd\n",
    "import numpy as np\n",
    "import seaborn as sns\n",
    "import matplotlib.pyplot as plt\n",
    "import datetime as dt\n",
    "import time\n",
    "import lightgbm as lgb\n",
    "from lightgbm import LGBMRegressor\n",
    "from sklearn.preprocessing import StandardScaler, OrdinalEncoder\n",
    "from sklearn.model_selection import train_test_split\n",
    "from sklearn.metrics import mean_squared_error\n",
    "from sklearn.ensemble import RandomForestRegressor\n",
    "from sklearn.linear_model import LinearRegression\n",
    "from catboost import CatBoostRegressor\n",
    "from sklearn.model_selection import RandomizedSearchCV\n",
    "from sklearn.dummy import DummyRegressor\n",
    "import warnings\n",
    "warnings.simplefilter(action='ignore', category=FutureWarning)"
   ]
  },
  {
   "cell_type": "code",
   "execution_count": 3,
   "metadata": {},
   "outputs": [
    {
     "name": "stdout",
     "output_type": "stream",
     "text": [
      "<class 'pandas.core.frame.DataFrame'>\n",
      "RangeIndex: 354369 entries, 0 to 354368\n",
      "Data columns (total 16 columns):\n",
      " #   Column             Non-Null Count   Dtype \n",
      "---  ------             --------------   ----- \n",
      " 0   DateCrawled        354369 non-null  object\n",
      " 1   Price              354369 non-null  int64 \n",
      " 2   VehicleType        316879 non-null  object\n",
      " 3   RegistrationYear   354369 non-null  int64 \n",
      " 4   Gearbox            334536 non-null  object\n",
      " 5   Power              354369 non-null  int64 \n",
      " 6   Model              334664 non-null  object\n",
      " 7   Kilometer          354369 non-null  int64 \n",
      " 8   RegistrationMonth  354369 non-null  int64 \n",
      " 9   FuelType           321474 non-null  object\n",
      " 10  Brand              354369 non-null  object\n",
      " 11  Repaired           283215 non-null  object\n",
      " 12  DateCreated        354369 non-null  object\n",
      " 13  NumberOfPictures   354369 non-null  int64 \n",
      " 14  PostalCode         354369 non-null  int64 \n",
      " 15  LastSeen           354369 non-null  object\n",
      "dtypes: int64(7), object(9)\n",
      "memory usage: 43.3+ MB\n"
     ]
    }
   ],
   "source": [
    "data = pd.read_csv('autos.csv')\n",
    "data.info()"
   ]
  },
  {
   "cell_type": "code",
   "execution_count": 3,
   "metadata": {},
   "outputs": [
    {
     "data": {
      "text/plain": [
       "Index(['date_crawled', 'price', 'vehicle_type', 'registration_year', 'gearbox',\n",
       "       'power', 'model', 'kilometer', 'registration_month', 'fuel_type',\n",
       "       'brand', 'not_repaired', 'date_created', 'number_of_pictures',\n",
       "       'postal_code', 'last_seen'],\n",
       "      dtype='object')"
      ]
     },
     "execution_count": 3,
     "metadata": {},
     "output_type": "execute_result"
    }
   ],
   "source": [
    "# Отформатируем названия столбцов датафрейма\n",
    "data.columns = ['date_crawled', 'price', 'vehicle_type', 'registration_year', 'gearbox',\n",
    "                 'power', 'model', 'kilometer', 'registration_month', 'fuel_type', 'brand',\n",
    "                 'not_repaired', 'date_created', 'number_of_pictures', 'postal_code','last_seen']\n",
    "data.columns"
   ]
  },
  {
   "cell_type": "code",
   "execution_count": 4,
   "metadata": {},
   "outputs": [
    {
     "data": {
      "text/html": [
       "<div>\n",
       "<style scoped>\n",
       "    .dataframe tbody tr th:only-of-type {\n",
       "        vertical-align: middle;\n",
       "    }\n",
       "\n",
       "    .dataframe tbody tr th {\n",
       "        vertical-align: top;\n",
       "    }\n",
       "\n",
       "    .dataframe thead th {\n",
       "        text-align: right;\n",
       "    }\n",
       "</style>\n",
       "<table border=\"1\" class=\"dataframe\">\n",
       "  <thead>\n",
       "    <tr style=\"text-align: right;\">\n",
       "      <th></th>\n",
       "      <th>price</th>\n",
       "      <th>registration_year</th>\n",
       "      <th>power</th>\n",
       "      <th>kilometer</th>\n",
       "      <th>registration_month</th>\n",
       "      <th>number_of_pictures</th>\n",
       "      <th>postal_code</th>\n",
       "    </tr>\n",
       "  </thead>\n",
       "  <tbody>\n",
       "    <tr>\n",
       "      <td>count</td>\n",
       "      <td>354369.00</td>\n",
       "      <td>354369.00</td>\n",
       "      <td>354369.00</td>\n",
       "      <td>354369.00</td>\n",
       "      <td>354369.00</td>\n",
       "      <td>354369.0</td>\n",
       "      <td>354369.00</td>\n",
       "    </tr>\n",
       "    <tr>\n",
       "      <td>mean</td>\n",
       "      <td>4416.66</td>\n",
       "      <td>2004.23</td>\n",
       "      <td>110.09</td>\n",
       "      <td>128211.17</td>\n",
       "      <td>5.71</td>\n",
       "      <td>0.0</td>\n",
       "      <td>50508.69</td>\n",
       "    </tr>\n",
       "    <tr>\n",
       "      <td>std</td>\n",
       "      <td>4514.16</td>\n",
       "      <td>90.23</td>\n",
       "      <td>189.85</td>\n",
       "      <td>37905.34</td>\n",
       "      <td>3.73</td>\n",
       "      <td>0.0</td>\n",
       "      <td>25783.10</td>\n",
       "    </tr>\n",
       "    <tr>\n",
       "      <td>min</td>\n",
       "      <td>0.00</td>\n",
       "      <td>1000.00</td>\n",
       "      <td>0.00</td>\n",
       "      <td>5000.00</td>\n",
       "      <td>0.00</td>\n",
       "      <td>0.0</td>\n",
       "      <td>1067.00</td>\n",
       "    </tr>\n",
       "    <tr>\n",
       "      <td>25%</td>\n",
       "      <td>1050.00</td>\n",
       "      <td>1999.00</td>\n",
       "      <td>69.00</td>\n",
       "      <td>125000.00</td>\n",
       "      <td>3.00</td>\n",
       "      <td>0.0</td>\n",
       "      <td>30165.00</td>\n",
       "    </tr>\n",
       "    <tr>\n",
       "      <td>50%</td>\n",
       "      <td>2700.00</td>\n",
       "      <td>2003.00</td>\n",
       "      <td>105.00</td>\n",
       "      <td>150000.00</td>\n",
       "      <td>6.00</td>\n",
       "      <td>0.0</td>\n",
       "      <td>49413.00</td>\n",
       "    </tr>\n",
       "    <tr>\n",
       "      <td>75%</td>\n",
       "      <td>6400.00</td>\n",
       "      <td>2008.00</td>\n",
       "      <td>143.00</td>\n",
       "      <td>150000.00</td>\n",
       "      <td>9.00</td>\n",
       "      <td>0.0</td>\n",
       "      <td>71083.00</td>\n",
       "    </tr>\n",
       "    <tr>\n",
       "      <td>max</td>\n",
       "      <td>20000.00</td>\n",
       "      <td>9999.00</td>\n",
       "      <td>20000.00</td>\n",
       "      <td>150000.00</td>\n",
       "      <td>12.00</td>\n",
       "      <td>0.0</td>\n",
       "      <td>99998.00</td>\n",
       "    </tr>\n",
       "  </tbody>\n",
       "</table>\n",
       "</div>"
      ],
      "text/plain": [
       "           price  registration_year      power  kilometer  registration_month  \\\n",
       "count  354369.00          354369.00  354369.00  354369.00           354369.00   \n",
       "mean     4416.66            2004.23     110.09  128211.17                5.71   \n",
       "std      4514.16              90.23     189.85   37905.34                3.73   \n",
       "min         0.00            1000.00       0.00    5000.00                0.00   \n",
       "25%      1050.00            1999.00      69.00  125000.00                3.00   \n",
       "50%      2700.00            2003.00     105.00  150000.00                6.00   \n",
       "75%      6400.00            2008.00     143.00  150000.00                9.00   \n",
       "max     20000.00            9999.00   20000.00  150000.00               12.00   \n",
       "\n",
       "       number_of_pictures  postal_code  \n",
       "count            354369.0    354369.00  \n",
       "mean                  0.0     50508.69  \n",
       "std                   0.0     25783.10  \n",
       "min                   0.0      1067.00  \n",
       "25%                   0.0     30165.00  \n",
       "50%                   0.0     49413.00  \n",
       "75%                   0.0     71083.00  \n",
       "max                   0.0     99998.00  "
      ]
     },
     "execution_count": 4,
     "metadata": {},
     "output_type": "execute_result"
    }
   ],
   "source": [
    "data.describe().round(2)"
   ]
  },
  {
   "cell_type": "code",
   "execution_count": 5,
   "metadata": {},
   "outputs": [
    {
     "data": {
      "text/html": [
       "<div>\n",
       "<style scoped>\n",
       "    .dataframe tbody tr th:only-of-type {\n",
       "        vertical-align: middle;\n",
       "    }\n",
       "\n",
       "    .dataframe tbody tr th {\n",
       "        vertical-align: top;\n",
       "    }\n",
       "\n",
       "    .dataframe thead th {\n",
       "        text-align: right;\n",
       "    }\n",
       "</style>\n",
       "<table border=\"1\" class=\"dataframe\">\n",
       "  <thead>\n",
       "    <tr style=\"text-align: right;\">\n",
       "      <th></th>\n",
       "      <th>date_crawled</th>\n",
       "      <th>price</th>\n",
       "      <th>vehicle_type</th>\n",
       "      <th>registration_year</th>\n",
       "      <th>gearbox</th>\n",
       "      <th>power</th>\n",
       "      <th>model</th>\n",
       "      <th>kilometer</th>\n",
       "      <th>registration_month</th>\n",
       "      <th>fuel_type</th>\n",
       "      <th>brand</th>\n",
       "      <th>not_repaired</th>\n",
       "      <th>date_created</th>\n",
       "      <th>number_of_pictures</th>\n",
       "      <th>postal_code</th>\n",
       "      <th>last_seen</th>\n",
       "    </tr>\n",
       "  </thead>\n",
       "  <tbody>\n",
       "    <tr>\n",
       "      <td>0</td>\n",
       "      <td>2016-03-24 11:52:17</td>\n",
       "      <td>480</td>\n",
       "      <td>NaN</td>\n",
       "      <td>1993</td>\n",
       "      <td>manual</td>\n",
       "      <td>0</td>\n",
       "      <td>golf</td>\n",
       "      <td>150000</td>\n",
       "      <td>0</td>\n",
       "      <td>petrol</td>\n",
       "      <td>volkswagen</td>\n",
       "      <td>NaN</td>\n",
       "      <td>2016-03-24 00:00:00</td>\n",
       "      <td>0</td>\n",
       "      <td>70435</td>\n",
       "      <td>2016-04-07 03:16:57</td>\n",
       "    </tr>\n",
       "    <tr>\n",
       "      <td>1</td>\n",
       "      <td>2016-03-24 10:58:45</td>\n",
       "      <td>18300</td>\n",
       "      <td>coupe</td>\n",
       "      <td>2011</td>\n",
       "      <td>manual</td>\n",
       "      <td>190</td>\n",
       "      <td>NaN</td>\n",
       "      <td>125000</td>\n",
       "      <td>5</td>\n",
       "      <td>gasoline</td>\n",
       "      <td>audi</td>\n",
       "      <td>yes</td>\n",
       "      <td>2016-03-24 00:00:00</td>\n",
       "      <td>0</td>\n",
       "      <td>66954</td>\n",
       "      <td>2016-04-07 01:46:50</td>\n",
       "    </tr>\n",
       "    <tr>\n",
       "      <td>2</td>\n",
       "      <td>2016-03-14 12:52:21</td>\n",
       "      <td>9800</td>\n",
       "      <td>suv</td>\n",
       "      <td>2004</td>\n",
       "      <td>auto</td>\n",
       "      <td>163</td>\n",
       "      <td>grand</td>\n",
       "      <td>125000</td>\n",
       "      <td>8</td>\n",
       "      <td>gasoline</td>\n",
       "      <td>jeep</td>\n",
       "      <td>NaN</td>\n",
       "      <td>2016-03-14 00:00:00</td>\n",
       "      <td>0</td>\n",
       "      <td>90480</td>\n",
       "      <td>2016-04-05 12:47:46</td>\n",
       "    </tr>\n",
       "    <tr>\n",
       "      <td>3</td>\n",
       "      <td>2016-03-17 16:54:04</td>\n",
       "      <td>1500</td>\n",
       "      <td>small</td>\n",
       "      <td>2001</td>\n",
       "      <td>manual</td>\n",
       "      <td>75</td>\n",
       "      <td>golf</td>\n",
       "      <td>150000</td>\n",
       "      <td>6</td>\n",
       "      <td>petrol</td>\n",
       "      <td>volkswagen</td>\n",
       "      <td>no</td>\n",
       "      <td>2016-03-17 00:00:00</td>\n",
       "      <td>0</td>\n",
       "      <td>91074</td>\n",
       "      <td>2016-03-17 17:40:17</td>\n",
       "    </tr>\n",
       "    <tr>\n",
       "      <td>4</td>\n",
       "      <td>2016-03-31 17:25:20</td>\n",
       "      <td>3600</td>\n",
       "      <td>small</td>\n",
       "      <td>2008</td>\n",
       "      <td>manual</td>\n",
       "      <td>69</td>\n",
       "      <td>fabia</td>\n",
       "      <td>90000</td>\n",
       "      <td>7</td>\n",
       "      <td>gasoline</td>\n",
       "      <td>skoda</td>\n",
       "      <td>no</td>\n",
       "      <td>2016-03-31 00:00:00</td>\n",
       "      <td>0</td>\n",
       "      <td>60437</td>\n",
       "      <td>2016-04-06 10:17:21</td>\n",
       "    </tr>\n",
       "  </tbody>\n",
       "</table>\n",
       "</div>"
      ],
      "text/plain": [
       "          date_crawled  price vehicle_type  registration_year gearbox  power  \\\n",
       "0  2016-03-24 11:52:17    480          NaN               1993  manual      0   \n",
       "1  2016-03-24 10:58:45  18300        coupe               2011  manual    190   \n",
       "2  2016-03-14 12:52:21   9800          suv               2004    auto    163   \n",
       "3  2016-03-17 16:54:04   1500        small               2001  manual     75   \n",
       "4  2016-03-31 17:25:20   3600        small               2008  manual     69   \n",
       "\n",
       "   model  kilometer  registration_month fuel_type       brand not_repaired  \\\n",
       "0   golf     150000                   0    petrol  volkswagen          NaN   \n",
       "1    NaN     125000                   5  gasoline        audi          yes   \n",
       "2  grand     125000                   8  gasoline        jeep          NaN   \n",
       "3   golf     150000                   6    petrol  volkswagen           no   \n",
       "4  fabia      90000                   7  gasoline       skoda           no   \n",
       "\n",
       "          date_created  number_of_pictures  postal_code            last_seen  \n",
       "0  2016-03-24 00:00:00                   0        70435  2016-04-07 03:16:57  \n",
       "1  2016-03-24 00:00:00                   0        66954  2016-04-07 01:46:50  \n",
       "2  2016-03-14 00:00:00                   0        90480  2016-04-05 12:47:46  \n",
       "3  2016-03-17 00:00:00                   0        91074  2016-03-17 17:40:17  \n",
       "4  2016-03-31 00:00:00                   0        60437  2016-04-06 10:17:21  "
      ]
     },
     "execution_count": 5,
     "metadata": {},
     "output_type": "execute_result"
    }
   ],
   "source": [
    "data.head()"
   ]
  },
  {
   "cell_type": "code",
   "execution_count": 6,
   "metadata": {},
   "outputs": [
    {
     "data": {
      "text/plain": [
       "date_crawled              0\n",
       "price                     0\n",
       "vehicle_type          37490\n",
       "registration_year         0\n",
       "gearbox               19833\n",
       "power                     0\n",
       "model                 19705\n",
       "kilometer                 0\n",
       "registration_month        0\n",
       "fuel_type             32895\n",
       "brand                     0\n",
       "not_repaired          71154\n",
       "date_created              0\n",
       "number_of_pictures        0\n",
       "postal_code               0\n",
       "last_seen                 0\n",
       "dtype: int64"
      ]
     },
     "execution_count": 6,
     "metadata": {},
     "output_type": "execute_result"
    }
   ],
   "source": [
    "# Определим пропуски в данных\n",
    "data.isna().sum()"
   ]
  },
  {
   "cell_type": "markdown",
   "metadata": {},
   "source": [
    "Посмотрев на данные, можно отметить следующее:\n",
    "- имеются пропуски в столбцах`vehicle_type`, `gearbox`,`model`,`fuel_type`, `not_repaired`;\n",
    "- в столбце `registration_year` есть как нереалистично маленькие, так и большие значения;\n",
    "- в столбце `power` имеются аномально большие значения;\n",
    "- в столбце `registration_month` имеются 13 месяцев вместо 12;\n",
    "- в столбце `number_of_pictures` в каждой записи отсутствуют фотографии;\n",
    "- в данных есть два столбца с датами: дата скачивания анкеты и дата создания анкеты, есть большая вероятность наличия мультиколлинеарности между этими признаками."
   ]
  },
  {
   "cell_type": "code",
   "execution_count": 7,
   "metadata": {},
   "outputs": [
    {
     "data": {
      "text/plain": [
       "date_crawled          datetime64[ns]\n",
       "price                          int64\n",
       "vehicle_type                  object\n",
       "registration_year              int64\n",
       "gearbox                       object\n",
       "power                          int64\n",
       "model                         object\n",
       "kilometer                      int64\n",
       "registration_month             int64\n",
       "fuel_type                     object\n",
       "brand                         object\n",
       "not_repaired                  object\n",
       "date_created          datetime64[ns]\n",
       "number_of_pictures             int64\n",
       "postal_code                    int64\n",
       "last_seen             datetime64[ns]\n",
       "dtype: object"
      ]
     },
     "execution_count": 7,
     "metadata": {},
     "output_type": "execute_result"
    }
   ],
   "source": [
    "# Преобразуем формат столбцов с датами\n",
    "date = ['date_crawled','date_created', 'last_seen']\n",
    "data[date] =data[date].apply(pd.to_datetime, format='%Y-%m-%d %H:%M:%S', errors='coerce')\n",
    "\n",
    "data.dtypes"
   ]
  },
  {
   "cell_type": "code",
   "execution_count": 8,
   "metadata": {},
   "outputs": [
    {
     "data": {
      "text/plain": [
       "array([nan, 'coupe', 'suv', 'small', 'sedan', 'convertible', 'bus',\n",
       "       'wagon', 'other'], dtype=object)"
      ]
     },
     "execution_count": 8,
     "metadata": {},
     "output_type": "execute_result"
    }
   ],
   "source": [
    "data['vehicle_type'].unique()"
   ]
  },
  {
   "cell_type": "code",
   "execution_count": 9,
   "metadata": {},
   "outputs": [
    {
     "data": {
      "text/plain": [
       "array(['manual', 'auto', nan], dtype=object)"
      ]
     },
     "execution_count": 9,
     "metadata": {},
     "output_type": "execute_result"
    }
   ],
   "source": [
    "data['gearbox'].unique()"
   ]
  },
  {
   "cell_type": "code",
   "execution_count": 10,
   "metadata": {},
   "outputs": [
    {
     "data": {
      "text/plain": [
       "array(['golf', nan, 'grand', 'fabia', '3er', '2_reihe', 'other', 'c_max',\n",
       "       '3_reihe', 'passat', 'navara', 'ka', 'polo', 'twingo', 'a_klasse',\n",
       "       'scirocco', '5er', 'meriva', 'arosa', 'c4', 'civic', 'transporter',\n",
       "       'punto', 'e_klasse', 'clio', 'kadett', 'kangoo', 'corsa', 'one',\n",
       "       'fortwo', '1er', 'b_klasse', 'signum', 'astra', 'a8', 'jetta',\n",
       "       'fiesta', 'c_klasse', 'micra', 'vito', 'sprinter', '156', 'escort',\n",
       "       'forester', 'xc_reihe', 'scenic', 'a4', 'a1', 'insignia', 'combo',\n",
       "       'focus', 'tt', 'a6', 'jazz', 'omega', 'slk', '7er', '80', '147',\n",
       "       '100', 'z_reihe', 'sportage', 'sorento', 'v40', 'ibiza', 'mustang',\n",
       "       'eos', 'touran', 'getz', 'a3', 'almera', 'megane', 'lupo', 'r19',\n",
       "       'zafira', 'caddy', 'mondeo', 'cordoba', 'colt', 'impreza',\n",
       "       'vectra', 'berlingo', 'tiguan', 'i_reihe', 'espace', 'sharan',\n",
       "       '6_reihe', 'panda', 'up', 'seicento', 'ceed', '5_reihe', 'yeti',\n",
       "       'octavia', 'mii', 'rx_reihe', '6er', 'modus', 'fox', 'matiz',\n",
       "       'beetle', 'c1', 'rio', 'touareg', 'logan', 'spider', 'cuore',\n",
       "       's_max', 'a2', 'galaxy', 'c3', 'viano', 's_klasse', '1_reihe',\n",
       "       'avensis', 'roomster', 'sl', 'kaefer', 'santa', 'cooper', 'leon',\n",
       "       '4_reihe', 'a5', '500', 'laguna', 'ptcruiser', 'clk', 'primera',\n",
       "       'x_reihe', 'exeo', '159', 'transit', 'juke', 'qashqai', 'carisma',\n",
       "       'accord', 'corolla', 'lanos', 'phaeton', 'verso', 'swift', 'rav',\n",
       "       'picanto', 'boxster', 'kalos', 'superb', 'stilo', 'alhambra',\n",
       "       'mx_reihe', 'roadster', 'ypsilon', 'cayenne', 'galant', 'justy',\n",
       "       '90', 'sirion', 'crossfire', 'agila', 'duster', 'cr_reihe', 'v50',\n",
       "       'c_reihe', 'v_klasse', 'm_klasse', 'yaris', 'c5', 'aygo', 'cc',\n",
       "       'carnival', 'fusion', '911', 'bora', 'forfour', 'm_reihe', 'cl',\n",
       "       'tigra', '300c', 'spark', 'v70', 'kuga', 'x_type', 'ducato',\n",
       "       's_type', 'x_trail', 'toledo', 'altea', 'voyager', 'calibra',\n",
       "       'bravo', 'antara', 'tucson', 'citigo', 'jimny', 'wrangler',\n",
       "       'lybra', 'q7', 'lancer', 'captiva', 'c2', 'discovery',\n",
       "       'freelander', 'sandero', 'note', '900', 'cherokee', 'clubman',\n",
       "       'samara', 'defender', '601', 'cx_reihe', 'legacy', 'pajero',\n",
       "       'auris', 'niva', 's60', 'nubira', 'vivaro', 'g_klasse', 'lodgy',\n",
       "       '850', 'range_rover', 'q3', 'serie_2', 'glk', 'charade', 'croma',\n",
       "       'outlander', 'doblo', 'musa', 'move', '9000', 'v60', '145', 'aveo',\n",
       "       '200', 'b_max', 'range_rover_sport', 'terios', 'rangerover', 'q5',\n",
       "       'range_rover_evoque', 'materia', 'delta', 'gl', 'kalina', 'amarok',\n",
       "       'elefantino', 'i3', 'kappa', 'serie_3', 'serie_1'], dtype=object)"
      ]
     },
     "execution_count": 10,
     "metadata": {},
     "output_type": "execute_result"
    }
   ],
   "source": [
    "data['model'].unique()"
   ]
  },
  {
   "cell_type": "code",
   "execution_count": 11,
   "metadata": {},
   "outputs": [
    {
     "data": {
      "text/plain": [
       "array(['volkswagen', 'audi', 'jeep', 'skoda', 'bmw', 'peugeot', 'ford',\n",
       "       'mazda', 'nissan', 'renault', 'mercedes_benz', 'opel', 'seat',\n",
       "       'citroen', 'honda', 'fiat', 'mini', 'smart', 'hyundai',\n",
       "       'sonstige_autos', 'alfa_romeo', 'subaru', 'volvo', 'mitsubishi',\n",
       "       'kia', 'suzuki', 'lancia', 'toyota', 'chevrolet', 'dacia',\n",
       "       'daihatsu', 'trabant', 'saab', 'chrysler', 'jaguar', 'daewoo',\n",
       "       'porsche', 'rover', 'land_rover', 'lada'], dtype=object)"
      ]
     },
     "execution_count": 11,
     "metadata": {},
     "output_type": "execute_result"
    }
   ],
   "source": [
    "data['brand'].unique()"
   ]
  },
  {
   "cell_type": "code",
   "execution_count": 12,
   "metadata": {},
   "outputs": [
    {
     "data": {
      "text/plain": [
       "array(['petrol', 'gasoline', nan, 'lpg', 'other', 'hybrid', 'cng',\n",
       "       'electric'], dtype=object)"
      ]
     },
     "execution_count": 12,
     "metadata": {},
     "output_type": "execute_result"
    }
   ],
   "source": [
    "data['fuel_type'].unique()"
   ]
  },
  {
   "cell_type": "code",
   "execution_count": 13,
   "metadata": {},
   "outputs": [
    {
     "data": {
      "text/plain": [
       "array([nan, 'yes', 'no'], dtype=object)"
      ]
     },
     "execution_count": 13,
     "metadata": {},
     "output_type": "execute_result"
    }
   ],
   "source": [
    "data['not_repaired'].unique()"
   ]
  },
  {
   "cell_type": "markdown",
   "metadata": {},
   "source": [
    "По итогам анализа пропуски можно заменить на значение 'other' для всех признаков, кроме столбца `not_repaired`."
   ]
  },
  {
   "cell_type": "code",
   "execution_count": 14,
   "metadata": {},
   "outputs": [],
   "source": [
    "# Уберём пропуски в данных, кроме столбца not_repaired\n",
    "columns = ['vehicle_type','gearbox', 'model', 'fuel_type']\n",
    "data.fillna(dict.fromkeys(columns, 'other'), inplace=True)"
   ]
  },
  {
   "cell_type": "code",
   "execution_count": 15,
   "metadata": {},
   "outputs": [
    {
     "data": {
      "image/png": "[encoded data removed]",
      "text/plain": [
       "<Figure size 432x288 with 1 Axes>"
      ]
     },
     "metadata": {
      "needs_background": "light"
     },
     "output_type": "display_data"
    }
   ],
   "source": [
    "plt.boxplot(x= data['registration_year'],vert=False)\n",
    "plt.xlim(1970,2021)\n",
    "plt.show()"
   ]
  },
  {
   "cell_type": "code",
   "execution_count": 16,
   "metadata": {},
   "outputs": [
    {
     "data": {
      "text/plain": [
       "324763   2016-03-05 14:06:24\n",
       "99885    2016-03-05 14:06:24\n",
       "176823   2016-03-05 14:06:24\n",
       "220583   2016-03-05 14:06:23\n",
       "329497   2016-03-05 14:06:22\n",
       "Name: date_crawled, dtype: datetime64[ns]"
      ]
     },
     "execution_count": 16,
     "metadata": {},
     "output_type": "execute_result"
    }
   ],
   "source": [
    "data['date_crawled'].sort_values(ascending=False).tail()"
   ]
  },
  {
   "cell_type": "markdown",
   "metadata": {},
   "source": [
    "Первая машина была изобретена в 1886 году Карлом Бенцем, значит до этого года ни одна машина не могла быть зарегистрирована. Большинство автомобилей зарегистрированы с 1987 по 2020 годы. По имeющимся данным последние зарегистрированные анкеты были в 2016 году, значит что машины после 2016 года никак не могли быть зарегистрированы. Уберём из данных все автомобили, зарегистрированные до 1985 года и после 2016."
   ]
  },
  {
   "cell_type": "code",
   "execution_count": 17,
   "metadata": {},
   "outputs": [],
   "source": [
    "false_years = data.loc[(data['registration_year'] < 1985) | (data['registration_year'] > 2016)]\n",
    "data.drop(false_years.index, inplace = True)\n",
    "data.reset_index(drop = True, inplace=True)"
   ]
  },
  {
   "cell_type": "code",
   "execution_count": 18,
   "metadata": {},
   "outputs": [
    {
     "data": {
      "image/png": "[encoded data removed]",
      "text/plain": [
       "<Figure size 432x288 with 1 Axes>"
      ]
     },
     "metadata": {
      "needs_background": "light"
     },
     "output_type": "display_data"
    }
   ],
   "source": [
    "plt.boxplot(x= data['power'],vert=False)\n",
    "plt.xlim(0, 400)\n",
    "plt.show()"
   ]
  },
  {
   "cell_type": "markdown",
   "metadata": {},
   "source": [
    "Несмотря на то что в интернете удалось найти информацию, что в мире существует машина с мощностью двигателя в 5000 л.с. - Devel Sixteen, большего всего автомобилей в нашем датафрейме имеют  мощность от 0 до 250 л.с. Машина с наименьшей мощностью двигателя - Renault Twizy 45 - 5 л.с. Возможно минимальные значения мощности обусловлены тем, что машины не были починены. Некоторые продают через агрегаторы битые машины,  которые могут представлять интерес для людей занимающихся ремонтом или тюнингом."
   ]
  },
  {
   "cell_type": "code",
   "execution_count": 19,
   "metadata": {},
   "outputs": [],
   "source": [
    "# Удалим строки, где мощность превышает 300 л.с.\n",
    "extra_power = data.loc[data['power'] > 300]\n",
    "data.drop(extra_power.index, inplace = True)\n",
    "data.reset_index(drop = True, inplace=True)"
   ]
  },
  {
   "cell_type": "code",
   "execution_count": 20,
   "metadata": {},
   "outputs": [],
   "source": [
    "# Заменим пропуски в столбце ремонта на 'no_info'\n",
    "data['not_repaired'] = data['not_repaired'].fillna('no_info')"
   ]
  },
  {
   "cell_type": "code",
   "execution_count": 21,
   "metadata": {},
   "outputs": [
    {
     "data": {
      "text/plain": [
       "date_crawled          0\n",
       "price                 0\n",
       "vehicle_type          0\n",
       "registration_year     0\n",
       "gearbox               0\n",
       "power                 0\n",
       "model                 0\n",
       "kilometer             0\n",
       "registration_month    0\n",
       "fuel_type             0\n",
       "brand                 0\n",
       "not_repaired          0\n",
       "date_created          0\n",
       "number_of_pictures    0\n",
       "postal_code           0\n",
       "last_seen             0\n",
       "dtype: int64"
      ]
     },
     "execution_count": 21,
     "metadata": {},
     "output_type": "execute_result"
    }
   ],
   "source": [
    "data.isna().sum()"
   ]
  },
  {
   "cell_type": "code",
   "execution_count": 22,
   "metadata": {},
   "outputs": [
    {
     "data": {
      "text/plain": [
       "0     32263\n",
       "1     21703\n",
       "2     20051\n",
       "3     32362\n",
       "4     27507\n",
       "5     27504\n",
       "6     29644\n",
       "7     25381\n",
       "8     21370\n",
       "9     22553\n",
       "10    24768\n",
       "11    22991\n",
       "12    22976\n",
       "Name: registration_month, dtype: int64"
      ]
     },
     "execution_count": 22,
     "metadata": {},
     "output_type": "execute_result"
    }
   ],
   "source": [
    "data['registration_month'].value_counts().sort_index()"
   ]
  },
  {
   "cell_type": "markdown",
   "metadata": {},
   "source": [
    "По имеющимся данным понять, какой месяц лишний, не представляется возможным."
   ]
  },
  {
   "cell_type": "code",
   "execution_count": 23,
   "metadata": {},
   "outputs": [
    {
     "data": {
      "text/plain": [
       "0    331073\n",
       "Name: number_of_pictures, dtype: int64"
      ]
     },
     "execution_count": 23,
     "metadata": {},
     "output_type": "execute_result"
    }
   ],
   "source": [
    "data['number_of_pictures'].value_counts()"
   ]
  },
  {
   "cell_type": "markdown",
   "metadata": {},
   "source": [
    "В столбце с количеством фотографий отсутствуют какие-либо значения, данный признак не оказывает никакого влияния на целевой. В нашем случае не будем использовать этот признак для обучения модели."
   ]
  },
  {
   "cell_type": "code",
   "execution_count": 24,
   "metadata": {},
   "outputs": [
    {
     "name": "stdout",
     "output_type": "stream",
     "text": [
      "4\n"
     ]
    }
   ],
   "source": [
    "#Найдём, есть ли в данных дубликаты\n",
    "print(data.duplicated().sum())\n",
    "# Удалим имеющиеся дубликаты\n",
    "data = data.drop_duplicates().reset_index(drop = True)"
   ]
  },
  {
   "cell_type": "code",
   "execution_count": 25,
   "metadata": {},
   "outputs": [
    {
     "data": {
      "image/png": "[encoded data removed]",
      "text/plain": [
       "<Figure size 864x432 with 1 Axes>"
      ]
     },
     "metadata": {
      "needs_background": "light"
     },
     "output_type": "display_data"
    },
    {
     "data": {
      "image/png": "[encoded data removed]",
      "text/plain": [
       "<Figure size 864x432 with 1 Axes>"
      ]
     },
     "metadata": {
      "needs_background": "light"
     },
     "output_type": "display_data"
    }
   ],
   "source": [
    "# Посмотрим на распределение целевого признака.\n",
    "\n",
    "plot1 = plt.figure(1, figsize=(12,6))\n",
    "plt.hist(x = data['price'], bins=30)\n",
    "\n",
    "plot2 = plt.figure(2, figsize=(12,6))\n",
    "plt.boxplot(x = data['price'], vert= False)\n",
    "\n",
    "plt.show()"
   ]
  },
  {
   "cell_type": "markdown",
   "metadata": {},
   "source": [
    "Целевой признак распределён нормально и скошен вправо. На \"коробке с усами\" видим наличие выбросов при цене более 14000 евро, также имеются автомобили, которые ничего не стоят или стоят неправдоподобно дёшево."
   ]
  },
  {
   "cell_type": "code",
   "execution_count": 26,
   "metadata": {},
   "outputs": [],
   "source": [
    "# Уберём записи по машинам, цена которых меньше 500 евро\n",
    "small_price = data[data['price'] < 500]\n",
    "data.drop(small_price.index, inplace = True)\n",
    "data.reset_index(drop = True, inplace=True)"
   ]
  },
  {
   "cell_type": "code",
   "execution_count": 27,
   "metadata": {},
   "outputs": [
    {
     "data": {
      "text/plain": [
       "Index(['date_crawled', 'price', 'vehicle_type', 'registration_year', 'gearbox',\n",
       "       'power', 'model', 'kilometer', 'registration_month', 'fuel_type',\n",
       "       'brand', 'not_repaired', 'date_created', 'number_of_pictures',\n",
       "       'postal_code', 'last_seen'],\n",
       "      dtype='object')"
      ]
     },
     "execution_count": 27,
     "metadata": {},
     "output_type": "execute_result"
    }
   ],
   "source": [
    "data.columns"
   ]
  },
  {
   "cell_type": "code",
   "execution_count": 28,
   "metadata": {},
   "outputs": [
    {
     "data": {
      "image/png": "[encoded data removed]",
      "text/plain": [
       "<Figure size 864x576 with 2 Axes>"
      ]
     },
     "metadata": {
      "needs_background": "light"
     },
     "output_type": "display_data"
    }
   ],
   "source": [
    "# Построим график корреляции признаков\n",
    "feats = ['price', 'vehicle_type', 'registration_year', 'gearbox',\n",
    "       'power', 'model', 'kilometer', 'fuel_type',\n",
    "       'brand', 'not_repaired']\n",
    "plt.subplots(figsize=(12,8))\n",
    "plt.title('График корреляции признаков')\n",
    "sns.heatmap(data[feats].corr())\n",
    "\n",
    "plt.show()"
   ]
  },
  {
   "cell_type": "markdown",
   "metadata": {},
   "source": [
    "Как и предполагалось, наиболее сильная корреляция цены наблюдается с годом регистрации машины и мощностью, обратная корреляция - с пробегом."
   ]
  },
  {
   "cell_type": "markdown",
   "metadata": {},
   "source": [
    "## Обучение моделей"
   ]
  },
  {
   "cell_type": "code",
   "execution_count": 29,
   "metadata": {},
   "outputs": [
    {
     "data": {
      "text/plain": [
       "date_crawled          datetime64[ns]\n",
       "price                          int64\n",
       "vehicle_type                  object\n",
       "registration_year              int64\n",
       "gearbox                       object\n",
       "power                          int64\n",
       "model                         object\n",
       "kilometer                      int64\n",
       "registration_month             int64\n",
       "fuel_type                     object\n",
       "brand                         object\n",
       "not_repaired                  object\n",
       "date_created          datetime64[ns]\n",
       "number_of_pictures             int64\n",
       "postal_code                    int64\n",
       "last_seen             datetime64[ns]\n",
       "dtype: object"
      ]
     },
     "execution_count": 29,
     "metadata": {},
     "output_type": "execute_result"
    }
   ],
   "source": [
    "data.dtypes"
   ]
  },
  {
   "cell_type": "code",
   "execution_count": 30,
   "metadata": {},
   "outputs": [
    {
     "data": {
      "text/plain": [
       "Index(['date_crawled', 'price', 'vehicle_type', 'registration_year', 'gearbox',\n",
       "       'power', 'model', 'kilometer', 'registration_month', 'fuel_type',\n",
       "       'brand', 'not_repaired', 'date_created', 'number_of_pictures',\n",
       "       'postal_code', 'last_seen'],\n",
       "      dtype='object')"
      ]
     },
     "execution_count": 30,
     "metadata": {},
     "output_type": "execute_result"
    }
   ],
   "source": [
    "data.columns"
   ]
  },
  {
   "cell_type": "markdown",
   "metadata": {},
   "source": [
    "Для обучения модели исключим следующие признаки: Количество фотографий - т.к. отсутствуют значения, дата создания анкеты - так как связан с датой заполнения анкеты.\n",
    "Другими признаками, которые не должны влиять на стоимость автомобиля, являются: дата скачивания анкеты из базы, месяц регистрации автомобиля, почтовый индекс, дата последней активности пользователя."
   ]
  },
  {
   "cell_type": "code",
   "execution_count": 31,
   "metadata": {},
   "outputs": [],
   "source": [
    "# Подготовим категориальные признаки\n",
    "# Применим OrdinalEncoder\n",
    "columns = ['vehicle_type','gearbox', 'model', 'fuel_type', 'brand', 'not_repaired']\n",
    "encoder = OrdinalEncoder()\n",
    "data[columns] = encoder.fit_transform(data[columns])\n",
    "data.head()\n",
    "\n",
    "# Разделим данные на признаки и целевой признак.\n",
    "features = data.drop(['date_crawled', 'price', 'number_of_pictures', 'date_created','postal_code', 'last_seen'],axis=1) \n",
    "target = data['price']"
   ]
  },
  {
   "cell_type": "code",
   "execution_count": 32,
   "metadata": {
    "scrolled": true
   },
   "outputs": [
    {
     "name": "stdout",
     "output_type": "stream",
     "text": [
      "Shape train: (178458, 10), valid: (59487, 10), test: (59487, 10)\n"
     ]
    }
   ],
   "source": [
    "# Разделим выборку на обучающую, валидационную и тестовую\n",
    "features_train, features_test, target_train, target_test \\\n",
    "    = train_test_split(features, target, test_size=0.2, random_state=1)\n",
    "\n",
    "features_train, features_val, target_train, target_val \\\n",
    "    = train_test_split(features_train, target_train, test_size=0.25, random_state=1)\n",
    "\n",
    "print(\"Shape train: %s, valid: %s, test: %s\" % (features_train.shape, features_val.shape, features_test.shape))"
   ]
  },
  {
   "cell_type": "code",
   "execution_count": 33,
   "metadata": {},
   "outputs": [
    {
     "data": {
      "text/html": [
       "<div>\n",
       "<style scoped>\n",
       "    .dataframe tbody tr th:only-of-type {\n",
       "        vertical-align: middle;\n",
       "    }\n",
       "\n",
       "    .dataframe tbody tr th {\n",
       "        vertical-align: top;\n",
       "    }\n",
       "\n",
       "    .dataframe thead th {\n",
       "        text-align: right;\n",
       "    }\n",
       "</style>\n",
       "<table border=\"1\" class=\"dataframe\">\n",
       "  <thead>\n",
       "    <tr style=\"text-align: right;\">\n",
       "      <th></th>\n",
       "      <th>vehicle_type</th>\n",
       "      <th>registration_year</th>\n",
       "      <th>gearbox</th>\n",
       "      <th>power</th>\n",
       "      <th>model</th>\n",
       "      <th>kilometer</th>\n",
       "      <th>registration_month</th>\n",
       "      <th>fuel_type</th>\n",
       "      <th>brand</th>\n",
       "      <th>not_repaired</th>\n",
       "    </tr>\n",
       "  </thead>\n",
       "  <tbody>\n",
       "    <tr>\n",
       "      <td>205888</td>\n",
       "      <td>1.0</td>\n",
       "      <td>-0.585749</td>\n",
       "      <td>0.0</td>\n",
       "      <td>-0.996015</td>\n",
       "      <td>106.0</td>\n",
       "      <td>-1.039468</td>\n",
       "      <td>0.560577</td>\n",
       "      <td>6.0</td>\n",
       "      <td>32.0</td>\n",
       "      <td>2.0</td>\n",
       "    </tr>\n",
       "    <tr>\n",
       "      <td>253771</td>\n",
       "      <td>4.0</td>\n",
       "      <td>-0.410101</td>\n",
       "      <td>0.0</td>\n",
       "      <td>-0.174318</td>\n",
       "      <td>17.0</td>\n",
       "      <td>-0.089177</td>\n",
       "      <td>1.665597</td>\n",
       "      <td>6.0</td>\n",
       "      <td>19.0</td>\n",
       "      <td>0.0</td>\n",
       "    </tr>\n",
       "    <tr>\n",
       "      <td>117146</td>\n",
       "      <td>4.0</td>\n",
       "      <td>0.468136</td>\n",
       "      <td>1.0</td>\n",
       "      <td>1.084451</td>\n",
       "      <td>166.0</td>\n",
       "      <td>-1.039468</td>\n",
       "      <td>-1.649464</td>\n",
       "      <td>5.0</td>\n",
       "      <td>2.0</td>\n",
       "      <td>1.0</td>\n",
       "    </tr>\n",
       "    <tr>\n",
       "      <td>249928</td>\n",
       "      <td>1.0</td>\n",
       "      <td>1.170726</td>\n",
       "      <td>1.0</td>\n",
       "      <td>0.192823</td>\n",
       "      <td>80.0</td>\n",
       "      <td>-2.125516</td>\n",
       "      <td>1.389342</td>\n",
       "      <td>6.0</td>\n",
       "      <td>21.0</td>\n",
       "      <td>0.0</td>\n",
       "    </tr>\n",
       "    <tr>\n",
       "      <td>286073</td>\n",
       "      <td>6.0</td>\n",
       "      <td>-1.288338</td>\n",
       "      <td>1.0</td>\n",
       "      <td>-0.016972</td>\n",
       "      <td>89.0</td>\n",
       "      <td>0.589603</td>\n",
       "      <td>1.113087</td>\n",
       "      <td>2.0</td>\n",
       "      <td>18.0</td>\n",
       "      <td>1.0</td>\n",
       "    </tr>\n",
       "  </tbody>\n",
       "</table>\n",
       "</div>"
      ],
      "text/plain": [
       "        vehicle_type  registration_year  gearbox     power  model  kilometer  \\\n",
       "205888           1.0          -0.585749      0.0 -0.996015  106.0  -1.039468   \n",
       "253771           4.0          -0.410101      0.0 -0.174318   17.0  -0.089177   \n",
       "117146           4.0           0.468136      1.0  1.084451  166.0  -1.039468   \n",
       "249928           1.0           1.170726      1.0  0.192823   80.0  -2.125516   \n",
       "286073           6.0          -1.288338      1.0 -0.016972   89.0   0.589603   \n",
       "\n",
       "        registration_month  fuel_type  brand  not_repaired  \n",
       "205888            0.560577        6.0   32.0           2.0  \n",
       "253771            1.665597        6.0   19.0           0.0  \n",
       "117146           -1.649464        5.0    2.0           1.0  \n",
       "249928            1.389342        6.0   21.0           0.0  \n",
       "286073            1.113087        2.0   18.0           1.0  "
      ]
     },
     "execution_count": 33,
     "metadata": {},
     "output_type": "execute_result"
    }
   ],
   "source": [
    "# Проведём масшабирование численных признаков\n",
    "pd.options.mode.chained_assignment = None\n",
    "\n",
    "numeric = ['registration_year', 'power', 'kilometer', 'registration_month']\n",
    "scaler = StandardScaler()\n",
    "scaler.fit(features_train[numeric])\n",
    "features_train[numeric] = scaler.transform(features_train[numeric])\n",
    "features_val[numeric]= scaler.transform(features_val[numeric])\n",
    "features_test[numeric] = scaler.transform(features_test[numeric])\n",
    "\n",
    "features_train.head()"
   ]
  },
  {
   "cell_type": "code",
   "execution_count": 34,
   "metadata": {},
   "outputs": [
    {
     "data": {
      "text/plain": [
       "(237945, 10)"
      ]
     },
     "execution_count": 34,
     "metadata": {},
     "output_type": "execute_result"
    }
   ],
   "source": [
    "# Объединим обучающую и валидационную выборки для проверки на тестовой выборке\n",
    "features_train_full = pd.concat([features_train, features_val])\n",
    "features_train_full.reset_index(drop=True, inplace= True)\n",
    "\n",
    "target_train_full = pd.concat([target_train, target_val])\n",
    "target_train_full.reset_index(drop=True, inplace= True)\n",
    "\n",
    "\n",
    "features_train_full.shape"
   ]
  },
  {
   "cell_type": "markdown",
   "metadata": {},
   "source": [
    "### Дамми-модель"
   ]
  },
  {
   "cell_type": "code",
   "execution_count": 35,
   "metadata": {},
   "outputs": [
    {
     "data": {
      "text/plain": [
       "4462.362737591066"
      ]
     },
     "execution_count": 35,
     "metadata": {},
     "output_type": "execute_result"
    }
   ],
   "source": [
    "# Построим дамми-модель для сравнения моделей на адекватность\n",
    "dummy_regr = DummyRegressor(strategy=\"mean\")\n",
    "dummy_regr.fit(features_train_full, target_train_full)\n",
    "dummy_predict = dummy_regr.predict(features_test)\n",
    "dummy_rmse = mean_squared_error(target_test, dummy_predict)**0.5\n",
    "dummy_rmse"
   ]
  },
  {
   "cell_type": "markdown",
   "metadata": {},
   "source": [
    "### Linear Regression"
   ]
  },
  {
   "cell_type": "code",
   "execution_count": 36,
   "metadata": {},
   "outputs": [
    {
     "name": "stdout",
     "output_type": "stream",
     "text": [
      "Линейная регрессия выполняется за 0.0847923755645752. секунд\n",
      "Значение RMSE: 2849.1896266317867\n"
     ]
    }
   ],
   "source": [
    "# Построим модель с базовыми значениями гиперпараметров\n",
    "start_time = time.time()\n",
    "\n",
    "model_0= LinearRegression()\n",
    "model_0.fit(features_train, target_train)\n",
    "predicted_0 = model_0.predict(features_val)\n",
    "rmse_lr = mean_squared_error(target_val, predicted_0)**0.5\n",
    "\n",
    "print(\"Линейная регрессия выполняется за %s. секунд\" % (time.time() - start_time))\n",
    "print(\"Значение RMSE:\", rmse_lr)"
   ]
  },
  {
   "cell_type": "code",
   "execution_count": 37,
   "metadata": {},
   "outputs": [
    {
     "name": "stdout",
     "output_type": "stream",
     "text": [
      "Линейная регрессия выполняется за 0.1038665771484375. секунд\n",
      "Значение RMSE: 2849.0104078121053\n"
     ]
    }
   ],
   "source": [
    "# Проверим модель на тестовой выборке\n",
    "start_time = time.time()\n",
    "\n",
    "model_0 = LinearRegression()\n",
    "model_0.fit(features_train_full, target_train_full)\n",
    "predicted_0 = model_0.predict(features_test)\n",
    "rmse_lr_test = mean_squared_error(target_test, predicted_0)**0.5\n",
    "lr_time = (time.time() - start_time)\n",
    "\n",
    "print(\"Линейная регрессия выполняется за %s. секунд\" % lr_time)\n",
    "print(\"Значение RMSE:\", rmse_lr_test)"
   ]
  },
  {
   "cell_type": "code",
   "execution_count": 38,
   "metadata": {},
   "outputs": [
    {
     "data": {
      "image/png": "[encoded data removed]",
      "text/plain": [
       "<Figure size 1152x576 with 1 Axes>"
      ]
     },
     "metadata": {
      "needs_background": "light"
     },
     "output_type": "display_data"
    }
   ],
   "source": [
    "#Определим значение коэффициентов для признаков модели\n",
    "intercept = model_0.intercept_\n",
    "fi= pd.DataFrame(model_0.coef_, features_train.columns, columns=['coefficient'])\n",
    "fi['coefficient'] = fi['coefficient'].abs()\n",
    "\n",
    "# Определим стандартные отклонения признаков\n",
    "stdevs = []\n",
    "for i in features_train.columns:\n",
    "    stdev = features_train[i].std()\n",
    "    stdevs.append(stdev)\n",
    "\n",
    "# Добавим столбцы значимости признаков   \n",
    "fi['stdev'] = np.array(stdevs).reshape(-1,1)\n",
    "fi['importance'] = fi['coefficient'] * fi['stdev']\n",
    "fi['importance_normalized'] = 100*fi['importance'] / fi['importance'].max()\n",
    "\n",
    "# Построим график значимости признаков\n",
    "plt.subplots(figsize=(16,8))\n",
    "\n",
    "ax = sns.barplot(x=fi['importance_normalized'].sort_values(ascending=False), y=fi.index)\n",
    "_ = ax.set(xlabel='Оценка важности признаков', ylabel='Признаки')\n",
    "_ = ax.set_title('Визуализация важности признаков')\n",
    "\n",
    "plt.show()"
   ]
  },
  {
   "cell_type": "markdown",
   "metadata": {},
   "source": [
    "### Random Forest"
   ]
  },
  {
   "cell_type": "code",
   "execution_count": 39,
   "metadata": {},
   "outputs": [
    {
     "name": "stdout",
     "output_type": "stream",
     "text": [
      "Случайный лес выполняется за 7.385304927825928 секунд\n",
      "Значение RMSE: 1605.3973353431493\n"
     ]
    }
   ],
   "source": [
    "start_time = time.time()\n",
    "\n",
    "model_1 = RandomForestRegressor(random_state = 33)\n",
    "model_1.fit(features_train, target_train)\n",
    "predicted_1 = model_1.predict(features_val)\n",
    "rmse_forest = mean_squared_error(target_val, predicted_1)**0.5\n",
    "\n",
    "print(\"Случайный лес выполняется за %s секунд\" % (time.time() - start_time))\n",
    "print(\"Значение RMSE:\", rmse_forest)"
   ]
  },
  {
   "cell_type": "code",
   "execution_count": 40,
   "metadata": {
    "scrolled": true
   },
   "outputs": [
    {
     "name": "stdout",
     "output_type": "stream",
     "text": [
      "------- 205.5526487827301 секунд-------\n"
     ]
    }
   ],
   "source": [
    "# Настроим гиперпараметры\n",
    "start_time = time.time()\n",
    "\n",
    "forest = RandomForestRegressor(n_jobs = -1, random_state=33)\n",
    "param_dict = {\n",
    "    \"n_estimators\":range(1,100,10),\n",
    "    \"max_depth\":range(1,10),\n",
    "    \"min_samples_split\":range(2,10,2),\n",
    "    \"min_samples_leaf\":range(1,10)}\n",
    "clf = RandomizedSearchCV(forest, param_dict, random_state=33)\n",
    "search = clf.fit(features_train, target_train)\n",
    "\n",
    "print(\"------- %s секунд-------\" % (time.time() - start_time))"
   ]
  },
  {
   "cell_type": "code",
   "execution_count": 41,
   "metadata": {},
   "outputs": [
    {
     "data": {
      "text/plain": [
       "RandomForestRegressor(bootstrap=True, criterion='mse', max_depth=9,\n",
       "                      max_features='auto', max_leaf_nodes=None,\n",
       "                      min_impurity_decrease=0.0, min_impurity_split=None,\n",
       "                      min_samples_leaf=6, min_samples_split=4,\n",
       "                      min_weight_fraction_leaf=0.0, n_estimators=21, n_jobs=-1,\n",
       "                      oob_score=False, random_state=33, verbose=0,\n",
       "                      warm_start=False)"
      ]
     },
     "execution_count": 41,
     "metadata": {},
     "output_type": "execute_result"
    }
   ],
   "source": [
    "search.best_estimator_"
   ]
  },
  {
   "cell_type": "code",
   "execution_count": 42,
   "metadata": {},
   "outputs": [
    {
     "name": "stdout",
     "output_type": "stream",
     "text": [
      "Случайный лес выполняется за 12.912670850753784 секунд\n",
      "Значение RMSE: 1915.1313611697635\n"
     ]
    }
   ],
   "source": [
    "start_time = time.time()\n",
    "\n",
    "model_1 = RandomForestRegressor(max_depth=9,min_samples_leaf=6, min_samples_split=4, n_estimators=21, random_state = 33)\n",
    "model_1.fit(features_train_full, target_train_full)\n",
    "predicted_1 = model_1.predict(features_test)\n",
    "\n",
    "rmse_forest_test = mean_squared_error(target_test, predicted_1)**0.5\n",
    "forest_time = (time.time() - start_time)\n",
    "\n",
    "print(\"Случайный лес выполняется за %s секунд\" % forest_time)\n",
    "print(\"Значение RMSE:\", rmse_forest_test)"
   ]
  },
  {
   "cell_type": "code",
   "execution_count": 43,
   "metadata": {},
   "outputs": [
    {
     "data": {
      "text/plain": [
       "registration_year     0.628460\n",
       "power                 0.266296\n",
       "kilometer             0.045627\n",
       "vehicle_type          0.021143\n",
       "brand                 0.018338\n",
       "model                 0.007908\n",
       "not_repaired          0.006967\n",
       "fuel_type             0.002682\n",
       "gearbox               0.001960\n",
       "registration_month    0.000619\n",
       "dtype: float64"
      ]
     },
     "execution_count": 43,
     "metadata": {},
     "output_type": "execute_result"
    }
   ],
   "source": [
    "x = pd.Series(data = model_1.feature_importances_, index = features_train.columns)\n",
    "x.sort_values(ascending=False)"
   ]
  },
  {
   "cell_type": "code",
   "execution_count": 44,
   "metadata": {},
   "outputs": [],
   "source": [
    "# Функция для построения графика значимости признаков модели\n",
    "def chart_feature_imp(model):\n",
    "    fi = pd.Series(data = model_1.feature_importances_, index = features_train.columns)\n",
    "\n",
    "    ax = sns.barplot(x=fi.sort_values(ascending=False), y=fi.index)\n",
    "    _ = ax.set(xlabel='Оценка важности признаков', ylabel='Признаки')\n",
    "    _ = ax.set_title('Визуализация важности признаков')"
   ]
  },
  {
   "cell_type": "code",
   "execution_count": 45,
   "metadata": {},
   "outputs": [
    {
     "data": {
      "image/png": "[encoded data removed]",
      "text/plain": [
       "<Figure size 1152x576 with 1 Axes>"
      ]
     },
     "metadata": {
      "needs_background": "light"
     },
     "output_type": "display_data"
    }
   ],
   "source": [
    "plt.subplots(figsize=(16,8))\n",
    "chart_feature_imp(model_1)"
   ]
  },
  {
   "cell_type": "markdown",
   "metadata": {},
   "source": [
    "### CatBoost"
   ]
  },
  {
   "cell_type": "code",
   "execution_count": 47,
   "metadata": {},
   "outputs": [
    {
     "name": "stdout",
     "output_type": "stream",
     "text": [
      "0:\tlearn: 4391.6704192\ttotal: 81.7ms\tremaining: 1m 21s\n",
      "100:\tlearn: 2004.4094606\ttotal: 14.1s\tremaining: 2m 5s\n",
      "200:\tlearn: 1816.3125614\ttotal: 26.9s\tremaining: 1m 46s\n",
      "300:\tlearn: 1747.3678723\ttotal: 39.8s\tremaining: 1m 32s\n",
      "400:\tlearn: 1705.5478423\ttotal: 53.8s\tremaining: 1m 20s\n",
      "500:\tlearn: 1674.9407811\ttotal: 1m 7s\tremaining: 1m 7s\n",
      "600:\tlearn: 1650.7625465\ttotal: 1m 22s\tremaining: 54.5s\n",
      "700:\tlearn: 1630.7568434\ttotal: 1m 36s\tremaining: 41s\n",
      "800:\tlearn: 1613.8719330\ttotal: 1m 50s\tremaining: 27.4s\n",
      "900:\tlearn: 1599.5281234\ttotal: 2m 4s\tremaining: 13.7s\n",
      "999:\tlearn: 1587.5017223\ttotal: 2m 19s\tremaining: 0us\n",
      "CatBoost выполняется за 141.78921914100647 секунд\n",
      "Значение RMSE: 1617.003655731946\n"
     ]
    }
   ],
   "source": [
    "start_time = time.time()\n",
    "\n",
    "model_2 = CatBoostRegressor(verbose=100)\n",
    "model_2.fit(features_train, target_train)\n",
    "predicted_2 = model_2.predict(features_val)\n",
    "rmse_cat = mean_squared_error(target_val, predicted_2)**0.5\n",
    "\n",
    "print(\"CatBoost выполняется за %s секунд\" % (time.time() - start_time))\n",
    "print(\"Значение RMSE:\", rmse_cat)"
   ]
  },
  {
   "cell_type": "code",
   "execution_count": 48,
   "metadata": {},
   "outputs": [
    {
     "name": "stdout",
     "output_type": "stream",
     "text": [
      "------- 1471.0991525650024 секунд-------\n",
      "Значение RMSE: 1497.7169955623492\n"
     ]
    }
   ],
   "source": [
    "# Настроим гиперпараметры\n",
    "start_time = time.time()\n",
    "\n",
    "cat = CatBoostRegressor(border_count = 254, verbose=False, random_seed=33)\n",
    "param_dict = {\n",
    "    'iterations': [10,100,1000],\n",
    "    'learning_rate':[0.01, 0.1, 1],\n",
    "    'depth': [4,6,8],\n",
    "    'l2_leaf_reg': range(1,10,2)\n",
    "}\n",
    "\n",
    "clf = RandomizedSearchCV(cat, param_dict, random_state=33)\n",
    "search = clf.fit(features_train, target_train)\n",
    "predicted = clf.predict(features_val)\n",
    "rmse = mean_squared_error(target_val, predicted)**0.5\n",
    "\n",
    "print(\"------- %s секунд-------\" % (time.time() - start_time))\n",
    "print(\"Значение RMSE:\", rmse)"
   ]
  },
  {
   "cell_type": "code",
   "execution_count": 55,
   "metadata": {},
   "outputs": [
    {
     "data": {
      "text/plain": [
       "{'learning_rate': 0.1, 'l2_leaf_reg': 7, 'iterations': 1000, 'depth': 8}"
      ]
     },
     "execution_count": 55,
     "metadata": {},
     "output_type": "execute_result"
    }
   ],
   "source": [
    "search.best_params_"
   ]
  },
  {
   "cell_type": "code",
   "execution_count": 50,
   "metadata": {},
   "outputs": [
    {
     "name": "stdout",
     "output_type": "stream",
     "text": [
      "0:\tlearn: 4166.0863621\ttotal: 154ms\tremaining: 2m 33s\n",
      "200:\tlearn: 1567.6550386\ttotal: 44s\tremaining: 2m 55s\n",
      "400:\tlearn: 1486.3425200\ttotal: 1m 27s\tremaining: 2m 10s\n",
      "600:\tlearn: 1442.1673536\ttotal: 2m 11s\tremaining: 1m 27s\n",
      "800:\tlearn: 1410.0976765\ttotal: 2m 55s\tremaining: 43.7s\n",
      "999:\tlearn: 1385.8007745\ttotal: 3m 40s\tremaining: 0us\n",
      "CatBoost выполняется за 223.7198350429535 секунд\n",
      "Значение RMSE: 1479.6285822687864\n"
     ]
    }
   ],
   "source": [
    "start_time = time.time()\n",
    "\n",
    "model_2 = CatBoostRegressor(iterations = 1000, learning_rate =0.1, \n",
    "                            depth = 8, l2_leaf_reg = 7, border_count = 254, \n",
    "                            verbose=200, random_seed=33)  \n",
    "\n",
    "model_2.fit(features_train_full, target_train_full) \n",
    "predicted_2 = model_2.predict(features_test)\n",
    "rmse_cat_test = mean_squared_error(target_test, predicted_2)**0.5\n",
    "cat_time = (time.time() - start_time)\n",
    "\n",
    "print(\"CatBoost выполняется за %s секунд\" % cat_time)\n",
    "print(\"Значение RMSE:\", rmse_cat_test)"
   ]
  },
  {
   "cell_type": "code",
   "execution_count": 51,
   "metadata": {},
   "outputs": [
    {
     "data": {
      "image/png": "[encoded data removed]",
      "text/plain": [
       "<Figure size 1152x576 with 1 Axes>"
      ]
     },
     "metadata": {
      "needs_background": "light"
     },
     "output_type": "display_data"
    }
   ],
   "source": [
    "# График значимости признаков CatBoost\n",
    "plt.subplots(figsize=(16,8))\n",
    "chart_feature_imp(model_2)"
   ]
  },
  {
   "cell_type": "markdown",
   "metadata": {},
   "source": [
    "### LightGBM"
   ]
  },
  {
   "cell_type": "code",
   "execution_count": 53,
   "metadata": {},
   "outputs": [
    {
     "name": "stdout",
     "output_type": "stream",
     "text": [
      "LGBM выполняется за 42.598109006881714 секунд\n",
      "Значение RMSE: 1641.4794212748004\n"
     ]
    }
   ],
   "source": [
    "start_time = time.time()\n",
    "\n",
    "model_3 = LGBMRegressor(random_state = 33)\n",
    "model_3.fit(features_train, target_train)\n",
    "predicted_3 = model_3.predict(features_val)\n",
    "rmse_lgbm = mean_squared_error(target_val, predicted_3)**0.5\n",
    "\n",
    "print(\"LGBM выполняется за %s секунд\" % (time.time() - start_time))\n",
    "print(\"Значение RMSE:\", rmse_lgbm)"
   ]
  },
  {
   "cell_type": "code",
   "execution_count": 56,
   "metadata": {},
   "outputs": [
    {
     "name": "stdout",
     "output_type": "stream",
     "text": [
      "------- 1038.9261763095856 секунд-------\n",
      "Значение RMSE: 1673.354187656139\n"
     ]
    }
   ],
   "source": [
    "start_time = time.time()\n",
    "\n",
    "lgbm = LGBMRegressor(n_jobs=-1, random_seed=33)\n",
    "param_dict = {\n",
    "    'n_estimators': [10,50,100,1000],\n",
    "    'learning_rate':[0.1, 0.05, 0.1, 0.5, 1],\n",
    "    'num_leaves': [2, 4, 10, 20, 31]\n",
    "}\n",
    "\n",
    "clf = RandomizedSearchCV(lgbm, param_dict, random_state=33)\n",
    "search = clf.fit(features_train, target_train)\n",
    "predicted = clf.predict(features_val)\n",
    "rmse = mean_squared_error(target_val, predicted)**0.5\n",
    "\n",
    "print(\"------- %s секунд-------\" % (time.time() - start_time))\n",
    "print(\"Значение RMSE:\", rmse)"
   ]
  },
  {
   "cell_type": "code",
   "execution_count": 57,
   "metadata": {},
   "outputs": [
    {
     "data": {
      "text/plain": [
       "LGBMRegressor(boosting_type='gbdt', class_weight=None, colsample_bytree=1.0,\n",
       "              importance_type='split', learning_rate=0.1, max_depth=-1,\n",
       "              min_child_samples=20, min_child_weight=0.001, min_split_gain=0.0,\n",
       "              n_estimators=1000, n_jobs=-1, num_leaves=4, objective=None,\n",
       "              random_seed=33, random_state=None, reg_alpha=0.0, reg_lambda=0.0,\n",
       "              silent=True, subsample=1.0, subsample_for_bin=200000,\n",
       "              subsample_freq=0)"
      ]
     },
     "execution_count": 57,
     "metadata": {},
     "output_type": "execute_result"
    }
   ],
   "source": [
    "search.best_estimator_"
   ]
  },
  {
   "cell_type": "code",
   "execution_count": 58,
   "metadata": {},
   "outputs": [
    {
     "name": "stdout",
     "output_type": "stream",
     "text": [
      "LGBM выполняется за 160.76923418045044 секунд\n",
      "Значение RMSE: 1677.2493616435431\n"
     ]
    }
   ],
   "source": [
    "start_time = time.time()\n",
    "\n",
    "model_3 = LGBMRegressor(learning_rate=0.1, n_estimators=1000, num_leaves=4, random_state = 33)\n",
    "model_3.fit(features_train_full, target_train_full)\n",
    "predicted_3 = model_3.predict(features_test)\n",
    "rmse_lgbm_test = mean_squared_error(target_test, predicted_3)**0.5\n",
    "lgbm_time = (time.time() - start_time)\n",
    "\n",
    "print(\"LGBM выполняется за %s секунд\" % lgbm_time)\n",
    "print(\"Значение RMSE:\", rmse_lgbm_test)"
   ]
  },
  {
   "cell_type": "code",
   "execution_count": 59,
   "metadata": {},
   "outputs": [
    {
     "data": {
      "image/png": "[encoded data removed]",
      "text/plain": [
       "<Figure size 1152x576 with 1 Axes>"
      ]
     },
     "metadata": {
      "needs_background": "light"
     },
     "output_type": "display_data"
    }
   ],
   "source": [
    "# График значимости признаков LGBM\n",
    "plt.subplots(figsize=(16,8))\n",
    "chart_feature_imp(model_3)"
   ]
  },
  {
   "cell_type": "markdown",
   "metadata": {},
   "source": [
    "## Вывод"
   ]
  },
  {
   "cell_type": "code",
   "execution_count": 61,
   "metadata": {},
   "outputs": [],
   "source": [
    "dict = {\n",
    "    'training_time': [lr_time, forest_time, cat_time, lgbm_time],\n",
    "    'rmse': [rmse_lr_test, rmse_forest_test, rmse_cat_test, rmse_lgbm]}\n",
    "analysis = pd.DataFrame(data=  dict, index=['linear_regression', 'random_forest', 'catboost', 'lgbm'],\n",
    "                        columns = ['training_time', 'rmse'])\n",
    "\n",
    "analysis.reset_index(inplace=True)\n",
    "\n",
    "analysis.columns = ['model', 'training_time', 'rmse']\n",
    "analysis['training_time'] = analysis['training_time'].round(2)\n",
    "analysis['rmse'] = analysis['rmse'].round(2)"
   ]
  },
  {
   "cell_type": "code",
   "execution_count": 62,
   "metadata": {},
   "outputs": [
    {
     "data": {
      "image/png": "[encoded data removed]",
      "text/plain": [
       "<Figure size 432x288 with 1 Axes>"
      ]
     },
     "metadata": {
      "needs_background": "light"
     },
     "output_type": "display_data"
    }
   ],
   "source": [
    "fig, ax = plt.subplots()\n",
    "\n",
    "table = ax.table(cellText=analysis.values, colLabels=analysis.columns, loc='center')\n",
    "table.set_fontsize(16)\n",
    "table.scale(2,5)\n",
    "ax.axis('off')\n",
    "\n",
    "plt.show()"
   ]
  },
  {
   "cell_type": "markdown",
   "metadata": {},
   "source": [
    "При выполнении задачи по разработке модели предсказания рыночной цены автомобиля было проведено сравнение четырёх моделей: Линейной регрессии, Случайного леса, CatBoost, LGBM.  \n",
    "Быстрее всего работает модель линейной регрессии, медленнее - CatBoost.\n",
    "С точки зрения точности предсказания значения метрики RMSE ситуация обратная: Catboost - показал лучший результат, после него - LGBM.  \n",
    "Итоговые значение метрик и скорости обучения моделей в таблице выше."
   ]
  }
 ],
 "metadata": {
  "ExecuteTimeLog": [
   {
    "duration": 1640,
    "start_time": "2021-08-09T18:27:45.190Z"
   },
   {
    "duration": 1307,
    "start_time": "2021-08-09T18:28:11.601Z"
   },
   {
    "duration": 25,
    "start_time": "2021-08-09T18:28:38.763Z"
   },
   {
    "duration": 2781,
    "start_time": "2021-08-09T18:30:04.941Z"
   },
   {
    "duration": 4,
    "start_time": "2021-08-09T18:30:49.361Z"
   },
   {
    "duration": 6503,
    "start_time": "2021-08-09T18:31:11.674Z"
   },
   {
    "duration": 462,
    "start_time": "2021-08-09T18:31:34.840Z"
   },
   {
    "duration": 6,
    "start_time": "2021-08-09T18:31:47.852Z"
   },
   {
    "duration": 7,
    "start_time": "2021-08-09T18:33:52.498Z"
   },
   {
    "duration": 4,
    "start_time": "2021-08-09T18:34:10.307Z"
   },
   {
    "duration": 7,
    "start_time": "2021-08-09T18:34:18.334Z"
   },
   {
    "duration": 7,
    "start_time": "2021-08-09T18:35:00.754Z"
   },
   {
    "duration": 4,
    "start_time": "2021-08-09T18:35:11.093Z"
   },
   {
    "duration": 6,
    "start_time": "2021-08-09T18:35:16.818Z"
   },
   {
    "duration": 6,
    "start_time": "2021-08-09T18:35:33.096Z"
   },
   {
    "duration": 316,
    "start_time": "2021-08-09T18:35:38.157Z"
   },
   {
    "duration": 155,
    "start_time": "2021-08-09T18:36:31.460Z"
   },
   {
    "duration": 311,
    "start_time": "2021-08-09T18:37:04.118Z"
   },
   {
    "duration": 257,
    "start_time": "2021-08-09T18:37:08.048Z"
   },
   {
    "duration": 162,
    "start_time": "2021-08-09T18:40:56.085Z"
   },
   {
    "duration": 155,
    "start_time": "2021-08-09T18:40:58.021Z"
   },
   {
    "duration": 93,
    "start_time": "2021-08-09T18:41:10.886Z"
   },
   {
    "duration": 157,
    "start_time": "2021-08-09T18:41:13.731Z"
   },
   {
    "duration": 156,
    "start_time": "2021-08-09T18:41:28.307Z"
   },
   {
    "duration": 153,
    "start_time": "2021-08-09T18:43:27.548Z"
   },
   {
    "duration": 322,
    "start_time": "2021-08-09T18:44:42.433Z"
   },
   {
    "duration": 277,
    "start_time": "2021-08-09T18:44:59.288Z"
   },
   {
    "duration": 324,
    "start_time": "2021-08-09T18:45:07.707Z"
   },
   {
    "duration": 197,
    "start_time": "2021-08-09T18:45:31.645Z"
   },
   {
    "duration": 2810,
    "start_time": "2021-08-09T18:45:35.839Z"
   },
   {
    "duration": 8,
    "start_time": "2021-08-09T18:46:45.857Z"
   },
   {
    "duration": 356,
    "start_time": "2021-08-09T18:47:03.364Z"
   },
   {
    "duration": 259,
    "start_time": "2021-08-09T18:47:36.603Z"
   },
   {
    "duration": 260,
    "start_time": "2021-08-09T18:47:43.630Z"
   },
   {
    "duration": 10,
    "start_time": "2021-08-09T18:47:55.423Z"
   },
   {
    "duration": 29,
    "start_time": "2021-08-09T18:48:57.633Z"
   },
   {
    "duration": 7,
    "start_time": "2021-08-09T18:49:22.932Z"
   },
   {
    "duration": 5,
    "start_time": "2021-08-09T18:50:41.508Z"
   },
   {
    "duration": 288,
    "start_time": "2021-08-09T18:50:47.478Z"
   },
   {
    "duration": 266,
    "start_time": "2021-08-09T18:50:58.615Z"
   },
   {
    "duration": 273,
    "start_time": "2021-08-09T18:51:01.514Z"
   },
   {
    "duration": 403,
    "start_time": "2021-08-09T18:51:19.674Z"
   },
   {
    "duration": 296,
    "start_time": "2021-08-09T18:51:29.957Z"
   },
   {
    "duration": 6,
    "start_time": "2021-08-09T18:51:42.583Z"
   },
   {
    "duration": 1562,
    "start_time": "2021-08-09T18:52:02.824Z"
   },
   {
    "duration": 1293,
    "start_time": "2021-08-09T18:52:05.562Z"
   },
   {
    "duration": 27,
    "start_time": "2021-08-09T18:52:10.403Z"
   },
   {
    "duration": 6,
    "start_time": "2021-08-09T18:52:14.281Z"
   },
   {
    "duration": 6,
    "start_time": "2021-08-09T18:52:16.052Z"
   },
   {
    "duration": 20,
    "start_time": "2021-08-09T18:52:24.285Z"
   },
   {
    "duration": 8,
    "start_time": "2021-08-09T18:52:50.621Z"
   },
   {
    "duration": 341,
    "start_time": "2021-08-09T18:53:00.920Z"
   },
   {
    "duration": 362,
    "start_time": "2021-08-09T18:53:50.867Z"
   },
   {
    "duration": 358,
    "start_time": "2021-08-09T18:53:58.680Z"
   },
   {
    "duration": 316,
    "start_time": "2021-08-09T18:54:07.169Z"
   },
   {
    "duration": 406,
    "start_time": "2021-08-09T18:54:16.860Z"
   },
   {
    "duration": 302,
    "start_time": "2021-08-09T18:54:35.295Z"
   },
   {
    "duration": 337,
    "start_time": "2021-08-09T18:54:49.826Z"
   },
   {
    "duration": 275,
    "start_time": "2021-08-09T18:55:09.486Z"
   },
   {
    "duration": 259,
    "start_time": "2021-08-09T18:56:08.357Z"
   },
   {
    "duration": 277,
    "start_time": "2021-08-09T18:56:13.352Z"
   },
   {
    "duration": 628,
    "start_time": "2021-08-09T18:56:25.792Z"
   },
   {
    "duration": 686,
    "start_time": "2021-08-09T18:56:33.423Z"
   },
   {
    "duration": 688,
    "start_time": "2021-08-09T18:57:30.040Z"
   },
   {
    "duration": 658,
    "start_time": "2021-08-09T18:57:40.096Z"
   },
   {
    "duration": 363,
    "start_time": "2021-08-09T18:57:57.687Z"
   },
   {
    "duration": 343,
    "start_time": "2021-08-09T18:58:08.615Z"
   },
   {
    "duration": 976,
    "start_time": "2021-08-09T18:58:18.786Z"
   },
   {
    "duration": 93,
    "start_time": "2021-08-09T18:58:58.787Z"
   },
   {
    "duration": 757,
    "start_time": "2021-08-09T18:59:14.134Z"
   },
   {
    "duration": 948,
    "start_time": "2021-08-09T18:59:22.695Z"
   },
   {
    "duration": 1784,
    "start_time": "2021-08-09T18:59:30.601Z"
   },
   {
    "duration": 919,
    "start_time": "2021-08-09T18:59:41.618Z"
   },
   {
    "duration": 675,
    "start_time": "2021-08-09T18:59:45.408Z"
   },
   {
    "duration": 1067,
    "start_time": "2021-08-09T18:59:47.953Z"
   },
   {
    "duration": 682,
    "start_time": "2021-08-09T19:00:15.656Z"
   },
   {
    "duration": 331,
    "start_time": "2021-08-09T19:00:42.980Z"
   },
   {
    "duration": 275,
    "start_time": "2021-08-09T19:00:51.673Z"
   },
   {
    "duration": 291,
    "start_time": "2021-08-09T19:01:00.985Z"
   },
   {
    "duration": 266,
    "start_time": "2021-08-09T19:01:11.007Z"
   },
   {
    "duration": 284,
    "start_time": "2021-08-09T19:01:16.152Z"
   },
   {
    "duration": 291,
    "start_time": "2021-08-09T19:01:25.766Z"
   },
   {
    "duration": 275,
    "start_time": "2021-08-09T19:01:34.054Z"
   },
   {
    "duration": 269,
    "start_time": "2021-08-09T19:01:43.749Z"
   },
   {
    "duration": 263,
    "start_time": "2021-08-09T19:01:52.104Z"
   },
   {
    "duration": 377,
    "start_time": "2021-08-09T19:01:59.432Z"
   },
   {
    "duration": 487,
    "start_time": "2021-08-09T19:02:12.713Z"
   },
   {
    "duration": 316,
    "start_time": "2021-08-09T19:02:48.249Z"
   },
   {
    "duration": 494,
    "start_time": "2021-08-09T19:03:45.244Z"
   },
   {
    "duration": 489,
    "start_time": "2021-08-09T19:03:52.715Z"
   },
   {
    "duration": 498,
    "start_time": "2021-08-09T19:04:15.321Z"
   },
   {
    "duration": 498,
    "start_time": "2021-08-09T19:04:19.500Z"
   },
   {
    "duration": 495,
    "start_time": "2021-08-09T19:04:27.581Z"
   },
   {
    "duration": 668,
    "start_time": "2021-08-09T19:04:53.205Z"
   },
   {
    "duration": 402,
    "start_time": "2021-08-09T19:05:04.762Z"
   },
   {
    "duration": 449,
    "start_time": "2021-08-09T19:05:10.285Z"
   },
   {
    "duration": 419,
    "start_time": "2021-08-09T19:05:24.580Z"
   },
   {
    "duration": 6,
    "start_time": "2021-08-09T19:05:34.912Z"
   },
   {
    "duration": 27,
    "start_time": "2021-08-09T19:06:49.568Z"
   },
   {
    "duration": 90,
    "start_time": "2021-08-09T19:07:49.959Z"
   },
   {
    "duration": 99,
    "start_time": "2021-08-09T19:09:06.358Z"
   },
   {
    "duration": 61,
    "start_time": "2021-08-09T19:09:09.933Z"
   },
   {
    "duration": 17,
    "start_time": "2021-08-09T19:09:24.241Z"
   },
   {
    "duration": 264,
    "start_time": "2021-08-09T19:09:31.122Z"
   },
   {
    "duration": 64,
    "start_time": "2021-08-09T19:09:35.700Z"
   },
   {
    "duration": 247,
    "start_time": "2021-08-09T19:10:17.033Z"
   },
   {
    "duration": 149,
    "start_time": "2021-08-09T19:10:24.345Z"
   },
   {
    "duration": 401,
    "start_time": "2021-08-09T19:12:10.807Z"
   },
   {
    "duration": 374,
    "start_time": "2021-08-09T19:12:20.697Z"
   },
   {
    "duration": 353,
    "start_time": "2021-08-09T19:12:25.858Z"
   },
   {
    "duration": 111,
    "start_time": "2021-08-09T19:13:08.062Z"
   },
   {
    "duration": 329,
    "start_time": "2021-08-09T19:13:16.874Z"
   },
   {
    "duration": 301,
    "start_time": "2021-08-09T19:13:28.895Z"
   },
   {
    "duration": 416,
    "start_time": "2021-08-09T19:13:33.120Z"
   },
   {
    "duration": 360,
    "start_time": "2021-08-09T19:13:40.717Z"
   },
   {
    "duration": 575,
    "start_time": "2021-08-09T19:14:07.219Z"
   },
   {
    "duration": 481,
    "start_time": "2021-08-09T19:14:12.296Z"
   },
   {
    "duration": 473,
    "start_time": "2021-08-09T19:14:18.684Z"
   },
   {
    "duration": 328,
    "start_time": "2021-08-09T19:14:47.459Z"
   },
   {
    "duration": 259,
    "start_time": "2021-08-09T19:15:15.882Z"
   },
   {
    "duration": 270,
    "start_time": "2021-08-09T19:15:22.605Z"
   },
   {
    "duration": 483,
    "start_time": "2021-08-09T19:15:36.204Z"
   },
   {
    "duration": 275,
    "start_time": "2021-08-09T19:15:43.499Z"
   },
   {
    "duration": 1422,
    "start_time": "2021-08-09T19:19:57.312Z"
   },
   {
    "duration": 1240,
    "start_time": "2021-08-09T19:19:58.739Z"
   },
   {
    "duration": 122,
    "start_time": "2021-08-09T19:20:02.577Z"
   },
   {
    "duration": 21,
    "start_time": "2021-08-09T19:20:05.644Z"
   },
   {
    "duration": 7,
    "start_time": "2021-08-09T19:20:08.816Z"
   },
   {
    "duration": 447,
    "start_time": "2021-08-09T19:20:14.881Z"
   },
   {
    "duration": 12,
    "start_time": "2021-08-09T19:20:45.294Z"
   },
   {
    "duration": 498,
    "start_time": "2021-08-09T19:22:42.379Z"
   },
   {
    "duration": 156,
    "start_time": "2021-08-09T19:22:59.815Z"
   },
   {
    "duration": 444,
    "start_time": "2021-08-09T19:24:53.034Z"
   },
   {
    "duration": 343,
    "start_time": "2021-08-09T19:25:02.750Z"
   },
   {
    "duration": 272,
    "start_time": "2021-08-09T19:25:32.520Z"
   },
   {
    "duration": 636,
    "start_time": "2021-08-09T19:25:39.738Z"
   },
   {
    "duration": 336,
    "start_time": "2021-08-09T19:25:47.095Z"
   },
   {
    "duration": 460,
    "start_time": "2021-08-09T19:26:28.252Z"
   },
   {
    "duration": 829,
    "start_time": "2021-08-09T19:26:48.320Z"
   },
   {
    "duration": 618,
    "start_time": "2021-08-09T19:27:08.124Z"
   },
   {
    "duration": 451,
    "start_time": "2021-08-09T19:27:19.172Z"
   },
   {
    "duration": 823,
    "start_time": "2021-08-09T19:28:53.542Z"
   },
   {
    "duration": 446,
    "start_time": "2021-08-09T19:29:03.511Z"
   },
   {
    "duration": 652,
    "start_time": "2021-08-09T19:30:03.924Z"
   },
   {
    "duration": 729,
    "start_time": "2021-08-09T19:30:12.467Z"
   },
   {
    "duration": 815,
    "start_time": "2021-08-09T19:30:20.071Z"
   },
   {
    "duration": 142,
    "start_time": "2021-08-09T19:31:01.222Z"
   },
   {
    "duration": 109,
    "start_time": "2021-08-09T19:31:04.623Z"
   },
   {
    "duration": 786,
    "start_time": "2021-08-09T19:31:13.407Z"
   },
   {
    "duration": 794,
    "start_time": "2021-08-09T19:31:26.138Z"
   },
   {
    "duration": 1061,
    "start_time": "2021-08-09T19:31:38.520Z"
   },
   {
    "duration": 786,
    "start_time": "2021-08-09T19:32:08.191Z"
   },
   {
    "duration": 1171,
    "start_time": "2021-08-09T19:33:21.961Z"
   },
   {
    "duration": 1277,
    "start_time": "2021-08-09T19:33:28.264Z"
   },
   {
    "duration": 1711,
    "start_time": "2021-08-09T19:33:38.929Z"
   },
   {
    "duration": 1155,
    "start_time": "2021-08-09T19:33:48.048Z"
   },
   {
    "duration": 1130,
    "start_time": "2021-08-09T19:33:52.790Z"
   },
   {
    "duration": 639,
    "start_time": "2021-08-09T19:34:00.452Z"
   },
   {
    "duration": 593,
    "start_time": "2021-08-09T19:34:08.117Z"
   },
   {
    "duration": 605,
    "start_time": "2021-08-09T19:35:46.436Z"
   },
   {
    "duration": 275,
    "start_time": "2021-08-09T19:36:20.226Z"
   },
   {
    "duration": 1870,
    "start_time": "2021-08-09T19:36:25.558Z"
   },
   {
    "duration": 177,
    "start_time": "2021-08-09T19:37:15.045Z"
   },
   {
    "duration": 142,
    "start_time": "2021-08-09T19:37:18.155Z"
   },
   {
    "duration": 126,
    "start_time": "2021-08-09T19:37:21.696Z"
   },
   {
    "duration": 10,
    "start_time": "2021-08-09T19:38:16.295Z"
   },
   {
    "duration": 10,
    "start_time": "2021-08-09T19:38:23.461Z"
   },
   {
    "duration": -95,
    "start_time": "2021-08-09T19:40:04.790Z"
   },
   {
    "duration": 28,
    "start_time": "2021-08-09T19:40:11.154Z"
   },
   {
    "duration": 9,
    "start_time": "2021-08-09T19:40:36.690Z"
   },
   {
    "duration": 298,
    "start_time": "2021-08-09T19:45:26.251Z"
   },
   {
    "duration": 275,
    "start_time": "2021-08-09T19:45:52.661Z"
   },
   {
    "duration": 579,
    "start_time": "2021-08-09T19:46:44.911Z"
   },
   {
    "duration": 302,
    "start_time": "2021-08-09T19:49:34.641Z"
   },
   {
    "duration": 576,
    "start_time": "2021-08-09T19:51:29.527Z"
   },
   {
    "duration": 593,
    "start_time": "2021-08-09T19:51:45.781Z"
   },
   {
    "duration": 610,
    "start_time": "2021-08-09T19:52:10.188Z"
   },
   {
    "duration": 18,
    "start_time": "2021-08-09T19:53:43.857Z"
   },
   {
    "duration": 120,
    "start_time": "2021-08-09T19:53:56.933Z"
   },
   {
    "duration": 28,
    "start_time": "2021-08-09T19:54:03.115Z"
   },
   {
    "duration": 32,
    "start_time": "2021-08-09T19:54:05.958Z"
   },
   {
    "duration": 296,
    "start_time": "2021-08-09T19:55:04.090Z"
   },
   {
    "duration": 6,
    "start_time": "2021-08-09T19:55:17.113Z"
   },
   {
    "duration": 267,
    "start_time": "2021-08-09T19:55:39.315Z"
   },
   {
    "duration": 270,
    "start_time": "2021-08-09T19:57:19.740Z"
   },
   {
    "duration": 135,
    "start_time": "2021-08-09T19:57:27.555Z"
   },
   {
    "duration": 9,
    "start_time": "2021-08-09T19:58:22.450Z"
   },
   {
    "duration": 7,
    "start_time": "2021-08-09T19:58:25.946Z"
   },
   {
    "duration": 9,
    "start_time": "2021-08-09T20:02:03.932Z"
   },
   {
    "duration": 42,
    "start_time": "2021-08-09T20:02:36.269Z"
   },
   {
    "duration": 268,
    "start_time": "2021-08-09T20:03:07.806Z"
   },
   {
    "duration": 8,
    "start_time": "2021-08-09T20:05:42.109Z"
   },
   {
    "duration": 109,
    "start_time": "2021-08-09T20:05:49.442Z"
   },
   {
    "duration": 340,
    "start_time": "2021-08-09T20:05:52.456Z"
   },
   {
    "duration": 601,
    "start_time": "2021-08-09T20:06:02.277Z"
   },
   {
    "duration": 272,
    "start_time": "2021-08-09T20:06:40.917Z"
   },
   {
    "duration": 250,
    "start_time": "2021-08-09T20:07:06.520Z"
   },
   {
    "duration": 263,
    "start_time": "2021-08-09T20:07:17.269Z"
   },
   {
    "duration": 262,
    "start_time": "2021-08-09T20:09:11.188Z"
   },
   {
    "duration": 266,
    "start_time": "2021-08-09T20:09:19.125Z"
   },
   {
    "duration": 293,
    "start_time": "2021-08-09T20:09:26.673Z"
   },
   {
    "duration": 94,
    "start_time": "2021-08-09T20:09:36.642Z"
   },
   {
    "duration": 107,
    "start_time": "2021-08-09T20:10:22.231Z"
   },
   {
    "duration": 36,
    "start_time": "2021-08-09T20:13:18.967Z"
   },
   {
    "duration": 39,
    "start_time": "2021-08-09T20:13:31.827Z"
   },
   {
    "duration": 273,
    "start_time": "2021-08-09T20:14:44.200Z"
   },
   {
    "duration": 249,
    "start_time": "2021-08-09T20:14:52.759Z"
   },
   {
    "duration": 214,
    "start_time": "2021-08-09T20:17:47.974Z"
   },
   {
    "duration": 201,
    "start_time": "2021-08-09T20:17:56.675Z"
   },
   {
    "duration": 206,
    "start_time": "2021-08-09T20:18:40.726Z"
   },
   {
    "duration": 25,
    "start_time": "2021-08-09T20:19:03.450Z"
   },
   {
    "duration": 216,
    "start_time": "2021-08-09T20:19:30.263Z"
   },
   {
    "duration": 214,
    "start_time": "2021-08-09T20:19:37.005Z"
   },
   {
    "duration": 27,
    "start_time": "2021-08-09T20:21:19.409Z"
   },
   {
    "duration": 158,
    "start_time": "2021-08-09T20:21:56.637Z"
   },
   {
    "duration": 93,
    "start_time": "2021-08-09T20:22:06.877Z"
   },
   {
    "duration": 158,
    "start_time": "2021-08-09T20:22:12.298Z"
   },
   {
    "duration": 255,
    "start_time": "2021-08-09T20:23:07.358Z"
   },
   {
    "duration": 6,
    "start_time": "2021-08-09T20:23:10.060Z"
   },
   {
    "duration": 27,
    "start_time": "2021-08-09T20:23:14.302Z"
   },
   {
    "duration": 27,
    "start_time": "2021-08-09T20:23:20.548Z"
   },
   {
    "duration": 16,
    "start_time": "2021-08-09T20:25:03.677Z"
   },
   {
    "duration": 8,
    "start_time": "2021-08-09T20:25:10.500Z"
   },
   {
    "duration": 28,
    "start_time": "2021-08-09T20:27:02.801Z"
   },
   {
    "duration": 26,
    "start_time": "2021-08-09T20:27:22.120Z"
   },
   {
    "duration": 27,
    "start_time": "2021-08-09T20:27:50.253Z"
   },
   {
    "duration": 28,
    "start_time": "2021-08-09T20:28:32.874Z"
   },
   {
    "duration": 29,
    "start_time": "2021-08-09T20:28:36.499Z"
   },
   {
    "duration": 7,
    "start_time": "2021-08-09T20:28:53.867Z"
   },
   {
    "duration": 8,
    "start_time": "2021-08-09T20:28:59.062Z"
   },
   {
    "duration": 10,
    "start_time": "2021-08-09T20:29:52.031Z"
   },
   {
    "duration": 105,
    "start_time": "2021-08-09T20:30:02.478Z"
   },
   {
    "duration": 28,
    "start_time": "2021-08-09T20:31:22.622Z"
   },
   {
    "duration": 28,
    "start_time": "2021-08-09T20:31:38.352Z"
   },
   {
    "duration": 26,
    "start_time": "2021-08-09T20:32:06.480Z"
   },
   {
    "duration": 69,
    "start_time": "2021-08-09T20:32:38.749Z"
   },
   {
    "duration": 288,
    "start_time": "2021-08-09T20:33:10.893Z"
   },
   {
    "duration": 27,
    "start_time": "2021-08-09T20:33:16.426Z"
   },
   {
    "duration": 506,
    "start_time": "2021-08-09T20:34:24.343Z"
   },
   {
    "duration": 28,
    "start_time": "2021-08-09T20:34:45.273Z"
   },
   {
    "duration": 13,
    "start_time": "2021-08-09T20:36:00.086Z"
   },
   {
    "duration": 274,
    "start_time": "2021-08-09T20:36:16.875Z"
   },
   {
    "duration": 13,
    "start_time": "2021-08-09T20:36:54.037Z"
   },
   {
    "duration": 156,
    "start_time": "2021-08-09T20:38:51.284Z"
   },
   {
    "duration": 44,
    "start_time": "2021-08-09T20:41:34.775Z"
   },
   {
    "duration": 41,
    "start_time": "2021-08-09T20:44:43.378Z"
   },
   {
    "duration": 3,
    "start_time": "2021-08-09T20:45:55.765Z"
   },
   {
    "duration": 286,
    "start_time": "2021-08-09T20:47:04.275Z"
   },
   {
    "duration": 657,
    "start_time": "2021-08-09T20:47:14.768Z"
   },
   {
    "duration": 268,
    "start_time": "2021-08-09T20:47:19.873Z"
   },
   {
    "duration": 37,
    "start_time": "2021-08-09T20:47:36.465Z"
   },
   {
    "duration": 16,
    "start_time": "2021-08-09T20:48:27.788Z"
   },
   {
    "duration": 274,
    "start_time": "2021-08-09T20:48:33.955Z"
   },
   {
    "duration": 40,
    "start_time": "2021-08-09T20:49:22.919Z"
   },
   {
    "duration": 255,
    "start_time": "2021-08-09T20:49:57.954Z"
   },
   {
    "duration": 5,
    "start_time": "2021-08-09T20:50:00.454Z"
   },
   {
    "duration": 314,
    "start_time": "2021-08-09T20:50:02.510Z"
   },
   {
    "duration": 41,
    "start_time": "2021-08-09T20:50:39.682Z"
   },
   {
    "duration": 16,
    "start_time": "2021-08-09T20:51:09.097Z"
   },
   {
    "duration": 277,
    "start_time": "2021-08-09T20:51:38.782Z"
   },
   {
    "duration": 293,
    "start_time": "2021-08-09T20:51:45.430Z"
   },
   {
    "duration": 286,
    "start_time": "2021-08-09T20:52:00.379Z"
   },
   {
    "duration": 339,
    "start_time": "2021-08-09T20:52:07.705Z"
   },
   {
    "duration": 72,
    "start_time": "2021-08-09T20:53:20.658Z"
   },
   {
    "duration": 5,
    "start_time": "2021-08-09T20:53:32.960Z"
   },
   {
    "duration": 37,
    "start_time": "2021-08-09T20:53:37.249Z"
   },
   {
    "duration": 142,
    "start_time": "2021-08-09T20:53:47.089Z"
   },
   {
    "duration": 13,
    "start_time": "2021-08-09T20:54:18.056Z"
   },
   {
    "duration": 45,
    "start_time": "2021-08-09T20:54:23.012Z"
   },
   {
    "duration": 45,
    "start_time": "2021-08-09T20:54:48.500Z"
   },
   {
    "duration": 119,
    "start_time": "2021-08-09T20:55:58.265Z"
   },
   {
    "duration": 329,
    "start_time": "2021-08-09T21:03:10.543Z"
   },
   {
    "duration": 23,
    "start_time": "2021-08-09T21:03:22.010Z"
   },
   {
    "duration": 56,
    "start_time": "2021-08-09T21:03:27.382Z"
   },
   {
    "duration": 54,
    "start_time": "2021-08-09T21:03:45.955Z"
   },
   {
    "duration": 70,
    "start_time": "2021-08-09T21:04:48.251Z"
   },
   {
    "duration": 55,
    "start_time": "2021-08-09T21:05:03.934Z"
   },
   {
    "duration": 64,
    "start_time": "2021-08-09T21:05:21.509Z"
   },
   {
    "duration": 50,
    "start_time": "2021-08-09T21:08:07.331Z"
   },
   {
    "duration": 121,
    "start_time": "2021-08-09T21:08:16.454Z"
   },
   {
    "duration": 88,
    "start_time": "2021-08-09T21:08:52.799Z"
   },
   {
    "duration": 284,
    "start_time": "2021-08-09T21:10:24.437Z"
   },
   {
    "duration": 80,
    "start_time": "2021-08-09T21:11:44.300Z"
   },
   {
    "duration": 6310,
    "start_time": "2021-08-09T21:11:51.151Z"
   },
   {
    "duration": 69,
    "start_time": "2021-08-09T21:15:07.999Z"
   },
   {
    "duration": 40,
    "start_time": "2021-08-09T21:15:21.974Z"
   },
   {
    "duration": 45,
    "start_time": "2021-08-09T21:15:26.585Z"
   },
   {
    "duration": 340,
    "start_time": "2021-08-09T21:16:36.683Z"
   },
   {
    "duration": -133,
    "start_time": "2021-08-09T21:16:57.498Z"
   },
   {
    "duration": 30,
    "start_time": "2021-08-09T21:17:36.768Z"
   },
   {
    "duration": 89,
    "start_time": "2021-08-09T21:19:11.137Z"
   },
   {
    "duration": 6813,
    "start_time": "2021-08-09T21:21:29.566Z"
   },
   {
    "duration": 359,
    "start_time": "2021-08-09T21:25:23.590Z"
   },
   {
    "duration": 68,
    "start_time": "2021-08-09T21:25:29.860Z"
   },
   {
    "duration": 126,
    "start_time": "2021-08-09T21:25:47.153Z"
   },
   {
    "duration": 175,
    "start_time": "2021-08-09T21:26:09.918Z"
   },
   {
    "duration": 98,
    "start_time": "2021-08-09T21:26:44.840Z"
   },
   {
    "duration": 138,
    "start_time": "2021-08-09T21:31:29.719Z"
   },
   {
    "duration": 82,
    "start_time": "2021-08-09T21:31:41.562Z"
   },
   {
    "duration": 97,
    "start_time": "2021-08-09T21:31:46.332Z"
   },
   {
    "duration": 63,
    "start_time": "2021-08-09T21:32:00.030Z"
   },
   {
    "duration": 328,
    "start_time": "2021-08-09T21:32:08.827Z"
   },
   {
    "duration": 312,
    "start_time": "2021-08-09T21:32:29.078Z"
   },
   {
    "duration": 56,
    "start_time": "2021-08-09T21:32:34.621Z"
   },
   {
    "duration": 55,
    "start_time": "2021-08-09T21:33:00.226Z"
   },
   {
    "duration": 55,
    "start_time": "2021-08-09T21:33:04.505Z"
   },
   {
    "duration": 53,
    "start_time": "2021-08-09T21:33:08.878Z"
   },
   {
    "duration": 80,
    "start_time": "2021-08-09T21:33:17.005Z"
   },
   {
    "duration": 55,
    "start_time": "2021-08-09T21:33:21.312Z"
   },
   {
    "duration": 57,
    "start_time": "2021-08-09T21:33:30.332Z"
   },
   {
    "duration": 4,
    "start_time": "2021-08-09T21:38:46.616Z"
   },
   {
    "duration": 674,
    "start_time": "2021-08-09T21:39:00.053Z"
   },
   {
    "duration": 68,
    "start_time": "2021-08-09T21:39:38.724Z"
   },
   {
    "duration": 114,
    "start_time": "2021-08-09T21:39:57.233Z"
   },
   {
    "duration": 83,
    "start_time": "2021-08-09T21:40:07.704Z"
   },
   {
    "duration": 623,
    "start_time": "2021-08-09T21:40:45.610Z"
   },
   {
    "duration": 3621,
    "start_time": "2021-08-09T21:41:00.503Z"
   },
   {
    "duration": 1629,
    "start_time": "2021-08-10T16:53:23.369Z"
   },
   {
    "duration": 1256,
    "start_time": "2021-08-10T16:53:27.762Z"
   },
   {
    "duration": 11,
    "start_time": "2021-08-10T16:53:33.192Z"
   },
   {
    "duration": 124,
    "start_time": "2021-08-10T16:53:37.552Z"
   },
   {
    "duration": 23,
    "start_time": "2021-08-10T16:53:39.892Z"
   },
   {
    "duration": 179,
    "start_time": "2021-08-10T16:53:43.210Z"
   },
   {
    "duration": 26,
    "start_time": "2021-08-10T16:53:47.823Z"
   },
   {
    "duration": 26,
    "start_time": "2021-08-10T16:53:51.039Z"
   },
   {
    "duration": 29,
    "start_time": "2021-08-10T16:53:52.925Z"
   },
   {
    "duration": 29,
    "start_time": "2021-08-10T16:53:55.990Z"
   },
   {
    "duration": 27,
    "start_time": "2021-08-10T16:53:57.775Z"
   },
   {
    "duration": 1139,
    "start_time": "2021-08-10T16:57:58.183Z"
   },
   {
    "duration": 97,
    "start_time": "2021-08-10T16:58:32.265Z"
   },
   {
    "duration": 196,
    "start_time": "2021-08-10T16:59:44.659Z"
   },
   {
    "duration": 4067,
    "start_time": "2021-08-10T17:04:09.230Z"
   },
   {
    "duration": 98,
    "start_time": "2021-08-10T17:29:25.028Z"
   },
   {
    "duration": 187,
    "start_time": "2021-08-10T17:29:52.598Z"
   },
   {
    "duration": 174,
    "start_time": "2021-08-10T17:29:59.005Z"
   },
   {
    "duration": 1729,
    "start_time": "2021-08-10T17:30:15.700Z"
   },
   {
    "duration": 157,
    "start_time": "2021-08-10T17:30:35.376Z"
   },
   {
    "duration": 408,
    "start_time": "2021-08-10T17:30:52.348Z"
   },
   {
    "duration": 72,
    "start_time": "2021-08-10T17:39:11.174Z"
   },
   {
    "duration": 3756,
    "start_time": "2021-08-10T17:39:43.896Z"
   },
   {
    "duration": 3841,
    "start_time": "2021-08-10T17:40:05.380Z"
   },
   {
    "duration": 104,
    "start_time": "2021-08-10T17:41:28.854Z"
   },
   {
    "duration": 128,
    "start_time": "2021-08-10T17:41:37.041Z"
   },
   {
    "duration": 179,
    "start_time": "2021-08-10T17:41:49.752Z"
   },
   {
    "duration": 147,
    "start_time": "2021-08-10T17:41:53.884Z"
   },
   {
    "duration": 208,
    "start_time": "2021-08-10T17:41:59.185Z"
   },
   {
    "duration": 6729,
    "start_time": "2021-08-10T17:42:30.332Z"
   },
   {
    "duration": 401,
    "start_time": "2021-08-10T17:42:45.992Z"
   },
   {
    "duration": 302,
    "start_time": "2021-08-10T17:42:57.053Z"
   },
   {
    "duration": 216,
    "start_time": "2021-08-10T17:43:10.825Z"
   },
   {
    "duration": 57,
    "start_time": "2021-08-10T17:44:31.935Z"
   },
   {
    "duration": 100,
    "start_time": "2021-08-10T17:48:38.937Z"
   },
   {
    "duration": 258,
    "start_time": "2021-08-10T17:48:47.781Z"
   },
   {
    "duration": 322,
    "start_time": "2021-08-10T17:49:17.859Z"
   },
   {
    "duration": 268,
    "start_time": "2021-08-10T17:50:17.346Z"
   },
   {
    "duration": 80,
    "start_time": "2021-08-10T17:50:20.731Z"
   },
   {
    "duration": 215,
    "start_time": "2021-08-10T17:51:39.082Z"
   },
   {
    "duration": 407,
    "start_time": "2021-08-10T17:55:44.835Z"
   },
   {
    "duration": 377,
    "start_time": "2021-08-10T17:55:54.816Z"
   },
   {
    "duration": 105,
    "start_time": "2021-08-10T17:56:06.477Z"
   },
   {
    "duration": 110,
    "start_time": "2021-08-10T17:56:16.289Z"
   },
   {
    "duration": 15,
    "start_time": "2021-08-10T17:58:16.571Z"
   },
   {
    "duration": 1568,
    "start_time": "2021-08-10T17:58:27.574Z"
   },
   {
    "duration": 1313,
    "start_time": "2021-08-10T17:58:29.391Z"
   },
   {
    "duration": 10,
    "start_time": "2021-08-10T17:58:33.260Z"
   },
   {
    "duration": 122,
    "start_time": "2021-08-10T17:58:34.092Z"
   },
   {
    "duration": 21,
    "start_time": "2021-08-10T17:58:37.375Z"
   },
   {
    "duration": 170,
    "start_time": "2021-08-10T17:58:38.330Z"
   },
   {
    "duration": 27,
    "start_time": "2021-08-10T17:58:41.313Z"
   },
   {
    "duration": 26,
    "start_time": "2021-08-10T17:58:42.231Z"
   },
   {
    "duration": 30,
    "start_time": "2021-08-10T17:58:42.960Z"
   },
   {
    "duration": 28,
    "start_time": "2021-08-10T17:58:47.598Z"
   },
   {
    "duration": 26,
    "start_time": "2021-08-10T17:58:50.151Z"
   },
   {
    "duration": 78,
    "start_time": "2021-08-10T17:58:53.622Z"
   },
   {
    "duration": 218,
    "start_time": "2021-08-10T17:58:55.498Z"
   },
   {
    "duration": 48,
    "start_time": "2021-08-10T17:58:59.389Z"
   },
   {
    "duration": 106,
    "start_time": "2021-08-10T17:59:15.550Z"
   },
   {
    "duration": 185,
    "start_time": "2021-08-10T17:59:24.556Z"
   },
   {
    "duration": 174,
    "start_time": "2021-08-10T17:59:46.394Z"
   },
   {
    "duration": 119,
    "start_time": "2021-08-10T18:00:17.092Z"
   },
   {
    "duration": 167,
    "start_time": "2021-08-10T18:00:38.638Z"
   },
   {
    "duration": 181,
    "start_time": "2021-08-10T18:00:58.743Z"
   },
   {
    "duration": 121,
    "start_time": "2021-08-10T18:01:16.039Z"
   },
   {
    "duration": 151,
    "start_time": "2021-08-10T18:02:03.991Z"
   },
   {
    "duration": 1710,
    "start_time": "2021-08-10T18:02:18.034Z"
   },
   {
    "duration": 1385,
    "start_time": "2021-08-10T18:02:20.543Z"
   },
   {
    "duration": 11,
    "start_time": "2021-08-10T18:02:22.491Z"
   },
   {
    "duration": 123,
    "start_time": "2021-08-10T18:02:23.165Z"
   },
   {
    "duration": 20,
    "start_time": "2021-08-10T18:02:23.654Z"
   },
   {
    "duration": 150,
    "start_time": "2021-08-10T18:02:24.592Z"
   },
   {
    "duration": 28,
    "start_time": "2021-08-10T18:02:28.523Z"
   },
   {
    "duration": 26,
    "start_time": "2021-08-10T18:02:29.071Z"
   },
   {
    "duration": 29,
    "start_time": "2021-08-10T18:02:29.446Z"
   },
   {
    "duration": 27,
    "start_time": "2021-08-10T18:02:29.863Z"
   },
   {
    "duration": 28,
    "start_time": "2021-08-10T18:02:30.742Z"
   },
   {
    "duration": 72,
    "start_time": "2021-08-10T18:02:33.317Z"
   },
   {
    "duration": 220,
    "start_time": "2021-08-10T18:02:35.429Z"
   },
   {
    "duration": 125,
    "start_time": "2021-08-10T18:02:39.052Z"
   },
   {
    "duration": 123,
    "start_time": "2021-08-10T18:03:09.307Z"
   },
   {
    "duration": 135,
    "start_time": "2021-08-10T18:03:30.335Z"
   },
   {
    "duration": 128,
    "start_time": "2021-08-10T18:03:44.781Z"
   },
   {
    "duration": 204,
    "start_time": "2021-08-10T18:03:55.915Z"
   },
   {
    "duration": 91,
    "start_time": "2021-08-10T18:04:04.293Z"
   },
   {
    "duration": 78,
    "start_time": "2021-08-10T18:04:45.795Z"
   },
   {
    "duration": 61,
    "start_time": "2021-08-10T18:04:54.015Z"
   },
   {
    "duration": 68,
    "start_time": "2021-08-10T18:08:55.531Z"
   },
   {
    "duration": 25,
    "start_time": "2021-08-10T18:10:00.314Z"
   },
   {
    "duration": 43,
    "start_time": "2021-08-10T18:10:12.106Z"
   },
   {
    "duration": 75,
    "start_time": "2021-08-10T18:10:48.784Z"
   },
   {
    "duration": 86,
    "start_time": "2021-08-10T18:11:15.240Z"
   },
   {
    "duration": 10,
    "start_time": "2021-08-10T18:11:45.930Z"
   },
   {
    "duration": 80,
    "start_time": "2021-08-10T18:12:01.039Z"
   },
   {
    "duration": 33,
    "start_time": "2021-08-10T18:12:25.881Z"
   },
   {
    "duration": 77,
    "start_time": "2021-08-10T18:12:47.253Z"
   },
   {
    "duration": 189,
    "start_time": "2021-08-10T18:13:09.771Z"
   },
   {
    "duration": 31,
    "start_time": "2021-08-10T18:13:34.246Z"
   },
   {
    "duration": 32,
    "start_time": "2021-08-10T18:16:53.093Z"
   },
   {
    "duration": 163,
    "start_time": "2021-08-10T18:17:04.904Z"
   },
   {
    "duration": 175,
    "start_time": "2021-08-10T18:17:15.144Z"
   },
   {
    "duration": 1508,
    "start_time": "2021-08-10T18:17:30.106Z"
   },
   {
    "duration": 1272,
    "start_time": "2021-08-10T18:17:31.616Z"
   },
   {
    "duration": 10,
    "start_time": "2021-08-10T18:17:32.891Z"
   },
   {
    "duration": 149,
    "start_time": "2021-08-10T18:17:32.904Z"
   },
   {
    "duration": 21,
    "start_time": "2021-08-10T18:17:33.055Z"
   },
   {
    "duration": 181,
    "start_time": "2021-08-10T18:17:33.079Z"
   },
   {
    "duration": 28,
    "start_time": "2021-08-10T18:17:39.144Z"
   },
   {
    "duration": 26,
    "start_time": "2021-08-10T18:17:39.546Z"
   },
   {
    "duration": 28,
    "start_time": "2021-08-10T18:17:39.932Z"
   },
   {
    "duration": 29,
    "start_time": "2021-08-10T18:17:40.291Z"
   },
   {
    "duration": 26,
    "start_time": "2021-08-10T18:17:41.080Z"
   },
   {
    "duration": 74,
    "start_time": "2021-08-10T18:17:44.189Z"
   },
   {
    "duration": 229,
    "start_time": "2021-08-10T18:17:45.790Z"
   },
   {
    "duration": 93,
    "start_time": "2021-08-10T18:17:57.475Z"
   },
   {
    "duration": 208,
    "start_time": "2021-08-10T18:18:08.291Z"
   },
   {
    "duration": 68,
    "start_time": "2021-08-10T18:18:16.416Z"
   },
   {
    "duration": 57,
    "start_time": "2021-08-10T18:18:30.233Z"
   },
   {
    "duration": 102,
    "start_time": "2021-08-10T18:19:30.703Z"
   },
   {
    "duration": 558,
    "start_time": "2021-08-10T18:20:46.540Z"
   },
   {
    "duration": 400,
    "start_time": "2021-08-10T18:20:57.638Z"
   },
   {
    "duration": 11,
    "start_time": "2021-08-10T18:22:01.931Z"
   },
   {
    "duration": 260,
    "start_time": "2021-08-10T18:22:13.307Z"
   },
   {
    "duration": 11,
    "start_time": "2021-08-10T18:22:24.941Z"
   },
   {
    "duration": 11,
    "start_time": "2021-08-10T18:22:27.622Z"
   },
   {
    "duration": 10,
    "start_time": "2021-08-10T18:49:14.968Z"
   },
   {
    "duration": 216,
    "start_time": "2021-08-10T18:50:47.170Z"
   },
   {
    "duration": 209,
    "start_time": "2021-08-10T18:51:18.443Z"
   },
   {
    "duration": 261,
    "start_time": "2021-08-10T18:51:43.877Z"
   },
   {
    "duration": 113,
    "start_time": "2021-08-10T18:51:48.176Z"
   },
   {
    "duration": 165,
    "start_time": "2021-08-10T18:52:13.334Z"
   },
   {
    "duration": 61,
    "start_time": "2021-08-10T18:56:48.657Z"
   },
   {
    "duration": 195,
    "start_time": "2021-08-10T18:57:30.152Z"
   },
   {
    "duration": 46,
    "start_time": "2021-08-10T18:57:33.698Z"
   },
   {
    "duration": 13,
    "start_time": "2021-08-10T19:07:03.569Z"
   },
   {
    "duration": 12,
    "start_time": "2021-08-10T19:08:38.310Z"
   },
   {
    "duration": 87,
    "start_time": "2021-08-10T19:08:46.916Z"
   },
   {
    "duration": 281,
    "start_time": "2021-08-10T19:08:57.097Z"
   },
   {
    "duration": 269,
    "start_time": "2021-08-10T19:09:14.029Z"
   },
   {
    "duration": 1587,
    "start_time": "2021-08-10T19:09:38.814Z"
   },
   {
    "duration": 1287,
    "start_time": "2021-08-10T19:09:40.404Z"
   },
   {
    "duration": 11,
    "start_time": "2021-08-10T19:09:41.695Z"
   },
   {
    "duration": 174,
    "start_time": "2021-08-10T19:09:41.708Z"
   },
   {
    "duration": 21,
    "start_time": "2021-08-10T19:09:41.886Z"
   },
   {
    "duration": 155,
    "start_time": "2021-08-10T19:09:47.449Z"
   },
   {
    "duration": 47,
    "start_time": "2021-08-10T19:09:51.690Z"
   },
   {
    "duration": 26,
    "start_time": "2021-08-10T19:09:52.473Z"
   },
   {
    "duration": 28,
    "start_time": "2021-08-10T19:09:53.053Z"
   },
   {
    "duration": 28,
    "start_time": "2021-08-10T19:09:56.356Z"
   },
   {
    "duration": 26,
    "start_time": "2021-08-10T19:09:57.163Z"
   },
   {
    "duration": 72,
    "start_time": "2021-08-10T19:10:00.214Z"
   },
   {
    "duration": 218,
    "start_time": "2021-08-10T19:10:04.707Z"
   },
   {
    "duration": 97,
    "start_time": "2021-08-10T19:10:07.453Z"
   },
   {
    "duration": 197,
    "start_time": "2021-08-10T19:10:12.570Z"
   },
   {
    "duration": 54,
    "start_time": "2021-08-10T19:10:15.256Z"
   },
   {
    "duration": 13,
    "start_time": "2021-08-10T19:10:17.365Z"
   },
   {
    "duration": 12,
    "start_time": "2021-08-10T19:10:27.826Z"
   },
   {
    "duration": 6,
    "start_time": "2021-08-10T19:10:49.613Z"
   },
   {
    "duration": 6,
    "start_time": "2021-08-10T19:11:00.922Z"
   },
   {
    "duration": 83,
    "start_time": "2021-08-10T19:11:03.086Z"
   },
   {
    "duration": 569,
    "start_time": "2021-08-10T19:11:18.366Z"
   },
   {
    "duration": 1177,
    "start_time": "2021-08-10T19:11:37.628Z"
   },
   {
    "duration": 1212,
    "start_time": "2021-08-10T19:12:02.351Z"
   },
   {
    "duration": 1121,
    "start_time": "2021-08-10T19:12:14.988Z"
   },
   {
    "duration": 268,
    "start_time": "2021-08-10T19:13:06.588Z"
   },
   {
    "duration": 818,
    "start_time": "2021-08-10T19:13:16.245Z"
   },
   {
    "duration": 8,
    "start_time": "2021-08-10T19:35:57.469Z"
   },
   {
    "duration": 47,
    "start_time": "2021-08-10T19:36:07.012Z"
   },
   {
    "duration": 54,
    "start_time": "2021-08-10T19:36:14.022Z"
   },
   {
    "duration": 23,
    "start_time": "2021-08-10T19:41:32.619Z"
   },
   {
    "duration": 6770,
    "start_time": "2021-08-10T19:51:16.784Z"
   },
   {
    "duration": 274,
    "start_time": "2021-08-10T19:55:19.005Z"
   },
   {
    "duration": 290,
    "start_time": "2021-08-10T19:55:35.076Z"
   },
   {
    "duration": 122,
    "start_time": "2021-08-10T19:56:46.507Z"
   },
   {
    "duration": 10,
    "start_time": "2021-08-10T19:56:56.228Z"
   },
   {
    "duration": 10,
    "start_time": "2021-08-10T19:57:04.409Z"
   },
   {
    "duration": 6780,
    "start_time": "2021-08-10T19:57:34.265Z"
   },
   {
    "duration": 267,
    "start_time": "2021-08-10T19:57:53.782Z"
   },
   {
    "duration": 11,
    "start_time": "2021-08-10T19:58:08.206Z"
   },
   {
    "duration": 94,
    "start_time": "2021-08-10T19:58:23.119Z"
   },
   {
    "duration": 20,
    "start_time": "2021-08-10T19:58:28.866Z"
   },
   {
    "duration": 62,
    "start_time": "2021-08-10T19:58:35.327Z"
   },
   {
    "duration": 41,
    "start_time": "2021-08-10T19:59:13.042Z"
   },
   {
    "duration": 125,
    "start_time": "2021-08-10T19:59:31.582Z"
   },
   {
    "duration": 28,
    "start_time": "2021-08-10T20:01:49.204Z"
   },
   {
    "duration": 62,
    "start_time": "2021-08-10T20:02:06.753Z"
   },
   {
    "duration": 1503,
    "start_time": "2021-08-10T20:02:26.816Z"
   },
   {
    "duration": 1289,
    "start_time": "2021-08-10T20:02:29.019Z"
   },
   {
    "duration": 11,
    "start_time": "2021-08-10T20:02:30.312Z"
   },
   {
    "duration": 152,
    "start_time": "2021-08-10T20:02:30.327Z"
   },
   {
    "duration": 22,
    "start_time": "2021-08-10T20:02:30.483Z"
   },
   {
    "duration": 153,
    "start_time": "2021-08-10T20:02:34.559Z"
   },
   {
    "duration": 43,
    "start_time": "2021-08-10T20:02:39.264Z"
   },
   {
    "duration": 516,
    "start_time": "2021-08-10T20:02:51.351Z"
   },
   {
    "duration": 125,
    "start_time": "2021-08-10T20:02:54.756Z"
   },
   {
    "duration": 350,
    "start_time": "2021-08-10T20:03:00.162Z"
   },
   {
    "duration": 24,
    "start_time": "2021-08-10T20:03:05.109Z"
   },
   {
    "duration": 86,
    "start_time": "2021-08-10T20:04:50.342Z"
   },
   {
    "duration": 457,
    "start_time": "2021-08-10T20:05:18.458Z"
   },
   {
    "duration": 36,
    "start_time": "2021-08-10T20:07:17.364Z"
   },
   {
    "duration": 26,
    "start_time": "2021-08-10T20:07:26.025Z"
   },
   {
    "duration": 69,
    "start_time": "2021-08-10T20:07:38.746Z"
   },
   {
    "duration": 26,
    "start_time": "2021-08-10T20:07:45.828Z"
   },
   {
    "duration": 26,
    "start_time": "2021-08-10T20:07:47.620Z"
   },
   {
    "duration": 29,
    "start_time": "2021-08-10T20:07:49.579Z"
   },
   {
    "duration": 27,
    "start_time": "2021-08-10T20:07:52.650Z"
   },
   {
    "duration": 25,
    "start_time": "2021-08-10T20:07:54.807Z"
   },
   {
    "duration": 79,
    "start_time": "2021-08-10T20:08:09.433Z"
   },
   {
    "duration": 216,
    "start_time": "2021-08-10T20:08:11.408Z"
   },
   {
    "duration": 232,
    "start_time": "2021-08-10T20:08:38.177Z"
   },
   {
    "duration": 223,
    "start_time": "2021-08-10T20:08:46.522Z"
   },
   {
    "duration": 244,
    "start_time": "2021-08-10T20:08:56.282Z"
   },
   {
    "duration": 300,
    "start_time": "2021-08-10T20:09:01.716Z"
   },
   {
    "duration": 222,
    "start_time": "2021-08-10T20:09:09.828Z"
   },
   {
    "duration": 215,
    "start_time": "2021-08-10T20:09:15.614Z"
   },
   {
    "duration": 225,
    "start_time": "2021-08-10T20:09:24.857Z"
   },
   {
    "duration": 73,
    "start_time": "2021-08-10T20:09:54.775Z"
   },
   {
    "duration": 201,
    "start_time": "2021-08-10T20:09:57.063Z"
   },
   {
    "duration": 49,
    "start_time": "2021-08-10T20:09:59.493Z"
   },
   {
    "duration": 13,
    "start_time": "2021-08-10T20:10:02.331Z"
   },
   {
    "duration": 12,
    "start_time": "2021-08-10T20:10:06.804Z"
   },
   {
    "duration": 778,
    "start_time": "2021-08-10T20:10:56.958Z"
   },
   {
    "duration": 773,
    "start_time": "2021-08-10T20:11:00.262Z"
   },
   {
    "duration": 52,
    "start_time": "2021-08-10T20:11:12.191Z"
   },
   {
    "duration": 749,
    "start_time": "2021-08-10T20:11:36.973Z"
   },
   {
    "duration": 738,
    "start_time": "2021-08-10T20:11:54.328Z"
   },
   {
    "duration": 49,
    "start_time": "2021-08-10T20:12:02.692Z"
   },
   {
    "duration": 856,
    "start_time": "2021-08-10T20:12:14.670Z"
   },
   {
    "duration": 611,
    "start_time": "2021-08-10T20:12:26.165Z"
   },
   {
    "duration": 646,
    "start_time": "2021-08-10T20:12:31.462Z"
   },
   {
    "duration": 633,
    "start_time": "2021-08-10T20:13:37.183Z"
   },
   {
    "duration": 255,
    "start_time": "2021-08-10T20:13:43.805Z"
   },
   {
    "duration": 8,
    "start_time": "2021-08-10T20:13:47.604Z"
   },
   {
    "duration": 257,
    "start_time": "2021-08-10T20:14:10.895Z"
   },
   {
    "duration": 70,
    "start_time": "2021-08-10T20:14:14.718Z"
   },
   {
    "duration": 271,
    "start_time": "2021-08-10T20:14:59.409Z"
   },
   {
    "duration": 1535,
    "start_time": "2021-08-10T20:18:13.807Z"
   },
   {
    "duration": 1373,
    "start_time": "2021-08-10T20:18:19.897Z"
   },
   {
    "duration": 234,
    "start_time": "2021-08-10T20:19:13.915Z"
   },
   {
    "duration": 216,
    "start_time": "2021-08-10T20:19:25.396Z"
   },
   {
    "duration": 216,
    "start_time": "2021-08-10T20:19:31.663Z"
   },
   {
    "duration": 8,
    "start_time": "2021-08-10T20:20:30.025Z"
   },
   {
    "duration": 38,
    "start_time": "2021-08-10T20:20:34.649Z"
   },
   {
    "duration": 46,
    "start_time": "2021-08-10T20:20:43.720Z"
   },
   {
    "duration": 44,
    "start_time": "2021-08-10T20:20:49.669Z"
   },
   {
    "duration": 46,
    "start_time": "2021-08-10T20:20:54.999Z"
   },
   {
    "duration": 45,
    "start_time": "2021-08-10T20:21:01.014Z"
   },
   {
    "duration": 66,
    "start_time": "2021-08-10T20:21:05.484Z"
   },
   {
    "duration": 202,
    "start_time": "2021-08-10T20:21:18.021Z"
   },
   {
    "duration": 61,
    "start_time": "2021-08-10T20:22:01.957Z"
   },
   {
    "duration": 1480,
    "start_time": "2021-08-10T20:22:21.680Z"
   },
   {
    "duration": 298,
    "start_time": "2021-08-10T20:22:55.472Z"
   },
   {
    "duration": 221,
    "start_time": "2021-08-10T20:23:11.383Z"
   },
   {
    "duration": 40,
    "start_time": "2021-08-10T20:23:30.397Z"
   },
   {
    "duration": 41,
    "start_time": "2021-08-10T20:23:38.796Z"
   },
   {
    "duration": 42,
    "start_time": "2021-08-10T20:23:45.597Z"
   },
   {
    "duration": 203,
    "start_time": "2021-08-10T20:24:05.146Z"
   },
   {
    "duration": 302,
    "start_time": "2021-08-10T20:24:21.512Z"
   },
   {
    "duration": 506,
    "start_time": "2021-08-10T20:24:45.430Z"
   },
   {
    "duration": 487,
    "start_time": "2021-08-10T20:24:56.354Z"
   },
   {
    "duration": 637,
    "start_time": "2021-08-10T20:25:03.694Z"
   },
   {
    "duration": 209,
    "start_time": "2021-08-10T20:25:09.360Z"
   },
   {
    "duration": 226,
    "start_time": "2021-08-10T20:25:15.741Z"
   },
   {
    "duration": 208,
    "start_time": "2021-08-10T20:25:24.466Z"
   },
   {
    "duration": 229,
    "start_time": "2021-08-10T20:25:39.043Z"
   },
   {
    "duration": 236,
    "start_time": "2021-08-10T20:25:46.545Z"
   },
   {
    "duration": 319,
    "start_time": "2021-08-10T20:25:51.327Z"
   },
   {
    "duration": 45,
    "start_time": "2021-08-10T20:26:12.773Z"
   },
   {
    "duration": 13,
    "start_time": "2021-08-10T20:26:14.120Z"
   },
   {
    "duration": 12,
    "start_time": "2021-08-10T20:26:16.208Z"
   },
   {
    "duration": 841,
    "start_time": "2021-08-10T20:26:18.613Z"
   },
   {
    "duration": 756,
    "start_time": "2021-08-10T20:26:23.202Z"
   },
   {
    "duration": 631,
    "start_time": "2021-08-10T20:26:31.078Z"
   },
   {
    "duration": 259,
    "start_time": "2021-08-10T20:31:02.469Z"
   },
   {
    "duration": 6,
    "start_time": "2021-08-10T20:31:14.642Z"
   },
   {
    "duration": 262,
    "start_time": "2021-08-10T20:31:23.838Z"
   },
   {
    "duration": 1443,
    "start_time": "2021-08-10T20:31:32.232Z"
   },
   {
    "duration": 331,
    "start_time": "2021-08-10T20:31:49.728Z"
   },
   {
    "duration": 5362,
    "start_time": "2021-08-10T20:31:54.723Z"
   },
   {
    "duration": 3844,
    "start_time": "2021-08-10T20:32:23.189Z"
   },
   {
    "duration": 1239,
    "start_time": "2021-08-10T20:32:38.091Z"
   },
   {
    "duration": 7,
    "start_time": "2021-08-10T20:34:24.083Z"
   },
   {
    "duration": 8,
    "start_time": "2021-08-10T20:34:46.505Z"
   },
   {
    "duration": 7,
    "start_time": "2021-08-10T20:34:56.261Z"
   },
   {
    "duration": 4,
    "start_time": "2021-08-10T20:35:15.568Z"
   },
   {
    "duration": 1570,
    "start_time": "2021-08-10T20:35:24.419Z"
   },
   {
    "duration": 1298,
    "start_time": "2021-08-10T20:35:25.991Z"
   },
   {
    "duration": 9,
    "start_time": "2021-08-10T20:35:27.292Z"
   },
   {
    "duration": 150,
    "start_time": "2021-08-10T20:35:27.304Z"
   },
   {
    "duration": 19,
    "start_time": "2021-08-10T20:35:27.456Z"
   },
   {
    "duration": 178,
    "start_time": "2021-08-10T20:35:27.478Z"
   },
   {
    "duration": 410,
    "start_time": "2021-08-10T20:35:27.658Z"
   },
   {
    "duration": -2370,
    "start_time": "2021-08-10T20:35:30.441Z"
   },
   {
    "duration": -2373,
    "start_time": "2021-08-10T20:35:30.445Z"
   },
   {
    "duration": -2382,
    "start_time": "2021-08-10T20:35:30.455Z"
   },
   {
    "duration": -2381,
    "start_time": "2021-08-10T20:35:30.456Z"
   },
   {
    "duration": -2382,
    "start_time": "2021-08-10T20:35:30.459Z"
   },
   {
    "duration": -2382,
    "start_time": "2021-08-10T20:35:30.460Z"
   },
   {
    "duration": -2383,
    "start_time": "2021-08-10T20:35:30.462Z"
   },
   {
    "duration": -2382,
    "start_time": "2021-08-10T20:35:30.463Z"
   },
   {
    "duration": -2387,
    "start_time": "2021-08-10T20:35:30.469Z"
   },
   {
    "duration": -2387,
    "start_time": "2021-08-10T20:35:30.471Z"
   },
   {
    "duration": -2387,
    "start_time": "2021-08-10T20:35:30.472Z"
   },
   {
    "duration": -2386,
    "start_time": "2021-08-10T20:35:30.473Z"
   },
   {
    "duration": -2387,
    "start_time": "2021-08-10T20:35:30.475Z"
   },
   {
    "duration": -2387,
    "start_time": "2021-08-10T20:35:30.477Z"
   },
   {
    "duration": -2387,
    "start_time": "2021-08-10T20:35:30.478Z"
   },
   {
    "duration": -2386,
    "start_time": "2021-08-10T20:35:30.479Z"
   },
   {
    "duration": 6,
    "start_time": "2021-08-10T20:39:22.264Z"
   },
   {
    "duration": 59,
    "start_time": "2021-08-10T20:39:43.604Z"
   },
   {
    "duration": 83,
    "start_time": "2021-08-10T20:39:51.651Z"
   },
   {
    "duration": 9,
    "start_time": "2021-08-10T20:43:08.178Z"
   },
   {
    "duration": 1586,
    "start_time": "2021-08-10T20:48:51.930Z"
   },
   {
    "duration": 1303,
    "start_time": "2021-08-10T20:48:53.519Z"
   },
   {
    "duration": 10,
    "start_time": "2021-08-10T20:48:54.827Z"
   },
   {
    "duration": 143,
    "start_time": "2021-08-10T20:48:54.855Z"
   },
   {
    "duration": 20,
    "start_time": "2021-08-10T20:48:55.001Z"
   },
   {
    "duration": 178,
    "start_time": "2021-08-10T20:48:55.023Z"
   },
   {
    "duration": 511,
    "start_time": "2021-08-10T20:48:55.204Z"
   },
   {
    "duration": 38,
    "start_time": "2021-08-10T20:48:55.719Z"
   },
   {
    "duration": 27,
    "start_time": "2021-08-10T20:48:55.760Z"
   },
   {
    "duration": 33,
    "start_time": "2021-08-10T20:48:55.789Z"
   },
   {
    "duration": 29,
    "start_time": "2021-08-10T20:48:55.855Z"
   },
   {
    "duration": 32,
    "start_time": "2021-08-10T20:48:55.886Z"
   },
   {
    "duration": 107,
    "start_time": "2021-08-10T20:48:55.920Z"
   },
   {
    "duration": 243,
    "start_time": "2021-08-10T20:48:56.030Z"
   },
   {
    "duration": 83,
    "start_time": "2021-08-10T20:48:56.276Z"
   },
   {
    "duration": 237,
    "start_time": "2021-08-10T20:48:56.362Z"
   },
   {
    "duration": 80,
    "start_time": "2021-08-10T20:48:56.602Z"
   },
   {
    "duration": 50,
    "start_time": "2021-08-10T20:48:56.684Z"
   },
   {
    "duration": 27,
    "start_time": "2021-08-10T20:48:56.737Z"
   },
   {
    "duration": 16,
    "start_time": "2021-08-10T20:48:56.767Z"
   },
   {
    "duration": 794,
    "start_time": "2021-08-10T20:48:56.787Z"
   },
   {
    "duration": 801,
    "start_time": "2021-08-10T20:48:57.584Z"
   },
   {
    "duration": 745,
    "start_time": "2021-08-10T20:48:58.392Z"
   },
   {
    "duration": 16,
    "start_time": "2021-08-10T20:48:59.139Z"
   },
   {
    "duration": 640,
    "start_time": "2021-08-10T20:48:59.158Z"
   },
   {
    "duration": 61,
    "start_time": "2021-08-10T20:49:19.418Z"
   },
   {
    "duration": 1535,
    "start_time": "2021-08-10T21:05:06.719Z"
   },
   {
    "duration": 1711,
    "start_time": "2021-08-10T21:05:17.770Z"
   },
   {
    "duration": 1538,
    "start_time": "2021-08-10T21:05:36.389Z"
   },
   {
    "duration": 1615,
    "start_time": "2021-08-10T21:05:47.415Z"
   },
   {
    "duration": 1549,
    "start_time": "2021-08-10T21:05:54.608Z"
   },
   {
    "duration": 5,
    "start_time": "2021-08-10T21:08:45.033Z"
   },
   {
    "duration": 5,
    "start_time": "2021-08-10T21:10:22.142Z"
   },
   {
    "duration": 302,
    "start_time": "2021-08-10T21:12:41.102Z"
   },
   {
    "duration": 1958,
    "start_time": "2021-08-10T21:13:19.412Z"
   },
   {
    "duration": 2216,
    "start_time": "2021-08-10T21:14:08.206Z"
   },
   {
    "duration": 1947,
    "start_time": "2021-08-10T21:14:12.908Z"
   },
   {
    "duration": 1656,
    "start_time": "2021-08-10T21:15:26.456Z"
   },
   {
    "duration": 7,
    "start_time": "2021-08-10T21:16:46.644Z"
   },
   {
    "duration": 1927,
    "start_time": "2021-08-10T21:19:45.858Z"
   },
   {
    "duration": 1982,
    "start_time": "2021-08-10T21:20:26.401Z"
   },
   {
    "duration": 1375,
    "start_time": "2021-08-10T21:24:46.610Z"
   },
   {
    "duration": 325,
    "start_time": "2021-08-10T21:25:07.494Z"
   },
   {
    "duration": 353,
    "start_time": "2021-08-10T21:25:35.419Z"
   },
   {
    "duration": 257,
    "start_time": "2021-08-10T21:29:02.305Z"
   },
   {
    "duration": 4159,
    "start_time": "2021-08-10T21:29:12.693Z"
   },
   {
    "duration": 4384,
    "start_time": "2021-08-10T21:33:58.313Z"
   },
   {
    "duration": 1569,
    "start_time": "2021-08-10T21:39:49.744Z"
   },
   {
    "duration": 1271,
    "start_time": "2021-08-10T21:39:51.316Z"
   },
   {
    "duration": 10,
    "start_time": "2021-08-10T21:39:52.590Z"
   },
   {
    "duration": 140,
    "start_time": "2021-08-10T21:39:52.602Z"
   },
   {
    "duration": 23,
    "start_time": "2021-08-10T21:39:52.745Z"
   },
   {
    "duration": 170,
    "start_time": "2021-08-10T21:39:52.771Z"
   },
   {
    "duration": 3,
    "start_time": "2021-08-10T21:39:52.943Z"
   },
   {
    "duration": 27,
    "start_time": "2021-08-10T21:39:52.956Z"
   },
   {
    "duration": 33,
    "start_time": "2021-08-10T21:39:52.986Z"
   },
   {
    "duration": 46,
    "start_time": "2021-08-10T21:39:53.021Z"
   },
   {
    "duration": 34,
    "start_time": "2021-08-10T21:39:53.070Z"
   },
   {
    "duration": 48,
    "start_time": "2021-08-10T21:39:53.107Z"
   },
   {
    "duration": 75,
    "start_time": "2021-08-10T21:39:53.158Z"
   },
   {
    "duration": 250,
    "start_time": "2021-08-10T21:39:53.236Z"
   },
   {
    "duration": 106,
    "start_time": "2021-08-10T21:39:53.489Z"
   },
   {
    "duration": 248,
    "start_time": "2021-08-10T21:39:53.598Z"
   },
   {
    "duration": 121,
    "start_time": "2021-08-10T21:39:53.848Z"
   },
   {
    "duration": 45,
    "start_time": "2021-08-10T21:39:53.971Z"
   },
   {
    "duration": 12,
    "start_time": "2021-08-10T21:39:54.019Z"
   },
   {
    "duration": 32,
    "start_time": "2021-08-10T21:39:54.033Z"
   },
   {
    "duration": 1324,
    "start_time": "2021-08-10T21:39:54.068Z"
   },
   {
    "duration": 773,
    "start_time": "2021-08-10T21:39:55.394Z"
   },
   {
    "duration": 729,
    "start_time": "2021-08-10T21:39:56.171Z"
   },
   {
    "duration": 6,
    "start_time": "2021-08-10T21:39:56.903Z"
   },
   {
    "duration": 12,
    "start_time": "2021-08-10T21:39:56.911Z"
   },
   {
    "duration": 1693,
    "start_time": "2021-08-10T21:39:56.926Z"
   },
   {
    "duration": -2427,
    "start_time": "2021-08-10T21:40:01.049Z"
   },
   {
    "duration": -2427,
    "start_time": "2021-08-10T21:40:01.050Z"
   },
   {
    "duration": -2427,
    "start_time": "2021-08-10T21:40:01.052Z"
   },
   {
    "duration": 1526,
    "start_time": "2021-08-10T21:47:40.383Z"
   },
   {
    "duration": 1276,
    "start_time": "2021-08-10T21:47:44.089Z"
   },
   {
    "duration": 10,
    "start_time": "2021-08-10T21:47:45.367Z"
   },
   {
    "duration": 126,
    "start_time": "2021-08-10T21:47:45.507Z"
   },
   {
    "duration": 20,
    "start_time": "2021-08-10T21:47:51.340Z"
   },
   {
    "duration": 153,
    "start_time": "2021-08-10T21:47:52.034Z"
   },
   {
    "duration": 410,
    "start_time": "2021-08-10T21:48:07.601Z"
   },
   {
    "duration": 321,
    "start_time": "2021-08-10T21:48:23.864Z"
   },
   {
    "duration": 602,
    "start_time": "2021-08-10T21:49:10.010Z"
   },
   {
    "duration": 309,
    "start_time": "2021-08-10T21:49:26.328Z"
   },
   {
    "duration": 476,
    "start_time": "2021-08-10T21:50:40.833Z"
   },
   {
    "duration": 37,
    "start_time": "2021-08-10T21:50:50.542Z"
   },
   {
    "duration": 286,
    "start_time": "2021-08-10T21:52:11.157Z"
   },
   {
    "duration": 7092,
    "start_time": "2021-08-10T21:52:34.879Z"
   },
   {
    "duration": 2113,
    "start_time": "2021-08-10T21:53:20.209Z"
   },
   {
    "duration": 2212,
    "start_time": "2021-08-10T21:53:43.593Z"
   },
   {
    "duration": 2174,
    "start_time": "2021-08-10T21:53:58.532Z"
   },
   {
    "duration": 2194,
    "start_time": "2021-08-10T21:54:14.482Z"
   },
   {
    "duration": 6256,
    "start_time": "2021-08-10T21:54:20.180Z"
   },
   {
    "duration": 5809,
    "start_time": "2021-08-10T21:54:44.922Z"
   },
   {
    "duration": 5998,
    "start_time": "2021-08-10T21:55:01.583Z"
   },
   {
    "duration": 86,
    "start_time": "2021-08-10T21:56:02.675Z"
   },
   {
    "duration": 1997,
    "start_time": "2021-08-10T21:56:06.951Z"
   },
   {
    "duration": 6186,
    "start_time": "2021-08-10T21:56:39.089Z"
   },
   {
    "duration": 6223,
    "start_time": "2021-08-10T21:57:09.432Z"
   },
   {
    "duration": 6360,
    "start_time": "2021-08-10T21:57:23.712Z"
   },
   {
    "duration": 6602,
    "start_time": "2021-08-10T21:57:39.156Z"
   },
   {
    "duration": 6200,
    "start_time": "2021-08-10T21:57:56.052Z"
   },
   {
    "duration": 6177,
    "start_time": "2021-08-10T21:58:11.005Z"
   },
   {
    "duration": 6424,
    "start_time": "2021-08-10T21:58:21.120Z"
   },
   {
    "duration": 6287,
    "start_time": "2021-08-10T21:58:32.028Z"
   },
   {
    "duration": 6506,
    "start_time": "2021-08-10T21:59:07.393Z"
   },
   {
    "duration": 6153,
    "start_time": "2021-08-10T21:59:19.344Z"
   },
   {
    "duration": 299,
    "start_time": "2021-08-10T21:59:35.319Z"
   },
   {
    "duration": 465,
    "start_time": "2021-08-10T21:59:58.843Z"
   },
   {
    "duration": 6539,
    "start_time": "2021-08-10T22:00:26.740Z"
   },
   {
    "duration": 52,
    "start_time": "2021-08-10T22:00:38.103Z"
   },
   {
    "duration": 303,
    "start_time": "2021-08-10T22:00:56.649Z"
   },
   {
    "duration": 5,
    "start_time": "2021-08-10T22:01:20.237Z"
   },
   {
    "duration": 5,
    "start_time": "2021-08-10T22:03:22.960Z"
   },
   {
    "duration": 5,
    "start_time": "2021-08-10T22:04:28.459Z"
   },
   {
    "duration": 2113,
    "start_time": "2021-08-10T22:05:27.320Z"
   },
   {
    "duration": 2056,
    "start_time": "2021-08-10T22:05:34.076Z"
   },
   {
    "duration": 2048,
    "start_time": "2021-08-10T22:05:41.393Z"
   },
   {
    "duration": 2063,
    "start_time": "2021-08-10T22:05:49.466Z"
   },
   {
    "duration": 2188,
    "start_time": "2021-08-10T22:05:58.606Z"
   },
   {
    "duration": 3304,
    "start_time": "2021-08-10T22:06:35.949Z"
   },
   {
    "duration": 10056,
    "start_time": "2021-08-10T22:06:54.935Z"
   },
   {
    "duration": 6404,
    "start_time": "2021-08-10T22:07:17.219Z"
   },
   {
    "duration": 6246,
    "start_time": "2021-08-10T22:07:27.727Z"
   },
   {
    "duration": 6,
    "start_time": "2021-08-10T22:07:50.826Z"
   },
   {
    "duration": 1583,
    "start_time": "2021-08-12T18:11:58.295Z"
   },
   {
    "duration": 1262,
    "start_time": "2021-08-12T18:12:01.543Z"
   },
   {
    "duration": 11,
    "start_time": "2021-08-12T18:12:06.821Z"
   },
   {
    "duration": 7,
    "start_time": "2021-08-12T18:12:18.762Z"
   },
   {
    "duration": 123,
    "start_time": "2021-08-12T18:12:42.690Z"
   },
   {
    "duration": 21,
    "start_time": "2021-08-12T18:12:47.575Z"
   },
   {
    "duration": 155,
    "start_time": "2021-08-12T18:12:50.187Z"
   },
   {
    "duration": 6654,
    "start_time": "2021-08-12T18:13:16.104Z"
   },
   {
    "duration": 28,
    "start_time": "2021-08-12T18:13:27.578Z"
   },
   {
    "duration": 27,
    "start_time": "2021-08-12T18:13:29.735Z"
   },
   {
    "duration": 30,
    "start_time": "2021-08-12T18:13:31.795Z"
   },
   {
    "duration": 28,
    "start_time": "2021-08-12T18:13:35.166Z"
   },
   {
    "duration": 27,
    "start_time": "2021-08-12T18:13:36.953Z"
   },
   {
    "duration": 97,
    "start_time": "2021-08-12T18:13:40.246Z"
   },
   {
    "duration": 239,
    "start_time": "2021-08-12T18:13:42.932Z"
   },
   {
    "duration": 78,
    "start_time": "2021-08-12T18:13:51.980Z"
   },
   {
    "duration": 231,
    "start_time": "2021-08-12T18:13:54.757Z"
   },
   {
    "duration": 71,
    "start_time": "2021-08-12T18:14:09.418Z"
   },
   {
    "duration": 47,
    "start_time": "2021-08-12T18:14:15.583Z"
   },
   {
    "duration": 12,
    "start_time": "2021-08-12T18:14:19.249Z"
   },
   {
    "duration": 12,
    "start_time": "2021-08-12T18:14:23.618Z"
   },
   {
    "duration": 562,
    "start_time": "2021-08-12T18:14:26.308Z"
   },
   {
    "duration": 98,
    "start_time": "2021-08-12T18:14:38.966Z"
   },
   {
    "duration": 755,
    "start_time": "2021-08-12T18:14:45.041Z"
   },
   {
    "duration": 774,
    "start_time": "2021-08-12T18:14:52.446Z"
   },
   {
    "duration": 7,
    "start_time": "2021-08-12T18:15:08.918Z"
   },
   {
    "duration": 6,
    "start_time": "2021-08-12T18:15:12.080Z"
   },
   {
    "duration": 26,
    "start_time": "2021-08-12T18:20:13.888Z"
   },
   {
    "duration": 1508,
    "start_time": "2021-08-12T18:20:24.773Z"
   },
   {
    "duration": 1999,
    "start_time": "2021-08-12T18:20:31.850Z"
   },
   {
    "duration": 23,
    "start_time": "2021-08-12T18:21:05.069Z"
   },
   {
    "duration": 464,
    "start_time": "2021-08-12T18:21:23.801Z"
   },
   {
    "duration": 74590,
    "start_time": "2021-08-12T18:21:30.520Z"
   },
   {
    "duration": 74364,
    "start_time": "2021-08-12T18:23:23.631Z"
   },
   {
    "duration": 73294,
    "start_time": "2021-08-12T18:25:01.380Z"
   },
   {
    "duration": 5,
    "start_time": "2021-08-12T18:27:19.642Z"
   },
   {
    "duration": 4355,
    "start_time": "2021-08-12T18:32:07.336Z"
   },
   {
    "duration": 4,
    "start_time": "2021-08-12T18:32:13.479Z"
   },
   {
    "duration": 5,
    "start_time": "2021-08-12T18:32:56.979Z"
   },
   {
    "duration": 400,
    "start_time": "2021-08-12T18:34:40.975Z"
   },
   {
    "duration": 45268,
    "start_time": "2021-08-12T18:34:46.826Z"
   },
   {
    "duration": 6797,
    "start_time": "2021-08-12T18:35:32.098Z"
   },
   {
    "duration": 4250,
    "start_time": "2021-08-12T18:37:20.142Z"
   },
   {
    "duration": 5,
    "start_time": "2021-08-12T18:37:36.328Z"
   },
   {
    "duration": 43982,
    "start_time": "2021-08-12T18:37:47.812Z"
   },
   {
    "duration": 6,
    "start_time": "2021-08-12T18:39:44.787Z"
   },
   {
    "duration": 73331,
    "start_time": "2021-08-12T18:40:14.147Z"
   },
   {
    "duration": 6,
    "start_time": "2021-08-12T18:41:51.038Z"
   },
   {
    "duration": 608,
    "start_time": "2021-08-12T19:21:16.074Z"
   },
   {
    "duration": 21810,
    "start_time": "2021-08-12T19:21:22.976Z"
   },
   {
    "duration": 6,
    "start_time": "2021-08-12T19:22:08.204Z"
   },
   {
    "duration": 29,
    "start_time": "2021-08-12T19:22:44.257Z"
   },
   {
    "duration": 6,
    "start_time": "2021-08-12T19:25:13.442Z"
   },
   {
    "duration": 23037,
    "start_time": "2021-08-12T19:26:58.450Z"
   },
   {
    "duration": 205,
    "start_time": "2021-08-12T19:27:54.758Z"
   },
   {
    "duration": 127,
    "start_time": "2021-08-12T19:28:07.375Z"
   },
   {
    "duration": 22145,
    "start_time": "2021-08-12T19:28:16.848Z"
   },
   {
    "duration": 22947,
    "start_time": "2021-08-12T19:28:57.702Z"
   },
   {
    "duration": 22535,
    "start_time": "2021-08-12T19:29:28.202Z"
   },
   {
    "duration": 23532,
    "start_time": "2021-08-12T19:29:59.063Z"
   },
   {
    "duration": 5,
    "start_time": "2021-08-12T19:37:15.651Z"
   },
   {
    "duration": 2563,
    "start_time": "2021-08-12T19:38:23.787Z"
   },
   {
    "duration": 6,
    "start_time": "2021-08-12T19:38:45.641Z"
   },
   {
    "duration": 5,
    "start_time": "2021-08-12T19:38:53.417Z"
   },
   {
    "duration": 2680,
    "start_time": "2021-08-12T19:39:42.863Z"
   },
   {
    "duration": 1375,
    "start_time": "2021-08-12T19:39:52.134Z"
   },
   {
    "duration": 1256,
    "start_time": "2021-08-12T19:40:30.160Z"
   },
   {
    "duration": 119003,
    "start_time": "2021-08-12T19:51:00.984Z"
   },
   {
    "duration": 5,
    "start_time": "2021-08-12T19:54:24.811Z"
   },
   {
    "duration": 168,
    "start_time": "2021-08-12T19:56:30.520Z"
   },
   {
    "duration": 5985,
    "start_time": "2021-08-12T19:56:52.108Z"
   },
   {
    "duration": 6284,
    "start_time": "2021-08-12T19:57:03.508Z"
   },
   {
    "duration": 7169,
    "start_time": "2021-08-12T19:57:15.925Z"
   },
   {
    "duration": 6575,
    "start_time": "2021-08-12T19:57:28.725Z"
   },
   {
    "duration": 5506,
    "start_time": "2021-08-12T19:57:42.189Z"
   },
   {
    "duration": 5660,
    "start_time": "2021-08-12T19:57:54.435Z"
   },
   {
    "duration": 8512,
    "start_time": "2021-08-12T19:58:03.492Z"
   },
   {
    "duration": 7478,
    "start_time": "2021-08-12T19:58:17.209Z"
   },
   {
    "duration": 5724,
    "start_time": "2021-08-12T19:58:30.167Z"
   },
   {
    "duration": 5138,
    "start_time": "2021-08-12T19:58:47.449Z"
   },
   {
    "duration": 5237,
    "start_time": "2021-08-12T19:58:57.658Z"
   },
   {
    "duration": 5348,
    "start_time": "2021-08-12T19:59:06.346Z"
   },
   {
    "duration": 78759,
    "start_time": "2021-08-12T19:59:46.125Z"
   },
   {
    "duration": 520616,
    "start_time": "2021-08-12T20:04:30.719Z"
   },
   {
    "duration": 7,
    "start_time": "2021-08-12T20:13:57.374Z"
   },
   {
    "duration": 7,
    "start_time": "2021-08-12T20:14:19.947Z"
   },
   {
    "duration": 67430,
    "start_time": "2021-08-12T20:15:14.268Z"
   },
   {
    "duration": 2054077,
    "start_time": "2021-08-12T20:18:01.740Z"
   },
   {
    "duration": 7,
    "start_time": "2021-08-12T20:52:58.383Z"
   },
   {
    "duration": 85732,
    "start_time": "2021-08-12T20:53:27.018Z"
   },
   {
    "duration": 89699,
    "start_time": "2021-08-12T21:05:33.345Z"
   },
   {
    "duration": 67730,
    "start_time": "2021-08-12T21:13:35.942Z"
   },
   {
    "duration": 5858,
    "start_time": "2021-08-12T21:29:19.144Z"
   },
   {
    "duration": 5602,
    "start_time": "2021-08-12T21:30:07.786Z"
   },
   {
    "duration": 6422,
    "start_time": "2021-08-12T21:30:30.381Z"
   },
   {
    "duration": 6350,
    "start_time": "2021-08-12T21:30:44.237Z"
   },
   {
    "duration": 7213,
    "start_time": "2021-08-12T21:30:52.975Z"
   },
   {
    "duration": 1903,
    "start_time": "2021-08-12T21:42:26.534Z"
   },
   {
    "duration": 8,
    "start_time": "2021-08-12T21:46:07.656Z"
   },
   {
    "duration": 33,
    "start_time": "2021-08-12T21:46:33.413Z"
   },
   {
    "duration": 7,
    "start_time": "2021-08-12T21:47:18.909Z"
   },
   {
    "duration": 8,
    "start_time": "2021-08-12T21:47:46.329Z"
   },
   {
    "duration": 7448,
    "start_time": "2021-08-12T21:48:15.476Z"
   },
   {
    "duration": 6998,
    "start_time": "2021-08-12T21:48:30.651Z"
   },
   {
    "duration": -1046,
    "start_time": "2021-08-12T21:49:18.272Z"
   },
   {
    "duration": 20721,
    "start_time": "2021-08-12T21:49:22.443Z"
   },
   {
    "duration": 165474,
    "start_time": "2021-08-12T21:49:44.740Z"
   },
   {
    "duration": 230,
    "start_time": "2021-08-12T21:54:57.968Z"
   },
   {
    "duration": 184,
    "start_time": "2021-08-12T21:55:02.919Z"
   },
   {
    "duration": 505,
    "start_time": "2021-08-12T21:55:17.946Z"
   },
   {
    "duration": 534,
    "start_time": "2021-08-12T21:55:20.553Z"
   },
   {
    "duration": 164378,
    "start_time": "2021-08-12T21:55:57.647Z"
   },
   {
    "duration": 5391,
    "start_time": "2021-08-12T22:07:53.793Z"
   },
   {
    "duration": 909,
    "start_time": "2021-08-12T22:10:08.828Z"
   },
   {
    "duration": 386,
    "start_time": "2021-08-12T22:14:09.696Z"
   },
   {
    "duration": 868,
    "start_time": "2021-08-12T22:15:02.448Z"
   },
   {
    "duration": 6,
    "start_time": "2021-08-12T22:16:28.724Z"
   },
   {
    "duration": 899445,
    "start_time": "2021-08-12T22:17:35.726Z"
   },
   {
    "duration": 799,
    "start_time": "2021-08-12T22:35:37.035Z"
   },
   {
    "duration": 435,
    "start_time": "2021-08-12T22:35:58.862Z"
   },
   {
    "duration": 407,
    "start_time": "2021-08-12T22:36:38.532Z"
   },
   {
    "duration": 1330635,
    "start_time": "2021-08-12T22:43:54.498Z"
   },
   {
    "duration": 362,
    "start_time": "2021-08-12T23:17:25.230Z"
   },
   {
    "duration": 5,
    "start_time": "2021-08-12T23:17:32.067Z"
   },
   {
    "duration": 109782,
    "start_time": "2021-08-12T23:19:53.613Z"
   },
   {
    "duration": 33395,
    "start_time": "2021-08-12T23:25:10.674Z"
   },
   {
    "duration": 102278,
    "start_time": "2021-08-12T23:26:04.526Z"
   },
   {
    "duration": 104024,
    "start_time": "2021-08-12T23:32:11.577Z"
   },
   {
    "duration": 100715,
    "start_time": "2021-08-12T23:35:10.672Z"
   },
   {
    "duration": 8,
    "start_time": "2021-08-12T23:37:22.769Z"
   },
   {
    "duration": 12,
    "start_time": "2021-08-12T23:37:34.739Z"
   },
   {
    "duration": 9,
    "start_time": "2021-08-12T23:37:38.136Z"
   },
   {
    "duration": 12,
    "start_time": "2021-08-12T23:37:49.154Z"
   },
   {
    "duration": 10,
    "start_time": "2021-08-12T23:37:54.554Z"
   },
   {
    "duration": 1866450,
    "start_time": "2021-08-12T23:47:44.466Z"
   },
   {
    "duration": 5,
    "start_time": "2021-08-13T00:21:52.655Z"
   },
   {
    "duration": 208738,
    "start_time": "2021-08-13T00:23:15.264Z"
   },
   {
    "duration": 289,
    "start_time": "2021-08-13T00:31:00.308Z"
   },
   {
    "duration": 6,
    "start_time": "2021-08-13T00:31:37.722Z"
   },
   {
    "duration": 10200,
    "start_time": "2021-08-13T00:32:43.563Z"
   },
   {
    "duration": 205587,
    "start_time": "2021-08-13T00:33:48.416Z"
   },
   {
    "duration": 1501,
    "start_time": "2021-08-14T16:54:13.113Z"
   },
   {
    "duration": 1202,
    "start_time": "2021-08-14T16:54:15.750Z"
   },
   {
    "duration": 13,
    "start_time": "2021-08-14T16:54:21.113Z"
   },
   {
    "duration": 124,
    "start_time": "2021-08-14T16:54:22.391Z"
   },
   {
    "duration": 21,
    "start_time": "2021-08-14T16:54:23.714Z"
   },
   {
    "duration": 153,
    "start_time": "2021-08-14T16:54:26.726Z"
   },
   {
    "duration": 6650,
    "start_time": "2021-08-14T16:54:30.141Z"
   },
   {
    "duration": 28,
    "start_time": "2021-08-14T16:54:36.794Z"
   },
   {
    "duration": 52,
    "start_time": "2021-08-14T16:54:36.825Z"
   },
   {
    "duration": 30,
    "start_time": "2021-08-14T16:54:36.879Z"
   },
   {
    "duration": 29,
    "start_time": "2021-08-14T16:54:36.911Z"
   },
   {
    "duration": 28,
    "start_time": "2021-08-14T16:54:36.963Z"
   },
   {
    "duration": 114,
    "start_time": "2021-08-14T16:54:36.993Z"
   },
   {
    "duration": 236,
    "start_time": "2021-08-14T16:54:37.110Z"
   },
   {
    "duration": 77,
    "start_time": "2021-08-14T16:54:40.690Z"
   },
   {
    "duration": 237,
    "start_time": "2021-08-14T16:54:41.364Z"
   },
   {
    "duration": 72,
    "start_time": "2021-08-14T16:54:44.772Z"
   },
   {
    "duration": 50,
    "start_time": "2021-08-14T16:54:45.472Z"
   },
   {
    "duration": 13,
    "start_time": "2021-08-14T16:54:46.099Z"
   },
   {
    "duration": 13,
    "start_time": "2021-08-14T16:54:51.062Z"
   },
   {
    "duration": 573,
    "start_time": "2021-08-14T16:54:54.568Z"
   },
   {
    "duration": 1141,
    "start_time": "2021-08-14T16:54:57.488Z"
   },
   {
    "duration": 766,
    "start_time": "2021-08-14T16:55:01.452Z"
   },
   {
    "duration": 9,
    "start_time": "2021-08-14T16:55:06.295Z"
   },
   {
    "duration": 6,
    "start_time": "2021-08-14T16:55:22.258Z"
   },
   {
    "duration": 1519,
    "start_time": "2021-08-14T16:55:25.427Z"
   },
   {
    "duration": 1946,
    "start_time": "2021-08-14T16:55:29.114Z"
   },
   {
    "duration": 486,
    "start_time": "2021-08-14T16:55:31.993Z"
   },
   {
    "duration": 28,
    "start_time": "2021-08-14T16:57:05.183Z"
   },
   {
    "duration": 8,
    "start_time": "2021-08-14T16:58:05.596Z"
   },
   {
    "duration": 21296,
    "start_time": "2021-08-14T16:59:10.470Z"
   },
   {
    "duration": 21933,
    "start_time": "2021-08-14T16:59:36.329Z"
   },
   {
    "duration": 6,
    "start_time": "2021-08-14T18:32:44.642Z"
   },
   {
    "duration": 11739,
    "start_time": "2021-08-14T18:35:45.441Z"
   },
   {
    "duration": 8,
    "start_time": "2021-08-14T18:36:59.661Z"
   },
   {
    "duration": 5,
    "start_time": "2021-08-14T18:37:06.752Z"
   },
   {
    "duration": 1250,
    "start_time": "2021-08-14T19:07:22.843Z"
   },
   {
    "duration": 123762,
    "start_time": "2021-08-14T19:07:38.409Z"
   },
   {
    "duration": 7,
    "start_time": "2021-08-14T19:11:20.473Z"
   },
   {
    "duration": 6317,
    "start_time": "2021-08-14T19:14:20.654Z"
   },
   {
    "duration": 21749,
    "start_time": "2021-08-14T19:15:04.314Z"
   },
   {
    "duration": 63015,
    "start_time": "2021-08-14T19:16:28.061Z"
   },
   {
    "duration": 13,
    "start_time": "2021-08-14T19:21:08.535Z"
   },
   {
    "duration": 6,
    "start_time": "2021-08-14T19:21:19.047Z"
   },
   {
    "duration": 58311,
    "start_time": "2021-08-14T19:23:04.652Z"
   },
   {
    "duration": 3002,
    "start_time": "2021-08-14T19:24:28.739Z"
   },
   {
    "duration": 390918,
    "start_time": "2021-08-14T19:24:39.858Z"
   },
   {
    "duration": 291942,
    "start_time": "2021-08-14T19:32:12.227Z"
   },
   {
    "duration": 5,
    "start_time": "2021-08-14T19:41:30.830Z"
   },
   {
    "duration": 727,
    "start_time": "2021-08-14T19:42:41.215Z"
   },
   {
    "duration": 55273,
    "start_time": "2021-08-14T19:43:04.455Z"
   },
   {
    "duration": 12655,
    "start_time": "2021-08-14T19:44:12.123Z"
   },
   {
    "duration": 12097,
    "start_time": "2021-08-14T19:44:29.482Z"
   },
   {
    "duration": 12452,
    "start_time": "2021-08-14T19:44:53.940Z"
   },
   {
    "duration": 43117,
    "start_time": "2021-08-14T19:45:26.970Z"
   },
   {
    "duration": 8,
    "start_time": "2021-08-14T19:46:52.769Z"
   },
   {
    "duration": 31,
    "start_time": "2021-08-14T19:48:16.011Z"
   },
   {
    "duration": 270,
    "start_time": "2021-08-14T19:48:23.668Z"
   },
   {
    "duration": 36,
    "start_time": "2021-08-14T19:48:27.357Z"
   },
   {
    "duration": 47,
    "start_time": "2021-08-14T19:49:15.910Z"
   },
   {
    "duration": 7,
    "start_time": "2021-08-14T19:49:19.007Z"
   },
   {
    "duration": 1641,
    "start_time": "2021-08-14T19:51:05.665Z"
   },
   {
    "duration": 122,
    "start_time": "2021-08-14T19:51:30.353Z"
   },
   {
    "duration": 321,
    "start_time": "2021-08-14T19:53:52.505Z"
   },
   {
    "duration": 673884,
    "start_time": "2021-08-14T19:55:54.278Z"
   },
   {
    "duration": 672880,
    "start_time": "2021-08-14T20:07:16.191Z"
   },
   {
    "duration": 1953,
    "start_time": "2021-08-14T20:20:38.965Z"
   },
   {
    "duration": 1948,
    "start_time": "2021-08-14T20:20:51.770Z"
   },
   {
    "duration": 306,
    "start_time": "2021-08-14T20:21:30.199Z"
   },
   {
    "duration": 11637,
    "start_time": "2021-08-14T20:21:44.258Z"
   },
   {
    "duration": 753,
    "start_time": "2021-08-14T20:29:19.803Z"
   },
   {
    "duration": 94,
    "start_time": "2021-08-14T20:34:16.171Z"
   },
   {
    "duration": 378,
    "start_time": "2021-08-14T20:34:23.945Z"
   },
   {
    "duration": 355,
    "start_time": "2021-08-14T20:34:36.289Z"
   },
   {
    "duration": 7,
    "start_time": "2021-08-14T20:34:56.156Z"
   },
   {
    "duration": 7,
    "start_time": "2021-08-14T20:35:22.515Z"
   },
   {
    "duration": 6,
    "start_time": "2021-08-14T20:35:24.650Z"
   },
   {
    "duration": 12,
    "start_time": "2021-08-14T20:35:31.578Z"
   },
   {
    "duration": 12279,
    "start_time": "2021-08-14T20:35:52.393Z"
   },
   {
    "duration": 742,
    "start_time": "2021-08-14T20:36:11.391Z"
   },
   {
    "duration": 12,
    "start_time": "2021-08-14T20:41:28.181Z"
   },
   {
    "duration": 12444,
    "start_time": "2021-08-14T20:41:43.632Z"
   },
   {
    "duration": 93,
    "start_time": "2021-08-14T20:45:27.383Z"
   },
   {
    "duration": 73,
    "start_time": "2021-08-14T20:46:53.555Z"
   },
   {
    "duration": 7485,
    "start_time": "2021-08-14T20:47:00.118Z"
   },
   {
    "duration": 674335,
    "start_time": "2021-08-14T20:47:29.136Z"
   },
   {
    "duration": 2101,
    "start_time": "2021-08-14T20:59:55.686Z"
   },
   {
    "duration": 289175,
    "start_time": "2021-08-14T21:11:36.460Z"
   },
   {
    "duration": 6,
    "start_time": "2021-08-14T21:16:53.225Z"
   },
   {
    "duration": 38131,
    "start_time": "2021-08-14T21:17:27.396Z"
   },
   {
    "duration": 43168,
    "start_time": "2021-08-14T21:18:20.055Z"
   },
   {
    "duration": 730,
    "start_time": "2021-08-14T21:19:37.547Z"
   },
   {
    "duration": 1980744,
    "start_time": "2021-08-14T21:20:27.830Z"
   },
   {
    "duration": 6,
    "start_time": "2021-08-14T21:55:39.976Z"
   },
   {
    "duration": 4,
    "start_time": "2021-08-14T21:57:04.061Z"
   },
   {
    "duration": 293,
    "start_time": "2021-08-14T21:58:27.378Z"
   },
   {
    "duration": 280,
    "start_time": "2021-08-14T21:58:37.167Z"
   },
   {
    "duration": 267,
    "start_time": "2021-08-14T22:01:11.276Z"
   },
   {
    "duration": 6,
    "start_time": "2021-08-14T22:01:39.316Z"
   },
   {
    "duration": 7,
    "start_time": "2021-08-14T22:01:48.759Z"
   },
   {
    "duration": 288,
    "start_time": "2021-08-14T22:02:41.919Z"
   },
   {
    "duration": 243,
    "start_time": "2021-08-14T22:02:46.437Z"
   },
   {
    "duration": 280,
    "start_time": "2021-08-14T22:02:56.766Z"
   },
   {
    "duration": 278,
    "start_time": "2021-08-14T22:02:59.886Z"
   },
   {
    "duration": 6,
    "start_time": "2021-08-14T22:03:10.057Z"
   },
   {
    "duration": 5,
    "start_time": "2021-08-14T22:05:14.079Z"
   },
   {
    "duration": 5,
    "start_time": "2021-08-14T22:05:23.811Z"
   },
   {
    "duration": 5,
    "start_time": "2021-08-14T22:05:30.621Z"
   },
   {
    "duration": 5,
    "start_time": "2021-08-14T22:05:39.083Z"
   },
   {
    "duration": 5,
    "start_time": "2021-08-14T22:05:48.755Z"
   },
   {
    "duration": 242,
    "start_time": "2021-08-14T22:06:10.619Z"
   },
   {
    "duration": 62316,
    "start_time": "2021-08-14T22:06:17.404Z"
   },
   {
    "duration": 157692,
    "start_time": "2021-08-14T22:07:28.680Z"
   },
   {
    "duration": 116,
    "start_time": "2021-08-14T22:11:15.366Z"
   },
   {
    "duration": 182,
    "start_time": "2021-08-14T22:11:18.297Z"
   },
   {
    "duration": 124,
    "start_time": "2021-08-14T22:11:22.735Z"
   },
   {
    "duration": 102,
    "start_time": "2021-08-14T22:11:25.594Z"
   },
   {
    "duration": 193,
    "start_time": "2021-08-14T22:11:33.185Z"
   },
   {
    "duration": 673222,
    "start_time": "2021-08-14T22:11:39.650Z"
   },
   {
    "duration": 291,
    "start_time": "2021-08-14T22:29:25.572Z"
   },
   {
    "duration": 198635,
    "start_time": "2021-08-14T22:29:31.145Z"
   },
   {
    "duration": 12564,
    "start_time": "2021-08-14T22:35:33.227Z"
   },
   {
    "duration": 35953,
    "start_time": "2021-08-14T22:35:51.135Z"
   },
   {
    "duration": 1418,
    "start_time": "2021-08-15T04:30:38.245Z"
   },
   {
    "duration": 1202,
    "start_time": "2021-08-15T04:30:39.666Z"
   },
   {
    "duration": 9,
    "start_time": "2021-08-15T04:30:40.871Z"
   },
   {
    "duration": 126,
    "start_time": "2021-08-15T04:30:40.900Z"
   },
   {
    "duration": 19,
    "start_time": "2021-08-15T04:30:41.029Z"
   },
   {
    "duration": 174,
    "start_time": "2021-08-15T04:30:41.051Z"
   },
   {
    "duration": 6009,
    "start_time": "2021-08-15T04:30:41.227Z"
   },
   {
    "duration": 26,
    "start_time": "2021-08-15T04:30:47.241Z"
   },
   {
    "duration": 52,
    "start_time": "2021-08-15T04:30:47.272Z"
   },
   {
    "duration": 29,
    "start_time": "2021-08-15T04:30:47.327Z"
   },
   {
    "duration": 53,
    "start_time": "2021-08-15T04:30:47.359Z"
   },
   {
    "duration": 28,
    "start_time": "2021-08-15T04:30:47.415Z"
   },
   {
    "duration": 109,
    "start_time": "2021-08-15T04:30:47.445Z"
   },
   {
    "duration": 227,
    "start_time": "2021-08-15T04:30:47.557Z"
   },
   {
    "duration": 78,
    "start_time": "2021-08-15T04:30:47.787Z"
   },
   {
    "duration": 247,
    "start_time": "2021-08-15T04:30:47.868Z"
   },
   {
    "duration": 67,
    "start_time": "2021-08-15T04:30:48.117Z"
   },
   {
    "duration": 57,
    "start_time": "2021-08-15T04:30:48.186Z"
   },
   {
    "duration": 12,
    "start_time": "2021-08-15T04:30:48.246Z"
   },
   {
    "duration": 11,
    "start_time": "2021-08-15T04:30:48.262Z"
   },
   {
    "duration": 521,
    "start_time": "2021-08-15T04:30:48.301Z"
   },
   {
    "duration": 737,
    "start_time": "2021-08-15T04:30:48.825Z"
   },
   {
    "duration": 761,
    "start_time": "2021-08-15T04:30:49.565Z"
   },
   {
    "duration": 8,
    "start_time": "2021-08-15T04:47:02.330Z"
   },
   {
    "duration": 6,
    "start_time": "2021-08-15T04:47:03.079Z"
   },
   {
    "duration": 1335,
    "start_time": "2021-08-15T04:47:03.800Z"
   },
   {
    "duration": 1953,
    "start_time": "2021-08-15T04:47:05.137Z"
   },
   {
    "duration": 459,
    "start_time": "2021-08-15T04:47:09.910Z"
   },
   {
    "duration": 8,
    "start_time": "2021-08-15T04:47:59.260Z"
   },
   {
    "duration": 21796,
    "start_time": "2021-08-15T04:48:00.922Z"
   },
   {
    "duration": 21682,
    "start_time": "2021-08-15T04:48:26.820Z"
   },
   {
    "duration": 73695,
    "start_time": "2021-08-15T04:48:48.506Z"
   },
   {
    "duration": 65835,
    "start_time": "2021-08-15T04:50:02.205Z"
   },
   {
    "duration": 204744,
    "start_time": "2021-08-15T04:52:07.965Z"
   },
   {
    "duration": 18887,
    "start_time": "2021-08-15T04:56:03.345Z"
   },
   {
    "duration": 36304,
    "start_time": "2021-08-15T04:56:22.234Z"
   },
   {
    "duration": 444,
    "start_time": "2021-08-15T17:45:23.645Z"
   },
   {
    "duration": 1635,
    "start_time": "2021-08-15T17:45:30.985Z"
   },
   {
    "duration": 1368,
    "start_time": "2021-08-15T17:45:33.470Z"
   },
   {
    "duration": 9,
    "start_time": "2021-08-15T17:45:38.611Z"
   },
   {
    "duration": 124,
    "start_time": "2021-08-15T17:45:40.761Z"
   },
   {
    "duration": 21,
    "start_time": "2021-08-15T17:45:45.992Z"
   },
   {
    "duration": 155,
    "start_time": "2021-08-15T17:45:52.531Z"
   },
   {
    "duration": 6268,
    "start_time": "2021-08-15T17:45:58.396Z"
   },
   {
    "duration": 28,
    "start_time": "2021-08-15T17:46:24.165Z"
   },
   {
    "duration": 26,
    "start_time": "2021-08-15T17:46:25.988Z"
   },
   {
    "duration": 32,
    "start_time": "2021-08-15T17:46:27.861Z"
   },
   {
    "duration": 28,
    "start_time": "2021-08-15T17:46:32.745Z"
   },
   {
    "duration": 27,
    "start_time": "2021-08-15T17:46:38.802Z"
   },
   {
    "duration": 229,
    "start_time": "2021-08-15T17:47:07.639Z"
   },
   {
    "duration": 39,
    "start_time": "2021-08-15T17:48:57.505Z"
   },
   {
    "duration": 1557,
    "start_time": "2021-08-15T17:49:33.719Z"
   },
   {
    "duration": 1265,
    "start_time": "2021-08-15T17:49:35.279Z"
   },
   {
    "duration": 11,
    "start_time": "2021-08-15T17:49:36.823Z"
   },
   {
    "duration": 133,
    "start_time": "2021-08-15T17:49:39.365Z"
   },
   {
    "duration": 19,
    "start_time": "2021-08-15T17:49:40.315Z"
   },
   {
    "duration": 161,
    "start_time": "2021-08-15T17:49:42.598Z"
   },
   {
    "duration": 3,
    "start_time": "2021-08-15T17:49:45.774Z"
   },
   {
    "duration": 46,
    "start_time": "2021-08-15T17:49:47.591Z"
   },
   {
    "duration": 26,
    "start_time": "2021-08-15T17:49:48.214Z"
   },
   {
    "duration": 29,
    "start_time": "2021-08-15T17:49:48.683Z"
   },
   {
    "duration": 30,
    "start_time": "2021-08-15T17:49:49.463Z"
   },
   {
    "duration": 27,
    "start_time": "2021-08-15T17:49:50.046Z"
   },
   {
    "duration": 74,
    "start_time": "2021-08-15T17:49:53.230Z"
   },
   {
    "duration": 236,
    "start_time": "2021-08-15T17:50:05.379Z"
   },
   {
    "duration": 786,
    "start_time": "2021-08-15T17:50:10.546Z"
   },
   {
    "duration": 938,
    "start_time": "2021-08-15T17:50:21.235Z"
   },
   {
    "duration": 61679,
    "start_time": "2021-08-15T17:52:17.194Z"
   },
   {
    "duration": 781,
    "start_time": "2021-08-15T17:53:34.226Z"
   },
   {
    "duration": 49,
    "start_time": "2021-08-15T17:53:36.707Z"
   },
   {
    "duration": 1807,
    "start_time": "2021-08-15T17:54:05.271Z"
   },
   {
    "duration": 612,
    "start_time": "2021-08-15T17:54:15.593Z"
   },
   {
    "duration": 793,
    "start_time": "2021-08-15T17:54:36.881Z"
   },
   {
    "duration": 625,
    "start_time": "2021-08-15T17:54:49.298Z"
   },
   {
    "duration": 6,
    "start_time": "2021-08-15T17:55:29.914Z"
   },
   {
    "duration": 693,
    "start_time": "2021-08-15T17:56:46.314Z"
   },
   {
    "duration": 105,
    "start_time": "2021-08-15T17:56:56.564Z"
   },
   {
    "duration": 145,
    "start_time": "2021-08-15T17:57:14.150Z"
   },
   {
    "duration": 130,
    "start_time": "2021-08-15T17:57:17.616Z"
   },
   {
    "duration": 426,
    "start_time": "2021-08-15T17:57:21.116Z"
   },
   {
    "duration": 486,
    "start_time": "2021-08-15T17:57:33.330Z"
   },
   {
    "duration": 496,
    "start_time": "2021-08-15T17:58:01.070Z"
   },
   {
    "duration": 499,
    "start_time": "2021-08-15T17:58:09.437Z"
   },
   {
    "duration": 5147,
    "start_time": "2021-08-15T17:58:33.717Z"
   },
   {
    "duration": 5097,
    "start_time": "2021-08-15T17:59:16.110Z"
   },
   {
    "duration": 5342,
    "start_time": "2021-08-15T18:00:10.409Z"
   },
   {
    "duration": 370,
    "start_time": "2021-08-15T18:00:25.289Z"
   },
   {
    "duration": 477,
    "start_time": "2021-08-15T18:00:31.819Z"
   },
   {
    "duration": 5075,
    "start_time": "2021-08-15T18:00:42.294Z"
   },
   {
    "duration": 5527,
    "start_time": "2021-08-15T18:00:58.877Z"
   },
   {
    "duration": 450,
    "start_time": "2021-08-15T18:01:10.912Z"
   },
   {
    "duration": 397,
    "start_time": "2021-08-15T18:01:18.501Z"
   },
   {
    "duration": 5331,
    "start_time": "2021-08-15T18:01:25.621Z"
   },
   {
    "duration": 5722,
    "start_time": "2021-08-15T18:01:37.550Z"
   },
   {
    "duration": 1565,
    "start_time": "2021-08-15T18:02:38.017Z"
   },
   {
    "duration": 605,
    "start_time": "2021-08-15T18:02:50.614Z"
   },
   {
    "duration": 14,
    "start_time": "2021-08-15T18:03:39.404Z"
   },
   {
    "duration": 746,
    "start_time": "2021-08-15T18:04:04.730Z"
   },
   {
    "duration": 446,
    "start_time": "2021-08-15T18:04:16.713Z"
   },
   {
    "duration": 7,
    "start_time": "2021-08-15T18:05:03.576Z"
   },
   {
    "duration": 1042,
    "start_time": "2021-08-15T18:05:14.419Z"
   },
   {
    "duration": 1028,
    "start_time": "2021-08-15T18:05:23.846Z"
   },
   {
    "duration": 6,
    "start_time": "2021-08-15T18:05:45.164Z"
   },
   {
    "duration": 386,
    "start_time": "2021-08-15T18:05:56.355Z"
   },
   {
    "duration": 51,
    "start_time": "2021-08-15T18:07:36.317Z"
   },
   {
    "duration": 77,
    "start_time": "2021-08-15T18:10:17.484Z"
   },
   {
    "duration": 239,
    "start_time": "2021-08-15T18:10:20.904Z"
   },
   {
    "duration": 65,
    "start_time": "2021-08-15T18:10:36.768Z"
   },
   {
    "duration": 45,
    "start_time": "2021-08-15T18:11:02.666Z"
   },
   {
    "duration": 14,
    "start_time": "2021-08-15T18:11:09.294Z"
   },
   {
    "duration": 13,
    "start_time": "2021-08-15T18:11:19.995Z"
   },
   {
    "duration": 127,
    "start_time": "2021-08-15T18:12:05.447Z"
   },
   {
    "duration": 51,
    "start_time": "2021-08-15T18:12:11.863Z"
   },
   {
    "duration": 1546,
    "start_time": "2021-08-15T18:12:38.218Z"
   },
   {
    "duration": 1334,
    "start_time": "2021-08-15T18:12:40.420Z"
   },
   {
    "duration": 9,
    "start_time": "2021-08-15T18:12:45.464Z"
   },
   {
    "duration": 121,
    "start_time": "2021-08-15T18:12:46.445Z"
   },
   {
    "duration": 21,
    "start_time": "2021-08-15T18:12:46.926Z"
   },
   {
    "duration": 164,
    "start_time": "2021-08-15T18:12:47.753Z"
   },
   {
    "duration": 491,
    "start_time": "2021-08-15T18:12:53.614Z"
   },
   {
    "duration": 28,
    "start_time": "2021-08-15T18:12:54.876Z"
   },
   {
    "duration": 27,
    "start_time": "2021-08-15T18:12:55.478Z"
   },
   {
    "duration": 28,
    "start_time": "2021-08-15T18:12:56.025Z"
   },
   {
    "duration": 27,
    "start_time": "2021-08-15T18:12:56.833Z"
   },
   {
    "duration": 28,
    "start_time": "2021-08-15T18:12:57.799Z"
   },
   {
    "duration": 108,
    "start_time": "2021-08-15T18:12:59.905Z"
   },
   {
    "duration": 224,
    "start_time": "2021-08-15T18:13:01.834Z"
   },
   {
    "duration": 68,
    "start_time": "2021-08-15T18:13:05.009Z"
   },
   {
    "duration": 87,
    "start_time": "2021-08-15T18:13:08.856Z"
   },
   {
    "duration": 237,
    "start_time": "2021-08-15T18:13:23.128Z"
   },
   {
    "duration": 68,
    "start_time": "2021-08-15T18:13:31.881Z"
   },
   {
    "duration": 47,
    "start_time": "2021-08-15T18:13:35.927Z"
   },
   {
    "duration": 60,
    "start_time": "2021-08-15T18:13:53.672Z"
   },
   {
    "duration": 55,
    "start_time": "2021-08-15T18:14:33.541Z"
   },
   {
    "duration": 55,
    "start_time": "2021-08-15T18:14:42.538Z"
   },
   {
    "duration": 66,
    "start_time": "2021-08-15T18:14:50.223Z"
   },
   {
    "duration": 87,
    "start_time": "2021-08-15T18:15:13.032Z"
   },
   {
    "duration": 83,
    "start_time": "2021-08-15T18:15:26.607Z"
   },
   {
    "duration": 84,
    "start_time": "2021-08-15T18:16:00.273Z"
   },
   {
    "duration": 49,
    "start_time": "2021-08-15T18:16:25.196Z"
   },
   {
    "duration": 54,
    "start_time": "2021-08-15T18:16:49.652Z"
   },
   {
    "duration": 56,
    "start_time": "2021-08-15T18:16:59.839Z"
   },
   {
    "duration": 65,
    "start_time": "2021-08-15T18:17:35.127Z"
   },
   {
    "duration": 69,
    "start_time": "2021-08-15T18:17:48.059Z"
   },
   {
    "duration": 67,
    "start_time": "2021-08-15T18:17:53.461Z"
   },
   {
    "duration": 76,
    "start_time": "2021-08-15T18:17:58.400Z"
   },
   {
    "duration": 85,
    "start_time": "2021-08-15T18:18:03.751Z"
   },
   {
    "duration": 82,
    "start_time": "2021-08-15T18:18:10.350Z"
   },
   {
    "duration": 90,
    "start_time": "2021-08-15T18:18:23.038Z"
   },
   {
    "duration": 88,
    "start_time": "2021-08-15T18:18:34.992Z"
   },
   {
    "duration": 85,
    "start_time": "2021-08-15T18:18:47.807Z"
   },
   {
    "duration": 101,
    "start_time": "2021-08-15T18:19:03.408Z"
   },
   {
    "duration": 97,
    "start_time": "2021-08-15T18:19:11.183Z"
   },
   {
    "duration": 96,
    "start_time": "2021-08-15T18:19:14.523Z"
   },
   {
    "duration": 69,
    "start_time": "2021-08-15T18:19:32.500Z"
   },
   {
    "duration": 81,
    "start_time": "2021-08-15T18:20:11.190Z"
   },
   {
    "duration": 84,
    "start_time": "2021-08-15T18:20:21.685Z"
   },
   {
    "duration": 85,
    "start_time": "2021-08-15T18:20:24.788Z"
   },
   {
    "duration": 85,
    "start_time": "2021-08-15T18:20:40.190Z"
   },
   {
    "duration": 84,
    "start_time": "2021-08-15T18:20:48.775Z"
   },
   {
    "duration": 86,
    "start_time": "2021-08-15T18:20:53.428Z"
   },
   {
    "duration": 84,
    "start_time": "2021-08-15T18:20:55.501Z"
   },
   {
    "duration": 136,
    "start_time": "2021-08-15T18:23:02.557Z"
   },
   {
    "duration": 137,
    "start_time": "2021-08-15T18:23:19.686Z"
   },
   {
    "duration": 122,
    "start_time": "2021-08-15T18:23:26.422Z"
   },
   {
    "duration": 113,
    "start_time": "2021-08-15T18:23:37.361Z"
   },
   {
    "duration": 114,
    "start_time": "2021-08-15T18:23:42.940Z"
   },
   {
    "duration": 125,
    "start_time": "2021-08-15T18:24:01.027Z"
   },
   {
    "duration": 185,
    "start_time": "2021-08-15T18:24:05.279Z"
   },
   {
    "duration": 139,
    "start_time": "2021-08-15T18:26:08.924Z"
   },
   {
    "duration": 88,
    "start_time": "2021-08-15T18:26:57.824Z"
   },
   {
    "duration": 86,
    "start_time": "2021-08-15T18:27:13.067Z"
   },
   {
    "duration": 111,
    "start_time": "2021-08-15T18:28:56.204Z"
   },
   {
    "duration": 99,
    "start_time": "2021-08-15T18:29:15.888Z"
   },
   {
    "duration": 138,
    "start_time": "2021-08-15T18:30:13.621Z"
   },
   {
    "duration": 111,
    "start_time": "2021-08-15T18:30:51.197Z"
   },
   {
    "duration": 110,
    "start_time": "2021-08-15T18:30:59.456Z"
   },
   {
    "duration": 111,
    "start_time": "2021-08-15T18:31:04.981Z"
   },
   {
    "duration": 95,
    "start_time": "2021-08-15T18:31:10.940Z"
   },
   {
    "duration": 95,
    "start_time": "2021-08-15T18:32:15.198Z"
   },
   {
    "duration": 26,
    "start_time": "2021-08-15T18:38:31.678Z"
   },
   {
    "duration": 93,
    "start_time": "2021-08-15T18:38:44.658Z"
   },
   {
    "duration": 93,
    "start_time": "2021-08-15T18:39:01.392Z"
   },
   {
    "duration": 12,
    "start_time": "2021-08-15T18:47:35.964Z"
   },
   {
    "duration": 11,
    "start_time": "2021-08-15T18:47:39.768Z"
   },
   {
    "duration": 930,
    "start_time": "2021-08-15T18:47:50.626Z"
   },
   {
    "duration": 800,
    "start_time": "2021-08-15T18:48:11.704Z"
   },
   {
    "duration": 761,
    "start_time": "2021-08-15T18:48:26.353Z"
   },
   {
    "duration": 45,
    "start_time": "2021-08-15T18:49:07.815Z"
   },
   {
    "duration": 42,
    "start_time": "2021-08-15T18:49:16.933Z"
   },
   {
    "duration": 42,
    "start_time": "2021-08-15T18:49:23.102Z"
   },
   {
    "duration": 51,
    "start_time": "2021-08-15T18:51:50.971Z"
   },
   {
    "duration": 140,
    "start_time": "2021-08-15T18:52:22.386Z"
   },
   {
    "duration": 54,
    "start_time": "2021-08-15T18:52:33.343Z"
   },
   {
    "duration": 52,
    "start_time": "2021-08-15T18:52:53.844Z"
   },
   {
    "duration": 54,
    "start_time": "2021-08-15T18:53:06.336Z"
   },
   {
    "duration": 49,
    "start_time": "2021-08-15T18:53:20.862Z"
   },
   {
    "duration": 47,
    "start_time": "2021-08-15T18:53:45.523Z"
   },
   {
    "duration": 46,
    "start_time": "2021-08-15T18:54:08.633Z"
   },
   {
    "duration": 80,
    "start_time": "2021-08-15T18:54:54.201Z"
   },
   {
    "duration": 5,
    "start_time": "2021-08-15T18:55:01.764Z"
   },
   {
    "duration": 7,
    "start_time": "2021-08-15T18:55:49.037Z"
   },
   {
    "duration": 536,
    "start_time": "2021-08-15T18:56:39.250Z"
   },
   {
    "duration": 8,
    "start_time": "2021-08-15T18:57:21.893Z"
   },
   {
    "duration": 6,
    "start_time": "2021-08-15T18:57:25.589Z"
   },
   {
    "duration": 6,
    "start_time": "2021-08-15T19:01:37.289Z"
   },
   {
    "duration": 24,
    "start_time": "2021-08-15T19:09:41.095Z"
   },
   {
    "duration": 539,
    "start_time": "2021-08-15T19:13:49.999Z"
   },
   {
    "duration": 959,
    "start_time": "2021-08-15T19:14:25.203Z"
   },
   {
    "duration": 643,
    "start_time": "2021-08-15T19:14:33.933Z"
   },
   {
    "duration": 137,
    "start_time": "2021-08-15T19:15:16.715Z"
   },
   {
    "duration": 1011,
    "start_time": "2021-08-15T19:15:36.871Z"
   },
   {
    "duration": 1528,
    "start_time": "2021-08-15T19:16:01.132Z"
   },
   {
    "duration": 1168,
    "start_time": "2021-08-15T19:17:56.548Z"
   },
   {
    "duration": 1324,
    "start_time": "2021-08-15T19:18:02.072Z"
   },
   {
    "duration": 1144,
    "start_time": "2021-08-15T19:21:25.844Z"
   },
   {
    "duration": 106,
    "start_time": "2021-08-15T19:21:32.474Z"
   },
   {
    "duration": 238,
    "start_time": "2021-08-15T19:25:14.735Z"
   },
   {
    "duration": 8,
    "start_time": "2021-08-15T19:25:24.387Z"
   },
   {
    "duration": 105,
    "start_time": "2021-08-15T19:25:32.585Z"
   },
   {
    "duration": 80,
    "start_time": "2021-08-15T19:25:44.207Z"
   },
   {
    "duration": 7540,
    "start_time": "2021-08-15T19:26:00.415Z"
   },
   {
    "duration": 10578,
    "start_time": "2021-08-15T19:27:15.044Z"
   },
   {
    "duration": 201088,
    "start_time": "2021-08-15T19:28:00.227Z"
   },
   {
    "duration": 9,
    "start_time": "2021-08-15T19:48:29.007Z"
   },
   {
    "duration": 6199,
    "start_time": "2021-08-15T20:09:56.707Z"
   },
   {
    "duration": 7,
    "start_time": "2021-08-15T20:13:57.900Z"
   },
   {
    "duration": 6,
    "start_time": "2021-08-15T20:14:02.558Z"
   },
   {
    "duration": 130,
    "start_time": "2021-08-15T20:15:37.838Z"
   },
   {
    "duration": 136,
    "start_time": "2021-08-15T20:16:01.332Z"
   },
   {
    "duration": 127,
    "start_time": "2021-08-15T20:16:04.669Z"
   },
   {
    "duration": 412,
    "start_time": "2021-08-15T20:16:44.981Z"
   },
   {
    "duration": 268,
    "start_time": "2021-08-15T20:16:59.731Z"
   },
   {
    "duration": 268,
    "start_time": "2021-08-15T20:18:46.197Z"
   },
   {
    "duration": 380,
    "start_time": "2021-08-15T20:22:53.410Z"
   },
   {
    "duration": 12,
    "start_time": "2021-08-15T20:23:05.491Z"
   },
   {
    "duration": 402,
    "start_time": "2021-08-15T20:23:20.235Z"
   },
   {
    "duration": 394,
    "start_time": "2021-08-15T20:23:53.959Z"
   },
   {
    "duration": 21,
    "start_time": "2021-08-15T20:24:03.410Z"
   },
   {
    "duration": 415,
    "start_time": "2021-08-15T20:25:18.668Z"
   },
   {
    "duration": 387,
    "start_time": "2021-08-15T20:25:25.628Z"
   },
   {
    "duration": 11,
    "start_time": "2021-08-15T20:25:29.964Z"
   },
   {
    "duration": 11,
    "start_time": "2021-08-15T20:25:41.106Z"
   },
   {
    "duration": 10,
    "start_time": "2021-08-15T20:25:50.634Z"
   },
   {
    "duration": 392,
    "start_time": "2021-08-15T20:28:41.932Z"
   },
   {
    "duration": 406,
    "start_time": "2021-08-15T20:28:55.649Z"
   },
   {
    "duration": 412,
    "start_time": "2021-08-15T20:29:22.689Z"
   },
   {
    "duration": 13,
    "start_time": "2021-08-15T20:29:30.045Z"
   },
   {
    "duration": 12,
    "start_time": "2021-08-15T20:30:08.827Z"
   },
   {
    "duration": 392,
    "start_time": "2021-08-15T20:30:40.735Z"
   },
   {
    "duration": 130,
    "start_time": "2021-08-15T20:33:34.774Z"
   },
   {
    "duration": 148,
    "start_time": "2021-08-15T20:33:42.269Z"
   },
   {
    "duration": 125,
    "start_time": "2021-08-15T20:33:46.686Z"
   },
   {
    "duration": 388,
    "start_time": "2021-08-15T20:33:52.440Z"
   },
   {
    "duration": 14758,
    "start_time": "2021-08-15T20:34:54.007Z"
   },
   {
    "duration": 11952,
    "start_time": "2021-08-15T20:35:26.352Z"
   },
   {
    "duration": 7,
    "start_time": "2021-08-15T20:37:13.947Z"
   },
   {
    "duration": 11,
    "start_time": "2021-08-15T20:37:38.264Z"
   },
   {
    "duration": 9,
    "start_time": "2021-08-15T20:37:42.472Z"
   },
   {
    "duration": 7,
    "start_time": "2021-08-15T20:37:46.550Z"
   },
   {
    "duration": 8,
    "start_time": "2021-08-15T20:37:51.140Z"
   },
   {
    "duration": 11285,
    "start_time": "2021-08-15T20:38:22.581Z"
   },
   {
    "duration": 23,
    "start_time": "2021-08-15T20:38:45.941Z"
   },
   {
    "duration": 32,
    "start_time": "2021-08-15T20:38:53.101Z"
   },
   {
    "duration": 9700,
    "start_time": "2021-08-15T20:39:15.931Z"
   },
   {
    "duration": -78,
    "start_time": "2021-08-15T20:40:00.698Z"
   },
   {
    "duration": 9786,
    "start_time": "2021-08-15T20:40:03.342Z"
   },
   {
    "duration": 729,
    "start_time": "2021-08-15T20:42:44.145Z"
   },
   {
    "duration": 377,
    "start_time": "2021-08-15T20:42:58.368Z"
   },
   {
    "duration": 389,
    "start_time": "2021-08-15T20:43:16.670Z"
   },
   {
    "duration": 27,
    "start_time": "2021-08-15T20:43:23.424Z"
   },
   {
    "duration": 39,
    "start_time": "2021-08-15T20:43:31.320Z"
   },
   {
    "duration": 286,
    "start_time": "2021-08-15T20:43:55.072Z"
   },
   {
    "duration": 279,
    "start_time": "2021-08-15T20:44:01.874Z"
   },
   {
    "duration": 385,
    "start_time": "2021-08-15T20:45:16.301Z"
   },
   {
    "duration": 436,
    "start_time": "2021-08-15T20:45:22.683Z"
   },
   {
    "duration": 453,
    "start_time": "2021-08-15T20:46:10.112Z"
   },
   {
    "duration": 465,
    "start_time": "2021-08-15T20:47:25.451Z"
   },
   {
    "duration": 13,
    "start_time": "2021-08-15T20:49:44.236Z"
   },
   {
    "duration": 141,
    "start_time": "2021-08-15T20:50:07.165Z"
   },
   {
    "duration": 11,
    "start_time": "2021-08-15T20:50:13.471Z"
   },
   {
    "duration": 16,
    "start_time": "2021-08-15T20:50:18.268Z"
   },
   {
    "duration": 279,
    "start_time": "2021-08-15T20:52:45.136Z"
   },
   {
    "duration": 387,
    "start_time": "2021-08-15T20:52:55.808Z"
   },
   {
    "duration": 456,
    "start_time": "2021-08-15T20:53:44.413Z"
   },
   {
    "duration": 35,
    "start_time": "2021-08-15T20:57:58.941Z"
   },
   {
    "duration": 22,
    "start_time": "2021-08-15T20:58:23.135Z"
   },
   {
    "duration": 17,
    "start_time": "2021-08-15T20:58:27.550Z"
   },
   {
    "duration": 89,
    "start_time": "2021-08-15T20:58:56.102Z"
   },
   {
    "duration": 146,
    "start_time": "2021-08-15T20:59:36.444Z"
   },
   {
    "duration": 527,
    "start_time": "2021-08-15T20:59:39.945Z"
   },
   {
    "duration": 7436,
    "start_time": "2021-08-15T20:59:50.656Z"
   },
   {
    "duration": 9587,
    "start_time": "2021-08-15T21:00:29.491Z"
   },
   {
    "duration": 8992,
    "start_time": "2021-08-15T21:00:57.978Z"
   },
   {
    "duration": 447,
    "start_time": "2021-08-15T21:01:18.082Z"
   },
   {
    "duration": 139864,
    "start_time": "2021-08-15T21:03:00.535Z"
   },
   {
    "duration": 147198,
    "start_time": "2021-08-15T21:06:09.600Z"
   },
   {
    "duration": 224268,
    "start_time": "2021-08-15T21:10:43.932Z"
   },
   {
    "duration": 399,
    "start_time": "2021-08-15T21:17:44.710Z"
   },
   {
    "duration": 397,
    "start_time": "2021-08-15T21:17:52.749Z"
   },
   {
    "duration": 392,
    "start_time": "2021-08-15T21:17:58.834Z"
   },
   {
    "duration": 396,
    "start_time": "2021-08-15T21:18:07.787Z"
   },
   {
    "duration": 468,
    "start_time": "2021-08-15T21:18:24.515Z"
   },
   {
    "duration": 385,
    "start_time": "2021-08-15T21:18:30.898Z"
   },
   {
    "duration": 407,
    "start_time": "2021-08-15T21:18:37.857Z"
   },
   {
    "duration": 7,
    "start_time": "2021-08-15T21:19:00.930Z"
   },
   {
    "duration": 13,
    "start_time": "2021-08-15T21:19:07.081Z"
   },
   {
    "duration": 8283,
    "start_time": "2021-08-15T21:23:44.341Z"
   },
   {
    "duration": 199,
    "start_time": "2021-08-15T21:24:18.591Z"
   },
   {
    "duration": 8667,
    "start_time": "2021-08-15T21:24:39.274Z"
   },
   {
    "duration": 5,
    "start_time": "2021-08-15T21:24:51.694Z"
   },
   {
    "duration": 402,
    "start_time": "2021-08-15T21:26:50.566Z"
   },
   {
    "duration": 219136,
    "start_time": "2021-08-15T21:27:08.270Z"
   },
   {
    "duration": 7505,
    "start_time": "2021-08-15T21:32:34.982Z"
   },
   {
    "duration": 13,
    "start_time": "2021-08-15T21:33:32.616Z"
   },
   {
    "duration": 10,
    "start_time": "2021-08-15T21:34:05.160Z"
   },
   {
    "duration": 465,
    "start_time": "2021-08-15T21:34:51.985Z"
   },
   {
    "duration": 12,
    "start_time": "2021-08-15T21:35:45.652Z"
   },
   {
    "duration": 448,
    "start_time": "2021-08-15T21:37:03.258Z"
   },
   {
    "duration": 401,
    "start_time": "2021-08-15T21:37:50.906Z"
   },
   {
    "duration": 13,
    "start_time": "2021-08-15T21:38:03.886Z"
   },
   {
    "duration": 15,
    "start_time": "2021-08-15T21:39:13.483Z"
   },
   {
    "duration": 455,
    "start_time": "2021-08-15T21:39:44.188Z"
   },
   {
    "duration": 809,
    "start_time": "2021-08-15T21:40:46.188Z"
   },
   {
    "duration": 442,
    "start_time": "2021-08-15T21:41:10.817Z"
   },
   {
    "duration": 473,
    "start_time": "2021-08-15T21:42:18.046Z"
   },
   {
    "duration": 128,
    "start_time": "2021-08-15T21:42:56.848Z"
   },
   {
    "duration": 657,
    "start_time": "2021-08-15T21:43:02.089Z"
   },
   {
    "duration": 138,
    "start_time": "2021-08-15T21:43:21.910Z"
   },
   {
    "duration": 749,
    "start_time": "2021-08-15T21:43:25.700Z"
   },
   {
    "duration": 635,
    "start_time": "2021-08-15T21:43:44.628Z"
   },
   {
    "duration": 474,
    "start_time": "2021-08-15T21:44:17.626Z"
   },
   {
    "duration": 459,
    "start_time": "2021-08-15T21:44:59.188Z"
   },
   {
    "duration": 40604,
    "start_time": "2021-08-15T21:45:28.583Z"
   },
   {
    "duration": 14,
    "start_time": "2021-08-15T21:46:29.523Z"
   },
   {
    "duration": 291,
    "start_time": "2021-08-15T21:49:59.311Z"
   },
   {
    "duration": 9922,
    "start_time": "2021-08-15T21:50:27.255Z"
   },
   {
    "duration": 12,
    "start_time": "2021-08-15T21:50:51.416Z"
   },
   {
    "duration": 9685,
    "start_time": "2021-08-15T21:51:22.856Z"
   },
   {
    "duration": 646,
    "start_time": "2021-08-15T21:52:32.051Z"
   },
   {
    "duration": 9,
    "start_time": "2021-08-15T21:52:35.585Z"
   },
   {
    "duration": 11,
    "start_time": "2021-08-15T21:52:40.544Z"
   },
   {
    "duration": 131,
    "start_time": "2021-08-15T21:52:53.054Z"
   },
   {
    "duration": 383,
    "start_time": "2021-08-15T21:52:57.786Z"
   },
   {
    "duration": 7,
    "start_time": "2021-08-15T21:53:13.991Z"
   },
   {
    "duration": 12,
    "start_time": "2021-08-15T21:53:17.783Z"
   },
   {
    "duration": 404,
    "start_time": "2021-08-15T21:53:21.283Z"
   },
   {
    "duration": 9444,
    "start_time": "2021-08-15T21:53:25.896Z"
   },
   {
    "duration": 136,
    "start_time": "2021-08-15T21:55:03.082Z"
   },
   {
    "duration": 670,
    "start_time": "2021-08-15T21:55:26.893Z"
   },
   {
    "duration": 6,
    "start_time": "2021-08-15T21:56:11.488Z"
   },
   {
    "duration": 6,
    "start_time": "2021-08-15T21:56:36.278Z"
   },
   {
    "duration": 510,
    "start_time": "2021-08-15T21:59:00.721Z"
   },
   {
    "duration": 508,
    "start_time": "2021-08-15T21:59:13.107Z"
   },
   {
    "duration": 424,
    "start_time": "2021-08-15T21:59:16.805Z"
   },
   {
    "duration": 594,
    "start_time": "2021-08-15T21:59:22.941Z"
   },
   {
    "duration": 437,
    "start_time": "2021-08-15T21:59:27.887Z"
   },
   {
    "duration": 9,
    "start_time": "2021-08-15T21:59:57.039Z"
   },
   {
    "duration": 12,
    "start_time": "2021-08-15T22:00:07.058Z"
   },
   {
    "duration": 10,
    "start_time": "2021-08-15T22:00:12.735Z"
   },
   {
    "duration": 4,
    "start_time": "2021-08-15T22:00:19.678Z"
   },
   {
    "duration": 11,
    "start_time": "2021-08-15T22:00:22.201Z"
   },
   {
    "duration": 1525,
    "start_time": "2021-08-15T22:00:55.710Z"
   },
   {
    "duration": 11,
    "start_time": "2021-08-15T22:00:57.467Z"
   },
   {
    "duration": 416,
    "start_time": "2021-08-15T22:01:20.942Z"
   },
   {
    "duration": 409,
    "start_time": "2021-08-15T22:01:32.666Z"
   },
   {
    "duration": 415,
    "start_time": "2021-08-15T22:01:39.733Z"
   },
   {
    "duration": 397,
    "start_time": "2021-08-15T22:01:43.699Z"
   },
   {
    "duration": 11,
    "start_time": "2021-08-15T22:01:49.938Z"
   },
   {
    "duration": 399,
    "start_time": "2021-08-15T22:02:01.666Z"
   },
   {
    "duration": 8,
    "start_time": "2021-08-15T22:02:07.059Z"
   },
   {
    "duration": 10,
    "start_time": "2021-08-15T22:02:10.312Z"
   },
   {
    "duration": 12,
    "start_time": "2021-08-15T22:02:21.903Z"
   },
   {
    "duration": 7,
    "start_time": "2021-08-15T22:02:29.806Z"
   },
   {
    "duration": 440,
    "start_time": "2021-08-15T22:02:42.407Z"
   },
   {
    "duration": 6,
    "start_time": "2021-08-15T22:02:53.888Z"
   },
   {
    "duration": 9,
    "start_time": "2021-08-15T22:02:55.086Z"
   },
   {
    "duration": 5,
    "start_time": "2021-08-15T22:03:19.307Z"
   },
   {
    "duration": 10,
    "start_time": "2021-08-15T22:03:21.090Z"
   },
   {
    "duration": 5,
    "start_time": "2021-08-15T22:03:26.920Z"
   },
   {
    "duration": 5,
    "start_time": "2021-08-15T22:03:42.801Z"
   },
   {
    "duration": 12,
    "start_time": "2021-08-15T22:03:49.063Z"
   },
   {
    "duration": 284,
    "start_time": "2021-08-15T22:04:27.306Z"
   },
   {
    "duration": 485,
    "start_time": "2021-08-15T22:04:56.228Z"
   },
   {
    "duration": 504,
    "start_time": "2021-08-15T22:05:09.940Z"
   },
   {
    "duration": 440,
    "start_time": "2021-08-15T22:05:14.217Z"
   },
   {
    "duration": 512,
    "start_time": "2021-08-15T22:05:20.888Z"
   },
   {
    "duration": 459,
    "start_time": "2021-08-15T22:05:25.370Z"
   },
   {
    "duration": 12,
    "start_time": "2021-08-15T22:06:24.627Z"
   },
   {
    "duration": 18,
    "start_time": "2021-08-15T22:06:40.896Z"
   },
   {
    "duration": 402,
    "start_time": "2021-08-15T22:06:49.854Z"
   },
   {
    "duration": 17,
    "start_time": "2021-08-15T22:07:02.316Z"
   },
   {
    "duration": 8,
    "start_time": "2021-08-15T22:07:07.907Z"
   },
   {
    "duration": 6,
    "start_time": "2021-08-15T22:07:09.420Z"
   },
   {
    "duration": 14,
    "start_time": "2021-08-15T22:07:11.039Z"
   },
   {
    "duration": 9,
    "start_time": "2021-08-15T22:07:38.741Z"
   },
   {
    "duration": 9,
    "start_time": "2021-08-15T22:07:49.329Z"
   },
   {
    "duration": 14,
    "start_time": "2021-08-15T22:08:02.525Z"
   },
   {
    "duration": 313,
    "start_time": "2021-08-15T22:08:06.885Z"
   },
   {
    "duration": 401,
    "start_time": "2021-08-15T22:08:12.122Z"
   },
   {
    "duration": 1534,
    "start_time": "2021-08-15T22:12:09.431Z"
   },
   {
    "duration": 1566,
    "start_time": "2021-08-15T22:12:23.887Z"
   },
   {
    "duration": 1633,
    "start_time": "2021-08-15T22:12:42.659Z"
   },
   {
    "duration": 18,
    "start_time": "2021-08-15T22:13:21.417Z"
   },
   {
    "duration": 18,
    "start_time": "2021-08-15T22:13:44.579Z"
   },
   {
    "duration": 454,
    "start_time": "2021-08-15T22:13:52.255Z"
   },
   {
    "duration": 425,
    "start_time": "2021-08-15T22:13:58.888Z"
   },
   {
    "duration": 454,
    "start_time": "2021-08-15T22:17:16.831Z"
   },
   {
    "duration": 448,
    "start_time": "2021-08-15T22:19:36.899Z"
   },
   {
    "duration": 6,
    "start_time": "2021-08-15T22:21:40.726Z"
   },
   {
    "duration": 408,
    "start_time": "2021-08-15T22:22:47.571Z"
   },
   {
    "duration": 409,
    "start_time": "2021-08-15T22:22:55.288Z"
   },
   {
    "duration": 392,
    "start_time": "2021-08-15T22:23:21.714Z"
   },
   {
    "duration": 4,
    "start_time": "2021-08-15T22:25:13.281Z"
   },
   {
    "duration": 4,
    "start_time": "2021-08-15T22:25:21.190Z"
   },
   {
    "duration": 4,
    "start_time": "2021-08-15T22:25:27.745Z"
   },
   {
    "duration": 6,
    "start_time": "2021-08-15T22:25:36.881Z"
   },
   {
    "duration": 7,
    "start_time": "2021-08-15T22:25:43.685Z"
   },
   {
    "duration": 393,
    "start_time": "2021-08-15T22:26:14.634Z"
   },
   {
    "duration": 5,
    "start_time": "2021-08-15T22:27:11.227Z"
   },
   {
    "duration": 7,
    "start_time": "2021-08-15T22:27:14.734Z"
   },
   {
    "duration": 571,
    "start_time": "2021-08-15T22:27:24.460Z"
   },
   {
    "duration": 776,
    "start_time": "2021-08-15T22:27:53.807Z"
   },
   {
    "duration": 767,
    "start_time": "2021-08-15T22:28:25.032Z"
   },
   {
    "duration": 6,
    "start_time": "2021-08-15T22:28:46.047Z"
   },
   {
    "duration": 440,
    "start_time": "2021-08-15T22:28:57.826Z"
   },
   {
    "duration": 453,
    "start_time": "2021-08-15T22:29:41.283Z"
   },
   {
    "duration": 446,
    "start_time": "2021-08-15T22:30:22.851Z"
   },
   {
    "duration": 460,
    "start_time": "2021-08-15T22:32:12.766Z"
   },
   {
    "duration": 13,
    "start_time": "2021-08-15T22:32:23.933Z"
   },
   {
    "duration": 8,
    "start_time": "2021-08-15T22:32:44.953Z"
   },
   {
    "duration": 8,
    "start_time": "2021-08-15T22:33:00.843Z"
   },
   {
    "duration": 10,
    "start_time": "2021-08-15T22:33:08.051Z"
   },
   {
    "duration": 529,
    "start_time": "2021-08-15T22:33:18.798Z"
   },
   {
    "duration": 1712,
    "start_time": "2021-08-15T22:35:48.981Z"
   },
   {
    "duration": 1320,
    "start_time": "2021-08-15T22:35:50.696Z"
   },
   {
    "duration": 9,
    "start_time": "2021-08-15T22:35:52.020Z"
   },
   {
    "duration": 154,
    "start_time": "2021-08-15T22:35:52.032Z"
   },
   {
    "duration": 20,
    "start_time": "2021-08-15T22:35:52.189Z"
   },
   {
    "duration": 185,
    "start_time": "2021-08-15T22:35:52.211Z"
   },
   {
    "duration": 529,
    "start_time": "2021-08-15T22:35:52.398Z"
   },
   {
    "duration": 27,
    "start_time": "2021-08-15T22:35:52.931Z"
   },
   {
    "duration": 44,
    "start_time": "2021-08-15T22:35:52.962Z"
   },
   {
    "duration": 32,
    "start_time": "2021-08-15T22:35:53.009Z"
   },
   {
    "duration": 44,
    "start_time": "2021-08-15T22:35:53.043Z"
   },
   {
    "duration": 28,
    "start_time": "2021-08-15T22:35:53.089Z"
   },
   {
    "duration": 31,
    "start_time": "2021-08-15T22:35:53.119Z"
   },
   {
    "duration": 109,
    "start_time": "2021-08-15T22:35:53.153Z"
   },
   {
    "duration": 234,
    "start_time": "2021-08-15T22:35:53.264Z"
   },
   {
    "duration": 67,
    "start_time": "2021-08-15T22:35:53.501Z"
   },
   {
    "duration": 101,
    "start_time": "2021-08-15T22:35:53.571Z"
   },
   {
    "duration": 252,
    "start_time": "2021-08-15T22:35:53.686Z"
   },
   {
    "duration": 82,
    "start_time": "2021-08-15T22:35:53.941Z"
   },
   {
    "duration": 29,
    "start_time": "2021-08-15T22:35:54.025Z"
   },
   {
    "duration": 114,
    "start_time": "2021-08-15T22:35:54.056Z"
   },
   {
    "duration": 22,
    "start_time": "2021-08-15T22:35:54.173Z"
   },
   {
    "duration": 12,
    "start_time": "2021-08-15T22:35:54.203Z"
   },
   {
    "duration": 799,
    "start_time": "2021-08-15T22:35:54.219Z"
   },
   {
    "duration": 779,
    "start_time": "2021-08-15T22:35:55.020Z"
   },
   {
    "duration": 85,
    "start_time": "2021-08-15T22:35:55.802Z"
   },
   {
    "duration": 5,
    "start_time": "2021-08-15T22:35:55.889Z"
   },
   {
    "duration": 648,
    "start_time": "2021-08-15T22:35:55.897Z"
   },
   {
    "duration": 7,
    "start_time": "2021-08-15T22:35:56.548Z"
   },
   {
    "duration": 11,
    "start_time": "2021-08-15T22:35:56.557Z"
   },
   {
    "duration": 1183,
    "start_time": "2021-08-15T22:35:56.587Z"
   },
   {
    "duration": 118,
    "start_time": "2021-08-15T22:35:57.772Z"
   },
   {
    "duration": 23,
    "start_time": "2021-08-15T22:35:57.894Z"
   },
   {
    "duration": 280,
    "start_time": "2021-08-15T22:35:57.920Z"
   },
   {
    "duration": 10,
    "start_time": "2021-08-15T22:35:58.204Z"
   },
   {
    "duration": 175,
    "start_time": "2021-08-15T22:35:58.217Z"
   },
   {
    "duration": 392,
    "start_time": "2021-08-15T22:35:58.395Z"
   },
   {
    "duration": 530,
    "start_time": "2021-08-15T22:35:58.790Z"
   },
   {
    "duration": 7498,
    "start_time": "2021-08-15T22:35:59.322Z"
   },
   {
    "duration": 208907,
    "start_time": "2021-08-15T22:36:06.822Z"
   },
   {
    "duration": 7,
    "start_time": "2021-08-15T22:39:35.731Z"
   },
   {
    "duration": 8845,
    "start_time": "2021-08-15T22:39:35.741Z"
   },
   {
    "duration": 475,
    "start_time": "2021-08-15T22:39:44.589Z"
   },
   {
    "duration": 141232,
    "start_time": "2021-08-15T22:39:45.067Z"
   },
   {
    "duration": 1443199,
    "start_time": "2021-08-15T22:42:06.301Z"
   },
   {
    "duration": 6,
    "start_time": "2021-08-15T23:06:09.503Z"
   },
   {
    "duration": 220506,
    "start_time": "2021-08-15T23:06:09.586Z"
   },
   {
    "duration": 464,
    "start_time": "2021-08-15T23:09:50.095Z"
   },
   {
    "duration": 7925,
    "start_time": "2021-08-15T23:09:50.562Z"
   },
   {
    "duration": 188717,
    "start_time": "2021-08-15T23:09:58.491Z"
   },
   {
    "duration": 74,
    "start_time": "2021-08-15T23:13:07.210Z"
   },
   {
    "duration": 45921,
    "start_time": "2021-08-15T23:13:07.287Z"
   },
   {
    "duration": 531,
    "start_time": "2021-08-15T23:13:53.211Z"
   },
   {
    "duration": 10,
    "start_time": "2021-08-15T23:13:53.745Z"
   },
   {
    "duration": 462,
    "start_time": "2021-08-15T23:13:53.758Z"
   },
   {
    "duration": 1534,
    "start_time": "2021-08-16T08:18:15.350Z"
   },
   {
    "duration": 1140,
    "start_time": "2021-08-16T08:18:16.887Z"
   },
   {
    "duration": 9,
    "start_time": "2021-08-16T08:18:18.030Z"
   },
   {
    "duration": 141,
    "start_time": "2021-08-16T08:18:18.042Z"
   },
   {
    "duration": 20,
    "start_time": "2021-08-16T08:18:18.186Z"
   },
   {
    "duration": 170,
    "start_time": "2021-08-16T08:18:18.208Z"
   },
   {
    "duration": 464,
    "start_time": "2021-08-16T08:18:18.383Z"
   },
   {
    "duration": 31,
    "start_time": "2021-08-16T08:18:18.851Z"
   },
   {
    "duration": 24,
    "start_time": "2021-08-16T08:18:19.085Z"
   },
   {
    "duration": 26,
    "start_time": "2021-08-16T08:18:19.309Z"
   },
   {
    "duration": 23,
    "start_time": "2021-08-16T08:18:19.548Z"
   },
   {
    "duration": 26,
    "start_time": "2021-08-16T08:18:19.949Z"
   },
   {
    "duration": 25,
    "start_time": "2021-08-16T08:18:20.164Z"
   },
   {
    "duration": 75,
    "start_time": "2021-08-16T08:18:21.084Z"
   },
   {
    "duration": 209,
    "start_time": "2021-08-16T08:18:22.031Z"
   },
   {
    "duration": 59,
    "start_time": "2021-08-16T08:18:22.524Z"
   },
   {
    "duration": 77,
    "start_time": "2021-08-16T08:18:23.412Z"
   },
   {
    "duration": 218,
    "start_time": "2021-08-16T08:18:23.844Z"
   },
   {
    "duration": 59,
    "start_time": "2021-08-16T08:18:24.580Z"
   },
   {
    "duration": 25,
    "start_time": "2021-08-16T08:18:24.804Z"
   },
   {
    "duration": 92,
    "start_time": "2021-08-16T08:18:25.804Z"
   },
   {
    "duration": 12,
    "start_time": "2021-08-16T08:18:27.020Z"
   },
   {
    "duration": 12,
    "start_time": "2021-08-16T08:18:27.423Z"
   },
   {
    "duration": 676,
    "start_time": "2021-08-16T08:18:27.788Z"
   },
   {
    "duration": 723,
    "start_time": "2021-08-16T08:18:28.467Z"
   },
   {
    "duration": 67,
    "start_time": "2021-08-16T08:18:29.193Z"
   },
   {
    "duration": 23,
    "start_time": "2021-08-16T08:18:29.262Z"
   },
   {
    "duration": 588,
    "start_time": "2021-08-16T08:18:29.287Z"
   },
   {
    "duration": 7,
    "start_time": "2021-08-16T08:18:32.502Z"
   },
   {
    "duration": 6,
    "start_time": "2021-08-16T08:18:33.836Z"
   },
   {
    "duration": 1169,
    "start_time": "2021-08-16T08:18:35.085Z"
   },
   {
    "duration": 90,
    "start_time": "2021-08-16T08:18:39.252Z"
   },
   {
    "duration": 19,
    "start_time": "2021-08-16T08:18:41.492Z"
   },
   {
    "duration": 220,
    "start_time": "2021-08-16T08:18:43.431Z"
   },
   {
    "duration": 9,
    "start_time": "2021-08-16T08:18:48.333Z"
   },
   {
    "duration": 156,
    "start_time": "2021-08-16T08:18:50.236Z"
   },
   {
    "duration": 161,
    "start_time": "2021-08-16T08:18:55.822Z"
   },
   {
    "duration": 7032,
    "start_time": "2021-08-16T08:19:27.977Z"
   },
   {
    "duration": 8190,
    "start_time": "2021-08-16T08:20:19.421Z"
   },
   {
    "duration": 6137,
    "start_time": "2021-08-16T08:20:53.978Z"
   },
   {
    "duration": 5,
    "start_time": "2021-08-16T08:21:36.425Z"
   },
   {
    "duration": 564,
    "start_time": "2021-08-16T08:23:27.198Z"
   },
   {
    "duration": 4,
    "start_time": "2021-08-16T08:23:32.319Z"
   },
   {
    "duration": 708,
    "start_time": "2021-08-16T08:23:33.155Z"
   },
   {
    "duration": 5,
    "start_time": "2021-08-16T08:23:46.697Z"
   },
   {
    "duration": 320,
    "start_time": "2021-08-16T08:23:47.880Z"
   },
   {
    "duration": 1537,
    "start_time": "2021-08-16T12:43:22.737Z"
   },
   {
    "duration": 1239,
    "start_time": "2021-08-16T12:43:24.276Z"
   },
   {
    "duration": 9,
    "start_time": "2021-08-16T12:43:28.002Z"
   },
   {
    "duration": 120,
    "start_time": "2021-08-16T12:43:28.914Z"
   },
   {
    "duration": 20,
    "start_time": "2021-08-16T12:43:31.205Z"
   },
   {
    "duration": 156,
    "start_time": "2021-08-16T12:43:34.486Z"
   },
   {
    "duration": 467,
    "start_time": "2021-08-16T12:43:38.407Z"
   },
   {
    "duration": 27,
    "start_time": "2021-08-16T12:43:41.869Z"
   },
   {
    "duration": 25,
    "start_time": "2021-08-16T12:43:44.335Z"
   },
   {
    "duration": 29,
    "start_time": "2021-08-16T12:43:49.772Z"
   },
   {
    "duration": 25,
    "start_time": "2021-08-16T12:43:50.940Z"
   },
   {
    "duration": 26,
    "start_time": "2021-08-16T12:43:53.034Z"
   },
   {
    "duration": 25,
    "start_time": "2021-08-16T12:43:53.644Z"
   },
   {
    "duration": 78,
    "start_time": "2021-08-16T12:43:56.249Z"
   },
   {
    "duration": 226,
    "start_time": "2021-08-16T12:43:58.715Z"
   },
   {
    "duration": 69,
    "start_time": "2021-08-16T12:44:06.041Z"
   },
   {
    "duration": 84,
    "start_time": "2021-08-16T12:44:16.469Z"
   },
   {
    "duration": 236,
    "start_time": "2021-08-16T12:44:21.275Z"
   },
   {
    "duration": 66,
    "start_time": "2021-08-16T12:44:25.910Z"
   },
   {
    "duration": 27,
    "start_time": "2021-08-16T12:44:30.304Z"
   },
   {
    "duration": 94,
    "start_time": "2021-08-16T12:44:32.895Z"
   },
   {
    "duration": 13,
    "start_time": "2021-08-16T12:44:35.660Z"
   },
   {
    "duration": 12,
    "start_time": "2021-08-16T12:44:40.049Z"
   },
   {
    "duration": 720,
    "start_time": "2021-08-16T12:44:42.454Z"
   },
   {
    "duration": 765,
    "start_time": "2021-08-16T12:44:51.736Z"
   },
   {
    "duration": 70,
    "start_time": "2021-08-16T12:44:57.097Z"
   },
   {
    "duration": 5,
    "start_time": "2021-08-16T12:44:59.392Z"
   },
   {
    "duration": 642,
    "start_time": "2021-08-16T12:45:02.328Z"
   },
   {
    "duration": 7,
    "start_time": "2021-08-16T12:45:07.186Z"
   },
   {
    "duration": 7,
    "start_time": "2021-08-16T12:45:09.361Z"
   },
   {
    "duration": 1149,
    "start_time": "2021-08-16T12:45:16.492Z"
   },
   {
    "duration": 101,
    "start_time": "2021-08-16T12:45:21.839Z"
   },
   {
    "duration": 232,
    "start_time": "2021-08-16T12:45:28.429Z"
   },
   {
    "duration": 30,
    "start_time": "2021-08-16T12:45:31.600Z"
   },
   {
    "duration": 8,
    "start_time": "2021-08-16T12:45:49.752Z"
   },
   {
    "duration": 61,
    "start_time": "2021-08-16T12:45:54.057Z"
   },
   {
    "duration": 174,
    "start_time": "2021-08-16T12:46:02.528Z"
   },
   {
    "duration": 5,
    "start_time": "2021-08-16T12:49:04.855Z"
   },
   {
    "duration": 955,
    "start_time": "2021-08-16T12:49:06.775Z"
   },
   {
    "duration": 587,
    "start_time": "2021-08-16T12:50:25.932Z"
   },
   {
    "duration": 553,
    "start_time": "2021-08-16T12:50:57.887Z"
   },
   {
    "duration": 549,
    "start_time": "2021-08-16T12:51:19.429Z"
   },
   {
    "duration": 558,
    "start_time": "2021-08-16T12:51:39.042Z"
   },
   {
    "duration": 7962,
    "start_time": "2021-08-16T12:52:01.335Z"
   },
   {
    "duration": 7291,
    "start_time": "2021-08-16T12:52:15.480Z"
   },
   {
    "duration": 314,
    "start_time": "2021-08-16T12:52:50.656Z"
   },
   {
    "duration": 514,
    "start_time": "2021-08-16T12:53:11.970Z"
   },
   {
    "duration": 4,
    "start_time": "2021-08-16T12:54:13.411Z"
   },
   {
    "duration": 143987,
    "start_time": "2021-08-16T12:54:21.234Z"
   },
   {
    "duration": 217118,
    "start_time": "2021-08-16T12:57:04.690Z"
   },
   {
    "duration": 501,
    "start_time": "2021-08-16T13:00:55.002Z"
   },
   {
    "duration": 1651,
    "start_time": "2021-08-16T13:04:43.060Z"
   },
   {
    "duration": 1266,
    "start_time": "2021-08-16T13:04:44.714Z"
   },
   {
    "duration": 18,
    "start_time": "2021-08-16T13:04:45.983Z"
   },
   {
    "duration": 148,
    "start_time": "2021-08-16T13:04:46.004Z"
   },
   {
    "duration": 20,
    "start_time": "2021-08-16T13:04:46.155Z"
   },
   {
    "duration": 239,
    "start_time": "2021-08-16T13:04:46.177Z"
   },
   {
    "duration": 883,
    "start_time": "2021-08-16T13:04:46.420Z"
   },
   {
    "duration": 45,
    "start_time": "2021-08-16T13:04:47.309Z"
   },
   {
    "duration": 68,
    "start_time": "2021-08-16T13:04:47.358Z"
   },
   {
    "duration": 51,
    "start_time": "2021-08-16T13:04:47.429Z"
   },
   {
    "duration": 40,
    "start_time": "2021-08-16T13:04:47.500Z"
   },
   {
    "duration": 30,
    "start_time": "2021-08-16T13:04:47.543Z"
   },
   {
    "duration": 48,
    "start_time": "2021-08-16T13:04:47.576Z"
   },
   {
    "duration": 148,
    "start_time": "2021-08-16T13:04:47.627Z"
   },
   {
    "duration": 271,
    "start_time": "2021-08-16T13:04:47.778Z"
   },
   {
    "duration": 94,
    "start_time": "2021-08-16T13:04:48.051Z"
   },
   {
    "duration": 110,
    "start_time": "2021-08-16T13:04:48.147Z"
   },
   {
    "duration": 268,
    "start_time": "2021-08-16T13:04:48.260Z"
   },
   {
    "duration": 81,
    "start_time": "2021-08-16T13:04:48.531Z"
   },
   {
    "duration": 28,
    "start_time": "2021-08-16T13:04:48.615Z"
   },
   {
    "duration": 128,
    "start_time": "2021-08-16T13:04:48.646Z"
   },
   {
    "duration": 26,
    "start_time": "2021-08-16T13:04:48.778Z"
   },
   {
    "duration": 12,
    "start_time": "2021-08-16T13:04:48.811Z"
   },
   {
    "duration": 803,
    "start_time": "2021-08-16T13:04:48.828Z"
   },
   {
    "duration": 821,
    "start_time": "2021-08-16T13:04:49.634Z"
   },
   {
    "duration": 83,
    "start_time": "2021-08-16T13:04:50.458Z"
   },
   {
    "duration": 6,
    "start_time": "2021-08-16T13:04:50.544Z"
   },
   {
    "duration": 627,
    "start_time": "2021-08-16T13:04:50.552Z"
   },
   {
    "duration": 8,
    "start_time": "2021-08-16T13:04:51.182Z"
   },
   {
    "duration": 8,
    "start_time": "2021-08-16T13:04:51.201Z"
   },
   {
    "duration": 1779,
    "start_time": "2021-08-16T13:04:51.213Z"
   },
   {
    "duration": 151,
    "start_time": "2021-08-16T13:04:52.995Z"
   },
   {
    "duration": 400,
    "start_time": "2021-08-16T13:04:53.156Z"
   },
   {
    "duration": 49,
    "start_time": "2021-08-16T13:04:53.560Z"
   },
   {
    "duration": 11,
    "start_time": "2021-08-16T13:04:53.612Z"
   },
   {
    "duration": 186,
    "start_time": "2021-08-16T13:04:53.626Z"
   },
   {
    "duration": 113,
    "start_time": "2021-08-16T13:04:53.900Z"
   },
   {
    "duration": 679,
    "start_time": "2021-08-16T13:04:54.016Z"
   },
   {
    "duration": 7789,
    "start_time": "2021-08-16T13:04:54.697Z"
   },
   {
    "duration": 1558,
    "start_time": "2021-08-16T13:05:51.818Z"
   },
   {
    "duration": 1279,
    "start_time": "2021-08-16T13:05:53.379Z"
   },
   {
    "duration": 9,
    "start_time": "2021-08-16T13:05:54.662Z"
   },
   {
    "duration": 166,
    "start_time": "2021-08-16T13:05:54.674Z"
   },
   {
    "duration": 20,
    "start_time": "2021-08-16T13:05:54.844Z"
   },
   {
    "duration": 219,
    "start_time": "2021-08-16T13:05:54.867Z"
   },
   {
    "duration": 614,
    "start_time": "2021-08-16T13:05:55.088Z"
   },
   {
    "duration": 28,
    "start_time": "2021-08-16T13:05:55.705Z"
   },
   {
    "duration": 30,
    "start_time": "2021-08-16T13:05:55.736Z"
   },
   {
    "duration": 54,
    "start_time": "2021-08-16T13:05:55.769Z"
   },
   {
    "duration": 30,
    "start_time": "2021-08-16T13:05:55.825Z"
   },
   {
    "duration": 51,
    "start_time": "2021-08-16T13:05:55.858Z"
   },
   {
    "duration": 27,
    "start_time": "2021-08-16T13:05:55.912Z"
   },
   {
    "duration": 110,
    "start_time": "2021-08-16T13:05:55.942Z"
   },
   {
    "duration": 233,
    "start_time": "2021-08-16T13:05:56.055Z"
   },
   {
    "duration": 78,
    "start_time": "2021-08-16T13:05:56.290Z"
   },
   {
    "duration": 105,
    "start_time": "2021-08-16T13:05:56.370Z"
   },
   {
    "duration": 256,
    "start_time": "2021-08-16T13:05:56.477Z"
   },
   {
    "duration": 89,
    "start_time": "2021-08-16T13:05:56.737Z"
   },
   {
    "duration": 35,
    "start_time": "2021-08-16T13:05:56.829Z"
   },
   {
    "duration": 134,
    "start_time": "2021-08-16T13:05:56.866Z"
   },
   {
    "duration": 13,
    "start_time": "2021-08-16T13:05:57.002Z"
   },
   {
    "duration": 12,
    "start_time": "2021-08-16T13:05:57.021Z"
   },
   {
    "duration": 810,
    "start_time": "2021-08-16T13:05:57.036Z"
   },
   {
    "duration": 778,
    "start_time": "2021-08-16T13:05:57.849Z"
   },
   {
    "duration": 84,
    "start_time": "2021-08-16T13:05:58.629Z"
   },
   {
    "duration": 8,
    "start_time": "2021-08-16T13:05:58.715Z"
   },
   {
    "duration": 674,
    "start_time": "2021-08-16T13:05:58.727Z"
   },
   {
    "duration": 8,
    "start_time": "2021-08-16T13:05:59.404Z"
   },
   {
    "duration": 7,
    "start_time": "2021-08-16T13:05:59.415Z"
   },
   {
    "duration": 1145,
    "start_time": "2021-08-16T13:05:59.425Z"
   },
   {
    "duration": 114,
    "start_time": "2021-08-16T13:06:00.572Z"
   },
   {
    "duration": 249,
    "start_time": "2021-08-16T13:06:00.688Z"
   },
   {
    "duration": 30,
    "start_time": "2021-08-16T13:06:00.940Z"
   },
   {
    "duration": 8,
    "start_time": "2021-08-16T13:06:00.972Z"
   },
   {
    "duration": 200,
    "start_time": "2021-08-16T13:06:01.001Z"
   },
   {
    "duration": 298,
    "start_time": "2021-08-16T13:06:01.203Z"
   },
   {
    "duration": 575,
    "start_time": "2021-08-16T13:06:01.503Z"
   },
   {
    "duration": 8339,
    "start_time": "2021-08-16T13:06:02.081Z"
   },
   {
    "duration": 212558,
    "start_time": "2021-08-16T13:06:10.422Z"
   },
   {
    "duration": 7,
    "start_time": "2021-08-16T13:09:42.983Z"
   },
   {
    "duration": 9236,
    "start_time": "2021-08-16T13:09:43.002Z"
   },
   {
    "duration": 895,
    "start_time": "2021-08-16T13:09:52.241Z"
   },
   {
    "duration": -2603,
    "start_time": "2021-08-16T13:09:55.742Z"
   },
   {
    "duration": -2604,
    "start_time": "2021-08-16T13:09:55.745Z"
   },
   {
    "duration": -2605,
    "start_time": "2021-08-16T13:09:55.747Z"
   },
   {
    "duration": -2610,
    "start_time": "2021-08-16T13:09:55.754Z"
   },
   {
    "duration": -2611,
    "start_time": "2021-08-16T13:09:55.756Z"
   },
   {
    "duration": -2611,
    "start_time": "2021-08-16T13:09:55.758Z"
   },
   {
    "duration": -2612,
    "start_time": "2021-08-16T13:09:55.760Z"
   },
   {
    "duration": -2613,
    "start_time": "2021-08-16T13:09:55.762Z"
   },
   {
    "duration": -2613,
    "start_time": "2021-08-16T13:09:55.764Z"
   },
   {
    "duration": -2615,
    "start_time": "2021-08-16T13:09:55.767Z"
   },
   {
    "duration": -2636,
    "start_time": "2021-08-16T13:09:55.790Z"
   },
   {
    "duration": -2637,
    "start_time": "2021-08-16T13:09:55.792Z"
   },
   {
    "duration": -2637,
    "start_time": "2021-08-16T13:09:55.794Z"
   },
   {
    "duration": -2638,
    "start_time": "2021-08-16T13:09:55.796Z"
   },
   {
    "duration": -2638,
    "start_time": "2021-08-16T13:09:55.798Z"
   },
   {
    "duration": 11,
    "start_time": "2021-08-16T13:13:36.245Z"
   },
   {
    "duration": 357,
    "start_time": "2021-08-16T13:14:20.896Z"
   },
   {
    "duration": 14,
    "start_time": "2021-08-16T13:14:44.972Z"
   },
   {
    "duration": 11,
    "start_time": "2021-08-16T13:15:20.773Z"
   },
   {
    "duration": 7,
    "start_time": "2021-08-16T13:15:28.324Z"
   },
   {
    "duration": 118,
    "start_time": "2021-08-16T13:15:57.758Z"
   },
   {
    "duration": 8947,
    "start_time": "2021-08-16T13:16:01.723Z"
   },
   {
    "duration": 13,
    "start_time": "2021-08-16T13:17:28.312Z"
   },
   {
    "duration": 5,
    "start_time": "2021-08-16T13:17:29.876Z"
   },
   {
    "duration": 5,
    "start_time": "2021-08-16T13:17:39.024Z"
   },
   {
    "duration": 538,
    "start_time": "2021-08-16T13:17:42.076Z"
   },
   {
    "duration": 1611,
    "start_time": "2021-08-16T13:18:35.255Z"
   },
   {
    "duration": 1221,
    "start_time": "2021-08-16T13:18:36.868Z"
   },
   {
    "duration": 13,
    "start_time": "2021-08-16T13:18:38.093Z"
   },
   {
    "duration": 137,
    "start_time": "2021-08-16T13:18:38.109Z"
   },
   {
    "duration": 20,
    "start_time": "2021-08-16T13:18:38.249Z"
   },
   {
    "duration": 173,
    "start_time": "2021-08-16T13:18:38.271Z"
   },
   {
    "duration": 487,
    "start_time": "2021-08-16T13:18:38.447Z"
   },
   {
    "duration": 27,
    "start_time": "2021-08-16T13:18:38.938Z"
   },
   {
    "duration": 50,
    "start_time": "2021-08-16T13:18:38.968Z"
   },
   {
    "duration": 37,
    "start_time": "2021-08-16T13:18:39.021Z"
   },
   {
    "duration": 41,
    "start_time": "2021-08-16T13:18:39.061Z"
   },
   {
    "duration": 27,
    "start_time": "2021-08-16T13:18:39.104Z"
   },
   {
    "duration": 42,
    "start_time": "2021-08-16T13:18:39.133Z"
   },
   {
    "duration": 89,
    "start_time": "2021-08-16T13:18:39.177Z"
   },
   {
    "duration": 230,
    "start_time": "2021-08-16T13:18:39.268Z"
   },
   {
    "duration": 64,
    "start_time": "2021-08-16T13:18:39.501Z"
   },
   {
    "duration": 97,
    "start_time": "2021-08-16T13:18:39.568Z"
   },
   {
    "duration": 348,
    "start_time": "2021-08-16T13:18:39.667Z"
   },
   {
    "duration": 135,
    "start_time": "2021-08-16T13:18:40.028Z"
   },
   {
    "duration": 59,
    "start_time": "2021-08-16T13:18:40.178Z"
   },
   {
    "duration": 119,
    "start_time": "2021-08-16T13:18:40.240Z"
   },
   {
    "duration": 11,
    "start_time": "2021-08-16T13:18:40.361Z"
   },
   {
    "duration": 30,
    "start_time": "2021-08-16T13:18:40.378Z"
   },
   {
    "duration": 728,
    "start_time": "2021-08-16T13:18:40.411Z"
   },
   {
    "duration": 865,
    "start_time": "2021-08-16T13:18:41.141Z"
   },
   {
    "duration": 68,
    "start_time": "2021-08-16T13:18:42.009Z"
   },
   {
    "duration": 23,
    "start_time": "2021-08-16T13:18:42.080Z"
   },
   {
    "duration": 673,
    "start_time": "2021-08-16T13:18:42.106Z"
   },
   {
    "duration": 18,
    "start_time": "2021-08-16T13:18:42.782Z"
   },
   {
    "duration": 6,
    "start_time": "2021-08-16T13:18:42.802Z"
   },
   {
    "duration": 1079,
    "start_time": "2021-08-16T13:18:42.810Z"
   },
   {
    "duration": 112,
    "start_time": "2021-08-16T13:18:43.892Z"
   },
   {
    "duration": 250,
    "start_time": "2021-08-16T13:18:44.007Z"
   },
   {
    "duration": 45,
    "start_time": "2021-08-16T13:18:44.261Z"
   },
   {
    "duration": 10,
    "start_time": "2021-08-16T13:18:44.309Z"
   },
   {
    "duration": 281,
    "start_time": "2021-08-16T13:18:44.322Z"
   },
   {
    "duration": 206,
    "start_time": "2021-08-16T13:18:44.606Z"
   },
   {
    "duration": 589,
    "start_time": "2021-08-16T13:18:44.816Z"
   },
   {
    "duration": 7392,
    "start_time": "2021-08-16T13:18:45.408Z"
   },
   {
    "duration": 205560,
    "start_time": "2021-08-16T13:18:52.803Z"
   },
   {
    "duration": 9,
    "start_time": "2021-08-16T13:22:18.366Z"
   },
   {
    "duration": 12937,
    "start_time": "2021-08-16T13:22:18.379Z"
   },
   {
    "duration": 18,
    "start_time": "2021-08-16T13:22:31.319Z"
   },
   {
    "duration": 6,
    "start_time": "2021-08-16T13:22:31.340Z"
   },
   {
    "duration": 543,
    "start_time": "2021-08-16T13:22:31.348Z"
   },
   {
    "duration": 3,
    "start_time": "2021-08-16T13:22:31.901Z"
   },
   {
    "duration": 141801,
    "start_time": "2021-08-16T13:22:31.907Z"
   },
   {
    "duration": 1471108,
    "start_time": "2021-08-16T13:24:53.711Z"
   },
   {
    "duration": 5,
    "start_time": "2021-08-16T13:49:24.822Z"
   },
   {
    "duration": 223726,
    "start_time": "2021-08-16T13:49:24.900Z"
   },
   {
    "duration": 588,
    "start_time": "2021-08-16T13:53:08.628Z"
   },
   {
    "duration": 6,
    "start_time": "2021-08-16T13:53:09.219Z"
   },
   {
    "duration": 42676,
    "start_time": "2021-08-16T13:53:09.228Z"
   },
   {
    "duration": 440130,
    "start_time": "2021-08-16T13:53:51.913Z"
   },
   {
    "duration": -79,
    "start_time": "2021-08-16T14:01:12.125Z"
   },
   {
    "duration": -81,
    "start_time": "2021-08-16T14:01:12.128Z"
   },
   {
    "duration": -83,
    "start_time": "2021-08-16T14:01:12.132Z"
   },
   {
    "duration": -84,
    "start_time": "2021-08-16T14:01:12.134Z"
   },
   {
    "duration": -85,
    "start_time": "2021-08-16T14:01:12.137Z"
   },
   {
    "duration": -87,
    "start_time": "2021-08-16T14:01:12.140Z"
   },
   {
    "duration": 5,
    "start_time": "2021-08-16T14:01:25.588Z"
   },
   {
    "duration": 1038933,
    "start_time": "2021-08-16T14:02:19.091Z"
   },
   {
    "duration": 5,
    "start_time": "2021-08-16T14:19:38.027Z"
   },
   {
    "duration": 160779,
    "start_time": "2021-08-16T14:19:38.035Z"
   },
   {
    "duration": 531,
    "start_time": "2021-08-16T14:22:18.817Z"
   },
   {
    "duration": 3,
    "start_time": "2021-08-16T14:22:19.351Z"
   },
   {
    "duration": 12,
    "start_time": "2021-08-16T14:22:19.356Z"
   },
   {
    "duration": 467,
    "start_time": "2021-08-16T14:22:19.370Z"
   }
  ],
  "kernelspec": {
   "display_name": "Python 3 (ipykernel)",
   "language": "python",
   "name": "python3"
  },
  "language_info": {
   "codemirror_mode": {
    "name": "ipython",
    "version": 3
   },
   "file_extension": ".py",
   "mimetype": "text/x-python",
   "name": "python",
   "nbconvert_exporter": "python",
   "pygments_lexer": "ipython3",
   "version": "3.9.12"
  },
  "toc": {
   "base_numbering": 1,
   "nav_menu": {},
   "number_sections": true,
   "sideBar": true,
   "skip_h1_title": true,
   "title_cell": "Table of Contents",
   "title_sidebar": "Contents",
   "toc_cell": false,
   "toc_position": {
    "height": "calc(100% - 180px)",
    "left": "10px",
    "top": "150px",
    "width": "318.391px"
   },
   "toc_section_display": true,
   "toc_window_display": true
  }
 },
 "nbformat": 4,
 "nbformat_minor": 2
}
