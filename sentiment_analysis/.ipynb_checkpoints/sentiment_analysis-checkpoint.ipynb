{
 "cells": [
  {
   "cell_type": "markdown",
   "metadata": {
    "toc": true
   },
   "source": [
    "<h1>Содержание<span class=\"tocSkip\"></span></h1><br>\n",
    "\n",
    "<div class=\"toc\"><ul class=\"toc-item\"><span><a href=\"#Подготовка\" data-toc-modified-id=\"Подготовка-1\"><span class=\"toc-item-num\">1&nbsp;&nbsp;</span>Подготовка</a></span><br><span><a href=\"#Обучение\" data-toc-modified-id=\"Обучение-2\"><span class=\"toc-item-num\">2&nbsp;&nbsp;</span>Обучение</a></span><ul class=\"toc-item\"><span><a href=\"#Logistic-Regression\" data-toc-modified-id=\"Logistic-Regression-2.1\"><span class=\"toc-item-num\">2.1&nbsp;&nbsp;</span>Logistic Regression</a></span><br><span><a href=\"#Random-Forest\" data-toc-modified-id=\"Random-Forest-2.2\"><span class=\"toc-item-num\">2.2&nbsp;&nbsp;</span>Random Forest</a></span><br><span><a href=\"#CatBoost\" data-toc-modified-id=\"CatBoost-2.3\"><span class=\"toc-item-num\">2.3&nbsp;&nbsp;</span>CatBoost</a></span></ul><span><a href=\"#Выводы\" data-toc-modified-id=\"Выводы-3\"><span class=\"toc-item-num\">3&nbsp;&nbsp;</span>Выводы</a></span>"
   ]
  },
  {
   "cell_type": "markdown",
   "metadata": {},
   "source": [
    "# Определение токсичности комментариев"
   ]
  },
  {
   "cell_type": "markdown",
   "metadata": {},
   "source": [
    "**ЦЕЛЬ:** Разработать модель классифицкации комментариев на позитивные и негативные (значением метрики качества *F1* не меньше 0.75).\n",
    "\n",
    "**Задачи:**\n",
    "1. Подготовить данные\n",
    "2. Анализ данных\n",
    "3. Обучить разные модели\n",
    "4. Сравнить модели"
   ]
  },
  {
   "cell_type": "markdown",
   "metadata": {},
   "source": [
    "## Подготовка"
   ]
  },
  {
   "cell_type": "code",
   "execution_count": 1,
   "metadata": {},
   "outputs": [],
   "source": [
    "import numpy as np\n",
    "import pandas as pd\n",
    "import re \n",
    "import string\n",
    "import nltk\n",
    "import time\n",
    "import matplotlib.pyplot as plt\n",
    "from nltk.corpus import stopwords as nltk_stopwords \n",
    "from nltk.stem import WordNetLemmatizer\n",
    "from sklearn.feature_extraction.text import TfidfVectorizer\n",
    "from sklearn.linear_model import LogisticRegression \n",
    "from sklearn.ensemble import RandomForestClassifier\n",
    "from sklearn.model_selection import train_test_split, GridSearchCV\n",
    "from sklearn.metrics import f1_score\n",
    "from catboost import CatBoostClassifier\n",
    "\n",
    "import warnings\n",
    "warnings.simplefilter(action='ignore')\n",
    "pd.set_option('max_colwidth',100)"
   ]
  },
  {
   "cell_type": "code",
   "execution_count": 2,
   "metadata": {},
   "outputs": [
    {
     "data": {
      "text/html": [
       "<div>\n",
       "<style scoped>\n",
       "    .dataframe tbody tr th:only-of-type {\n",
       "        vertical-align: middle;\n",
       "    }\n",
       "\n",
       "    .dataframe tbody tr th {\n",
       "        vertical-align: top;\n",
       "    }\n",
       "\n",
       "    .dataframe thead th {\n",
       "        text-align: right;\n",
       "    }\n",
       "</style>\n",
       "<table border=\"1\" class=\"dataframe\">\n",
       "  <thead>\n",
       "    <tr style=\"text-align: right;\">\n",
       "      <th></th>\n",
       "      <th>Unnamed: 0</th>\n",
       "      <th>text</th>\n",
       "      <th>toxic</th>\n",
       "    </tr>\n",
       "  </thead>\n",
       "  <tbody>\n",
       "    <tr>\n",
       "      <th>0</th>\n",
       "      <td>0</td>\n",
       "      <td>Explanation\\nWhy the edits made under my username Hardcore Metallica Fan were reverted? They wer...</td>\n",
       "      <td>0</td>\n",
       "    </tr>\n",
       "    <tr>\n",
       "      <th>1</th>\n",
       "      <td>1</td>\n",
       "      <td>D'aww! He matches this background colour I'm seemingly stuck with. Thanks.  (talk) 21:51, Januar...</td>\n",
       "      <td>0</td>\n",
       "    </tr>\n",
       "    <tr>\n",
       "      <th>2</th>\n",
       "      <td>2</td>\n",
       "      <td>Hey man, I'm really not trying to edit war. It's just that this guy is constantly removing relev...</td>\n",
       "      <td>0</td>\n",
       "    </tr>\n",
       "    <tr>\n",
       "      <th>3</th>\n",
       "      <td>3</td>\n",
       "      <td>\"\\nMore\\nI can't make any real suggestions on improvement - I wondered if the section statistics...</td>\n",
       "      <td>0</td>\n",
       "    </tr>\n",
       "    <tr>\n",
       "      <th>4</th>\n",
       "      <td>4</td>\n",
       "      <td>You, sir, are my hero. Any chance you remember what page that's on?</td>\n",
       "      <td>0</td>\n",
       "    </tr>\n",
       "  </tbody>\n",
       "</table>\n",
       "</div>"
      ],
      "text/plain": [
       "   Unnamed: 0  \\\n",
       "0           0   \n",
       "1           1   \n",
       "2           2   \n",
       "3           3   \n",
       "4           4   \n",
       "\n",
       "                                                                                                  text  \\\n",
       "0  Explanation\\nWhy the edits made under my username Hardcore Metallica Fan were reverted? They wer...   \n",
       "1  D'aww! He matches this background colour I'm seemingly stuck with. Thanks.  (talk) 21:51, Januar...   \n",
       "2  Hey man, I'm really not trying to edit war. It's just that this guy is constantly removing relev...   \n",
       "3  \"\\nMore\\nI can't make any real suggestions on improvement - I wondered if the section statistics...   \n",
       "4                                  You, sir, are my hero. Any chance you remember what page that's on?   \n",
       "\n",
       "   toxic  \n",
       "0      0  \n",
       "1      0  \n",
       "2      0  \n",
       "3      0  \n",
       "4      0  "
      ]
     },
     "execution_count": 2,
     "metadata": {},
     "output_type": "execute_result"
    }
   ],
   "source": [
    "data = pd.read_csv('toxic_comments.csv')\n",
    "data.head()"
   ]
  },
  {
   "cell_type": "markdown",
   "metadata": {},
   "source": [
    "Анализируемые данные представляют собой таблицу, где в одном столбце содержатся комментарии, а в другом - характеристика является ли комментарий негативным - наш целевой признак: 1 - негативный комментарий, 0 - нет."
   ]
  },
  {
   "cell_type": "code",
   "execution_count": 3,
   "metadata": {},
   "outputs": [
    {
     "name": "stdout",
     "output_type": "stream",
     "text": [
      "<class 'pandas.core.frame.DataFrame'>\n",
      "RangeIndex: 159292 entries, 0 to 159291\n",
      "Data columns (total 3 columns):\n",
      " #   Column      Non-Null Count   Dtype \n",
      "---  ------      --------------   ----- \n",
      " 0   Unnamed: 0  159292 non-null  int64 \n",
      " 1   text        159292 non-null  object\n",
      " 2   toxic       159292 non-null  int64 \n",
      "dtypes: int64(2), object(1)\n",
      "memory usage: 3.6+ MB\n"
     ]
    }
   ],
   "source": [
    "data.info()"
   ]
  },
  {
   "cell_type": "markdown",
   "metadata": {},
   "source": [
    "Посмотрим на сбалансированность целевого признака."
   ]
  },
  {
   "cell_type": "code",
   "execution_count": 4,
   "metadata": {},
   "outputs": [
    {
     "data": {
      "image/png": "[encoded data removed]",
      "text/plain": [
       "<Figure size 432x288 with 1 Axes>"
      ]
     },
     "metadata": {
      "needs_background": "light"
     },
     "output_type": "display_data"
    },
    {
     "data": {
      "text/plain": [
       "0    0.898388\n",
       "1    0.101612\n",
       "Name: toxic, dtype: float64"
      ]
     },
     "execution_count": 4,
     "metadata": {},
     "output_type": "execute_result"
    }
   ],
   "source": [
    "data['toxic'].hist()\n",
    "plt.show(), \\\n",
    "\n",
    "data['toxic'].value_counts(normalize=True)"
   ]
  },
  {
   "cell_type": "markdown",
   "metadata": {},
   "source": [
    "Как видно из графика целевой признак несбалансирован: количество всех негативных комментариев составляет 10% всех данных."
   ]
  },
  {
   "cell_type": "markdown",
   "metadata": {},
   "source": [
    "Теперь необходимо обработать комментарии, для этого:\n",
    "- приведём текст к нижнему регистру,\n",
    "- уберём все знаки препинания, числа и лишние символы,\n",
    "- лемматизируем текст."
   ]
  },
  {
   "cell_type": "code",
   "execution_count": 5,
   "metadata": {},
   "outputs": [
    {
     "data": {
      "text/html": [
       "<div>\n",
       "<style scoped>\n",
       "    .dataframe tbody tr th:only-of-type {\n",
       "        vertical-align: middle;\n",
       "    }\n",
       "\n",
       "    .dataframe tbody tr th {\n",
       "        vertical-align: top;\n",
       "    }\n",
       "\n",
       "    .dataframe thead th {\n",
       "        text-align: right;\n",
       "    }\n",
       "</style>\n",
       "<table border=\"1\" class=\"dataframe\">\n",
       "  <thead>\n",
       "    <tr style=\"text-align: right;\">\n",
       "      <th></th>\n",
       "      <th>Unnamed: 0</th>\n",
       "      <th>text</th>\n",
       "      <th>toxic</th>\n",
       "      <th>clean_text</th>\n",
       "    </tr>\n",
       "  </thead>\n",
       "  <tbody>\n",
       "    <tr>\n",
       "      <th>0</th>\n",
       "      <td>0</td>\n",
       "      <td>Explanation\\nWhy the edits made under my username Hardcore Metallica Fan were reverted? They wer...</td>\n",
       "      <td>0</td>\n",
       "      <td>explanation why the edits made under my username hardcore metallica fan were reverted they weren...</td>\n",
       "    </tr>\n",
       "    <tr>\n",
       "      <th>1</th>\n",
       "      <td>1</td>\n",
       "      <td>D'aww! He matches this background colour I'm seemingly stuck with. Thanks.  (talk) 21:51, Januar...</td>\n",
       "      <td>0</td>\n",
       "      <td>daww he matches this background colour im seemingly stuck with thanks talk january utc</td>\n",
       "    </tr>\n",
       "    <tr>\n",
       "      <th>2</th>\n",
       "      <td>2</td>\n",
       "      <td>Hey man, I'm really not trying to edit war. It's just that this guy is constantly removing relev...</td>\n",
       "      <td>0</td>\n",
       "      <td>hey man im really not trying to edit war its just that this guy is constantly removing relevant ...</td>\n",
       "    </tr>\n",
       "    <tr>\n",
       "      <th>3</th>\n",
       "      <td>3</td>\n",
       "      <td>\"\\nMore\\nI can't make any real suggestions on improvement - I wondered if the section statistics...</td>\n",
       "      <td>0</td>\n",
       "      <td>more i cant make any real suggestions on improvement i wondered if the section statistics should...</td>\n",
       "    </tr>\n",
       "    <tr>\n",
       "      <th>4</th>\n",
       "      <td>4</td>\n",
       "      <td>You, sir, are my hero. Any chance you remember what page that's on?</td>\n",
       "      <td>0</td>\n",
       "      <td>you sir are my hero any chance you remember what page thats on</td>\n",
       "    </tr>\n",
       "  </tbody>\n",
       "</table>\n",
       "</div>"
      ],
      "text/plain": [
       "   Unnamed: 0  \\\n",
       "0           0   \n",
       "1           1   \n",
       "2           2   \n",
       "3           3   \n",
       "4           4   \n",
       "\n",
       "                                                                                                  text  \\\n",
       "0  Explanation\\nWhy the edits made under my username Hardcore Metallica Fan were reverted? They wer...   \n",
       "1  D'aww! He matches this background colour I'm seemingly stuck with. Thanks.  (talk) 21:51, Januar...   \n",
       "2  Hey man, I'm really not trying to edit war. It's just that this guy is constantly removing relev...   \n",
       "3  \"\\nMore\\nI can't make any real suggestions on improvement - I wondered if the section statistics...   \n",
       "4                                  You, sir, are my hero. Any chance you remember what page that's on?   \n",
       "\n",
       "   toxic  \\\n",
       "0      0   \n",
       "1      0   \n",
       "2      0   \n",
       "3      0   \n",
       "4      0   \n",
       "\n",
       "                                                                                            clean_text  \n",
       "0  explanation why the edits made under my username hardcore metallica fan were reverted they weren...  \n",
       "1               daww he matches this background colour im seemingly stuck with thanks talk january utc  \n",
       "2  hey man im really not trying to edit war its just that this guy is constantly removing relevant ...  \n",
       "3  more i cant make any real suggestions on improvement i wondered if the section statistics should...  \n",
       "4                                       you sir are my hero any chance you remember what page thats on  "
      ]
     },
     "execution_count": 5,
     "metadata": {},
     "output_type": "execute_result"
    }
   ],
   "source": [
    "def clear_text(text):\n",
    "    text = text.lower()\n",
    "    text = re.sub('\\[.*?\\]', ' ', text)\n",
    "    text = re.sub('[%s]' % re.escape(string.punctuation), '', text)\n",
    "    text = re.sub('\\w*\\d\\w*', ' ', text).split()\n",
    "    clean_text = \" \".join(text) \n",
    "    return clean_text\n",
    "\n",
    "data['clean_text'] = data['text'].apply(clear_text)\n",
    "data.head()"
   ]
  },
  {
   "cell_type": "code",
   "execution_count": 6,
   "metadata": {},
   "outputs": [
    {
     "data": {
      "text/html": [
       "<div>\n",
       "<style scoped>\n",
       "    .dataframe tbody tr th:only-of-type {\n",
       "        vertical-align: middle;\n",
       "    }\n",
       "\n",
       "    .dataframe tbody tr th {\n",
       "        vertical-align: top;\n",
       "    }\n",
       "\n",
       "    .dataframe thead th {\n",
       "        text-align: right;\n",
       "    }\n",
       "</style>\n",
       "<table border=\"1\" class=\"dataframe\">\n",
       "  <thead>\n",
       "    <tr style=\"text-align: right;\">\n",
       "      <th></th>\n",
       "      <th>Unnamed: 0</th>\n",
       "      <th>text</th>\n",
       "      <th>toxic</th>\n",
       "      <th>clean_text</th>\n",
       "      <th>lemm_text</th>\n",
       "    </tr>\n",
       "  </thead>\n",
       "  <tbody>\n",
       "    <tr>\n",
       "      <th>0</th>\n",
       "      <td>0</td>\n",
       "      <td>Explanation\\nWhy the edits made under my username Hardcore Metallica Fan were reverted? They wer...</td>\n",
       "      <td>0</td>\n",
       "      <td>explanation why the edits made under my username hardcore metallica fan were reverted they weren...</td>\n",
       "      <td>explanation why the edits made under my username hardcore metallica fan were reverted they weren...</td>\n",
       "    </tr>\n",
       "    <tr>\n",
       "      <th>1</th>\n",
       "      <td>1</td>\n",
       "      <td>D'aww! He matches this background colour I'm seemingly stuck with. Thanks.  (talk) 21:51, Januar...</td>\n",
       "      <td>0</td>\n",
       "      <td>daww he matches this background colour im seemingly stuck with thanks talk january utc</td>\n",
       "      <td>daww he matches this background colour im seemingly stuck with thanks talk january utc</td>\n",
       "    </tr>\n",
       "    <tr>\n",
       "      <th>2</th>\n",
       "      <td>2</td>\n",
       "      <td>Hey man, I'm really not trying to edit war. It's just that this guy is constantly removing relev...</td>\n",
       "      <td>0</td>\n",
       "      <td>hey man im really not trying to edit war its just that this guy is constantly removing relevant ...</td>\n",
       "      <td>hey man im really not trying to edit war its just that this guy is constantly removing relevant ...</td>\n",
       "    </tr>\n",
       "    <tr>\n",
       "      <th>3</th>\n",
       "      <td>3</td>\n",
       "      <td>\"\\nMore\\nI can't make any real suggestions on improvement - I wondered if the section statistics...</td>\n",
       "      <td>0</td>\n",
       "      <td>more i cant make any real suggestions on improvement i wondered if the section statistics should...</td>\n",
       "      <td>more i cant make any real suggestions on improvement i wondered if the section statistics should...</td>\n",
       "    </tr>\n",
       "    <tr>\n",
       "      <th>4</th>\n",
       "      <td>4</td>\n",
       "      <td>You, sir, are my hero. Any chance you remember what page that's on?</td>\n",
       "      <td>0</td>\n",
       "      <td>you sir are my hero any chance you remember what page thats on</td>\n",
       "      <td>you sir are my hero any chance you remember what page thats on</td>\n",
       "    </tr>\n",
       "  </tbody>\n",
       "</table>\n",
       "</div>"
      ],
      "text/plain": [
       "   Unnamed: 0  \\\n",
       "0           0   \n",
       "1           1   \n",
       "2           2   \n",
       "3           3   \n",
       "4           4   \n",
       "\n",
       "                                                                                                  text  \\\n",
       "0  Explanation\\nWhy the edits made under my username Hardcore Metallica Fan were reverted? They wer...   \n",
       "1  D'aww! He matches this background colour I'm seemingly stuck with. Thanks.  (talk) 21:51, Januar...   \n",
       "2  Hey man, I'm really not trying to edit war. It's just that this guy is constantly removing relev...   \n",
       "3  \"\\nMore\\nI can't make any real suggestions on improvement - I wondered if the section statistics...   \n",
       "4                                  You, sir, are my hero. Any chance you remember what page that's on?   \n",
       "\n",
       "   toxic  \\\n",
       "0      0   \n",
       "1      0   \n",
       "2      0   \n",
       "3      0   \n",
       "4      0   \n",
       "\n",
       "                                                                                            clean_text  \\\n",
       "0  explanation why the edits made under my username hardcore metallica fan were reverted they weren...   \n",
       "1               daww he matches this background colour im seemingly stuck with thanks talk january utc   \n",
       "2  hey man im really not trying to edit war its just that this guy is constantly removing relevant ...   \n",
       "3  more i cant make any real suggestions on improvement i wondered if the section statistics should...   \n",
       "4                                       you sir are my hero any chance you remember what page thats on   \n",
       "\n",
       "                                                                                             lemm_text  \n",
       "0  explanation why the edits made under my username hardcore metallica fan were reverted they weren...  \n",
       "1               daww he matches this background colour im seemingly stuck with thanks talk january utc  \n",
       "2  hey man im really not trying to edit war its just that this guy is constantly removing relevant ...  \n",
       "3  more i cant make any real suggestions on improvement i wondered if the section statistics should...  \n",
       "4                                       you sir are my hero any chance you remember what page thats on  "
      ]
     },
     "execution_count": 6,
     "metadata": {},
     "output_type": "execute_result"
    }
   ],
   "source": [
    "# Создадим столбец с леммами слов в комментариях\n",
    "lemmatizer = WordNetLemmatizer()\n",
    "lemm_list = data['clean_text'].apply(lambda x: nltk.word_tokenize(x))\n",
    "\n",
    "data['lemm_text'] = lemm_list.str.join(\" \") \n",
    "data.head()"
   ]
  },
  {
   "cell_type": "markdown",
   "metadata": {},
   "source": [
    "В презультате обработки получили столбец с леммами слов. Далее применим метод TF-IDF для векторизации текстов."
   ]
  },
  {
   "cell_type": "code",
   "execution_count": 7,
   "metadata": {},
   "outputs": [],
   "source": [
    "stopwords = set(nltk_stopwords.words('english'))\n",
    "count_tf_idf = TfidfVectorizer(stop_words=stopwords) "
   ]
  },
  {
   "cell_type": "markdown",
   "metadata": {},
   "source": [
    "## Обучение"
   ]
  },
  {
   "cell_type": "markdown",
   "metadata": {},
   "source": [
    "Все комментарии обработаны и готовы для построения моделей. Для сравнения построим несколько моделей, в качестве метрики качества будем использовать F1-score."
   ]
  },
  {
   "cell_type": "code",
   "execution_count": 8,
   "metadata": {},
   "outputs": [
    {
     "data": {
      "text/plain": [
       "((127433,), (31859,), (127433,), (31859,))"
      ]
     },
     "execution_count": 8,
     "metadata": {},
     "output_type": "execute_result"
    }
   ],
   "source": [
    "X = data['lemm_text']\n",
    "y = data['toxic']\n",
    "x_train, x_test, y_train, y_test = train_test_split(X, y, \n",
    "                                                    train_size=0.8, \n",
    "                                                    random_state=42,stratify=y)\n",
    "x_train.shape, x_test.shape, y_train.shape, y_test.shape"
   ]
  },
  {
   "cell_type": "code",
   "execution_count": 9,
   "metadata": {
    "scrolled": true
   },
   "outputs": [
    {
     "data": {
      "text/plain": [
       "((127433, 185785), (31859, 185785))"
      ]
     },
     "execution_count": 9,
     "metadata": {},
     "output_type": "execute_result"
    }
   ],
   "source": [
    "X_train = count_tf_idf.fit_transform(x_train)\n",
    "X_test = count_tf_idf.transform(x_test)\n",
    "X_train.shape, X_test.shape"
   ]
  },
  {
   "cell_type": "markdown",
   "metadata": {},
   "source": [
    "### Logistic Regression"
   ]
  },
  {
   "cell_type": "code",
   "execution_count": 10,
   "metadata": {},
   "outputs": [
    {
     "data": {
      "text/plain": [
       "0.7500687379708552"
      ]
     },
     "execution_count": 10,
     "metadata": {},
     "output_type": "execute_result"
    }
   ],
   "source": [
    "logreg = LogisticRegression(class_weight='balanced')\n",
    "logreg.fit(X_train, y_train)\n",
    "predictions = logreg.predict(X_test)\n",
    "logreg_f1_score = f1_score(y_test, predictions)\n",
    "logreg_f1_score"
   ]
  },
  {
   "cell_type": "code",
   "execution_count": 11,
   "metadata": {
    "scrolled": true
   },
   "outputs": [
    {
     "name": "stdout",
     "output_type": "stream",
     "text": [
      "--- 347.2366826534271 seconds ---\n",
      "{'C': 2.8, 'max_iter': 100, 'penalty': 'l2'}\n"
     ]
    }
   ],
   "source": [
    "start_time = time.time()\n",
    "\n",
    "param_grid = {\n",
    "    'C': np.arange(1, 3, 0.2),\n",
    "    'penalty': ['l1', 'l2'],\n",
    "    'max_iter': [100, 1000]\n",
    "}\n",
    "\n",
    "lr = LogisticRegression(class_weight='balanced')\n",
    "grid = GridSearchCV(estimator = lr, param_grid = param_grid, cv = 3, verbose = False)\n",
    "grid.fit(X_train, y_train)\n",
    "\n",
    "print(\"--- %s seconds ---\" % (time.time() - start_time))\n",
    "print(grid.best_params_)"
   ]
  },
  {
   "cell_type": "code",
   "execution_count": 12,
   "metadata": {},
   "outputs": [
    {
     "data": {
      "text/plain": [
       "0.7612427294651725"
      ]
     },
     "execution_count": 12,
     "metadata": {},
     "output_type": "execute_result"
    }
   ],
   "source": [
    "logreg = LogisticRegression(class_weight='balanced', C=2.8, max_iter = 100, penalty = 'l2')\n",
    "logreg.fit(X_train, y_train)\n",
    "predictions = logreg.predict(X_test)\n",
    "logreg_f1_score = f1_score(y_test, predictions)\n",
    "logreg_f1_score"
   ]
  },
  {
   "cell_type": "markdown",
   "metadata": {},
   "source": [
    "### Random Forest"
   ]
  },
  {
   "cell_type": "code",
   "execution_count": 13,
   "metadata": {},
   "outputs": [
    {
     "name": "stdout",
     "output_type": "stream",
     "text": [
      "--- 735.4152946472168 seconds ---\n",
      "0.6937669376693767\n"
     ]
    }
   ],
   "source": [
    "start_time = time.time()\n",
    "\n",
    "forest = RandomForestClassifier()\n",
    "forest.fit(X_train, y_train)\n",
    "predictions = forest.predict(X_test)\n",
    "forest_f1_score = f1_score(y_test, predictions)\n",
    "\n",
    "print(\"--- %s seconds ---\" % (time.time() - start_time))\n",
    "print(forest_f1_score)"
   ]
  },
  {
   "cell_type": "code",
   "execution_count": 14,
   "metadata": {},
   "outputs": [
    {
     "name": "stdout",
     "output_type": "stream",
     "text": [
      "--- 914.7837023735046 seconds ---\n",
      "0.6284186716018919\n"
     ]
    }
   ],
   "source": [
    "start_time = time.time()\n",
    "\n",
    "forest = RandomForestClassifier(class_weight='balanced')\n",
    "forest.fit(X_train, y_train)\n",
    "predictions = forest.predict(X_test)\n",
    "forest_f1_score_2 = f1_score(y_test, predictions)\n",
    "\n",
    "print(\"--- %s seconds ---\" % (time.time() - start_time))\n",
    "print(forest_f1_score_2)"
   ]
  },
  {
   "cell_type": "code",
   "execution_count": 15,
   "metadata": {},
   "outputs": [
    {
     "name": "stdout",
     "output_type": "stream",
     "text": [
      "--- 3470.906079530716 seconds ---\n"
     ]
    }
   ],
   "source": [
    "start_time = time.time()\n",
    "\n",
    "param_grid = {\n",
    "    'n_estimators': [10,100,1000],\n",
    "    'max_depth': range(2,9)}\n",
    "\n",
    "rf = RandomForestClassifier(class_weight='balanced')\n",
    "grid = GridSearchCV(estimator = rf, param_grid = param_grid, cv = 3, verbose = False)\n",
    "grid.fit(X_train, y_train)\n",
    "\n",
    "print(\"--- %s seconds ---\" % (time.time() - start_time))\n",
    "best_params_forest = grid.best_params_"
   ]
  },
  {
   "cell_type": "code",
   "execution_count": 16,
   "metadata": {},
   "outputs": [
    {
     "data": {
      "text/plain": [
       "{'max_depth': 8, 'n_estimators': 1000}"
      ]
     },
     "execution_count": 16,
     "metadata": {},
     "output_type": "execute_result"
    }
   ],
   "source": [
    "best_params_forest"
   ]
  },
  {
   "cell_type": "code",
   "execution_count": 17,
   "metadata": {},
   "outputs": [
    {
     "name": "stdout",
     "output_type": "stream",
     "text": [
      "--- 30.54098892211914 seconds ---\n",
      "0.3479864740239779\n"
     ]
    }
   ],
   "source": [
    "start_time = time.time()\n",
    "\n",
    "forest = RandomForestClassifier(max_depth = 8, n_estimators = 1000, class_weight='balanced')\n",
    "forest.fit(X_train, y_train)\n",
    "predictions = forest.predict(X_test)\n",
    "forest_f1_score = f1_score(y_test, predictions)\n",
    "\n",
    "print(\"--- %s seconds ---\" % (time.time() - start_time))\n",
    "print(forest_f1_score)"
   ]
  },
  {
   "cell_type": "markdown",
   "metadata": {},
   "source": [
    "### CatBoost"
   ]
  },
  {
   "cell_type": "code",
   "execution_count": 18,
   "metadata": {},
   "outputs": [],
   "source": [
    "cw = [1,(data['toxic']==0).sum() / (data['toxic']==1).sum()]"
   ]
  },
  {
   "cell_type": "code",
   "execution_count": 19,
   "metadata": {
    "scrolled": true
   },
   "outputs": [
    {
     "name": "stdout",
     "output_type": "stream",
     "text": [
      "Learning rate set to 0.081637\n",
      "0:\tlearn: 0.6133040\ttotal: 1.34s\tremaining: 22m 17s\n",
      "200:\tlearn: 0.1575768\ttotal: 3m 35s\tremaining: 14m 15s\n",
      "400:\tlearn: 0.1354209\ttotal: 7m 24s\tremaining: 11m 4s\n",
      "600:\tlearn: 0.1232852\ttotal: 10m 59s\tremaining: 7m 17s\n",
      "800:\tlearn: 0.1154564\ttotal: 14m 47s\tremaining: 3m 40s\n",
      "999:\tlearn: 0.1087119\ttotal: 18m 27s\tremaining: 0us\n"
     ]
    },
    {
     "data": {
      "text/plain": [
       "0.7429090909090909"
      ]
     },
     "execution_count": 19,
     "metadata": {},
     "output_type": "execute_result"
    }
   ],
   "source": [
    "catboost = CatBoostClassifier(verbose=200)\n",
    "catboost.fit(X_train, y_train)\n",
    "predictions = catboost.predict(X_test)\n",
    "cat_f1_score = f1_score(y_test, predictions)\n",
    "cat_f1_score"
   ]
  },
  {
   "cell_type": "code",
   "execution_count": 20,
   "metadata": {},
   "outputs": [
    {
     "name": "stdout",
     "output_type": "stream",
     "text": [
      "Learning rate set to 0.081637\n",
      "0:\tlearn: 0.4859001\ttotal: 1.35s\tremaining: 22m 29s\n",
      "200:\tlearn: 0.8635989\ttotal: 4m 5s\tremaining: 16m 17s\n",
      "400:\tlearn: 0.8984293\ttotal: 7m 57s\tremaining: 11m 52s\n",
      "600:\tlearn: 0.9157934\ttotal: 12m 7s\tremaining: 8m 3s\n",
      "800:\tlearn: 0.9290140\ttotal: 16m 35s\tremaining: 4m 7s\n",
      "999:\tlearn: 0.9385232\ttotal: 20m 41s\tremaining: 0us\n"
     ]
    },
    {
     "data": {
      "text/plain": [
       "0.7569573283858997"
      ]
     },
     "execution_count": 20,
     "metadata": {},
     "output_type": "execute_result"
    }
   ],
   "source": [
    "catboost = CatBoostClassifier(verbose=200,\n",
    "                              early_stopping_rounds=200,\n",
    "                              eval_metric='F1',\n",
    "                              class_weights=cw)\n",
    "catboost.fit(X_train, y_train)\n",
    "prediction = catboost.predict(X_test)\n",
    "cat_score_test = f1_score(y_test, prediction)\n",
    "cat_score_test"
   ]
  },
  {
   "cell_type": "markdown",
   "metadata": {},
   "source": [
    "## Выводы"
   ]
  },
  {
   "cell_type": "markdown",
   "metadata": {},
   "source": [
    "В рамках работы над задачей по определению токсичных комментариев было построено три модели: Логистическая регрессия, случайный лес и кэтбуст. В качестве метрики для оценки эффективности классификации комментариев на обычные и токсичные используем F1-score. Среди трёх моделей наилучшего значения метрики удалось добиться для Логистической регрессии- значение метрики **F1 = 0.7612**"
   ]
  }
 ],
 "metadata": {
  "ExecuteTimeLog": [
   {
    "duration": 682,
    "start_time": "2021-09-01T20:54:56.440Z"
   },
   {
    "duration": 5,
    "start_time": "2021-09-01T20:55:51.996Z"
   },
   {
    "duration": 705,
    "start_time": "2021-09-01T20:55:54.370Z"
   },
   {
    "duration": 728,
    "start_time": "2021-09-01T20:56:03.211Z"
   },
   {
    "duration": 31,
    "start_time": "2021-09-01T20:56:18.427Z"
   },
   {
    "duration": 708,
    "start_time": "2021-09-01T21:01:02.082Z"
   },
   {
    "duration": 5,
    "start_time": "2021-09-01T21:01:10.931Z"
   },
   {
    "duration": 2584,
    "start_time": "2021-09-01T21:01:14.704Z"
   },
   {
    "duration": 541,
    "start_time": "2021-09-01T21:03:05.463Z"
   },
   {
    "duration": 522,
    "start_time": "2021-09-01T21:03:16.879Z"
   },
   {
    "duration": 52,
    "start_time": "2021-09-01T21:03:49.105Z"
   },
   {
    "duration": 382,
    "start_time": "2021-09-01T21:04:35.835Z"
   },
   {
    "duration": 274,
    "start_time": "2021-09-01T21:06:05.631Z"
   },
   {
    "duration": 5,
    "start_time": "2021-09-01T21:07:37.301Z"
   },
   {
    "duration": 74,
    "start_time": "2021-09-01T21:08:03.602Z"
   },
   {
    "duration": 40,
    "start_time": "2021-09-01T21:08:26.226Z"
   },
   {
    "duration": 4,
    "start_time": "2021-09-01T21:08:51.770Z"
   },
   {
    "duration": 8,
    "start_time": "2021-09-01T21:11:10.118Z"
   },
   {
    "duration": 7,
    "start_time": "2021-09-01T21:11:29.320Z"
   },
   {
    "duration": 966,
    "start_time": "2021-09-01T21:11:51.184Z"
   },
   {
    "duration": 44,
    "start_time": "2021-09-01T21:14:13.456Z"
   },
   {
    "duration": 7893,
    "start_time": "2021-09-01T21:21:30.491Z"
   },
   {
    "duration": 288,
    "start_time": "2021-09-01T21:23:15.460Z"
   },
   {
    "duration": 1580,
    "start_time": "2021-09-01T21:23:22.465Z"
   },
   {
    "duration": 765,
    "start_time": "2021-09-01T21:23:25.477Z"
   },
   {
    "duration": 33,
    "start_time": "2021-09-01T21:23:27.120Z"
   },
   {
    "duration": 2724,
    "start_time": "2021-09-01T21:23:35.496Z"
   },
   {
    "duration": 332,
    "start_time": "2021-09-01T21:23:48.933Z"
   },
   {
    "duration": 1498,
    "start_time": "2021-09-01T21:23:53.537Z"
   },
   {
    "duration": 733,
    "start_time": "2021-09-01T21:23:55.038Z"
   },
   {
    "duration": 35,
    "start_time": "2021-09-01T21:23:55.774Z"
   },
   {
    "duration": 30,
    "start_time": "2021-09-01T21:23:59.595Z"
   },
   {
    "duration": 2815,
    "start_time": "2021-09-01T21:24:02.868Z"
   },
   {
    "duration": 353,
    "start_time": "2021-09-01T21:24:44.517Z"
   },
   {
    "duration": 1431,
    "start_time": "2021-09-01T21:24:49.322Z"
   },
   {
    "duration": 761,
    "start_time": "2021-09-01T21:24:50.756Z"
   },
   {
    "duration": 31,
    "start_time": "2021-09-01T21:24:51.523Z"
   },
   {
    "duration": 2767,
    "start_time": "2021-09-01T21:24:51.556Z"
   },
   {
    "duration": 118,
    "start_time": "2021-09-01T21:24:54.325Z"
   },
   {
    "duration": 6,
    "start_time": "2021-09-01T21:26:58.085Z"
   },
   {
    "duration": 480,
    "start_time": "2021-09-01T21:28:21.329Z"
   },
   {
    "duration": 437,
    "start_time": "2021-09-01T21:29:36.896Z"
   },
   {
    "duration": 15,
    "start_time": "2021-09-01T21:30:54.342Z"
   },
   {
    "duration": 7,
    "start_time": "2021-09-01T21:31:00.287Z"
   },
   {
    "duration": 2299,
    "start_time": "2021-09-01T21:31:13.069Z"
   },
   {
    "duration": 3919,
    "start_time": "2021-09-01T21:34:17.603Z"
   },
   {
    "duration": 4020,
    "start_time": "2021-09-01T21:34:25.985Z"
   },
   {
    "duration": 4410,
    "start_time": "2021-09-01T21:36:00.825Z"
   },
   {
    "duration": 1393,
    "start_time": "2021-09-01T21:37:01.127Z"
   },
   {
    "duration": 5368,
    "start_time": "2021-09-01T21:37:33.836Z"
   },
   {
    "duration": 5328,
    "start_time": "2021-09-01T21:37:47.721Z"
   },
   {
    "duration": 266,
    "start_time": "2021-09-01T21:44:48.892Z"
   },
   {
    "duration": 1615,
    "start_time": "2021-09-01T21:46:09.736Z"
   },
   {
    "duration": 759,
    "start_time": "2021-09-01T21:46:11.354Z"
   },
   {
    "duration": 31,
    "start_time": "2021-09-01T21:46:12.116Z"
   },
   {
    "duration": 375,
    "start_time": "2021-09-01T21:46:12.864Z"
   },
   {
    "duration": 5175,
    "start_time": "2021-09-01T21:46:15.953Z"
   },
   {
    "duration": 177,
    "start_time": "2021-09-01T21:46:35.860Z"
   },
   {
    "duration": 2953,
    "start_time": "2021-09-01T21:46:40.369Z"
   },
   {
    "duration": 312,
    "start_time": "2021-09-01T21:47:29.711Z"
   },
   {
    "duration": 1503,
    "start_time": "2021-09-01T21:47:36.818Z"
   },
   {
    "duration": 720,
    "start_time": "2021-09-01T21:47:38.324Z"
   },
   {
    "duration": 42,
    "start_time": "2021-09-01T21:47:39.047Z"
   },
   {
    "duration": 408,
    "start_time": "2021-09-01T21:47:39.092Z"
   },
   {
    "duration": 5697,
    "start_time": "2021-09-01T21:47:39.962Z"
   },
   {
    "duration": 190,
    "start_time": "2021-09-01T21:47:45.662Z"
   },
   {
    "duration": 3059,
    "start_time": "2021-09-01T21:47:46.775Z"
   },
   {
    "duration": 264,
    "start_time": "2021-09-01T21:48:18.521Z"
   },
   {
    "duration": 271,
    "start_time": "2021-09-01T21:48:30.614Z"
   },
   {
    "duration": 325,
    "start_time": "2021-09-01T21:50:13.740Z"
   },
   {
    "duration": 1559,
    "start_time": "2021-09-01T21:50:27.156Z"
   },
   {
    "duration": 735,
    "start_time": "2021-09-01T21:50:28.718Z"
   },
   {
    "duration": 37,
    "start_time": "2021-09-01T21:50:29.457Z"
   },
   {
    "duration": 383,
    "start_time": "2021-09-01T21:50:29.497Z"
   },
   {
    "duration": 5161,
    "start_time": "2021-09-01T21:50:29.883Z"
   },
   {
    "duration": 208,
    "start_time": "2021-09-01T21:50:35.046Z"
   },
   {
    "duration": 1525,
    "start_time": "2021-09-01T21:51:04.892Z"
   },
   {
    "duration": 727,
    "start_time": "2021-09-01T21:51:06.420Z"
   },
   {
    "duration": 37,
    "start_time": "2021-09-01T21:51:07.151Z"
   },
   {
    "duration": 385,
    "start_time": "2021-09-01T21:51:07.190Z"
   },
   {
    "duration": 5109,
    "start_time": "2021-09-01T21:51:07.581Z"
   },
   {
    "duration": 184,
    "start_time": "2021-09-01T21:51:12.693Z"
   },
   {
    "duration": 2741,
    "start_time": "2021-09-01T21:51:12.880Z"
   },
   {
    "duration": 1629,
    "start_time": "2021-09-01T22:02:40.312Z"
   },
   {
    "duration": 763,
    "start_time": "2021-09-01T22:02:42.835Z"
   },
   {
    "duration": 33,
    "start_time": "2021-09-01T22:02:44.255Z"
   },
   {
    "duration": 393,
    "start_time": "2021-09-01T22:02:47.537Z"
   },
   {
    "duration": 5285,
    "start_time": "2021-09-01T22:02:48.643Z"
   },
   {
    "duration": 2585,
    "start_time": "2021-09-01T22:02:58.981Z"
   },
   {
    "duration": 457,
    "start_time": "2021-09-01T22:03:32.933Z"
   },
   {
    "duration": 1218,
    "start_time": "2021-09-01T22:03:51.817Z"
   },
   {
    "duration": 82,
    "start_time": "2021-09-01T22:04:24.016Z"
   },
   {
    "duration": 518,
    "start_time": "2021-09-01T22:04:31.250Z"
   },
   {
    "duration": 1441,
    "start_time": "2021-09-01T22:04:59.429Z"
   },
   {
    "duration": 740,
    "start_time": "2021-09-01T22:05:03.157Z"
   },
   {
    "duration": 33,
    "start_time": "2021-09-01T22:05:04.056Z"
   },
   {
    "duration": 371,
    "start_time": "2021-09-01T22:05:04.964Z"
   },
   {
    "duration": 4,
    "start_time": "2021-09-01T22:05:09.756Z"
   },
   {
    "duration": 640,
    "start_time": "2021-09-01T22:05:13.098Z"
   },
   {
    "duration": 455,
    "start_time": "2021-09-01T22:06:44.582Z"
   },
   {
    "duration": 566,
    "start_time": "2021-09-01T22:06:56.264Z"
   },
   {
    "duration": 467,
    "start_time": "2021-09-01T22:07:18.252Z"
   },
   {
    "duration": 444,
    "start_time": "2021-09-01T22:07:24.930Z"
   },
   {
    "duration": 272,
    "start_time": "2021-09-01T22:08:31.226Z"
   },
   {
    "duration": 1539,
    "start_time": "2021-09-01T22:08:35.767Z"
   },
   {
    "duration": 721,
    "start_time": "2021-09-01T22:08:37.308Z"
   },
   {
    "duration": 34,
    "start_time": "2021-09-01T22:08:40.027Z"
   },
   {
    "duration": 487,
    "start_time": "2021-09-01T22:08:42.253Z"
   },
   {
    "duration": 45,
    "start_time": "2021-09-01T22:08:45.978Z"
   },
   {
    "duration": 6,
    "start_time": "2021-09-01T22:09:21.320Z"
   },
   {
    "duration": 6,
    "start_time": "2021-09-01T22:09:37.629Z"
   },
   {
    "duration": 33,
    "start_time": "2021-09-01T22:09:46.126Z"
   },
   {
    "duration": 6,
    "start_time": "2021-09-01T22:10:01.568Z"
   },
   {
    "duration": 5,
    "start_time": "2021-09-01T22:10:04.495Z"
   },
   {
    "duration": 505,
    "start_time": "2021-09-01T22:10:29.511Z"
   },
   {
    "duration": 491,
    "start_time": "2021-09-01T22:11:29.755Z"
   },
   {
    "duration": 406,
    "start_time": "2021-09-01T22:12:12.566Z"
   },
   {
    "duration": 257,
    "start_time": "2021-09-01T22:12:42.672Z"
   },
   {
    "duration": 381,
    "start_time": "2021-09-01T22:12:49.548Z"
   },
   {
    "duration": 4,
    "start_time": "2021-09-01T22:12:55.191Z"
   },
   {
    "duration": 433,
    "start_time": "2021-09-01T22:12:56.947Z"
   },
   {
    "duration": 604,
    "start_time": "2021-09-01T22:13:28.393Z"
   },
   {
    "duration": 446,
    "start_time": "2021-09-01T22:13:44.378Z"
   },
   {
    "duration": 473,
    "start_time": "2021-09-01T22:13:56.904Z"
   },
   {
    "duration": 72,
    "start_time": "2021-09-01T22:15:00.046Z"
   },
   {
    "duration": 5,
    "start_time": "2021-09-01T22:36:27.460Z"
   },
   {
    "duration": 289,
    "start_time": "2021-09-01T22:38:15.053Z"
   },
   {
    "duration": 1121,
    "start_time": "2021-09-02T21:34:46.528Z"
   },
   {
    "duration": 157,
    "start_time": "2021-09-02T21:35:05.567Z"
   },
   {
    "duration": 271,
    "start_time": "2021-09-02T21:35:57.694Z"
   },
   {
    "duration": 617,
    "start_time": "2021-09-02T21:36:02.828Z"
   },
   {
    "duration": 28,
    "start_time": "2021-09-02T21:36:03.670Z"
   },
   {
    "duration": 252,
    "start_time": "2021-09-02T21:36:04.654Z"
   },
   {
    "duration": 11,
    "start_time": "2021-09-02T21:36:07.120Z"
   },
   {
    "duration": 1359,
    "start_time": "2021-09-02T21:37:47.367Z"
   },
   {
    "duration": 12,
    "start_time": "2021-09-02T21:37:55.289Z"
   },
   {
    "duration": 5,
    "start_time": "2021-09-02T21:38:21.760Z"
   },
   {
    "duration": 308,
    "start_time": "2021-09-02T21:38:50.909Z"
   },
   {
    "duration": 54,
    "start_time": "2021-09-02T21:42:57.468Z"
   },
   {
    "duration": 65,
    "start_time": "2021-09-02T21:43:04.074Z"
   },
   {
    "duration": 342,
    "start_time": "2021-09-02T21:43:18.183Z"
   },
   {
    "duration": 295,
    "start_time": "2021-09-02T21:44:21.706Z"
   },
   {
    "duration": 299,
    "start_time": "2021-09-02T21:45:16.194Z"
   },
   {
    "duration": 299,
    "start_time": "2021-09-02T21:45:31.369Z"
   },
   {
    "duration": 312,
    "start_time": "2021-09-02T21:46:09.468Z"
   },
   {
    "duration": 1636,
    "start_time": "2021-09-02T21:46:27.786Z"
   },
   {
    "duration": 11,
    "start_time": "2021-09-02T21:46:35.257Z"
   },
   {
    "duration": 3,
    "start_time": "2021-09-02T21:47:03.489Z"
   },
   {
    "duration": 4,
    "start_time": "2021-09-02T21:47:05.346Z"
   },
   {
    "duration": 5,
    "start_time": "2021-09-02T21:47:25.912Z"
   },
   {
    "duration": 824,
    "start_time": "2021-09-02T21:48:15.816Z"
   },
   {
    "duration": 900,
    "start_time": "2021-09-02T21:49:51.996Z"
   },
   {
    "duration": 1116,
    "start_time": "2021-09-02T21:51:15.719Z"
   },
   {
    "duration": 12,
    "start_time": "2021-09-02T21:51:24.181Z"
   },
   {
    "duration": 775,
    "start_time": "2021-09-02T21:51:37.714Z"
   },
   {
    "duration": 787,
    "start_time": "2021-09-02T21:51:42.592Z"
   },
   {
    "duration": 794,
    "start_time": "2021-09-02T21:51:48.708Z"
   },
   {
    "duration": 849,
    "start_time": "2021-09-02T21:51:53.673Z"
   },
   {
    "duration": 786,
    "start_time": "2021-09-02T21:51:57.188Z"
   },
   {
    "duration": 1084,
    "start_time": "2021-09-02T21:52:05.046Z"
   },
   {
    "duration": 11,
    "start_time": "2021-09-02T21:52:07.184Z"
   },
   {
    "duration": 7,
    "start_time": "2021-09-02T21:52:23.775Z"
   },
   {
    "duration": 1080,
    "start_time": "2021-09-02T21:52:52.390Z"
   },
   {
    "duration": 13,
    "start_time": "2021-09-02T21:52:54.202Z"
   },
   {
    "duration": 1165,
    "start_time": "2021-09-02T21:53:09.799Z"
   },
   {
    "duration": 633,
    "start_time": "2021-09-02T21:53:11.552Z"
   },
   {
    "duration": 28,
    "start_time": "2021-09-02T21:53:12.686Z"
   },
   {
    "duration": 247,
    "start_time": "2021-09-02T21:53:13.348Z"
   },
   {
    "duration": 12,
    "start_time": "2021-09-02T21:53:17.628Z"
   },
   {
    "duration": 1129,
    "start_time": "2021-09-02T21:53:27.201Z"
   },
   {
    "duration": 13,
    "start_time": "2021-09-02T21:53:28.964Z"
   },
   {
    "duration": 4210,
    "start_time": "2021-09-02T21:53:42.461Z"
   },
   {
    "duration": 171,
    "start_time": "2021-09-02T21:54:00.549Z"
   },
   {
    "duration": 5,
    "start_time": "2021-09-02T21:54:18.307Z"
   },
   {
    "duration": 4672,
    "start_time": "2021-09-02T21:54:23.520Z"
   },
   {
    "duration": 1259,
    "start_time": "2021-09-02T21:54:43.197Z"
   },
   {
    "duration": 12,
    "start_time": "2021-09-02T21:54:52.787Z"
   },
   {
    "duration": 10,
    "start_time": "2021-09-02T21:56:03.923Z"
   },
   {
    "duration": 5,
    "start_time": "2021-09-02T21:56:11.194Z"
   },
   {
    "duration": 308,
    "start_time": "2021-09-02T21:56:45.121Z"
   },
   {
    "duration": 3,
    "start_time": "2021-09-02T21:57:10.761Z"
   },
   {
    "duration": 4,
    "start_time": "2021-09-02T21:57:19.968Z"
   },
   {
    "duration": 4,
    "start_time": "2021-09-02T21:57:42.550Z"
   },
   {
    "duration": 184,
    "start_time": "2021-09-02T21:58:13.559Z"
   },
   {
    "duration": 237,
    "start_time": "2021-09-02T21:59:56.406Z"
   },
   {
    "duration": 245,
    "start_time": "2021-09-02T22:00:03.521Z"
   },
   {
    "duration": 536,
    "start_time": "2021-09-02T22:00:31.308Z"
   },
   {
    "duration": 516,
    "start_time": "2021-09-02T22:03:06.361Z"
   },
   {
    "duration": 513,
    "start_time": "2021-09-02T22:03:12.309Z"
   },
   {
    "duration": 567,
    "start_time": "2021-09-02T22:03:17.725Z"
   },
   {
    "duration": 673,
    "start_time": "2021-09-02T22:05:12.328Z"
   },
   {
    "duration": 615,
    "start_time": "2021-09-02T22:05:19.860Z"
   },
   {
    "duration": 532,
    "start_time": "2021-09-02T22:05:22.868Z"
   },
   {
    "duration": 503,
    "start_time": "2021-09-02T22:05:28.089Z"
   },
   {
    "duration": 528,
    "start_time": "2021-09-02T22:05:41.926Z"
   },
   {
    "duration": 561,
    "start_time": "2021-09-02T22:05:47.202Z"
   },
   {
    "duration": 340,
    "start_time": "2021-09-02T22:05:53.612Z"
   },
   {
    "duration": 4,
    "start_time": "2021-09-02T22:05:59.952Z"
   },
   {
    "duration": 546,
    "start_time": "2021-09-02T22:06:14.324Z"
   },
   {
    "duration": 614,
    "start_time": "2021-09-02T22:06:16.999Z"
   },
   {
    "duration": 4,
    "start_time": "2021-09-02T22:06:35.595Z"
   },
   {
    "duration": 3,
    "start_time": "2021-09-02T22:06:40.048Z"
   },
   {
    "duration": 7,
    "start_time": "2021-09-02T22:06:44.416Z"
   },
   {
    "duration": 197,
    "start_time": "2021-09-02T22:07:08.132Z"
   },
   {
    "duration": 186,
    "start_time": "2021-09-02T22:07:13.916Z"
   },
   {
    "duration": 528,
    "start_time": "2021-09-02T22:08:09.774Z"
   },
   {
    "duration": 684,
    "start_time": "2021-09-02T22:08:12.962Z"
   },
   {
    "duration": 188,
    "start_time": "2021-09-02T22:08:33.912Z"
   },
   {
    "duration": 4,
    "start_time": "2021-09-02T22:10:07.225Z"
   },
   {
    "duration": 1115,
    "start_time": "2021-09-02T22:11:30.077Z"
   },
   {
    "duration": 843,
    "start_time": "2021-09-02T22:11:38.250Z"
   },
   {
    "duration": 586,
    "start_time": "2021-09-02T22:12:03.406Z"
   },
   {
    "duration": 3,
    "start_time": "2021-09-02T22:13:14.235Z"
   },
   {
    "duration": 3,
    "start_time": "2021-09-02T22:13:28.165Z"
   },
   {
    "duration": 345,
    "start_time": "2021-09-02T22:13:33.175Z"
   },
   {
    "duration": 348,
    "start_time": "2021-09-02T22:15:24.939Z"
   },
   {
    "duration": 172,
    "start_time": "2021-09-02T22:15:35.560Z"
   },
   {
    "duration": 335,
    "start_time": "2021-09-02T22:15:39.351Z"
   },
   {
    "duration": 338,
    "start_time": "2021-09-02T22:15:51.667Z"
   },
   {
    "duration": 288,
    "start_time": "2021-09-02T22:16:05.914Z"
   },
   {
    "duration": 170,
    "start_time": "2021-09-02T22:16:12.747Z"
   },
   {
    "duration": 4,
    "start_time": "2021-09-02T22:16:22.035Z"
   },
   {
    "duration": 15,
    "start_time": "2021-09-02T22:18:15.070Z"
   },
   {
    "duration": 6,
    "start_time": "2021-09-02T22:18:26.366Z"
   },
   {
    "duration": 65,
    "start_time": "2021-09-02T22:19:40.472Z"
   },
   {
    "duration": 4,
    "start_time": "2021-09-02T22:19:58.414Z"
   },
   {
    "duration": 970,
    "start_time": "2021-09-02T22:20:15.117Z"
   },
   {
    "duration": 1155,
    "start_time": "2021-09-02T22:23:11.201Z"
   },
   {
    "duration": 620,
    "start_time": "2021-09-02T22:23:13.491Z"
   },
   {
    "duration": 28,
    "start_time": "2021-09-02T22:23:14.457Z"
   },
   {
    "duration": 249,
    "start_time": "2021-09-02T22:23:15.032Z"
   },
   {
    "duration": 11,
    "start_time": "2021-09-02T22:23:18.850Z"
   },
   {
    "duration": 1120,
    "start_time": "2021-09-02T22:23:25.231Z"
   },
   {
    "duration": 2,
    "start_time": "2021-09-02T22:23:28.610Z"
   },
   {
    "duration": 5,
    "start_time": "2021-09-02T22:23:29.552Z"
   },
   {
    "duration": 6,
    "start_time": "2021-09-02T22:23:33.362Z"
   },
   {
    "duration": 445,
    "start_time": "2021-09-02T22:23:34.569Z"
   },
   {
    "duration": 66,
    "start_time": "2021-09-02T22:23:57.808Z"
   },
   {
    "duration": 2212,
    "start_time": "2021-09-02T22:24:00.509Z"
   },
   {
    "duration": 739,
    "start_time": "2021-09-02T22:24:29.483Z"
   },
   {
    "duration": 5,
    "start_time": "2021-09-02T22:24:33.642Z"
   },
   {
    "duration": 6,
    "start_time": "2021-09-02T22:26:13.786Z"
   },
   {
    "duration": 12,
    "start_time": "2021-09-02T22:26:41.821Z"
   },
   {
    "duration": 1076,
    "start_time": "2021-09-02T22:26:57.289Z"
   },
   {
    "duration": 12,
    "start_time": "2021-09-02T22:27:03.879Z"
   },
   {
    "duration": 4255,
    "start_time": "2021-09-02T22:27:51.080Z"
   },
   {
    "duration": 1002,
    "start_time": "2021-09-02T22:28:45.094Z"
   },
   {
    "duration": 63,
    "start_time": "2021-09-02T22:30:55.174Z"
   },
   {
    "duration": 429,
    "start_time": "2021-09-02T22:31:02.420Z"
   },
   {
    "duration": 5,
    "start_time": "2021-09-02T22:32:21.063Z"
   },
   {
    "duration": 16,
    "start_time": "2021-09-02T22:32:57.253Z"
   },
   {
    "duration": 13,
    "start_time": "2021-09-02T22:34:05.390Z"
   },
   {
    "duration": 352,
    "start_time": "2021-09-02T22:34:22.016Z"
   },
   {
    "duration": 4,
    "start_time": "2021-09-02T22:34:39.117Z"
   },
   {
    "duration": 348,
    "start_time": "2021-09-02T22:34:43.936Z"
   },
   {
    "duration": 181,
    "start_time": "2021-09-02T22:36:23.715Z"
   },
   {
    "duration": 59,
    "start_time": "2021-09-02T22:37:41.690Z"
   },
   {
    "duration": 182,
    "start_time": "2021-09-02T22:37:55.763Z"
   },
   {
    "duration": 350,
    "start_time": "2021-09-02T22:38:09.190Z"
   },
   {
    "duration": 64,
    "start_time": "2021-09-02T22:38:15.996Z"
   },
   {
    "duration": 62,
    "start_time": "2021-09-02T22:38:41.634Z"
   },
   {
    "duration": 11,
    "start_time": "2021-09-02T22:40:05.181Z"
   },
   {
    "duration": 11,
    "start_time": "2021-09-02T22:40:44.478Z"
   },
   {
    "duration": 13,
    "start_time": "2021-09-02T22:40:47.572Z"
   },
   {
    "duration": 1117,
    "start_time": "2021-09-02T22:41:50.967Z"
   },
   {
    "duration": 615,
    "start_time": "2021-09-02T22:41:52.593Z"
   },
   {
    "duration": 27,
    "start_time": "2021-09-02T22:41:53.286Z"
   },
   {
    "duration": 244,
    "start_time": "2021-09-02T22:41:56.820Z"
   },
   {
    "duration": 12,
    "start_time": "2021-09-02T22:41:57.666Z"
   },
   {
    "duration": 1100,
    "start_time": "2021-09-02T22:42:17.000Z"
   },
   {
    "duration": 302,
    "start_time": "2021-09-02T22:45:13.015Z"
   },
   {
    "duration": 8,
    "start_time": "2021-09-02T22:45:23.435Z"
   },
   {
    "duration": 277,
    "start_time": "2021-09-02T22:45:52.628Z"
   },
   {
    "duration": 5,
    "start_time": "2021-09-02T22:46:21.407Z"
   },
   {
    "duration": 5,
    "start_time": "2021-09-02T22:46:30.802Z"
   },
   {
    "duration": 236,
    "start_time": "2021-09-02T22:46:58.244Z"
   },
   {
    "duration": 7,
    "start_time": "2021-09-02T22:47:01.814Z"
   },
   {
    "duration": 175,
    "start_time": "2021-09-02T22:47:38.850Z"
   },
   {
    "duration": 11,
    "start_time": "2021-09-02T22:48:42.633Z"
   },
   {
    "duration": 19,
    "start_time": "2021-09-02T22:48:49.079Z"
   },
   {
    "duration": 208,
    "start_time": "2021-09-02T22:49:17.739Z"
   },
   {
    "duration": 17,
    "start_time": "2021-09-02T22:49:28.869Z"
   },
   {
    "duration": 29,
    "start_time": "2021-09-02T22:49:36.245Z"
   },
   {
    "duration": 16,
    "start_time": "2021-09-02T22:49:50.912Z"
   },
   {
    "duration": 57,
    "start_time": "2021-09-02T22:51:32.876Z"
   },
   {
    "duration": 53,
    "start_time": "2021-09-02T22:52:35.929Z"
   },
   {
    "duration": 15,
    "start_time": "2021-09-02T22:53:04.885Z"
   },
   {
    "duration": 16,
    "start_time": "2021-09-02T22:54:00.741Z"
   },
   {
    "duration": 7,
    "start_time": "2021-09-02T22:54:08.583Z"
   },
   {
    "duration": 4,
    "start_time": "2021-09-02T22:54:23.795Z"
   },
   {
    "duration": 426,
    "start_time": "2021-09-02T22:54:55.212Z"
   },
   {
    "duration": 299,
    "start_time": "2021-09-02T22:55:05.031Z"
   },
   {
    "duration": 4,
    "start_time": "2021-09-02T22:57:34.517Z"
   },
   {
    "duration": 7,
    "start_time": "2021-09-02T22:57:40.863Z"
   },
   {
    "duration": 15,
    "start_time": "2021-09-02T22:57:43.650Z"
   },
   {
    "duration": 64,
    "start_time": "2021-09-02T22:58:09.627Z"
   },
   {
    "duration": 97,
    "start_time": "2021-09-02T22:58:43.499Z"
   },
   {
    "duration": 5,
    "start_time": "2021-09-02T22:59:45.740Z"
   },
   {
    "duration": 7,
    "start_time": "2021-09-02T22:59:50.074Z"
   },
   {
    "duration": 183,
    "start_time": "2021-09-02T22:59:56.320Z"
   },
   {
    "duration": 174,
    "start_time": "2021-09-02T23:00:57.568Z"
   },
   {
    "duration": 67,
    "start_time": "2021-09-02T23:01:09.047Z"
   },
   {
    "duration": 182,
    "start_time": "2021-09-02T23:01:25.744Z"
   },
   {
    "duration": 6,
    "start_time": "2021-09-02T23:01:52.418Z"
   },
   {
    "duration": 193,
    "start_time": "2021-09-02T23:02:11.418Z"
   },
   {
    "duration": 172,
    "start_time": "2021-09-02T23:02:26.770Z"
   },
   {
    "duration": 7,
    "start_time": "2021-09-02T23:02:46.534Z"
   },
   {
    "duration": 7,
    "start_time": "2021-09-02T23:02:57.486Z"
   },
   {
    "duration": 7,
    "start_time": "2021-09-02T23:03:00.040Z"
   },
   {
    "duration": 7,
    "start_time": "2021-09-02T23:03:02.435Z"
   },
   {
    "duration": 4,
    "start_time": "2021-09-02T23:03:57.213Z"
   },
   {
    "duration": 7,
    "start_time": "2021-09-02T23:04:04.537Z"
   },
   {
    "duration": 5,
    "start_time": "2021-09-02T23:04:19.634Z"
   },
   {
    "duration": 4,
    "start_time": "2021-09-02T23:04:25.608Z"
   },
   {
    "duration": 3,
    "start_time": "2021-09-02T23:04:56.174Z"
   },
   {
    "duration": 4,
    "start_time": "2021-09-02T23:04:59.746Z"
   },
   {
    "duration": 4,
    "start_time": "2021-09-02T23:05:04.512Z"
   },
   {
    "duration": 174,
    "start_time": "2021-09-02T23:05:27.490Z"
   },
   {
    "duration": 173,
    "start_time": "2021-09-02T23:05:45.818Z"
   },
   {
    "duration": 213,
    "start_time": "2021-09-02T23:05:51.183Z"
   },
   {
    "duration": 219,
    "start_time": "2021-09-02T23:05:57.462Z"
   },
   {
    "duration": 191,
    "start_time": "2021-09-02T23:06:00.020Z"
   },
   {
    "duration": 4,
    "start_time": "2021-09-02T23:06:05.421Z"
   },
   {
    "duration": 4,
    "start_time": "2021-09-02T23:06:07.866Z"
   },
   {
    "duration": 197,
    "start_time": "2021-09-02T23:07:38.109Z"
   },
   {
    "duration": 4,
    "start_time": "2021-09-02T23:07:53.133Z"
   },
   {
    "duration": 187,
    "start_time": "2021-09-02T23:08:05.654Z"
   },
   {
    "duration": 4,
    "start_time": "2021-09-02T23:09:30.499Z"
   },
   {
    "duration": 195,
    "start_time": "2021-09-02T23:09:56.060Z"
   },
   {
    "duration": 179,
    "start_time": "2021-09-02T23:10:33.879Z"
   },
   {
    "duration": 4,
    "start_time": "2021-09-02T23:10:40.789Z"
   },
   {
    "duration": 3,
    "start_time": "2021-09-02T23:10:45.142Z"
   },
   {
    "duration": 235,
    "start_time": "2021-09-02T23:11:18.263Z"
   },
   {
    "duration": 4,
    "start_time": "2021-09-02T23:11:23.412Z"
   },
   {
    "duration": 180,
    "start_time": "2021-09-02T23:13:53.907Z"
   },
   {
    "duration": 4,
    "start_time": "2021-09-02T23:14:00.867Z"
   },
   {
    "duration": 186,
    "start_time": "2021-09-02T23:14:06.937Z"
   },
   {
    "duration": 4,
    "start_time": "2021-09-02T23:14:14.615Z"
   },
   {
    "duration": 4,
    "start_time": "2021-09-02T23:14:17.742Z"
   },
   {
    "duration": 4,
    "start_time": "2021-09-02T23:14:27.466Z"
   },
   {
    "duration": 182,
    "start_time": "2021-09-02T23:15:00.388Z"
   },
   {
    "duration": 185,
    "start_time": "2021-09-02T23:15:09.971Z"
   },
   {
    "duration": 5,
    "start_time": "2021-09-02T23:15:29.678Z"
   },
   {
    "duration": 5,
    "start_time": "2021-09-02T23:15:34.872Z"
   },
   {
    "duration": 2935,
    "start_time": "2021-09-02T23:15:42.401Z"
   },
   {
    "duration": 4,
    "start_time": "2021-09-02T23:15:47.354Z"
   },
   {
    "duration": 4,
    "start_time": "2021-09-02T23:18:03.373Z"
   },
   {
    "duration": 5,
    "start_time": "2021-09-02T23:18:18.135Z"
   },
   {
    "duration": 181,
    "start_time": "2021-09-02T23:18:49.356Z"
   },
   {
    "duration": 8,
    "start_time": "2021-09-02T23:19:03.251Z"
   },
   {
    "duration": 8,
    "start_time": "2021-09-02T23:23:31.358Z"
   },
   {
    "duration": 7,
    "start_time": "2021-09-02T23:23:42.780Z"
   },
   {
    "duration": 7,
    "start_time": "2021-09-02T23:23:51.513Z"
   },
   {
    "duration": 16,
    "start_time": "2021-09-02T23:25:02.048Z"
   },
   {
    "duration": 186,
    "start_time": "2021-09-02T23:26:08.812Z"
   },
   {
    "duration": 57,
    "start_time": "2021-09-02T23:27:25.847Z"
   },
   {
    "duration": 186,
    "start_time": "2021-09-02T23:27:30.901Z"
   },
   {
    "duration": 170,
    "start_time": "2021-09-02T23:27:38.920Z"
   },
   {
    "duration": 8,
    "start_time": "2021-09-02T23:31:01.420Z"
   },
   {
    "duration": 11,
    "start_time": "2021-09-02T23:31:04.538Z"
   },
   {
    "duration": 176,
    "start_time": "2021-09-02T23:31:15.481Z"
   },
   {
    "duration": 17,
    "start_time": "2021-09-02T23:31:39.807Z"
   },
   {
    "duration": 60,
    "start_time": "2021-09-02T23:33:14.920Z"
   },
   {
    "duration": 119,
    "start_time": "2021-09-02T23:33:21.323Z"
   },
   {
    "duration": 5,
    "start_time": "2021-09-02T23:33:24.430Z"
   },
   {
    "duration": 3,
    "start_time": "2021-09-02T23:33:46.237Z"
   },
   {
    "duration": 6,
    "start_time": "2021-09-02T23:33:47.677Z"
   },
   {
    "duration": 41,
    "start_time": "2021-09-02T23:34:29.274Z"
   },
   {
    "duration": 19,
    "start_time": "2021-09-02T23:34:35.898Z"
   },
   {
    "duration": 4,
    "start_time": "2021-09-02T23:34:42.542Z"
   },
   {
    "duration": 6,
    "start_time": "2021-09-02T23:34:49.519Z"
   },
   {
    "duration": 4,
    "start_time": "2021-09-02T23:35:07.571Z"
   },
   {
    "duration": 4,
    "start_time": "2021-09-02T23:36:15.593Z"
   },
   {
    "duration": 17,
    "start_time": "2021-09-02T23:36:43.183Z"
   },
   {
    "duration": 4,
    "start_time": "2021-09-02T23:38:29.334Z"
   },
   {
    "duration": 4,
    "start_time": "2021-09-02T23:39:48.599Z"
   },
   {
    "duration": 28,
    "start_time": "2021-09-02T23:40:27.683Z"
   },
   {
    "duration": 26,
    "start_time": "2021-09-02T23:40:33.154Z"
   },
   {
    "duration": 25,
    "start_time": "2021-09-02T23:41:41.253Z"
   },
   {
    "duration": 180,
    "start_time": "2021-09-02T23:42:50.323Z"
   },
   {
    "duration": 170,
    "start_time": "2021-09-02T23:42:56.031Z"
   },
   {
    "duration": 19976,
    "start_time": "2021-09-02T23:43:06.800Z"
   },
   {
    "duration": 9,
    "start_time": "2021-09-02T23:43:32.945Z"
   },
   {
    "duration": 17,
    "start_time": "2021-09-02T23:43:37.228Z"
   },
   {
    "duration": 22498,
    "start_time": "2021-09-02T23:44:12.035Z"
   },
   {
    "duration": 5,
    "start_time": "2021-09-02T23:46:24.254Z"
   },
   {
    "duration": 6,
    "start_time": "2021-09-02T23:46:30.711Z"
   },
   {
    "duration": 4,
    "start_time": "2021-09-02T23:46:37.852Z"
   },
   {
    "duration": 4,
    "start_time": "2021-09-02T23:46:41.778Z"
   },
   {
    "duration": 186,
    "start_time": "2021-09-02T23:46:51.565Z"
   },
   {
    "duration": 174,
    "start_time": "2021-09-02T23:46:58.678Z"
   },
   {
    "duration": 4,
    "start_time": "2021-09-02T23:47:07.483Z"
   },
   {
    "duration": 4304,
    "start_time": "2021-09-02T23:48:48.497Z"
   },
   {
    "duration": 5,
    "start_time": "2021-09-02T23:49:06.877Z"
   },
   {
    "duration": 7,
    "start_time": "2021-09-02T23:49:11.029Z"
   },
   {
    "duration": 7,
    "start_time": "2021-09-02T23:49:14.525Z"
   },
   {
    "duration": 176,
    "start_time": "2021-09-02T23:51:25.520Z"
   },
   {
    "duration": 4,
    "start_time": "2021-09-02T23:51:31.688Z"
   },
   {
    "duration": 7,
    "start_time": "2021-09-02T23:51:36.801Z"
   },
   {
    "duration": 19,
    "start_time": "2021-09-02T23:51:49.980Z"
   },
   {
    "duration": 5,
    "start_time": "2021-09-02T23:52:03.460Z"
   },
   {
    "duration": 194,
    "start_time": "2021-09-02T23:53:58.657Z"
   },
   {
    "duration": 225,
    "start_time": "2021-09-02T23:54:12.626Z"
   },
   {
    "duration": 5,
    "start_time": "2021-09-02T23:56:32.362Z"
   },
   {
    "duration": 7,
    "start_time": "2021-09-02T23:56:51.234Z"
   },
   {
    "duration": 5,
    "start_time": "2021-09-02T23:57:02.672Z"
   },
   {
    "duration": 5,
    "start_time": "2021-09-02T23:57:06.379Z"
   },
   {
    "duration": 5,
    "start_time": "2021-09-02T23:57:10.086Z"
   },
   {
    "duration": 5,
    "start_time": "2021-09-02T23:57:13.837Z"
   },
   {
    "duration": 179,
    "start_time": "2021-09-02T23:57:17.647Z"
   },
   {
    "duration": 183,
    "start_time": "2021-09-02T23:57:22.951Z"
   },
   {
    "duration": 7,
    "start_time": "2021-09-02T23:57:54.160Z"
   },
   {
    "duration": 171,
    "start_time": "2021-09-02T23:57:56.624Z"
   },
   {
    "duration": 6,
    "start_time": "2021-09-02T23:58:14.620Z"
   },
   {
    "duration": 9,
    "start_time": "2021-09-02T23:58:25.741Z"
   },
   {
    "duration": 6,
    "start_time": "2021-09-02T23:58:36.288Z"
   },
   {
    "duration": 7,
    "start_time": "2021-09-02T23:58:39.686Z"
   },
   {
    "duration": 8,
    "start_time": "2021-09-02T23:58:43.221Z"
   },
   {
    "duration": 7,
    "start_time": "2021-09-02T23:58:53.337Z"
   },
   {
    "duration": 7,
    "start_time": "2021-09-02T23:58:58.319Z"
   },
   {
    "duration": 29,
    "start_time": "2021-09-02T23:59:25.353Z"
   },
   {
    "duration": 174,
    "start_time": "2021-09-02T23:59:41.640Z"
   },
   {
    "duration": 195,
    "start_time": "2021-09-02T23:59:57.789Z"
   },
   {
    "duration": 203,
    "start_time": "2021-09-03T00:00:01.296Z"
   },
   {
    "duration": 203,
    "start_time": "2021-09-03T00:00:06.689Z"
   },
   {
    "duration": 190,
    "start_time": "2021-09-03T00:00:38.544Z"
   },
   {
    "duration": 4,
    "start_time": "2021-09-03T00:00:54.550Z"
   },
   {
    "duration": 5,
    "start_time": "2021-09-03T00:01:00.063Z"
   },
   {
    "duration": 4,
    "start_time": "2021-09-03T00:01:17.452Z"
   },
   {
    "duration": 184,
    "start_time": "2021-09-03T00:01:28.305Z"
   },
   {
    "duration": 9,
    "start_time": "2021-09-03T00:03:30.523Z"
   },
   {
    "duration": 4,
    "start_time": "2021-09-03T00:03:41.901Z"
   },
   {
    "duration": 209,
    "start_time": "2021-09-03T00:04:17.880Z"
   },
   {
    "duration": 184,
    "start_time": "2021-09-03T00:05:11.486Z"
   },
   {
    "duration": 190,
    "start_time": "2021-09-03T00:05:28.431Z"
   },
   {
    "duration": 7,
    "start_time": "2021-09-03T00:05:35.477Z"
   },
   {
    "duration": 4,
    "start_time": "2021-09-03T00:05:38.355Z"
   },
   {
    "duration": 5,
    "start_time": "2021-09-03T00:05:48.126Z"
   },
   {
    "duration": 185,
    "start_time": "2021-09-03T00:05:59.238Z"
   },
   {
    "duration": 230,
    "start_time": "2021-09-03T00:06:01.683Z"
   },
   {
    "duration": 4,
    "start_time": "2021-09-03T00:06:09.309Z"
   },
   {
    "duration": 4,
    "start_time": "2021-09-03T00:06:17.367Z"
   },
   {
    "duration": 177,
    "start_time": "2021-09-03T00:06:40.581Z"
   },
   {
    "duration": 179,
    "start_time": "2021-09-03T00:06:50.173Z"
   },
   {
    "duration": 7,
    "start_time": "2021-09-03T00:07:37.947Z"
   },
   {
    "duration": 8,
    "start_time": "2021-09-03T00:08:05.843Z"
   },
   {
    "duration": 4,
    "start_time": "2021-09-03T00:08:10.398Z"
   },
   {
    "duration": 4,
    "start_time": "2021-09-03T00:08:47.887Z"
   },
   {
    "duration": 7,
    "start_time": "2021-09-03T00:09:32.949Z"
   },
   {
    "duration": 4,
    "start_time": "2021-09-03T00:09:34.687Z"
   },
   {
    "duration": 21,
    "start_time": "2021-09-03T00:10:48.829Z"
   },
   {
    "duration": 20,
    "start_time": "2021-09-03T00:11:46.862Z"
   },
   {
    "duration": 3,
    "start_time": "2021-09-03T00:11:56.917Z"
   },
   {
    "duration": 5,
    "start_time": "2021-09-03T00:12:12.778Z"
   },
   {
    "duration": 4,
    "start_time": "2021-09-03T00:12:21.253Z"
   },
   {
    "duration": 5,
    "start_time": "2021-09-03T00:12:26.452Z"
   },
   {
    "duration": 4,
    "start_time": "2021-09-03T00:12:37.510Z"
   },
   {
    "duration": 182,
    "start_time": "2021-09-03T00:12:41.744Z"
   },
   {
    "duration": 191,
    "start_time": "2021-09-03T00:12:50.008Z"
   },
   {
    "duration": 175,
    "start_time": "2021-09-03T00:12:57.501Z"
   },
   {
    "duration": 4,
    "start_time": "2021-09-03T00:13:02.983Z"
   },
   {
    "duration": 6,
    "start_time": "2021-09-03T00:13:09.602Z"
   },
   {
    "duration": 22,
    "start_time": "2021-09-03T00:13:19.160Z"
   },
   {
    "duration": 8,
    "start_time": "2021-09-03T00:13:23.145Z"
   },
   {
    "duration": 13,
    "start_time": "2021-09-03T00:16:51.361Z"
   },
   {
    "duration": 7,
    "start_time": "2021-09-03T00:17:01.500Z"
   },
   {
    "duration": 1230,
    "start_time": "2021-09-03T16:08:47.593Z"
   },
   {
    "duration": 639,
    "start_time": "2021-09-03T16:08:48.824Z"
   },
   {
    "duration": 30,
    "start_time": "2021-09-03T16:08:49.466Z"
   },
   {
    "duration": 272,
    "start_time": "2021-09-03T16:08:49.498Z"
   },
   {
    "duration": 12,
    "start_time": "2021-09-03T16:08:50.847Z"
   },
   {
    "duration": 1131,
    "start_time": "2021-09-03T16:08:56.175Z"
   },
   {
    "duration": 340,
    "start_time": "2021-09-03T16:09:01.621Z"
   },
   {
    "duration": 7,
    "start_time": "2021-09-03T16:09:05.340Z"
   },
   {
    "duration": 15,
    "start_time": "2021-09-03T16:09:07.751Z"
   },
   {
    "duration": 20,
    "start_time": "2021-09-03T16:09:12.000Z"
   },
   {
    "duration": 8,
    "start_time": "2021-09-03T16:09:32.823Z"
   },
   {
    "duration": 8,
    "start_time": "2021-09-03T16:11:09.244Z"
   },
   {
    "duration": 45,
    "start_time": "2021-09-03T16:11:12.338Z"
   },
   {
    "duration": 1167,
    "start_time": "2021-09-03T16:14:14.654Z"
   },
   {
    "duration": 644,
    "start_time": "2021-09-03T16:14:16.467Z"
   },
   {
    "duration": 34,
    "start_time": "2021-09-03T16:14:17.886Z"
   },
   {
    "duration": 259,
    "start_time": "2021-09-03T16:14:20.275Z"
   },
   {
    "duration": 245,
    "start_time": "2021-09-03T16:14:21.291Z"
   },
   {
    "duration": 10,
    "start_time": "2021-09-03T16:14:28.433Z"
   },
   {
    "duration": 172,
    "start_time": "2021-09-03T16:14:54.558Z"
   },
   {
    "duration": 1249,
    "start_time": "2021-09-03T16:15:52.288Z"
   },
   {
    "duration": 652,
    "start_time": "2021-09-03T16:15:53.540Z"
   },
   {
    "duration": 30,
    "start_time": "2021-09-03T16:15:54.194Z"
   },
   {
    "duration": 272,
    "start_time": "2021-09-03T16:15:54.227Z"
   },
   {
    "duration": 16,
    "start_time": "2021-09-03T16:15:59.734Z"
   },
   {
    "duration": 17,
    "start_time": "2021-09-03T16:16:05.184Z"
   },
   {
    "duration": 15,
    "start_time": "2021-09-03T16:16:23.371Z"
   },
   {
    "duration": 260,
    "start_time": "2021-09-03T16:16:38.453Z"
   },
   {
    "duration": 155,
    "start_time": "2021-09-03T16:16:56.878Z"
   },
   {
    "duration": 8,
    "start_time": "2021-09-03T16:17:10.932Z"
   },
   {
    "duration": 208,
    "start_time": "2021-09-03T16:17:12.295Z"
   },
   {
    "duration": 156,
    "start_time": "2021-09-03T16:17:15.466Z"
   },
   {
    "duration": 1198,
    "start_time": "2021-09-03T16:17:28.627Z"
   },
   {
    "duration": -101,
    "start_time": "2021-09-03T16:17:29.928Z"
   },
   {
    "duration": 990,
    "start_time": "2021-09-03T16:17:39.275Z"
   },
   {
    "duration": 1242,
    "start_time": "2021-09-03T16:17:55.295Z"
   },
   {
    "duration": 651,
    "start_time": "2021-09-03T16:17:56.539Z"
   },
   {
    "duration": 30,
    "start_time": "2021-09-03T16:17:57.192Z"
   },
   {
    "duration": 267,
    "start_time": "2021-09-03T16:17:57.224Z"
   },
   {
    "duration": 12,
    "start_time": "2021-09-03T16:19:03.444Z"
   },
   {
    "duration": 242,
    "start_time": "2021-09-03T16:19:06.636Z"
   },
   {
    "duration": 154,
    "start_time": "2021-09-03T16:19:10.863Z"
   },
   {
    "duration": 379,
    "start_time": "2021-09-03T16:19:41.714Z"
   },
   {
    "duration": 7,
    "start_time": "2021-09-03T16:20:06.426Z"
   },
   {
    "duration": 168,
    "start_time": "2021-09-03T16:20:08.937Z"
   },
   {
    "duration": 127,
    "start_time": "2021-09-03T16:20:17.968Z"
   },
   {
    "duration": 18,
    "start_time": "2021-09-03T16:20:29.835Z"
   },
   {
    "duration": 10,
    "start_time": "2021-09-03T16:21:08.875Z"
   },
   {
    "duration": 10,
    "start_time": "2021-09-03T16:21:25.242Z"
   },
   {
    "duration": 1260,
    "start_time": "2021-09-03T16:22:08.756Z"
   },
   {
    "duration": 648,
    "start_time": "2021-09-03T16:22:10.017Z"
   },
   {
    "duration": 34,
    "start_time": "2021-09-03T16:22:10.666Z"
   },
   {
    "duration": 239,
    "start_time": "2021-09-03T16:22:16.872Z"
   },
   {
    "duration": 232,
    "start_time": "2021-09-03T16:22:33.269Z"
   },
   {
    "duration": 10,
    "start_time": "2021-09-03T16:22:46.329Z"
   },
   {
    "duration": 23,
    "start_time": "2021-09-03T16:23:03.880Z"
   },
   {
    "duration": 177,
    "start_time": "2021-09-03T16:23:19.086Z"
   },
   {
    "duration": 968,
    "start_time": "2021-09-03T16:23:28.233Z"
   },
   {
    "duration": 8,
    "start_time": "2021-09-03T16:23:32.127Z"
   },
   {
    "duration": 9,
    "start_time": "2021-09-03T16:24:12.488Z"
   },
   {
    "duration": 11,
    "start_time": "2021-09-03T16:24:15.533Z"
   },
   {
    "duration": 27,
    "start_time": "2021-09-03T16:24:31.119Z"
   },
   {
    "duration": 33,
    "start_time": "2021-09-03T16:24:54.057Z"
   },
   {
    "duration": 29,
    "start_time": "2021-09-03T16:25:00.115Z"
   },
   {
    "duration": 6547,
    "start_time": "2021-09-03T16:27:58.928Z"
   },
   {
    "duration": 26,
    "start_time": "2021-09-03T16:28:09.562Z"
   },
   {
    "duration": 32,
    "start_time": "2021-09-03T16:28:20.427Z"
   },
   {
    "duration": 32,
    "start_time": "2021-09-03T16:28:44.248Z"
   },
   {
    "duration": 246,
    "start_time": "2021-09-03T16:28:49.602Z"
   },
   {
    "duration": 9,
    "start_time": "2021-09-03T16:29:00.447Z"
   },
   {
    "duration": 84,
    "start_time": "2021-09-03T16:29:04.456Z"
   },
   {
    "duration": 24,
    "start_time": "2021-09-03T16:29:19.134Z"
   },
   {
    "duration": 7,
    "start_time": "2021-09-03T16:29:29.740Z"
   },
   {
    "duration": 5,
    "start_time": "2021-09-03T16:29:56.721Z"
   },
   {
    "duration": 106,
    "start_time": "2021-09-03T16:30:46.983Z"
   },
   {
    "duration": 265,
    "start_time": "2021-09-03T16:30:48.098Z"
   },
   {
    "duration": 2213,
    "start_time": "2021-09-03T16:32:01.555Z"
   },
   {
    "duration": 1171,
    "start_time": "2021-09-03T16:32:42.926Z"
   },
   {
    "duration": 263,
    "start_time": "2021-09-03T16:34:28.173Z"
   },
   {
    "duration": 27560,
    "start_time": "2021-09-03T16:34:48.711Z"
   },
   {
    "duration": 111410,
    "start_time": "2021-09-03T16:37:13.576Z"
   },
   {
    "duration": 114317,
    "start_time": "2021-09-03T16:39:59.237Z"
   },
   {
    "duration": 5,
    "start_time": "2021-09-03T16:41:59.103Z"
   },
   {
    "duration": 255,
    "start_time": "2021-09-03T16:42:01.331Z"
   },
   {
    "duration": 5,
    "start_time": "2021-09-03T16:42:15.269Z"
   },
   {
    "duration": 6,
    "start_time": "2021-09-03T16:42:19.353Z"
   },
   {
    "duration": 6,
    "start_time": "2021-09-03T16:42:22.800Z"
   },
   {
    "duration": 6,
    "start_time": "2021-09-03T16:42:31.556Z"
   },
   {
    "duration": 4,
    "start_time": "2021-09-03T16:42:35.356Z"
   },
   {
    "duration": 1201,
    "start_time": "2021-09-03T16:44:09.331Z"
   },
   {
    "duration": 257,
    "start_time": "2021-09-03T16:44:33.579Z"
   },
   {
    "duration": 265,
    "start_time": "2021-09-03T16:45:13.521Z"
   },
   {
    "duration": 274,
    "start_time": "2021-09-03T16:46:08.221Z"
   },
   {
    "duration": 1197,
    "start_time": "2021-09-03T16:48:18.553Z"
   },
   {
    "duration": 674,
    "start_time": "2021-09-03T16:48:20.520Z"
   },
   {
    "duration": 34,
    "start_time": "2021-09-03T16:48:21.892Z"
   },
   {
    "duration": 264,
    "start_time": "2021-09-03T16:48:22.380Z"
   },
   {
    "duration": 248,
    "start_time": "2021-09-03T16:48:24.171Z"
   },
   {
    "duration": 12,
    "start_time": "2021-09-03T16:48:25.042Z"
   },
   {
    "duration": 30,
    "start_time": "2021-09-03T16:48:26.785Z"
   },
   {
    "duration": 1047,
    "start_time": "2021-09-03T16:48:27.437Z"
   },
   {
    "duration": 7,
    "start_time": "2021-09-03T16:48:29.233Z"
   },
   {
    "duration": 33,
    "start_time": "2021-09-03T16:48:29.986Z"
   },
   {
    "duration": 43,
    "start_time": "2021-09-03T16:48:38.101Z"
   },
   {
    "duration": 36,
    "start_time": "2021-09-03T16:48:38.976Z"
   },
   {
    "duration": 10,
    "start_time": "2021-09-03T16:48:46.751Z"
   },
   {
    "duration": 88,
    "start_time": "2021-09-03T16:48:47.983Z"
   },
   {
    "duration": 13,
    "start_time": "2021-09-03T16:48:48.751Z"
   },
   {
    "duration": 69,
    "start_time": "2021-09-03T16:49:56.140Z"
   },
   {
    "duration": 117170,
    "start_time": "2021-09-03T16:49:58.482Z"
   },
   {
    "duration": 9,
    "start_time": "2021-09-03T16:57:17.207Z"
   },
   {
    "duration": 93,
    "start_time": "2021-09-03T16:57:20.244Z"
   },
   {
    "duration": 13,
    "start_time": "2021-09-03T16:57:22.561Z"
   },
   {
    "duration": 63,
    "start_time": "2021-09-03T16:57:28.323Z"
   },
   {
    "duration": 125086,
    "start_time": "2021-09-03T16:57:32.677Z"
   },
   {
    "duration": 302169,
    "start_time": "2021-09-03T17:02:19.977Z"
   },
   {
    "duration": 64155,
    "start_time": "2021-09-03T17:07:57.544Z"
   },
   {
    "duration": 123418,
    "start_time": "2021-09-03T17:09:19.346Z"
   },
   {
    "duration": 4,
    "start_time": "2021-09-03T17:11:45.312Z"
   },
   {
    "duration": 2,
    "start_time": "2021-09-03T17:12:06.133Z"
   },
   {
    "duration": 358,
    "start_time": "2021-09-03T17:15:02.411Z"
   },
   {
    "duration": 247,
    "start_time": "2021-09-03T17:21:20.914Z"
   },
   {
    "duration": 238,
    "start_time": "2021-09-03T17:21:27.220Z"
   },
   {
    "duration": 245,
    "start_time": "2021-09-03T17:21:50.064Z"
   },
   {
    "duration": 249,
    "start_time": "2021-09-03T17:21:55.605Z"
   },
   {
    "duration": 257,
    "start_time": "2021-09-03T17:22:22.331Z"
   },
   {
    "duration": 269,
    "start_time": "2021-09-03T17:22:40.851Z"
   },
   {
    "duration": 253,
    "start_time": "2021-09-03T17:22:59.974Z"
   },
   {
    "duration": 251,
    "start_time": "2021-09-03T17:23:06.894Z"
   },
   {
    "duration": 288,
    "start_time": "2021-09-03T17:24:42.957Z"
   },
   {
    "duration": 13424,
    "start_time": "2021-09-03T17:25:11.332Z"
   },
   {
    "duration": 88,
    "start_time": "2021-09-03T17:25:54.112Z"
   },
   {
    "duration": 250,
    "start_time": "2021-09-03T17:26:06.055Z"
   },
   {
    "duration": 6120,
    "start_time": "2021-09-03T17:26:11.801Z"
   },
   {
    "duration": 103566,
    "start_time": "2021-09-03T17:26:22.098Z"
   },
   {
    "duration": 259,
    "start_time": "2021-09-03T17:31:33.742Z"
   },
   {
    "duration": 4,
    "start_time": "2021-09-03T17:32:21.384Z"
   },
   {
    "duration": 1283,
    "start_time": "2021-09-03T17:33:30.278Z"
   },
   {
    "duration": 8,
    "start_time": "2021-09-03T17:34:11.889Z"
   },
   {
    "duration": 1282,
    "start_time": "2021-09-03T17:37:31.848Z"
   },
   {
    "duration": 156,
    "start_time": "2021-09-03T17:38:11.166Z"
   },
   {
    "duration": 76,
    "start_time": "2021-09-03T17:38:29.857Z"
   },
   {
    "duration": 87,
    "start_time": "2021-09-03T17:38:43.160Z"
   },
   {
    "duration": 39514,
    "start_time": "2021-09-03T17:38:53.103Z"
   },
   {
    "duration": 115804,
    "start_time": "2021-09-03T17:39:34.009Z"
   },
   {
    "duration": 1049485,
    "start_time": "2021-09-03T17:41:38.774Z"
   },
   {
    "duration": 127770,
    "start_time": "2021-09-03T17:59:23.662Z"
   },
   {
    "duration": 1053326,
    "start_time": "2021-09-03T18:01:47.958Z"
   },
   {
    "duration": 63374,
    "start_time": "2021-09-03T18:20:37.801Z"
   },
   {
    "duration": 1254,
    "start_time": "2021-09-03T18:23:52.474Z"
   },
   {
    "duration": 683,
    "start_time": "2021-09-03T18:23:53.730Z"
   },
   {
    "duration": 29,
    "start_time": "2021-09-03T18:23:54.415Z"
   },
   {
    "duration": 280,
    "start_time": "2021-09-03T18:23:54.446Z"
   },
   {
    "duration": 253,
    "start_time": "2021-09-03T18:23:54.727Z"
   },
   {
    "duration": 18,
    "start_time": "2021-09-03T18:23:54.982Z"
   },
   {
    "duration": 27,
    "start_time": "2021-09-03T18:23:55.003Z"
   },
   {
    "duration": 1199,
    "start_time": "2021-09-03T18:23:55.033Z"
   },
   {
    "duration": 32,
    "start_time": "2021-09-03T18:23:56.235Z"
   },
   {
    "duration": 4,
    "start_time": "2021-09-03T18:23:56.269Z"
   },
   {
    "duration": 12,
    "start_time": "2021-09-03T18:23:56.293Z"
   },
   {
    "duration": 105,
    "start_time": "2021-09-03T18:23:56.313Z"
   },
   {
    "duration": 14,
    "start_time": "2021-09-03T18:23:56.420Z"
   },
   {
    "duration": 81,
    "start_time": "2021-09-03T18:23:56.436Z"
   },
   {
    "duration": 761616,
    "start_time": "2021-09-03T18:23:56.519Z"
   },
   {
    "duration": 1233,
    "start_time": "2021-09-03T18:36:38.137Z"
   },
   {
    "duration": 110984,
    "start_time": "2021-09-03T18:36:39.372Z"
   },
   {
    "duration": 1889282,
    "start_time": "2021-09-03T18:38:30.358Z"
   },
   {
    "duration": 59347,
    "start_time": "2021-09-03T19:09:59.642Z"
   },
   {
    "duration": 1226,
    "start_time": "2021-09-03T19:22:47.580Z"
   },
   {
    "duration": 313,
    "start_time": "2021-09-07T16:18:19.297Z"
   },
   {
    "duration": 1497,
    "start_time": "2021-09-07T16:18:24.073Z"
   },
   {
    "duration": 3062,
    "start_time": "2021-09-07T16:18:26.308Z"
   },
   {
    "duration": 24,
    "start_time": "2021-09-07T16:18:29.372Z"
   },
   {
    "duration": 11,
    "start_time": "2021-09-07T16:19:40.213Z"
   },
   {
    "duration": 1328,
    "start_time": "2021-09-07T16:32:37.861Z"
   },
   {
    "duration": 82,
    "start_time": "2021-09-07T16:32:51.421Z"
   },
   {
    "duration": 92,
    "start_time": "2021-09-07T16:33:36.918Z"
   },
   {
    "duration": 1167,
    "start_time": "2021-09-07T16:34:18.198Z"
   },
   {
    "duration": 640,
    "start_time": "2021-09-07T16:34:19.894Z"
   },
   {
    "duration": 26,
    "start_time": "2021-09-07T16:34:21.089Z"
   },
   {
    "duration": 280,
    "start_time": "2021-09-07T16:34:23.930Z"
   },
   {
    "duration": 11,
    "start_time": "2021-09-07T16:34:28.394Z"
   },
   {
    "duration": 164,
    "start_time": "2021-09-07T16:35:38.138Z"
   },
   {
    "duration": 101,
    "start_time": "2021-09-07T16:35:59.659Z"
   },
   {
    "duration": 85,
    "start_time": "2021-09-07T16:36:07.099Z"
   },
   {
    "duration": 21,
    "start_time": "2021-09-07T16:36:35.859Z"
   },
   {
    "duration": 23,
    "start_time": "2021-09-07T16:36:52.926Z"
   },
   {
    "duration": 30,
    "start_time": "2021-09-07T16:37:07.139Z"
   },
   {
    "duration": 102,
    "start_time": "2021-09-07T16:37:29.636Z"
   },
   {
    "duration": 94,
    "start_time": "2021-09-07T16:37:45.202Z"
   },
   {
    "duration": 90,
    "start_time": "2021-09-07T16:38:03.536Z"
   },
   {
    "duration": 91,
    "start_time": "2021-09-07T16:38:09.648Z"
   },
   {
    "duration": 97,
    "start_time": "2021-09-07T16:38:13.035Z"
   },
   {
    "duration": 90,
    "start_time": "2021-09-07T16:38:16.553Z"
   },
   {
    "duration": 93,
    "start_time": "2021-09-07T16:38:20.890Z"
   },
   {
    "duration": 95,
    "start_time": "2021-09-07T16:38:36.274Z"
   },
   {
    "duration": 96,
    "start_time": "2021-09-07T16:38:51.029Z"
   },
   {
    "duration": 95,
    "start_time": "2021-09-07T16:39:09.221Z"
   },
   {
    "duration": 100,
    "start_time": "2021-09-07T16:39:16.998Z"
   },
   {
    "duration": 397,
    "start_time": "2021-09-07T16:41:02.833Z"
   },
   {
    "duration": 5,
    "start_time": "2021-09-07T16:41:24.100Z"
   },
   {
    "duration": 5,
    "start_time": "2021-09-07T16:41:55.516Z"
   },
   {
    "duration": 577,
    "start_time": "2021-09-07T16:41:59.015Z"
   },
   {
    "duration": 6,
    "start_time": "2021-09-07T16:42:08.912Z"
   },
   {
    "duration": 641,
    "start_time": "2021-09-07T16:42:10.781Z"
   },
   {
    "duration": 4,
    "start_time": "2021-09-07T16:42:19.367Z"
   },
   {
    "duration": 4,
    "start_time": "2021-09-07T16:42:24.586Z"
   },
   {
    "duration": 582,
    "start_time": "2021-09-07T16:42:27.411Z"
   },
   {
    "duration": 93,
    "start_time": "2021-09-07T16:42:34.777Z"
   },
   {
    "duration": 1167,
    "start_time": "2021-09-07T16:43:54.877Z"
   },
   {
    "duration": 608,
    "start_time": "2021-09-07T16:43:56.046Z"
   },
   {
    "duration": 24,
    "start_time": "2021-09-07T16:43:56.657Z"
   },
   {
    "duration": 239,
    "start_time": "2021-09-07T16:43:57.296Z"
   },
   {
    "duration": 2,
    "start_time": "2021-09-07T16:44:01.826Z"
   },
   {
    "duration": 12,
    "start_time": "2021-09-07T16:44:03.302Z"
   },
   {
    "duration": 92,
    "start_time": "2021-09-07T16:44:08.318Z"
   },
   {
    "duration": 486,
    "start_time": "2021-09-07T16:44:15.618Z"
   },
   {
    "duration": 6,
    "start_time": "2021-09-07T16:44:24.792Z"
   },
   {
    "duration": 8,
    "start_time": "2021-09-07T16:45:24.325Z"
   },
   {
    "duration": 5,
    "start_time": "2021-09-07T16:45:25.928Z"
   },
   {
    "duration": 3,
    "start_time": "2021-09-07T16:45:49.259Z"
   },
   {
    "duration": 5,
    "start_time": "2021-09-07T16:45:51.153Z"
   },
   {
    "duration": 3,
    "start_time": "2021-09-07T16:46:27.676Z"
   },
   {
    "duration": 3,
    "start_time": "2021-09-07T16:46:29.288Z"
   },
   {
    "duration": 3,
    "start_time": "2021-09-07T16:46:37.829Z"
   },
   {
    "duration": 4,
    "start_time": "2021-09-07T16:46:39.523Z"
   },
   {
    "duration": 7,
    "start_time": "2021-09-07T16:46:57.461Z"
   },
   {
    "duration": 299,
    "start_time": "2021-09-07T16:47:13.425Z"
   },
   {
    "duration": 399,
    "start_time": "2021-09-07T16:47:23.047Z"
   },
   {
    "duration": 347,
    "start_time": "2021-09-07T16:47:34.195Z"
   },
   {
    "duration": 5,
    "start_time": "2021-09-07T16:49:13.403Z"
   },
   {
    "duration": 5,
    "start_time": "2021-09-07T16:49:19.596Z"
   },
   {
    "duration": 163,
    "start_time": "2021-09-07T16:49:25.656Z"
   },
   {
    "duration": 6,
    "start_time": "2021-09-07T16:49:35.996Z"
   },
   {
    "duration": 11,
    "start_time": "2021-09-07T16:49:42.637Z"
   },
   {
    "duration": 7,
    "start_time": "2021-09-07T16:50:07.118Z"
   },
   {
    "duration": 6,
    "start_time": "2021-09-07T16:50:15.854Z"
   },
   {
    "duration": 13,
    "start_time": "2021-09-07T16:51:39.817Z"
   },
   {
    "duration": 4,
    "start_time": "2021-09-07T16:51:41.768Z"
   },
   {
    "duration": 680,
    "start_time": "2021-09-07T16:51:48.815Z"
   },
   {
    "duration": 2174,
    "start_time": "2021-09-07T16:51:55.287Z"
   },
   {
    "duration": 3,
    "start_time": "2021-09-07T16:52:06.002Z"
   },
   {
    "duration": 4,
    "start_time": "2021-09-07T16:52:08.172Z"
   },
   {
    "duration": 10,
    "start_time": "2021-09-07T16:52:25.545Z"
   },
   {
    "duration": 5,
    "start_time": "2021-09-07T16:52:33.222Z"
   },
   {
    "duration": 1838,
    "start_time": "2021-09-07T16:52:55.103Z"
   },
   {
    "duration": 2487,
    "start_time": "2021-09-07T16:53:02.754Z"
   },
   {
    "duration": 2402,
    "start_time": "2021-09-07T16:53:10.248Z"
   },
   {
    "duration": 2484,
    "start_time": "2021-09-07T16:53:17.583Z"
   },
   {
    "duration": 2804,
    "start_time": "2021-09-07T16:53:24.158Z"
   },
   {
    "duration": 45600,
    "start_time": "2021-09-07T16:53:30.296Z"
   },
   {
    "duration": 37436,
    "start_time": "2021-09-07T16:54:20.680Z"
   },
   {
    "duration": 3,
    "start_time": "2021-09-07T16:56:46.117Z"
   },
   {
    "duration": 4,
    "start_time": "2021-09-07T16:56:47.569Z"
   },
   {
    "duration": 1169,
    "start_time": "2021-09-07T16:56:55.578Z"
   },
   {
    "duration": 609,
    "start_time": "2021-09-07T16:56:56.749Z"
   },
   {
    "duration": 25,
    "start_time": "2021-09-07T16:56:57.507Z"
   },
   {
    "duration": 12,
    "start_time": "2021-09-07T16:57:00.142Z"
   },
   {
    "duration": 246,
    "start_time": "2021-09-07T16:57:01.346Z"
   },
   {
    "duration": 187,
    "start_time": "2021-09-07T16:57:29.237Z"
   },
   {
    "duration": 526,
    "start_time": "2021-09-07T16:57:42.131Z"
   },
   {
    "duration": 4,
    "start_time": "2021-09-07T16:58:16.472Z"
   },
   {
    "duration": 176,
    "start_time": "2021-09-07T16:58:21.168Z"
   },
   {
    "duration": 168,
    "start_time": "2021-09-07T16:58:26.493Z"
   },
   {
    "duration": 171,
    "start_time": "2021-09-07T16:58:39.900Z"
   },
   {
    "duration": 167,
    "start_time": "2021-09-07T16:58:44.078Z"
   },
   {
    "duration": 13,
    "start_time": "2021-09-07T16:59:04.106Z"
   },
   {
    "duration": 4,
    "start_time": "2021-09-07T16:59:06.563Z"
   },
   {
    "duration": 689,
    "start_time": "2021-09-07T16:59:13.270Z"
   },
   {
    "duration": 2238,
    "start_time": "2021-09-07T16:59:46.098Z"
   },
   {
    "duration": 4,
    "start_time": "2021-09-07T17:00:02.303Z"
   },
   {
    "duration": 6,
    "start_time": "2021-09-07T17:00:04.812Z"
   },
   {
    "duration": 12,
    "start_time": "2021-09-07T17:00:18.955Z"
   },
   {
    "duration": 348,
    "start_time": "2021-09-07T17:00:20.566Z"
   },
   {
    "duration": 702,
    "start_time": "2021-09-07T17:00:24.740Z"
   },
   {
    "duration": 355,
    "start_time": "2021-09-07T17:00:31.861Z"
   },
   {
    "duration": 1907,
    "start_time": "2021-09-07T17:00:36.288Z"
   },
   {
    "duration": 393706,
    "start_time": "2021-09-07T17:00:45.852Z"
   },
   {
    "duration": 1820868,
    "start_time": "2021-09-07T17:07:34.184Z"
   },
   {
    "duration": 38,
    "start_time": "2021-09-07T17:46:46.203Z"
   },
   {
    "duration": 36,
    "start_time": "2021-09-07T17:47:10.315Z"
   },
   {
    "duration": 2894544,
    "start_time": "2021-09-07T17:47:26.231Z"
   },
   {
    "duration": 83332,
    "start_time": "2021-09-07T18:48:43.138Z"
   },
   {
    "duration": 457,
    "start_time": "2021-09-07T19:11:34.571Z"
   },
   {
    "duration": 4,
    "start_time": "2021-09-07T19:11:41.407Z"
   },
   {
    "duration": 352,
    "start_time": "2021-09-07T19:11:46.034Z"
   },
   {
    "duration": 84,
    "start_time": "2021-09-07T19:12:00.522Z"
   },
   {
    "duration": 1242,
    "start_time": "2021-09-07T19:14:41.559Z"
   },
   {
    "duration": 602,
    "start_time": "2021-09-07T19:14:42.803Z"
   },
   {
    "duration": 27,
    "start_time": "2021-09-07T19:14:46.722Z"
   },
   {
    "duration": 233,
    "start_time": "2021-09-07T19:14:52.830Z"
   },
   {
    "duration": 2,
    "start_time": "2021-09-07T19:14:56.431Z"
   },
   {
    "duration": 16,
    "start_time": "2021-09-07T19:15:16.308Z"
   },
   {
    "duration": 1253,
    "start_time": "2021-09-07T19:15:20.146Z"
   },
   {
    "duration": 4285,
    "start_time": "2021-09-07T19:15:34.308Z"
   },
   {
    "duration": 5,
    "start_time": "2021-09-07T19:16:07.424Z"
   },
   {
    "duration": 14,
    "start_time": "2021-09-07T19:16:10.635Z"
   },
   {
    "duration": 3,
    "start_time": "2021-09-07T19:16:17.996Z"
   },
   {
    "duration": 13,
    "start_time": "2021-09-07T19:16:20.111Z"
   },
   {
    "duration": 3,
    "start_time": "2021-09-07T19:16:33.141Z"
   },
   {
    "duration": 13,
    "start_time": "2021-09-07T19:16:38.368Z"
   },
   {
    "duration": 3,
    "start_time": "2021-09-07T19:16:44.005Z"
   },
   {
    "duration": 14,
    "start_time": "2021-09-07T19:16:47.456Z"
   },
   {
    "duration": 682,
    "start_time": "2021-09-07T19:16:49.080Z"
   },
   {
    "duration": 8,
    "start_time": "2021-09-07T19:16:56.237Z"
   },
   {
    "duration": 14,
    "start_time": "2021-09-07T19:16:57.757Z"
   },
   {
    "duration": 4694,
    "start_time": "2021-09-07T19:16:58.875Z"
   },
   {
    "duration": 67,
    "start_time": "2021-09-07T19:17:09.063Z"
   },
   {
    "duration": 14,
    "start_time": "2021-09-07T19:17:10.574Z"
   },
   {
    "duration": 2346,
    "start_time": "2021-09-07T19:17:11.195Z"
   },
   {
    "duration": 3826,
    "start_time": "2021-09-07T19:17:17.222Z"
   },
   {
    "duration": 31,
    "start_time": "2021-09-07T19:17:30.256Z"
   },
   {
    "duration": 13,
    "start_time": "2021-09-07T19:17:31.720Z"
   },
   {
    "duration": 4750,
    "start_time": "2021-09-07T19:17:33.422Z"
   },
   {
    "duration": 4807,
    "start_time": "2021-09-07T19:17:43.451Z"
   },
   {
    "duration": 64,
    "start_time": "2021-09-07T19:17:54.827Z"
   },
   {
    "duration": 13,
    "start_time": "2021-09-07T19:17:58.563Z"
   },
   {
    "duration": 2488,
    "start_time": "2021-09-07T19:18:01.545Z"
   },
   {
    "duration": 3808,
    "start_time": "2021-09-07T19:18:05.738Z"
   },
   {
    "duration": 5061,
    "start_time": "2021-09-07T19:18:17.257Z"
   },
   {
    "duration": 82,
    "start_time": "2021-09-07T19:18:28.214Z"
   },
   {
    "duration": 77,
    "start_time": "2021-09-07T19:19:04.237Z"
   },
   {
    "duration": 4645,
    "start_time": "2021-09-07T19:19:07.357Z"
   },
   {
    "duration": 83990,
    "start_time": "2021-09-07T19:19:18.037Z"
   },
   {
    "duration": 541262,
    "start_time": "2021-09-07T19:20:47.780Z"
   },
   {
    "duration": 102,
    "start_time": "2021-09-07T19:40:22.825Z"
   },
   {
    "duration": 2435032,
    "start_time": "2021-09-07T19:40:29.582Z"
   },
   {
    "duration": 26,
    "start_time": "2021-09-07T20:37:47.194Z"
   },
   {
    "duration": 13,
    "start_time": "2021-09-07T20:37:49.546Z"
   },
   {
    "duration": 4578,
    "start_time": "2021-09-07T20:37:52.408Z"
   },
   {
    "duration": 4792,
    "start_time": "2021-09-07T20:37:59.766Z"
   },
   {
    "duration": 9578,
    "start_time": "2021-09-07T20:38:09.065Z"
   },
   {
    "duration": 116,
    "start_time": "2021-09-07T20:38:25.980Z"
   },
   {
    "duration": 611,
    "start_time": "2021-09-07T20:38:32.155Z"
   },
   {
    "duration": 5649,
    "start_time": "2021-09-07T20:38:37.323Z"
   },
   {
    "duration": 320,
    "start_time": "2021-09-07T21:06:38.838Z"
   },
   {
    "duration": 1617,
    "start_time": "2021-09-07T21:06:47.221Z"
   },
   {
    "duration": 3078,
    "start_time": "2021-09-07T21:06:48.840Z"
   },
   {
    "duration": 28,
    "start_time": "2021-09-07T21:06:51.920Z"
   },
   {
    "duration": 246,
    "start_time": "2021-09-07T21:06:51.949Z"
   },
   {
    "duration": 2,
    "start_time": "2021-09-07T21:06:52.197Z"
   },
   {
    "duration": 17,
    "start_time": "2021-09-07T21:06:52.201Z"
   },
   {
    "duration": 1276,
    "start_time": "2021-09-07T21:06:52.220Z"
   },
   {
    "duration": 4170,
    "start_time": "2021-09-07T21:06:53.620Z"
   },
   {
    "duration": 5,
    "start_time": "2021-09-07T21:06:57.792Z"
   },
   {
    "duration": 13,
    "start_time": "2021-09-07T21:07:00.669Z"
   },
   {
    "duration": 4626,
    "start_time": "2021-09-07T21:07:02.111Z"
   },
   {
    "duration": 4816,
    "start_time": "2021-09-07T21:07:06.741Z"
   },
   {
    "duration": 156311,
    "start_time": "2021-09-07T21:07:18.761Z"
   },
   {
    "duration": 916450,
    "start_time": "2021-09-07T21:10:15.772Z"
   },
   {
    "duration": 1253,
    "start_time": "2021-09-07T21:29:33.549Z"
   },
   {
    "duration": 609,
    "start_time": "2021-09-07T21:29:34.804Z"
   },
   {
    "duration": 26,
    "start_time": "2021-09-07T21:29:38.100Z"
   },
   {
    "duration": 230,
    "start_time": "2021-09-07T21:29:38.128Z"
   },
   {
    "duration": 3,
    "start_time": "2021-09-07T21:29:43.686Z"
   },
   {
    "duration": 17,
    "start_time": "2021-09-07T21:29:49.521Z"
   },
   {
    "duration": 1245,
    "start_time": "2021-09-07T21:29:51.406Z"
   },
   {
    "duration": 4174,
    "start_time": "2021-09-07T21:29:54.920Z"
   },
   {
    "duration": 5,
    "start_time": "2021-09-07T21:30:00.575Z"
   },
   {
    "duration": 14,
    "start_time": "2021-09-07T21:30:28.876Z"
   },
   {
    "duration": 6287,
    "start_time": "2021-09-07T21:30:46.188Z"
   },
   {
    "duration": 5522,
    "start_time": "2021-09-07T21:30:56.846Z"
   },
   {
    "duration": 18,
    "start_time": "2021-09-07T21:31:09.315Z"
   },
   {
    "duration": 4673,
    "start_time": "2021-09-07T21:31:11.113Z"
   },
   {
    "duration": 4795,
    "start_time": "2021-09-07T21:31:16.762Z"
   },
   {
    "duration": 15,
    "start_time": "2021-09-07T21:31:25.918Z"
   },
   {
    "duration": 5042,
    "start_time": "2021-09-07T21:31:27.990Z"
   },
   {
    "duration": 4956,
    "start_time": "2021-09-07T21:31:33.803Z"
   },
   {
    "duration": 10545,
    "start_time": "2021-09-07T21:31:41.202Z"
   },
   {
    "duration": 113599,
    "start_time": "2021-09-07T21:31:58.557Z"
   },
   {
    "duration": 1245,
    "start_time": "2021-09-07T21:34:15.766Z"
   },
   {
    "duration": 602,
    "start_time": "2021-09-07T21:34:17.013Z"
   },
   {
    "duration": 24,
    "start_time": "2021-09-07T21:34:17.617Z"
   },
   {
    "duration": 241,
    "start_time": "2021-09-07T21:34:18.315Z"
   },
   {
    "duration": 3,
    "start_time": "2021-09-07T21:34:21.027Z"
   },
   {
    "duration": 16,
    "start_time": "2021-09-07T21:34:22.310Z"
   },
   {
    "duration": 1235,
    "start_time": "2021-09-07T21:34:29.872Z"
   },
   {
    "duration": 4203,
    "start_time": "2021-09-07T21:34:32.870Z"
   },
   {
    "duration": 4,
    "start_time": "2021-09-07T21:34:43.883Z"
   },
   {
    "duration": 13,
    "start_time": "2021-09-07T21:34:53.691Z"
   },
   {
    "duration": 4692,
    "start_time": "2021-09-07T21:34:56.599Z"
   },
   {
    "duration": 4846,
    "start_time": "2021-09-07T21:35:02.808Z"
   },
   {
    "duration": 9798,
    "start_time": "2021-09-07T21:35:33.500Z"
   },
   {
    "duration": 72409,
    "start_time": "2021-09-07T21:36:27.692Z"
   },
   {
    "duration": 957557,
    "start_time": "2021-09-07T21:37:45.287Z"
   },
   {
    "duration": 649,
    "start_time": "2021-09-07T21:54:52.157Z"
   },
   {
    "duration": 4249,
    "start_time": "2021-09-07T21:55:12.612Z"
   },
   {
    "duration": 4268,
    "start_time": "2021-09-07T21:59:26.756Z"
   },
   {
    "duration": 17,
    "start_time": "2021-09-07T22:01:49.708Z"
   },
   {
    "duration": 9,
    "start_time": "2021-09-07T22:02:01.416Z"
   },
   {
    "duration": 6,
    "start_time": "2021-09-07T22:02:10.305Z"
   },
   {
    "duration": 8,
    "start_time": "2021-09-07T22:02:24.146Z"
   },
   {
    "duration": 6,
    "start_time": "2021-09-07T22:02:24.692Z"
   },
   {
    "duration": 4,
    "start_time": "2021-09-07T22:02:30.960Z"
   },
   {
    "duration": 3,
    "start_time": "2021-09-07T22:02:44.765Z"
   },
   {
    "duration": 1282,
    "start_time": "2021-09-07T22:04:53.821Z"
   },
   {
    "duration": 604,
    "start_time": "2021-09-07T22:04:55.105Z"
   },
   {
    "duration": 25,
    "start_time": "2021-09-07T22:04:56.912Z"
   },
   {
    "duration": 234,
    "start_time": "2021-09-07T22:04:57.485Z"
   },
   {
    "duration": 2,
    "start_time": "2021-09-07T22:04:59.042Z"
   },
   {
    "duration": 15,
    "start_time": "2021-09-07T22:05:06.107Z"
   },
   {
    "duration": 1216,
    "start_time": "2021-09-07T22:05:07.385Z"
   },
   {
    "duration": 4315,
    "start_time": "2021-09-07T22:05:09.930Z"
   },
   {
    "duration": 3,
    "start_time": "2021-09-07T22:05:14.247Z"
   },
   {
    "duration": 3,
    "start_time": "2021-09-07T22:05:24.286Z"
   },
   {
    "duration": 13,
    "start_time": "2021-09-07T22:05:27.550Z"
   },
   {
    "duration": 676,
    "start_time": "2021-09-07T22:05:28.799Z"
   },
   {
    "duration": 1530,
    "start_time": "2021-09-07T22:05:31.613Z"
   },
   {
    "duration": 1022,
    "start_time": "2021-09-07T22:05:35.656Z"
   },
   {
    "duration": 10,
    "start_time": "2021-09-07T22:05:44.374Z"
   },
   {
    "duration": 5,
    "start_time": "2021-09-07T22:05:45.280Z"
   },
   {
    "duration": 2,
    "start_time": "2021-09-07T22:05:45.797Z"
   },
   {
    "duration": 718569,
    "start_time": "2021-09-07T22:05:49.694Z"
   },
   {
    "duration": 92,
    "start_time": "2021-09-07T22:24:51.295Z"
   },
   {
    "duration": 1294,
    "start_time": "2021-09-07T22:29:35.210Z"
   },
   {
    "duration": 601,
    "start_time": "2021-09-07T22:29:36.506Z"
   },
   {
    "duration": 33,
    "start_time": "2021-09-07T22:29:37.108Z"
   },
   {
    "duration": 241,
    "start_time": "2021-09-07T22:29:38.027Z"
   },
   {
    "duration": 2,
    "start_time": "2021-09-07T22:29:39.943Z"
   },
   {
    "duration": 15,
    "start_time": "2021-09-07T22:29:41.489Z"
   },
   {
    "duration": 1215,
    "start_time": "2021-09-07T22:29:52.966Z"
   },
   {
    "duration": 4167,
    "start_time": "2021-09-07T22:29:55.201Z"
   },
   {
    "duration": 4,
    "start_time": "2021-09-07T22:29:59.370Z"
   },
   {
    "duration": 13,
    "start_time": "2021-09-07T22:30:13.336Z"
   },
   {
    "duration": 673,
    "start_time": "2021-09-07T22:30:14.191Z"
   },
   {
    "duration": 2114,
    "start_time": "2021-09-07T22:30:15.828Z"
   },
   {
    "duration": 1014,
    "start_time": "2021-09-07T22:30:21.396Z"
   },
   {
    "duration": 175079,
    "start_time": "2021-09-07T22:30:29.291Z"
   },
   {
    "duration": 1120,
    "start_time": "2021-09-07T22:34:29.566Z"
   },
   {
    "duration": 1145,
    "start_time": "2021-09-07T22:34:42.701Z"
   },
   {
    "duration": 1024,
    "start_time": "2021-09-07T22:35:04.319Z"
   },
   {
    "duration": 72814,
    "start_time": "2021-09-07T22:35:13.938Z"
   },
   {
    "duration": 1778498,
    "start_time": "2021-09-07T22:36:42.712Z"
   },
   {
    "duration": 4,
    "start_time": "2021-09-07T23:06:21.212Z"
   },
   {
    "duration": 86,
    "start_time": "2021-09-07T23:07:56.545Z"
   },
   {
    "duration": 51,
    "start_time": "2021-09-07T23:08:02.006Z"
   },
   {
    "duration": 49,
    "start_time": "2021-09-07T23:09:12.990Z"
   },
   {
    "duration": 61,
    "start_time": "2021-09-07T23:09:37.000Z"
   },
   {
    "duration": 1116,
    "start_time": "2021-09-07T23:09:59.182Z"
   },
   {
    "duration": 11,
    "start_time": "2021-09-07T23:11:01.997Z"
   },
   {
    "duration": 720219,
    "start_time": "2021-09-07T23:11:04.753Z"
   },
   {
    "duration": 85,
    "start_time": "2021-09-07T23:30:18.357Z"
   },
   {
    "duration": 85,
    "start_time": "2021-09-07T23:30:25.323Z"
   },
   {
    "duration": 1301,
    "start_time": "2021-09-07T23:43:35.828Z"
   },
   {
    "duration": 595,
    "start_time": "2021-09-07T23:43:37.783Z"
   },
   {
    "duration": 26,
    "start_time": "2021-09-07T23:43:58.264Z"
   },
   {
    "duration": 238,
    "start_time": "2021-09-07T23:44:01.147Z"
   },
   {
    "duration": 2,
    "start_time": "2021-09-07T23:44:03.762Z"
   },
   {
    "duration": 16,
    "start_time": "2021-09-07T23:44:05.107Z"
   },
   {
    "duration": 1312,
    "start_time": "2021-09-07T23:44:14.718Z"
   },
   {
    "duration": 4144,
    "start_time": "2021-09-07T23:44:16.031Z"
   },
   {
    "duration": 3,
    "start_time": "2021-09-07T23:44:21.931Z"
   },
   {
    "duration": 14,
    "start_time": "2021-09-07T23:44:28.123Z"
   },
   {
    "duration": 652,
    "start_time": "2021-09-07T23:44:29.455Z"
   },
   {
    "duration": 1428,
    "start_time": "2021-09-07T23:44:31.713Z"
   },
   {
    "duration": 1083,
    "start_time": "2021-09-07T23:44:38.083Z"
   },
   {
    "duration": 56,
    "start_time": "2021-09-07T23:44:47.863Z"
   },
   {
    "duration": 1095,
    "start_time": "2021-09-07T23:45:00.855Z"
   },
   {
    "duration": 52,
    "start_time": "2021-09-07T23:45:12.639Z"
   },
   {
    "duration": 11,
    "start_time": "2021-09-07T23:45:19.521Z"
   },
   {
    "duration": 716753,
    "start_time": "2021-09-07T23:47:42.210Z"
   },
   {
    "duration": 357,
    "start_time": "2021-09-08T00:04:51.710Z"
   },
   {
    "duration": 270,
    "start_time": "2021-09-08T00:05:28.303Z"
   },
   {
    "duration": 294,
    "start_time": "2021-09-08T00:05:57.860Z"
   },
   {
    "duration": 257,
    "start_time": "2021-09-08T00:06:13.229Z"
   },
   {
    "duration": 254,
    "start_time": "2021-09-08T00:06:19.287Z"
   },
   {
    "duration": 258,
    "start_time": "2021-09-08T00:06:39.630Z"
   },
   {
    "duration": 268,
    "start_time": "2021-09-08T00:06:45.504Z"
   },
   {
    "duration": 268,
    "start_time": "2021-09-08T00:07:31.019Z"
   },
   {
    "duration": 263,
    "start_time": "2021-09-08T00:07:39.710Z"
   },
   {
    "duration": 271,
    "start_time": "2021-09-08T00:07:47.972Z"
   },
   {
    "duration": 396118,
    "start_time": "2021-09-08T00:07:55.311Z"
   },
   {
    "duration": 323108,
    "start_time": "2021-09-08T00:14:39.060Z"
   },
   {
    "duration": 140458,
    "start_time": "2021-09-08T00:20:29.372Z"
   },
   {
    "duration": 218,
    "start_time": "2021-09-08T00:23:05.755Z"
   },
   {
    "duration": 101607,
    "start_time": "2021-09-08T00:23:11.904Z"
   },
   {
    "duration": 174,
    "start_time": "2021-09-08T00:28:07.216Z"
   },
   {
    "duration": 24191,
    "start_time": "2021-09-08T00:28:14.630Z"
   },
   {
    "duration": 1253,
    "start_time": "2021-09-08T00:32:52.839Z"
   },
   {
    "duration": 604,
    "start_time": "2021-09-08T00:32:54.869Z"
   },
   {
    "duration": 27,
    "start_time": "2021-09-08T00:32:56.937Z"
   },
   {
    "duration": 235,
    "start_time": "2021-09-08T00:32:58.040Z"
   },
   {
    "duration": 3,
    "start_time": "2021-09-08T00:33:03.730Z"
   },
   {
    "duration": 16,
    "start_time": "2021-09-08T00:33:18.727Z"
   },
   {
    "duration": 1226,
    "start_time": "2021-09-08T00:33:24.015Z"
   },
   {
    "duration": 4199,
    "start_time": "2021-09-08T00:33:29.504Z"
   },
   {
    "duration": 4,
    "start_time": "2021-09-08T00:33:36.817Z"
   },
   {
    "duration": 13,
    "start_time": "2021-09-08T00:33:43.859Z"
   },
   {
    "duration": 647,
    "start_time": "2021-09-08T00:33:44.689Z"
   },
   {
    "duration": 1707,
    "start_time": "2021-09-08T00:33:46.635Z"
   },
   {
    "duration": 1009,
    "start_time": "2021-09-08T00:33:55.188Z"
   },
   {
    "duration": 1754784,
    "start_time": "2021-09-08T00:33:56.378Z"
   },
   {
    "duration": 3,
    "start_time": "2021-09-08T01:03:11.164Z"
   },
   {
    "duration": 52,
    "start_time": "2021-09-08T01:03:11.169Z"
   },
   {
    "duration": 26,
    "start_time": "2021-09-08T01:03:11.223Z"
   },
   {
    "duration": 717113,
    "start_time": "2021-09-08T01:03:11.251Z"
   },
   {
    "duration": 1545029,
    "start_time": "2021-09-08T01:15:08.365Z"
   },
   {
    "duration": 3,
    "start_time": "2021-09-08T01:40:53.396Z"
   },
   {
    "duration": 279840,
    "start_time": "2021-09-08T01:40:53.401Z"
   },
   {
    "duration": 1917,
    "start_time": "2021-09-08T01:45:33.243Z"
   },
   {
    "duration": 58,
    "start_time": "2021-09-08T05:59:12.936Z"
   },
   {
    "duration": 163,
    "start_time": "2021-09-08T06:00:10.886Z"
   },
   {
    "duration": 277824,
    "start_time": "2021-09-08T06:00:33.240Z"
   },
   {
    "duration": 201,
    "start_time": "2021-09-08T06:08:14.970Z"
   },
   {
    "duration": 1867,
    "start_time": "2021-09-08T06:35:12.776Z"
   },
   {
    "duration": 1040,
    "start_time": "2021-09-08T06:35:19.377Z"
   },
   {
    "duration": 1045,
    "start_time": "2021-09-08T06:36:25.572Z"
   },
   {
    "duration": 5,
    "start_time": "2021-09-08T06:40:06.187Z"
   },
   {
    "duration": 674,
    "start_time": "2021-09-08T06:40:06.566Z"
   },
   {
    "duration": 25,
    "start_time": "2021-09-08T06:40:07.578Z"
   },
   {
    "duration": 185,
    "start_time": "2021-09-08T06:40:08.644Z"
   },
   {
    "duration": 3,
    "start_time": "2021-09-08T06:40:10.762Z"
   },
   {
    "duration": 18,
    "start_time": "2021-09-08T06:40:12.442Z"
   },
   {
    "duration": 1059,
    "start_time": "2021-09-08T06:40:13.686Z"
   },
   {
    "duration": 4194,
    "start_time": "2021-09-08T06:40:15.483Z"
   },
   {
    "duration": 6,
    "start_time": "2021-09-08T06:40:19.679Z"
   },
   {
    "duration": 19,
    "start_time": "2021-09-08T06:40:24.087Z"
   },
   {
    "duration": 997,
    "start_time": "2021-09-08T06:40:25.243Z"
   },
   {
    "duration": 2408,
    "start_time": "2021-09-08T06:40:27.337Z"
   },
   {
    "duration": 3069,
    "start_time": "2021-09-08T06:40:35.073Z"
   },
   {
    "duration": 954,
    "start_time": "2021-09-08T06:41:58.799Z"
   },
   {
    "duration": 49,
    "start_time": "2021-09-08T06:42:21.982Z"
   },
   {
    "duration": 248588,
    "start_time": "2021-09-08T06:42:46.068Z"
   },
   {
    "duration": 1963,
    "start_time": "2021-09-08T06:46:54.658Z"
   },
   {
    "duration": 206,
    "start_time": "2021-09-08T06:51:59.271Z"
   },
   {
    "duration": 1226,
    "start_time": "2021-09-08T06:52:32.304Z"
   },
   {
    "duration": 617,
    "start_time": "2021-09-08T06:52:33.532Z"
   },
   {
    "duration": 25,
    "start_time": "2021-09-08T06:52:34.154Z"
   },
   {
    "duration": 264,
    "start_time": "2021-09-08T06:52:34.181Z"
   },
   {
    "duration": 3,
    "start_time": "2021-09-08T06:52:34.446Z"
   },
   {
    "duration": 37,
    "start_time": "2021-09-08T06:52:34.450Z"
   },
   {
    "duration": 1058,
    "start_time": "2021-09-08T06:52:34.489Z"
   },
   {
    "duration": 4043,
    "start_time": "2021-09-08T06:52:35.550Z"
   },
   {
    "duration": 4,
    "start_time": "2021-09-08T06:52:39.594Z"
   },
   {
    "duration": 15,
    "start_time": "2021-09-08T06:52:39.600Z"
   },
   {
    "duration": 649,
    "start_time": "2021-09-08T06:52:39.616Z"
   },
   {
    "duration": 1580,
    "start_time": "2021-09-08T06:52:40.267Z"
   },
   {
    "duration": 1143,
    "start_time": "2021-09-08T06:52:41.849Z"
   },
   {
    "duration": 1797185,
    "start_time": "2021-09-08T06:52:42.993Z"
   },
   {
    "duration": 3,
    "start_time": "2021-09-08T07:22:40.180Z"
   },
   {
    "duration": 63,
    "start_time": "2021-09-08T07:22:40.185Z"
   },
   {
    "duration": 10,
    "start_time": "2021-09-08T07:22:40.250Z"
   },
   {
    "duration": 710981,
    "start_time": "2021-09-08T07:22:40.261Z"
   },
   {
    "duration": 3181479,
    "start_time": "2021-09-08T07:34:31.244Z"
   },
   {
    "duration": 4,
    "start_time": "2021-09-08T08:27:32.725Z"
   },
   {
    "duration": 324576,
    "start_time": "2021-09-08T08:27:32.730Z"
   },
   {
    "duration": 245,
    "start_time": "2021-09-08T08:32:57.308Z"
   },
   {
    "duration": 251,
    "start_time": "2021-09-08T08:40:55.601Z"
   },
   {
    "duration": 1660,
    "start_time": "2021-09-09T11:11:46.320Z"
   },
   {
    "duration": 734,
    "start_time": "2021-09-09T11:11:47.983Z"
   },
   {
    "duration": 27,
    "start_time": "2021-09-09T11:11:48.720Z"
   },
   {
    "duration": 381,
    "start_time": "2021-09-09T11:11:48.762Z"
   },
   {
    "duration": 3,
    "start_time": "2021-09-09T11:11:49.769Z"
   },
   {
    "duration": 21,
    "start_time": "2021-09-09T11:11:50.927Z"
   },
   {
    "duration": 1560,
    "start_time": "2021-09-09T11:11:51.663Z"
   },
   {
    "duration": 6300,
    "start_time": "2021-09-09T11:11:53.225Z"
   },
   {
    "duration": 6,
    "start_time": "2021-09-09T11:11:59.527Z"
   },
   {
    "duration": 36,
    "start_time": "2021-09-09T11:11:59.535Z"
   },
   {
    "duration": 1043,
    "start_time": "2021-09-09T11:11:59.573Z"
   },
   {
    "duration": 1974,
    "start_time": "2021-09-09T11:12:01.191Z"
   },
   {
    "duration": 1815,
    "start_time": "2021-09-09T11:12:03.935Z"
   },
   {
    "duration": 71,
    "start_time": "2021-09-09T11:12:08.148Z"
   },
   {
    "duration": 6,
    "start_time": "2021-09-09T11:13:56.097Z"
   },
   {
    "duration": 740,
    "start_time": "2021-09-09T11:13:56.578Z"
   },
   {
    "duration": 30,
    "start_time": "2021-09-09T11:13:58.068Z"
   },
   {
    "duration": 295,
    "start_time": "2021-09-09T11:14:01.224Z"
   },
   {
    "duration": 16714,
    "start_time": "2021-09-09T11:14:51.580Z"
   },
   {
    "duration": 65814,
    "start_time": "2021-09-09T11:15:29.354Z"
   },
   {
    "duration": 6,
    "start_time": "2021-09-09T11:17:16.630Z"
   },
   {
    "duration": 10,
    "start_time": "2021-09-09T11:17:22.949Z"
   },
   {
    "duration": 101,
    "start_time": "2021-09-09T11:17:41.204Z"
   },
   {
    "duration": 435,
    "start_time": "2021-09-09T11:17:47.640Z"
   },
   {
    "duration": 82,
    "start_time": "2021-09-09T15:03:05.100Z"
   },
   {
    "duration": 345,
    "start_time": "2021-09-09T15:03:15.974Z"
   },
   {
    "duration": 95,
    "start_time": "2021-09-09T15:03:22.735Z"
   },
   {
    "duration": 252,
    "start_time": "2021-09-09T15:03:39.858Z"
   },
   {
    "duration": 1201,
    "start_time": "2021-09-09T15:03:51.378Z"
   },
   {
    "duration": 1745,
    "start_time": "2021-09-09T15:03:56.981Z"
   },
   {
    "duration": 798,
    "start_time": "2021-09-09T15:03:58.729Z"
   },
   {
    "duration": 38,
    "start_time": "2021-09-09T15:03:59.530Z"
   },
   {
    "duration": 423,
    "start_time": "2021-09-09T15:04:01.271Z"
   },
   {
    "duration": 4,
    "start_time": "2021-09-09T15:04:05.517Z"
   },
   {
    "duration": 3,
    "start_time": "2021-09-09T15:04:07.286Z"
   },
   {
    "duration": 16470,
    "start_time": "2021-09-09T15:04:09.785Z"
   },
   {
    "duration": 68984,
    "start_time": "2021-09-09T15:05:02.510Z"
   },
   {
    "duration": 127,
    "start_time": "2021-09-09T15:06:55.463Z"
   },
   {
    "duration": 6,
    "start_time": "2021-09-09T15:07:02.128Z"
   },
   {
    "duration": 103,
    "start_time": "2021-09-09T15:07:49.721Z"
   },
   {
    "duration": 11355,
    "start_time": "2021-09-09T15:07:52.512Z"
   },
   {
    "duration": 9771,
    "start_time": "2021-09-09T15:11:38.201Z"
   },
   {
    "duration": 71958,
    "start_time": "2021-09-09T15:12:03.160Z"
   },
   {
    "duration": 14544,
    "start_time": "2021-09-09T15:13:21.429Z"
   },
   {
    "duration": 18,
    "start_time": "2021-09-09T15:14:16.625Z"
   },
   {
    "duration": 6,
    "start_time": "2021-09-09T15:16:38.655Z"
   },
   {
    "duration": 14686,
    "start_time": "2021-09-09T15:16:46.588Z"
   },
   {
    "duration": 8,
    "start_time": "2021-09-09T15:17:27.437Z"
   },
   {
    "duration": 14492,
    "start_time": "2021-09-09T15:17:33.077Z"
   },
   {
    "duration": 14886,
    "start_time": "2021-09-09T15:18:06.624Z"
   },
   {
    "duration": 14401,
    "start_time": "2021-09-09T15:18:23.276Z"
   },
   {
    "duration": 6,
    "start_time": "2021-09-09T15:19:25.601Z"
   },
   {
    "duration": 14542,
    "start_time": "2021-09-09T15:19:30.371Z"
   },
   {
    "duration": 914,
    "start_time": "2021-09-09T15:22:09.509Z"
   },
   {
    "duration": 37,
    "start_time": "2021-09-09T15:22:22.543Z"
   },
   {
    "duration": 169510,
    "start_time": "2021-09-09T15:23:09.650Z"
   },
   {
    "duration": 400,
    "start_time": "2021-09-09T15:26:07.149Z"
   },
   {
    "duration": 251,
    "start_time": "2021-09-09T15:27:18.051Z"
   },
   {
    "duration": 345,
    "start_time": "2021-09-09T15:27:25.693Z"
   },
   {
    "duration": 258,
    "start_time": "2021-09-09T15:29:06.039Z"
   },
   {
    "duration": 6,
    "start_time": "2021-09-09T15:29:28.886Z"
   },
   {
    "duration": 269,
    "start_time": "2021-09-09T15:29:53.518Z"
   },
   {
    "duration": 555,
    "start_time": "2021-09-09T15:30:11.867Z"
   },
   {
    "duration": 2701,
    "start_time": "2021-09-09T15:35:27.976Z"
   },
   {
    "duration": 789,
    "start_time": "2021-09-09T15:35:30.679Z"
   },
   {
    "duration": 34,
    "start_time": "2021-09-09T15:35:31.472Z"
   },
   {
    "duration": 423,
    "start_time": "2021-09-09T15:35:31.509Z"
   },
   {
    "duration": 4,
    "start_time": "2021-09-09T15:35:32.098Z"
   },
   {
    "duration": 3,
    "start_time": "2021-09-09T15:35:33.774Z"
   },
   {
    "duration": 16511,
    "start_time": "2021-09-09T15:35:34.898Z"
   },
   {
    "duration": 68156,
    "start_time": "2021-09-09T15:35:51.411Z"
   },
   {
    "duration": 6,
    "start_time": "2021-09-09T15:36:59.569Z"
   },
   {
    "duration": 121,
    "start_time": "2021-09-09T15:36:59.577Z"
   },
   {
    "duration": 11882,
    "start_time": "2021-09-09T15:36:59.700Z"
   },
   {
    "duration": 1759,
    "start_time": "2021-09-09T16:11:20.844Z"
   },
   {
    "duration": 766,
    "start_time": "2021-09-09T16:11:22.605Z"
   },
   {
    "duration": 31,
    "start_time": "2021-09-09T16:11:23.374Z"
   },
   {
    "duration": 378,
    "start_time": "2021-09-09T16:11:24.259Z"
   },
   {
    "duration": 3,
    "start_time": "2021-09-09T16:11:28.244Z"
   },
   {
    "duration": 3,
    "start_time": "2021-09-09T16:11:32.388Z"
   },
   {
    "duration": 16390,
    "start_time": "2021-09-09T16:11:34.499Z"
   },
   {
    "duration": 68135,
    "start_time": "2021-09-09T16:11:50.892Z"
   },
   {
    "duration": 6,
    "start_time": "2021-09-09T16:12:59.030Z"
   },
   {
    "duration": 119,
    "start_time": "2021-09-09T16:12:59.039Z"
   },
   {
    "duration": 11857,
    "start_time": "2021-09-09T16:12:59.166Z"
   },
   {
    "duration": 14641,
    "start_time": "2021-09-09T16:13:11.025Z"
   },
   {
    "duration": 86723,
    "start_time": "2021-09-09T16:14:22.807Z"
   },
   {
    "duration": 1293383,
    "start_time": "2021-09-09T16:15:49.533Z"
   },
   {
    "duration": 5,
    "start_time": "2021-09-09T16:37:22.919Z"
   },
   {
    "duration": 89,
    "start_time": "2021-09-09T16:37:22.926Z"
   },
   {
    "duration": 5865230,
    "start_time": "2021-09-09T16:37:23.017Z"
   },
   {
    "duration": 7,
    "start_time": "2021-09-09T19:19:06.428Z"
   },
   {
    "duration": 802,
    "start_time": "2021-09-09T19:19:07.578Z"
   },
   {
    "duration": 32,
    "start_time": "2021-09-09T19:19:09.820Z"
   },
   {
    "duration": 300,
    "start_time": "2021-09-09T19:19:13.086Z"
   },
   {
    "duration": 3,
    "start_time": "2021-09-09T19:19:16.465Z"
   },
   {
    "duration": 3,
    "start_time": "2021-09-09T19:19:19.705Z"
   },
   {
    "duration": 6801,
    "start_time": "2021-09-09T19:19:59.458Z"
   },
   {
    "duration": 1951,
    "start_time": "2021-09-09T19:20:18.976Z"
   },
   {
    "duration": 854,
    "start_time": "2021-09-09T19:20:20.931Z"
   },
   {
    "duration": 34,
    "start_time": "2021-09-09T19:20:21.788Z"
   },
   {
    "duration": 381,
    "start_time": "2021-09-09T19:20:26.312Z"
   },
   {
    "duration": 3,
    "start_time": "2021-09-09T19:20:43.616Z"
   },
   {
    "duration": 16863,
    "start_time": "2021-09-09T19:20:51.525Z"
   },
   {
    "duration": 71723,
    "start_time": "2021-09-09T19:21:16.791Z"
   },
   {
    "duration": 6,
    "start_time": "2021-09-09T19:22:39.852Z"
   },
   {
    "duration": 108,
    "start_time": "2021-09-09T19:22:44.723Z"
   },
   {
    "duration": 11789,
    "start_time": "2021-09-09T19:22:48.065Z"
   },
   {
    "duration": 14510,
    "start_time": "2021-09-09T19:22:59.857Z"
   },
   {
    "duration": 92757,
    "start_time": "2021-09-09T19:23:32.043Z"
   },
   {
    "duration": 93,
    "start_time": "2021-09-09T19:26:39.527Z"
   },
   {
    "duration": 102545,
    "start_time": "2021-09-09T19:26:46.385Z"
   },
   {
    "duration": 537,
    "start_time": "2021-09-09T19:29:47.697Z"
   },
   {
    "duration": 33490,
    "start_time": "2021-09-09T19:30:13.398Z"
   },
   {
    "duration": 5,
    "start_time": "2021-09-09T19:33:40.461Z"
   },
   {
    "duration": 812,
    "start_time": "2021-09-09T19:34:01.635Z"
   },
   {
    "duration": 863,
    "start_time": "2021-09-09T19:34:08.555Z"
   },
   {
    "duration": 3106150,
    "start_time": "2021-09-09T19:36:24.203Z"
   },
   {
    "duration": 474,
    "start_time": "2021-09-09T20:28:10.356Z"
   },
   {
    "duration": 69,
    "start_time": "2021-09-09T20:29:20.565Z"
   },
   {
    "duration": 3183048,
    "start_time": "2021-09-09T20:29:26.621Z"
   },
   {
    "duration": 304,
    "start_time": "2021-09-09T21:22:39.713Z"
   },
   {
    "duration": 7,
    "start_time": "2021-09-09T21:22:54.689Z"
   },
   {
    "duration": 8,
    "start_time": "2021-09-09T21:23:02.765Z"
   },
   {
    "duration": 243,
    "start_time": "2021-09-09T21:23:26.160Z"
   },
   {
    "duration": 323,
    "start_time": "2021-09-09T21:24:51.000Z"
   },
   {
    "duration": 2941,
    "start_time": "2021-09-09T21:34:51.592Z"
   },
   {
    "duration": 786,
    "start_time": "2021-09-09T21:34:54.536Z"
   },
   {
    "duration": 45,
    "start_time": "2021-09-09T21:34:55.325Z"
   },
   {
    "duration": 389,
    "start_time": "2021-09-09T21:34:55.556Z"
   },
   {
    "duration": 16417,
    "start_time": "2021-09-09T21:35:02.936Z"
   },
   {
    "duration": 68511,
    "start_time": "2021-09-09T21:35:19.357Z"
   },
   {
    "duration": 5,
    "start_time": "2021-09-09T21:36:27.871Z"
   },
   {
    "duration": 126,
    "start_time": "2021-09-09T21:36:27.879Z"
   },
   {
    "duration": 11360,
    "start_time": "2021-09-09T21:36:28.008Z"
   },
   {
    "duration": 9998,
    "start_time": "2021-09-09T21:36:39.370Z"
   },
   {
    "duration": 14600,
    "start_time": "2021-09-09T21:36:49.371Z"
   },
   {
    "duration": 87163,
    "start_time": "2021-09-09T21:37:03.974Z"
   },
   {
    "duration": 95407,
    "start_time": "2021-09-09T21:38:31.140Z"
   },
   {
    "duration": 95104,
    "start_time": "2021-09-09T21:40:51.968Z"
   },
   {
    "duration": 1746,
    "start_time": "2021-09-09T23:07:24.336Z"
   },
   {
    "duration": 793,
    "start_time": "2021-09-09T23:07:26.085Z"
   },
   {
    "duration": 32,
    "start_time": "2021-09-09T23:07:26.884Z"
   },
   {
    "duration": 420,
    "start_time": "2021-09-09T23:07:26.920Z"
   },
   {
    "duration": 3,
    "start_time": "2021-09-09T23:07:27.343Z"
   },
   {
    "duration": 16328,
    "start_time": "2021-09-09T23:07:27.348Z"
   },
   {
    "duration": 67863,
    "start_time": "2021-09-09T23:07:43.679Z"
   },
   {
    "duration": 5,
    "start_time": "2021-09-09T23:08:51.545Z"
   },
   {
    "duration": 114,
    "start_time": "2021-09-09T23:08:51.569Z"
   },
   {
    "duration": 11446,
    "start_time": "2021-09-09T23:08:51.686Z"
   },
   {
    "duration": 9634,
    "start_time": "2021-09-09T23:09:03.135Z"
   },
   {
    "duration": 14399,
    "start_time": "2021-09-09T23:09:12.771Z"
   },
   {
    "duration": 89673,
    "start_time": "2021-09-09T23:09:27.172Z"
   },
   {
    "duration": 98125,
    "start_time": "2021-09-09T23:10:56.847Z"
   },
   {
    "duration": 3029021,
    "start_time": "2021-09-09T23:12:34.974Z"
   },
   {
    "duration": 5,
    "start_time": "2021-09-10T00:03:03.997Z"
   },
   {
    "duration": 805,
    "start_time": "2021-09-10T00:03:04.004Z"
   },
   {
    "duration": 813,
    "start_time": "2021-09-10T00:03:04.811Z"
   },
   {
    "duration": 6,
    "start_time": "2021-09-10T00:03:05.626Z"
   },
   {
    "duration": 5851720,
    "start_time": "2021-09-10T00:03:05.635Z"
   },
   {
    "duration": 88,
    "start_time": "2021-09-10T01:40:37.357Z"
   },
   {
    "duration": -280,
    "start_time": "2021-09-10T01:40:37.728Z"
   },
   {
    "duration": -280,
    "start_time": "2021-09-10T01:40:37.729Z"
   },
   {
    "duration": 5113,
    "start_time": "2021-09-10T05:59:40.854Z"
   },
   {
    "duration": 5024,
    "start_time": "2021-09-10T05:59:45.970Z"
   },
   {
    "duration": 21593110,
    "start_time": "2021-09-10T06:07:59.861Z"
   },
   {
    "duration": -620,
    "start_time": "2021-09-10T12:07:53.593Z"
   },
   {
    "duration": 169892,
    "start_time": "2021-09-10T12:08:50.177Z"
   },
   {
    "duration": 16154,
    "start_time": "2021-09-10T12:12:19.618Z"
   },
   {
    "duration": 308,
    "start_time": "2021-09-10T12:15:29.760Z"
   },
   {
    "duration": 7794,
    "start_time": "2021-09-10T12:15:58.476Z"
   },
   {
    "duration": 96,
    "start_time": "2021-09-10T12:16:48.844Z"
   },
   {
    "duration": 283,
    "start_time": "2021-09-10T12:16:53.524Z"
   },
   {
    "duration": 296,
    "start_time": "2021-09-10T12:18:29.172Z"
   },
   {
    "duration": 119117,
    "start_time": "2021-09-10T12:19:26.086Z"
   },
   {
    "duration": 92846,
    "start_time": "2021-09-10T12:21:32.026Z"
   },
   {
    "duration": 16140,
    "start_time": "2021-09-10T12:24:01.234Z"
   },
   {
    "duration": 76,
    "start_time": "2021-09-10T12:24:39.792Z"
   },
   {
    "duration": 4,
    "start_time": "2021-09-10T12:25:01.484Z"
   },
   {
    "duration": 278,
    "start_time": "2021-09-10T12:25:13.734Z"
   },
   {
    "duration": 487,
    "start_time": "2021-09-10T12:25:29.287Z"
   },
   {
    "duration": 296,
    "start_time": "2021-09-10T12:25:34.186Z"
   },
   {
    "duration": 181505,
    "start_time": "2021-09-10T12:26:31.635Z"
   },
   {
    "duration": 6,
    "start_time": "2021-09-10T12:30:30.949Z"
   },
   {
    "duration": 16274,
    "start_time": "2021-09-10T12:30:40.617Z"
   },
   {
    "duration": 462392,
    "start_time": "2021-09-10T12:31:06.753Z"
   },
   {
    "duration": 15793,
    "start_time": "2021-09-10T12:43:37.475Z"
   },
   {
    "duration": 161217,
    "start_time": "2021-09-10T12:44:53.050Z"
   },
   {
    "duration": 17010,
    "start_time": "2021-09-10T12:48:45.163Z"
   },
   {
    "duration": 794202,
    "start_time": "2021-09-10T12:51:37.233Z"
   },
   {
    "duration": 1778,
    "start_time": "2021-09-10T15:55:49.639Z"
   },
   {
    "duration": 816,
    "start_time": "2021-09-10T15:55:51.419Z"
   },
   {
    "duration": 41,
    "start_time": "2021-09-10T15:55:52.239Z"
   },
   {
    "duration": 404,
    "start_time": "2021-09-10T15:55:52.283Z"
   },
   {
    "duration": 16310,
    "start_time": "2021-09-10T15:57:02.005Z"
   },
   {
    "duration": 69722,
    "start_time": "2021-09-10T15:57:18.318Z"
   },
   {
    "duration": 6,
    "start_time": "2021-09-10T15:58:28.042Z"
   },
   {
    "duration": 131,
    "start_time": "2021-09-10T15:58:28.050Z"
   },
   {
    "duration": 11703,
    "start_time": "2021-09-10T15:58:28.183Z"
   },
   {
    "duration": 14530,
    "start_time": "2021-09-10T15:58:40.543Z"
   },
   {
    "duration": 1714,
    "start_time": "2021-09-10T17:15:17.799Z"
   },
   {
    "duration": 796,
    "start_time": "2021-09-10T17:15:19.516Z"
   },
   {
    "duration": 33,
    "start_time": "2021-09-10T17:15:20.315Z"
   },
   {
    "duration": 409,
    "start_time": "2021-09-10T17:15:20.351Z"
   },
   {
    "duration": 5,
    "start_time": "2021-09-10T17:15:20.762Z"
   },
   {
    "duration": 16394,
    "start_time": "2021-09-10T17:15:20.769Z"
   },
   {
    "duration": 68905,
    "start_time": "2021-09-10T17:15:37.168Z"
   },
   {
    "duration": 6,
    "start_time": "2021-09-10T17:16:46.076Z"
   },
   {
    "duration": 126,
    "start_time": "2021-09-10T17:16:46.084Z"
   },
   {
    "duration": 11397,
    "start_time": "2021-09-10T17:16:46.213Z"
   },
   {
    "duration": 14656,
    "start_time": "2021-09-10T17:16:57.612Z"
   },
   {
    "duration": 1158628,
    "start_time": "2021-09-10T17:17:12.271Z"
   },
   {
    "duration": 17167,
    "start_time": "2021-09-10T17:36:30.903Z"
   },
   {
    "duration": 89679,
    "start_time": "2021-09-10T17:36:48.072Z"
   },
   {
    "duration": 98028,
    "start_time": "2021-09-10T17:38:17.753Z"
   },
   {
    "duration": 3125505,
    "start_time": "2021-09-10T17:39:55.784Z"
   },
   {
    "duration": 5,
    "start_time": "2021-09-10T18:32:01.292Z"
   },
   {
    "duration": 5299,
    "start_time": "2021-09-10T18:32:01.299Z"
   },
   {
    "duration": 7,
    "start_time": "2021-09-10T18:32:06.601Z"
   },
   {
    "duration": 5804298,
    "start_time": "2021-09-10T18:32:06.611Z"
   },
   {
    "duration": 314,
    "start_time": "2021-09-10T20:25:27.579Z"
   },
   {
    "duration": 1704,
    "start_time": "2021-09-10T20:25:32.608Z"
   },
   {
    "duration": 776,
    "start_time": "2021-09-10T20:25:34.315Z"
   },
   {
    "duration": 32,
    "start_time": "2021-09-10T20:25:35.094Z"
   },
   {
    "duration": 384,
    "start_time": "2021-09-10T20:25:39.387Z"
   },
   {
    "duration": 3,
    "start_time": "2021-09-10T20:25:44.208Z"
   },
   {
    "duration": 16349,
    "start_time": "2021-09-10T20:25:45.763Z"
   },
   {
    "duration": 68539,
    "start_time": "2021-09-10T20:26:02.116Z"
   },
   {
    "duration": 11,
    "start_time": "2021-09-10T20:27:10.658Z"
   },
   {
    "duration": 121,
    "start_time": "2021-09-10T20:27:10.672Z"
   },
   {
    "duration": 11391,
    "start_time": "2021-09-10T20:27:10.796Z"
   },
   {
    "duration": 14515,
    "start_time": "2021-09-10T20:27:29.952Z"
   },
   {
    "duration": 1777,
    "start_time": "2021-09-10T21:14:25.837Z"
   },
   {
    "duration": 819,
    "start_time": "2021-09-10T21:14:27.616Z"
   },
   {
    "duration": 38,
    "start_time": "2021-09-10T21:14:28.438Z"
   },
   {
    "duration": 408,
    "start_time": "2021-09-10T21:14:28.479Z"
   },
   {
    "duration": 4,
    "start_time": "2021-09-10T21:14:28.889Z"
   },
   {
    "duration": 16557,
    "start_time": "2021-09-10T21:14:28.895Z"
   },
   {
    "duration": 68677,
    "start_time": "2021-09-10T21:14:45.454Z"
   },
   {
    "duration": 6,
    "start_time": "2021-09-10T21:15:54.135Z"
   },
   {
    "duration": 125,
    "start_time": "2021-09-10T21:15:54.144Z"
   },
   {
    "duration": 12130,
    "start_time": "2021-09-10T21:15:54.272Z"
   },
   {
    "duration": 14467,
    "start_time": "2021-09-10T21:16:06.405Z"
   },
   {
    "duration": 2219175,
    "start_time": "2021-09-10T21:16:20.875Z"
   },
   {
    "duration": -893,
    "start_time": "2021-09-10T21:53:20.946Z"
   },
   {
    "duration": -895,
    "start_time": "2021-09-10T21:53:20.949Z"
   },
   {
    "duration": -897,
    "start_time": "2021-09-10T21:53:20.952Z"
   },
   {
    "duration": -899,
    "start_time": "2021-09-10T21:53:20.955Z"
   },
   {
    "duration": -902,
    "start_time": "2021-09-10T21:53:20.959Z"
   },
   {
    "duration": -904,
    "start_time": "2021-09-10T21:53:20.963Z"
   },
   {
    "duration": -906,
    "start_time": "2021-09-10T21:53:20.966Z"
   },
   {
    "duration": -907,
    "start_time": "2021-09-10T21:53:20.969Z"
   },
   {
    "duration": -909,
    "start_time": "2021-09-10T21:53:20.972Z"
   },
   {
    "duration": 4645,
    "start_time": "2021-09-10T22:35:49.902Z"
   },
   {
    "duration": 17141,
    "start_time": "2021-09-10T22:36:01.913Z"
   },
   {
    "duration": 5366,
    "start_time": "2021-09-10T22:36:24.924Z"
   },
   {
    "duration": 86714,
    "start_time": "2021-09-10T22:36:34.505Z"
   },
   {
    "duration": 97961,
    "start_time": "2021-09-10T22:38:01.222Z"
   },
   {
    "duration": 54193,
    "start_time": "2021-09-10T22:39:39.186Z"
   },
   {
    "duration": 6,
    "start_time": "2021-09-10T22:40:33.381Z"
   }
  ],
  "kernelspec": {
   "display_name": "Python 3 (ipykernel)",
   "language": "python",
   "name": "python3"
  },
  "language_info": {
   "codemirror_mode": {
    "name": "ipython",
    "version": 3
   },
   "file_extension": ".py",
   "mimetype": "text/x-python",
   "name": "python",
   "nbconvert_exporter": "python",
   "pygments_lexer": "ipython3",
   "version": "3.9.12"
  },
  "toc": {
   "base_numbering": 1,
   "nav_menu": {},
   "number_sections": true,
   "sideBar": true,
   "skip_h1_title": true,
   "title_cell": "Содержание",
   "title_sidebar": "Contents",
   "toc_cell": true,
   "toc_position": {
    "height": "calc(100% - 180px)",
    "left": "10px",
    "top": "150px",
    "width": "302.391px"
   },
   "toc_section_display": true,
   "toc_window_display": false
  }
 },
 "nbformat": 4,
 "nbformat_minor": 2
}
