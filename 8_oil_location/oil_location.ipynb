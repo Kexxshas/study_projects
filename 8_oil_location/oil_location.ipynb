{
 "cells": [
  {
   "cell_type": "markdown",
   "metadata": {},
   "source": [
    "Привет, меня зовут Люман Аблаев. Сегодня я проверю твой проект.\n",
    "<br> Дальнейшее общение будет происходить на \"ты\" если это не вызывает никаких проблем.\n",
    "<br> Желательно реагировать на каждый мой комментарий ('исправил', 'не понятно как исправить ошибку', ...)\n",
    "<br> Пожалуйста, не удаляй комментарии ревьюера, так как они повышают качество повторного ревью.\n",
    "\n",
    "Комментарии будут в <font color='green'>зеленой</font>, <font color='blue'>синей</font> или <font color='red'>красной</font> рамках:\n",
    "\n",
    "<div class=\"alert alert-block alert-success\">\n",
    "<b>Успех:</b> Если все сделано отлично\n",
    "</div>\n",
    "\n",
    "<div class=\"alert alert-block alert-info\">\n",
    "<b>Совет: </b> Если можно немного улучшить\n",
    "</div>\n",
    "\n",
    "<div class=\"alert alert-block alert-danger\">\n",
    "<b>Ошибка:</b> Если требуются исправления. Работа не может быть принята с красными комментариями.\n",
    "</div>\n",
    "\n",
    "\n",
    "<font color='orange' style='font-size:24px; font-weight:bold'>Общее впечатление</font>\n",
    "* Спасибо за то, что прислал такую хорошую работу, видно, что приложено много услий!\n",
    "* Проект достаточно аккуратный, хоть и можно было бы использовать побольше функций или циклов.\n",
    "* Я оставил некоторые советы - надеюсь они будут интересны.\n",
    "* Ты освоил технику бутстрап и применил ее корректно!\n",
    "- В работе есть небольшие недочеты, но думаю ты легко с ними справишься.\n",
    "- Жду твой обновленный проект.\n",
    "\n",
    "<font color='orange' style='font-size:24px; font-weight:bold'>Общее впечатление[2]</font>\n",
    "* Спасибо за оперативные правки своей работы.\n",
    "- Радует, что ты прислушиваешься к советам, проект стал выглядить намного лакончинее.\n",
    "- В целом каждый шаг выглядит законченным, тема тобою изучена и тебе удалось достичь правильного результат - был выбран корректный регион.\n",
    "- Поэтому я с радостью принимаю эту работу, и желаю удачи тебе в дальнейшем обучении.\n",
    "- Продолжай в том же духе!"
   ]
  },
  {
   "cell_type": "markdown",
   "metadata": {},
   "source": [
    "# Выбор локации для скважины"
   ]
  },
  {
   "cell_type": "markdown",
   "metadata": {},
   "source": [
    "Допустим, вы работаете в добывающей компании «ГлавРосГосНефть». Нужно решить, где бурить новую скважину.\n",
    "\n",
    "Вам предоставлены пробы нефти в трёх регионах: в каждом 10 000 месторождений, где измерили качество нефти и объём её запасов. Постройте модель машинного обучения, которая поможет определить регион, где добыча принесёт наибольшую прибыль. Проанализируйте возможную прибыль и риски техникой *Bootstrap.*\n",
    "\n",
    "Шаги для выбора локации:\n",
    "\n",
    "- В избранном регионе ищут месторождения, для каждого определяют значения признаков;\n",
    "- Строят модель и оценивают объём запасов;\n",
    "- Выбирают месторождения с самым высокими оценками значений. Количество месторождений зависит от бюджета компании и стоимости разработки одной скважины;\n",
    "- Прибыль равна суммарной прибыли отобранных месторождений."
   ]
  },
  {
   "cell_type": "markdown",
   "metadata": {},
   "source": [
    "## Цель: <a class = \"tocSkip\"> \n",
    "    \n",
    "Определить регион, где наиболее целесообразно начать разработку нефтяных скважин.\n",
    "    \n",
    "## Задачи проекта: <a class = \"tocSkip\"> \n",
    "- подготовить данные к работе;\n",
    "- построить модель на основе линейной регрессии (т.к. наиболее интерпретируемая)\n",
    "- рассчитать основные финансовые показатели по каждому региону: минимальный объём запасов для безубыточной деятельности, фактические и прогнозные выручку, прибыль, рентабельность инвестиций.\n",
    "- посчитать риски убытков для каждого региона\n",
    "- применить бутстрап для определения 95% доверительного интервала\n",
    "- провести анализ наиболее перспективного для разработки региона."
   ]
  },
  {
   "cell_type": "markdown",
   "metadata": {},
   "source": [
    "<div class=\"alert alert-block alert-success\">\n",
    "<b>Успех:</b> Спасибо за подробное описание проекта\n",
    "</div>"
   ]
  },
  {
   "cell_type": "markdown",
   "metadata": {},
   "source": [
    "## Загрузка и подготовка данных"
   ]
  },
  {
   "cell_type": "code",
   "execution_count": 1,
   "metadata": {},
   "outputs": [],
   "source": [
    "import pandas as pd\n",
    "import numpy as np\n",
    "import matplotlib.pyplot as plt\n",
    "from sklearn.linear_model import LinearRegression\n",
    "from sklearn.model_selection import train_test_split\n",
    "from sklearn.metrics import mean_squared_error\n",
    "from numpy.random import RandomState\n",
    "from sklearn.preprocessing import StandardScaler\n",
    "pd.options.mode.chained_assignment = None"
   ]
  },
  {
   "cell_type": "markdown",
   "metadata": {},
   "source": [
    "<div class=\"alert alert-block alert-success\">\n",
    "<b>Успех:</b> Молодец, что собираешь все импорты  в начале проекта\n",
    "</div>"
   ]
  },
  {
   "cell_type": "code",
   "execution_count": 2,
   "metadata": {},
   "outputs": [],
   "source": [
    "data_0 = pd.read_csv('/datasets/geo_data_0.csv')\n",
    "data_1 = pd.read_csv('/datasets/geo_data_1.csv')\n",
    "data_2 = pd.read_csv('/datasets/geo_data_2.csv')"
   ]
  },
  {
   "cell_type": "code",
   "execution_count": 3,
   "metadata": {},
   "outputs": [
    {
     "name": "stdout",
     "output_type": "stream",
     "text": [
      "<class 'pandas.core.frame.DataFrame'>\n",
      "RangeIndex: 100000 entries, 0 to 99999\n",
      "Data columns (total 5 columns):\n",
      " #   Column   Non-Null Count   Dtype  \n",
      "---  ------   --------------   -----  \n",
      " 0   id       100000 non-null  object \n",
      " 1   f0       100000 non-null  float64\n",
      " 2   f1       100000 non-null  float64\n",
      " 3   f2       100000 non-null  float64\n",
      " 4   product  100000 non-null  float64\n",
      "dtypes: float64(4), object(1)\n",
      "memory usage: 3.8+ MB\n",
      "<class 'pandas.core.frame.DataFrame'>\n",
      "RangeIndex: 100000 entries, 0 to 99999\n",
      "Data columns (total 5 columns):\n",
      " #   Column   Non-Null Count   Dtype  \n",
      "---  ------   --------------   -----  \n",
      " 0   id       100000 non-null  object \n",
      " 1   f0       100000 non-null  float64\n",
      " 2   f1       100000 non-null  float64\n",
      " 3   f2       100000 non-null  float64\n",
      " 4   product  100000 non-null  float64\n",
      "dtypes: float64(4), object(1)\n",
      "memory usage: 3.8+ MB\n",
      "<class 'pandas.core.frame.DataFrame'>\n",
      "RangeIndex: 100000 entries, 0 to 99999\n",
      "Data columns (total 5 columns):\n",
      " #   Column   Non-Null Count   Dtype  \n",
      "---  ------   --------------   -----  \n",
      " 0   id       100000 non-null  object \n",
      " 1   f0       100000 non-null  float64\n",
      " 2   f1       100000 non-null  float64\n",
      " 3   f2       100000 non-null  float64\n",
      " 4   product  100000 non-null  float64\n",
      "dtypes: float64(4), object(1)\n",
      "memory usage: 3.8+ MB\n"
     ]
    },
    {
     "data": {
      "text/plain": [
       "(None, None, None)"
      ]
     },
     "execution_count": 3,
     "metadata": {},
     "output_type": "execute_result"
    }
   ],
   "source": [
    "data_0.info(), \\\n",
    "data_1.info(), \\\n",
    "data_2.info()"
   ]
  },
  {
   "cell_type": "code",
   "execution_count": 4,
   "metadata": {},
   "outputs": [
    {
     "data": {
      "text/html": [
       "<div>\n",
       "<style scoped>\n",
       "    .dataframe tbody tr th:only-of-type {\n",
       "        vertical-align: middle;\n",
       "    }\n",
       "\n",
       "    .dataframe tbody tr th {\n",
       "        vertical-align: top;\n",
       "    }\n",
       "\n",
       "    .dataframe thead th {\n",
       "        text-align: right;\n",
       "    }\n",
       "</style>\n",
       "<table border=\"1\" class=\"dataframe\">\n",
       "  <thead>\n",
       "    <tr style=\"text-align: right;\">\n",
       "      <th></th>\n",
       "      <th>id</th>\n",
       "      <th>f0</th>\n",
       "      <th>f1</th>\n",
       "      <th>f2</th>\n",
       "      <th>product</th>\n",
       "    </tr>\n",
       "  </thead>\n",
       "  <tbody>\n",
       "    <tr>\n",
       "      <td>0</td>\n",
       "      <td>txEyH</td>\n",
       "      <td>0.705745</td>\n",
       "      <td>-0.497823</td>\n",
       "      <td>1.221170</td>\n",
       "      <td>105.280062</td>\n",
       "    </tr>\n",
       "    <tr>\n",
       "      <td>1</td>\n",
       "      <td>2acmU</td>\n",
       "      <td>1.334711</td>\n",
       "      <td>-0.340164</td>\n",
       "      <td>4.365080</td>\n",
       "      <td>73.037750</td>\n",
       "    </tr>\n",
       "    <tr>\n",
       "      <td>2</td>\n",
       "      <td>409Wp</td>\n",
       "      <td>1.022732</td>\n",
       "      <td>0.151990</td>\n",
       "      <td>1.419926</td>\n",
       "      <td>85.265647</td>\n",
       "    </tr>\n",
       "    <tr>\n",
       "      <td>3</td>\n",
       "      <td>iJLyR</td>\n",
       "      <td>-0.032172</td>\n",
       "      <td>0.139033</td>\n",
       "      <td>2.978566</td>\n",
       "      <td>168.620776</td>\n",
       "    </tr>\n",
       "    <tr>\n",
       "      <td>4</td>\n",
       "      <td>Xdl7t</td>\n",
       "      <td>1.988431</td>\n",
       "      <td>0.155413</td>\n",
       "      <td>4.751769</td>\n",
       "      <td>154.036647</td>\n",
       "    </tr>\n",
       "  </tbody>\n",
       "</table>\n",
       "</div>"
      ],
      "text/plain": [
       "      id        f0        f1        f2     product\n",
       "0  txEyH  0.705745 -0.497823  1.221170  105.280062\n",
       "1  2acmU  1.334711 -0.340164  4.365080   73.037750\n",
       "2  409Wp  1.022732  0.151990  1.419926   85.265647\n",
       "3  iJLyR -0.032172  0.139033  2.978566  168.620776\n",
       "4  Xdl7t  1.988431  0.155413  4.751769  154.036647"
      ]
     },
     "execution_count": 4,
     "metadata": {},
     "output_type": "execute_result"
    }
   ],
   "source": [
    "data_0.head()"
   ]
  },
  {
   "cell_type": "code",
   "execution_count": 5,
   "metadata": {},
   "outputs": [
    {
     "data": {
      "text/plain": [
       "Index(['id', 'f0', 'f1', 'f2', 'product'], dtype='object')"
      ]
     },
     "execution_count": 5,
     "metadata": {},
     "output_type": "execute_result"
    }
   ],
   "source": [
    "data_0.columns"
   ]
  },
  {
   "cell_type": "code",
   "execution_count": 6,
   "metadata": {},
   "outputs": [
    {
     "data": {
      "text/html": [
       "<div>\n",
       "<style scoped>\n",
       "    .dataframe tbody tr th:only-of-type {\n",
       "        vertical-align: middle;\n",
       "    }\n",
       "\n",
       "    .dataframe tbody tr th {\n",
       "        vertical-align: top;\n",
       "    }\n",
       "\n",
       "    .dataframe thead th {\n",
       "        text-align: right;\n",
       "    }\n",
       "</style>\n",
       "<table border=\"1\" class=\"dataframe\">\n",
       "  <thead>\n",
       "    <tr style=\"text-align: right;\">\n",
       "      <th></th>\n",
       "      <th>id</th>\n",
       "      <th>f0</th>\n",
       "      <th>f1</th>\n",
       "      <th>f2</th>\n",
       "      <th>product</th>\n",
       "    </tr>\n",
       "  </thead>\n",
       "  <tbody>\n",
       "    <tr>\n",
       "      <td>0</td>\n",
       "      <td>kBEdx</td>\n",
       "      <td>-15.001348</td>\n",
       "      <td>-8.276000</td>\n",
       "      <td>-0.005876</td>\n",
       "      <td>3.179103</td>\n",
       "    </tr>\n",
       "    <tr>\n",
       "      <td>1</td>\n",
       "      <td>62mP7</td>\n",
       "      <td>14.272088</td>\n",
       "      <td>-3.475083</td>\n",
       "      <td>0.999183</td>\n",
       "      <td>26.953261</td>\n",
       "    </tr>\n",
       "    <tr>\n",
       "      <td>2</td>\n",
       "      <td>vyE1P</td>\n",
       "      <td>6.263187</td>\n",
       "      <td>-5.948386</td>\n",
       "      <td>5.001160</td>\n",
       "      <td>134.766305</td>\n",
       "    </tr>\n",
       "    <tr>\n",
       "      <td>3</td>\n",
       "      <td>KcrkZ</td>\n",
       "      <td>-13.081196</td>\n",
       "      <td>-11.506057</td>\n",
       "      <td>4.999415</td>\n",
       "      <td>137.945408</td>\n",
       "    </tr>\n",
       "    <tr>\n",
       "      <td>4</td>\n",
       "      <td>AHL4O</td>\n",
       "      <td>12.702195</td>\n",
       "      <td>-8.147433</td>\n",
       "      <td>5.004363</td>\n",
       "      <td>134.766305</td>\n",
       "    </tr>\n",
       "  </tbody>\n",
       "</table>\n",
       "</div>"
      ],
      "text/plain": [
       "      id         f0         f1        f2     product\n",
       "0  kBEdx -15.001348  -8.276000 -0.005876    3.179103\n",
       "1  62mP7  14.272088  -3.475083  0.999183   26.953261\n",
       "2  vyE1P   6.263187  -5.948386  5.001160  134.766305\n",
       "3  KcrkZ -13.081196 -11.506057  4.999415  137.945408\n",
       "4  AHL4O  12.702195  -8.147433  5.004363  134.766305"
      ]
     },
     "execution_count": 6,
     "metadata": {},
     "output_type": "execute_result"
    }
   ],
   "source": [
    "data_1.head()"
   ]
  },
  {
   "cell_type": "code",
   "execution_count": 7,
   "metadata": {},
   "outputs": [
    {
     "data": {
      "text/html": [
       "<div>\n",
       "<style scoped>\n",
       "    .dataframe tbody tr th:only-of-type {\n",
       "        vertical-align: middle;\n",
       "    }\n",
       "\n",
       "    .dataframe tbody tr th {\n",
       "        vertical-align: top;\n",
       "    }\n",
       "\n",
       "    .dataframe thead th {\n",
       "        text-align: right;\n",
       "    }\n",
       "</style>\n",
       "<table border=\"1\" class=\"dataframe\">\n",
       "  <thead>\n",
       "    <tr style=\"text-align: right;\">\n",
       "      <th></th>\n",
       "      <th>id</th>\n",
       "      <th>f0</th>\n",
       "      <th>f1</th>\n",
       "      <th>f2</th>\n",
       "      <th>product</th>\n",
       "    </tr>\n",
       "  </thead>\n",
       "  <tbody>\n",
       "    <tr>\n",
       "      <td>0</td>\n",
       "      <td>fwXo0</td>\n",
       "      <td>-1.146987</td>\n",
       "      <td>0.963328</td>\n",
       "      <td>-0.828965</td>\n",
       "      <td>27.758673</td>\n",
       "    </tr>\n",
       "    <tr>\n",
       "      <td>1</td>\n",
       "      <td>WJtFt</td>\n",
       "      <td>0.262778</td>\n",
       "      <td>0.269839</td>\n",
       "      <td>-2.530187</td>\n",
       "      <td>56.069697</td>\n",
       "    </tr>\n",
       "    <tr>\n",
       "      <td>2</td>\n",
       "      <td>ovLUW</td>\n",
       "      <td>0.194587</td>\n",
       "      <td>0.289035</td>\n",
       "      <td>-5.586433</td>\n",
       "      <td>62.871910</td>\n",
       "    </tr>\n",
       "    <tr>\n",
       "      <td>3</td>\n",
       "      <td>q6cA6</td>\n",
       "      <td>2.236060</td>\n",
       "      <td>-0.553760</td>\n",
       "      <td>0.930038</td>\n",
       "      <td>114.572842</td>\n",
       "    </tr>\n",
       "    <tr>\n",
       "      <td>4</td>\n",
       "      <td>WPMUX</td>\n",
       "      <td>-0.515993</td>\n",
       "      <td>1.716266</td>\n",
       "      <td>5.899011</td>\n",
       "      <td>149.600746</td>\n",
       "    </tr>\n",
       "  </tbody>\n",
       "</table>\n",
       "</div>"
      ],
      "text/plain": [
       "      id        f0        f1        f2     product\n",
       "0  fwXo0 -1.146987  0.963328 -0.828965   27.758673\n",
       "1  WJtFt  0.262778  0.269839 -2.530187   56.069697\n",
       "2  ovLUW  0.194587  0.289035 -5.586433   62.871910\n",
       "3  q6cA6  2.236060 -0.553760  0.930038  114.572842\n",
       "4  WPMUX -0.515993  1.716266  5.899011  149.600746"
      ]
     },
     "execution_count": 7,
     "metadata": {},
     "output_type": "execute_result"
    }
   ],
   "source": [
    "data_2.head()"
   ]
  },
  {
   "cell_type": "markdown",
   "metadata": {},
   "source": [
    "Для анализа предоставлены данные по пробам нефти в трёх регионах. В каждом датафрейме имеется по 100 тысяч записей."
   ]
  },
  {
   "cell_type": "code",
   "execution_count": 8,
   "metadata": {},
   "outputs": [
    {
     "data": {
      "image/png": "[encoded data removed]",
      "text/plain": [
       "<Figure size 576x576 with 3 Axes>"
      ]
     },
     "metadata": {
      "needs_background": "light"
     },
     "output_type": "display_data"
    }
   ],
   "source": [
    "fig, ax = plt.subplots(nrows=3, figsize=(8,8))\n",
    "\n",
    "ax[0].hist(data_0['product'], bins = 15)\n",
    "ax[1].hist(data_1['product'], bins = 15)\n",
    "ax[2].hist(data_2['product'], bins = 15)\n",
    "\n",
    "plt.show()"
   ]
  },
  {
   "cell_type": "code",
   "execution_count": 9,
   "metadata": {},
   "outputs": [
    {
     "data": {
      "text/plain": [
       "12"
      ]
     },
     "execution_count": 9,
     "metadata": {},
     "output_type": "execute_result"
    }
   ],
   "source": [
    "data_1['product'].nunique()"
   ]
  },
  {
   "cell_type": "markdown",
   "metadata": {},
   "source": [
    "Как видно из графиков по трём регионам, объёмы запасов в первом и третьем регионах имеет нормальное распределение, во втором регионе имеется всего несколько значений объёмов запасов, на которые приходятся все исследования, что может свидетельствовать о наличии ошибок при сборе данных во втором регионе, или, как в нашем случае, что данные синтетические."
   ]
  },
  {
   "cell_type": "code",
   "execution_count": 10,
   "metadata": {},
   "outputs": [
    {
     "data": {
      "text/plain": [
       "0"
      ]
     },
     "execution_count": 10,
     "metadata": {},
     "output_type": "execute_result"
    }
   ],
   "source": [
    "data_0.duplicated().sum(), \\\n",
    "data_1.duplicated().sum()\n",
    "data_2.duplicated().sum()"
   ]
  },
  {
   "cell_type": "code",
   "execution_count": 11,
   "metadata": {},
   "outputs": [
    {
     "data": {
      "text/plain": [
       "(id         0\n",
       " f0         0\n",
       " f1         0\n",
       " f2         0\n",
       " product    0\n",
       " dtype: int64,\n",
       " id         0\n",
       " f0         0\n",
       " f1         0\n",
       " f2         0\n",
       " product    0\n",
       " dtype: int64,\n",
       " id         0\n",
       " f0         0\n",
       " f1         0\n",
       " f2         0\n",
       " product    0\n",
       " dtype: int64)"
      ]
     },
     "execution_count": 11,
     "metadata": {},
     "output_type": "execute_result"
    }
   ],
   "source": [
    "data_0.isna().sum(), \\\n",
    "data_1.isna().sum(), \\\n",
    "data_2.isna().sum()"
   ]
  },
  {
   "cell_type": "markdown",
   "metadata": {},
   "source": [
    "Пропуски или дубликаты в исследуемых данных отсутствуют."
   ]
  },
  {
   "cell_type": "markdown",
   "metadata": {},
   "source": [
    "<div class=\"alert alert-block alert-success\">\n",
    "<b>Успех:</b> Загрузка данных и первичный анализ сделаны корректно\n",
    "</div>"
   ]
  },
  {
   "cell_type": "markdown",
   "metadata": {},
   "source": [
    "## Обучение и проверка модели"
   ]
  },
  {
   "cell_type": "markdown",
   "metadata": {},
   "source": [
    "Разделим все данные на обучающую и валидационную выборки. Обучим модели на основе линейной регрессии для каждого региона."
   ]
  },
  {
   "cell_type": "code",
   "execution_count": 12,
   "metadata": {},
   "outputs": [],
   "source": [
    "# features= data_0.drop(['id','product'], axis=1) \n",
    "# target= data_0['product']\n",
    "\n",
    "# features_train_0, features_val_0, target_train_0, target_val_0 \\\n",
    "#     = train_test_split(features, target, test_size=0.25, random_state=1)\n",
    "# features_train_0.shape, \\\n",
    "# features_val_0.shape\n",
    "\n",
    "# features= data_1.drop(['id','product'], axis=1) \n",
    "# target= data_1['product']\n",
    "\n",
    "# features_train_1, features_val_1, target_train_1, target_val_1 \\\n",
    "#     = train_test_split(features, target, test_size=0.25, random_state=1)\n",
    "# features_train_1.shape, \\\n",
    "# features_val_1.shape\n",
    "\n",
    "# features= data_2.drop(['id','product'], axis=1) \n",
    "# target= data_2['product']\n",
    "\n",
    "# features_train_2, features_val_2, target_train_2, target_val_2 \\\n",
    "#     = train_test_split(features, target, test_size=0.25, random_state=1)\n",
    "# features_train_2.shape, \\\n",
    "# features_val_2.shape"
   ]
  },
  {
   "cell_type": "code",
   "execution_count": 13,
   "metadata": {},
   "outputs": [],
   "source": [
    "# функция для сплита датафрэймов и обучения моделей\n",
    "def func(data):\n",
    "    # разделим датафрейм на обучающую и валидационную выборки\n",
    "    features = data.drop(['id','product'], axis=1) \n",
    "    target= data['product']\n",
    "    features_train, features_val, target_train, target_val = train_test_split(features, target, test_size=0.25, random_state=1)\n",
    "    # масштабируем имеющиеся данные \n",
    "    numeric = ['f0', 'f1', 'f2']\n",
    "    scaler = StandardScaler()\n",
    "    scaler.fit(features_train[numeric])\n",
    "    features_train[numeric] = scaler.transform(features_train[numeric])\n",
    "    features_val[numeric]= scaler.transform(features_val[numeric])\n",
    "    # обучим модель\n",
    "    model = LinearRegression()\n",
    "    model.fit(features_train, target_train)\n",
    "    predicted = model.predict(features_val)\n",
    "    predicted_mean = predicted.mean()\n",
    "    rmse = mean_squared_error(target_val, predicted)**0.5\n",
    "    return features_train, features_val, target_train, target_val, predicted, predicted_mean, rmse"
   ]
  },
  {
   "cell_type": "code",
   "execution_count": 14,
   "metadata": {},
   "outputs": [
    {
     "name": "stdout",
     "output_type": "stream",
     "text": [
      "Среднее значение фактических объемов запасов в первом регионе на валидационной выборке: 92.42 тыс. баррелей.\n",
      "Среднее значение предсказанных объемов запасов в первом регионе: 92.49 тыс. баррелей.\n",
      "RMSE на валидационной выборке по первому региону 37.74 тыс. баррелей.\n"
     ]
    }
   ],
   "source": [
    "features_train_0, features_val_0, target_train_0,target_val_0, \\\n",
    "predicted_0, predicted_mean_0, rmse_0 = func(data_0)\n",
    "print(\"Среднее значение фактических объемов запасов в первом регионе на валидационной выборке:\",\n",
    "      round(target_val_0.mean(), 2), \"тыс. баррелей.\")\n",
    "print(\"Среднее значение предсказанных объемов запасов в первом регионе:\",\n",
    "      round(predicted_mean_0, 2), \"тыс. баррелей.\")\n",
    "print(\"RMSE на валидационной выборке по первому региону\",  round(rmse_0, 2), \"тыс. баррелей.\")"
   ]
  },
  {
   "cell_type": "code",
   "execution_count": 15,
   "metadata": {},
   "outputs": [
    {
     "name": "stdout",
     "output_type": "stream",
     "text": [
      "Среднее значение фактических запасов во втором регионе на валидационной выборке: 69.12 тыс. баррелей.\n",
      "Среднее значение предсказанных запасов во втором регионе: 69.12 тыс. баррелей.\n",
      "RMSE на валидационной выборке по второму региону 0.89 тыс. баррелей.\n"
     ]
    }
   ],
   "source": [
    "features_train_1, features_val_1, target_train_1,target_val_1, \\\n",
    "predicted_1, predicted_mean_1, rmse_1 = func(data_1)\n",
    "print(\"Среднее значение фактических запасов во втором регионе на валидационной выборке:\",\n",
    "      round(target_val_1.mean(), 2), \"тыс. баррелей.\")\n",
    "print(\"Среднее значение предсказанных запасов во втором регионе:\",\n",
    "      round(predicted_mean_1, 2), \"тыс. баррелей.\")\n",
    "print(\"RMSE на валидационной выборке по второму региону\",  round(rmse_1, 2), \"тыс. баррелей.\")"
   ]
  },
  {
   "cell_type": "code",
   "execution_count": 16,
   "metadata": {},
   "outputs": [
    {
     "name": "stdout",
     "output_type": "stream",
     "text": [
      "Среднее значение фактических запасов в третьем регионе на валидационной выборке: 95.25 тыс. баррелей.\n",
      "Среднее значение предсказанных запасов в третьем регионе: 94.96 тыс. баррелей.\n",
      "RMSE на валидационной выборке по третьему региону 39.87 тыс. баррелей.\n"
     ]
    }
   ],
   "source": [
    "features_train_2, features_val_2, target_train_2,target_val_2, \\\n",
    "predicted_2, predicted_mean_2, rmse_2 = func(data_2)\n",
    "print(\"Среднее значение фактических запасов в третьем регионе на валидационной выборке:\",\n",
    "      round(target_val_2.mean(), 2), \"тыс. баррелей.\")\n",
    "print(\"Среднее значение предсказанных запасов в третьем регионе:\",\n",
    "      round(predicted_mean_2, 2), \"тыс. баррелей.\")\n",
    "print(\"RMSE на валидационной выборке по третьему региону\",  round(rmse_2, 2), \"тыс. баррелей.\")"
   ]
  },
  {
   "cell_type": "code",
   "execution_count": 17,
   "metadata": {},
   "outputs": [],
   "source": [
    "# model_0 = LinearRegression()\n",
    "# model_0.fit(features_train_0, target_train_0)\n",
    "# predicted_0 = model_0.predict(features_val_0)\n",
    "# predicted_0_mean = predicted_0.mean()\n",
    "# rmse_0 = mean_squared_error(target_val_0, predicted_0)**0.5\n",
    "\n",
    "# print(\"Среднее значение фактических объемов запасов в первом регионе на валидационной выборке:\",\n",
    "#       round(target_val_0.mean(), 2), \"тыс. баррелей.\")\n",
    "# print(\"Среднее значение предсказанных объемов запасов в первом регионе:\",\n",
    "#       round(predicted_0_mean, 2), \"тыс. баррелей.\")\n",
    "# print(\"RMSE на валидационной выборке по первому региону\",  round(rmse_0, 2), \"тыс. баррелей.\")\n",
    "\n",
    "# model_1 = LinearRegression()\n",
    "# model_1.fit(features_train_1, target_train_1)\n",
    "# predicted_1 = model_1.predict(features_val_1)\n",
    "# predicted_1_mean = predicted_1.mean()\n",
    "# rmse_1 = mean_squared_error(target_val_1, predicted_1)**0.5\n",
    "\n",
    "# print(\"Среднее значение фактических объемов запасов во втором регионе на валидационной выборке:\",\n",
    "#       round(target_val_1.mean(), 2), \"тыс. баррелей.\")\n",
    "# print(\"Среднее значение предсказанных объемов запасов во втором регионе:\",\n",
    "#       round(predicted_1_mean, 2), \"тыс. баррелей.\")\n",
    "# print(\"RMSE на валидационной выборке по второму региону\",  round(rmse_1, 2), \"тыс. баррелей.\")\n",
    "\n",
    "# model_2 = LinearRegression()\n",
    "# model_2.fit(features_train_2, target_train_2)\n",
    "# predicted_2 = model_2.predict(features_val_2)\n",
    "# predicted_2_mean = predicted_2.mean()\n",
    "# rmse_2 = mean_squared_error(target_val_2, predicted_2)**0.5\n",
    "\n",
    "# print(\"Среднее значение фактических объемов запасов в третьем регионе на валидационной выборке:\",\n",
    "#       round(target_val_2.mean(), 2), \"тыс. баррелей.\")\n",
    "# print(\"Среднее значение предсказанных объемов запасов в третьем регионе:\",\n",
    "#       round(predicted_2_mean, 2), \"тыс. баррелей.\")\n",
    "# print(\"RMSE на валидационной выборке по третьему региону\",  round(rmse_2, 2), \"тыс. баррелей.\")"
   ]
  },
  {
   "cell_type": "markdown",
   "metadata": {},
   "source": [
    "Применяя линейную регрессию, мы обучили модели для каждого из трёх регионов. Предсказанные средние значения объёмов запасов по каждому из регионов довольно близки к фактическим значениям на валидационных выборках, однако только в модели по второму региону получили среднее значение аналогичное целевому показателю. Наименьшее значение RMSE получилось у второй модели, для остальных регионов оно принимает довольно большие значения по сравнению со средними объёмам запасов реальных и предсказанных."
   ]
  },
  {
   "cell_type": "markdown",
   "metadata": {},
   "source": [
    "<div class=\"alert alert-block alert-success\">\n",
    "<b>Успех:</b> Шаг сделан хорошо, все нужные метрики посчитаны.\n",
    "</div>"
   ]
  },
  {
   "cell_type": "markdown",
   "metadata": {},
   "source": [
    "<div class=\"alert alert-block alert-info\">\n",
    "<b>Совет:</b> Хорошо было бы использоват функции, чтобы избежать дублирования кода. \n",
    "</div>"
   ]
  },
  {
   "cell_type": "markdown",
   "metadata": {},
   "source": [
    "<div class=\"alert alert-block alert-info\">\n",
    "<b>Совет:</b>  Линейные модели любят, когда данные масштабированы.\n",
    "</div>"
   ]
  },
  {
   "cell_type": "markdown",
   "metadata": {},
   "source": [
    "<div class=\"alert alert-block alert-success\">\n",
    "<b>Успех[2]:</b> Cупер, стало намного лучше.\n",
    "</div>"
   ]
  },
  {
   "cell_type": "markdown",
   "metadata": {},
   "source": [
    "## Подготовка к расчёту прибыли"
   ]
  },
  {
   "cell_type": "markdown",
   "metadata": {},
   "source": [
    "<div class=\"alert alert-block alert-info\">\n",
    "<b>Совет:</b>  Константы принято записывать в ВЕРХНЕМ РЕГИСТРЕ =)\n",
    "</div>"
   ]
  },
  {
   "cell_type": "code",
   "execution_count": 18,
   "metadata": {},
   "outputs": [
    {
     "data": {
      "text/plain": [
       "(0.22222222222222224, 92.50000000000001, 68.82500000000002, 95.00000000000004)"
      ]
     },
     "execution_count": 18,
     "metadata": {},
     "output_type": "execute_result"
    }
   ],
   "source": [
    "# Зададим переменные для расчет финансовых показателей\n",
    "BUDGET = 10000000000 # бюджет на разработку скважин\n",
    "PRICE = 450000 # доход с каждой единицы продукта\n",
    "OIL_WELL = 100000 # число скважин в регионе\n",
    "BEP = BUDGET/PRICE/OIL_WELL # минимальное количество продукта в одной скважине, необходимое для безубыточной разработки\n",
    "\n",
    "\n",
    "BEP, \\\n",
    "data_0['product'].mean(), \\\n",
    "data_1['product'].mean(), \\\n",
    "data_2['product'].mean()"
   ]
  },
  {
   "cell_type": "code",
   "execution_count": 19,
   "metadata": {},
   "outputs": [
    {
     "data": {
      "text/plain": [
       "(46, 8235, 53)"
      ]
     },
     "execution_count": 19,
     "metadata": {},
     "output_type": "execute_result"
    }
   ],
   "source": [
    "(data_0.loc[:, 'product'] < BEP).sum(),\\\n",
    "(data_1.loc[:, 'product'] < BEP).sum(),\\\n",
    "(data_2.loc[:, 'product'] < BEP).sum()"
   ]
  },
  {
   "cell_type": "markdown",
   "metadata": {},
   "source": [
    "Для выхода на уровень безубыточности в скважине должно быть не менее 0,22 тыс. баррелей. Расчёт показал, что среднего запаса в каждом регионе достаточно для безубыточной разработки. При этом во 2-м регионе самое большое  число скважин имеют недостаточные запасы - 8.2%"
   ]
  },
  {
   "cell_type": "markdown",
   "metadata": {},
   "source": [
    "<div class=\"alert alert-block alert-danger\">\n",
    "<b>Ошибка:</b>  Кажется ты забыл учесть количество скважин, при подсчете.\n",
    "</div>"
   ]
  },
  {
   "cell_type": "markdown",
   "metadata": {},
   "source": [
    "<div class=\"alert alert-block alert-info\">\n",
    "<b>Комментарий:</b>  Честно говоря, это формулировка сбивает меня с толку. Надеюсь, в этот раз верно.\n",
    "</div>"
   ]
  },
  {
   "cell_type": "markdown",
   "metadata": {},
   "source": [
    "<div class=\"alert alert-block alert-info\">\n",
    "<b>Совет[2]:</b>  Практически, по условию задачи, выбрать нужно 200 скважин в регионе для бурения, поэтому значение будет немного другим, но из-за 1-го значения, не думаю, что стоит отправлять проект обратно, думаю ты и так поймешь это =)\n",
    "</div>"
   ]
  },
  {
   "cell_type": "code",
   "execution_count": 20,
   "metadata": {},
   "outputs": [],
   "source": [
    "# функция для расчета выручки\n",
    "def revenue(target, prediction):\n",
    "    prediction = pd.Series(prediction)\n",
    "    target= target.reset_index(drop=True)\n",
    "    predicted_200 = prediction.sort_values(ascending=False).head(200)\n",
    "    selected = target.loc[predicted_200.index]\n",
    "    print(\"Выручка фактическая для топ-200 скважин:\", (selected.sum()*PRICE).round(2), \"рублей\")\n",
    "    print(\"Выручка прогнозная для топ-200 скважин:\", (predicted_200.sum()*PRICE).round(2), \"рублей\")\n",
    "    print(\"Чистая прибыль фактическая:\", (selected.sum()*PRICE- BUDGET).round(2), \"рублей\")\n",
    "    print(\"Чистая прибыль прогнозная:\", (predicted_200.sum()*PRICE-BUDGET).round(2), \"рублей\")\n",
    "    print(\"Фактический ROI: {:.2%}\".format((selected.sum()*PRICE -BUDGET)/BUDGET))\n",
    "    print(\"Прогнозный ROI: {:.2%}\".format((predicted_200.sum()*PRICE-BUDGET)/BUDGET))"
   ]
  },
  {
   "cell_type": "markdown",
   "metadata": {},
   "source": [
    "<div class=\"alert alert-block alert-success\">\n",
    "<b>Успех:</b> Выручка считается верно\n",
    "</div>"
   ]
  },
  {
   "cell_type": "code",
   "execution_count": 21,
   "metadata": {},
   "outputs": [
    {
     "name": "stdout",
     "output_type": "stream",
     "text": [
      "Выручка фактическая для топ-200 скважин: 13260781417.81 рублей\n",
      "Выручка прогнозная для топ-200 скважин: 13958088694.56 рублей\n",
      "Чистая прибыль фактическая: 3260781417.81 рублей\n",
      "Чистая прибыль прогнозная: 3958088694.56 рублей\n",
      "Фактический ROI: 32.61%\n",
      "Прогнозный ROI: 39.58%\n"
     ]
    }
   ],
   "source": [
    "# Финансовые показатели по первому региону\n",
    "revenue_0 = revenue(target_val_0, predicted_0)"
   ]
  },
  {
   "cell_type": "code",
   "execution_count": 22,
   "metadata": {},
   "outputs": [
    {
     "name": "stdout",
     "output_type": "stream",
     "text": [
      "Выручка фактическая для топ-200 скважин: 12415086696.68 рублей\n",
      "Выручка прогнозная для топ-200 скважин: 12491938386.62 рублей\n",
      "Чистая прибыль фактическая: 2415086696.68 рублей\n",
      "Чистая прибыль прогнозная: 2491938386.62 рублей\n",
      "Фактический ROI: 24.15%\n",
      "Прогнозный ROI: 24.92%\n"
     ]
    }
   ],
   "source": [
    "# Финансовые показатели по второму региону\n",
    "revenue_1 = revenue(target_val_1, predicted_1)"
   ]
  },
  {
   "cell_type": "code",
   "execution_count": 23,
   "metadata": {},
   "outputs": [
    {
     "name": "stdout",
     "output_type": "stream",
     "text": [
      "Выручка фактическая для топ-200 скважин: 12563093352.17 рублей\n",
      "Выручка прогнозная для топ-200 скважин: 13391431467.34 рублей\n",
      "Чистая прибыль фактическая: 2563093352.17 рублей\n",
      "Чистая прибыль прогнозная: 3391431467.34 рублей\n",
      "Фактический ROI: 25.63%\n",
      "Прогнозный ROI: 33.91%\n"
     ]
    }
   ],
   "source": [
    "# Финансовые показатели по третьему региону\n",
    "revenue_2 = revenue(target_val_2, predicted_2)"
   ]
  },
  {
   "cell_type": "markdown",
   "metadata": {},
   "source": [
    "Потенциально наибольшую выручку способен принести первый регион, но это не даёт нам представления о возможных убытках и среднем значении прибыли."
   ]
  },
  {
   "cell_type": "markdown",
   "metadata": {},
   "source": [
    "## Расчёт прибыли и рисков "
   ]
  },
  {
   "cell_type": "code",
   "execution_count": 24,
   "metadata": {},
   "outputs": [],
   "source": [
    "def net_income(target, prediction, count):\n",
    "    pred_sorted = pd.Series(prediction).sort_values(ascending=False)\n",
    "    selected = target[pred_sorted.index][:count]\n",
    "    return round(PRICE * selected.sum() - BUDGET,2)"
   ]
  },
  {
   "cell_type": "markdown",
   "metadata": {},
   "source": [
    "<div class=\"alert alert-block alert-danger\">\n",
    "<b>Ошибка:</b> Кажется ты посчитал выручку и здесь. Прибыль = выручка - расходы.\n",
    "</div>"
   ]
  },
  {
   "cell_type": "markdown",
   "metadata": {},
   "source": [
    "<div class=\"alert alert-block alert-success\">\n",
    "<b>Успех[2]:</b> Отлично\n",
    "</div>"
   ]
  },
  {
   "cell_type": "code",
   "execution_count": 25,
   "metadata": {},
   "outputs": [],
   "source": [
    "state = np.random.RandomState(1)\n",
    "\n",
    "# функция для применения бутстрепа\n",
    "def bootstrap(target, prediction):\n",
    "    values = []\n",
    "    for i in range(1000):\n",
    "        target = target.reset_index(drop=True)\n",
    "        prediction = pd.Series(prediction)\n",
    "        target_subsample = target.sample(n=500, replace=True, random_state=state)\n",
    "        pred_subsample = prediction[target_subsample.index]\n",
    "        values.append(net_income(target_subsample, pred_subsample, 200))\n",
    "    values = pd.Series(values)\n",
    "    return values"
   ]
  },
  {
   "cell_type": "code",
   "execution_count": 26,
   "metadata": {},
   "outputs": [
    {
     "name": "stdout",
     "output_type": "stream",
     "text": [
      "Среднее значение прибыли: 464377670.36 рублей\n",
      "95%-ый доверительный интервал для первого региона: -98453877.17 - 1007469099.05\n",
      "Риск убытков составляет: 5.20%\n"
     ]
    }
   ],
   "source": [
    "values = bootstrap(target_val_0, predicted_0)\n",
    "lower = values.quantile(0.025).round(2)\n",
    "upper = values.quantile(0.975).round(2)\n",
    "\n",
    "print(\"Среднее значение прибыли: {:.2f} рублей\".format(values.mean()))\n",
    "print(\"95%-ый доверительный интервал для первого региона:\", lower,\"-\",upper)\n",
    "print(\"Риск убытков составляет: {:.2%}\".format(values[values < 0].count()/len(values)))"
   ]
  },
  {
   "cell_type": "code",
   "execution_count": 27,
   "metadata": {},
   "outputs": [
    {
     "name": "stdout",
     "output_type": "stream",
     "text": [
      "Среднее значение прибыли: 541636803.39 рублей\n",
      "95%-ый доверительный интервал для первого региона: 125207614.26 - 960960337.36\n",
      "Риск убытков составляет: 0.40%\n"
     ]
    }
   ],
   "source": [
    "values = bootstrap(target_val_1, predicted_1)\n",
    "lower = values.quantile(0.025).round(2)\n",
    "upper = values.quantile(0.975).round(2)\n",
    "\n",
    "print(\"Среднее значение прибыли: {:.2f} рублей\".format(values.mean()))\n",
    "print(\"95%-ый доверительный интервал для первого региона:\", lower,\"-\",upper)\n",
    "print(\"Риск убытков составляет: {:.2%}\".format(values[values < 0].count()/len(values)))"
   ]
  },
  {
   "cell_type": "code",
   "execution_count": 28,
   "metadata": {},
   "outputs": [
    {
     "name": "stdout",
     "output_type": "stream",
     "text": [
      "Среднее значение прибыли: 420170371.35 рублей\n",
      "95%-ый доверительный интервал для первого региона: -109597815.0 - 991155649.43\n",
      "Риск убытков составляет: 6.70%\n"
     ]
    }
   ],
   "source": [
    "values = bootstrap(target_val_2, predicted_2)\n",
    "lower = values.quantile(0.025).round(2)\n",
    "upper = values.quantile(0.975).round(2)\n",
    "\n",
    "print(\"Среднее значение прибыли: {:.2f} рублей\".format(values.mean()))\n",
    "print(\"95%-ый доверительный интервал для первого региона:\", lower,\"-\",upper)\n",
    "print(\"Риск убытков составляет: {:.2%}\".format(values[values < 0].count()/len(values)))"
   ]
  },
  {
   "cell_type": "code",
   "execution_count": 29,
   "metadata": {},
   "outputs": [],
   "source": [
    "# values = []\n",
    "# for i in range(1000):\n",
    "#     target = target_val_0.reset_index(drop=True)\n",
    "#     prediction = pd.Series(predicted_0)\n",
    "#     target_subsample = target.sample(n=500, replace=True, random_state=state)\n",
    "#     pred_subsample = prediction[target_subsample.index]\n",
    "#     values.append(net_income(target_subsample, pred_subsample, 200))\n",
    "# values = pd.Series(values)\n",
    "# lower = values.quantile(0.025).round(2)\n",
    "# upper = values.quantile(0.975).round(2)\n",
    "\n",
    "# print(\"Среднее значение прибыли: {:.2f} рублей\".format(values.mean()))\n",
    "# print(\"95%-ый доверительный интервал для первого региона:\", lower,\"-\",upper)\n",
    "# print(\"Риск убытков составляет: {:.2%}\".format(values[values < 0].count()/len(values)))\n",
    "\n",
    "# values = []\n",
    "# for i in range(1000):\n",
    "#     target = target_val_1.reset_index(drop=True)\n",
    "#     prediction = pd.Series(predicted_1)\n",
    "#     target_subsample = target.sample(n=500, replace=True, random_state=state)\n",
    "#     pred_subsample = prediction[target_subsample.index]\n",
    "#     values.append(net_income(target_subsample, pred_subsample, 200))\n",
    "# values = pd.Series(values)\n",
    "# lower = values.quantile(0.025).round(2)\n",
    "# upper = values.quantile(0.975).round(2)\n",
    "    \n",
    "# print(\"Среднее значение прибыли: {:.2f} рублей\".format(values.mean()))\n",
    "# print(\"95%-ый доверительный интервал для первого региона:\", lower,\"-\",upper)\n",
    "# print(\"Риск убытков составляет: {:.2%}\".format(values[values < 0].count()/len(values)))\n",
    "\n",
    "# values = []\n",
    "# for i in range(1000):\n",
    "#     target = target_val_2.reset_index(drop=True)\n",
    "#     prediction = pd.Series(predicted_2)\n",
    "#     target_subsample = target.sample(n=500, replace=True, random_state=state)\n",
    "#     pred_subsample = prediction[target_subsample.index]\n",
    "#     values.append(net_income(target_subsample, pred_subsample, 200))\n",
    "# values = pd.Series(values)\n",
    "# lower = values.quantile(0.025).round(2)\n",
    "# upper = values.quantile(0.975).round(2)\n",
    "    \n",
    "# print(\"Среднее значение прибыли: {:.2f} рублей\".format(values.mean()))\n",
    "# print(\"95%-ый доверительный интервал для первого региона:\", lower,\"-\",upper)\n",
    "# print(\"Риск убытков составляет: {:.2%}\".format(values[values < 0].count()/len(values)))"
   ]
  },
  {
   "cell_type": "markdown",
   "metadata": {},
   "source": [
    "<div class=\"alert alert-block alert-success\">\n",
    "<b>Успех:</b> Бутстрап применен корректно, риски считаются вреным образом.\n",
    "</div>"
   ]
  },
  {
   "cell_type": "markdown",
   "metadata": {},
   "source": [
    "<div class=\"alert alert-block alert-danger\">\n",
    "<b>Ошибка:</b> С дов. интервалом тоже все в порядке, но его нужно считать для значений прибыли, а не выручки.\n",
    "</div>"
   ]
  },
  {
   "cell_type": "markdown",
   "metadata": {},
   "source": [
    "<div class=\"alert alert-block alert-info\">\n",
    "<b>Совет:</b> Здесь тоже можно было бы избежать дублирования кода.\n",
    "</div>"
   ]
  },
  {
   "cell_type": "markdown",
   "metadata": {},
   "source": [
    "<div class=\"alert alert-block alert-success\">\n",
    "<b>Успех[2]:</b> Замечательное использование функции =) Все значения посчитаны корректно, и регион выбран правильный.\n",
    "</div>"
   ]
  },
  {
   "cell_type": "markdown",
   "metadata": {},
   "source": [
    "В результате проведения бутстрепа выяснили, что наилучшим для освоения будет второй регион (geo_data_1): он демонстрирует наибольшую среднюю прибыль - 541.64 млн. руб. С 95% вероятностью прибыль будет находится в диапазоне 125.207 - 960.96 млн.руб. Риски понести убытки при разработке в этом регионе также самые низкие."
   ]
  },
  {
   "cell_type": "markdown",
   "metadata": {},
   "source": [
    "<div class=\"alert alert-block alert-success\">\n",
    "<b>Успех:</b> Всегда приятно наблюдать итоговый вывод в конце работы, обнови его если потребуется.\n",
    "</div>"
   ]
  },
  {
   "cell_type": "markdown",
   "metadata": {},
   "source": [
    "## Чек-лист готовности проекта"
   ]
  },
  {
   "cell_type": "markdown",
   "metadata": {},
   "source": [
    "Поставьте 'x' в выполненных пунктах. Далее нажмите Shift+Enter."
   ]
  },
  {
   "cell_type": "markdown",
   "metadata": {},
   "source": [
    "- [x]  Jupyter Notebook открыт\n",
    "- [x]  Весь код выполняется без ошибок\n",
    "- [x]  Ячейки с кодом расположены в порядке исполнения\n",
    "- [x]  Выполнен шаг 1: данные подготовлены\n",
    "- [x]  Выполнен шаг 2: модели обучены и проверены\n",
    "    - [x]  Данные корректно разбиты на обучающую и валидационную выборки\n",
    "    - [x]  Модели обучены, предсказания сделаны\n",
    "    - [x]  Предсказания и правильные ответы на валидационной выборке сохранены\n",
    "    - [x]  На экране напечатаны результаты\n",
    "    - [x]  Сделаны выводы\n",
    "- [x]  Выполнен шаг 3: проведена подготовка к расчёту прибыли\n",
    "    - [x]  Для всех ключевых значений созданы константы Python\n",
    "    - [x]  Посчитано минимальное среднее количество продукта в месторождениях региона, достаточное для разработки\n",
    "    - [x]  По предыдущему пункту сделаны выводы\n",
    "    - [x]  Написана функция расчёта прибыли\n",
    "- [x]  Выполнен шаг 4: посчитаны риски и прибыль\n",
    "    - [x]  Проведена процедура *Bootstrap*\n",
    "    - [x]  Все параметры бутстрепа соответствуют условию\n",
    "    - [x]  Найдены все нужные величины\n",
    "    - [x]  Предложен регион для разработки месторождения\n",
    "    - [x]  Выбор региона обоснован"
   ]
  }
 ],
 "metadata": {
  "ExecuteTimeLog": [
   {
    "duration": 1403,
    "start_time": "2021-06-08T20:27:48.182Z"
   },
   {
    "duration": 437,
    "start_time": "2021-06-08T20:27:49.588Z"
   },
   {
    "duration": 35,
    "start_time": "2021-06-08T20:27:50.028Z"
   },
   {
    "duration": 38,
    "start_time": "2021-06-08T20:27:50.066Z"
   },
   {
    "duration": 14,
    "start_time": "2021-06-08T20:27:50.106Z"
   },
   {
    "duration": 13,
    "start_time": "2021-06-08T20:27:50.122Z"
   },
   {
    "duration": 794,
    "start_time": "2021-06-08T20:27:50.137Z"
   },
   {
    "duration": 6,
    "start_time": "2021-06-08T20:27:50.934Z"
   },
   {
    "duration": 202,
    "start_time": "2021-06-08T20:27:50.943Z"
   },
   {
    "duration": 26,
    "start_time": "2021-06-08T20:27:51.148Z"
   },
   {
    "duration": 40,
    "start_time": "2021-06-08T20:27:51.176Z"
   },
   {
    "duration": 24,
    "start_time": "2021-06-08T20:27:51.218Z"
   },
   {
    "duration": 24,
    "start_time": "2021-06-08T20:27:51.244Z"
   },
   {
    "duration": 794,
    "start_time": "2021-06-08T20:27:51.301Z"
   },
   {
    "duration": -508,
    "start_time": "2021-06-08T20:27:52.606Z"
   },
   {
    "duration": -509,
    "start_time": "2021-06-08T20:27:52.609Z"
   },
   {
    "duration": -510,
    "start_time": "2021-06-08T20:27:52.611Z"
   },
   {
    "duration": -510,
    "start_time": "2021-06-08T20:27:52.612Z"
   },
   {
    "duration": -510,
    "start_time": "2021-06-08T20:27:52.614Z"
   },
   {
    "duration": -512,
    "start_time": "2021-06-08T20:27:52.617Z"
   },
   {
    "duration": -513,
    "start_time": "2021-06-08T20:27:52.619Z"
   },
   {
    "duration": 1392,
    "start_time": "2021-06-08T20:28:20.201Z"
   },
   {
    "duration": 449,
    "start_time": "2021-06-08T20:28:21.595Z"
   },
   {
    "duration": 38,
    "start_time": "2021-06-08T20:28:22.047Z"
   },
   {
    "duration": 19,
    "start_time": "2021-06-08T20:28:22.101Z"
   },
   {
    "duration": 13,
    "start_time": "2021-06-08T20:28:22.123Z"
   },
   {
    "duration": 20,
    "start_time": "2021-06-08T20:28:22.139Z"
   },
   {
    "duration": 827,
    "start_time": "2021-06-08T20:28:22.162Z"
   },
   {
    "duration": 11,
    "start_time": "2021-06-08T20:28:22.992Z"
   },
   {
    "duration": 195,
    "start_time": "2021-06-08T20:28:23.007Z"
   },
   {
    "duration": 27,
    "start_time": "2021-06-08T20:28:23.204Z"
   },
   {
    "duration": 23,
    "start_time": "2021-06-08T20:28:23.234Z"
   },
   {
    "duration": 53,
    "start_time": "2021-06-08T20:28:23.260Z"
   },
   {
    "duration": 24,
    "start_time": "2021-06-08T20:28:23.316Z"
   },
   {
    "duration": 68,
    "start_time": "2021-06-08T20:28:23.343Z"
   },
   {
    "duration": 191,
    "start_time": "2021-06-08T20:28:23.414Z"
   },
   {
    "duration": 114,
    "start_time": "2021-06-08T20:28:23.608Z"
   },
   {
    "duration": 229,
    "start_time": "2021-06-08T20:28:23.725Z"
   },
   {
    "duration": 11,
    "start_time": "2021-06-08T20:28:23.957Z"
   },
   {
    "duration": 42,
    "start_time": "2021-06-08T20:28:23.971Z"
   },
   {
    "duration": 18,
    "start_time": "2021-06-08T20:28:24.016Z"
   },
   {
    "duration": 13,
    "start_time": "2021-06-08T20:28:24.036Z"
   },
   {
    "duration": 1527,
    "start_time": "2021-06-11T16:52:13.758Z"
   },
   {
    "duration": 571,
    "start_time": "2021-06-11T16:52:16.247Z"
   },
   {
    "duration": 54,
    "start_time": "2021-06-11T16:52:17.872Z"
   },
   {
    "duration": 21,
    "start_time": "2021-06-11T16:52:22.592Z"
   },
   {
    "duration": 14,
    "start_time": "2021-06-11T16:52:23.315Z"
   },
   {
    "duration": 16,
    "start_time": "2021-06-11T16:52:23.854Z"
   },
   {
    "duration": 1230,
    "start_time": "2021-06-11T16:52:27.427Z"
   },
   {
    "duration": 7,
    "start_time": "2021-06-11T16:52:31.482Z"
   },
   {
    "duration": 194,
    "start_time": "2021-06-11T16:52:34.087Z"
   },
   {
    "duration": 28,
    "start_time": "2021-06-11T16:52:38.384Z"
   },
   {
    "duration": 24,
    "start_time": "2021-06-11T16:52:40.286Z"
   },
   {
    "duration": 30,
    "start_time": "2021-06-11T16:52:42.322Z"
   },
   {
    "duration": 120,
    "start_time": "2021-06-11T16:52:45.009Z"
   },
   {
    "duration": 100,
    "start_time": "2021-06-11T16:52:47.328Z"
   },
   {
    "duration": 24,
    "start_time": "2021-06-11T16:52:49.237Z"
   },
   {
    "duration": 53,
    "start_time": "2021-06-11T16:52:51.764Z"
   },
   {
    "duration": 13,
    "start_time": "2021-06-11T16:52:54.634Z"
   },
   {
    "duration": 14,
    "start_time": "2021-06-11T16:52:56.955Z"
   },
   {
    "duration": 12,
    "start_time": "2021-06-11T16:52:59.801Z"
   },
   {
    "duration": 13,
    "start_time": "2021-06-11T16:53:02.381Z"
   },
   {
    "duration": 414,
    "start_time": "2021-06-11T16:53:09.492Z"
   },
   {
    "duration": 265,
    "start_time": "2021-06-11T16:53:29.095Z"
   },
   {
    "duration": 1491,
    "start_time": "2021-06-24T19:41:04.537Z"
   },
   {
    "duration": 475,
    "start_time": "2021-06-24T19:41:06.030Z"
   },
   {
    "duration": 39,
    "start_time": "2021-06-24T19:41:06.510Z"
   },
   {
    "duration": 14,
    "start_time": "2021-06-24T19:41:06.552Z"
   },
   {
    "duration": 41,
    "start_time": "2021-06-24T19:41:06.569Z"
   },
   {
    "duration": 12,
    "start_time": "2021-06-24T19:41:06.613Z"
   },
   {
    "duration": 841,
    "start_time": "2021-06-24T19:41:06.627Z"
   },
   {
    "duration": 6,
    "start_time": "2021-06-24T19:41:07.472Z"
   },
   {
    "duration": 214,
    "start_time": "2021-06-24T19:41:07.481Z"
   },
   {
    "duration": 36,
    "start_time": "2021-06-24T19:41:07.698Z"
   },
   {
    "duration": 25,
    "start_time": "2021-06-24T19:41:07.736Z"
   },
   {
    "duration": 58,
    "start_time": "2021-06-24T19:41:07.764Z"
   },
   {
    "duration": 26,
    "start_time": "2021-06-24T19:41:07.824Z"
   },
   {
    "duration": 59,
    "start_time": "2021-06-24T19:41:07.852Z"
   },
   {
    "duration": 194,
    "start_time": "2021-06-24T19:41:07.914Z"
   },
   {
    "duration": 199,
    "start_time": "2021-06-24T19:41:08.112Z"
   },
   {
    "duration": 144,
    "start_time": "2021-06-24T19:41:08.314Z"
   },
   {
    "duration": 8,
    "start_time": "2021-06-24T19:41:08.460Z"
   },
   {
    "duration": 44,
    "start_time": "2021-06-24T19:41:08.470Z"
   },
   {
    "duration": 14,
    "start_time": "2021-06-24T19:41:08.517Z"
   },
   {
    "duration": 13,
    "start_time": "2021-06-24T19:41:08.534Z"
   },
   {
    "duration": 471,
    "start_time": "2021-06-24T20:02:01.252Z"
   },
   {
    "duration": 765,
    "start_time": "2021-06-24T20:02:41.450Z"
   },
   {
    "duration": 1538,
    "start_time": "2021-06-24T20:03:06.095Z"
   },
   {
    "duration": 481,
    "start_time": "2021-06-24T20:03:07.636Z"
   },
   {
    "duration": 40,
    "start_time": "2021-06-24T20:03:08.119Z"
   },
   {
    "duration": 15,
    "start_time": "2021-06-24T20:03:08.161Z"
   },
   {
    "duration": 38,
    "start_time": "2021-06-24T20:03:08.178Z"
   },
   {
    "duration": 13,
    "start_time": "2021-06-24T20:03:08.218Z"
   },
   {
    "duration": 858,
    "start_time": "2021-06-24T20:03:08.233Z"
   },
   {
    "duration": 19,
    "start_time": "2021-06-24T20:03:09.093Z"
   },
   {
    "duration": 201,
    "start_time": "2021-06-24T20:03:09.115Z"
   },
   {
    "duration": 27,
    "start_time": "2021-06-24T20:03:09.319Z"
   },
   {
    "duration": 23,
    "start_time": "2021-06-24T20:03:09.348Z"
   },
   {
    "duration": 54,
    "start_time": "2021-06-24T20:03:09.373Z"
   },
   {
    "duration": 25,
    "start_time": "2021-06-24T20:03:09.430Z"
   },
   {
    "duration": 62,
    "start_time": "2021-06-24T20:03:09.457Z"
   },
   {
    "duration": 98,
    "start_time": "2021-06-24T20:03:09.610Z"
   },
   {
    "duration": 197,
    "start_time": "2021-06-24T20:03:09.712Z"
   },
   {
    "duration": 142,
    "start_time": "2021-06-24T20:03:09.918Z"
   },
   {
    "duration": 7,
    "start_time": "2021-06-24T20:03:10.062Z"
   },
   {
    "duration": 42,
    "start_time": "2021-06-24T20:03:10.072Z"
   },
   {
    "duration": 14,
    "start_time": "2021-06-24T20:03:10.117Z"
   },
   {
    "duration": 14,
    "start_time": "2021-06-24T20:03:10.133Z"
   },
   {
    "duration": 516,
    "start_time": "2021-06-24T20:03:10.149Z"
   },
   {
    "duration": -89,
    "start_time": "2021-06-24T20:03:10.757Z"
   },
   {
    "duration": 354,
    "start_time": "2021-06-24T20:03:42.447Z"
   },
   {
    "duration": 12375,
    "start_time": "2021-06-24T20:04:06.814Z"
   },
   {
    "duration": 13549,
    "start_time": "2021-06-24T20:04:26.418Z"
   },
   {
    "duration": 13119,
    "start_time": "2021-06-24T20:04:53.162Z"
   },
   {
    "duration": 6,
    "start_time": "2021-06-24T20:05:38.231Z"
   },
   {
    "duration": 353,
    "start_time": "2021-06-24T20:05:44.445Z"
   },
   {
    "duration": 60560,
    "start_time": "2021-06-24T20:05:50.032Z"
   },
   {
    "duration": 125,
    "start_time": "2021-06-24T20:07:11.986Z"
   },
   {
    "duration": 6,
    "start_time": "2021-06-24T20:08:02.612Z"
   },
   {
    "duration": 18420,
    "start_time": "2021-06-24T20:08:05.387Z"
   },
   {
    "duration": 12753,
    "start_time": "2021-06-24T20:08:40.686Z"
   },
   {
    "duration": 347,
    "start_time": "2021-06-24T20:21:23.531Z"
   },
   {
    "duration": 4,
    "start_time": "2021-06-24T20:21:52.948Z"
   },
   {
    "duration": 332,
    "start_time": "2021-06-24T20:22:22.643Z"
   },
   {
    "duration": 567,
    "start_time": "2021-06-24T20:26:35.389Z"
   },
   {
    "duration": 6,
    "start_time": "2021-06-24T20:26:57.681Z"
   },
   {
    "duration": 376,
    "start_time": "2021-06-24T20:27:32.381Z"
   },
   {
    "duration": 5,
    "start_time": "2021-06-24T20:27:37.283Z"
   },
   {
    "duration": 380,
    "start_time": "2021-06-24T20:27:38.913Z"
   },
   {
    "duration": 368,
    "start_time": "2021-06-24T20:27:54.436Z"
   },
   {
    "duration": 5,
    "start_time": "2021-06-24T20:28:01.934Z"
   },
   {
    "duration": 343,
    "start_time": "2021-06-24T20:28:03.743Z"
   },
   {
    "duration": 9,
    "start_time": "2021-06-24T20:28:23.412Z"
   },
   {
    "duration": 10,
    "start_time": "2021-06-24T20:28:31.412Z"
   },
   {
    "duration": 7,
    "start_time": "2021-06-24T20:29:08.620Z"
   },
   {
    "duration": 14,
    "start_time": "2021-06-24T20:29:10.116Z"
   },
   {
    "duration": 15,
    "start_time": "2021-06-24T20:29:11.959Z"
   },
   {
    "duration": 15,
    "start_time": "2021-06-24T20:29:13.678Z"
   },
   {
    "duration": 5,
    "start_time": "2021-06-24T20:30:41.201Z"
   },
   {
    "duration": 9,
    "start_time": "2021-06-24T20:30:45.374Z"
   },
   {
    "duration": 12,
    "start_time": "2021-06-24T20:30:53.783Z"
   },
   {
    "duration": 5,
    "start_time": "2021-06-24T20:31:14.463Z"
   },
   {
    "duration": 20,
    "start_time": "2021-06-24T20:31:15.826Z"
   },
   {
    "duration": 5,
    "start_time": "2021-06-24T20:31:21.698Z"
   },
   {
    "duration": 12,
    "start_time": "2021-06-24T20:31:23.458Z"
   },
   {
    "duration": 5,
    "start_time": "2021-06-24T20:31:38.560Z"
   },
   {
    "duration": 12,
    "start_time": "2021-06-24T20:31:40.104Z"
   },
   {
    "duration": 6,
    "start_time": "2021-06-24T20:31:47.231Z"
   },
   {
    "duration": 12,
    "start_time": "2021-06-24T20:31:48.626Z"
   },
   {
    "duration": 12,
    "start_time": "2021-06-24T20:32:28.798Z"
   },
   {
    "duration": 12,
    "start_time": "2021-06-24T20:32:33.646Z"
   },
   {
    "duration": 11,
    "start_time": "2021-06-24T20:33:56.714Z"
   },
   {
    "duration": 11,
    "start_time": "2021-06-24T20:34:09.846Z"
   },
   {
    "duration": 11,
    "start_time": "2021-06-24T20:34:11.790Z"
   },
   {
    "duration": 8,
    "start_time": "2021-06-24T20:35:40.867Z"
   },
   {
    "duration": 5,
    "start_time": "2021-06-24T20:36:03.194Z"
   },
   {
    "duration": 379,
    "start_time": "2021-06-24T20:37:29.663Z"
   },
   {
    "duration": 339,
    "start_time": "2021-06-24T20:37:34.524Z"
   },
   {
    "duration": 614,
    "start_time": "2021-06-24T20:41:10.404Z"
   },
   {
    "duration": 7,
    "start_time": "2021-06-24T20:41:12.473Z"
   },
   {
    "duration": 11,
    "start_time": "2021-06-24T20:41:15.650Z"
   },
   {
    "duration": 10,
    "start_time": "2021-06-24T20:41:18.013Z"
   },
   {
    "duration": 10,
    "start_time": "2021-06-24T20:41:19.614Z"
   },
   {
    "duration": 174,
    "start_time": "2021-06-24T20:42:11.204Z"
   },
   {
    "duration": 6,
    "start_time": "2021-06-24T20:42:21.835Z"
   },
   {
    "duration": 121,
    "start_time": "2021-06-24T20:43:44.474Z"
   },
   {
    "duration": 6,
    "start_time": "2021-06-24T20:44:28.262Z"
   },
   {
    "duration": 638,
    "start_time": "2021-06-24T20:44:33.849Z"
   },
   {
    "duration": 7,
    "start_time": "2021-06-24T20:45:06.503Z"
   },
   {
    "duration": 5,
    "start_time": "2021-06-24T20:45:13.818Z"
   },
   {
    "duration": 4,
    "start_time": "2021-06-24T20:45:36.392Z"
   },
   {
    "duration": 7,
    "start_time": "2021-06-24T20:45:41.167Z"
   },
   {
    "duration": 4,
    "start_time": "2021-06-24T20:46:10.927Z"
   },
   {
    "duration": 8,
    "start_time": "2021-06-24T20:46:15.026Z"
   },
   {
    "duration": 7,
    "start_time": "2021-06-24T20:46:36.931Z"
   },
   {
    "duration": 592,
    "start_time": "2021-06-24T20:46:39.308Z"
   },
   {
    "duration": 7,
    "start_time": "2021-06-24T20:47:03.448Z"
   },
   {
    "duration": 683,
    "start_time": "2021-06-24T20:47:05.650Z"
   },
   {
    "duration": 8,
    "start_time": "2021-06-24T20:47:15.887Z"
   },
   {
    "duration": 808,
    "start_time": "2021-06-24T20:47:18.216Z"
   },
   {
    "duration": 8,
    "start_time": "2021-06-24T20:48:22.264Z"
   },
   {
    "duration": 1855,
    "start_time": "2021-06-24T20:48:24.049Z"
   },
   {
    "duration": 7,
    "start_time": "2021-06-24T20:48:37.389Z"
   },
   {
    "duration": 668,
    "start_time": "2021-06-24T20:48:43.376Z"
   },
   {
    "duration": 5,
    "start_time": "2021-06-24T20:50:03.728Z"
   },
   {
    "duration": 11,
    "start_time": "2021-06-24T20:50:05.776Z"
   },
   {
    "duration": 11,
    "start_time": "2021-06-24T20:50:07.798Z"
   },
   {
    "duration": 11,
    "start_time": "2021-06-24T20:50:09.430Z"
   },
   {
    "duration": 119,
    "start_time": "2021-06-24T20:52:05.676Z"
   },
   {
    "duration": 167,
    "start_time": "2021-06-24T20:52:29.672Z"
   },
   {
    "duration": 130,
    "start_time": "2021-06-24T20:53:37.071Z"
   },
   {
    "duration": 7,
    "start_time": "2021-06-24T20:54:05.802Z"
   },
   {
    "duration": 8,
    "start_time": "2021-06-24T20:54:23.325Z"
   },
   {
    "duration": 10,
    "start_time": "2021-06-24T20:54:47.844Z"
   },
   {
    "duration": 127,
    "start_time": "2021-06-24T20:54:49.655Z"
   },
   {
    "duration": 10,
    "start_time": "2021-06-24T20:54:52.412Z"
   },
   {
    "duration": 10,
    "start_time": "2021-06-24T20:54:54.101Z"
   },
   {
    "duration": 11,
    "start_time": "2021-06-24T20:54:56.210Z"
   },
   {
    "duration": 12,
    "start_time": "2021-06-24T20:55:32.493Z"
   },
   {
    "duration": 132,
    "start_time": "2021-06-24T20:55:33.628Z"
   },
   {
    "duration": 12,
    "start_time": "2021-06-24T20:55:39.544Z"
   },
   {
    "duration": 13,
    "start_time": "2021-06-24T20:55:45.872Z"
   },
   {
    "duration": 12,
    "start_time": "2021-06-24T20:55:50.063Z"
   },
   {
    "duration": 12,
    "start_time": "2021-06-24T20:55:55.998Z"
   },
   {
    "duration": 12,
    "start_time": "2021-06-24T20:56:44.255Z"
   },
   {
    "duration": 14,
    "start_time": "2021-06-24T20:56:51.135Z"
   },
   {
    "duration": 15,
    "start_time": "2021-06-24T20:59:00.391Z"
   },
   {
    "duration": 8,
    "start_time": "2021-06-24T21:01:00.762Z"
   },
   {
    "duration": 703,
    "start_time": "2021-06-24T21:01:04.774Z"
   },
   {
    "duration": 351,
    "start_time": "2021-06-24T21:01:54.067Z"
   },
   {
    "duration": 12,
    "start_time": "2021-06-24T21:02:12.870Z"
   },
   {
    "duration": 13,
    "start_time": "2021-06-24T21:02:53.860Z"
   },
   {
    "duration": 12,
    "start_time": "2021-06-24T21:03:00.277Z"
   },
   {
    "duration": 12,
    "start_time": "2021-06-24T21:03:15.037Z"
   },
   {
    "duration": 333,
    "start_time": "2021-06-24T21:04:07.997Z"
   },
   {
    "duration": 5,
    "start_time": "2021-06-24T21:04:11.310Z"
   },
   {
    "duration": 16,
    "start_time": "2021-06-24T21:04:12.736Z"
   },
   {
    "duration": 13,
    "start_time": "2021-06-24T21:07:40.666Z"
   },
   {
    "duration": 15,
    "start_time": "2021-06-24T21:07:46.859Z"
   },
   {
    "duration": 16,
    "start_time": "2021-06-24T21:08:15.647Z"
   },
   {
    "duration": 16,
    "start_time": "2021-06-24T21:08:24.947Z"
   },
   {
    "duration": 17,
    "start_time": "2021-06-24T21:08:37.124Z"
   },
   {
    "duration": 113,
    "start_time": "2021-06-24T21:12:04.948Z"
   },
   {
    "duration": 104,
    "start_time": "2021-06-24T21:12:22.694Z"
   },
   {
    "duration": 144,
    "start_time": "2021-06-24T21:12:49.134Z"
   },
   {
    "duration": 131,
    "start_time": "2021-06-24T21:13:05.123Z"
   },
   {
    "duration": 121,
    "start_time": "2021-06-24T21:13:29.581Z"
   },
   {
    "duration": 130,
    "start_time": "2021-06-24T21:13:42.675Z"
   },
   {
    "duration": 119,
    "start_time": "2021-06-24T21:13:50.582Z"
   },
   {
    "duration": 8,
    "start_time": "2021-06-24T21:15:36.502Z"
   },
   {
    "duration": 9,
    "start_time": "2021-06-24T21:15:38.870Z"
   },
   {
    "duration": 107,
    "start_time": "2021-06-24T21:15:39.387Z"
   },
   {
    "duration": 9,
    "start_time": "2021-06-24T21:15:46.854Z"
   },
   {
    "duration": 8,
    "start_time": "2021-06-24T21:15:51.113Z"
   },
   {
    "duration": 8,
    "start_time": "2021-06-24T21:15:57.745Z"
   },
   {
    "duration": 8,
    "start_time": "2021-06-24T21:15:59.856Z"
   },
   {
    "duration": 8,
    "start_time": "2021-06-24T21:16:03.805Z"
   },
   {
    "duration": 360,
    "start_time": "2021-06-24T21:17:07.988Z"
   },
   {
    "duration": 380,
    "start_time": "2021-06-24T21:17:53.002Z"
   },
   {
    "duration": 8,
    "start_time": "2021-06-24T21:18:16.146Z"
   },
   {
    "duration": 466,
    "start_time": "2021-06-24T21:18:32.473Z"
   },
   {
    "duration": 358,
    "start_time": "2021-06-24T21:18:49.603Z"
   },
   {
    "duration": 367,
    "start_time": "2021-06-24T21:19:06.366Z"
   },
   {
    "duration": 123,
    "start_time": "2021-06-24T21:20:23.932Z"
   },
   {
    "duration": 7,
    "start_time": "2021-06-24T21:21:42.025Z"
   },
   {
    "duration": 7,
    "start_time": "2021-06-24T21:21:50.056Z"
   },
   {
    "duration": 22,
    "start_time": "2021-06-24T21:22:03.796Z"
   },
   {
    "duration": 9,
    "start_time": "2021-06-24T21:22:06.375Z"
   },
   {
    "duration": 9,
    "start_time": "2021-06-24T21:22:08.069Z"
   },
   {
    "duration": 317,
    "start_time": "2021-06-24T21:22:22.923Z"
   },
   {
    "duration": 10,
    "start_time": "2021-06-24T21:22:26.566Z"
   },
   {
    "duration": 9,
    "start_time": "2021-06-24T21:22:29.390Z"
   },
   {
    "duration": 11,
    "start_time": "2021-06-24T21:22:38.257Z"
   },
   {
    "duration": 12,
    "start_time": "2021-06-24T21:22:40.980Z"
   },
   {
    "duration": 13,
    "start_time": "2021-06-24T21:22:42.921Z"
   },
   {
    "duration": 14,
    "start_time": "2021-06-24T21:24:00.935Z"
   },
   {
    "duration": 139,
    "start_time": "2021-06-24T21:28:22.472Z"
   },
   {
    "duration": 132,
    "start_time": "2021-06-24T21:28:54.221Z"
   },
   {
    "duration": 5807,
    "start_time": "2021-06-24T21:29:53.562Z"
   },
   {
    "duration": 5727,
    "start_time": "2021-06-24T21:31:34.357Z"
   },
   {
    "duration": 6265,
    "start_time": "2021-06-24T21:31:55.737Z"
   },
   {
    "duration": 335,
    "start_time": "2021-06-24T21:33:59.670Z"
   },
   {
    "duration": 362,
    "start_time": "2021-06-24T21:34:18.861Z"
   },
   {
    "duration": 331,
    "start_time": "2021-06-24T21:34:29.329Z"
   },
   {
    "duration": 9,
    "start_time": "2021-06-24T21:34:34.482Z"
   },
   {
    "duration": 5728,
    "start_time": "2021-06-24T21:34:47.732Z"
   },
   {
    "duration": 9,
    "start_time": "2021-06-24T21:36:26.342Z"
   },
   {
    "duration": 359,
    "start_time": "2021-06-24T21:37:34.033Z"
   },
   {
    "duration": 9,
    "start_time": "2021-06-24T21:37:51.315Z"
   },
   {
    "duration": 980,
    "start_time": "2021-06-24T21:38:20.199Z"
   },
   {
    "duration": 8,
    "start_time": "2021-06-24T21:38:39.963Z"
   },
   {
    "duration": 10,
    "start_time": "2021-06-24T21:39:05.750Z"
   },
   {
    "duration": 10,
    "start_time": "2021-06-24T21:39:16.533Z"
   },
   {
    "duration": 9,
    "start_time": "2021-06-24T21:39:26.074Z"
   },
   {
    "duration": 12,
    "start_time": "2021-06-24T21:39:33.820Z"
   },
   {
    "duration": 11,
    "start_time": "2021-06-24T21:39:46.407Z"
   },
   {
    "duration": 11,
    "start_time": "2021-06-24T21:39:52.350Z"
   },
   {
    "duration": 10,
    "start_time": "2021-06-24T21:40:07.752Z"
   },
   {
    "duration": 12,
    "start_time": "2021-06-24T21:40:19.490Z"
   },
   {
    "duration": 10,
    "start_time": "2021-06-24T21:40:33.642Z"
   },
   {
    "duration": 9,
    "start_time": "2021-06-24T21:40:58.313Z"
   },
   {
    "duration": 10,
    "start_time": "2021-06-24T21:41:04.633Z"
   },
   {
    "duration": 330,
    "start_time": "2021-06-24T21:41:17.114Z"
   },
   {
    "duration": 10,
    "start_time": "2021-06-24T21:41:27.714Z"
   },
   {
    "duration": 10,
    "start_time": "2021-06-24T21:42:22.216Z"
   },
   {
    "duration": 9,
    "start_time": "2021-06-24T21:43:22.166Z"
   },
   {
    "duration": 10,
    "start_time": "2021-06-24T21:43:44.506Z"
   },
   {
    "duration": 472,
    "start_time": "2021-06-24T21:43:53.354Z"
   },
   {
    "duration": 355,
    "start_time": "2021-06-24T21:44:21.003Z"
   },
   {
    "duration": 345,
    "start_time": "2021-06-24T21:44:52.140Z"
   },
   {
    "duration": 349,
    "start_time": "2021-06-24T21:46:08.253Z"
   },
   {
    "duration": 9,
    "start_time": "2021-06-24T21:46:39.445Z"
   },
   {
    "duration": 10,
    "start_time": "2021-06-24T21:46:51.641Z"
   },
   {
    "duration": 5859,
    "start_time": "2021-06-24T21:49:24.682Z"
   },
   {
    "duration": 5587,
    "start_time": "2021-06-24T21:50:34.248Z"
   },
   {
    "duration": 5672,
    "start_time": "2021-06-24T21:50:41.787Z"
   },
   {
    "duration": 4,
    "start_time": "2021-06-24T21:52:33.868Z"
   },
   {
    "duration": 9,
    "start_time": "2021-06-24T21:52:35.900Z"
   },
   {
    "duration": 10,
    "start_time": "2021-06-24T21:52:47.699Z"
   },
   {
    "duration": 5893,
    "start_time": "2021-06-24T21:52:51.034Z"
   },
   {
    "duration": 9,
    "start_time": "2021-06-24T21:53:01.482Z"
   },
   {
    "duration": 10,
    "start_time": "2021-06-24T21:53:04.878Z"
   },
   {
    "duration": 5776,
    "start_time": "2021-06-24T21:53:05.881Z"
   },
   {
    "duration": 8,
    "start_time": "2021-06-24T21:53:37.495Z"
   },
   {
    "duration": 11,
    "start_time": "2021-06-24T21:53:42.490Z"
   },
   {
    "duration": 12,
    "start_time": "2021-06-24T21:53:51.289Z"
   },
   {
    "duration": 12,
    "start_time": "2021-06-24T21:54:05.851Z"
   },
   {
    "duration": 4,
    "start_time": "2021-06-24T21:54:28.138Z"
   },
   {
    "duration": 9,
    "start_time": "2021-06-24T21:54:30.527Z"
   },
   {
    "duration": 6,
    "start_time": "2021-06-24T21:54:49.422Z"
   },
   {
    "duration": 5663,
    "start_time": "2021-06-24T21:54:51.428Z"
   },
   {
    "duration": 5703,
    "start_time": "2021-06-24T21:55:00.841Z"
   },
   {
    "duration": 1435,
    "start_time": "2021-06-24T21:55:12.607Z"
   },
   {
    "duration": 475,
    "start_time": "2021-06-24T21:55:14.046Z"
   },
   {
    "duration": 37,
    "start_time": "2021-06-24T21:55:14.525Z"
   },
   {
    "duration": 13,
    "start_time": "2021-06-24T21:55:14.565Z"
   },
   {
    "duration": 36,
    "start_time": "2021-06-24T21:55:14.581Z"
   },
   {
    "duration": 13,
    "start_time": "2021-06-24T21:55:14.619Z"
   },
   {
    "duration": 837,
    "start_time": "2021-06-24T21:55:14.634Z"
   },
   {
    "duration": 7,
    "start_time": "2021-06-24T21:55:15.473Z"
   },
   {
    "duration": 218,
    "start_time": "2021-06-24T21:55:15.484Z"
   },
   {
    "duration": 27,
    "start_time": "2021-06-24T21:55:15.708Z"
   },
   {
    "duration": 25,
    "start_time": "2021-06-24T21:55:15.737Z"
   },
   {
    "duration": 51,
    "start_time": "2021-06-24T21:55:15.764Z"
   },
   {
    "duration": 24,
    "start_time": "2021-06-24T21:55:15.818Z"
   },
   {
    "duration": 69,
    "start_time": "2021-06-24T21:55:15.845Z"
   },
   {
    "duration": 110,
    "start_time": "2021-06-24T21:55:15.917Z"
   },
   {
    "duration": 115,
    "start_time": "2021-06-24T21:55:16.111Z"
   },
   {
    "duration": 221,
    "start_time": "2021-06-24T21:55:16.228Z"
   },
   {
    "duration": 5,
    "start_time": "2021-06-24T21:55:16.451Z"
   },
   {
    "duration": 17,
    "start_time": "2021-06-24T21:55:16.459Z"
   },
   {
    "duration": 35,
    "start_time": "2021-06-24T21:55:16.480Z"
   },
   {
    "duration": 11,
    "start_time": "2021-06-24T21:55:16.517Z"
   },
   {
    "duration": 4,
    "start_time": "2021-06-24T21:55:16.531Z"
   },
   {
    "duration": 18,
    "start_time": "2021-06-24T21:55:16.537Z"
   },
   {
    "duration": 6134,
    "start_time": "2021-06-24T21:55:16.558Z"
   },
   {
    "duration": -138,
    "start_time": "2021-06-24T21:55:22.833Z"
   },
   {
    "duration": -139,
    "start_time": "2021-06-24T21:55:22.835Z"
   },
   {
    "duration": 326,
    "start_time": "2021-06-24T21:55:39.234Z"
   },
   {
    "duration": 310,
    "start_time": "2021-06-24T21:56:26.738Z"
   },
   {
    "duration": 5751,
    "start_time": "2021-06-24T21:56:45.777Z"
   },
   {
    "duration": 5727,
    "start_time": "2021-06-24T21:57:04.470Z"
   },
   {
    "duration": 5765,
    "start_time": "2021-06-24T21:57:32.052Z"
   },
   {
    "duration": 6067,
    "start_time": "2021-06-24T21:57:51.944Z"
   },
   {
    "duration": 5773,
    "start_time": "2021-06-24T21:58:08.576Z"
   },
   {
    "duration": 5860,
    "start_time": "2021-06-24T21:58:38.786Z"
   },
   {
    "duration": 99,
    "start_time": "2021-06-24T21:59:35.868Z"
   },
   {
    "duration": 105,
    "start_time": "2021-06-24T21:59:45.913Z"
   },
   {
    "duration": 102,
    "start_time": "2021-06-24T21:59:54.702Z"
   },
   {
    "duration": 5829,
    "start_time": "2021-06-24T22:00:17.069Z"
   },
   {
    "duration": 6006,
    "start_time": "2021-06-24T22:00:49.930Z"
   },
   {
    "duration": 6049,
    "start_time": "2021-06-24T22:01:05.968Z"
   },
   {
    "duration": 6051,
    "start_time": "2021-06-24T22:01:24.116Z"
   },
   {
    "duration": 5667,
    "start_time": "2021-06-24T22:01:39.633Z"
   },
   {
    "duration": 6205,
    "start_time": "2021-06-24T22:01:56.030Z"
   },
   {
    "duration": 6300,
    "start_time": "2021-06-24T22:02:21.575Z"
   },
   {
    "duration": 6012,
    "start_time": "2021-06-24T22:02:39.089Z"
   },
   {
    "duration": 5859,
    "start_time": "2021-06-24T22:02:51.921Z"
   },
   {
    "duration": 5666,
    "start_time": "2021-06-24T22:03:07.731Z"
   },
   {
    "duration": 6205,
    "start_time": "2021-06-24T22:03:14.891Z"
   },
   {
    "duration": 6253,
    "start_time": "2021-06-24T22:03:22.898Z"
   },
   {
    "duration": 116,
    "start_time": "2021-06-24T22:06:00.640Z"
   },
   {
    "duration": 105,
    "start_time": "2021-06-24T22:06:04.066Z"
   },
   {
    "duration": 117,
    "start_time": "2021-06-24T22:06:10.520Z"
   },
   {
    "duration": 6127,
    "start_time": "2021-06-24T22:06:16.536Z"
   },
   {
    "duration": 5864,
    "start_time": "2021-06-24T22:06:31.272Z"
   },
   {
    "duration": 6145,
    "start_time": "2021-06-24T22:06:42.824Z"
   },
   {
    "duration": 7,
    "start_time": "2021-06-24T22:07:28.168Z"
   },
   {
    "duration": 6000,
    "start_time": "2021-06-24T22:07:30.765Z"
   },
   {
    "duration": 5765,
    "start_time": "2021-06-24T22:07:43.787Z"
   },
   {
    "duration": 8,
    "start_time": "2021-06-24T22:08:04.719Z"
   },
   {
    "duration": 671,
    "start_time": "2021-06-24T22:08:07.610Z"
   },
   {
    "duration": 7,
    "start_time": "2021-06-24T22:08:27.322Z"
   },
   {
    "duration": 6137,
    "start_time": "2021-06-24T22:08:29.044Z"
   },
   {
    "duration": 5656,
    "start_time": "2021-06-24T22:08:48.554Z"
   },
   {
    "duration": 6650,
    "start_time": "2021-06-24T22:09:00.423Z"
   },
   {
    "duration": 4,
    "start_time": "2021-06-24T22:09:55.397Z"
   },
   {
    "duration": 5919,
    "start_time": "2021-06-24T22:10:10.893Z"
   },
   {
    "duration": 5828,
    "start_time": "2021-06-24T22:10:35.663Z"
   },
   {
    "duration": 5669,
    "start_time": "2021-06-24T22:10:41.493Z"
   },
   {
    "duration": 5780,
    "start_time": "2021-06-24T22:17:38.070Z"
   },
   {
    "duration": 5820,
    "start_time": "2021-06-24T22:18:17.693Z"
   },
   {
    "duration": 5750,
    "start_time": "2021-06-24T22:18:26.749Z"
   },
   {
    "duration": 5671,
    "start_time": "2021-06-24T22:18:37.228Z"
   },
   {
    "duration": 5,
    "start_time": "2021-06-24T22:20:20.930Z"
   },
   {
    "duration": 4,
    "start_time": "2021-06-24T22:20:22.812Z"
   },
   {
    "duration": 5744,
    "start_time": "2021-06-24T22:20:24.838Z"
   },
   {
    "duration": 5632,
    "start_time": "2021-06-24T22:20:35.033Z"
   },
   {
    "duration": 5707,
    "start_time": "2021-06-24T22:20:46.660Z"
   },
   {
    "duration": 12,
    "start_time": "2021-06-24T22:23:16.939Z"
   },
   {
    "duration": 9,
    "start_time": "2021-06-24T22:23:30.763Z"
   },
   {
    "duration": 9,
    "start_time": "2021-06-24T22:23:40.980Z"
   },
   {
    "duration": 5856,
    "start_time": "2021-06-24T22:24:00.213Z"
   },
   {
    "duration": 9,
    "start_time": "2021-06-24T22:24:30.860Z"
   },
   {
    "duration": 5792,
    "start_time": "2021-06-24T22:24:36.733Z"
   },
   {
    "duration": 9,
    "start_time": "2021-06-24T22:24:54.660Z"
   },
   {
    "duration": 5757,
    "start_time": "2021-06-24T22:25:57.014Z"
   },
   {
    "duration": 5689,
    "start_time": "2021-06-24T22:26:33.803Z"
   },
   {
    "duration": 5679,
    "start_time": "2021-06-24T22:27:17.882Z"
   },
   {
    "duration": 9,
    "start_time": "2021-06-24T22:29:05.208Z"
   },
   {
    "duration": 10,
    "start_time": "2021-06-24T22:29:07.851Z"
   },
   {
    "duration": 10,
    "start_time": "2021-06-24T22:29:11.053Z"
   },
   {
    "duration": 9,
    "start_time": "2021-06-24T22:30:37.826Z"
   },
   {
    "duration": 9,
    "start_time": "2021-06-24T22:30:41.556Z"
   },
   {
    "duration": 8,
    "start_time": "2021-06-24T22:30:44.750Z"
   },
   {
    "duration": 6020,
    "start_time": "2021-06-24T22:30:54.806Z"
   },
   {
    "duration": 5658,
    "start_time": "2021-06-24T22:31:04.798Z"
   },
   {
    "duration": 10,
    "start_time": "2021-06-24T22:31:32.419Z"
   },
   {
    "duration": 8,
    "start_time": "2021-06-24T22:31:35.152Z"
   },
   {
    "duration": 1488,
    "start_time": "2021-06-24T22:31:39.941Z"
   },
   {
    "duration": 479,
    "start_time": "2021-06-24T22:31:41.431Z"
   },
   {
    "duration": 39,
    "start_time": "2021-06-24T22:31:41.913Z"
   },
   {
    "duration": 14,
    "start_time": "2021-06-24T22:31:41.955Z"
   },
   {
    "duration": 50,
    "start_time": "2021-06-24T22:31:41.971Z"
   },
   {
    "duration": 15,
    "start_time": "2021-06-24T22:31:42.023Z"
   },
   {
    "duration": 847,
    "start_time": "2021-06-24T22:31:42.041Z"
   },
   {
    "duration": 7,
    "start_time": "2021-06-24T22:31:42.890Z"
   },
   {
    "duration": 223,
    "start_time": "2021-06-24T22:31:42.911Z"
   },
   {
    "duration": 29,
    "start_time": "2021-06-24T22:31:43.137Z"
   },
   {
    "duration": 45,
    "start_time": "2021-06-24T22:31:43.168Z"
   },
   {
    "duration": 25,
    "start_time": "2021-06-24T22:31:43.216Z"
   },
   {
    "duration": 24,
    "start_time": "2021-06-24T22:31:43.244Z"
   },
   {
    "duration": 137,
    "start_time": "2021-06-24T22:31:43.271Z"
   },
   {
    "duration": 112,
    "start_time": "2021-06-24T22:31:43.414Z"
   },
   {
    "duration": 201,
    "start_time": "2021-06-24T22:31:43.612Z"
   },
   {
    "duration": 141,
    "start_time": "2021-06-24T22:31:43.817Z"
   },
   {
    "duration": 5,
    "start_time": "2021-06-24T22:31:43.961Z"
   },
   {
    "duration": 41,
    "start_time": "2021-06-24T22:31:43.969Z"
   },
   {
    "duration": 13,
    "start_time": "2021-06-24T22:31:44.013Z"
   },
   {
    "duration": 13,
    "start_time": "2021-06-24T22:31:44.029Z"
   },
   {
    "duration": 7,
    "start_time": "2021-06-24T22:31:44.044Z"
   },
   {
    "duration": 14,
    "start_time": "2021-06-24T22:31:44.053Z"
   },
   {
    "duration": 6720,
    "start_time": "2021-06-24T22:31:44.070Z"
   },
   {
    "duration": -151,
    "start_time": "2021-06-24T22:31:50.943Z"
   },
   {
    "duration": -152,
    "start_time": "2021-06-24T22:31:50.946Z"
   },
   {
    "duration": -158,
    "start_time": "2021-06-24T22:31:50.953Z"
   },
   {
    "duration": -158,
    "start_time": "2021-06-24T22:31:50.954Z"
   },
   {
    "duration": -158,
    "start_time": "2021-06-24T22:31:50.956Z"
   },
   {
    "duration": 5,
    "start_time": "2021-06-24T22:33:14.119Z"
   },
   {
    "duration": 4,
    "start_time": "2021-06-24T22:33:15.755Z"
   },
   {
    "duration": 5722,
    "start_time": "2021-06-24T22:33:17.298Z"
   },
   {
    "duration": 14,
    "start_time": "2021-06-24T22:33:29.670Z"
   },
   {
    "duration": 365,
    "start_time": "2021-06-24T22:33:32.363Z"
   },
   {
    "duration": 5919,
    "start_time": "2021-06-24T22:33:45.910Z"
   },
   {
    "duration": 6100,
    "start_time": "2021-06-24T22:33:55.924Z"
   },
   {
    "duration": 5954,
    "start_time": "2021-06-24T22:34:33.910Z"
   },
   {
    "duration": 6234,
    "start_time": "2021-06-24T22:34:52.976Z"
   },
   {
    "duration": 1426,
    "start_time": "2021-06-24T22:35:10.197Z"
   },
   {
    "duration": 472,
    "start_time": "2021-06-24T22:35:11.626Z"
   },
   {
    "duration": 41,
    "start_time": "2021-06-24T22:35:12.102Z"
   },
   {
    "duration": 14,
    "start_time": "2021-06-24T22:35:12.146Z"
   },
   {
    "duration": 14,
    "start_time": "2021-06-24T22:35:12.163Z"
   },
   {
    "duration": 41,
    "start_time": "2021-06-24T22:35:12.180Z"
   },
   {
    "duration": 824,
    "start_time": "2021-06-24T22:35:12.223Z"
   },
   {
    "duration": 7,
    "start_time": "2021-06-24T22:35:13.050Z"
   },
   {
    "duration": 222,
    "start_time": "2021-06-24T22:35:13.061Z"
   },
   {
    "duration": 40,
    "start_time": "2021-06-24T22:35:13.286Z"
   },
   {
    "duration": 24,
    "start_time": "2021-06-24T22:35:13.329Z"
   },
   {
    "duration": 25,
    "start_time": "2021-06-24T22:35:13.356Z"
   },
   {
    "duration": 50,
    "start_time": "2021-06-24T22:35:13.383Z"
   },
   {
    "duration": 73,
    "start_time": "2021-06-24T22:35:13.435Z"
   },
   {
    "duration": 112,
    "start_time": "2021-06-24T22:35:13.512Z"
   },
   {
    "duration": 197,
    "start_time": "2021-06-24T22:35:13.628Z"
   },
   {
    "duration": 221,
    "start_time": "2021-06-24T22:35:13.829Z"
   },
   {
    "duration": 5,
    "start_time": "2021-06-24T22:35:14.053Z"
   },
   {
    "duration": 13,
    "start_time": "2021-06-24T22:35:14.060Z"
   },
   {
    "duration": 39,
    "start_time": "2021-06-24T22:35:14.075Z"
   },
   {
    "duration": 10,
    "start_time": "2021-06-24T22:35:14.116Z"
   },
   {
    "duration": 4,
    "start_time": "2021-06-24T22:35:14.128Z"
   },
   {
    "duration": 6,
    "start_time": "2021-06-24T22:35:14.135Z"
   },
   {
    "duration": 5657,
    "start_time": "2021-06-24T22:35:14.143Z"
   },
   {
    "duration": 5644,
    "start_time": "2021-06-24T22:35:19.802Z"
   },
   {
    "duration": 5822,
    "start_time": "2021-06-24T22:35:25.448Z"
   },
   {
    "duration": 5,
    "start_time": "2021-06-25T15:31:47.018Z"
   },
   {
    "duration": 1515,
    "start_time": "2021-06-25T15:32:15.884Z"
   },
   {
    "duration": 459,
    "start_time": "2021-06-25T15:32:19.053Z"
   },
   {
    "duration": 36,
    "start_time": "2021-06-25T15:32:20.725Z"
   },
   {
    "duration": 16,
    "start_time": "2021-06-25T15:32:23.193Z"
   },
   {
    "duration": 19,
    "start_time": "2021-06-25T15:32:23.795Z"
   },
   {
    "duration": 14,
    "start_time": "2021-06-25T15:32:24.434Z"
   },
   {
    "duration": 852,
    "start_time": "2021-06-25T15:32:26.884Z"
   },
   {
    "duration": 8,
    "start_time": "2021-06-25T15:32:29.970Z"
   },
   {
    "duration": 186,
    "start_time": "2021-06-25T15:32:32.204Z"
   },
   {
    "duration": 28,
    "start_time": "2021-06-25T15:32:34.025Z"
   },
   {
    "duration": 4,
    "start_time": "2021-06-25T15:32:37.062Z"
   },
   {
    "duration": 453,
    "start_time": "2021-06-25T15:32:39.496Z"
   },
   {
    "duration": 654,
    "start_time": "2021-06-25T15:32:58.182Z"
   },
   {
    "duration": 5,
    "start_time": "2021-06-25T15:33:49.819Z"
   },
   {
    "duration": 22,
    "start_time": "2021-06-25T15:33:52.364Z"
   },
   {
    "duration": 20,
    "start_time": "2021-06-25T15:34:02.664Z"
   },
   {
    "duration": 20,
    "start_time": "2021-06-25T15:34:11.445Z"
   },
   {
    "duration": 94,
    "start_time": "2021-06-25T15:41:50.943Z"
   },
   {
    "duration": 95,
    "start_time": "2021-06-25T15:41:55.849Z"
   },
   {
    "duration": 102,
    "start_time": "2021-06-25T15:42:02.064Z"
   },
   {
    "duration": 21,
    "start_time": "2021-06-25T15:42:13.053Z"
   },
   {
    "duration": 22,
    "start_time": "2021-06-25T15:42:33.461Z"
   },
   {
    "duration": 21,
    "start_time": "2021-06-25T15:42:46.507Z"
   },
   {
    "duration": 21,
    "start_time": "2021-06-25T15:42:52.168Z"
   },
   {
    "duration": 21,
    "start_time": "2021-06-25T15:44:21.497Z"
   },
   {
    "duration": 21,
    "start_time": "2021-06-25T15:44:23.595Z"
   },
   {
    "duration": 5,
    "start_time": "2021-06-25T15:50:58.225Z"
   },
   {
    "duration": 338,
    "start_time": "2021-06-25T15:51:50.954Z"
   },
   {
    "duration": 4,
    "start_time": "2021-06-25T15:51:55.863Z"
   },
   {
    "duration": 17,
    "start_time": "2021-06-25T15:51:57.591Z"
   },
   {
    "duration": 19,
    "start_time": "2021-06-25T15:52:13.606Z"
   },
   {
    "duration": 17,
    "start_time": "2021-06-25T15:52:22.293Z"
   },
   {
    "duration": 5,
    "start_time": "2021-06-25T15:56:44.200Z"
   },
   {
    "duration": 286,
    "start_time": "2021-06-25T15:56:46.259Z"
   },
   {
    "duration": 21,
    "start_time": "2021-06-25T15:57:14.206Z"
   },
   {
    "duration": 760,
    "start_time": "2021-06-25T15:58:24.365Z"
   },
   {
    "duration": 5,
    "start_time": "2021-06-25T15:58:32.621Z"
   },
   {
    "duration": 17,
    "start_time": "2021-06-25T15:58:34.332Z"
   },
   {
    "duration": 15,
    "start_time": "2021-06-25T15:58:47.055Z"
   },
   {
    "duration": 6,
    "start_time": "2021-06-25T15:59:50.533Z"
   },
   {
    "duration": 416,
    "start_time": "2021-06-25T16:00:39.296Z"
   },
   {
    "duration": 35,
    "start_time": "2021-06-25T16:02:28.789Z"
   },
   {
    "duration": 31,
    "start_time": "2021-06-25T16:03:40.278Z"
   },
   {
    "duration": 367,
    "start_time": "2021-06-25T16:03:50.557Z"
   },
   {
    "duration": 370,
    "start_time": "2021-06-25T16:04:02.819Z"
   },
   {
    "duration": 324,
    "start_time": "2021-06-25T16:04:17.898Z"
   },
   {
    "duration": 6,
    "start_time": "2021-06-25T16:04:25.526Z"
   },
   {
    "duration": 428,
    "start_time": "2021-06-25T16:04:27.057Z"
   },
   {
    "duration": 66,
    "start_time": "2021-06-25T16:04:35.620Z"
   },
   {
    "duration": 41,
    "start_time": "2021-06-25T16:04:41.445Z"
   },
   {
    "duration": 74,
    "start_time": "2021-06-25T16:04:54.312Z"
   },
   {
    "duration": 348,
    "start_time": "2021-06-25T16:06:00.545Z"
   },
   {
    "duration": 7,
    "start_time": "2021-06-25T16:06:04.701Z"
   },
   {
    "duration": 372,
    "start_time": "2021-06-25T16:06:07.274Z"
   },
   {
    "duration": 6,
    "start_time": "2021-06-25T16:06:23.662Z"
   },
   {
    "duration": 5,
    "start_time": "2021-06-25T16:06:31.853Z"
   },
   {
    "duration": 307,
    "start_time": "2021-06-25T16:06:33.574Z"
   },
   {
    "duration": 5,
    "start_time": "2021-06-25T16:06:52.593Z"
   },
   {
    "duration": 360,
    "start_time": "2021-06-25T16:06:54.731Z"
   },
   {
    "duration": 35,
    "start_time": "2021-06-25T16:07:14.070Z"
   },
   {
    "duration": 356,
    "start_time": "2021-06-25T16:07:27.618Z"
   },
   {
    "duration": 37,
    "start_time": "2021-06-25T16:07:34.970Z"
   },
   {
    "duration": 66,
    "start_time": "2021-06-25T16:14:00.820Z"
   },
   {
    "duration": 36,
    "start_time": "2021-06-25T16:15:05.855Z"
   },
   {
    "duration": 4,
    "start_time": "2021-06-25T16:15:40.219Z"
   },
   {
    "duration": 14,
    "start_time": "2021-06-25T16:24:30.366Z"
   },
   {
    "duration": 5,
    "start_time": "2021-06-25T16:24:37.613Z"
   },
   {
    "duration": 5,
    "start_time": "2021-06-25T16:30:19.331Z"
   },
   {
    "duration": 5,
    "start_time": "2021-06-25T16:30:31.954Z"
   },
   {
    "duration": 6,
    "start_time": "2021-06-25T17:04:32.749Z"
   },
   {
    "duration": 15,
    "start_time": "2021-06-25T17:06:34.611Z"
   },
   {
    "duration": 312,
    "start_time": "2021-06-25T17:07:42.197Z"
   },
   {
    "duration": 24,
    "start_time": "2021-06-25T17:07:58.594Z"
   },
   {
    "duration": 11,
    "start_time": "2021-06-25T17:08:04.210Z"
   },
   {
    "duration": 8,
    "start_time": "2021-06-25T17:13:00.698Z"
   },
   {
    "duration": 628,
    "start_time": "2021-06-25T17:13:04.024Z"
   },
   {
    "duration": 7,
    "start_time": "2021-06-25T17:13:28.929Z"
   },
   {
    "duration": 50,
    "start_time": "2021-06-25T17:13:31.169Z"
   },
   {
    "duration": 10,
    "start_time": "2021-06-25T17:13:42.186Z"
   },
   {
    "duration": 48,
    "start_time": "2021-06-25T17:14:56.044Z"
   },
   {
    "duration": 71,
    "start_time": "2021-06-25T17:16:18.614Z"
   },
   {
    "duration": 100,
    "start_time": "2021-06-25T17:16:21.885Z"
   },
   {
    "duration": 50,
    "start_time": "2021-06-25T17:16:58.061Z"
   },
   {
    "duration": 52,
    "start_time": "2021-06-25T17:18:07.350Z"
   },
   {
    "duration": 12,
    "start_time": "2021-06-25T17:22:02.645Z"
   },
   {
    "duration": 612,
    "start_time": "2021-06-25T17:22:05.010Z"
   },
   {
    "duration": 8,
    "start_time": "2021-06-25T17:22:26.728Z"
   },
   {
    "duration": 13,
    "start_time": "2021-06-25T17:22:36.038Z"
   },
   {
    "duration": 14,
    "start_time": "2021-06-25T17:22:43.840Z"
   },
   {
    "duration": 20,
    "start_time": "2021-06-25T17:22:46.085Z"
   },
   {
    "duration": 10,
    "start_time": "2021-06-25T17:29:25.379Z"
   },
   {
    "duration": 16,
    "start_time": "2021-06-25T17:29:27.351Z"
   },
   {
    "duration": 17,
    "start_time": "2021-06-25T17:29:29.312Z"
   },
   {
    "duration": 14,
    "start_time": "2021-06-25T17:29:31.329Z"
   },
   {
    "duration": 4,
    "start_time": "2021-06-25T17:29:33.667Z"
   },
   {
    "duration": 4,
    "start_time": "2021-06-25T17:29:36.386Z"
   },
   {
    "duration": 5871,
    "start_time": "2021-06-25T17:29:41.090Z"
   },
   {
    "duration": 5988,
    "start_time": "2021-06-25T17:29:59.501Z"
   },
   {
    "duration": 5566,
    "start_time": "2021-06-25T17:30:40.748Z"
   },
   {
    "duration": 9666,
    "start_time": "2021-06-25T17:31:28.869Z"
   },
   {
    "duration": 100,
    "start_time": "2021-06-25T17:32:53.255Z"
   },
   {
    "duration": 5723,
    "start_time": "2021-06-25T17:33:03.463Z"
   },
   {
    "duration": 6170,
    "start_time": "2021-06-25T17:33:28.629Z"
   },
   {
    "duration": 5762,
    "start_time": "2021-06-25T17:34:01.490Z"
   },
   {
    "duration": 10,
    "start_time": "2021-06-25T17:34:17.019Z"
   },
   {
    "duration": 5402,
    "start_time": "2021-06-25T17:34:45.315Z"
   },
   {
    "duration": 4,
    "start_time": "2021-06-25T17:37:02.873Z"
   },
   {
    "duration": 4,
    "start_time": "2021-06-25T17:37:04.678Z"
   },
   {
    "duration": 5433,
    "start_time": "2021-06-25T17:37:06.447Z"
   },
   {
    "duration": 5448,
    "start_time": "2021-06-25T17:37:26.424Z"
   },
   {
    "duration": 5805,
    "start_time": "2021-06-25T17:38:07.849Z"
   },
   {
    "duration": 5,
    "start_time": "2021-06-25T17:56:11.091Z"
   },
   {
    "duration": 5693,
    "start_time": "2021-06-25T17:56:14.567Z"
   },
   {
    "duration": 5425,
    "start_time": "2021-06-25T17:56:22.716Z"
   },
   {
    "duration": 5513,
    "start_time": "2021-06-25T17:56:28.143Z"
   },
   {
    "duration": 110,
    "start_time": "2021-06-25T18:04:26.661Z"
   },
   {
    "duration": 5921,
    "start_time": "2021-06-25T18:05:44.417Z"
   },
   {
    "duration": 5804,
    "start_time": "2021-06-25T18:06:00.555Z"
   },
   {
    "duration": 6122,
    "start_time": "2021-06-25T18:06:35.181Z"
   },
   {
    "duration": 5636,
    "start_time": "2021-06-25T18:06:54.345Z"
   },
   {
    "duration": 6062,
    "start_time": "2021-06-25T18:07:01.871Z"
   },
   {
    "duration": 6185,
    "start_time": "2021-06-25T18:07:09.645Z"
   },
   {
    "duration": 5416,
    "start_time": "2021-06-25T18:09:12.536Z"
   },
   {
    "duration": 5477,
    "start_time": "2021-06-25T18:09:32.535Z"
   },
   {
    "duration": 5531,
    "start_time": "2021-06-25T18:09:53.292Z"
   },
   {
    "duration": 5903,
    "start_time": "2021-06-25T18:10:01.730Z"
   },
   {
    "duration": 5398,
    "start_time": "2021-06-25T18:10:52.546Z"
   },
   {
    "duration": 6014,
    "start_time": "2021-06-25T18:10:57.947Z"
   },
   {
    "duration": 5522,
    "start_time": "2021-06-25T18:11:03.965Z"
   },
   {
    "duration": 5462,
    "start_time": "2021-06-25T18:11:23.777Z"
   },
   {
    "duration": 5418,
    "start_time": "2021-06-25T18:11:29.242Z"
   },
   {
    "duration": 5401,
    "start_time": "2021-06-25T18:11:42.146Z"
   },
   {
    "duration": 5613,
    "start_time": "2021-06-25T18:11:47.550Z"
   },
   {
    "duration": 8,
    "start_time": "2021-06-25T19:49:31.422Z"
   },
   {
    "duration": 14,
    "start_time": "2021-06-25T19:50:10.481Z"
   },
   {
    "duration": 50,
    "start_time": "2021-06-25T20:02:16.253Z"
   },
   {
    "duration": 11,
    "start_time": "2021-06-25T20:04:12.786Z"
   },
   {
    "duration": 10,
    "start_time": "2021-06-25T20:04:35.757Z"
   },
   {
    "duration": 105,
    "start_time": "2021-06-25T20:04:40.177Z"
   },
   {
    "duration": 23,
    "start_time": "2021-06-25T20:04:48.425Z"
   },
   {
    "duration": 8,
    "start_time": "2021-06-25T20:04:55.082Z"
   },
   {
    "duration": 8,
    "start_time": "2021-06-25T20:05:04.308Z"
   },
   {
    "duration": 311,
    "start_time": "2021-06-25T20:05:12.164Z"
   },
   {
    "duration": 7,
    "start_time": "2021-06-25T20:05:30.480Z"
   },
   {
    "duration": 7,
    "start_time": "2021-06-25T20:05:40.593Z"
   },
   {
    "duration": 320,
    "start_time": "2021-06-25T20:05:50.122Z"
   },
   {
    "duration": 348,
    "start_time": "2021-06-25T20:06:07.411Z"
   },
   {
    "duration": 21,
    "start_time": "2021-06-25T20:06:52.194Z"
   },
   {
    "duration": 8,
    "start_time": "2021-06-25T20:08:07.311Z"
   },
   {
    "duration": 365,
    "start_time": "2021-06-25T20:09:22.217Z"
   },
   {
    "duration": 6,
    "start_time": "2021-06-25T20:09:31.858Z"
   },
   {
    "duration": 339,
    "start_time": "2021-06-25T20:09:36.532Z"
   },
   {
    "duration": 23,
    "start_time": "2021-06-25T20:09:43.964Z"
   },
   {
    "duration": 329,
    "start_time": "2021-06-25T20:13:06.731Z"
   },
   {
    "duration": 8432,
    "start_time": "2021-06-25T20:13:53.828Z"
   },
   {
    "duration": 7292,
    "start_time": "2021-06-25T20:14:13.858Z"
   },
   {
    "duration": 8,
    "start_time": "2021-06-25T20:16:15.952Z"
   },
   {
    "duration": 8,
    "start_time": "2021-06-25T20:16:21.044Z"
   },
   {
    "duration": 9,
    "start_time": "2021-06-25T20:16:30.808Z"
   },
   {
    "duration": 8,
    "start_time": "2021-06-25T20:16:40.128Z"
   },
   {
    "duration": 8,
    "start_time": "2021-06-25T20:16:44.162Z"
   },
   {
    "duration": 7,
    "start_time": "2021-06-25T20:16:55.071Z"
   },
   {
    "duration": 99,
    "start_time": "2021-06-25T20:18:41.186Z"
   },
   {
    "duration": 8,
    "start_time": "2021-06-25T20:18:47.220Z"
   },
   {
    "duration": 8,
    "start_time": "2021-06-25T20:19:00.146Z"
   },
   {
    "duration": 9,
    "start_time": "2021-06-25T20:19:04.811Z"
   },
   {
    "duration": 10,
    "start_time": "2021-06-25T20:19:12.829Z"
   },
   {
    "duration": 11,
    "start_time": "2021-06-25T20:22:34.298Z"
   },
   {
    "duration": 6,
    "start_time": "2021-06-25T21:04:26.058Z"
   },
   {
    "duration": 325,
    "start_time": "2021-06-25T21:09:03.085Z"
   },
   {
    "duration": 573,
    "start_time": "2021-06-25T21:09:10.442Z"
   },
   {
    "duration": 593,
    "start_time": "2021-06-25T21:09:33.758Z"
   },
   {
    "duration": 590,
    "start_time": "2021-06-25T21:09:41.947Z"
   },
   {
    "duration": 306,
    "start_time": "2021-06-25T21:16:06.888Z"
   },
   {
    "duration": 6,
    "start_time": "2021-06-25T21:16:11.872Z"
   },
   {
    "duration": 654,
    "start_time": "2021-06-25T21:16:13.442Z"
   },
   {
    "duration": 633,
    "start_time": "2021-06-25T21:16:37.205Z"
   },
   {
    "duration": 6460,
    "start_time": "2021-06-25T21:16:59.710Z"
   },
   {
    "duration": 6,
    "start_time": "2021-06-25T21:23:52.744Z"
   },
   {
    "duration": 580,
    "start_time": "2021-06-25T21:23:56.490Z"
   },
   {
    "duration": 675,
    "start_time": "2021-06-25T21:24:05.999Z"
   },
   {
    "duration": 647,
    "start_time": "2021-06-25T21:24:17.509Z"
   },
   {
    "duration": 10,
    "start_time": "2021-06-25T21:24:29.756Z"
   },
   {
    "duration": 11,
    "start_time": "2021-06-25T21:28:08.680Z"
   },
   {
    "duration": 9,
    "start_time": "2021-06-25T21:28:18.825Z"
   },
   {
    "duration": 9,
    "start_time": "2021-06-25T21:28:25.726Z"
   },
   {
    "duration": 5460,
    "start_time": "2021-06-25T21:28:33.592Z"
   },
   {
    "duration": 10,
    "start_time": "2021-06-25T21:31:07.142Z"
   },
   {
    "duration": 11,
    "start_time": "2021-06-25T21:31:24.664Z"
   },
   {
    "duration": 10,
    "start_time": "2021-06-25T21:31:43.429Z"
   },
   {
    "duration": 5372,
    "start_time": "2021-06-25T21:31:47.973Z"
   },
   {
    "duration": 5490,
    "start_time": "2021-06-25T21:32:01.196Z"
   },
   {
    "duration": 5432,
    "start_time": "2021-06-25T21:32:49.136Z"
   },
   {
    "duration": 5570,
    "start_time": "2021-06-25T21:33:26.231Z"
   },
   {
    "duration": 5575,
    "start_time": "2021-06-25T21:33:36.599Z"
   },
   {
    "duration": 5802,
    "start_time": "2021-06-25T21:33:52.080Z"
   },
   {
    "duration": 5933,
    "start_time": "2021-06-25T21:34:17.833Z"
   },
   {
    "duration": 7,
    "start_time": "2021-06-25T21:36:01.994Z"
   },
   {
    "duration": 5532,
    "start_time": "2021-06-25T21:36:26.118Z"
   },
   {
    "duration": 5640,
    "start_time": "2021-06-25T21:36:33.518Z"
   },
   {
    "duration": 5480,
    "start_time": "2021-06-25T21:36:40.636Z"
   },
   {
    "duration": 1392,
    "start_time": "2021-06-25T21:38:27.915Z"
   },
   {
    "duration": 491,
    "start_time": "2021-06-25T21:38:29.309Z"
   },
   {
    "duration": 36,
    "start_time": "2021-06-25T21:38:29.803Z"
   },
   {
    "duration": 14,
    "start_time": "2021-06-25T21:38:29.841Z"
   },
   {
    "duration": 32,
    "start_time": "2021-06-25T21:38:29.858Z"
   },
   {
    "duration": 14,
    "start_time": "2021-06-25T21:38:29.893Z"
   },
   {
    "duration": 15,
    "start_time": "2021-06-25T21:38:29.909Z"
   },
   {
    "duration": 828,
    "start_time": "2021-06-25T21:38:29.928Z"
   },
   {
    "duration": 7,
    "start_time": "2021-06-25T21:38:30.759Z"
   },
   {
    "duration": 245,
    "start_time": "2021-06-25T21:38:30.769Z"
   },
   {
    "duration": 30,
    "start_time": "2021-06-25T21:38:31.017Z"
   },
   {
    "duration": 4,
    "start_time": "2021-06-25T21:38:31.049Z"
   },
   {
    "duration": 33,
    "start_time": "2021-06-25T21:38:31.056Z"
   },
   {
    "duration": 195,
    "start_time": "2021-06-25T21:38:31.091Z"
   },
   {
    "duration": 198,
    "start_time": "2021-06-25T21:38:31.289Z"
   },
   {
    "duration": 198,
    "start_time": "2021-06-25T21:38:31.490Z"
   },
   {
    "duration": 94,
    "start_time": "2021-06-25T21:38:31.692Z"
   },
   {
    "duration": 19,
    "start_time": "2021-06-25T21:38:31.789Z"
   },
   {
    "duration": 10,
    "start_time": "2021-06-25T21:38:31.810Z"
   },
   {
    "duration": 7,
    "start_time": "2021-06-25T21:38:31.823Z"
   },
   {
    "duration": 31,
    "start_time": "2021-06-25T21:38:31.833Z"
   },
   {
    "duration": 14,
    "start_time": "2021-06-25T21:38:31.885Z"
   },
   {
    "duration": 14,
    "start_time": "2021-06-25T21:38:31.903Z"
   },
   {
    "duration": 5,
    "start_time": "2021-06-25T21:38:31.919Z"
   },
   {
    "duration": 12,
    "start_time": "2021-06-25T21:38:31.926Z"
   },
   {
    "duration": 5742,
    "start_time": "2021-06-25T21:38:31.940Z"
   },
   {
    "duration": 5794,
    "start_time": "2021-06-25T21:38:37.686Z"
   },
   {
    "duration": 5532,
    "start_time": "2021-06-25T21:38:43.486Z"
   },
   {
    "duration": 4,
    "start_time": "2021-06-25T21:38:49.020Z"
   },
   {
    "duration": 1619,
    "start_time": "2023-10-17T14:29:41.393Z"
   },
   {
    "duration": 1689,
    "start_time": "2023-10-17T14:29:44.111Z"
   },
   {
    "duration": 41,
    "start_time": "2023-10-17T14:29:46.720Z"
   },
   {
    "duration": 3420,
    "start_time": "2023-10-17T14:30:31.539Z"
   }
  ],
  "kernelspec": {
   "display_name": "Python 3 (ipykernel)",
   "language": "python",
   "name": "python3"
  },
  "language_info": {
   "codemirror_mode": {
    "name": "ipython",
    "version": 3
   },
   "file_extension": ".py",
   "mimetype": "text/x-python",
   "name": "python",
   "nbconvert_exporter": "python",
   "pygments_lexer": "ipython3",
   "version": "3.9.5"
  },
  "toc": {
   "base_numbering": 1,
   "nav_menu": {},
   "number_sections": true,
   "sideBar": true,
   "skip_h1_title": true,
   "title_cell": "Table of Contents",
   "title_sidebar": "Contents",
   "toc_cell": false,
   "toc_position": {},
   "toc_section_display": true,
   "toc_window_display": true
  }
 },
 "nbformat": 4,
 "nbformat_minor": 2
}
