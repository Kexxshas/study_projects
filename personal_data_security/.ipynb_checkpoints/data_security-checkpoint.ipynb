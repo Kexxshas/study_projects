{
 "cells": [
  {
   "cell_type": "markdown",
   "metadata": {
    "toc": true
   },
   "source": [
    "<h1>Содержание<span class=\"tocSkip\"></span></h1><br>\n",
    "\n",
    "<div class=\"toc\"><ul class=\"toc-item\"><span><a href=\"#Загрузка-данных\" data-toc-modified-id=\"Загрузка-данных-1\"><span class=\"toc-item-num\">1&nbsp;&nbsp;</span>Загрузка данных</a></span><br><span><a href=\"#Умножение-матриц\" data-toc-modified-id=\"Умножение-матриц-2\"><span class=\"toc-item-num\">2&nbsp;&nbsp;</span>Умножение матриц</a></span><br><span><a href=\"#Алгоритм-преобразования\" data-toc-modified-id=\"Алгоритм-преобразования-3\"><span class=\"toc-item-num\">3&nbsp;&nbsp;</span>Алгоритм преобразования</a></span><br><span><a href=\"#Проверка-алгоритма\" data-toc-modified-id=\"Проверка-алгоритма-4\"><span class=\"toc-item-num\">4&nbsp;&nbsp;</span>Проверка алгоритма</a></span>"
   ]
  },
  {
   "cell_type": "markdown",
   "metadata": {},
   "source": [
    "# Защита персональных данных клиентов"
   ]
  },
  {
   "cell_type": "markdown",
   "metadata": {},
   "source": [
    "Необходимо защитить данные клиентов страховой компании. Для этого разработаем такой метод преобразования данных, чтобы по ним было сложно восстановить персональную информацию. Однако этот метод не должен ухудшать качество моделей машинного обучения."
   ]
  },
  {
   "cell_type": "markdown",
   "metadata": {},
   "source": [
    "## Загрузка данных"
   ]
  },
  {
   "cell_type": "code",
   "execution_count": 1,
   "metadata": {},
   "outputs": [],
   "source": [
    "import pandas as pd\n",
    "import numpy as np\n",
    "from sklearn.linear_model import LinearRegression\n",
    "from sklearn.metrics import r2_score"
   ]
  },
  {
   "cell_type": "code",
   "execution_count": 2,
   "metadata": {},
   "outputs": [
    {
     "name": "stdout",
     "output_type": "stream",
     "text": [
      "<class 'pandas.core.frame.DataFrame'>\n",
      "RangeIndex: 5000 entries, 0 to 4999\n",
      "Data columns (total 5 columns):\n",
      " #   Column             Non-Null Count  Dtype  \n",
      "---  ------             --------------  -----  \n",
      " 0   Пол                5000 non-null   int64  \n",
      " 1   Возраст            5000 non-null   float64\n",
      " 2   Зарплата           5000 non-null   float64\n",
      " 3   Члены семьи        5000 non-null   int64  \n",
      " 4   Страховые выплаты  5000 non-null   int64  \n",
      "dtypes: float64(2), int64(3)\n",
      "memory usage: 195.4 KB\n"
     ]
    }
   ],
   "source": [
    "df = pd.read_csv('insurance.csv')\n",
    "df.info()"
   ]
  },
  {
   "cell_type": "code",
   "execution_count": 3,
   "metadata": {},
   "outputs": [
    {
     "data": {
      "text/plain": [
       "(   Пол  Возраст  Зарплата  Члены семьи  Страховые выплаты\n",
       " 0    1     41.0   49600.0            1                  0\n",
       " 1    0     46.0   38000.0            1                  1\n",
       " 2    0     29.0   21000.0            0                  0\n",
       " 3    0     21.0   41700.0            2                  0\n",
       " 4    1     28.0   26100.0            0                  0,\n",
       "       Пол  Возраст  Зарплата  Члены семьи  Страховые выплаты\n",
       " 4995    0     28.0   35700.0            2                  0\n",
       " 4996    0     34.0   52400.0            1                  0\n",
       " 4997    0     20.0   33900.0            2                  0\n",
       " 4998    1     22.0   32700.0            3                  0\n",
       " 4999    1     28.0   40600.0            1                  0)"
      ]
     },
     "execution_count": 3,
     "metadata": {},
     "output_type": "execute_result"
    }
   ],
   "source": [
    "df.head(),\\\n",
    "df.tail()"
   ]
  },
  {
   "cell_type": "code",
   "execution_count": 4,
   "metadata": {},
   "outputs": [
    {
     "data": {
      "text/html": [
       "<div>\n",
       "<style scoped>\n",
       "    .dataframe tbody tr th:only-of-type {\n",
       "        vertical-align: middle;\n",
       "    }\n",
       "\n",
       "    .dataframe tbody tr th {\n",
       "        vertical-align: top;\n",
       "    }\n",
       "\n",
       "    .dataframe thead th {\n",
       "        text-align: right;\n",
       "    }\n",
       "</style>\n",
       "<table border=\"1\" class=\"dataframe\">\n",
       "  <thead>\n",
       "    <tr style=\"text-align: right;\">\n",
       "      <th></th>\n",
       "      <th>gender</th>\n",
       "      <th>age</th>\n",
       "      <th>salary</th>\n",
       "      <th>family_members</th>\n",
       "      <th>insurance_payments</th>\n",
       "    </tr>\n",
       "  </thead>\n",
       "  <tbody>\n",
       "    <tr>\n",
       "      <th>0</th>\n",
       "      <td>1</td>\n",
       "      <td>41.0</td>\n",
       "      <td>49600.0</td>\n",
       "      <td>1</td>\n",
       "      <td>0</td>\n",
       "    </tr>\n",
       "    <tr>\n",
       "      <th>1</th>\n",
       "      <td>0</td>\n",
       "      <td>46.0</td>\n",
       "      <td>38000.0</td>\n",
       "      <td>1</td>\n",
       "      <td>1</td>\n",
       "    </tr>\n",
       "    <tr>\n",
       "      <th>2</th>\n",
       "      <td>0</td>\n",
       "      <td>29.0</td>\n",
       "      <td>21000.0</td>\n",
       "      <td>0</td>\n",
       "      <td>0</td>\n",
       "    </tr>\n",
       "    <tr>\n",
       "      <th>3</th>\n",
       "      <td>0</td>\n",
       "      <td>21.0</td>\n",
       "      <td>41700.0</td>\n",
       "      <td>2</td>\n",
       "      <td>0</td>\n",
       "    </tr>\n",
       "    <tr>\n",
       "      <th>4</th>\n",
       "      <td>1</td>\n",
       "      <td>28.0</td>\n",
       "      <td>26100.0</td>\n",
       "      <td>0</td>\n",
       "      <td>0</td>\n",
       "    </tr>\n",
       "  </tbody>\n",
       "</table>\n",
       "</div>"
      ],
      "text/plain": [
       "   gender   age   salary  family_members  insurance_payments\n",
       "0       1  41.0  49600.0               1                   0\n",
       "1       0  46.0  38000.0               1                   1\n",
       "2       0  29.0  21000.0               0                   0\n",
       "3       0  21.0  41700.0               2                   0\n",
       "4       1  28.0  26100.0               0                   0"
      ]
     },
     "execution_count": 4,
     "metadata": {},
     "output_type": "execute_result"
    }
   ],
   "source": [
    "# Переименуем столбцы датафрейма.\n",
    "\n",
    "df.columns = ['gender', 'age', 'salary', 'family_members', 'insurance_payments']\n",
    "df.head()"
   ]
  },
  {
   "cell_type": "markdown",
   "metadata": {},
   "source": [
    "Имеющийся набор данных по клиентам представляет собой прямоугольную матрицу размерностью 5000 х 5, где:  \n",
    "Признаки: пол, возраст и зарплата застрахованного, количество членов его семьи.  \n",
    "Целевой признак: количество страховых выплат клиенту за последние 5 лет.\n",
    "  \n",
    "Нам необходимо придумать метод преобразования данных, чтобы по нему было сложно восстановить персональную информацию. Также следует учитывать, что предложенный метод не должен ухудшать качество моделей машинного обучения."
   ]
  },
  {
   "cell_type": "markdown",
   "metadata": {},
   "source": [
    "## Умножение матриц"
   ]
  },
  {
   "cell_type": "markdown",
   "metadata": {},
   "source": [
    "Обозначения:\n",
    "\n",
    "- $X$ — матрица признаков (нулевой столбец состоит из единиц)\n",
    "\n",
    "- $y$ — вектор целевого признака\n",
    "\n",
    "- $P$ — матрица, на которую умножаются признаки\n",
    "\n",
    "- $w$ — вектор весов линейной регрессии (нулевой элемент равен сдвигу)\n",
    "\n",
    "- $Z$ — обратимая матрица, выбранная случайным образом"
   ]
  },
  {
   "cell_type": "markdown",
   "metadata": {},
   "source": [
    "Предсказания:\n",
    "\n",
    "$$\n",
    "a = Xw\n",
    "$$\n",
    "\n",
    "Задача обучения:\n",
    "\n",
    "$$\n",
    "w = \\arg\\min_w MSE(Xw, y)\n",
    "$$\n",
    "\n",
    "Формула обучения:\n",
    "\n",
    "$$\n",
    "w = (X^T X)^{-1} X^T y\n",
    "$$"
   ]
  },
  {
   "cell_type": "markdown",
   "metadata": {},
   "source": [
    "**Ответ:** \n",
    "При умножении признаков на обратимую матрицу качество линейной регрессии не изменится.\n",
    "\n",
    "**Обоснование:**  \n",
    "  \n",
    "  \n",
    "1. Формула предсказания модели имеет следующий вид:\n",
    "$$\n",
    "a = X(X^T X)^{-1} X^T y\n",
    "$$  \n",
    "  \n",
    "  \n",
    "2. Проверим предположение о том, что умножение на обратимую матрицу $Z$ не изменит качество предсказания. Умножим все признаки (матрица $X$) на обратимую матрицу $Z$:\n",
    "\n",
    "$$\n",
    "a1 = (XZ)((XZ)^T (XZ))^{-1} (XZ)^T y\n",
    "$$\n",
    "  \n",
    "Раскроим скобки:\n",
    "  \n",
    "$$\n",
    "a1 = XZ(Z^T\\cdot  X^T\\cdot  X\\cdot  Z)^{-1} X^TZ^T y\n",
    "$$\n",
    "  \n",
    "$$\n",
    "a1 = XZ (Z^T\\cdot (X^T  X)\\cdot  Z)^{-1} X^TZ^T y\n",
    "$$ \n",
    "\n",
    "  \n",
    "$$\n",
    " a1 = X\\cdot Z\\cdot Z^{-1} \\cdot (X^T  X)^{-1} \\cdot (Z^T)^{-1} X^T\\cdot (Z^T)^{-1} y\n",
    "$$\n",
    "  \n",
    "При умножении $Z$ на обратную матрицу получаем единичную матрицу - $E$, выражение $(X^T)^{-1}X^{-1}$ преобразуем в $(X^TX)^{-1}$\n",
    "  \n",
    "$$ \n",
    "a1 = X\\cdot E\\cdot (X^T  X)^{-1}\\cdot X^T\\cdot E\\cdot y\n",
    "$$\n",
    "  \n",
    "При умножении $X$ на единичную матрицу($E$), получаем $X$.\n",
    "  \n",
    "$$ \n",
    "a1 = X(X^TX)^{-1}X^T y\n",
    "$$\n",
    "  \n",
    "\n",
    "В результате получили, что все обратимые матрицы $Z$ сокращаются, а исходные значения равны преобразованным: $a=a1$"
   ]
  },
  {
   "cell_type": "markdown",
   "metadata": {},
   "source": [
    "## Алгоритм преобразования"
   ]
  },
  {
   "cell_type": "markdown",
   "metadata": {},
   "source": [
    "**Алгоритм**\n",
    "  \n",
    "В нашем случае матрица признаков $X$ является прямоугольной матрицей, и она не имеет обратной. Чтобы проверить нашу гипотезу необходимо подобрать такую матрицу $Z$, чтобы она была обратимой и была правильной размерности."
   ]
  },
  {
   "cell_type": "markdown",
   "metadata": {},
   "source": [
    "**Обоснование**"
   ]
  },
  {
   "cell_type": "code",
   "execution_count": 5,
   "metadata": {},
   "outputs": [
    {
     "data": {
      "text/plain": [
       "(array([[0.7665316 , 0.56193249, 0.7875241 , 0.48152532],\n",
       "        [0.59788684, 0.62663908, 0.62983741, 0.88970828],\n",
       "        [0.41169727, 0.35003553, 0.93966029, 0.67531537],\n",
       "        [0.74349642, 0.30325547, 0.70713274, 0.93956704]]),\n",
       " array([[ 1.67024412, -1.31267611, -1.76691788,  1.65699808],\n",
       "        [ 0.55793123,  2.40523653, -0.32806523, -2.32774171],\n",
       "        [ 0.30421258, -1.10965824,  1.91591702, -0.48220312],\n",
       "        [-1.73072792,  1.09757418,  0.06213186,  0.8673249 ]]))"
      ]
     },
     "execution_count": 5,
     "metadata": {},
     "output_type": "execute_result"
    }
   ],
   "source": [
    "# Создадим случайную квадратную матрицу Z:\n",
    "Z = np.random.rand(4, 4)\n",
    "\n",
    "# Проверим, что сгенерированная матрица обратима.\n",
    "Y = np.linalg.inv(Z)\n",
    "\n",
    "Z, Y"
   ]
  },
  {
   "cell_type": "code",
   "execution_count": 6,
   "metadata": {},
   "outputs": [
    {
     "data": {
      "text/plain": [
       "(array([[1.00e+00, 4.10e+01, 4.96e+04, 1.00e+00],\n",
       "        [0.00e+00, 4.60e+01, 3.80e+04, 1.00e+00],\n",
       "        [0.00e+00, 2.90e+01, 2.10e+04, 0.00e+00],\n",
       "        ...,\n",
       "        [0.00e+00, 2.00e+01, 3.39e+04, 2.00e+00],\n",
       "        [1.00e+00, 2.20e+01, 3.27e+04, 3.00e+00],\n",
       "        [1.00e+00, 2.80e+01, 4.06e+04, 1.00e+00]]),\n",
       " array([0, 1, 0, ..., 0, 0, 0], dtype=int64))"
      ]
     },
     "execution_count": 6,
     "metadata": {},
     "output_type": "execute_result"
    }
   ],
   "source": [
    "# Матрица X - все признаки клиентов, кроме целевого.\n",
    "X = df.drop('insurance_payments',axis = 1).values\n",
    "# y - целевой признак\n",
    "y = df['insurance_payments'].values\n",
    "\n",
    "X, y"
   ]
  },
  {
   "cell_type": "code",
   "execution_count": 7,
   "metadata": {},
   "outputs": [
    {
     "data": {
      "text/plain": [
       "array([3.34846873, 2.08891221, 0.94954357, ..., 1.98480564, 3.68668524,\n",
       "       2.92959115])"
      ]
     },
     "execution_count": 7,
     "metadata": {},
     "output_type": "execute_result"
    }
   ],
   "source": [
    "a = X@((X.T@X)**-1)@X.T@y\n",
    "a"
   ]
  },
  {
   "cell_type": "code",
   "execution_count": 8,
   "metadata": {},
   "outputs": [
    {
     "data": {
      "text/plain": [
       "array([2.7419083 , 2.10167124, 1.16167153, ..., 1.8734669 , 1.80748545,\n",
       "       2.24400781])"
      ]
     },
     "execution_count": 8,
     "metadata": {},
     "output_type": "execute_result"
    }
   ],
   "source": [
    "a1 = (X@Z)@((((X@Z).T)@(X@Z))**-1)@((X@Z).T)@y\n",
    "a1"
   ]
  },
  {
   "cell_type": "code",
   "execution_count": 9,
   "metadata": {},
   "outputs": [
    {
     "data": {
      "text/html": [
       "<div>\n",
       "<style scoped>\n",
       "    .dataframe tbody tr th:only-of-type {\n",
       "        vertical-align: middle;\n",
       "    }\n",
       "\n",
       "    .dataframe tbody tr th {\n",
       "        vertical-align: top;\n",
       "    }\n",
       "\n",
       "    .dataframe thead th {\n",
       "        text-align: right;\n",
       "    }\n",
       "</style>\n",
       "<table border=\"1\" class=\"dataframe\">\n",
       "  <thead>\n",
       "    <tr style=\"text-align: right;\">\n",
       "      <th></th>\n",
       "      <th>a</th>\n",
       "      <th>a1</th>\n",
       "    </tr>\n",
       "  </thead>\n",
       "  <tbody>\n",
       "    <tr>\n",
       "      <th>0</th>\n",
       "      <td>3.348469</td>\n",
       "      <td>2.741908</td>\n",
       "    </tr>\n",
       "    <tr>\n",
       "      <th>1</th>\n",
       "      <td>2.088912</td>\n",
       "      <td>2.101671</td>\n",
       "    </tr>\n",
       "    <tr>\n",
       "      <th>2</th>\n",
       "      <td>0.949544</td>\n",
       "      <td>1.161672</td>\n",
       "    </tr>\n",
       "    <tr>\n",
       "      <th>3</th>\n",
       "      <td>2.133485</td>\n",
       "      <td>2.304239</td>\n",
       "    </tr>\n",
       "    <tr>\n",
       "      <th>4</th>\n",
       "      <td>2.186112</td>\n",
       "      <td>1.443280</td>\n",
       "    </tr>\n",
       "    <tr>\n",
       "      <th>...</th>\n",
       "      <td>...</td>\n",
       "      <td>...</td>\n",
       "    </tr>\n",
       "    <tr>\n",
       "      <th>4995</th>\n",
       "      <td>2.181323</td>\n",
       "      <td>1.973437</td>\n",
       "    </tr>\n",
       "    <tr>\n",
       "      <th>4996</th>\n",
       "      <td>2.074315</td>\n",
       "      <td>2.895944</td>\n",
       "    </tr>\n",
       "    <tr>\n",
       "      <th>4997</th>\n",
       "      <td>1.984806</td>\n",
       "      <td>1.873467</td>\n",
       "    </tr>\n",
       "    <tr>\n",
       "      <th>4998</th>\n",
       "      <td>3.686685</td>\n",
       "      <td>1.807485</td>\n",
       "    </tr>\n",
       "    <tr>\n",
       "      <th>4999</th>\n",
       "      <td>2.929591</td>\n",
       "      <td>2.244008</td>\n",
       "    </tr>\n",
       "  </tbody>\n",
       "</table>\n",
       "<p>5000 rows × 2 columns</p>\n",
       "</div>"
      ],
      "text/plain": [
       "             a        a1\n",
       "0     3.348469  2.741908\n",
       "1     2.088912  2.101671\n",
       "2     0.949544  1.161672\n",
       "3     2.133485  2.304239\n",
       "4     2.186112  1.443280\n",
       "...        ...       ...\n",
       "4995  2.181323  1.973437\n",
       "4996  2.074315  2.895944\n",
       "4997  1.984806  1.873467\n",
       "4998  3.686685  1.807485\n",
       "4999  2.929591  2.244008\n",
       "\n",
       "[5000 rows x 2 columns]"
      ]
     },
     "execution_count": 9,
     "metadata": {},
     "output_type": "execute_result"
    }
   ],
   "source": [
    "#check = pd.DataFrame((a.T, a1.T))\n",
    "d =  {\"a\": a, \"a1\": a1}\n",
    "check = pd.DataFrame(d)\n",
    "check"
   ]
  },
  {
   "cell_type": "markdown",
   "metadata": {},
   "source": [
    "## Проверка алгоритма"
   ]
  },
  {
   "cell_type": "markdown",
   "metadata": {},
   "source": [
    "Проверим работу предложенного алгоритма на модели линейной регрессии. В качестве метрики для сравнения используем коэффициент детерминации R2."
   ]
  },
  {
   "cell_type": "code",
   "execution_count": 10,
   "metadata": {},
   "outputs": [],
   "source": [
    "X = df.drop('insurance_payments',axis = 1)\n",
    "y = df['insurance_payments']\n",
    "X_train = X.sample(frac=0.6,random_state=1)\n",
    "X_test = X.drop(X_train.index)\n",
    "y_train = y.sample(frac=0.6,random_state=1)\n",
    "y_test = y.drop(y_train.index)"
   ]
  },
  {
   "cell_type": "code",
   "execution_count": 11,
   "metadata": {},
   "outputs": [
    {
     "data": {
      "text/plain": [
       "100"
      ]
     },
     "execution_count": 11,
     "metadata": {},
     "output_type": "execute_result"
    }
   ],
   "source": [
    "X_train.shape[0] // 30"
   ]
  },
  {
   "cell_type": "code",
   "execution_count": 12,
   "metadata": {},
   "outputs": [
    {
     "data": {
      "text/plain": [
       "0.42921630543761824"
      ]
     },
     "execution_count": 12,
     "metadata": {},
     "output_type": "execute_result"
    }
   ],
   "source": [
    "model = LinearRegression()\n",
    "model.fit(X_train,y_train)\n",
    "predictions = model.predict(X_test)\n",
    "r2_score(y_test, predictions)"
   ]
  },
  {
   "cell_type": "code",
   "execution_count": 13,
   "metadata": {},
   "outputs": [],
   "source": [
    "# Умножим матрицу признаков на случайную обратимую матрицу размерностью 4х4\n",
    "X_train_mod = X_train@Z\n",
    "X_test_mod = X_test@Z"
   ]
  },
  {
   "cell_type": "code",
   "execution_count": 14,
   "metadata": {},
   "outputs": [
    {
     "data": {
      "text/plain": [
       "0.42921630543785794"
      ]
     },
     "execution_count": 14,
     "metadata": {},
     "output_type": "execute_result"
    }
   ],
   "source": [
    "model = LinearRegression()\n",
    "model.fit(X_train_mod,y_train)\n",
    "predictions = model.predict(X_test_mod)\n",
    "r2_score(y_test, predictions)"
   ]
  },
  {
   "cell_type": "markdown",
   "metadata": {},
   "source": [
    "В результате умножения матрицы с признаками клиентов на случайную обратимую матрицу получили массив данных, из которого не определить исходные данные клиентов.  \n",
    "Мы провели проверку модели линейной регрессии на основе имеющихся данных и после их преобразования. В результате сравнения моделей получили значения коэффициентов детерминации, которые практически ничем не отличаются друг от друга (вплоть до 12 знака после запятой).  \n",
    "Это свидететельсвует о том, что данные клиентов успешно защищены, при этом на защищённых данных можно строить модели, которые  не отличаются от моделей, построенных на исходных данных."
   ]
  }
 ],
 "metadata": {
  "ExecuteTimeLog": [
   {
    "duration": 754,
    "start_time": "2021-07-19T20:40:47.577Z"
   },
   {
    "duration": 23,
    "start_time": "2021-07-19T20:40:49.513Z"
   },
   {
    "duration": 23,
    "start_time": "2021-07-19T20:40:59.755Z"
   },
   {
    "duration": 20,
    "start_time": "2021-07-19T20:41:14.076Z"
   },
   {
    "duration": 105,
    "start_time": "2021-07-19T20:41:20.491Z"
   },
   {
    "duration": 109,
    "start_time": "2021-07-19T20:41:24.742Z"
   },
   {
    "duration": 398,
    "start_time": "2021-07-19T20:41:31.394Z"
   },
   {
    "duration": 12,
    "start_time": "2021-07-19T20:41:36.558Z"
   },
   {
    "duration": 9,
    "start_time": "2021-07-19T20:42:07.122Z"
   },
   {
    "duration": 8,
    "start_time": "2021-07-19T20:42:12.330Z"
   },
   {
    "duration": 10,
    "start_time": "2021-07-19T20:42:22.814Z"
   },
   {
    "duration": 144,
    "start_time": "2021-07-19T20:42:33.780Z"
   },
   {
    "duration": 31,
    "start_time": "2021-07-19T20:42:37.855Z"
   },
   {
    "duration": 10,
    "start_time": "2021-07-19T20:43:57.268Z"
   },
   {
    "duration": 504,
    "start_time": "2021-07-25T15:38:33.787Z"
   },
   {
    "duration": 835,
    "start_time": "2021-07-25T15:38:40.850Z"
   },
   {
    "duration": 27,
    "start_time": "2021-07-25T15:38:42.667Z"
   },
   {
    "duration": 20,
    "start_time": "2021-07-25T15:38:44.276Z"
   },
   {
    "duration": 473,
    "start_time": "2021-07-25T15:38:49.880Z"
   },
   {
    "duration": 5,
    "start_time": "2021-07-25T15:38:57.568Z"
   },
   {
    "duration": 3,
    "start_time": "2021-07-25T15:42:17.483Z"
   },
   {
    "duration": 6,
    "start_time": "2021-07-25T15:42:20.817Z"
   },
   {
    "duration": 6,
    "start_time": "2021-07-25T15:42:26.991Z"
   },
   {
    "duration": 4,
    "start_time": "2021-07-25T15:43:20.283Z"
   },
   {
    "duration": 7,
    "start_time": "2021-07-25T15:43:24.190Z"
   },
   {
    "duration": 387,
    "start_time": "2021-07-25T15:43:50.579Z"
   },
   {
    "duration": 7,
    "start_time": "2021-07-25T15:43:56.596Z"
   },
   {
    "duration": 4,
    "start_time": "2021-07-25T15:44:20.281Z"
   },
   {
    "duration": 2836,
    "start_time": "2021-07-25T15:46:08.519Z"
   },
   {
    "duration": 245,
    "start_time": "2021-07-25T15:46:27.874Z"
   },
   {
    "duration": 455,
    "start_time": "2021-07-25T15:46:44.419Z"
   },
   {
    "duration": 20,
    "start_time": "2021-07-25T15:47:41.345Z"
   },
   {
    "duration": 400,
    "start_time": "2021-07-25T15:48:04.741Z"
   },
   {
    "duration": 394,
    "start_time": "2021-07-25T15:49:00.534Z"
   },
   {
    "duration": 6,
    "start_time": "2021-07-25T15:49:11.138Z"
   },
   {
    "duration": 23,
    "start_time": "2021-07-25T15:49:15.617Z"
   },
   {
    "duration": 6,
    "start_time": "2021-07-25T15:50:04.276Z"
   },
   {
    "duration": 13,
    "start_time": "2021-07-25T15:50:59.617Z"
   },
   {
    "duration": 12,
    "start_time": "2021-07-25T15:51:04.623Z"
   },
   {
    "duration": 20,
    "start_time": "2021-07-25T15:51:15.902Z"
   },
   {
    "duration": 398,
    "start_time": "2021-07-25T15:51:24.650Z"
   },
   {
    "duration": 19,
    "start_time": "2021-07-25T15:54:00.437Z"
   },
   {
    "duration": 9,
    "start_time": "2021-07-25T15:55:54.600Z"
   },
   {
    "duration": 6,
    "start_time": "2021-07-25T15:56:26.007Z"
   },
   {
    "duration": 9,
    "start_time": "2021-07-25T15:56:34.684Z"
   },
   {
    "duration": 8,
    "start_time": "2021-07-25T15:56:42.060Z"
   },
   {
    "duration": 9,
    "start_time": "2021-07-25T15:57:30.818Z"
   },
   {
    "duration": 8,
    "start_time": "2021-07-25T15:57:37.090Z"
   },
   {
    "duration": 6,
    "start_time": "2021-07-25T16:00:38.845Z"
   },
   {
    "duration": 464,
    "start_time": "2021-07-25T16:02:17.331Z"
   },
   {
    "duration": 389,
    "start_time": "2021-07-25T16:02:42.479Z"
   },
   {
    "duration": 5,
    "start_time": "2021-07-25T16:02:57.329Z"
   },
   {
    "duration": 5,
    "start_time": "2021-07-25T16:03:10.653Z"
   },
   {
    "duration": 6,
    "start_time": "2021-07-25T16:03:14.131Z"
   },
   {
    "duration": 6,
    "start_time": "2021-07-25T16:03:19.657Z"
   },
   {
    "duration": 6,
    "start_time": "2021-07-25T16:03:24.349Z"
   },
   {
    "duration": 6,
    "start_time": "2021-07-25T16:03:42.077Z"
   },
   {
    "duration": 226,
    "start_time": "2021-07-25T16:04:12.669Z"
   },
   {
    "duration": 362,
    "start_time": "2021-07-25T16:04:16.527Z"
   },
   {
    "duration": 396,
    "start_time": "2021-07-25T16:04:40.990Z"
   },
   {
    "duration": 695,
    "start_time": "2021-07-25T16:04:57.758Z"
   },
   {
    "duration": 340,
    "start_time": "2021-07-25T16:05:59.446Z"
   },
   {
    "duration": 326,
    "start_time": "2021-07-25T16:06:01.967Z"
   },
   {
    "duration": 329,
    "start_time": "2021-07-25T16:06:13.361Z"
   },
   {
    "duration": 394,
    "start_time": "2021-07-25T16:06:16.994Z"
   },
   {
    "duration": 304,
    "start_time": "2021-07-25T16:06:23.689Z"
   },
   {
    "duration": 4,
    "start_time": "2021-07-25T16:06:46.779Z"
   },
   {
    "duration": 446,
    "start_time": "2021-07-25T16:09:11.345Z"
   },
   {
    "duration": 282,
    "start_time": "2021-07-25T16:11:29.111Z"
   },
   {
    "duration": 402,
    "start_time": "2021-07-25T16:11:32.289Z"
   },
   {
    "duration": 368,
    "start_time": "2021-07-25T16:11:42.618Z"
   },
   {
    "duration": 284,
    "start_time": "2021-07-25T16:11:50.310Z"
   },
   {
    "duration": 352,
    "start_time": "2021-07-25T16:11:54.036Z"
   },
   {
    "duration": 333,
    "start_time": "2021-07-25T16:12:43.458Z"
   },
   {
    "duration": 401,
    "start_time": "2021-07-25T16:15:19.487Z"
   },
   {
    "duration": 327,
    "start_time": "2021-07-25T16:15:28.262Z"
   },
   {
    "duration": 398,
    "start_time": "2021-07-25T16:15:34.490Z"
   },
   {
    "duration": 9,
    "start_time": "2021-07-25T16:16:25.062Z"
   },
   {
    "duration": 13,
    "start_time": "2021-07-25T16:16:29.964Z"
   },
   {
    "duration": 11,
    "start_time": "2021-07-25T16:16:51.374Z"
   },
   {
    "duration": 12,
    "start_time": "2021-07-25T16:17:38.604Z"
   },
   {
    "duration": 403,
    "start_time": "2021-07-25T16:18:38.457Z"
   },
   {
    "duration": 380,
    "start_time": "2021-07-25T16:19:20.308Z"
   },
   {
    "duration": 332,
    "start_time": "2021-07-25T16:19:23.554Z"
   },
   {
    "duration": 377,
    "start_time": "2021-07-25T16:19:46.921Z"
   },
   {
    "duration": 402,
    "start_time": "2021-07-25T16:19:57.958Z"
   },
   {
    "duration": 632,
    "start_time": "2021-07-25T16:20:16.911Z"
   },
   {
    "duration": 396,
    "start_time": "2021-07-25T16:20:35.092Z"
   },
   {
    "duration": 129,
    "start_time": "2021-07-25T16:20:45.878Z"
   },
   {
    "duration": 414,
    "start_time": "2021-07-25T16:20:59.735Z"
   },
   {
    "duration": 134,
    "start_time": "2021-07-25T16:21:04.928Z"
   },
   {
    "duration": 300,
    "start_time": "2021-07-25T16:21:12.685Z"
   },
   {
    "duration": 368,
    "start_time": "2021-07-25T16:21:30.107Z"
   },
   {
    "duration": 7,
    "start_time": "2021-07-25T16:24:16.928Z"
   },
   {
    "duration": 15,
    "start_time": "2021-07-25T16:24:21.021Z"
   },
   {
    "duration": 1561,
    "start_time": "2021-07-25T16:24:38.808Z"
   },
   {
    "duration": 8,
    "start_time": "2021-07-25T16:24:51.557Z"
   },
   {
    "duration": 9,
    "start_time": "2021-07-25T16:24:55.105Z"
   },
   {
    "duration": 403,
    "start_time": "2021-07-25T16:25:02.951Z"
   },
   {
    "duration": 9,
    "start_time": "2021-07-25T16:25:07.077Z"
   },
   {
    "duration": 9,
    "start_time": "2021-07-25T16:25:11.265Z"
   },
   {
    "duration": 15,
    "start_time": "2021-07-25T16:26:38.134Z"
   },
   {
    "duration": 498,
    "start_time": "2021-07-25T16:27:53.921Z"
   },
   {
    "duration": 27,
    "start_time": "2021-07-25T16:30:42.630Z"
   },
   {
    "duration": 15,
    "start_time": "2021-07-25T16:40:23.346Z"
   },
   {
    "duration": 21,
    "start_time": "2021-07-25T16:40:28.316Z"
   },
   {
    "duration": 19,
    "start_time": "2021-07-25T16:40:34.154Z"
   },
   {
    "duration": 24,
    "start_time": "2021-07-25T16:40:46.990Z"
   },
   {
    "duration": 133,
    "start_time": "2021-07-25T16:40:50.126Z"
   },
   {
    "duration": 13,
    "start_time": "2021-07-25T16:41:13.370Z"
   },
   {
    "duration": 19,
    "start_time": "2021-07-25T16:41:16.493Z"
   },
   {
    "duration": 18,
    "start_time": "2021-07-25T16:41:21.925Z"
   },
   {
    "duration": 7,
    "start_time": "2021-07-25T16:41:26.075Z"
   },
   {
    "duration": 17,
    "start_time": "2021-07-25T16:41:29.501Z"
   },
   {
    "duration": 19,
    "start_time": "2021-07-25T16:41:44.636Z"
   },
   {
    "duration": 15,
    "start_time": "2021-07-25T16:41:46.335Z"
   },
   {
    "duration": 6,
    "start_time": "2021-07-25T16:41:47.769Z"
   },
   {
    "duration": 7,
    "start_time": "2021-07-25T16:42:00.513Z"
   },
   {
    "duration": 7,
    "start_time": "2021-07-25T16:42:04.488Z"
   },
   {
    "duration": 516,
    "start_time": "2021-07-25T16:43:34.876Z"
   },
   {
    "duration": 22,
    "start_time": "2021-07-25T16:43:40.558Z"
   },
   {
    "duration": 412,
    "start_time": "2021-07-25T16:46:24.122Z"
   },
   {
    "duration": 615,
    "start_time": "2021-07-25T16:46:29.777Z"
   },
   {
    "duration": 11,
    "start_time": "2021-07-25T16:48:04.168Z"
   },
   {
    "duration": 7,
    "start_time": "2021-07-25T16:48:30.204Z"
   },
   {
    "duration": 15,
    "start_time": "2021-07-25T16:48:38.660Z"
   },
   {
    "duration": 7,
    "start_time": "2021-07-25T16:48:44.889Z"
   },
   {
    "duration": 6,
    "start_time": "2021-07-25T16:48:50.652Z"
   },
   {
    "duration": 17,
    "start_time": "2021-07-25T16:49:00.170Z"
   },
   {
    "duration": 13,
    "start_time": "2021-07-25T16:54:54.840Z"
   },
   {
    "duration": 11,
    "start_time": "2021-07-25T16:54:56.599Z"
   },
   {
    "duration": 5,
    "start_time": "2021-07-25T16:56:26.657Z"
   },
   {
    "duration": 15,
    "start_time": "2021-07-25T16:57:24.268Z"
   },
   {
    "duration": 19,
    "start_time": "2021-07-25T16:57:35.743Z"
   },
   {
    "duration": 16,
    "start_time": "2021-07-25T16:57:56.023Z"
   },
   {
    "duration": 7,
    "start_time": "2021-07-25T16:59:13.710Z"
   },
   {
    "duration": 6,
    "start_time": "2021-07-25T16:59:17.287Z"
   },
   {
    "duration": 8,
    "start_time": "2021-07-25T16:59:18.106Z"
   },
   {
    "duration": 5,
    "start_time": "2021-07-25T16:59:20.694Z"
   },
   {
    "duration": 6,
    "start_time": "2021-07-25T16:59:22.344Z"
   },
   {
    "duration": 6,
    "start_time": "2021-07-25T16:59:24.149Z"
   },
   {
    "duration": 6,
    "start_time": "2021-07-25T16:59:26.330Z"
   },
   {
    "duration": 461,
    "start_time": "2021-07-25T17:00:22.721Z"
   },
   {
    "duration": 5,
    "start_time": "2021-07-25T17:01:02.402Z"
   },
   {
    "duration": 15,
    "start_time": "2021-07-25T17:01:05.791Z"
   },
   {
    "duration": 17,
    "start_time": "2021-07-25T17:01:10.267Z"
   },
   {
    "duration": 16,
    "start_time": "2021-07-25T17:01:16.737Z"
   },
   {
    "duration": 17,
    "start_time": "2021-07-25T17:01:37.131Z"
   },
   {
    "duration": 16,
    "start_time": "2021-07-25T17:01:56.513Z"
   },
   {
    "duration": 19,
    "start_time": "2021-07-25T17:02:05.661Z"
   },
   {
    "duration": 17,
    "start_time": "2021-07-25T17:02:07.854Z"
   },
   {
    "duration": 5,
    "start_time": "2021-07-25T17:02:32.735Z"
   },
   {
    "duration": 10,
    "start_time": "2021-07-25T17:02:57.508Z"
   },
   {
    "duration": 11,
    "start_time": "2021-07-25T17:03:05.230Z"
   },
   {
    "duration": 12,
    "start_time": "2021-07-25T17:03:07.004Z"
   },
   {
    "duration": 10,
    "start_time": "2021-07-25T17:03:08.515Z"
   },
   {
    "duration": 9,
    "start_time": "2021-07-25T17:03:10.235Z"
   },
   {
    "duration": 12,
    "start_time": "2021-07-25T17:06:46.412Z"
   },
   {
    "duration": 13,
    "start_time": "2021-07-25T17:06:47.775Z"
   },
   {
    "duration": 1302,
    "start_time": "2021-07-25T17:28:16.478Z"
   },
   {
    "duration": 26,
    "start_time": "2021-07-25T17:28:17.785Z"
   },
   {
    "duration": 22,
    "start_time": "2021-07-25T17:28:17.814Z"
   },
   {
    "duration": 12,
    "start_time": "2021-07-25T17:28:17.839Z"
   },
   {
    "duration": 32,
    "start_time": "2021-07-25T17:28:17.854Z"
   },
   {
    "duration": 8,
    "start_time": "2021-07-25T17:28:17.890Z"
   },
   {
    "duration": 492,
    "start_time": "2021-07-25T17:28:17.902Z"
   },
   {
    "duration": 500,
    "start_time": "2021-07-25T17:28:18.487Z"
   },
   {
    "duration": 94,
    "start_time": "2021-07-25T17:28:18.992Z"
   },
   {
    "duration": 13,
    "start_time": "2021-07-25T17:28:19.089Z"
   },
   {
    "duration": 11,
    "start_time": "2021-07-25T17:28:19.104Z"
   },
   {
    "duration": 5,
    "start_time": "2021-07-25T17:28:19.117Z"
   },
   {
    "duration": 11,
    "start_time": "2021-07-25T17:28:19.125Z"
   },
   {
    "duration": 1405,
    "start_time": "2021-08-07T20:15:35.222Z"
   },
   {
    "duration": 27,
    "start_time": "2021-08-07T20:15:37.307Z"
   },
   {
    "duration": 1454,
    "start_time": "2021-08-07T20:15:54.448Z"
   },
   {
    "duration": 28,
    "start_time": "2021-08-07T20:15:55.905Z"
   },
   {
    "duration": 22,
    "start_time": "2021-08-07T20:15:55.936Z"
   },
   {
    "duration": 37,
    "start_time": "2021-08-07T20:15:55.962Z"
   },
   {
    "duration": 7,
    "start_time": "2021-08-07T20:15:56.003Z"
   },
   {
    "duration": 77,
    "start_time": "2021-08-07T20:15:56.012Z"
   },
   {
    "duration": 396,
    "start_time": "2021-08-07T20:15:56.092Z"
   },
   {
    "duration": 508,
    "start_time": "2021-08-07T20:15:56.496Z"
   },
   {
    "duration": 87,
    "start_time": "2021-08-07T20:15:57.008Z"
   },
   {
    "duration": 98,
    "start_time": "2021-08-07T20:15:57.098Z"
   },
   {
    "duration": 11,
    "start_time": "2021-08-07T20:15:57.202Z"
   },
   {
    "duration": 6,
    "start_time": "2021-08-07T20:15:57.216Z"
   },
   {
    "duration": 12,
    "start_time": "2021-08-07T20:15:57.224Z"
   },
   {
    "duration": 7,
    "start_time": "2021-08-07T20:16:34.116Z"
   },
   {
    "duration": 560,
    "start_time": "2021-08-07T20:16:50.740Z"
   },
   {
    "duration": 386,
    "start_time": "2021-08-07T20:16:53.276Z"
   },
   {
    "duration": 438,
    "start_time": "2021-08-07T20:17:00.343Z"
   },
   {
    "duration": 397,
    "start_time": "2021-08-07T20:17:14.186Z"
   },
   {
    "duration": 414,
    "start_time": "2021-08-07T20:17:17.794Z"
   },
   {
    "duration": 400,
    "start_time": "2021-08-07T20:17:55.608Z"
   },
   {
    "duration": 417,
    "start_time": "2021-08-07T20:17:58.283Z"
   },
   {
    "duration": 5,
    "start_time": "2021-08-07T20:18:07.663Z"
   },
   {
    "duration": 31,
    "start_time": "2021-08-07T20:22:21.487Z"
   },
   {
    "duration": 7,
    "start_time": "2021-08-07T20:22:36.861Z"
   },
   {
    "duration": 177,
    "start_time": "2021-08-07T20:23:33.280Z"
   },
   {
    "duration": 142,
    "start_time": "2021-08-07T20:23:37.853Z"
   },
   {
    "duration": 381,
    "start_time": "2021-08-07T20:23:45.617Z"
   },
   {
    "duration": 429,
    "start_time": "2021-08-07T20:23:48.564Z"
   },
   {
    "duration": 127,
    "start_time": "2021-08-07T20:24:41.068Z"
   },
   {
    "duration": 535,
    "start_time": "2021-08-07T20:24:47.007Z"
   },
   {
    "duration": 416,
    "start_time": "2021-08-07T20:25:53.481Z"
   },
   {
    "duration": 383,
    "start_time": "2021-08-07T20:26:31.264Z"
   },
   {
    "duration": 10,
    "start_time": "2021-08-07T20:26:50.693Z"
   },
   {
    "duration": 3145,
    "start_time": "2021-08-07T20:29:46.176Z"
   },
   {
    "duration": 3030,
    "start_time": "2021-08-07T20:30:19.640Z"
   },
   {
    "duration": 6,
    "start_time": "2021-08-07T20:30:52.178Z"
   },
   {
    "duration": 7,
    "start_time": "2021-08-07T20:31:10.572Z"
   },
   {
    "duration": 7,
    "start_time": "2021-08-07T20:32:12.001Z"
   },
   {
    "duration": 5,
    "start_time": "2021-08-07T20:32:26.509Z"
   },
   {
    "duration": 7,
    "start_time": "2021-08-07T20:34:03.241Z"
   }
  ],
  "kernelspec": {
   "display_name": "Python 3 (ipykernel)",
   "language": "python",
   "name": "python3"
  },
  "language_info": {
   "codemirror_mode": {
    "name": "ipython",
    "version": 3
   },
   "file_extension": ".py",
   "mimetype": "text/x-python",
   "name": "python",
   "nbconvert_exporter": "python",
   "pygments_lexer": "ipython3",
   "version": "3.9.12"
  },
  "toc": {
   "base_numbering": 1,
   "nav_menu": {},
   "number_sections": true,
   "sideBar": true,
   "skip_h1_title": true,
   "title_cell": "Содержание",
   "title_sidebar": "Contents",
   "toc_cell": true,
   "toc_position": {},
   "toc_section_display": true,
   "toc_window_display": false
  }
 },
 "nbformat": 4,
 "nbformat_minor": 2
}
