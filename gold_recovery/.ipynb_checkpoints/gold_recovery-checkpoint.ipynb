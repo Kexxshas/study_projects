{
 "cells": [
  {
   "cell_type": "markdown",
   "metadata": {
    "toc": true
   },
   "source": [
    "<h1>Содержание<span class=\"tocSkip\"></span></h1><br>\n",
    "\n",
    "<div class=\"toc\"><ul class=\"toc-item\"><span><a href=\"#Подготовка-данных\" data-toc-modified-id=\"Подготовка-данных-1\"><span class=\"toc-item-num\">1&nbsp;&nbsp;</span>Подготовка данных</a></span><br><span><a href=\"#Анализ-данных\" data-toc-modified-id=\"Анализ-данных-2\"><span class=\"toc-item-num\">2&nbsp;&nbsp;</span>Анализ данных</a></span><br><span><a href=\"#Модель\" data-toc-modified-id=\"Модель-3\"><span class=\"toc-item-num\">3&nbsp;&nbsp;</span>Модель</a></span><br><span><a href=\"#Вывод\" data-toc-modified-id=\"Вывод-4\"><span class=\"toc-item-num\">4&nbsp;&nbsp;</span>Вывод</a></span>"
   ]
  },
  {
   "cell_type": "markdown",
   "metadata": {},
   "source": [
    "# Восстановление золота из руды"
   ]
  },
  {
   "cell_type": "markdown",
   "metadata": {},
   "source": [
    "**ЦЕЛЬ:** Построить модель для предсказания коэффициента восстановления золота из золотосодержащей руды.   \n",
    "\n",
    "**ЗАДАЧИ:**\n",
    "1. Подготовить данные\n",
    "2. Провести исследовательский анализ данных\n",
    "3. Построить и обучить модель  \n",
    "    3.1. Написать функцию для вычисления итоговой метрики - sMAPE   \n",
    "    3.2. Обучите разные модели и оцените их качество кросс-валидацией"
   ]
  },
  {
   "cell_type": "markdown",
   "metadata": {},
   "source": [
    "## Подготовка данных"
   ]
  },
  {
   "cell_type": "code",
   "execution_count": 1,
   "metadata": {},
   "outputs": [],
   "source": [
    "import pandas as pd\n",
    "import numpy as np\n",
    "import matplotlib.pyplot as plt\n",
    "from sklearn.metrics import mean_absolute_error\n",
    "from sklearn.model_selection import GridSearchCV\n",
    "from sklearn.metrics import make_scorer\n",
    "from sklearn.ensemble import RandomForestRegressor\n",
    "from sklearn.linear_model import LinearRegression\n",
    "from sklearn.dummy import DummyRegressor\n",
    "import warnings\n",
    "warnings.filterwarnings(\"ignore\")"
   ]
  },
  {
   "cell_type": "code",
   "execution_count": 2,
   "metadata": {},
   "outputs": [],
   "source": [
    "data_train = pd.read_csv('gold_recovery_train_new.csv')\n",
    "data_test = pd.read_csv('gold_recovery_test_new.csv')\n",
    "data_full = pd.read_csv('gold_recovery_full_new.csv')"
   ]
  },
  {
   "cell_type": "code",
   "execution_count": 3,
   "metadata": {},
   "outputs": [
    {
     "name": "stdout",
     "output_type": "stream",
     "text": [
      "<class 'pandas.core.frame.DataFrame'>\n",
      "RangeIndex: 14149 entries, 0 to 14148\n",
      "Data columns (total 87 columns):\n",
      " #   Column                                              Non-Null Count  Dtype  \n",
      "---  ------                                              --------------  -----  \n",
      " 0   date                                                14149 non-null  object \n",
      " 1   final.output.concentrate_ag                         14148 non-null  float64\n",
      " 2   final.output.concentrate_pb                         14148 non-null  float64\n",
      " 3   final.output.concentrate_sol                        13938 non-null  float64\n",
      " 4   final.output.concentrate_au                         14149 non-null  float64\n",
      " 5   final.output.recovery                               14149 non-null  float64\n",
      " 6   final.output.tail_ag                                14149 non-null  float64\n",
      " 7   final.output.tail_pb                                14049 non-null  float64\n",
      " 8   final.output.tail_sol                               14144 non-null  float64\n",
      " 9   final.output.tail_au                                14149 non-null  float64\n",
      " 10  primary_cleaner.input.sulfate                       14129 non-null  float64\n",
      " 11  primary_cleaner.input.depressant                    14117 non-null  float64\n",
      " 12  primary_cleaner.input.feed_size                     14149 non-null  float64\n",
      " 13  primary_cleaner.input.xanthate                      14049 non-null  float64\n",
      " 14  primary_cleaner.output.concentrate_ag               14149 non-null  float64\n",
      " 15  primary_cleaner.output.concentrate_pb               14063 non-null  float64\n",
      " 16  primary_cleaner.output.concentrate_sol              13863 non-null  float64\n",
      " 17  primary_cleaner.output.concentrate_au               14149 non-null  float64\n",
      " 18  primary_cleaner.output.tail_ag                      14148 non-null  float64\n",
      " 19  primary_cleaner.output.tail_pb                      14134 non-null  float64\n",
      " 20  primary_cleaner.output.tail_sol                     14103 non-null  float64\n",
      " 21  primary_cleaner.output.tail_au                      14149 non-null  float64\n",
      " 22  primary_cleaner.state.floatbank8_a_air              14145 non-null  float64\n",
      " 23  primary_cleaner.state.floatbank8_a_level            14148 non-null  float64\n",
      " 24  primary_cleaner.state.floatbank8_b_air              14145 non-null  float64\n",
      " 25  primary_cleaner.state.floatbank8_b_level            14148 non-null  float64\n",
      " 26  primary_cleaner.state.floatbank8_c_air              14147 non-null  float64\n",
      " 27  primary_cleaner.state.floatbank8_c_level            14148 non-null  float64\n",
      " 28  primary_cleaner.state.floatbank8_d_air              14146 non-null  float64\n",
      " 29  primary_cleaner.state.floatbank8_d_level            14148 non-null  float64\n",
      " 30  rougher.calculation.sulfate_to_au_concentrate       14148 non-null  float64\n",
      " 31  rougher.calculation.floatbank10_sulfate_to_au_feed  14148 non-null  float64\n",
      " 32  rougher.calculation.floatbank11_sulfate_to_au_feed  14148 non-null  float64\n",
      " 33  rougher.calculation.au_pb_ratio                     14149 non-null  float64\n",
      " 34  rougher.input.feed_ag                               14149 non-null  float64\n",
      " 35  rougher.input.feed_pb                               14049 non-null  float64\n",
      " 36  rougher.input.feed_rate                             14141 non-null  float64\n",
      " 37  rougher.input.feed_size                             14005 non-null  float64\n",
      " 38  rougher.input.feed_sol                              14071 non-null  float64\n",
      " 39  rougher.input.feed_au                               14149 non-null  float64\n",
      " 40  rougher.input.floatbank10_sulfate                   14120 non-null  float64\n",
      " 41  rougher.input.floatbank10_xanthate                  14141 non-null  float64\n",
      " 42  rougher.input.floatbank11_sulfate                   14113 non-null  float64\n",
      " 43  rougher.input.floatbank11_xanthate                  13721 non-null  float64\n",
      " 44  rougher.output.concentrate_ag                       14149 non-null  float64\n",
      " 45  rougher.output.concentrate_pb                       14149 non-null  float64\n",
      " 46  rougher.output.concentrate_sol                      14127 non-null  float64\n",
      " 47  rougher.output.concentrate_au                       14149 non-null  float64\n",
      " 48  rougher.output.recovery                             14149 non-null  float64\n",
      " 49  rougher.output.tail_ag                              14148 non-null  float64\n",
      " 50  rougher.output.tail_pb                              14149 non-null  float64\n",
      " 51  rougher.output.tail_sol                             14149 non-null  float64\n",
      " 52  rougher.output.tail_au                              14149 non-null  float64\n",
      " 53  rougher.state.floatbank10_a_air                     14148 non-null  float64\n",
      " 54  rougher.state.floatbank10_a_level                   14148 non-null  float64\n",
      " 55  rougher.state.floatbank10_b_air                     14148 non-null  float64\n",
      " 56  rougher.state.floatbank10_b_level                   14148 non-null  float64\n",
      " 57  rougher.state.floatbank10_c_air                     14148 non-null  float64\n",
      " 58  rougher.state.floatbank10_c_level                   14148 non-null  float64\n",
      " 59  rougher.state.floatbank10_d_air                     14149 non-null  float64\n",
      " 60  rougher.state.floatbank10_d_level                   14149 non-null  float64\n",
      " 61  rougher.state.floatbank10_e_air                     13713 non-null  float64\n",
      " 62  rougher.state.floatbank10_e_level                   14149 non-null  float64\n",
      " 63  rougher.state.floatbank10_f_air                     14149 non-null  float64\n",
      " 64  rougher.state.floatbank10_f_level                   14149 non-null  float64\n",
      " 65  secondary_cleaner.output.tail_ag                    14147 non-null  float64\n",
      " 66  secondary_cleaner.output.tail_pb                    14139 non-null  float64\n",
      " 67  secondary_cleaner.output.tail_sol                   12544 non-null  float64\n",
      " 68  secondary_cleaner.output.tail_au                    14149 non-null  float64\n",
      " 69  secondary_cleaner.state.floatbank2_a_air            13932 non-null  float64\n",
      " 70  secondary_cleaner.state.floatbank2_a_level          14148 non-null  float64\n",
      " 71  secondary_cleaner.state.floatbank2_b_air            14128 non-null  float64\n",
      " 72  secondary_cleaner.state.floatbank2_b_level          14148 non-null  float64\n",
      " 73  secondary_cleaner.state.floatbank3_a_air            14145 non-null  float64\n",
      " 74  secondary_cleaner.state.floatbank3_a_level          14148 non-null  float64\n",
      " 75  secondary_cleaner.state.floatbank3_b_air            14148 non-null  float64\n",
      " 76  secondary_cleaner.state.floatbank3_b_level          14148 non-null  float64\n",
      " 77  secondary_cleaner.state.floatbank4_a_air            14143 non-null  float64\n",
      " 78  secondary_cleaner.state.floatbank4_a_level          14148 non-null  float64\n",
      " 79  secondary_cleaner.state.floatbank4_b_air            14148 non-null  float64\n",
      " 80  secondary_cleaner.state.floatbank4_b_level          14148 non-null  float64\n",
      " 81  secondary_cleaner.state.floatbank5_a_air            14148 non-null  float64\n",
      " 82  secondary_cleaner.state.floatbank5_a_level          14148 non-null  float64\n",
      " 83  secondary_cleaner.state.floatbank5_b_air            14148 non-null  float64\n",
      " 84  secondary_cleaner.state.floatbank5_b_level          14148 non-null  float64\n",
      " 85  secondary_cleaner.state.floatbank6_a_air            14147 non-null  float64\n",
      " 86  secondary_cleaner.state.floatbank6_a_level          14148 non-null  float64\n",
      "dtypes: float64(86), object(1)\n",
      "memory usage: 9.4+ MB\n"
     ]
    }
   ],
   "source": [
    "data_train.info()"
   ]
  },
  {
   "cell_type": "code",
   "execution_count": 4,
   "metadata": {},
   "outputs": [
    {
     "name": "stdout",
     "output_type": "stream",
     "text": [
      "<class 'pandas.core.frame.DataFrame'>\n",
      "RangeIndex: 5290 entries, 0 to 5289\n",
      "Data columns (total 53 columns):\n",
      " #   Column                                      Non-Null Count  Dtype  \n",
      "---  ------                                      --------------  -----  \n",
      " 0   date                                        5290 non-null   object \n",
      " 1   primary_cleaner.input.sulfate               5286 non-null   float64\n",
      " 2   primary_cleaner.input.depressant            5285 non-null   float64\n",
      " 3   primary_cleaner.input.feed_size             5290 non-null   float64\n",
      " 4   primary_cleaner.input.xanthate              5286 non-null   float64\n",
      " 5   primary_cleaner.state.floatbank8_a_air      5290 non-null   float64\n",
      " 6   primary_cleaner.state.floatbank8_a_level    5290 non-null   float64\n",
      " 7   primary_cleaner.state.floatbank8_b_air      5290 non-null   float64\n",
      " 8   primary_cleaner.state.floatbank8_b_level    5290 non-null   float64\n",
      " 9   primary_cleaner.state.floatbank8_c_air      5290 non-null   float64\n",
      " 10  primary_cleaner.state.floatbank8_c_level    5290 non-null   float64\n",
      " 11  primary_cleaner.state.floatbank8_d_air      5290 non-null   float64\n",
      " 12  primary_cleaner.state.floatbank8_d_level    5290 non-null   float64\n",
      " 13  rougher.input.feed_ag                       5290 non-null   float64\n",
      " 14  rougher.input.feed_pb                       5290 non-null   float64\n",
      " 15  rougher.input.feed_rate                     5287 non-null   float64\n",
      " 16  rougher.input.feed_size                     5289 non-null   float64\n",
      " 17  rougher.input.feed_sol                      5269 non-null   float64\n",
      " 18  rougher.input.feed_au                       5290 non-null   float64\n",
      " 19  rougher.input.floatbank10_sulfate           5285 non-null   float64\n",
      " 20  rougher.input.floatbank10_xanthate          5290 non-null   float64\n",
      " 21  rougher.input.floatbank11_sulfate           5282 non-null   float64\n",
      " 22  rougher.input.floatbank11_xanthate          5265 non-null   float64\n",
      " 23  rougher.state.floatbank10_a_air             5290 non-null   float64\n",
      " 24  rougher.state.floatbank10_a_level           5290 non-null   float64\n",
      " 25  rougher.state.floatbank10_b_air             5290 non-null   float64\n",
      " 26  rougher.state.floatbank10_b_level           5290 non-null   float64\n",
      " 27  rougher.state.floatbank10_c_air             5290 non-null   float64\n",
      " 28  rougher.state.floatbank10_c_level           5290 non-null   float64\n",
      " 29  rougher.state.floatbank10_d_air             5290 non-null   float64\n",
      " 30  rougher.state.floatbank10_d_level           5290 non-null   float64\n",
      " 31  rougher.state.floatbank10_e_air             5290 non-null   float64\n",
      " 32  rougher.state.floatbank10_e_level           5290 non-null   float64\n",
      " 33  rougher.state.floatbank10_f_air             5290 non-null   float64\n",
      " 34  rougher.state.floatbank10_f_level           5290 non-null   float64\n",
      " 35  secondary_cleaner.state.floatbank2_a_air    5287 non-null   float64\n",
      " 36  secondary_cleaner.state.floatbank2_a_level  5290 non-null   float64\n",
      " 37  secondary_cleaner.state.floatbank2_b_air    5288 non-null   float64\n",
      " 38  secondary_cleaner.state.floatbank2_b_level  5290 non-null   float64\n",
      " 39  secondary_cleaner.state.floatbank3_a_air    5281 non-null   float64\n",
      " 40  secondary_cleaner.state.floatbank3_a_level  5290 non-null   float64\n",
      " 41  secondary_cleaner.state.floatbank3_b_air    5290 non-null   float64\n",
      " 42  secondary_cleaner.state.floatbank3_b_level  5290 non-null   float64\n",
      " 43  secondary_cleaner.state.floatbank4_a_air    5290 non-null   float64\n",
      " 44  secondary_cleaner.state.floatbank4_a_level  5290 non-null   float64\n",
      " 45  secondary_cleaner.state.floatbank4_b_air    5290 non-null   float64\n",
      " 46  secondary_cleaner.state.floatbank4_b_level  5290 non-null   float64\n",
      " 47  secondary_cleaner.state.floatbank5_a_air    5290 non-null   float64\n",
      " 48  secondary_cleaner.state.floatbank5_a_level  5290 non-null   float64\n",
      " 49  secondary_cleaner.state.floatbank5_b_air    5290 non-null   float64\n",
      " 50  secondary_cleaner.state.floatbank5_b_level  5290 non-null   float64\n",
      " 51  secondary_cleaner.state.floatbank6_a_air    5290 non-null   float64\n",
      " 52  secondary_cleaner.state.floatbank6_a_level  5290 non-null   float64\n",
      "dtypes: float64(52), object(1)\n",
      "memory usage: 2.1+ MB\n"
     ]
    }
   ],
   "source": [
    "data_test.info()"
   ]
  },
  {
   "cell_type": "code",
   "execution_count": 5,
   "metadata": {},
   "outputs": [
    {
     "name": "stdout",
     "output_type": "stream",
     "text": [
      "<class 'pandas.core.frame.DataFrame'>\n",
      "RangeIndex: 19439 entries, 0 to 19438\n",
      "Data columns (total 87 columns):\n",
      " #   Column                                              Non-Null Count  Dtype  \n",
      "---  ------                                              --------------  -----  \n",
      " 0   date                                                19439 non-null  object \n",
      " 1   final.output.concentrate_ag                         19438 non-null  float64\n",
      " 2   final.output.concentrate_pb                         19438 non-null  float64\n",
      " 3   final.output.concentrate_sol                        19228 non-null  float64\n",
      " 4   final.output.concentrate_au                         19439 non-null  float64\n",
      " 5   final.output.recovery                               19439 non-null  float64\n",
      " 6   final.output.tail_ag                                19438 non-null  float64\n",
      " 7   final.output.tail_pb                                19338 non-null  float64\n",
      " 8   final.output.tail_sol                               19433 non-null  float64\n",
      " 9   final.output.tail_au                                19439 non-null  float64\n",
      " 10  primary_cleaner.input.sulfate                       19415 non-null  float64\n",
      " 11  primary_cleaner.input.depressant                    19402 non-null  float64\n",
      " 12  primary_cleaner.input.feed_size                     19439 non-null  float64\n",
      " 13  primary_cleaner.input.xanthate                      19335 non-null  float64\n",
      " 14  primary_cleaner.output.concentrate_ag               19439 non-null  float64\n",
      " 15  primary_cleaner.output.concentrate_pb               19323 non-null  float64\n",
      " 16  primary_cleaner.output.concentrate_sol              19069 non-null  float64\n",
      " 17  primary_cleaner.output.concentrate_au               19439 non-null  float64\n",
      " 18  primary_cleaner.output.tail_ag                      19435 non-null  float64\n",
      " 19  primary_cleaner.output.tail_pb                      19418 non-null  float64\n",
      " 20  primary_cleaner.output.tail_sol                     19377 non-null  float64\n",
      " 21  primary_cleaner.output.tail_au                      19439 non-null  float64\n",
      " 22  primary_cleaner.state.floatbank8_a_air              19435 non-null  float64\n",
      " 23  primary_cleaner.state.floatbank8_a_level            19438 non-null  float64\n",
      " 24  primary_cleaner.state.floatbank8_b_air              19435 non-null  float64\n",
      " 25  primary_cleaner.state.floatbank8_b_level            19438 non-null  float64\n",
      " 26  primary_cleaner.state.floatbank8_c_air              19437 non-null  float64\n",
      " 27  primary_cleaner.state.floatbank8_c_level            19438 non-null  float64\n",
      " 28  primary_cleaner.state.floatbank8_d_air              19436 non-null  float64\n",
      " 29  primary_cleaner.state.floatbank8_d_level            19438 non-null  float64\n",
      " 30  rougher.calculation.sulfate_to_au_concentrate       19437 non-null  float64\n",
      " 31  rougher.calculation.floatbank10_sulfate_to_au_feed  19437 non-null  float64\n",
      " 32  rougher.calculation.floatbank11_sulfate_to_au_feed  19437 non-null  float64\n",
      " 33  rougher.calculation.au_pb_ratio                     19439 non-null  float64\n",
      " 34  rougher.input.feed_ag                               19439 non-null  float64\n",
      " 35  rougher.input.feed_pb                               19339 non-null  float64\n",
      " 36  rougher.input.feed_rate                             19428 non-null  float64\n",
      " 37  rougher.input.feed_size                             19294 non-null  float64\n",
      " 38  rougher.input.feed_sol                              19340 non-null  float64\n",
      " 39  rougher.input.feed_au                               19439 non-null  float64\n",
      " 40  rougher.input.floatbank10_sulfate                   19405 non-null  float64\n",
      " 41  rougher.input.floatbank10_xanthate                  19431 non-null  float64\n",
      " 42  rougher.input.floatbank11_sulfate                   19395 non-null  float64\n",
      " 43  rougher.input.floatbank11_xanthate                  18986 non-null  float64\n",
      " 44  rougher.output.concentrate_ag                       19439 non-null  float64\n",
      " 45  rougher.output.concentrate_pb                       19439 non-null  float64\n",
      " 46  rougher.output.concentrate_sol                      19416 non-null  float64\n",
      " 47  rougher.output.concentrate_au                       19439 non-null  float64\n",
      " 48  rougher.output.recovery                             19439 non-null  float64\n",
      " 49  rougher.output.tail_ag                              19438 non-null  float64\n",
      " 50  rougher.output.tail_pb                              19439 non-null  float64\n",
      " 51  rougher.output.tail_sol                             19439 non-null  float64\n",
      " 52  rougher.output.tail_au                              19439 non-null  float64\n",
      " 53  rougher.state.floatbank10_a_air                     19438 non-null  float64\n",
      " 54  rougher.state.floatbank10_a_level                   19438 non-null  float64\n",
      " 55  rougher.state.floatbank10_b_air                     19438 non-null  float64\n",
      " 56  rougher.state.floatbank10_b_level                   19438 non-null  float64\n",
      " 57  rougher.state.floatbank10_c_air                     19438 non-null  float64\n",
      " 58  rougher.state.floatbank10_c_level                   19438 non-null  float64\n",
      " 59  rougher.state.floatbank10_d_air                     19439 non-null  float64\n",
      " 60  rougher.state.floatbank10_d_level                   19439 non-null  float64\n",
      " 61  rougher.state.floatbank10_e_air                     19003 non-null  float64\n",
      " 62  rougher.state.floatbank10_e_level                   19439 non-null  float64\n",
      " 63  rougher.state.floatbank10_f_air                     19439 non-null  float64\n",
      " 64  rougher.state.floatbank10_f_level                   19439 non-null  float64\n",
      " 65  secondary_cleaner.output.tail_ag                    19437 non-null  float64\n",
      " 66  secondary_cleaner.output.tail_pb                    19427 non-null  float64\n",
      " 67  secondary_cleaner.output.tail_sol                   17691 non-null  float64\n",
      " 68  secondary_cleaner.output.tail_au                    19439 non-null  float64\n",
      " 69  secondary_cleaner.state.floatbank2_a_air            19219 non-null  float64\n",
      " 70  secondary_cleaner.state.floatbank2_a_level          19438 non-null  float64\n",
      " 71  secondary_cleaner.state.floatbank2_b_air            19416 non-null  float64\n",
      " 72  secondary_cleaner.state.floatbank2_b_level          19438 non-null  float64\n",
      " 73  secondary_cleaner.state.floatbank3_a_air            19426 non-null  float64\n",
      " 74  secondary_cleaner.state.floatbank3_a_level          19438 non-null  float64\n",
      " 75  secondary_cleaner.state.floatbank3_b_air            19438 non-null  float64\n",
      " 76  secondary_cleaner.state.floatbank3_b_level          19438 non-null  float64\n",
      " 77  secondary_cleaner.state.floatbank4_a_air            19433 non-null  float64\n",
      " 78  secondary_cleaner.state.floatbank4_a_level          19438 non-null  float64\n",
      " 79  secondary_cleaner.state.floatbank4_b_air            19438 non-null  float64\n",
      " 80  secondary_cleaner.state.floatbank4_b_level          19438 non-null  float64\n",
      " 81  secondary_cleaner.state.floatbank5_a_air            19438 non-null  float64\n",
      " 82  secondary_cleaner.state.floatbank5_a_level          19438 non-null  float64\n",
      " 83  secondary_cleaner.state.floatbank5_b_air            19438 non-null  float64\n",
      " 84  secondary_cleaner.state.floatbank5_b_level          19438 non-null  float64\n",
      " 85  secondary_cleaner.state.floatbank6_a_air            19437 non-null  float64\n",
      " 86  secondary_cleaner.state.floatbank6_a_level          19438 non-null  float64\n",
      "dtypes: float64(86), object(1)\n",
      "memory usage: 12.9+ MB\n"
     ]
    }
   ],
   "source": [
    "data_full.info()"
   ]
  },
  {
   "cell_type": "code",
   "execution_count": 6,
   "metadata": {},
   "outputs": [
    {
     "data": {
      "text/html": [
       "<div>\n",
       "<style scoped>\n",
       "    .dataframe tbody tr th:only-of-type {\n",
       "        vertical-align: middle;\n",
       "    }\n",
       "\n",
       "    .dataframe tbody tr th {\n",
       "        vertical-align: top;\n",
       "    }\n",
       "\n",
       "    .dataframe thead th {\n",
       "        text-align: right;\n",
       "    }\n",
       "</style>\n",
       "<table border=\"1\" class=\"dataframe\">\n",
       "  <thead>\n",
       "    <tr style=\"text-align: right;\">\n",
       "      <th></th>\n",
       "      <th>date</th>\n",
       "      <th>final.output.concentrate_ag</th>\n",
       "      <th>final.output.concentrate_pb</th>\n",
       "      <th>final.output.concentrate_sol</th>\n",
       "      <th>final.output.concentrate_au</th>\n",
       "      <th>final.output.recovery</th>\n",
       "      <th>final.output.tail_ag</th>\n",
       "      <th>final.output.tail_pb</th>\n",
       "      <th>final.output.tail_sol</th>\n",
       "      <th>final.output.tail_au</th>\n",
       "      <th>...</th>\n",
       "      <th>secondary_cleaner.state.floatbank4_a_air</th>\n",
       "      <th>secondary_cleaner.state.floatbank4_a_level</th>\n",
       "      <th>secondary_cleaner.state.floatbank4_b_air</th>\n",
       "      <th>secondary_cleaner.state.floatbank4_b_level</th>\n",
       "      <th>secondary_cleaner.state.floatbank5_a_air</th>\n",
       "      <th>secondary_cleaner.state.floatbank5_a_level</th>\n",
       "      <th>secondary_cleaner.state.floatbank5_b_air</th>\n",
       "      <th>secondary_cleaner.state.floatbank5_b_level</th>\n",
       "      <th>secondary_cleaner.state.floatbank6_a_air</th>\n",
       "      <th>secondary_cleaner.state.floatbank6_a_level</th>\n",
       "    </tr>\n",
       "  </thead>\n",
       "  <tbody>\n",
       "    <tr>\n",
       "      <th>0</th>\n",
       "      <td>2016-01-15 00:00:00</td>\n",
       "      <td>6.055403</td>\n",
       "      <td>9.889648</td>\n",
       "      <td>5.507324</td>\n",
       "      <td>42.192020</td>\n",
       "      <td>70.541216</td>\n",
       "      <td>10.411962</td>\n",
       "      <td>0.895447</td>\n",
       "      <td>16.904297</td>\n",
       "      <td>2.143149</td>\n",
       "      <td>...</td>\n",
       "      <td>14.016835</td>\n",
       "      <td>-502.488007</td>\n",
       "      <td>12.099931</td>\n",
       "      <td>-504.715942</td>\n",
       "      <td>9.925633</td>\n",
       "      <td>-498.310211</td>\n",
       "      <td>8.079666</td>\n",
       "      <td>-500.470978</td>\n",
       "      <td>14.151341</td>\n",
       "      <td>-605.841980</td>\n",
       "    </tr>\n",
       "    <tr>\n",
       "      <th>1</th>\n",
       "      <td>2016-01-15 01:00:00</td>\n",
       "      <td>6.029369</td>\n",
       "      <td>9.968944</td>\n",
       "      <td>5.257781</td>\n",
       "      <td>42.701629</td>\n",
       "      <td>69.266198</td>\n",
       "      <td>10.462676</td>\n",
       "      <td>0.927452</td>\n",
       "      <td>16.634514</td>\n",
       "      <td>2.224930</td>\n",
       "      <td>...</td>\n",
       "      <td>13.992281</td>\n",
       "      <td>-505.503262</td>\n",
       "      <td>11.950531</td>\n",
       "      <td>-501.331529</td>\n",
       "      <td>10.039245</td>\n",
       "      <td>-500.169983</td>\n",
       "      <td>7.984757</td>\n",
       "      <td>-500.582168</td>\n",
       "      <td>13.998353</td>\n",
       "      <td>-599.787184</td>\n",
       "    </tr>\n",
       "    <tr>\n",
       "      <th>2</th>\n",
       "      <td>2016-01-15 02:00:00</td>\n",
       "      <td>6.055926</td>\n",
       "      <td>10.213995</td>\n",
       "      <td>5.383759</td>\n",
       "      <td>42.657501</td>\n",
       "      <td>68.116445</td>\n",
       "      <td>10.507046</td>\n",
       "      <td>0.953716</td>\n",
       "      <td>16.208849</td>\n",
       "      <td>2.257889</td>\n",
       "      <td>...</td>\n",
       "      <td>14.015015</td>\n",
       "      <td>-502.520901</td>\n",
       "      <td>11.912783</td>\n",
       "      <td>-501.133383</td>\n",
       "      <td>10.070913</td>\n",
       "      <td>-500.129135</td>\n",
       "      <td>8.013877</td>\n",
       "      <td>-500.517572</td>\n",
       "      <td>14.028663</td>\n",
       "      <td>-601.427363</td>\n",
       "    </tr>\n",
       "    <tr>\n",
       "      <th>3</th>\n",
       "      <td>2016-01-15 03:00:00</td>\n",
       "      <td>6.047977</td>\n",
       "      <td>9.977019</td>\n",
       "      <td>4.858634</td>\n",
       "      <td>42.689819</td>\n",
       "      <td>68.347543</td>\n",
       "      <td>10.422762</td>\n",
       "      <td>0.883763</td>\n",
       "      <td>16.532835</td>\n",
       "      <td>2.146849</td>\n",
       "      <td>...</td>\n",
       "      <td>14.036510</td>\n",
       "      <td>-500.857308</td>\n",
       "      <td>11.999550</td>\n",
       "      <td>-501.193686</td>\n",
       "      <td>9.970366</td>\n",
       "      <td>-499.201640</td>\n",
       "      <td>7.977324</td>\n",
       "      <td>-500.255908</td>\n",
       "      <td>14.005551</td>\n",
       "      <td>-599.996129</td>\n",
       "    </tr>\n",
       "    <tr>\n",
       "      <th>4</th>\n",
       "      <td>2016-01-15 04:00:00</td>\n",
       "      <td>6.148599</td>\n",
       "      <td>10.142511</td>\n",
       "      <td>4.939416</td>\n",
       "      <td>42.774141</td>\n",
       "      <td>66.927016</td>\n",
       "      <td>10.360302</td>\n",
       "      <td>0.792826</td>\n",
       "      <td>16.525686</td>\n",
       "      <td>2.055292</td>\n",
       "      <td>...</td>\n",
       "      <td>14.027298</td>\n",
       "      <td>-499.838632</td>\n",
       "      <td>11.953070</td>\n",
       "      <td>-501.053894</td>\n",
       "      <td>9.925709</td>\n",
       "      <td>-501.686727</td>\n",
       "      <td>7.894242</td>\n",
       "      <td>-500.356035</td>\n",
       "      <td>13.996647</td>\n",
       "      <td>-601.496691</td>\n",
       "    </tr>\n",
       "  </tbody>\n",
       "</table>\n",
       "<p>5 rows × 87 columns</p>\n",
       "</div>"
      ],
      "text/plain": [
       "                  date  final.output.concentrate_ag  \\\n",
       "0  2016-01-15 00:00:00                     6.055403   \n",
       "1  2016-01-15 01:00:00                     6.029369   \n",
       "2  2016-01-15 02:00:00                     6.055926   \n",
       "3  2016-01-15 03:00:00                     6.047977   \n",
       "4  2016-01-15 04:00:00                     6.148599   \n",
       "\n",
       "   final.output.concentrate_pb  final.output.concentrate_sol  \\\n",
       "0                     9.889648                      5.507324   \n",
       "1                     9.968944                      5.257781   \n",
       "2                    10.213995                      5.383759   \n",
       "3                     9.977019                      4.858634   \n",
       "4                    10.142511                      4.939416   \n",
       "\n",
       "   final.output.concentrate_au  final.output.recovery  final.output.tail_ag  \\\n",
       "0                    42.192020              70.541216             10.411962   \n",
       "1                    42.701629              69.266198             10.462676   \n",
       "2                    42.657501              68.116445             10.507046   \n",
       "3                    42.689819              68.347543             10.422762   \n",
       "4                    42.774141              66.927016             10.360302   \n",
       "\n",
       "   final.output.tail_pb  final.output.tail_sol  final.output.tail_au  ...  \\\n",
       "0              0.895447              16.904297              2.143149  ...   \n",
       "1              0.927452              16.634514              2.224930  ...   \n",
       "2              0.953716              16.208849              2.257889  ...   \n",
       "3              0.883763              16.532835              2.146849  ...   \n",
       "4              0.792826              16.525686              2.055292  ...   \n",
       "\n",
       "   secondary_cleaner.state.floatbank4_a_air  \\\n",
       "0                                 14.016835   \n",
       "1                                 13.992281   \n",
       "2                                 14.015015   \n",
       "3                                 14.036510   \n",
       "4                                 14.027298   \n",
       "\n",
       "   secondary_cleaner.state.floatbank4_a_level  \\\n",
       "0                                 -502.488007   \n",
       "1                                 -505.503262   \n",
       "2                                 -502.520901   \n",
       "3                                 -500.857308   \n",
       "4                                 -499.838632   \n",
       "\n",
       "   secondary_cleaner.state.floatbank4_b_air  \\\n",
       "0                                 12.099931   \n",
       "1                                 11.950531   \n",
       "2                                 11.912783   \n",
       "3                                 11.999550   \n",
       "4                                 11.953070   \n",
       "\n",
       "   secondary_cleaner.state.floatbank4_b_level  \\\n",
       "0                                 -504.715942   \n",
       "1                                 -501.331529   \n",
       "2                                 -501.133383   \n",
       "3                                 -501.193686   \n",
       "4                                 -501.053894   \n",
       "\n",
       "   secondary_cleaner.state.floatbank5_a_air  \\\n",
       "0                                  9.925633   \n",
       "1                                 10.039245   \n",
       "2                                 10.070913   \n",
       "3                                  9.970366   \n",
       "4                                  9.925709   \n",
       "\n",
       "   secondary_cleaner.state.floatbank5_a_level  \\\n",
       "0                                 -498.310211   \n",
       "1                                 -500.169983   \n",
       "2                                 -500.129135   \n",
       "3                                 -499.201640   \n",
       "4                                 -501.686727   \n",
       "\n",
       "   secondary_cleaner.state.floatbank5_b_air  \\\n",
       "0                                  8.079666   \n",
       "1                                  7.984757   \n",
       "2                                  8.013877   \n",
       "3                                  7.977324   \n",
       "4                                  7.894242   \n",
       "\n",
       "   secondary_cleaner.state.floatbank5_b_level  \\\n",
       "0                                 -500.470978   \n",
       "1                                 -500.582168   \n",
       "2                                 -500.517572   \n",
       "3                                 -500.255908   \n",
       "4                                 -500.356035   \n",
       "\n",
       "   secondary_cleaner.state.floatbank6_a_air  \\\n",
       "0                                 14.151341   \n",
       "1                                 13.998353   \n",
       "2                                 14.028663   \n",
       "3                                 14.005551   \n",
       "4                                 13.996647   \n",
       "\n",
       "   secondary_cleaner.state.floatbank6_a_level  \n",
       "0                                 -605.841980  \n",
       "1                                 -599.787184  \n",
       "2                                 -601.427363  \n",
       "3                                 -599.996129  \n",
       "4                                 -601.496691  \n",
       "\n",
       "[5 rows x 87 columns]"
      ]
     },
     "execution_count": 6,
     "metadata": {},
     "output_type": "execute_result"
    }
   ],
   "source": [
    "data_train.head()"
   ]
  },
  {
   "cell_type": "code",
   "execution_count": 7,
   "metadata": {},
   "outputs": [
    {
     "data": {
      "text/html": [
       "<div>\n",
       "<style scoped>\n",
       "    .dataframe tbody tr th:only-of-type {\n",
       "        vertical-align: middle;\n",
       "    }\n",
       "\n",
       "    .dataframe tbody tr th {\n",
       "        vertical-align: top;\n",
       "    }\n",
       "\n",
       "    .dataframe thead th {\n",
       "        text-align: right;\n",
       "    }\n",
       "</style>\n",
       "<table border=\"1\" class=\"dataframe\">\n",
       "  <thead>\n",
       "    <tr style=\"text-align: right;\">\n",
       "      <th></th>\n",
       "      <th>date</th>\n",
       "      <th>primary_cleaner.input.sulfate</th>\n",
       "      <th>primary_cleaner.input.depressant</th>\n",
       "      <th>primary_cleaner.input.feed_size</th>\n",
       "      <th>primary_cleaner.input.xanthate</th>\n",
       "      <th>primary_cleaner.state.floatbank8_a_air</th>\n",
       "      <th>primary_cleaner.state.floatbank8_a_level</th>\n",
       "      <th>primary_cleaner.state.floatbank8_b_air</th>\n",
       "      <th>primary_cleaner.state.floatbank8_b_level</th>\n",
       "      <th>primary_cleaner.state.floatbank8_c_air</th>\n",
       "      <th>...</th>\n",
       "      <th>secondary_cleaner.state.floatbank4_a_air</th>\n",
       "      <th>secondary_cleaner.state.floatbank4_a_level</th>\n",
       "      <th>secondary_cleaner.state.floatbank4_b_air</th>\n",
       "      <th>secondary_cleaner.state.floatbank4_b_level</th>\n",
       "      <th>secondary_cleaner.state.floatbank5_a_air</th>\n",
       "      <th>secondary_cleaner.state.floatbank5_a_level</th>\n",
       "      <th>secondary_cleaner.state.floatbank5_b_air</th>\n",
       "      <th>secondary_cleaner.state.floatbank5_b_level</th>\n",
       "      <th>secondary_cleaner.state.floatbank6_a_air</th>\n",
       "      <th>secondary_cleaner.state.floatbank6_a_level</th>\n",
       "    </tr>\n",
       "  </thead>\n",
       "  <tbody>\n",
       "    <tr>\n",
       "      <th>0</th>\n",
       "      <td>2016-09-01 00:59:59</td>\n",
       "      <td>210.800909</td>\n",
       "      <td>14.993118</td>\n",
       "      <td>8.080000</td>\n",
       "      <td>1.005021</td>\n",
       "      <td>1398.981301</td>\n",
       "      <td>-500.225577</td>\n",
       "      <td>1399.144926</td>\n",
       "      <td>-499.919735</td>\n",
       "      <td>1400.102998</td>\n",
       "      <td>...</td>\n",
       "      <td>12.023554</td>\n",
       "      <td>-497.795834</td>\n",
       "      <td>8.016656</td>\n",
       "      <td>-501.289139</td>\n",
       "      <td>7.946562</td>\n",
       "      <td>-432.317850</td>\n",
       "      <td>4.872511</td>\n",
       "      <td>-500.037437</td>\n",
       "      <td>26.705889</td>\n",
       "      <td>-499.709414</td>\n",
       "    </tr>\n",
       "    <tr>\n",
       "      <th>1</th>\n",
       "      <td>2016-09-01 01:59:59</td>\n",
       "      <td>215.392455</td>\n",
       "      <td>14.987471</td>\n",
       "      <td>8.080000</td>\n",
       "      <td>0.990469</td>\n",
       "      <td>1398.777912</td>\n",
       "      <td>-500.057435</td>\n",
       "      <td>1398.055362</td>\n",
       "      <td>-499.778182</td>\n",
       "      <td>1396.151033</td>\n",
       "      <td>...</td>\n",
       "      <td>12.058140</td>\n",
       "      <td>-498.695773</td>\n",
       "      <td>8.130979</td>\n",
       "      <td>-499.634209</td>\n",
       "      <td>7.958270</td>\n",
       "      <td>-525.839648</td>\n",
       "      <td>4.878850</td>\n",
       "      <td>-500.162375</td>\n",
       "      <td>25.019940</td>\n",
       "      <td>-499.819438</td>\n",
       "    </tr>\n",
       "    <tr>\n",
       "      <th>2</th>\n",
       "      <td>2016-09-01 02:59:59</td>\n",
       "      <td>215.259946</td>\n",
       "      <td>12.884934</td>\n",
       "      <td>7.786667</td>\n",
       "      <td>0.996043</td>\n",
       "      <td>1398.493666</td>\n",
       "      <td>-500.868360</td>\n",
       "      <td>1398.860436</td>\n",
       "      <td>-499.764529</td>\n",
       "      <td>1398.075709</td>\n",
       "      <td>...</td>\n",
       "      <td>11.962366</td>\n",
       "      <td>-498.767484</td>\n",
       "      <td>8.096893</td>\n",
       "      <td>-500.827423</td>\n",
       "      <td>8.071056</td>\n",
       "      <td>-500.801673</td>\n",
       "      <td>4.905125</td>\n",
       "      <td>-499.828510</td>\n",
       "      <td>24.994862</td>\n",
       "      <td>-500.622559</td>\n",
       "    </tr>\n",
       "    <tr>\n",
       "      <th>3</th>\n",
       "      <td>2016-09-01 03:59:59</td>\n",
       "      <td>215.336236</td>\n",
       "      <td>12.006805</td>\n",
       "      <td>7.640000</td>\n",
       "      <td>0.863514</td>\n",
       "      <td>1399.618111</td>\n",
       "      <td>-498.863574</td>\n",
       "      <td>1397.440120</td>\n",
       "      <td>-499.211024</td>\n",
       "      <td>1400.129303</td>\n",
       "      <td>...</td>\n",
       "      <td>12.033091</td>\n",
       "      <td>-498.350935</td>\n",
       "      <td>8.074946</td>\n",
       "      <td>-499.474407</td>\n",
       "      <td>7.897085</td>\n",
       "      <td>-500.868509</td>\n",
       "      <td>4.931400</td>\n",
       "      <td>-499.963623</td>\n",
       "      <td>24.948919</td>\n",
       "      <td>-498.709987</td>\n",
       "    </tr>\n",
       "    <tr>\n",
       "      <th>4</th>\n",
       "      <td>2016-09-01 04:59:59</td>\n",
       "      <td>199.099327</td>\n",
       "      <td>10.682530</td>\n",
       "      <td>7.530000</td>\n",
       "      <td>0.805575</td>\n",
       "      <td>1401.268123</td>\n",
       "      <td>-500.808305</td>\n",
       "      <td>1398.128818</td>\n",
       "      <td>-499.504543</td>\n",
       "      <td>1402.172226</td>\n",
       "      <td>...</td>\n",
       "      <td>12.025367</td>\n",
       "      <td>-500.786497</td>\n",
       "      <td>8.054678</td>\n",
       "      <td>-500.397500</td>\n",
       "      <td>8.107890</td>\n",
       "      <td>-509.526725</td>\n",
       "      <td>4.957674</td>\n",
       "      <td>-500.360026</td>\n",
       "      <td>25.003331</td>\n",
       "      <td>-500.856333</td>\n",
       "    </tr>\n",
       "  </tbody>\n",
       "</table>\n",
       "<p>5 rows × 53 columns</p>\n",
       "</div>"
      ],
      "text/plain": [
       "                  date  primary_cleaner.input.sulfate  \\\n",
       "0  2016-09-01 00:59:59                     210.800909   \n",
       "1  2016-09-01 01:59:59                     215.392455   \n",
       "2  2016-09-01 02:59:59                     215.259946   \n",
       "3  2016-09-01 03:59:59                     215.336236   \n",
       "4  2016-09-01 04:59:59                     199.099327   \n",
       "\n",
       "   primary_cleaner.input.depressant  primary_cleaner.input.feed_size  \\\n",
       "0                         14.993118                         8.080000   \n",
       "1                         14.987471                         8.080000   \n",
       "2                         12.884934                         7.786667   \n",
       "3                         12.006805                         7.640000   \n",
       "4                         10.682530                         7.530000   \n",
       "\n",
       "   primary_cleaner.input.xanthate  primary_cleaner.state.floatbank8_a_air  \\\n",
       "0                        1.005021                             1398.981301   \n",
       "1                        0.990469                             1398.777912   \n",
       "2                        0.996043                             1398.493666   \n",
       "3                        0.863514                             1399.618111   \n",
       "4                        0.805575                             1401.268123   \n",
       "\n",
       "   primary_cleaner.state.floatbank8_a_level  \\\n",
       "0                               -500.225577   \n",
       "1                               -500.057435   \n",
       "2                               -500.868360   \n",
       "3                               -498.863574   \n",
       "4                               -500.808305   \n",
       "\n",
       "   primary_cleaner.state.floatbank8_b_air  \\\n",
       "0                             1399.144926   \n",
       "1                             1398.055362   \n",
       "2                             1398.860436   \n",
       "3                             1397.440120   \n",
       "4                             1398.128818   \n",
       "\n",
       "   primary_cleaner.state.floatbank8_b_level  \\\n",
       "0                               -499.919735   \n",
       "1                               -499.778182   \n",
       "2                               -499.764529   \n",
       "3                               -499.211024   \n",
       "4                               -499.504543   \n",
       "\n",
       "   primary_cleaner.state.floatbank8_c_air  ...  \\\n",
       "0                             1400.102998  ...   \n",
       "1                             1396.151033  ...   \n",
       "2                             1398.075709  ...   \n",
       "3                             1400.129303  ...   \n",
       "4                             1402.172226  ...   \n",
       "\n",
       "   secondary_cleaner.state.floatbank4_a_air  \\\n",
       "0                                 12.023554   \n",
       "1                                 12.058140   \n",
       "2                                 11.962366   \n",
       "3                                 12.033091   \n",
       "4                                 12.025367   \n",
       "\n",
       "   secondary_cleaner.state.floatbank4_a_level  \\\n",
       "0                                 -497.795834   \n",
       "1                                 -498.695773   \n",
       "2                                 -498.767484   \n",
       "3                                 -498.350935   \n",
       "4                                 -500.786497   \n",
       "\n",
       "   secondary_cleaner.state.floatbank4_b_air  \\\n",
       "0                                  8.016656   \n",
       "1                                  8.130979   \n",
       "2                                  8.096893   \n",
       "3                                  8.074946   \n",
       "4                                  8.054678   \n",
       "\n",
       "   secondary_cleaner.state.floatbank4_b_level  \\\n",
       "0                                 -501.289139   \n",
       "1                                 -499.634209   \n",
       "2                                 -500.827423   \n",
       "3                                 -499.474407   \n",
       "4                                 -500.397500   \n",
       "\n",
       "   secondary_cleaner.state.floatbank5_a_air  \\\n",
       "0                                  7.946562   \n",
       "1                                  7.958270   \n",
       "2                                  8.071056   \n",
       "3                                  7.897085   \n",
       "4                                  8.107890   \n",
       "\n",
       "   secondary_cleaner.state.floatbank5_a_level  \\\n",
       "0                                 -432.317850   \n",
       "1                                 -525.839648   \n",
       "2                                 -500.801673   \n",
       "3                                 -500.868509   \n",
       "4                                 -509.526725   \n",
       "\n",
       "   secondary_cleaner.state.floatbank5_b_air  \\\n",
       "0                                  4.872511   \n",
       "1                                  4.878850   \n",
       "2                                  4.905125   \n",
       "3                                  4.931400   \n",
       "4                                  4.957674   \n",
       "\n",
       "   secondary_cleaner.state.floatbank5_b_level  \\\n",
       "0                                 -500.037437   \n",
       "1                                 -500.162375   \n",
       "2                                 -499.828510   \n",
       "3                                 -499.963623   \n",
       "4                                 -500.360026   \n",
       "\n",
       "   secondary_cleaner.state.floatbank6_a_air  \\\n",
       "0                                 26.705889   \n",
       "1                                 25.019940   \n",
       "2                                 24.994862   \n",
       "3                                 24.948919   \n",
       "4                                 25.003331   \n",
       "\n",
       "   secondary_cleaner.state.floatbank6_a_level  \n",
       "0                                 -499.709414  \n",
       "1                                 -499.819438  \n",
       "2                                 -500.622559  \n",
       "3                                 -498.709987  \n",
       "4                                 -500.856333  \n",
       "\n",
       "[5 rows x 53 columns]"
      ]
     },
     "execution_count": 7,
     "metadata": {},
     "output_type": "execute_result"
    }
   ],
   "source": [
    "data_test.head()"
   ]
  },
  {
   "cell_type": "code",
   "execution_count": 8,
   "metadata": {},
   "outputs": [
    {
     "data": {
      "text/html": [
       "<div>\n",
       "<style scoped>\n",
       "    .dataframe tbody tr th:only-of-type {\n",
       "        vertical-align: middle;\n",
       "    }\n",
       "\n",
       "    .dataframe tbody tr th {\n",
       "        vertical-align: top;\n",
       "    }\n",
       "\n",
       "    .dataframe thead th {\n",
       "        text-align: right;\n",
       "    }\n",
       "</style>\n",
       "<table border=\"1\" class=\"dataframe\">\n",
       "  <thead>\n",
       "    <tr style=\"text-align: right;\">\n",
       "      <th></th>\n",
       "      <th>date</th>\n",
       "      <th>final.output.concentrate_ag</th>\n",
       "      <th>final.output.concentrate_pb</th>\n",
       "      <th>final.output.concentrate_sol</th>\n",
       "      <th>final.output.concentrate_au</th>\n",
       "      <th>final.output.recovery</th>\n",
       "      <th>final.output.tail_ag</th>\n",
       "      <th>final.output.tail_pb</th>\n",
       "      <th>final.output.tail_sol</th>\n",
       "      <th>final.output.tail_au</th>\n",
       "      <th>...</th>\n",
       "      <th>secondary_cleaner.state.floatbank4_a_air</th>\n",
       "      <th>secondary_cleaner.state.floatbank4_a_level</th>\n",
       "      <th>secondary_cleaner.state.floatbank4_b_air</th>\n",
       "      <th>secondary_cleaner.state.floatbank4_b_level</th>\n",
       "      <th>secondary_cleaner.state.floatbank5_a_air</th>\n",
       "      <th>secondary_cleaner.state.floatbank5_a_level</th>\n",
       "      <th>secondary_cleaner.state.floatbank5_b_air</th>\n",
       "      <th>secondary_cleaner.state.floatbank5_b_level</th>\n",
       "      <th>secondary_cleaner.state.floatbank6_a_air</th>\n",
       "      <th>secondary_cleaner.state.floatbank6_a_level</th>\n",
       "    </tr>\n",
       "  </thead>\n",
       "  <tbody>\n",
       "    <tr>\n",
       "      <th>0</th>\n",
       "      <td>2016-01-15 00:00:00</td>\n",
       "      <td>6.055403</td>\n",
       "      <td>9.889648</td>\n",
       "      <td>5.507324</td>\n",
       "      <td>42.192020</td>\n",
       "      <td>70.541216</td>\n",
       "      <td>10.411962</td>\n",
       "      <td>0.895447</td>\n",
       "      <td>16.904297</td>\n",
       "      <td>2.143149</td>\n",
       "      <td>...</td>\n",
       "      <td>14.016835</td>\n",
       "      <td>-502.488007</td>\n",
       "      <td>12.099931</td>\n",
       "      <td>-504.715942</td>\n",
       "      <td>9.925633</td>\n",
       "      <td>-498.310211</td>\n",
       "      <td>8.079666</td>\n",
       "      <td>-500.470978</td>\n",
       "      <td>14.151341</td>\n",
       "      <td>-605.841980</td>\n",
       "    </tr>\n",
       "    <tr>\n",
       "      <th>1</th>\n",
       "      <td>2016-01-15 01:00:00</td>\n",
       "      <td>6.029369</td>\n",
       "      <td>9.968944</td>\n",
       "      <td>5.257781</td>\n",
       "      <td>42.701629</td>\n",
       "      <td>69.266198</td>\n",
       "      <td>10.462676</td>\n",
       "      <td>0.927452</td>\n",
       "      <td>16.634514</td>\n",
       "      <td>2.224930</td>\n",
       "      <td>...</td>\n",
       "      <td>13.992281</td>\n",
       "      <td>-505.503262</td>\n",
       "      <td>11.950531</td>\n",
       "      <td>-501.331529</td>\n",
       "      <td>10.039245</td>\n",
       "      <td>-500.169983</td>\n",
       "      <td>7.984757</td>\n",
       "      <td>-500.582168</td>\n",
       "      <td>13.998353</td>\n",
       "      <td>-599.787184</td>\n",
       "    </tr>\n",
       "    <tr>\n",
       "      <th>2</th>\n",
       "      <td>2016-01-15 02:00:00</td>\n",
       "      <td>6.055926</td>\n",
       "      <td>10.213995</td>\n",
       "      <td>5.383759</td>\n",
       "      <td>42.657501</td>\n",
       "      <td>68.116445</td>\n",
       "      <td>10.507046</td>\n",
       "      <td>0.953716</td>\n",
       "      <td>16.208849</td>\n",
       "      <td>2.257889</td>\n",
       "      <td>...</td>\n",
       "      <td>14.015015</td>\n",
       "      <td>-502.520901</td>\n",
       "      <td>11.912783</td>\n",
       "      <td>-501.133383</td>\n",
       "      <td>10.070913</td>\n",
       "      <td>-500.129135</td>\n",
       "      <td>8.013877</td>\n",
       "      <td>-500.517572</td>\n",
       "      <td>14.028663</td>\n",
       "      <td>-601.427363</td>\n",
       "    </tr>\n",
       "    <tr>\n",
       "      <th>3</th>\n",
       "      <td>2016-01-15 03:00:00</td>\n",
       "      <td>6.047977</td>\n",
       "      <td>9.977019</td>\n",
       "      <td>4.858634</td>\n",
       "      <td>42.689819</td>\n",
       "      <td>68.347543</td>\n",
       "      <td>10.422762</td>\n",
       "      <td>0.883763</td>\n",
       "      <td>16.532835</td>\n",
       "      <td>2.146849</td>\n",
       "      <td>...</td>\n",
       "      <td>14.036510</td>\n",
       "      <td>-500.857308</td>\n",
       "      <td>11.999550</td>\n",
       "      <td>-501.193686</td>\n",
       "      <td>9.970366</td>\n",
       "      <td>-499.201640</td>\n",
       "      <td>7.977324</td>\n",
       "      <td>-500.255908</td>\n",
       "      <td>14.005551</td>\n",
       "      <td>-599.996129</td>\n",
       "    </tr>\n",
       "    <tr>\n",
       "      <th>4</th>\n",
       "      <td>2016-01-15 04:00:00</td>\n",
       "      <td>6.148599</td>\n",
       "      <td>10.142511</td>\n",
       "      <td>4.939416</td>\n",
       "      <td>42.774141</td>\n",
       "      <td>66.927016</td>\n",
       "      <td>10.360302</td>\n",
       "      <td>0.792826</td>\n",
       "      <td>16.525686</td>\n",
       "      <td>2.055292</td>\n",
       "      <td>...</td>\n",
       "      <td>14.027298</td>\n",
       "      <td>-499.838632</td>\n",
       "      <td>11.953070</td>\n",
       "      <td>-501.053894</td>\n",
       "      <td>9.925709</td>\n",
       "      <td>-501.686727</td>\n",
       "      <td>7.894242</td>\n",
       "      <td>-500.356035</td>\n",
       "      <td>13.996647</td>\n",
       "      <td>-601.496691</td>\n",
       "    </tr>\n",
       "  </tbody>\n",
       "</table>\n",
       "<p>5 rows × 87 columns</p>\n",
       "</div>"
      ],
      "text/plain": [
       "                  date  final.output.concentrate_ag  \\\n",
       "0  2016-01-15 00:00:00                     6.055403   \n",
       "1  2016-01-15 01:00:00                     6.029369   \n",
       "2  2016-01-15 02:00:00                     6.055926   \n",
       "3  2016-01-15 03:00:00                     6.047977   \n",
       "4  2016-01-15 04:00:00                     6.148599   \n",
       "\n",
       "   final.output.concentrate_pb  final.output.concentrate_sol  \\\n",
       "0                     9.889648                      5.507324   \n",
       "1                     9.968944                      5.257781   \n",
       "2                    10.213995                      5.383759   \n",
       "3                     9.977019                      4.858634   \n",
       "4                    10.142511                      4.939416   \n",
       "\n",
       "   final.output.concentrate_au  final.output.recovery  final.output.tail_ag  \\\n",
       "0                    42.192020              70.541216             10.411962   \n",
       "1                    42.701629              69.266198             10.462676   \n",
       "2                    42.657501              68.116445             10.507046   \n",
       "3                    42.689819              68.347543             10.422762   \n",
       "4                    42.774141              66.927016             10.360302   \n",
       "\n",
       "   final.output.tail_pb  final.output.tail_sol  final.output.tail_au  ...  \\\n",
       "0              0.895447              16.904297              2.143149  ...   \n",
       "1              0.927452              16.634514              2.224930  ...   \n",
       "2              0.953716              16.208849              2.257889  ...   \n",
       "3              0.883763              16.532835              2.146849  ...   \n",
       "4              0.792826              16.525686              2.055292  ...   \n",
       "\n",
       "   secondary_cleaner.state.floatbank4_a_air  \\\n",
       "0                                 14.016835   \n",
       "1                                 13.992281   \n",
       "2                                 14.015015   \n",
       "3                                 14.036510   \n",
       "4                                 14.027298   \n",
       "\n",
       "   secondary_cleaner.state.floatbank4_a_level  \\\n",
       "0                                 -502.488007   \n",
       "1                                 -505.503262   \n",
       "2                                 -502.520901   \n",
       "3                                 -500.857308   \n",
       "4                                 -499.838632   \n",
       "\n",
       "   secondary_cleaner.state.floatbank4_b_air  \\\n",
       "0                                 12.099931   \n",
       "1                                 11.950531   \n",
       "2                                 11.912783   \n",
       "3                                 11.999550   \n",
       "4                                 11.953070   \n",
       "\n",
       "   secondary_cleaner.state.floatbank4_b_level  \\\n",
       "0                                 -504.715942   \n",
       "1                                 -501.331529   \n",
       "2                                 -501.133383   \n",
       "3                                 -501.193686   \n",
       "4                                 -501.053894   \n",
       "\n",
       "   secondary_cleaner.state.floatbank5_a_air  \\\n",
       "0                                  9.925633   \n",
       "1                                 10.039245   \n",
       "2                                 10.070913   \n",
       "3                                  9.970366   \n",
       "4                                  9.925709   \n",
       "\n",
       "   secondary_cleaner.state.floatbank5_a_level  \\\n",
       "0                                 -498.310211   \n",
       "1                                 -500.169983   \n",
       "2                                 -500.129135   \n",
       "3                                 -499.201640   \n",
       "4                                 -501.686727   \n",
       "\n",
       "   secondary_cleaner.state.floatbank5_b_air  \\\n",
       "0                                  8.079666   \n",
       "1                                  7.984757   \n",
       "2                                  8.013877   \n",
       "3                                  7.977324   \n",
       "4                                  7.894242   \n",
       "\n",
       "   secondary_cleaner.state.floatbank5_b_level  \\\n",
       "0                                 -500.470978   \n",
       "1                                 -500.582168   \n",
       "2                                 -500.517572   \n",
       "3                                 -500.255908   \n",
       "4                                 -500.356035   \n",
       "\n",
       "   secondary_cleaner.state.floatbank6_a_air  \\\n",
       "0                                 14.151341   \n",
       "1                                 13.998353   \n",
       "2                                 14.028663   \n",
       "3                                 14.005551   \n",
       "4                                 13.996647   \n",
       "\n",
       "   secondary_cleaner.state.floatbank6_a_level  \n",
       "0                                 -605.841980  \n",
       "1                                 -599.787184  \n",
       "2                                 -601.427363  \n",
       "3                                 -599.996129  \n",
       "4                                 -601.496691  \n",
       "\n",
       "[5 rows x 87 columns]"
      ]
     },
     "execution_count": 8,
     "metadata": {},
     "output_type": "execute_result"
    }
   ],
   "source": [
    "data_full.head()"
   ]
  },
  {
   "attachments": {
    "image.png": {
     "image/png": "[encoded data removed]"
    }
   },
   "cell_type": "markdown",
   "metadata": {},
   "source": [
    "Рассчитаем ожидаемую эффективность обогащения золота по следующей формуле:\n",
    "    ![image.png](attachment:image.png)\n",
    "    \n",
    "    где:\n",
    "C — доля золота в концентрате после флотации/очистки;  \n",
    "F — доля золота в сырье/концентрате до флотации/очистки;  \n",
    "T — доля золота в отвальных хвостах после флотации/очистки.  \n",
    "Для прогноза коэффициента нужно найти долю золота в концентратах и хвостах. Причём важен не только финальный продукт, но и черновой концентрат."
   ]
  },
  {
   "cell_type": "code",
   "execution_count": 9,
   "metadata": {},
   "outputs": [
    {
     "data": {
      "text/plain": [
       "0        87.107763\n",
       "1        86.843261\n",
       "2        86.842308\n",
       "3        87.226430\n",
       "4        86.688794\n",
       "           ...    \n",
       "14144    89.574376\n",
       "14145    87.724007\n",
       "14146    88.890579\n",
       "14147    89.858126\n",
       "14148    89.514960\n",
       "Length: 14149, dtype: float64"
      ]
     },
     "execution_count": 9,
     "metadata": {},
     "output_type": "execute_result"
    }
   ],
   "source": [
    "C = data_train['rougher.output.concentrate_au'] \n",
    "F = data_train['rougher.input.feed_au']\n",
    "T = data_train['rougher.output.tail_au']\n",
    "recovery_pred = ((C*(F-T))/(F*(C-T)))*100\n",
    "recovery_pred"
   ]
  },
  {
   "cell_type": "markdown",
   "metadata": {},
   "source": [
    "Определим Среднюю абсолютную ошибку между планируемым значением эффективности обогащения золота и реальными значениям по столбцу rougher.output.recovery."
   ]
  },
  {
   "cell_type": "code",
   "execution_count": 10,
   "metadata": {},
   "outputs": [
    {
     "data": {
      "text/plain": [
       "9.730101616170628e-15"
      ]
     },
     "execution_count": 10,
     "metadata": {},
     "output_type": "execute_result"
    }
   ],
   "source": [
    "MAE = mean_absolute_error(data_train['rougher.output.recovery'], recovery_pred)\n",
    "MAE"
   ]
  },
  {
   "cell_type": "markdown",
   "metadata": {},
   "source": [
    "Как видим значение MAE очень мало, это говорит о том, что представленная в данных эффективность обогащения рассчитана верно."
   ]
  },
  {
   "cell_type": "code",
   "execution_count": 11,
   "metadata": {},
   "outputs": [
    {
     "data": {
      "text/plain": [
       "(0, 0)"
      ]
     },
     "execution_count": 11,
     "metadata": {},
     "output_type": "execute_result"
    }
   ],
   "source": [
    "data_train.duplicated().sum(), \\\n",
    "data_test.duplicated().sum()"
   ]
  },
  {
   "cell_type": "markdown",
   "metadata": {},
   "source": [
    "Дубликаты в данных отсутствуют."
   ]
  },
  {
   "cell_type": "markdown",
   "metadata": {},
   "source": [
    "Преобразуем столбцы с датами из object в правильный формат."
   ]
  },
  {
   "cell_type": "code",
   "execution_count": 12,
   "metadata": {},
   "outputs": [],
   "source": [
    "data_train['date'] = pd.to_datetime(data_train['date'], format='%Y-%m-%dT%H:%M:%S')\n",
    "data_test['date'] = pd.to_datetime(data_test['date'], format='%Y-%m-%dT%H:%M:%S')\n",
    "data_full['date'] = pd.to_datetime(data_full['date'], format='%Y-%m-%dT%H:%M:%S')"
   ]
  },
  {
   "cell_type": "markdown",
   "metadata": {},
   "source": [
    "Нам известно, что данные соседних по времени параметров часто похожи. Обработаем имеющиеся в данных пропуски, используя метод ffill."
   ]
  },
  {
   "cell_type": "code",
   "execution_count": 13,
   "metadata": {
    "scrolled": true
   },
   "outputs": [
    {
     "data": {
      "text/plain": [
       "secondary_cleaner.output.tail_sol           1605\n",
       "rougher.state.floatbank10_e_air              436\n",
       "rougher.input.floatbank11_xanthate           428\n",
       "primary_cleaner.output.concentrate_sol       286\n",
       "secondary_cleaner.state.floatbank2_a_air     217\n",
       "                                            ... \n",
       "rougher.output.concentrate_pb                  0\n",
       "rougher.output.concentrate_au                  0\n",
       "rougher.output.recovery                        0\n",
       "rougher.output.tail_pb                         0\n",
       "date                                           0\n",
       "Length: 87, dtype: int64"
      ]
     },
     "execution_count": 13,
     "metadata": {},
     "output_type": "execute_result"
    }
   ],
   "source": [
    "data_train.isna().sum().sort_values(ascending=False)"
   ]
  },
  {
   "cell_type": "code",
   "execution_count": 14,
   "metadata": {},
   "outputs": [
    {
     "data": {
      "text/plain": [
       "rougher.input.floatbank11_xanthate            25\n",
       "rougher.input.feed_sol                        21\n",
       "secondary_cleaner.state.floatbank3_a_air       9\n",
       "rougher.input.floatbank11_sulfate              8\n",
       "primary_cleaner.input.depressant               5\n",
       "rougher.input.floatbank10_sulfate              5\n",
       "primary_cleaner.input.xanthate                 4\n",
       "primary_cleaner.input.sulfate                  4\n",
       "rougher.input.feed_rate                        3\n",
       "secondary_cleaner.state.floatbank2_a_air       3\n",
       "secondary_cleaner.state.floatbank2_b_air       2\n",
       "rougher.input.feed_size                        1\n",
       "secondary_cleaner.state.floatbank2_b_level     0\n",
       "rougher.state.floatbank10_f_level              0\n",
       "rougher.state.floatbank10_f_air                0\n",
       "secondary_cleaner.state.floatbank3_a_level     0\n",
       "secondary_cleaner.state.floatbank2_a_level     0\n",
       "date                                           0\n",
       "rougher.state.floatbank10_e_air                0\n",
       "secondary_cleaner.state.floatbank3_b_air       0\n",
       "secondary_cleaner.state.floatbank3_b_level     0\n",
       "secondary_cleaner.state.floatbank4_a_air       0\n",
       "secondary_cleaner.state.floatbank4_a_level     0\n",
       "secondary_cleaner.state.floatbank4_b_air       0\n",
       "secondary_cleaner.state.floatbank4_b_level     0\n",
       "secondary_cleaner.state.floatbank5_a_air       0\n",
       "secondary_cleaner.state.floatbank5_a_level     0\n",
       "secondary_cleaner.state.floatbank5_b_air       0\n",
       "secondary_cleaner.state.floatbank5_b_level     0\n",
       "secondary_cleaner.state.floatbank6_a_air       0\n",
       "rougher.state.floatbank10_e_level              0\n",
       "rougher.state.floatbank10_b_level              0\n",
       "rougher.state.floatbank10_d_level              0\n",
       "primary_cleaner.state.floatbank8_d_level       0\n",
       "primary_cleaner.input.feed_size                0\n",
       "primary_cleaner.state.floatbank8_a_air         0\n",
       "primary_cleaner.state.floatbank8_a_level       0\n",
       "primary_cleaner.state.floatbank8_b_air         0\n",
       "primary_cleaner.state.floatbank8_b_level       0\n",
       "primary_cleaner.state.floatbank8_c_air         0\n",
       "primary_cleaner.state.floatbank8_c_level       0\n",
       "primary_cleaner.state.floatbank8_d_air         0\n",
       "rougher.input.feed_ag                          0\n",
       "rougher.state.floatbank10_d_air                0\n",
       "rougher.input.feed_pb                          0\n",
       "rougher.input.feed_au                          0\n",
       "rougher.input.floatbank10_xanthate             0\n",
       "rougher.state.floatbank10_a_air                0\n",
       "rougher.state.floatbank10_a_level              0\n",
       "rougher.state.floatbank10_b_air                0\n",
       "rougher.state.floatbank10_c_air                0\n",
       "rougher.state.floatbank10_c_level              0\n",
       "secondary_cleaner.state.floatbank6_a_level     0\n",
       "dtype: int64"
      ]
     },
     "execution_count": 14,
     "metadata": {},
     "output_type": "execute_result"
    }
   ],
   "source": [
    "data_test.isna().sum().sort_values(ascending=False)"
   ]
  },
  {
   "cell_type": "code",
   "execution_count": 15,
   "metadata": {},
   "outputs": [],
   "source": [
    "data_train.fillna(method='ffill', inplace=True)\n",
    "data_test.fillna(method='ffill', inplace=True)"
   ]
  },
  {
   "cell_type": "code",
   "execution_count": 16,
   "metadata": {},
   "outputs": [
    {
     "data": {
      "text/plain": [
       "(0, 0)"
      ]
     },
     "execution_count": 16,
     "metadata": {},
     "output_type": "execute_result"
    }
   ],
   "source": [
    "data_train.isna().sum().sum(), \\\n",
    "data_test.isna().sum().sum()"
   ]
  },
  {
   "cell_type": "markdown",
   "metadata": {},
   "source": [
    "Сравнив между собой признаки обучающей и тестовой выборки, можно заметить, что в тестовую выборку не попали признаки с параметрами продукта (output) по каждому этапу и признаки финальной характеристики - столбцы final.  \n"
   ]
  },
  {
   "cell_type": "markdown",
   "metadata": {},
   "source": [
    "В тестовой выборке отсутствуют целевые признаки, добавим их из полной выборки."
   ]
  },
  {
   "cell_type": "markdown",
   "metadata": {},
   "source": [
    "#data_test = pd.merge(data_test, data_full[['rougher.output.recovery','final.output.recovery']], left_index=True, right_index=True, how='left')\n",
    "#data_test.head()"
   ]
  },
  {
   "cell_type": "markdown",
   "metadata": {},
   "source": [
    "## Анализ данных"
   ]
  },
  {
   "cell_type": "markdown",
   "metadata": {},
   "source": [
    "Посмотрим, как меняется концентрация металлов (Au, Ag, Pb) на различных этапах очистки."
   ]
  },
  {
   "cell_type": "code",
   "execution_count": 17,
   "metadata": {},
   "outputs": [
    {
     "data": {
      "image/png": "[encoded data removed]",
      "text/plain": [
       "<Figure size 1296x576 with 1 Axes>"
      ]
     },
     "metadata": {
      "needs_background": "light"
     },
     "output_type": "display_data"
    }
   ],
   "source": [
    "fig, ax = plt.subplots(figsize=(18,8))\n",
    "data_full['rougher.output.concentrate_ag'].hist(alpha=0.4)\n",
    "data_full['primary_cleaner.output.concentrate_ag'].hist(alpha=0.4)\n",
    "data_full['final.output.concentrate_ag'].hist(alpha=0.4)\n",
    "plt.legend(labels=['Флотация','Первичная очистка', 'Финальная концентрация'])\n",
    "plt.title(\"Концентрация серебра на различных этапах очистки\")\n",
    "plt.show()"
   ]
  },
  {
   "cell_type": "code",
   "execution_count": 18,
   "metadata": {},
   "outputs": [
    {
     "data": {
      "image/png": "[encoded data removed]",
      "text/plain": [
       "<Figure size 1296x576 with 1 Axes>"
      ]
     },
     "metadata": {
      "needs_background": "light"
     },
     "output_type": "display_data"
    }
   ],
   "source": [
    "fig, ax = plt.subplots(figsize=(18,8))\n",
    "data_full['rougher.output.concentrate_ag'].hist(bins = 20,alpha=0.4)\n",
    "data_full['primary_cleaner.output.concentrate_ag'].hist(bins = 20,alpha=0.4)\n",
    "data_full['final.output.concentrate_ag'].hist(bins = 20,alpha=0.4)\n",
    "plt.legend(labels=['Флотация','Первичная очистка', 'Финальная концентрация'])\n",
    "plt.title(\"Концентрация серебра на различных этапах очистки\")\n",
    "plt.show()"
   ]
  },
  {
   "cell_type": "code",
   "execution_count": 19,
   "metadata": {},
   "outputs": [
    {
     "data": {
      "image/png": "[encoded data removed]",
      "text/plain": [
       "<Figure size 1296x576 with 1 Axes>"
      ]
     },
     "metadata": {
      "needs_background": "light"
     },
     "output_type": "display_data"
    }
   ],
   "source": [
    "fig, ax = plt.subplots(figsize=(18,8))\n",
    "data_full['rougher.output.concentrate_pb'].hist(bins = 20,alpha=0.4)\n",
    "data_full['primary_cleaner.output.concentrate_pb'].hist(bins = 20,alpha=0.4)\n",
    "data_full['final.output.concentrate_pb'].hist(bins = 20,alpha=0.4)\n",
    "plt.legend(labels=['Флотация','Первичная очистка', 'Финальная концентрация'])\n",
    "plt.title(\"Концентрация свинца на различных этапах очистки\")\n",
    "plt.show()"
   ]
  },
  {
   "cell_type": "code",
   "execution_count": 20,
   "metadata": {},
   "outputs": [
    {
     "data": {
      "image/png": "[encoded data removed]",
      "text/plain": [
       "<Figure size 1296x576 with 1 Axes>"
      ]
     },
     "metadata": {
      "needs_background": "light"
     },
     "output_type": "display_data"
    }
   ],
   "source": [
    "fig, ax = plt.subplots(figsize=(18,8))\n",
    "data_full['rougher.output.concentrate_au'].hist(bins = 20,alpha=0.4)\n",
    "data_full['primary_cleaner.output.concentrate_au'].hist(bins = 20,alpha=0.4)\n",
    "data_full['final.output.concentrate_au'].hist(bins = 20,alpha=0.4)\n",
    "plt.legend(labels=['Флотация','Первичная очистка', 'Финальная концентрация'])\n",
    "plt.title(\"Концентрация золота на различных этапах очистки\")\n",
    "plt.show()"
   ]
  },
  {
   "cell_type": "markdown",
   "metadata": {},
   "source": [
    "Как и предполагалось, с каждым этапом очистки концетрация золота в сырье растёт, что говорит об эффективности технологического процесса.   \n",
    "Обратная ситуация наблюдается для серебра: после флотации концентрация серебра самая большая, дальнейшая очистка приводит к понижению доли серебра. Основной целью бизнеса является добыча золота, но не стоит забывать, что прочие металлы также приносят дополнительный доход для бизнеса. В рассматриваемом процессе флотация - наиболее эффективный этап для \"поиска\" серебра.  \n",
    "Для свинца ситуация схожа с золотом: после флотации средняя концентрация свинца растёт, но уже после первичной очистки доля свинца существенно не меняется."
   ]
  },
  {
   "cell_type": "code",
   "execution_count": 21,
   "metadata": {},
   "outputs": [
    {
     "data": {
      "image/png": "[encoded data removed]",
      "text/plain": [
       "<Figure size 1080x576 with 1 Axes>"
      ]
     },
     "metadata": {
      "needs_background": "light"
     },
     "output_type": "display_data"
    }
   ],
   "source": [
    "fig, ax = plt.subplots(figsize=(15,8))\n",
    "data_train['rougher.input.feed_size'].hist(bins = 30, alpha=0.6)\n",
    "data_test['rougher.input.feed_size'].hist(bins = 30, alpha=0.8)\n",
    "plt.xlim(0,180)\n",
    "plt.title(\"Сравнение распределения размера гранул сырья\")\n",
    "plt.show()"
   ]
  },
  {
   "cell_type": "markdown",
   "metadata": {},
   "source": [
    "В целом распределение размеров гранул сырья в обучающей и тестовой выборках схожи. Тестовая выборка характеризуется наличием небольшого числа гранул очень маленького размера."
   ]
  },
  {
   "cell_type": "code",
   "execution_count": 22,
   "metadata": {},
   "outputs": [
    {
     "data": {
      "text/plain": [
       "(55.269783890501536, 50.8468431600362)"
      ]
     },
     "execution_count": 22,
     "metadata": {},
     "output_type": "execute_result"
    }
   ],
   "source": [
    "data_train['rougher.input.feed_size'].median(), \\\n",
    "data_test['rougher.input.feed_size'].median()"
   ]
  },
  {
   "cell_type": "markdown",
   "metadata": {},
   "source": [
    "Сравним суммарную концентрацию всех вещест на разных стадиях очистки сырья."
   ]
  },
  {
   "cell_type": "code",
   "execution_count": 23,
   "metadata": {},
   "outputs": [
    {
     "data": {
      "image/png": "[encoded data removed]",
      "text/plain": [
       "<Figure size 1080x576 with 1 Axes>"
      ]
     },
     "metadata": {
      "needs_background": "light"
     },
     "output_type": "display_data"
    }
   ],
   "source": [
    "fig, ax = plt.subplots(figsize=(15,8))\n",
    "\n",
    "# Концентрация веществ  в сырье\n",
    "data_train['rougher_feed'] = data_train['rougher.input.feed_ag']\n",
    "+data_train['rougher.input.feed_pb']+data_train['rougher.input.feed_sol']\n",
    "+data_train['rougher.input.feed_au']\n",
    "data_train['rougher_feed'].hist(alpha=0.4)\n",
    "\n",
    "# В черновом концентрате\n",
    "data_train['rougher_output'] = data_train['rougher.output.concentrate_ag']\n",
    "+data_train['rougher.output.concentrate_pb']+data_train['rougher.output.concentrate_sol']\n",
    "+data_train['rougher.output.concentrate_au']\n",
    "data_train['rougher_output'].hist(alpha=0.4)\n",
    "\n",
    "#В финальном концентрате\n",
    "data_train['final_output'] = data_train['final.output.concentrate_ag']\n",
    "+data_train['final.output.concentrate_pb']+data_train['final.output.concentrate_sol']\n",
    "+data_train['final.output.concentrate_au']\n",
    "data_train['final_output'].hist(alpha=0.4)\n",
    "plt.show()\n"
   ]
  },
  {
   "cell_type": "markdown",
   "metadata": {},
   "source": [
    "Как видим на черновом и финальном этапах появляется аномалия - ряд продуктов имеет суммарную концентрацию веществ равную 0. При этом в исходном сырье нулевые значения отсутствовали. Удалим пустые значения. "
   ]
  },
  {
   "cell_type": "code",
   "execution_count": 24,
   "metadata": {},
   "outputs": [
    {
     "data": {
      "text/plain": [
       "(13795, 90)"
      ]
     },
     "execution_count": 24,
     "metadata": {},
     "output_type": "execute_result"
    }
   ],
   "source": [
    "null_concentration = data_train.query('final_output == 0 | rougher_output == 0')\n",
    "data_train.drop(null_concentration.index, inplace=True)\n",
    "data_train.shape"
   ]
  },
  {
   "cell_type": "markdown",
   "metadata": {},
   "source": [
    "## Модель"
   ]
  },
  {
   "cell_type": "markdown",
   "metadata": {},
   "source": [
    "Напишем функцию расчета итоговой метрики - final_sMAPE."
   ]
  },
  {
   "cell_type": "code",
   "execution_count": 25,
   "metadata": {},
   "outputs": [],
   "source": [
    "#функция вычисления метрики sMAPE\n",
    "def sMAPE(target, predicted):\n",
    "    sMAPE = 1 / len(target) * sum(abs(target - predicted) / ((abs(target) + abs(predicted)) / 2)) * 100\n",
    "    return sMAPE\n",
    "\n",
    "#функция вычисления итоговой метрики\n",
    "def final_sMAPE(sMAPE_rough, sMAPE_final):\n",
    "    result = 0.25 * sMAPE_rough + 0.75 * sMAPE_final\n",
    "    return result"
   ]
  },
  {
   "cell_type": "code",
   "execution_count": 26,
   "metadata": {},
   "outputs": [
    {
     "data": {
      "text/plain": [
       "Index(['date', 'primary_cleaner.input.sulfate',\n",
       "       'primary_cleaner.input.depressant', 'primary_cleaner.input.feed_size',\n",
       "       'primary_cleaner.input.xanthate',\n",
       "       'primary_cleaner.state.floatbank8_a_air',\n",
       "       'primary_cleaner.state.floatbank8_a_level',\n",
       "       'primary_cleaner.state.floatbank8_b_air',\n",
       "       'primary_cleaner.state.floatbank8_b_level',\n",
       "       'primary_cleaner.state.floatbank8_c_air',\n",
       "       'primary_cleaner.state.floatbank8_c_level',\n",
       "       'primary_cleaner.state.floatbank8_d_air',\n",
       "       'primary_cleaner.state.floatbank8_d_level', 'rougher.input.feed_ag',\n",
       "       'rougher.input.feed_pb', 'rougher.input.feed_rate',\n",
       "       'rougher.input.feed_size', 'rougher.input.feed_sol',\n",
       "       'rougher.input.feed_au', 'rougher.input.floatbank10_sulfate',\n",
       "       'rougher.input.floatbank10_xanthate',\n",
       "       'rougher.input.floatbank11_sulfate',\n",
       "       'rougher.input.floatbank11_xanthate', 'rougher.state.floatbank10_a_air',\n",
       "       'rougher.state.floatbank10_a_level', 'rougher.state.floatbank10_b_air',\n",
       "       'rougher.state.floatbank10_b_level', 'rougher.state.floatbank10_c_air',\n",
       "       'rougher.state.floatbank10_c_level', 'rougher.state.floatbank10_d_air',\n",
       "       'rougher.state.floatbank10_d_level', 'rougher.state.floatbank10_e_air',\n",
       "       'rougher.state.floatbank10_e_level', 'rougher.state.floatbank10_f_air',\n",
       "       'rougher.state.floatbank10_f_level',\n",
       "       'secondary_cleaner.state.floatbank2_a_air',\n",
       "       'secondary_cleaner.state.floatbank2_a_level',\n",
       "       'secondary_cleaner.state.floatbank2_b_air',\n",
       "       'secondary_cleaner.state.floatbank2_b_level',\n",
       "       'secondary_cleaner.state.floatbank3_a_air',\n",
       "       'secondary_cleaner.state.floatbank3_a_level',\n",
       "       'secondary_cleaner.state.floatbank3_b_air',\n",
       "       'secondary_cleaner.state.floatbank3_b_level',\n",
       "       'secondary_cleaner.state.floatbank4_a_air',\n",
       "       'secondary_cleaner.state.floatbank4_a_level',\n",
       "       'secondary_cleaner.state.floatbank4_b_air',\n",
       "       'secondary_cleaner.state.floatbank4_b_level',\n",
       "       'secondary_cleaner.state.floatbank5_a_air',\n",
       "       'secondary_cleaner.state.floatbank5_a_level',\n",
       "       'secondary_cleaner.state.floatbank5_b_air',\n",
       "       'secondary_cleaner.state.floatbank5_b_level',\n",
       "       'secondary_cleaner.state.floatbank6_a_air',\n",
       "       'secondary_cleaner.state.floatbank6_a_level'],\n",
       "      dtype='object')"
      ]
     },
     "execution_count": 26,
     "metadata": {},
     "output_type": "execute_result"
    }
   ],
   "source": [
    "data_test.columns"
   ]
  },
  {
   "cell_type": "code",
   "execution_count": 27,
   "metadata": {},
   "outputs": [],
   "source": [
    "#Признаками для модели являются входные данные при флотации\n",
    "rough_columns = ['rougher.input.feed_ag',\n",
    "       'rougher.input.feed_pb', 'rougher.input.feed_rate',\n",
    "       'rougher.input.feed_size', 'rougher.input.feed_sol',\n",
    "       'rougher.input.feed_au', 'rougher.input.floatbank10_sulfate',\n",
    "       'rougher.input.floatbank10_xanthate',\n",
    "       'rougher.input.floatbank11_sulfate',\n",
    "       'rougher.input.floatbank11_xanthate', 'rougher.state.floatbank10_a_air',\n",
    "       'rougher.state.floatbank10_a_level', 'rougher.state.floatbank10_b_air',\n",
    "       'rougher.state.floatbank10_b_level', 'rougher.state.floatbank10_c_air',\n",
    "       'rougher.state.floatbank10_c_level', 'rougher.state.floatbank10_d_air',\n",
    "       'rougher.state.floatbank10_d_level', 'rougher.state.floatbank10_e_air',\n",
    "       'rougher.state.floatbank10_e_level', 'rougher.state.floatbank10_f_air',\n",
    "       'rougher.state.floatbank10_f_level']\n",
    "\n",
    "features_rougher_train =data_train[rough_columns]\n",
    "\n",
    "target_rougher_train = data_train['rougher.output.recovery']\n",
    "\n",
    "features_rougher_test = data_test[rough_columns]\n",
    "target_rougher_test = data_full[data_full['date'].isin(data_test['date'].values)]['rougher.output.recovery'] "
   ]
  },
  {
   "cell_type": "code",
   "execution_count": 28,
   "metadata": {},
   "outputs": [
    {
     "data": {
      "text/plain": [
       "8.188480264713796"
      ]
     },
     "execution_count": 28,
     "metadata": {},
     "output_type": "execute_result"
    }
   ],
   "source": [
    "model = LinearRegression()\n",
    "model.fit(features_rougher_train, target_rougher_train)\n",
    "predictions_test = model.predict(features_rougher_test)\n",
    "sMAPE_rough = sMAPE(target_rougher_test, predictions_test)\n",
    "sMAPE_rough"
   ]
  },
  {
   "cell_type": "code",
   "execution_count": 29,
   "metadata": {},
   "outputs": [],
   "source": [
    "score = make_scorer(sMAPE, greater_is_better=False)"
   ]
  },
  {
   "cell_type": "code",
   "execution_count": 30,
   "metadata": {},
   "outputs": [
    {
     "name": "stdout",
     "output_type": "stream",
     "text": [
      "Fitting 3 folds for each of 360 candidates, totalling 1080 fits\n"
     ]
    },
    {
     "data": {
      "text/plain": [
       "(RandomForestRegressor(max_depth=3, min_samples_leaf=2, min_samples_split=8),\n",
       " -7.588780714317804)"
      ]
     },
     "execution_count": 30,
     "metadata": {},
     "output_type": "execute_result"
    }
   ],
   "source": [
    "clf = RandomForestRegressor()\n",
    "\n",
    "param_dict = {\n",
    "    \"max_depth\":range(1,10,2),\n",
    "    \"min_samples_split\":range(2,10),\n",
    "    \"min_samples_leaf\":range(1,10)}\n",
    "grid = GridSearchCV(clf, param_grid=param_dict, verbose=1, n_jobs=-1, cv = 3, scoring = score)\n",
    "grid.fit(features_rougher_train, target_rougher_train)\n",
    "\n",
    "grid.best_estimator_, \\\n",
    "grid.best_score_"
   ]
  },
  {
   "cell_type": "code",
   "execution_count": 44,
   "metadata": {},
   "outputs": [
    {
     "data": {
      "text/plain": [
       "8.597830566426778"
      ]
     },
     "execution_count": 44,
     "metadata": {},
     "output_type": "execute_result"
    }
   ],
   "source": [
    "model = RandomForestRegressor(max_depth = 3, min_samples_leaf = 2, min_samples_split = 8, random_state = 1)\n",
    "model.fit(features_rougher_train, target_rougher_train)\n",
    "predictions_test_2 = model.predict(features_rougher_test)\n",
    "sMAPE_rough_2 = sMAPE(target_rougher_test, predictions_test_2)\n",
    "sMAPE_rough_2"
   ]
  },
  {
   "cell_type": "code",
   "execution_count": 32,
   "metadata": {},
   "outputs": [],
   "source": [
    "columns_final = ['primary_cleaner.input.sulfate',\n",
    "       'primary_cleaner.input.depressant', 'primary_cleaner.input.feed_size',\n",
    "       'primary_cleaner.input.xanthate',\n",
    "       'primary_cleaner.state.floatbank8_a_air',\n",
    "       'primary_cleaner.state.floatbank8_a_level',\n",
    "       'primary_cleaner.state.floatbank8_b_air',\n",
    "       'primary_cleaner.state.floatbank8_b_level',\n",
    "       'primary_cleaner.state.floatbank8_c_air',\n",
    "       'primary_cleaner.state.floatbank8_c_level',\n",
    "       'primary_cleaner.state.floatbank8_d_air',\n",
    "       'primary_cleaner.state.floatbank8_d_level', \n",
    "       'secondary_cleaner.state.floatbank2_a_air',\n",
    "       'secondary_cleaner.state.floatbank2_a_level',\n",
    "       'secondary_cleaner.state.floatbank2_b_air',\n",
    "       'secondary_cleaner.state.floatbank2_b_level',\n",
    "       'secondary_cleaner.state.floatbank3_a_air',\n",
    "       'secondary_cleaner.state.floatbank3_a_level',\n",
    "       'secondary_cleaner.state.floatbank3_b_air',\n",
    "       'secondary_cleaner.state.floatbank3_b_level',\n",
    "       'secondary_cleaner.state.floatbank4_a_air',\n",
    "       'secondary_cleaner.state.floatbank4_a_level',\n",
    "       'secondary_cleaner.state.floatbank4_b_air',\n",
    "       'secondary_cleaner.state.floatbank4_b_level',\n",
    "       'secondary_cleaner.state.floatbank5_a_air',\n",
    "       'secondary_cleaner.state.floatbank5_a_level',\n",
    "       'secondary_cleaner.state.floatbank5_b_air',\n",
    "       'secondary_cleaner.state.floatbank5_b_level',\n",
    "       'secondary_cleaner.state.floatbank6_a_air',\n",
    "       'secondary_cleaner.state.floatbank6_a_level']\n",
    "features_final_train = data_train[columns_final]\n",
    "target_final_train = data_train['final.output.recovery']\n",
    "features_final_test = data_test[columns_final]\n",
    "target_final_test = data_full[data_full['date'].isin(data_test['date'].values)]['final.output.recovery'] "
   ]
  },
  {
   "cell_type": "code",
   "execution_count": 33,
   "metadata": {},
   "outputs": [
    {
     "data": {
      "text/plain": [
       "10.205631907330615"
      ]
     },
     "execution_count": 33,
     "metadata": {},
     "output_type": "execute_result"
    }
   ],
   "source": [
    "model = LinearRegression()\n",
    "model.fit(features_final_train, target_final_train)\n",
    "predictions_test_final = model.predict(features_final_test)\n",
    "sMAPE_final = sMAPE(target_final_test, predictions_test_final)\n",
    "sMAPE_final"
   ]
  },
  {
   "cell_type": "code",
   "execution_count": 34,
   "metadata": {},
   "outputs": [
    {
     "name": "stdout",
     "output_type": "stream",
     "text": [
      "Fitting 3 folds for each of 360 candidates, totalling 1080 fits\n"
     ]
    },
    {
     "data": {
      "text/plain": [
       "(RandomForestRegressor(max_depth=1, min_samples_leaf=6, min_samples_split=3),\n",
       " -10.33589117558854)"
      ]
     },
     "execution_count": 34,
     "metadata": {},
     "output_type": "execute_result"
    }
   ],
   "source": [
    "clf = RandomForestRegressor()\n",
    "\n",
    "param_dict = {\n",
    "    \"max_depth\":range(1,10,2),\n",
    "    \"min_samples_split\":range(2,10),\n",
    "    \"min_samples_leaf\":range(1,10)}\n",
    "grid = GridSearchCV(clf, param_grid=param_dict, verbose=1, n_jobs=-1, cv = 3, scoring = score)\n",
    "grid.fit(features_final_train, target_final_train)\n",
    "\n",
    "\n",
    "grid.best_estimator_, \\\n",
    "grid.best_score_"
   ]
  },
  {
   "cell_type": "code",
   "execution_count": 43,
   "metadata": {},
   "outputs": [
    {
     "data": {
      "text/plain": [
       "9.199079588556641"
      ]
     },
     "execution_count": 43,
     "metadata": {},
     "output_type": "execute_result"
    }
   ],
   "source": [
    "model = RandomForestRegressor(max_depth=1,min_samples_leaf=6,min_samples_split=3,random_state=1)\n",
    "model.fit(features_final_train, target_final_train)\n",
    "predictions_test_final_2 = model.predict(features_final_test)\n",
    "sMAPE_final_2 = sMAPE(target_final_test, predictions_test_final_2)\n",
    "sMAPE_final_2"
   ]
  },
  {
   "cell_type": "code",
   "execution_count": 47,
   "metadata": {},
   "outputs": [
    {
     "data": {
      "text/plain": [
       "9.649113560270855"
      ]
     },
     "execution_count": 47,
     "metadata": {},
     "output_type": "execute_result"
    }
   ],
   "source": [
    "# минимальное значение sMAPE final на обучающей выборке.\n",
    "final_sMAPE_train= final_sMAPE(7.5887807143178047, 10.33589117558854)\n",
    "final_sMAPE_train"
   ]
  },
  {
   "cell_type": "code",
   "execution_count": 45,
   "metadata": {},
   "outputs": [
    {
     "data": {
      "text/plain": [
       "8.94642975759593"
      ]
     },
     "execution_count": 45,
     "metadata": {},
     "output_type": "execute_result"
    }
   ],
   "source": [
    "final_sMAPE(sMAPE_rough, sMAPE_final_2)"
   ]
  },
  {
   "cell_type": "markdown",
   "metadata": {},
   "source": [
    "## Вывод"
   ]
  },
  {
   "cell_type": "markdown",
   "metadata": {},
   "source": [
    "Мы подготовили прототип модели, которая предсказывает коэффициент восстановления золота из золотосодержащей руды. Для решения задачи мы ввели новую метрику — sMAPE («симметричное среднее абсолютное процентное отклонение»). По результату валидации модели на тестовой выборки получили значение скорректированной метрики итоговое_sMAPE - **8.95**. "
   ]
  },
  {
   "cell_type": "markdown",
   "metadata": {},
   "source": [
    "Осуществим проверку модели на адекватность, создадим дамми-признаки, которые для обучения всегда подставляют медианные значения."
   ]
  },
  {
   "cell_type": "code",
   "execution_count": 38,
   "metadata": {},
   "outputs": [
    {
     "data": {
      "text/plain": [
       "8.525870329335161"
      ]
     },
     "execution_count": 38,
     "metadata": {},
     "output_type": "execute_result"
    }
   ],
   "source": [
    "dummy_regressor_rougher = DummyRegressor(strategy=\"median\")\n",
    "dummy_regressor_rougher.fit(features_rougher_train, target_rougher_train)\n",
    "dummy_rougher_pred = dummy_regressor_rougher.predict(features_rougher_test)\n",
    "sMAPE_rougher_dum = sMAPE(target_rougher_test, dummy_rougher_pred)\n",
    "sMAPE_rougher_dum"
   ]
  },
  {
   "cell_type": "code",
   "execution_count": 39,
   "metadata": {},
   "outputs": [
    {
     "data": {
      "text/plain": [
       "9.743369308411774"
      ]
     },
     "execution_count": 39,
     "metadata": {},
     "output_type": "execute_result"
    }
   ],
   "source": [
    "dummy_regressor_final = DummyRegressor(strategy=\"median\")\n",
    "dummy_regressor_final.fit(features_final_train, target_final_train)\n",
    "dummy_final_pred = dummy_regressor_final.predict(features_final_test)\n",
    "sMAPE_final_dum = sMAPE(target_final_test, dummy_final_pred)\n",
    "sMAPE_final_dum"
   ]
  },
  {
   "cell_type": "code",
   "execution_count": 40,
   "metadata": {},
   "outputs": [
    {
     "data": {
      "text/plain": [
       "9.438994563642622"
      ]
     },
     "execution_count": 40,
     "metadata": {},
     "output_type": "execute_result"
    }
   ],
   "source": [
    "dummy_sMAPE = final_sMAPE(sMAPE_rougher_dum, sMAPE_final_dum)\n",
    "dummy_sMAPE"
   ]
  }
 ],
 "metadata": {
  "ExecuteTimeLog": [
   {
    "duration": 917,
    "start_time": "2021-06-30T21:00:55.754Z"
   },
   {
    "duration": 485,
    "start_time": "2021-06-30T21:00:58.492Z"
   },
   {
    "duration": 923,
    "start_time": "2021-06-30T21:01:11.481Z"
   },
   {
    "duration": 36,
    "start_time": "2021-06-30T21:01:25.585Z"
   },
   {
    "duration": 24,
    "start_time": "2021-06-30T21:01:59.721Z"
   },
   {
    "duration": 17,
    "start_time": "2021-06-30T21:02:24.114Z"
   },
   {
    "duration": 25,
    "start_time": "2021-06-30T21:02:31.284Z"
   },
   {
    "duration": 31,
    "start_time": "2021-06-30T21:02:55.255Z"
   },
   {
    "duration": 22,
    "start_time": "2021-06-30T21:03:50.744Z"
   },
   {
    "duration": 5,
    "start_time": "2021-06-30T21:04:45.541Z"
   },
   {
    "duration": 7,
    "start_time": "2021-06-30T21:04:56.028Z"
   },
   {
    "duration": 560,
    "start_time": "2021-07-05T18:57:35.462Z"
   },
   {
    "duration": 678,
    "start_time": "2021-07-05T18:57:45.815Z"
   },
   {
    "duration": 16,
    "start_time": "2021-07-05T18:57:48.688Z"
   },
   {
    "duration": 11,
    "start_time": "2021-07-05T18:57:49.255Z"
   },
   {
    "duration": 22,
    "start_time": "2021-07-05T18:57:51.361Z"
   },
   {
    "duration": 14,
    "start_time": "2021-07-05T18:57:55.921Z"
   },
   {
    "duration": 9,
    "start_time": "2021-07-05T18:58:12.178Z"
   },
   {
    "duration": 19,
    "start_time": "2021-07-05T19:01:41.675Z"
   },
   {
    "duration": 23,
    "start_time": "2021-07-05T19:02:03.983Z"
   },
   {
    "duration": 7,
    "start_time": "2021-07-05T21:41:32.274Z"
   },
   {
    "duration": 1384,
    "start_time": "2021-07-05T21:44:13.705Z"
   },
   {
    "duration": 6,
    "start_time": "2021-07-05T21:44:37.027Z"
   },
   {
    "duration": 1047,
    "start_time": "2021-07-05T21:45:02.661Z"
   },
   {
    "duration": 7,
    "start_time": "2021-07-05T21:45:10.886Z"
   },
   {
    "duration": 777,
    "start_time": "2021-07-05T21:45:24.379Z"
   },
   {
    "duration": 6,
    "start_time": "2021-07-05T21:45:40.389Z"
   },
   {
    "duration": 4,
    "start_time": "2021-07-05T21:46:03.675Z"
   },
   {
    "duration": 790,
    "start_time": "2021-07-05T21:46:19.612Z"
   },
   {
    "duration": 6,
    "start_time": "2021-07-05T21:47:46.817Z"
   },
   {
    "duration": 8,
    "start_time": "2021-07-05T21:47:50.700Z"
   },
   {
    "duration": 1158,
    "start_time": "2021-07-05T21:49:46.111Z"
   },
   {
    "duration": 8,
    "start_time": "2021-07-05T21:49:49.149Z"
   },
   {
    "duration": 1631,
    "start_time": "2021-07-06T15:38:02.143Z"
   },
   {
    "duration": 872,
    "start_time": "2021-07-06T15:38:04.486Z"
   },
   {
    "duration": 24,
    "start_time": "2021-07-06T15:38:05.968Z"
   },
   {
    "duration": 17,
    "start_time": "2021-07-06T15:38:08.377Z"
   },
   {
    "duration": 26,
    "start_time": "2021-07-06T15:38:09.165Z"
   },
   {
    "duration": 36,
    "start_time": "2021-07-06T15:38:13.924Z"
   },
   {
    "duration": 31,
    "start_time": "2021-07-06T15:38:15.613Z"
   },
   {
    "duration": 3,
    "start_time": "2021-07-06T15:41:23.819Z"
   },
   {
    "duration": 3,
    "start_time": "2021-07-06T15:41:29.433Z"
   },
   {
    "duration": 128,
    "start_time": "2021-07-06T15:53:59.232Z"
   },
   {
    "duration": 143,
    "start_time": "2021-07-06T15:54:06.635Z"
   },
   {
    "duration": 9,
    "start_time": "2021-07-06T15:54:12.523Z"
   },
   {
    "duration": 11,
    "start_time": "2021-07-06T15:54:30.691Z"
   },
   {
    "duration": 7,
    "start_time": "2021-07-06T15:54:45.746Z"
   },
   {
    "duration": 9,
    "start_time": "2021-07-06T15:55:19.279Z"
   },
   {
    "duration": 11,
    "start_time": "2021-07-06T15:55:25.051Z"
   },
   {
    "duration": 5,
    "start_time": "2021-07-06T15:56:06.280Z"
   },
   {
    "duration": 10,
    "start_time": "2021-07-06T15:56:10.166Z"
   },
   {
    "duration": 249,
    "start_time": "2021-07-06T16:05:13.170Z"
   },
   {
    "duration": 194,
    "start_time": "2021-07-06T16:05:18.249Z"
   },
   {
    "duration": 221,
    "start_time": "2021-07-06T16:05:37.364Z"
   },
   {
    "duration": 131,
    "start_time": "2021-07-06T16:05:43.105Z"
   },
   {
    "duration": 263,
    "start_time": "2021-07-06T16:05:47.887Z"
   },
   {
    "duration": 674,
    "start_time": "2021-07-06T16:05:51.540Z"
   },
   {
    "duration": 237,
    "start_time": "2021-07-06T16:06:01.425Z"
   },
   {
    "duration": 8392,
    "start_time": "2021-07-06T16:12:54.948Z"
   },
   {
    "duration": 10,
    "start_time": "2021-07-06T16:13:38.228Z"
   },
   {
    "duration": 9,
    "start_time": "2021-07-06T16:13:45.809Z"
   },
   {
    "duration": 9,
    "start_time": "2021-07-06T16:13:53.799Z"
   },
   {
    "duration": 353,
    "start_time": "2021-07-06T16:13:57.759Z"
   },
   {
    "duration": 12,
    "start_time": "2021-07-06T16:14:02.170Z"
   },
   {
    "duration": 12,
    "start_time": "2021-07-06T16:14:11.048Z"
   },
   {
    "duration": 9,
    "start_time": "2021-07-06T16:14:39.110Z"
   },
   {
    "duration": 13,
    "start_time": "2021-07-06T16:14:46.478Z"
   },
   {
    "duration": 9,
    "start_time": "2021-07-06T16:14:55.219Z"
   },
   {
    "duration": 20,
    "start_time": "2021-07-06T16:15:46.769Z"
   },
   {
    "duration": 14,
    "start_time": "2021-07-06T16:17:26.771Z"
   },
   {
    "duration": 1515,
    "start_time": "2021-07-07T18:20:44.868Z"
   },
   {
    "duration": 932,
    "start_time": "2021-07-07T18:20:46.387Z"
   },
   {
    "duration": 25,
    "start_time": "2021-07-07T18:20:47.323Z"
   },
   {
    "duration": 36,
    "start_time": "2021-07-07T18:20:47.350Z"
   },
   {
    "duration": 28,
    "start_time": "2021-07-07T18:20:47.389Z"
   },
   {
    "duration": 35,
    "start_time": "2021-07-07T18:20:48.428Z"
   },
   {
    "duration": 34,
    "start_time": "2021-07-07T18:20:49.275Z"
   },
   {
    "duration": 7,
    "start_time": "2021-07-07T18:20:54.102Z"
   },
   {
    "duration": 18,
    "start_time": "2021-07-07T18:20:54.695Z"
   },
   {
    "duration": 7,
    "start_time": "2021-07-07T18:20:57.190Z"
   },
   {
    "duration": 223,
    "start_time": "2021-07-07T18:20:59.587Z"
   },
   {
    "duration": 20,
    "start_time": "2021-07-07T18:21:01.564Z"
   },
   {
    "duration": 12,
    "start_time": "2021-07-07T18:21:03.999Z"
   },
   {
    "duration": 505,
    "start_time": "2021-07-07T18:22:16.544Z"
   },
   {
    "duration": 5126,
    "start_time": "2021-07-07T18:22:47.593Z"
   },
   {
    "duration": 8,
    "start_time": "2021-07-07T18:23:17.852Z"
   },
   {
    "duration": 10,
    "start_time": "2021-07-07T18:23:29.788Z"
   },
   {
    "duration": 6,
    "start_time": "2021-07-07T18:23:32.142Z"
   },
   {
    "duration": -107,
    "start_time": "2021-07-07T18:23:55.038Z"
   },
   {
    "duration": 6,
    "start_time": "2021-07-07T18:24:06.893Z"
   },
   {
    "duration": 13,
    "start_time": "2021-07-07T18:27:37.973Z"
   },
   {
    "duration": 10,
    "start_time": "2021-07-07T18:28:11.685Z"
   },
   {
    "duration": 11,
    "start_time": "2021-07-07T18:28:30.571Z"
   },
   {
    "duration": 8,
    "start_time": "2021-07-07T18:28:42.976Z"
   },
   {
    "duration": 11,
    "start_time": "2021-07-07T18:28:45.862Z"
   },
   {
    "duration": 13,
    "start_time": "2021-07-07T18:28:58.850Z"
   },
   {
    "duration": 8,
    "start_time": "2021-07-07T18:29:00.943Z"
   },
   {
    "duration": 12,
    "start_time": "2021-07-07T18:29:02.426Z"
   },
   {
    "duration": 6,
    "start_time": "2021-07-07T18:44:36.113Z"
   },
   {
    "duration": 6,
    "start_time": "2021-07-07T18:44:54.180Z"
   },
   {
    "duration": 381,
    "start_time": "2021-07-07T18:47:28.445Z"
   },
   {
    "duration": 7,
    "start_time": "2021-07-07T18:47:34.265Z"
   },
   {
    "duration": 7,
    "start_time": "2021-07-07T18:54:01.765Z"
   },
   {
    "duration": 367,
    "start_time": "2021-07-07T18:54:09.434Z"
   },
   {
    "duration": 328,
    "start_time": "2021-07-07T18:54:15.831Z"
   },
   {
    "duration": 347,
    "start_time": "2021-07-07T18:54:21.701Z"
   },
   {
    "duration": 8,
    "start_time": "2021-07-07T18:54:35.128Z"
   },
   {
    "duration": 4,
    "start_time": "2021-07-07T18:54:54.709Z"
   },
   {
    "duration": 4,
    "start_time": "2021-07-07T18:55:29.407Z"
   },
   {
    "duration": 6,
    "start_time": "2021-07-07T18:55:36.718Z"
   },
   {
    "duration": 5,
    "start_time": "2021-07-07T18:55:51.228Z"
   },
   {
    "duration": 332,
    "start_time": "2021-07-07T18:56:04.788Z"
   },
   {
    "duration": 7,
    "start_time": "2021-07-07T18:56:08.225Z"
   },
   {
    "duration": 7,
    "start_time": "2021-07-07T18:56:18.296Z"
   },
   {
    "duration": 6,
    "start_time": "2021-07-07T18:59:52.330Z"
   },
   {
    "duration": 370,
    "start_time": "2021-07-07T19:00:02.576Z"
   },
   {
    "duration": 20,
    "start_time": "2021-07-07T19:00:33.379Z"
   },
   {
    "duration": 520,
    "start_time": "2021-07-07T19:00:59.179Z"
   },
   {
    "duration": 346,
    "start_time": "2021-07-07T19:01:08.067Z"
   },
   {
    "duration": 309,
    "start_time": "2021-07-07T19:01:13.988Z"
   },
   {
    "duration": 330,
    "start_time": "2021-07-07T19:01:16.848Z"
   },
   {
    "duration": 332,
    "start_time": "2021-07-07T19:01:19.212Z"
   },
   {
    "duration": 387,
    "start_time": "2021-07-07T19:01:24.777Z"
   },
   {
    "duration": 6,
    "start_time": "2021-07-07T19:03:16.456Z"
   },
   {
    "duration": 7,
    "start_time": "2021-07-07T19:03:28.339Z"
   },
   {
    "duration": 129,
    "start_time": "2021-07-07T19:03:33.779Z"
   },
   {
    "duration": 412,
    "start_time": "2021-07-07T19:03:40.617Z"
   },
   {
    "duration": 359,
    "start_time": "2021-07-07T19:03:50.377Z"
   },
   {
    "duration": 315,
    "start_time": "2021-07-07T19:04:04.404Z"
   },
   {
    "duration": 338,
    "start_time": "2021-07-07T19:11:46.939Z"
   },
   {
    "duration": 332,
    "start_time": "2021-07-07T19:11:54.704Z"
   },
   {
    "duration": 8408,
    "start_time": "2021-07-07T19:12:02.004Z"
   },
   {
    "duration": 9975,
    "start_time": "2021-07-07T19:12:45.624Z"
   },
   {
    "duration": 367,
    "start_time": "2021-07-07T19:21:22.563Z"
   },
   {
    "duration": 318,
    "start_time": "2021-07-07T19:22:03.603Z"
   },
   {
    "duration": 386,
    "start_time": "2021-07-07T19:23:28.838Z"
   },
   {
    "duration": 337,
    "start_time": "2021-07-07T19:26:39.275Z"
   },
   {
    "duration": 503,
    "start_time": "2021-07-07T19:30:19.520Z"
   },
   {
    "duration": 7,
    "start_time": "2021-07-07T19:31:32.718Z"
   },
   {
    "duration": 13,
    "start_time": "2021-07-07T19:31:39.024Z"
   },
   {
    "duration": 206,
    "start_time": "2021-07-07T19:38:46.044Z"
   },
   {
    "duration": 351,
    "start_time": "2021-07-07T19:39:04.575Z"
   },
   {
    "duration": 8,
    "start_time": "2021-07-07T19:39:27.105Z"
   },
   {
    "duration": 7,
    "start_time": "2021-07-07T19:39:42.975Z"
   },
   {
    "duration": 10,
    "start_time": "2021-07-07T19:39:47.346Z"
   },
   {
    "duration": 332,
    "start_time": "2021-07-07T19:42:21.915Z"
   },
   {
    "duration": 114,
    "start_time": "2021-07-07T19:42:32.832Z"
   },
   {
    "duration": 322,
    "start_time": "2021-07-07T19:42:40.361Z"
   },
   {
    "duration": 357,
    "start_time": "2021-07-07T19:42:45.701Z"
   },
   {
    "duration": 345,
    "start_time": "2021-07-07T19:42:57.442Z"
   },
   {
    "duration": 10,
    "start_time": "2021-07-07T19:43:12.413Z"
   },
   {
    "duration": 11,
    "start_time": "2021-07-07T19:44:51.789Z"
   },
   {
    "duration": 424,
    "start_time": "2021-07-07T19:46:23.176Z"
   },
   {
    "duration": 397,
    "start_time": "2021-07-07T19:46:28.459Z"
   },
   {
    "duration": 11,
    "start_time": "2021-07-07T19:47:06.426Z"
   },
   {
    "duration": 49,
    "start_time": "2021-07-07T19:47:37.283Z"
   },
   {
    "duration": 848,
    "start_time": "2021-07-07T19:48:18.215Z"
   },
   {
    "duration": 6,
    "start_time": "2021-07-07T19:48:21.820Z"
   },
   {
    "duration": 9,
    "start_time": "2021-07-07T19:48:54.020Z"
   },
   {
    "duration": 16,
    "start_time": "2021-07-07T19:49:25.575Z"
   },
   {
    "duration": 9,
    "start_time": "2021-07-07T19:49:28.132Z"
   },
   {
    "duration": 117,
    "start_time": "2021-07-07T19:55:23.537Z"
   },
   {
    "duration": 351,
    "start_time": "2021-07-07T19:55:41.557Z"
   },
   {
    "duration": 367,
    "start_time": "2021-07-07T19:55:49.205Z"
   },
   {
    "duration": 21,
    "start_time": "2021-07-07T19:56:09.458Z"
   },
   {
    "duration": 11,
    "start_time": "2021-07-07T19:56:30.421Z"
   },
   {
    "duration": 24,
    "start_time": "2021-07-07T19:56:43.943Z"
   },
   {
    "duration": 340,
    "start_time": "2021-07-07T19:56:49.769Z"
   },
   {
    "duration": 117,
    "start_time": "2021-07-07T19:59:05.299Z"
   },
   {
    "duration": 341,
    "start_time": "2021-07-07T19:59:15.349Z"
   },
   {
    "duration": 449,
    "start_time": "2021-07-07T19:59:26.705Z"
   },
   {
    "duration": 343,
    "start_time": "2021-07-07T19:59:40.894Z"
   },
   {
    "duration": 412,
    "start_time": "2021-07-07T20:00:15.722Z"
   },
   {
    "duration": 352,
    "start_time": "2021-07-07T20:10:56.288Z"
   },
   {
    "duration": 407,
    "start_time": "2021-07-07T20:12:22.277Z"
   },
   {
    "duration": 441,
    "start_time": "2021-07-07T20:12:33.055Z"
   },
   {
    "duration": 105,
    "start_time": "2021-07-07T20:15:44.351Z"
   },
   {
    "duration": 8,
    "start_time": "2021-07-07T20:15:49.227Z"
   },
   {
    "duration": 34,
    "start_time": "2021-07-07T20:16:15.408Z"
   },
   {
    "duration": 19,
    "start_time": "2021-07-07T20:16:31.493Z"
   },
   {
    "duration": 11,
    "start_time": "2021-07-07T20:16:37.062Z"
   },
   {
    "duration": 17,
    "start_time": "2021-07-07T20:16:51.728Z"
   },
   {
    "duration": 359,
    "start_time": "2021-07-07T20:17:35.314Z"
   },
   {
    "duration": 404,
    "start_time": "2021-07-07T20:17:59.796Z"
   },
   {
    "duration": 365,
    "start_time": "2021-07-07T20:18:10.852Z"
   },
   {
    "duration": 112,
    "start_time": "2021-07-07T20:18:37.028Z"
   },
   {
    "duration": 333,
    "start_time": "2021-07-07T20:18:40.285Z"
   },
   {
    "duration": 372,
    "start_time": "2021-07-07T20:18:50.002Z"
   },
   {
    "duration": 375,
    "start_time": "2021-07-07T20:20:18.243Z"
   },
   {
    "duration": 383,
    "start_time": "2021-07-07T20:20:47.336Z"
   },
   {
    "duration": 312,
    "start_time": "2021-07-07T20:21:04.092Z"
   },
   {
    "duration": 387,
    "start_time": "2021-07-07T20:21:13.249Z"
   },
   {
    "duration": 2141,
    "start_time": "2021-07-07T20:21:30.038Z"
   },
   {
    "duration": 405,
    "start_time": "2021-07-07T20:21:34.885Z"
   },
   {
    "duration": 150,
    "start_time": "2021-07-07T20:21:42.179Z"
   },
   {
    "duration": 144,
    "start_time": "2021-07-07T20:21:48.029Z"
   },
   {
    "duration": 370,
    "start_time": "2021-07-07T20:22:09.577Z"
   },
   {
    "duration": 22,
    "start_time": "2021-07-07T20:24:13.725Z"
   },
   {
    "duration": 32,
    "start_time": "2021-07-07T20:24:21.992Z"
   },
   {
    "duration": 324,
    "start_time": "2021-07-07T20:24:53.295Z"
   },
   {
    "duration": 33,
    "start_time": "2021-07-07T20:25:07.653Z"
   },
   {
    "duration": 4,
    "start_time": "2021-07-07T20:25:40.450Z"
   },
   {
    "duration": 858,
    "start_time": "2021-07-07T20:25:40.926Z"
   },
   {
    "duration": 23,
    "start_time": "2021-07-07T20:25:41.787Z"
   },
   {
    "duration": 17,
    "start_time": "2021-07-07T20:25:42.033Z"
   },
   {
    "duration": 28,
    "start_time": "2021-07-07T20:25:42.492Z"
   },
   {
    "duration": 32,
    "start_time": "2021-07-07T20:25:43.059Z"
   },
   {
    "duration": 32,
    "start_time": "2021-07-07T20:25:44.214Z"
   },
   {
    "duration": 7,
    "start_time": "2021-07-07T20:25:47.636Z"
   },
   {
    "duration": 11,
    "start_time": "2021-07-07T20:25:48.435Z"
   },
   {
    "duration": 8,
    "start_time": "2021-07-07T20:25:50.970Z"
   },
   {
    "duration": 207,
    "start_time": "2021-07-07T20:25:53.536Z"
   },
   {
    "duration": 17,
    "start_time": "2021-07-07T20:25:55.984Z"
   },
   {
    "duration": 13,
    "start_time": "2021-07-07T20:25:57.584Z"
   },
   {
    "duration": 11,
    "start_time": "2021-07-07T20:25:58.300Z"
   },
   {
    "duration": 9,
    "start_time": "2021-07-07T20:26:00.802Z"
   },
   {
    "duration": 11,
    "start_time": "2021-07-07T20:26:01.272Z"
   },
   {
    "duration": 11,
    "start_time": "2021-07-07T20:26:02.919Z"
   },
   {
    "duration": 31,
    "start_time": "2021-07-07T20:26:07.121Z"
   },
   {
    "duration": 319,
    "start_time": "2021-07-07T20:26:15.361Z"
   },
   {
    "duration": 391,
    "start_time": "2021-07-07T20:26:28.472Z"
   },
   {
    "duration": 311,
    "start_time": "2021-07-07T20:26:36.694Z"
   },
   {
    "duration": 28,
    "start_time": "2021-07-07T20:29:53.045Z"
   },
   {
    "duration": 32,
    "start_time": "2021-07-07T20:30:02.957Z"
   },
   {
    "duration": 124,
    "start_time": "2021-07-07T20:30:22.968Z"
   },
   {
    "duration": 6,
    "start_time": "2021-07-07T20:30:27.518Z"
   },
   {
    "duration": 34,
    "start_time": "2021-07-07T20:34:49.433Z"
   },
   {
    "duration": 112,
    "start_time": "2021-07-07T20:35:13.149Z"
   },
   {
    "duration": 27,
    "start_time": "2021-07-07T20:35:20.646Z"
   },
   {
    "duration": 34,
    "start_time": "2021-07-07T20:35:22.710Z"
   },
   {
    "duration": 26,
    "start_time": "2021-07-07T20:35:31.277Z"
   },
   {
    "duration": 33,
    "start_time": "2021-07-07T20:35:32.675Z"
   },
   {
    "duration": 363,
    "start_time": "2021-07-07T20:35:58.095Z"
   },
   {
    "duration": 16,
    "start_time": "2021-07-07T20:38:11.902Z"
   },
   {
    "duration": 41,
    "start_time": "2021-07-07T20:38:16.877Z"
   },
   {
    "duration": 5,
    "start_time": "2021-07-07T20:38:37.220Z"
   },
   {
    "duration": 434,
    "start_time": "2021-07-07T20:40:30.067Z"
   },
   {
    "duration": 378,
    "start_time": "2021-07-07T20:40:42.510Z"
   },
   {
    "duration": 6,
    "start_time": "2021-07-07T20:42:28.610Z"
   },
   {
    "duration": 5,
    "start_time": "2021-07-07T20:42:36.469Z"
   },
   {
    "duration": 25,
    "start_time": "2021-07-07T20:42:45.357Z"
   },
   {
    "duration": 18,
    "start_time": "2021-07-07T20:42:57.352Z"
   },
   {
    "duration": 1460,
    "start_time": "2021-07-07T20:43:51.407Z"
   },
   {
    "duration": 885,
    "start_time": "2021-07-07T20:43:52.870Z"
   },
   {
    "duration": 29,
    "start_time": "2021-07-07T20:43:53.758Z"
   },
   {
    "duration": 16,
    "start_time": "2021-07-07T20:43:53.789Z"
   },
   {
    "duration": 27,
    "start_time": "2021-07-07T20:43:59.319Z"
   },
   {
    "duration": 37,
    "start_time": "2021-07-07T20:44:03.578Z"
   },
   {
    "duration": 32,
    "start_time": "2021-07-07T20:44:04.605Z"
   },
   {
    "duration": 8,
    "start_time": "2021-07-07T20:44:08.083Z"
   },
   {
    "duration": 15,
    "start_time": "2021-07-07T20:44:11.480Z"
   },
   {
    "duration": 32,
    "start_time": "2021-07-07T20:45:02.922Z"
   },
   {
    "duration": 6,
    "start_time": "2021-07-07T20:45:38.959Z"
   },
   {
    "duration": 217,
    "start_time": "2021-07-07T20:45:45.759Z"
   },
   {
    "duration": 16,
    "start_time": "2021-07-07T20:45:51.067Z"
   },
   {
    "duration": 12,
    "start_time": "2021-07-07T20:46:27.814Z"
   },
   {
    "duration": 10,
    "start_time": "2021-07-07T20:46:30.420Z"
   },
   {
    "duration": 9,
    "start_time": "2021-07-07T20:46:34.653Z"
   },
   {
    "duration": 12,
    "start_time": "2021-07-07T20:46:36.961Z"
   },
   {
    "duration": 13,
    "start_time": "2021-07-07T20:46:41.255Z"
   },
   {
    "duration": 30,
    "start_time": "2021-07-07T20:46:45.197Z"
   },
   {
    "duration": 25,
    "start_time": "2021-07-07T20:47:23.762Z"
   },
   {
    "duration": 1414,
    "start_time": "2021-07-07T20:47:48.799Z"
   },
   {
    "duration": 897,
    "start_time": "2021-07-07T20:47:50.216Z"
   },
   {
    "duration": 27,
    "start_time": "2021-07-07T20:47:51.116Z"
   },
   {
    "duration": 35,
    "start_time": "2021-07-07T20:47:51.147Z"
   },
   {
    "duration": 28,
    "start_time": "2021-07-07T20:47:51.185Z"
   },
   {
    "duration": 68,
    "start_time": "2021-07-07T20:47:51.216Z"
   },
   {
    "duration": 30,
    "start_time": "2021-07-07T20:47:51.286Z"
   },
   {
    "duration": 55,
    "start_time": "2021-07-07T20:47:51.320Z"
   },
   {
    "duration": 14,
    "start_time": "2021-07-07T20:47:51.378Z"
   },
   {
    "duration": 7,
    "start_time": "2021-07-07T20:47:51.394Z"
   },
   {
    "duration": 252,
    "start_time": "2021-07-07T20:47:51.403Z"
   },
   {
    "duration": 22,
    "start_time": "2021-07-07T20:47:51.657Z"
   },
   {
    "duration": 13,
    "start_time": "2021-07-07T20:47:51.681Z"
   },
   {
    "duration": 10,
    "start_time": "2021-07-07T20:47:51.696Z"
   },
   {
    "duration": 9,
    "start_time": "2021-07-07T20:47:51.708Z"
   },
   {
    "duration": 49,
    "start_time": "2021-07-07T20:47:51.719Z"
   },
   {
    "duration": 13,
    "start_time": "2021-07-07T20:47:51.771Z"
   },
   {
    "duration": 34,
    "start_time": "2021-07-07T20:47:51.787Z"
   },
   {
    "duration": 62,
    "start_time": "2021-07-07T20:47:51.825Z"
   },
   {
    "duration": 4,
    "start_time": "2021-07-07T20:47:51.890Z"
   },
   {
    "duration": 8,
    "start_time": "2021-07-07T20:47:51.897Z"
   },
   {
    "duration": 7,
    "start_time": "2021-07-07T20:47:51.908Z"
   },
   {
    "duration": 5,
    "start_time": "2021-07-07T20:47:51.921Z"
   },
   {
    "duration": 9,
    "start_time": "2021-07-07T20:48:31.257Z"
   },
   {
    "duration": 12,
    "start_time": "2021-07-07T20:48:33.224Z"
   },
   {
    "duration": 10,
    "start_time": "2021-07-07T20:48:34.870Z"
   },
   {
    "duration": 7,
    "start_time": "2021-07-07T20:48:39.221Z"
   },
   {
    "duration": 11,
    "start_time": "2021-07-07T20:48:39.704Z"
   },
   {
    "duration": 518,
    "start_time": "2021-07-07T20:48:41.450Z"
   },
   {
    "duration": 1544,
    "start_time": "2021-07-07T20:48:58.105Z"
   },
   {
    "duration": 916,
    "start_time": "2021-07-07T20:48:59.651Z"
   },
   {
    "duration": 24,
    "start_time": "2021-07-07T20:49:00.570Z"
   },
   {
    "duration": 16,
    "start_time": "2021-07-07T20:49:00.596Z"
   },
   {
    "duration": 53,
    "start_time": "2021-07-07T20:49:00.614Z"
   },
   {
    "duration": 36,
    "start_time": "2021-07-07T20:49:00.669Z"
   },
   {
    "duration": 58,
    "start_time": "2021-07-07T20:49:00.708Z"
   },
   {
    "duration": 31,
    "start_time": "2021-07-07T20:49:00.769Z"
   },
   {
    "duration": 27,
    "start_time": "2021-07-07T20:49:00.804Z"
   },
   {
    "duration": 7,
    "start_time": "2021-07-07T20:49:00.833Z"
   },
   {
    "duration": 248,
    "start_time": "2021-07-07T20:49:00.842Z"
   },
   {
    "duration": 21,
    "start_time": "2021-07-07T20:49:01.092Z"
   },
   {
    "duration": 20,
    "start_time": "2021-07-07T20:49:01.115Z"
   },
   {
    "duration": 33,
    "start_time": "2021-07-07T20:49:01.137Z"
   },
   {
    "duration": 9,
    "start_time": "2021-07-07T20:49:01.172Z"
   },
   {
    "duration": 20,
    "start_time": "2021-07-07T20:49:01.184Z"
   },
   {
    "duration": 19,
    "start_time": "2021-07-07T20:49:01.207Z"
   },
   {
    "duration": 53,
    "start_time": "2021-07-07T20:49:01.229Z"
   },
   {
    "duration": 31,
    "start_time": "2021-07-07T20:49:01.284Z"
   },
   {
    "duration": 2,
    "start_time": "2021-07-07T20:49:01.317Z"
   },
   {
    "duration": 24,
    "start_time": "2021-07-07T20:49:01.321Z"
   },
   {
    "duration": 13,
    "start_time": "2021-07-07T20:49:01.347Z"
   },
   {
    "duration": 32,
    "start_time": "2021-07-07T20:49:01.362Z"
   },
   {
    "duration": 457,
    "start_time": "2021-07-07T20:49:22.550Z"
   },
   {
    "duration": 1622,
    "start_time": "2021-07-07T20:49:32.252Z"
   },
   {
    "duration": 893,
    "start_time": "2021-07-07T20:49:33.877Z"
   },
   {
    "duration": 26,
    "start_time": "2021-07-07T20:49:34.774Z"
   },
   {
    "duration": 18,
    "start_time": "2021-07-07T20:49:34.804Z"
   },
   {
    "duration": 64,
    "start_time": "2021-07-07T20:49:34.825Z"
   },
   {
    "duration": 35,
    "start_time": "2021-07-07T20:49:34.892Z"
   },
   {
    "duration": 52,
    "start_time": "2021-07-07T20:49:34.929Z"
   },
   {
    "duration": 30,
    "start_time": "2021-07-07T20:49:34.983Z"
   },
   {
    "duration": 15,
    "start_time": "2021-07-07T20:49:35.017Z"
   },
   {
    "duration": 37,
    "start_time": "2021-07-07T20:49:35.035Z"
   },
   {
    "duration": 230,
    "start_time": "2021-07-07T20:49:35.075Z"
   },
   {
    "duration": 21,
    "start_time": "2021-07-07T20:49:35.308Z"
   },
   {
    "duration": 36,
    "start_time": "2021-07-07T20:49:35.331Z"
   },
   {
    "duration": 10,
    "start_time": "2021-07-07T20:49:35.369Z"
   },
   {
    "duration": 8,
    "start_time": "2021-07-07T20:49:35.382Z"
   },
   {
    "duration": 12,
    "start_time": "2021-07-07T20:49:35.392Z"
   },
   {
    "duration": 485,
    "start_time": "2021-07-07T20:49:35.406Z"
   },
   {
    "duration": -162,
    "start_time": "2021-07-07T20:49:36.056Z"
   },
   {
    "duration": -164,
    "start_time": "2021-07-07T20:49:36.059Z"
   },
   {
    "duration": -165,
    "start_time": "2021-07-07T20:49:36.061Z"
   },
   {
    "duration": -173,
    "start_time": "2021-07-07T20:49:36.071Z"
   },
   {
    "duration": -173,
    "start_time": "2021-07-07T20:49:36.072Z"
   },
   {
    "duration": -172,
    "start_time": "2021-07-07T20:49:36.073Z"
   },
   {
    "duration": -173,
    "start_time": "2021-07-07T20:49:36.075Z"
   },
   {
    "duration": 345,
    "start_time": "2021-07-07T20:49:46.604Z"
   },
   {
    "duration": 10,
    "start_time": "2021-07-07T20:49:56.921Z"
   },
   {
    "duration": 10,
    "start_time": "2021-07-07T20:50:14.986Z"
   },
   {
    "duration": 33,
    "start_time": "2021-07-07T20:50:18.398Z"
   },
   {
    "duration": 32,
    "start_time": "2021-07-07T20:50:53.435Z"
   },
   {
    "duration": 27,
    "start_time": "2021-07-07T20:51:21.320Z"
   },
   {
    "duration": 362,
    "start_time": "2021-07-07T20:51:32.680Z"
   },
   {
    "duration": 362,
    "start_time": "2021-07-07T20:51:44.866Z"
   },
   {
    "duration": 30,
    "start_time": "2021-07-07T20:51:56.880Z"
   },
   {
    "duration": 33,
    "start_time": "2021-07-07T20:52:03.627Z"
   },
   {
    "duration": 28,
    "start_time": "2021-07-07T20:52:59.304Z"
   },
   {
    "duration": 32,
    "start_time": "2021-07-07T20:53:01.798Z"
   },
   {
    "duration": 40453,
    "start_time": "2021-07-07T20:55:27.488Z"
   },
   {
    "duration": 1477,
    "start_time": "2021-07-07T20:56:10.794Z"
   },
   {
    "duration": 920,
    "start_time": "2021-07-07T20:56:12.274Z"
   },
   {
    "duration": 26,
    "start_time": "2021-07-07T20:56:13.197Z"
   },
   {
    "duration": 16,
    "start_time": "2021-07-07T20:56:13.226Z"
   },
   {
    "duration": 36,
    "start_time": "2021-07-07T20:56:13.244Z"
   },
   {
    "duration": 37,
    "start_time": "2021-07-07T20:56:13.282Z"
   },
   {
    "duration": 31,
    "start_time": "2021-07-07T20:56:13.321Z"
   },
   {
    "duration": 31,
    "start_time": "2021-07-07T20:56:13.367Z"
   },
   {
    "duration": 17,
    "start_time": "2021-07-07T20:56:13.402Z"
   },
   {
    "duration": 46,
    "start_time": "2021-07-07T20:56:13.423Z"
   },
   {
    "duration": 319,
    "start_time": "2021-07-07T20:56:13.471Z"
   },
   {
    "duration": 83,
    "start_time": "2021-07-07T20:56:13.793Z"
   },
   {
    "duration": 18,
    "start_time": "2021-07-07T20:56:13.879Z"
   },
   {
    "duration": 9,
    "start_time": "2021-07-07T20:56:13.900Z"
   },
   {
    "duration": 13,
    "start_time": "2021-07-07T20:56:13.911Z"
   },
   {
    "duration": 49,
    "start_time": "2021-07-07T20:56:13.927Z"
   },
   {
    "duration": 9,
    "start_time": "2021-07-07T20:56:13.978Z"
   },
   {
    "duration": 12,
    "start_time": "2021-07-07T20:56:13.989Z"
   },
   {
    "duration": 64,
    "start_time": "2021-07-07T20:56:14.004Z"
   },
   {
    "duration": 34,
    "start_time": "2021-07-07T20:56:14.071Z"
   },
   {
    "duration": 25,
    "start_time": "2021-07-07T20:56:14.107Z"
   },
   {
    "duration": 40508,
    "start_time": "2021-07-07T20:56:14.135Z"
   },
   {
    "duration": 39,
    "start_time": "2021-07-07T20:56:54.645Z"
   },
   {
    "duration": 2,
    "start_time": "2021-07-07T20:56:54.687Z"
   },
   {
    "duration": 9,
    "start_time": "2021-07-07T20:56:54.692Z"
   },
   {
    "duration": 22,
    "start_time": "2021-07-07T21:00:37.478Z"
   },
   {
    "duration": 40731,
    "start_time": "2021-07-07T21:03:41.195Z"
   },
   {
    "duration": 31,
    "start_time": "2021-07-07T21:06:37.079Z"
   },
   {
    "duration": 4,
    "start_time": "2021-07-07T21:08:58.048Z"
   },
   {
    "duration": 490,
    "start_time": "2021-07-07T21:09:05.408Z"
   },
   {
    "duration": 7,
    "start_time": "2021-07-07T21:09:12.230Z"
   },
   {
    "duration": 40,
    "start_time": "2021-07-07T21:09:52.988Z"
   },
   {
    "duration": 12375,
    "start_time": "2021-07-07T21:10:07.648Z"
   },
   {
    "duration": 15,
    "start_time": "2021-07-07T21:10:21.875Z"
   },
   {
    "duration": 10,
    "start_time": "2021-07-07T21:12:20.576Z"
   },
   {
    "duration": 43,
    "start_time": "2021-07-07T21:12:30.368Z"
   },
   {
    "duration": 21,
    "start_time": "2021-07-07T21:12:40.831Z"
   },
   {
    "duration": 36,
    "start_time": "2021-07-07T21:14:27.218Z"
   },
   {
    "duration": 35,
    "start_time": "2021-07-07T21:15:51.815Z"
   },
   {
    "duration": -165,
    "start_time": "2021-07-07T21:17:11.964Z"
   },
   {
    "duration": 10679,
    "start_time": "2021-07-07T21:17:20.646Z"
   },
   {
    "duration": 8033,
    "start_time": "2021-07-07T21:17:43.622Z"
   },
   {
    "duration": 8604,
    "start_time": "2021-07-07T21:17:56.213Z"
   },
   {
    "duration": 32,
    "start_time": "2021-07-07T21:18:17.834Z"
   },
   {
    "duration": 62,
    "start_time": "2021-07-07T21:18:55.853Z"
   },
   {
    "duration": 6,
    "start_time": "2021-07-07T21:19:25.804Z"
   },
   {
    "duration": 6,
    "start_time": "2021-07-07T21:24:01.773Z"
   },
   {
    "duration": 173,
    "start_time": "2021-07-07T21:24:09.688Z"
   },
   {
    "duration": 6,
    "start_time": "2021-07-07T21:24:14.732Z"
   },
   {
    "duration": 22,
    "start_time": "2021-07-07T21:24:54.068Z"
   },
   {
    "duration": 400,
    "start_time": "2021-07-07T21:26:04.781Z"
   },
   {
    "duration": 374,
    "start_time": "2021-07-07T21:27:08.482Z"
   },
   {
    "duration": 561,
    "start_time": "2021-07-07T21:27:15.646Z"
   },
   {
    "duration": 739,
    "start_time": "2021-07-07T21:27:19.651Z"
   },
   {
    "duration": 438,
    "start_time": "2021-07-07T21:27:24.056Z"
   },
   {
    "duration": 538,
    "start_time": "2021-07-07T21:27:27.123Z"
   },
   {
    "duration": 833,
    "start_time": "2021-07-07T21:27:37.864Z"
   },
   {
    "duration": 492,
    "start_time": "2021-07-07T21:28:01.815Z"
   },
   {
    "duration": 536,
    "start_time": "2021-07-07T21:29:31.649Z"
   },
   {
    "duration": 10,
    "start_time": "2021-07-07T21:30:07.656Z"
   },
   {
    "duration": 606,
    "start_time": "2021-07-07T21:31:22.206Z"
   },
   {
    "duration": 633,
    "start_time": "2021-07-07T21:33:14.915Z"
   },
   {
    "duration": 896,
    "start_time": "2021-07-07T21:33:23.488Z"
   },
   {
    "duration": 311,
    "start_time": "2021-07-07T21:33:41.241Z"
   },
   {
    "duration": 884,
    "start_time": "2021-07-07T21:33:49.943Z"
   },
   {
    "duration": 869,
    "start_time": "2021-07-07T21:33:57.715Z"
   },
   {
    "duration": 976,
    "start_time": "2021-07-07T21:34:04.594Z"
   },
   {
    "duration": 1214,
    "start_time": "2021-07-07T21:36:51.603Z"
   },
   {
    "duration": 741,
    "start_time": "2021-07-07T21:36:56.717Z"
   },
   {
    "duration": 891,
    "start_time": "2021-07-07T21:37:04.293Z"
   },
   {
    "duration": 648,
    "start_time": "2021-07-07T21:37:32.380Z"
   },
   {
    "duration": 661,
    "start_time": "2021-07-07T21:39:07.706Z"
   },
   {
    "duration": 620,
    "start_time": "2021-07-07T21:39:52.572Z"
   },
   {
    "duration": 19,
    "start_time": "2021-07-07T21:41:24.302Z"
   },
   {
    "duration": 305,
    "start_time": "2021-07-07T21:53:43.678Z"
   },
   {
    "duration": 302,
    "start_time": "2021-07-07T21:53:51.279Z"
   },
   {
    "duration": 533,
    "start_time": "2021-07-07T21:55:19.424Z"
   },
   {
    "duration": 472,
    "start_time": "2021-07-07T21:55:32.863Z"
   },
   {
    "duration": 569,
    "start_time": "2021-07-07T21:56:43.339Z"
   },
   {
    "duration": 479,
    "start_time": "2021-07-07T21:56:52.483Z"
   },
   {
    "duration": 571,
    "start_time": "2021-07-07T21:57:00.199Z"
   },
   {
    "duration": 739,
    "start_time": "2021-07-07T21:57:16.375Z"
   },
   {
    "duration": 472,
    "start_time": "2021-07-07T21:57:24.401Z"
   },
   {
    "duration": 475,
    "start_time": "2021-07-07T21:57:58.140Z"
   },
   {
    "duration": 424,
    "start_time": "2021-07-07T21:58:11.259Z"
   },
   {
    "duration": 115,
    "start_time": "2021-07-07T21:59:40.262Z"
   },
   {
    "duration": 386,
    "start_time": "2021-07-07T22:00:16.320Z"
   },
   {
    "duration": 8,
    "start_time": "2021-07-07T22:00:45.073Z"
   },
   {
    "duration": 706,
    "start_time": "2021-07-07T22:01:35.982Z"
   },
   {
    "duration": 359,
    "start_time": "2021-07-07T22:02:41.816Z"
   },
   {
    "duration": 28,
    "start_time": "2021-07-07T22:03:36.010Z"
   },
   {
    "duration": 422,
    "start_time": "2021-07-07T22:03:50.784Z"
   },
   {
    "duration": 66,
    "start_time": "2021-07-07T22:04:08.510Z"
   },
   {
    "duration": 7,
    "start_time": "2021-07-07T22:04:19.887Z"
   },
   {
    "duration": 8,
    "start_time": "2021-07-07T22:04:40.143Z"
   },
   {
    "duration": 8,
    "start_time": "2021-07-07T22:04:45.696Z"
   },
   {
    "duration": 124,
    "start_time": "2021-07-07T22:04:55.135Z"
   },
   {
    "duration": 447,
    "start_time": "2021-07-07T22:05:07.316Z"
   },
   {
    "duration": 9,
    "start_time": "2021-07-07T22:05:24.749Z"
   },
   {
    "duration": 6,
    "start_time": "2021-07-07T22:06:53.392Z"
   },
   {
    "duration": 6,
    "start_time": "2021-07-07T22:07:05.127Z"
   },
   {
    "duration": 421,
    "start_time": "2021-07-07T22:07:11.729Z"
   },
   {
    "duration": 448,
    "start_time": "2021-07-07T22:07:15.134Z"
   },
   {
    "duration": 6,
    "start_time": "2021-07-07T22:07:22.784Z"
   },
   {
    "duration": 6,
    "start_time": "2021-07-07T22:07:29.933Z"
   },
   {
    "duration": 456,
    "start_time": "2021-07-07T22:07:38.403Z"
   },
   {
    "duration": 471,
    "start_time": "2021-07-07T22:07:54.440Z"
   },
   {
    "duration": 586,
    "start_time": "2021-07-07T22:08:02.433Z"
   },
   {
    "duration": 477,
    "start_time": "2021-07-07T22:08:09.392Z"
   },
   {
    "duration": 482,
    "start_time": "2021-07-07T22:08:16.123Z"
   },
   {
    "duration": 6,
    "start_time": "2021-07-07T22:08:27.227Z"
   },
   {
    "duration": 7,
    "start_time": "2021-07-07T22:08:37.875Z"
   },
   {
    "duration": 7,
    "start_time": "2021-07-07T22:08:47.966Z"
   },
   {
    "duration": 459,
    "start_time": "2021-07-07T22:10:27.329Z"
   },
   {
    "duration": 479,
    "start_time": "2021-07-07T22:10:32.950Z"
   },
   {
    "duration": 1104,
    "start_time": "2021-07-08T16:49:42.412Z"
   },
   {
    "duration": 648,
    "start_time": "2021-07-08T16:49:43.518Z"
   },
   {
    "duration": 14,
    "start_time": "2021-07-08T16:49:44.168Z"
   },
   {
    "duration": 13,
    "start_time": "2021-07-08T16:49:44.184Z"
   },
   {
    "duration": 15,
    "start_time": "2021-07-08T16:49:44.198Z"
   },
   {
    "duration": 34,
    "start_time": "2021-07-08T16:49:44.214Z"
   },
   {
    "duration": 15,
    "start_time": "2021-07-08T16:49:44.249Z"
   },
   {
    "duration": 16,
    "start_time": "2021-07-08T16:49:44.266Z"
   },
   {
    "duration": 10,
    "start_time": "2021-07-08T16:49:44.284Z"
   },
   {
    "duration": 4,
    "start_time": "2021-07-08T16:49:44.296Z"
   },
   {
    "duration": 141,
    "start_time": "2021-07-08T16:49:44.301Z"
   },
   {
    "duration": 13,
    "start_time": "2021-07-08T16:49:44.443Z"
   },
   {
    "duration": 8,
    "start_time": "2021-07-08T16:49:44.458Z"
   },
   {
    "duration": 6,
    "start_time": "2021-07-08T16:49:44.467Z"
   },
   {
    "duration": 6,
    "start_time": "2021-07-08T16:49:44.475Z"
   },
   {
    "duration": 8,
    "start_time": "2021-07-08T16:49:44.482Z"
   },
   {
    "duration": 6,
    "start_time": "2021-07-08T16:49:44.491Z"
   },
   {
    "duration": 8,
    "start_time": "2021-07-08T16:49:44.498Z"
   },
   {
    "duration": 17,
    "start_time": "2021-07-08T16:49:44.541Z"
   },
   {
    "duration": 23,
    "start_time": "2021-07-08T16:49:44.560Z"
   },
   {
    "duration": 17,
    "start_time": "2021-07-08T16:49:44.584Z"
   },
   {
    "duration": 4,
    "start_time": "2021-07-08T16:49:44.602Z"
   },
   {
    "duration": 362,
    "start_time": "2021-07-08T16:49:44.609Z"
   },
   {
    "duration": 355,
    "start_time": "2021-07-08T16:49:44.973Z"
   },
   {
    "duration": 357,
    "start_time": "2021-07-08T16:49:45.329Z"
   },
   {
    "duration": 340,
    "start_time": "2021-07-08T16:49:45.688Z"
   },
   {
    "duration": 286,
    "start_time": "2021-07-08T16:49:46.029Z"
   },
   {
    "duration": 5,
    "start_time": "2021-07-08T16:49:46.316Z"
   },
   {
    "duration": 6,
    "start_time": "2021-07-08T16:49:46.322Z"
   },
   {
    "duration": 345,
    "start_time": "2021-07-08T16:50:00.134Z"
   },
   {
    "duration": 408,
    "start_time": "2021-07-08T16:50:08.271Z"
   },
   {
    "duration": 320,
    "start_time": "2021-07-08T16:50:15.925Z"
   },
   {
    "duration": 386,
    "start_time": "2021-07-08T16:50:33.470Z"
   },
   {
    "duration": 380,
    "start_time": "2021-07-08T16:50:43.038Z"
   },
   {
    "duration": 392,
    "start_time": "2021-07-08T16:50:53.632Z"
   },
   {
    "duration": 4,
    "start_time": "2021-07-08T19:09:35.868Z"
   },
   {
    "duration": 331,
    "start_time": "2021-07-08T19:12:09.039Z"
   },
   {
    "duration": 6305,
    "start_time": "2021-07-08T19:12:25.870Z"
   },
   {
    "duration": 7,
    "start_time": "2021-07-08T19:13:26.716Z"
   },
   {
    "duration": 163,
    "start_time": "2021-07-08T19:13:40.133Z"
   },
   {
    "duration": 286,
    "start_time": "2021-07-08T19:18:09.375Z"
   },
   {
    "duration": 4,
    "start_time": "2021-07-08T19:18:14.002Z"
   },
   {
    "duration": 228,
    "start_time": "2021-07-08T19:22:06.073Z"
   },
   {
    "duration": 149,
    "start_time": "2021-07-08T19:22:17.710Z"
   },
   {
    "duration": 153,
    "start_time": "2021-07-08T19:22:36.507Z"
   },
   {
    "duration": 113,
    "start_time": "2021-07-08T19:27:08.762Z"
   },
   {
    "duration": 95,
    "start_time": "2021-07-08T19:27:23.097Z"
   },
   {
    "duration": 198,
    "start_time": "2021-07-08T19:27:33.066Z"
   },
   {
    "duration": 173,
    "start_time": "2021-07-08T19:27:47.389Z"
   },
   {
    "duration": 169,
    "start_time": "2021-07-08T19:28:14.254Z"
   },
   {
    "duration": 263,
    "start_time": "2021-07-08T19:28:28.618Z"
   },
   {
    "duration": 273,
    "start_time": "2021-07-08T19:30:36.948Z"
   },
   {
    "duration": 5,
    "start_time": "2021-07-08T19:30:59.388Z"
   },
   {
    "duration": 8,
    "start_time": "2021-07-08T19:31:08.559Z"
   },
   {
    "duration": 7,
    "start_time": "2021-07-08T19:31:19.581Z"
   },
   {
    "duration": 7,
    "start_time": "2021-07-08T19:31:28.982Z"
   },
   {
    "duration": 972,
    "start_time": "2021-07-08T19:44:35.962Z"
   },
   {
    "duration": 670,
    "start_time": "2021-07-08T19:44:36.936Z"
   },
   {
    "duration": 14,
    "start_time": "2021-07-08T19:44:37.608Z"
   },
   {
    "duration": 17,
    "start_time": "2021-07-08T19:44:37.624Z"
   },
   {
    "duration": 15,
    "start_time": "2021-07-08T19:44:37.642Z"
   },
   {
    "duration": 19,
    "start_time": "2021-07-08T19:44:37.659Z"
   },
   {
    "duration": 16,
    "start_time": "2021-07-08T19:44:37.680Z"
   },
   {
    "duration": 18,
    "start_time": "2021-07-08T19:44:37.697Z"
   },
   {
    "duration": 31,
    "start_time": "2021-07-08T19:44:37.718Z"
   },
   {
    "duration": 5,
    "start_time": "2021-07-08T19:44:37.751Z"
   },
   {
    "duration": 134,
    "start_time": "2021-07-08T19:44:37.758Z"
   },
   {
    "duration": 14,
    "start_time": "2021-07-08T19:44:37.894Z"
   },
   {
    "duration": 17,
    "start_time": "2021-07-08T19:44:37.909Z"
   },
   {
    "duration": 15,
    "start_time": "2021-07-08T19:44:37.927Z"
   },
   {
    "duration": 6,
    "start_time": "2021-07-08T19:44:37.943Z"
   },
   {
    "duration": 9,
    "start_time": "2021-07-08T19:44:37.951Z"
   },
   {
    "duration": 2,
    "start_time": "2021-07-08T19:44:37.961Z"
   },
   {
    "duration": 330,
    "start_time": "2021-07-08T19:44:37.965Z"
   },
   {
    "duration": -128,
    "start_time": "2021-07-08T19:44:38.425Z"
   },
   {
    "duration": -130,
    "start_time": "2021-07-08T19:44:38.427Z"
   },
   {
    "duration": -130,
    "start_time": "2021-07-08T19:44:38.428Z"
   },
   {
    "duration": -130,
    "start_time": "2021-07-08T19:44:38.429Z"
   },
   {
    "duration": -131,
    "start_time": "2021-07-08T19:44:38.431Z"
   },
   {
    "duration": -131,
    "start_time": "2021-07-08T19:44:38.432Z"
   },
   {
    "duration": -139,
    "start_time": "2021-07-08T19:44:38.441Z"
   },
   {
    "duration": -139,
    "start_time": "2021-07-08T19:44:38.442Z"
   },
   {
    "duration": -139,
    "start_time": "2021-07-08T19:44:38.443Z"
   },
   {
    "duration": -140,
    "start_time": "2021-07-08T19:44:38.444Z"
   },
   {
    "duration": 1038,
    "start_time": "2021-07-08T19:45:13.379Z"
   },
   {
    "duration": 699,
    "start_time": "2021-07-08T19:45:14.419Z"
   },
   {
    "duration": 14,
    "start_time": "2021-07-08T19:45:15.119Z"
   },
   {
    "duration": 8,
    "start_time": "2021-07-08T19:45:15.141Z"
   },
   {
    "duration": 19,
    "start_time": "2021-07-08T19:45:15.151Z"
   },
   {
    "duration": 19,
    "start_time": "2021-07-08T19:45:15.171Z"
   },
   {
    "duration": 29,
    "start_time": "2021-07-08T19:45:15.191Z"
   },
   {
    "duration": 27,
    "start_time": "2021-07-08T19:45:15.222Z"
   },
   {
    "duration": 20,
    "start_time": "2021-07-08T19:45:15.251Z"
   },
   {
    "duration": 4,
    "start_time": "2021-07-08T19:45:15.273Z"
   },
   {
    "duration": 136,
    "start_time": "2021-07-08T19:45:15.279Z"
   },
   {
    "duration": 14,
    "start_time": "2021-07-08T19:45:15.417Z"
   },
   {
    "duration": 12,
    "start_time": "2021-07-08T19:45:15.433Z"
   },
   {
    "duration": 10,
    "start_time": "2021-07-08T19:45:15.446Z"
   },
   {
    "duration": 19,
    "start_time": "2021-07-08T19:45:15.458Z"
   },
   {
    "duration": 9,
    "start_time": "2021-07-08T19:45:15.479Z"
   },
   {
    "duration": 2,
    "start_time": "2021-07-08T19:45:15.490Z"
   },
   {
    "duration": 11,
    "start_time": "2021-07-08T19:45:15.494Z"
   },
   {
    "duration": 37,
    "start_time": "2021-07-08T19:45:15.506Z"
   },
   {
    "duration": 28,
    "start_time": "2021-07-08T19:45:15.545Z"
   },
   {
    "duration": 15,
    "start_time": "2021-07-08T19:45:15.574Z"
   },
   {
    "duration": 357,
    "start_time": "2021-07-08T19:45:15.590Z"
   },
   {
    "duration": 419,
    "start_time": "2021-07-08T19:45:15.949Z"
   },
   {
    "duration": 393,
    "start_time": "2021-07-08T19:45:16.369Z"
   },
   {
    "duration": 441,
    "start_time": "2021-07-08T19:45:16.764Z"
   },
   {
    "duration": 403,
    "start_time": "2021-07-08T19:45:17.206Z"
   },
   {
    "duration": 5,
    "start_time": "2021-07-08T19:45:17.611Z"
   },
   {
    "duration": 294,
    "start_time": "2021-07-08T19:45:17.618Z"
   },
   {
    "duration": 18,
    "start_time": "2021-07-08T19:45:47.289Z"
   },
   {
    "duration": 4,
    "start_time": "2021-07-08T19:46:02.155Z"
   },
   {
    "duration": 335,
    "start_time": "2021-07-08T19:46:21.078Z"
   },
   {
    "duration": 4,
    "start_time": "2021-07-08T19:46:24.396Z"
   },
   {
    "duration": 248,
    "start_time": "2021-07-08T19:47:27.284Z"
   },
   {
    "duration": 52,
    "start_time": "2021-07-08T19:50:16.435Z"
   },
   {
    "duration": 28,
    "start_time": "2021-07-08T19:50:36.233Z"
   },
   {
    "duration": 24,
    "start_time": "2021-07-08T19:50:50.448Z"
   },
   {
    "duration": 41,
    "start_time": "2021-07-08T19:51:01.608Z"
   },
   {
    "duration": 4,
    "start_time": "2021-07-08T19:51:55.375Z"
   },
   {
    "duration": 264,
    "start_time": "2021-07-08T19:52:00.982Z"
   },
   {
    "duration": 262,
    "start_time": "2021-07-08T19:52:15.350Z"
   },
   {
    "duration": 252,
    "start_time": "2021-07-08T19:52:23.856Z"
   },
   {
    "duration": 250,
    "start_time": "2021-07-08T19:52:32.913Z"
   },
   {
    "duration": 28,
    "start_time": "2021-07-08T19:53:59.848Z"
   },
   {
    "duration": 280,
    "start_time": "2021-07-08T19:55:00.421Z"
   },
   {
    "duration": 12,
    "start_time": "2021-07-08T19:55:17.558Z"
   },
   {
    "duration": 16,
    "start_time": "2021-07-08T19:55:26.719Z"
   },
   {
    "duration": 14,
    "start_time": "2021-07-08T19:55:57.878Z"
   },
   {
    "duration": 11,
    "start_time": "2021-07-08T19:56:06.766Z"
   },
   {
    "duration": 105,
    "start_time": "2021-07-08T19:57:13.537Z"
   },
   {
    "duration": 253,
    "start_time": "2021-07-08T20:05:43.947Z"
   },
   {
    "duration": 29,
    "start_time": "2021-07-08T20:08:13.158Z"
   },
   {
    "duration": 4,
    "start_time": "2021-07-08T20:08:53.341Z"
   },
   {
    "duration": 4,
    "start_time": "2021-07-08T20:11:17.082Z"
   },
   {
    "duration": 28,
    "start_time": "2021-07-08T20:11:46.798Z"
   },
   {
    "duration": 5,
    "start_time": "2021-07-08T20:11:54.626Z"
   },
   {
    "duration": 4,
    "start_time": "2021-07-08T20:12:45.632Z"
   },
   {
    "duration": 247,
    "start_time": "2021-07-08T20:13:09.805Z"
   },
   {
    "duration": 5,
    "start_time": "2021-07-08T20:13:12.614Z"
   },
   {
    "duration": 238,
    "start_time": "2021-07-08T20:15:12.682Z"
   },
   {
    "duration": 3,
    "start_time": "2021-07-08T20:15:21.032Z"
   },
   {
    "duration": 242,
    "start_time": "2021-07-08T20:15:36.012Z"
   },
   {
    "duration": 267,
    "start_time": "2021-07-08T20:16:00.156Z"
   },
   {
    "duration": 9,
    "start_time": "2021-07-08T20:16:16.648Z"
   },
   {
    "duration": 21,
    "start_time": "2021-07-08T20:16:24.883Z"
   },
   {
    "duration": 246,
    "start_time": "2021-07-08T20:16:38.515Z"
   },
   {
    "duration": 4,
    "start_time": "2021-07-08T20:16:41.848Z"
   },
   {
    "duration": 6,
    "start_time": "2021-07-08T20:17:08.820Z"
   },
   {
    "duration": 255,
    "start_time": "2021-07-08T20:18:00.266Z"
   },
   {
    "duration": 250,
    "start_time": "2021-07-08T20:18:14.218Z"
   },
   {
    "duration": 262,
    "start_time": "2021-07-08T20:18:49.038Z"
   },
   {
    "duration": 12,
    "start_time": "2021-07-08T20:18:53.314Z"
   },
   {
    "duration": 6,
    "start_time": "2021-07-08T20:19:56.935Z"
   },
   {
    "duration": 4,
    "start_time": "2021-07-08T20:20:06.186Z"
   },
   {
    "duration": 4,
    "start_time": "2021-07-08T20:20:09.956Z"
   },
   {
    "duration": 4,
    "start_time": "2021-07-08T20:30:41.028Z"
   },
   {
    "duration": 5,
    "start_time": "2021-07-08T20:32:47.007Z"
   },
   {
    "duration": 312,
    "start_time": "2021-07-08T20:33:19.017Z"
   },
   {
    "duration": 9,
    "start_time": "2021-07-08T20:33:29.204Z"
   },
   {
    "duration": 460,
    "start_time": "2021-07-08T20:33:31.935Z"
   },
   {
    "duration": 4,
    "start_time": "2021-07-08T20:33:57.051Z"
   },
   {
    "duration": 4,
    "start_time": "2021-07-08T20:37:58.583Z"
   },
   {
    "duration": 6,
    "start_time": "2021-07-08T20:38:12.257Z"
   },
   {
    "duration": 81,
    "start_time": "2021-07-08T20:38:36.061Z"
   },
   {
    "duration": 52,
    "start_time": "2021-07-08T20:38:44.795Z"
   },
   {
    "duration": 5,
    "start_time": "2021-07-08T20:39:25.316Z"
   },
   {
    "duration": 420,
    "start_time": "2021-07-08T20:40:06.003Z"
   },
   {
    "duration": 37,
    "start_time": "2021-07-08T20:40:25.409Z"
   },
   {
    "duration": 304,
    "start_time": "2021-07-08T20:45:02.093Z"
   },
   {
    "duration": 88,
    "start_time": "2021-07-08T20:45:51.470Z"
   },
   {
    "duration": 9,
    "start_time": "2021-07-08T20:45:56.896Z"
   },
   {
    "duration": 244,
    "start_time": "2021-07-08T20:46:53.910Z"
   },
   {
    "duration": 320,
    "start_time": "2021-07-08T20:47:22.422Z"
   },
   {
    "duration": 32303,
    "start_time": "2021-07-08T20:48:40.585Z"
   },
   {
    "duration": 8416,
    "start_time": "2021-07-08T20:49:18.951Z"
   },
   {
    "duration": 5454223,
    "start_time": "2021-07-08T20:49:33.924Z"
   },
   {
    "duration": 7,
    "start_time": "2021-07-08T22:22:24.978Z"
   },
   {
    "duration": 22,
    "start_time": "2021-07-08T22:22:36.016Z"
   },
   {
    "duration": 246,
    "start_time": "2021-07-08T22:22:42.270Z"
   },
   {
    "duration": 4,
    "start_time": "2021-07-08T22:22:45.059Z"
   },
   {
    "duration": 4,
    "start_time": "2021-07-08T22:22:52.914Z"
   },
   {
    "duration": 7,
    "start_time": "2021-07-08T22:23:02.181Z"
   },
   {
    "duration": 47,
    "start_time": "2021-07-08T22:23:19.503Z"
   },
   {
    "duration": 117,
    "start_time": "2021-07-08T22:24:10.642Z"
   },
   {
    "duration": 7,
    "start_time": "2021-07-08T22:24:16.015Z"
   },
   {
    "duration": 31,
    "start_time": "2021-07-08T22:24:46.915Z"
   },
   {
    "duration": 46,
    "start_time": "2021-07-08T22:24:53.300Z"
   },
   {
    "duration": 6,
    "start_time": "2021-07-08T22:26:22.297Z"
   },
   {
    "duration": 59,
    "start_time": "2021-07-08T22:26:24.588Z"
   },
   {
    "duration": 3,
    "start_time": "2021-07-08T22:26:26.836Z"
   },
   {
    "duration": 5470,
    "start_time": "2021-07-08T22:26:29.141Z"
   },
   {
    "duration": 11455,
    "start_time": "2021-07-08T22:26:46.181Z"
   },
   {
    "duration": 38972,
    "start_time": "2021-07-08T22:27:41.659Z"
   },
   {
    "duration": 3,
    "start_time": "2021-07-08T22:28:25.266Z"
   },
   {
    "duration": 6858,
    "start_time": "2021-07-08T22:28:35.085Z"
   },
   {
    "duration": 12139,
    "start_time": "2021-07-08T22:28:45.439Z"
   },
   {
    "duration": 2056957,
    "start_time": "2021-07-08T22:29:04.601Z"
   },
   {
    "duration": 2320,
    "start_time": "2021-07-08T23:04:01.758Z"
   },
   {
    "duration": 1817870,
    "start_time": "2021-07-08T23:05:17.249Z"
   },
   {
    "duration": 543,
    "start_time": "2021-07-09T05:02:00.675Z"
   },
   {
    "duration": 543,
    "start_time": "2021-07-09T05:02:11.842Z"
   },
   {
    "duration": 1033,
    "start_time": "2021-07-09T05:03:07.072Z"
   },
   {
    "duration": 558,
    "start_time": "2021-07-09T05:03:28.487Z"
   },
   {
    "duration": 586,
    "start_time": "2021-07-09T05:03:55.240Z"
   },
   {
    "duration": 543,
    "start_time": "2021-07-09T05:04:01.670Z"
   },
   {
    "duration": 639,
    "start_time": "2021-07-09T05:04:29.536Z"
   },
   {
    "duration": 7,
    "start_time": "2021-07-09T05:05:53.262Z"
   },
   {
    "duration": 210,
    "start_time": "2021-07-09T05:06:07.531Z"
   },
   {
    "duration": 6558,
    "start_time": "2021-07-09T05:06:32.540Z"
   },
   {
    "duration": 30457,
    "start_time": "2021-07-09T05:07:11.123Z"
   },
   {
    "duration": 2554585,
    "start_time": "2021-07-09T05:07:50.770Z"
   },
   {
    "duration": 277,
    "start_time": "2021-07-09T05:51:27.385Z"
   },
   {
    "duration": 272,
    "start_time": "2021-07-09T05:52:00.740Z"
   },
   {
    "duration": 264,
    "start_time": "2021-07-09T05:52:03.163Z"
   },
   {
    "duration": 259,
    "start_time": "2021-07-09T05:52:53.036Z"
   },
   {
    "duration": 268,
    "start_time": "2021-07-09T05:53:18.500Z"
   },
   {
    "duration": 4,
    "start_time": "2021-07-09T05:53:28.288Z"
   },
   {
    "duration": 4,
    "start_time": "2021-07-09T05:54:38.021Z"
   },
   {
    "duration": 228,
    "start_time": "2021-07-09T08:32:52.562Z"
   },
   {
    "duration": 1132,
    "start_time": "2021-07-09T08:33:01.796Z"
   },
   {
    "duration": 709,
    "start_time": "2021-07-09T08:33:03.373Z"
   },
   {
    "duration": 7,
    "start_time": "2021-07-09T08:33:10.410Z"
   },
   {
    "duration": 1080,
    "start_time": "2021-07-09T08:34:44.020Z"
   },
   {
    "duration": 676,
    "start_time": "2021-07-09T08:34:45.102Z"
   },
   {
    "duration": 15,
    "start_time": "2021-07-09T08:34:45.780Z"
   },
   {
    "duration": 10,
    "start_time": "2021-07-09T08:34:45.797Z"
   },
   {
    "duration": 16,
    "start_time": "2021-07-09T08:34:45.809Z"
   },
   {
    "duration": 23,
    "start_time": "2021-07-09T08:34:45.827Z"
   },
   {
    "duration": 52,
    "start_time": "2021-07-09T08:34:45.851Z"
   },
   {
    "duration": 19,
    "start_time": "2021-07-09T08:34:45.906Z"
   },
   {
    "duration": 8,
    "start_time": "2021-07-09T08:34:45.927Z"
   },
   {
    "duration": 4,
    "start_time": "2021-07-09T08:34:45.937Z"
   },
   {
    "duration": 156,
    "start_time": "2021-07-09T08:34:45.943Z"
   },
   {
    "duration": 14,
    "start_time": "2021-07-09T08:34:46.100Z"
   },
   {
    "duration": 8,
    "start_time": "2021-07-09T08:34:46.116Z"
   },
   {
    "duration": 6,
    "start_time": "2021-07-09T08:34:46.126Z"
   },
   {
    "duration": 8,
    "start_time": "2021-07-09T08:34:46.133Z"
   },
   {
    "duration": 7,
    "start_time": "2021-07-09T08:34:46.142Z"
   },
   {
    "duration": 34,
    "start_time": "2021-07-09T08:34:46.151Z"
   },
   {
    "duration": 7,
    "start_time": "2021-07-09T08:34:46.187Z"
   },
   {
    "duration": 7,
    "start_time": "2021-07-09T08:34:46.195Z"
   },
   {
    "duration": 30,
    "start_time": "2021-07-09T08:34:46.204Z"
   },
   {
    "duration": 403,
    "start_time": "2021-07-09T08:34:46.236Z"
   },
   {
    "duration": 436,
    "start_time": "2021-07-09T08:34:46.641Z"
   },
   {
    "duration": 430,
    "start_time": "2021-07-09T08:34:47.085Z"
   },
   {
    "duration": 522,
    "start_time": "2021-07-09T08:34:47.517Z"
   },
   {
    "duration": 378,
    "start_time": "2021-07-09T08:34:48.041Z"
   },
   {
    "duration": 4,
    "start_time": "2021-07-09T08:34:48.421Z"
   },
   {
    "duration": 328,
    "start_time": "2021-07-09T08:34:48.427Z"
   },
   {
    "duration": 32,
    "start_time": "2021-07-09T08:34:48.756Z"
   },
   {
    "duration": 4,
    "start_time": "2021-07-09T08:34:48.789Z"
   },
   {
    "duration": 6,
    "start_time": "2021-07-09T08:34:48.794Z"
   },
   {
    "duration": 6,
    "start_time": "2021-07-09T08:34:48.802Z"
   },
   {
    "duration": 178,
    "start_time": "2021-07-09T08:34:48.809Z"
   },
   {
    "duration": 3,
    "start_time": "2021-07-09T08:34:48.989Z"
   },
   {
    "duration": 1836190,
    "start_time": "2021-07-09T08:34:48.994Z"
   },
   {
    "duration": 571,
    "start_time": "2021-07-09T09:05:25.187Z"
   },
   {
    "duration": 7,
    "start_time": "2021-07-09T09:05:25.759Z"
   },
   {
    "duration": 721,
    "start_time": "2021-07-09T09:05:25.768Z"
   },
   {
    "duration": 2554912,
    "start_time": "2021-07-09T09:05:26.492Z"
   },
   {
    "duration": 295,
    "start_time": "2021-07-09T09:48:01.406Z"
   },
   {
    "duration": 4,
    "start_time": "2021-07-09T09:48:01.703Z"
   },
   {
    "duration": 497,
    "start_time": "2021-07-09T09:48:01.709Z"
   },
   {
    "duration": 900,
    "start_time": "2021-07-09T10:31:32.520Z"
   },
   {
    "duration": 549,
    "start_time": "2021-07-09T10:31:41.764Z"
   },
   {
    "duration": 17,
    "start_time": "2021-07-09T10:32:24.641Z"
   },
   {
    "duration": 553,
    "start_time": "2021-07-09T10:32:53.238Z"
   },
   {
    "duration": 25,
    "start_time": "2021-07-09T10:33:14.961Z"
   },
   {
    "duration": 114,
    "start_time": "2021-07-09T10:33:18.079Z"
   },
   {
    "duration": 284,
    "start_time": "2021-07-09T10:34:15.658Z"
   },
   {
    "duration": 4,
    "start_time": "2021-07-09T10:36:07.999Z"
   },
   {
    "duration": 410,
    "start_time": "2021-07-09T10:36:19.278Z"
   },
   {
    "duration": 443,
    "start_time": "2021-07-09T10:37:13.065Z"
   },
   {
    "duration": 3,
    "start_time": "2021-07-09T10:37:39.864Z"
   },
   {
    "duration": 4,
    "start_time": "2021-07-09T10:37:53.676Z"
   },
   {
    "duration": 1495,
    "start_time": "2021-07-10T03:47:11.021Z"
   },
   {
    "duration": 910,
    "start_time": "2021-07-10T03:47:12.519Z"
   },
   {
    "duration": 27,
    "start_time": "2021-07-10T03:48:38.518Z"
   },
   {
    "duration": 18,
    "start_time": "2021-07-10T03:48:38.548Z"
   },
   {
    "duration": 25,
    "start_time": "2021-07-10T03:48:39.038Z"
   },
   {
    "duration": 36,
    "start_time": "2021-07-10T03:48:39.769Z"
   },
   {
    "duration": 31,
    "start_time": "2021-07-10T03:48:41.188Z"
   },
   {
    "duration": 38,
    "start_time": "2021-07-10T03:48:42.048Z"
   },
   {
    "duration": 15,
    "start_time": "2021-07-10T03:48:44.418Z"
   },
   {
    "duration": 8,
    "start_time": "2021-07-10T03:48:45.469Z"
   },
   {
    "duration": 221,
    "start_time": "2021-07-10T03:49:02.371Z"
   },
   {
    "duration": 21,
    "start_time": "2021-07-10T03:49:04.488Z"
   },
   {
    "duration": 13,
    "start_time": "2021-07-10T03:49:05.132Z"
   },
   {
    "duration": 9,
    "start_time": "2021-07-10T03:49:05.700Z"
   },
   {
    "duration": 8,
    "start_time": "2021-07-10T03:49:06.341Z"
   },
   {
    "duration": 12,
    "start_time": "2021-07-10T03:49:07.690Z"
   },
   {
    "duration": 2,
    "start_time": "2021-07-10T03:49:20.848Z"
   },
   {
    "duration": 3,
    "start_time": "2021-07-10T03:49:21.654Z"
   },
   {
    "duration": 4,
    "start_time": "2021-07-10T03:49:22.225Z"
   },
   {
    "duration": 36,
    "start_time": "2021-07-10T03:49:36.290Z"
   },
   {
    "duration": 686,
    "start_time": "2021-07-10T03:51:19.777Z"
   },
   {
    "duration": 770,
    "start_time": "2021-07-10T03:51:20.469Z"
   },
   {
    "duration": 797,
    "start_time": "2021-07-10T03:51:21.242Z"
   },
   {
    "duration": 846,
    "start_time": "2021-07-10T03:51:22.042Z"
   },
   {
    "duration": 760,
    "start_time": "2021-07-10T03:51:23.040Z"
   },
   {
    "duration": 8,
    "start_time": "2021-07-10T03:51:24.433Z"
   },
   {
    "duration": 545,
    "start_time": "2021-07-10T03:51:24.783Z"
   },
   {
    "duration": 61,
    "start_time": "2021-07-10T03:51:25.330Z"
   },
   {
    "duration": 6,
    "start_time": "2021-07-10T03:54:40.149Z"
   },
   {
    "duration": 6,
    "start_time": "2021-07-10T03:54:48.029Z"
   },
   {
    "duration": 12,
    "start_time": "2021-07-10T03:55:09.377Z"
   },
   {
    "duration": 100,
    "start_time": "2021-07-10T03:55:34.183Z"
   },
   {
    "duration": 5,
    "start_time": "2021-07-10T03:55:37.395Z"
   },
   {
    "duration": 904890,
    "start_time": "2021-07-10T03:56:09.702Z"
   },
   {
    "duration": 1822,
    "start_time": "2021-07-10T04:11:12.775Z"
   },
   {
    "duration": 1819,
    "start_time": "2021-07-10T04:11:12.780Z"
   },
   {
    "duration": 1814,
    "start_time": "2021-07-10T04:11:12.787Z"
   },
   {
    "duration": 1810,
    "start_time": "2021-07-10T04:11:12.793Z"
   },
   {
    "duration": 1859,
    "start_time": "2021-07-10T04:11:12.807Z"
   },
   {
    "duration": 1845,
    "start_time": "2021-07-10T04:11:12.823Z"
   },
   {
    "duration": 1829,
    "start_time": "2021-07-10T04:11:12.841Z"
   },
   {
    "duration": 1671,
    "start_time": "2021-07-10T14:31:20.489Z"
   },
   {
    "duration": 1017,
    "start_time": "2021-07-10T14:31:23.383Z"
   },
   {
    "duration": 26,
    "start_time": "2021-07-10T14:31:25.395Z"
   },
   {
    "duration": -64,
    "start_time": "2021-07-10T15:07:55.422Z"
   },
   {
    "duration": -67,
    "start_time": "2021-07-10T15:07:55.427Z"
   },
   {
    "duration": 6,
    "start_time": "2021-07-10T15:07:57.695Z"
   },
   {
    "duration": 894,
    "start_time": "2021-07-10T15:07:59.726Z"
   },
   {
    "duration": 14415,
    "start_time": "2021-07-10T15:08:21.620Z"
   },
   {
    "duration": 6,
    "start_time": "2021-07-10T17:07:04.033Z"
   },
   {
    "duration": 829,
    "start_time": "2021-07-10T17:07:05.057Z"
   },
   {
    "duration": 27,
    "start_time": "2021-07-10T17:07:07.376Z"
   },
   {
    "duration": 17,
    "start_time": "2021-07-10T17:07:09.176Z"
   },
   {
    "duration": 25,
    "start_time": "2021-07-10T17:07:10.679Z"
   },
   {
    "duration": 20,
    "start_time": "2021-07-10T17:07:12.201Z"
   },
   {
    "duration": 20,
    "start_time": "2021-07-10T17:07:13.913Z"
   },
   {
    "duration": 33,
    "start_time": "2021-07-10T17:07:16.797Z"
   },
   {
    "duration": 31,
    "start_time": "2021-07-10T17:07:18.417Z"
   },
   {
    "duration": 30,
    "start_time": "2021-07-10T17:07:20.198Z"
   },
   {
    "duration": 57,
    "start_time": "2021-07-10T17:07:22.472Z"
   },
   {
    "duration": 6,
    "start_time": "2021-07-10T17:07:25.133Z"
   },
   {
    "duration": 210,
    "start_time": "2021-07-10T17:07:27.171Z"
   },
   {
    "duration": 24,
    "start_time": "2021-07-10T17:07:29.107Z"
   },
   {
    "duration": 17,
    "start_time": "2021-07-10T17:07:31.614Z"
   },
   {
    "duration": 11,
    "start_time": "2021-07-10T17:07:33.343Z"
   },
   {
    "duration": 10,
    "start_time": "2021-07-10T17:07:36.443Z"
   },
   {
    "duration": 14,
    "start_time": "2021-07-10T17:07:44.810Z"
   },
   {
    "duration": 37,
    "start_time": "2021-07-10T17:07:51.984Z"
   },
   {
    "duration": 644,
    "start_time": "2021-07-10T17:07:56.102Z"
   },
   {
    "duration": 788,
    "start_time": "2021-07-10T17:07:58.941Z"
   },
   {
    "duration": 724,
    "start_time": "2021-07-10T17:08:02.417Z"
   },
   {
    "duration": 789,
    "start_time": "2021-07-10T17:08:06.749Z"
   },
   {
    "duration": 617,
    "start_time": "2021-07-10T17:09:11.779Z"
   },
   {
    "duration": 7,
    "start_time": "2021-07-10T17:09:19.609Z"
   },
   {
    "duration": 517,
    "start_time": "2021-07-10T17:09:23.659Z"
   },
   {
    "duration": 4982,
    "start_time": "2021-07-10T17:10:46.734Z"
   },
   {
    "duration": 213,
    "start_time": "2021-07-10T17:11:06.255Z"
   },
   {
    "duration": 213,
    "start_time": "2021-07-10T17:11:22.462Z"
   },
   {
    "duration": 296,
    "start_time": "2021-07-10T17:11:54.265Z"
   },
   {
    "duration": 797,
    "start_time": "2021-07-10T17:12:01.001Z"
   },
   {
    "duration": 219,
    "start_time": "2021-07-10T17:12:05.796Z"
   },
   {
    "duration": 377,
    "start_time": "2021-07-10T17:12:56.189Z"
   },
   {
    "duration": 5,
    "start_time": "2021-07-10T17:14:49.437Z"
   },
   {
    "duration": 34,
    "start_time": "2021-07-10T17:14:58.402Z"
   },
   {
    "duration": 12,
    "start_time": "2021-07-10T17:15:01.086Z"
   },
   {
    "duration": 9,
    "start_time": "2021-07-10T17:15:04.111Z"
   },
   {
    "duration": 10,
    "start_time": "2021-07-10T17:15:18.249Z"
   },
   {
    "duration": 163,
    "start_time": "2021-07-10T17:15:25.751Z"
   },
   {
    "duration": 3,
    "start_time": "2021-07-10T17:15:27.884Z"
   },
   {
    "duration": 616,
    "start_time": "2021-07-10T17:58:41.161Z"
   },
   {
    "duration": 8801,
    "start_time": "2021-07-10T18:00:54.692Z"
   },
   {
    "duration": 629,
    "start_time": "2021-07-10T18:01:08.563Z"
   },
   {
    "duration": 1279,
    "start_time": "2021-07-10T18:01:49.246Z"
   },
   {
    "duration": 636,
    "start_time": "2021-07-10T18:02:43.313Z"
   },
   {
    "duration": 12,
    "start_time": "2021-07-10T18:03:00.001Z"
   },
   {
    "duration": 112,
    "start_time": "2021-07-10T18:03:02.797Z"
   },
   {
    "duration": 3,
    "start_time": "2021-07-10T18:03:05.173Z"
   },
   {
    "duration": 824,
    "start_time": "2021-07-10T18:03:10.594Z"
   },
   {
    "duration": 10,
    "start_time": "2021-07-10T18:03:25.797Z"
   },
   {
    "duration": 212,
    "start_time": "2021-07-10T18:03:28.705Z"
   },
   {
    "duration": 364,
    "start_time": "2021-07-10T18:03:36.906Z"
   },
   {
    "duration": 6,
    "start_time": "2021-07-10T18:03:44.640Z"
   },
   {
    "duration": 5,
    "start_time": "2021-07-10T18:03:49.309Z"
   },
   {
    "duration": 378,
    "start_time": "2021-07-10T18:04:01.764Z"
   },
   {
    "duration": 5,
    "start_time": "2021-07-10T18:04:44.297Z"
   },
   {
    "duration": 826,
    "start_time": "2021-07-10T18:04:46.865Z"
   },
   {
    "duration": 25,
    "start_time": "2021-07-10T18:04:49.480Z"
   },
   {
    "duration": 26,
    "start_time": "2021-07-10T18:04:52.737Z"
   },
   {
    "duration": 33,
    "start_time": "2021-07-10T18:04:56.178Z"
   },
   {
    "duration": 31,
    "start_time": "2021-07-10T18:04:58.768Z"
   },
   {
    "duration": 30,
    "start_time": "2021-07-10T18:05:01.200Z"
   },
   {
    "duration": 11,
    "start_time": "2021-07-10T18:05:03.960Z"
   },
   {
    "duration": 7,
    "start_time": "2021-07-10T18:05:07.633Z"
   },
   {
    "duration": 7,
    "start_time": "2021-07-10T18:05:17.718Z"
   },
   {
    "duration": 9372,
    "start_time": "2021-07-10T18:07:27.686Z"
   },
   {
    "duration": 827,
    "start_time": "2021-07-10T18:12:59.442Z"
   },
   {
    "duration": 25,
    "start_time": "2021-07-10T18:13:01.554Z"
   },
   {
    "duration": 18,
    "start_time": "2021-07-10T18:13:09.442Z"
   },
   {
    "duration": 32,
    "start_time": "2021-07-10T18:13:13.703Z"
   },
   {
    "duration": 34,
    "start_time": "2021-07-10T18:13:16.362Z"
   },
   {
    "duration": 30,
    "start_time": "2021-07-10T18:13:18.948Z"
   },
   {
    "duration": 10,
    "start_time": "2021-07-10T18:13:22.506Z"
   },
   {
    "duration": 7,
    "start_time": "2021-07-10T18:13:24.971Z"
   },
   {
    "duration": 6,
    "start_time": "2021-07-10T18:13:26.291Z"
   },
   {
    "duration": 208,
    "start_time": "2021-07-10T18:13:31.960Z"
   },
   {
    "duration": 23,
    "start_time": "2021-07-10T18:13:34.220Z"
   },
   {
    "duration": 13,
    "start_time": "2021-07-10T18:13:39.275Z"
   },
   {
    "duration": 9,
    "start_time": "2021-07-10T18:13:41.159Z"
   },
   {
    "duration": 9,
    "start_time": "2021-07-10T18:13:44.492Z"
   },
   {
    "duration": 12,
    "start_time": "2021-07-10T18:13:47.526Z"
   },
   {
    "duration": 42,
    "start_time": "2021-07-10T18:13:53.722Z"
   },
   {
    "duration": 641,
    "start_time": "2021-07-10T18:13:57.807Z"
   },
   {
    "duration": 754,
    "start_time": "2021-07-10T18:14:02.062Z"
   },
   {
    "duration": 828,
    "start_time": "2021-07-10T18:14:05.810Z"
   },
   {
    "duration": 733,
    "start_time": "2021-07-10T18:14:09.714Z"
   },
   {
    "duration": 731,
    "start_time": "2021-07-10T18:14:11.904Z"
   },
   {
    "duration": 618,
    "start_time": "2021-07-10T18:14:15.459Z"
   },
   {
    "duration": 7,
    "start_time": "2021-07-10T18:14:21.946Z"
   },
   {
    "duration": 523,
    "start_time": "2021-07-10T18:14:28.630Z"
   },
   {
    "duration": 24,
    "start_time": "2021-07-10T18:14:35.770Z"
   },
   {
    "duration": 4,
    "start_time": "2021-07-10T18:14:40.582Z"
   },
   {
    "duration": 6,
    "start_time": "2021-07-10T18:14:43.772Z"
   },
   {
    "duration": 627,
    "start_time": "2021-07-10T18:15:06.596Z"
   },
   {
    "duration": 9,
    "start_time": "2021-07-10T18:17:07.863Z"
   },
   {
    "duration": 228,
    "start_time": "2021-07-10T18:17:17.783Z"
   },
   {
    "duration": 4,
    "start_time": "2021-07-10T18:17:20.780Z"
   },
   {
    "duration": 731,
    "start_time": "2021-07-10T18:17:25.466Z"
   },
   {
    "duration": 10,
    "start_time": "2021-07-10T18:17:28.809Z"
   },
   {
    "duration": 188,
    "start_time": "2021-07-10T18:17:31.124Z"
   },
   {
    "duration": 368,
    "start_time": "2021-07-10T18:17:34.190Z"
   },
   {
    "duration": 5,
    "start_time": "2021-07-10T18:17:39.614Z"
   },
   {
    "duration": 5,
    "start_time": "2021-07-10T18:17:41.885Z"
   },
   {
    "duration": 1008,
    "start_time": "2021-07-10T18:25:35.264Z"
   },
   {
    "duration": 13,
    "start_time": "2021-07-10T18:25:45.345Z"
   },
   {
    "duration": 9,
    "start_time": "2021-07-10T18:27:38.941Z"
   },
   {
    "duration": 5,
    "start_time": "2021-07-10T18:28:34.624Z"
   },
   {
    "duration": 75,
    "start_time": "2021-07-10T18:36:54.853Z"
   },
   {
    "duration": 125,
    "start_time": "2021-07-10T18:39:32.068Z"
   },
   {
    "duration": 1926,
    "start_time": "2021-07-10T18:42:17.564Z"
   },
   {
    "duration": 37270,
    "start_time": "2021-07-10T18:45:43.256Z"
   },
   {
    "duration": 3204,
    "start_time": "2021-07-10T18:47:05.949Z"
   },
   {
    "duration": -130,
    "start_time": "2021-07-10T18:48:32.849Z"
   },
   {
    "duration": 71138,
    "start_time": "2021-07-10T18:48:44.726Z"
   },
   {
    "duration": 74552,
    "start_time": "2021-07-10T18:50:51.016Z"
   },
   {
    "duration": 1652,
    "start_time": "2021-07-10T18:53:21.507Z"
   },
   {
    "duration": 1568,
    "start_time": "2021-07-10T18:53:33.062Z"
   },
   {
    "duration": 4242,
    "start_time": "2021-07-10T18:53:43.199Z"
   },
   {
    "duration": 2954,
    "start_time": "2021-07-10T18:53:53.244Z"
   },
   {
    "duration": 3202,
    "start_time": "2021-07-10T18:54:01.928Z"
   },
   {
    "duration": 3523,
    "start_time": "2021-07-10T18:54:10.156Z"
   },
   {
    "duration": 1656,
    "start_time": "2021-07-10T18:54:16.945Z"
   },
   {
    "duration": 1827,
    "start_time": "2021-07-10T18:54:30.809Z"
   },
   {
    "duration": 1985,
    "start_time": "2021-07-10T18:54:35.605Z"
   },
   {
    "duration": 2208,
    "start_time": "2021-07-10T18:54:40.897Z"
   },
   {
    "duration": 8984,
    "start_time": "2021-07-10T18:54:47.252Z"
   },
   {
    "duration": 5466,
    "start_time": "2021-07-10T18:55:16.971Z"
   },
   {
    "duration": 1661,
    "start_time": "2021-07-10T18:55:30.666Z"
   },
   {
    "duration": 1809,
    "start_time": "2021-07-10T18:55:36.769Z"
   },
   {
    "duration": 1671,
    "start_time": "2021-07-10T18:55:42.283Z"
   },
   {
    "duration": 68928,
    "start_time": "2021-07-10T18:56:04.705Z"
   },
   {
    "duration": 77257,
    "start_time": "2021-07-10T18:57:59.990Z"
   },
   {
    "duration": 17,
    "start_time": "2021-07-10T18:59:35.507Z"
   },
   {
    "duration": 47,
    "start_time": "2021-07-10T18:59:39.067Z"
   },
   {
    "duration": 4,
    "start_time": "2021-07-10T18:59:40.995Z"
   },
   {
    "duration": 816,
    "start_time": "2021-07-10T18:59:47.187Z"
   },
   {
    "duration": 16,
    "start_time": "2021-07-10T19:00:31.568Z"
   },
   {
    "duration": 2003,
    "start_time": "2021-07-10T19:00:33.752Z"
   },
   {
    "duration": 12,
    "start_time": "2021-07-10T19:00:44.581Z"
   },
   {
    "duration": 224,
    "start_time": "2021-07-10T19:00:47.506Z"
   },
   {
    "duration": 670,
    "start_time": "2021-07-10T19:00:58.210Z"
   },
   {
    "duration": 10,
    "start_time": "2021-07-10T19:01:19.383Z"
   },
   {
    "duration": 210,
    "start_time": "2021-07-10T19:01:21.701Z"
   },
   {
    "duration": 367,
    "start_time": "2021-07-10T19:01:25.576Z"
   },
   {
    "duration": 6,
    "start_time": "2021-07-10T19:01:30.876Z"
   },
   {
    "duration": 14,
    "start_time": "2021-07-10T19:01:40.060Z"
   },
   {
    "duration": 13,
    "start_time": "2021-07-10T19:01:55.617Z"
   },
   {
    "duration": 1830,
    "start_time": "2021-07-10T19:02:31.780Z"
   },
   {
    "duration": 1654,
    "start_time": "2021-07-10T19:02:43.408Z"
   },
   {
    "duration": 995,
    "start_time": "2021-07-10T19:02:47.173Z"
   },
   {
    "duration": 26,
    "start_time": "2021-07-10T19:02:57.259Z"
   },
   {
    "duration": 16,
    "start_time": "2021-07-10T19:03:01.049Z"
   },
   {
    "duration": 25,
    "start_time": "2021-07-10T19:03:04.504Z"
   },
   {
    "duration": 39,
    "start_time": "2021-07-10T19:03:08.678Z"
   },
   {
    "duration": 31,
    "start_time": "2021-07-10T19:03:11.387Z"
   },
   {
    "duration": 31,
    "start_time": "2021-07-10T19:03:13.566Z"
   },
   {
    "duration": 87,
    "start_time": "2021-07-10T19:03:16.236Z"
   },
   {
    "duration": 8,
    "start_time": "2021-07-10T19:03:18.651Z"
   },
   {
    "duration": 212,
    "start_time": "2021-07-10T19:03:20.941Z"
   },
   {
    "duration": 21,
    "start_time": "2021-07-10T19:03:23.257Z"
   },
   {
    "duration": 16,
    "start_time": "2021-07-10T19:03:27.265Z"
   },
   {
    "duration": 11,
    "start_time": "2021-07-10T19:03:29.374Z"
   },
   {
    "duration": 10,
    "start_time": "2021-07-10T19:03:40.195Z"
   },
   {
    "duration": 12,
    "start_time": "2021-07-10T19:03:41.742Z"
   },
   {
    "duration": 34,
    "start_time": "2021-07-10T19:04:34.249Z"
   },
   {
    "duration": 679,
    "start_time": "2021-07-10T19:04:42.830Z"
   },
   {
    "duration": 782,
    "start_time": "2021-07-10T19:04:45.548Z"
   },
   {
    "duration": 747,
    "start_time": "2021-07-10T19:04:48.041Z"
   },
   {
    "duration": 810,
    "start_time": "2021-07-10T19:04:50.833Z"
   },
   {
    "duration": 630,
    "start_time": "2021-07-10T19:04:56.074Z"
   },
   {
    "duration": 7,
    "start_time": "2021-07-10T19:05:00.139Z"
   },
   {
    "duration": 579,
    "start_time": "2021-07-10T19:05:03.725Z"
   },
   {
    "duration": 5,
    "start_time": "2021-07-10T19:05:12.942Z"
   },
   {
    "duration": 25,
    "start_time": "2021-07-10T19:05:18.570Z"
   },
   {
    "duration": 125,
    "start_time": "2021-07-10T19:05:20.988Z"
   },
   {
    "duration": 4,
    "start_time": "2021-07-10T19:05:23.251Z"
   },
   {
    "duration": 4481,
    "start_time": "2021-07-10T19:05:25.645Z"
   },
   {
    "duration": 933,
    "start_time": "2021-07-10T19:05:32.871Z"
   },
   {
    "duration": 3833,
    "start_time": "2021-07-10T19:05:47.947Z"
   },
   {
    "duration": 1034,
    "start_time": "2021-07-10T19:05:56.607Z"
   },
   {
    "duration": 11,
    "start_time": "2021-07-10T19:06:00.845Z"
   },
   {
    "duration": 49,
    "start_time": "2021-07-10T19:06:06.966Z"
   },
   {
    "duration": 370,
    "start_time": "2021-07-10T19:06:10.042Z"
   },
   {
    "duration": 5,
    "start_time": "2021-07-10T19:06:16.038Z"
   },
   {
    "duration": 5,
    "start_time": "2021-07-10T19:06:17.432Z"
   },
   {
    "duration": 10,
    "start_time": "2021-07-10T19:06:23.019Z"
   },
   {
    "duration": 11,
    "start_time": "2021-07-10T19:06:25.757Z"
   },
   {
    "duration": 6,
    "start_time": "2021-07-10T19:06:28.023Z"
   },
   {
    "duration": 24,
    "start_time": "2021-07-10T19:06:41.525Z"
   },
   {
    "duration": 5,
    "start_time": "2021-07-10T19:06:45.211Z"
   },
   {
    "duration": 11,
    "start_time": "2021-07-10T19:06:47.194Z"
   },
   {
    "duration": 176,
    "start_time": "2021-07-10T19:06:50.134Z"
   },
   {
    "duration": 4,
    "start_time": "2021-07-10T19:06:52.408Z"
   },
   {
    "duration": 747,
    "start_time": "2021-07-10T19:06:56.379Z"
   },
   {
    "duration": 151,
    "start_time": "2021-07-10T19:07:09.867Z"
   },
   {
    "duration": 381,
    "start_time": "2021-07-10T19:07:12.474Z"
   },
   {
    "duration": 11,
    "start_time": "2021-07-10T19:07:33.623Z"
   },
   {
    "duration": 104,
    "start_time": "2021-07-10T19:07:36.114Z"
   },
   {
    "duration": 368,
    "start_time": "2021-07-10T19:07:38.975Z"
   },
   {
    "duration": 6,
    "start_time": "2021-07-10T19:07:42.172Z"
   },
   {
    "duration": 6,
    "start_time": "2021-07-10T19:07:44.065Z"
   },
   {
    "duration": 11,
    "start_time": "2021-07-10T19:07:47.211Z"
   },
   {
    "duration": 12,
    "start_time": "2021-07-10T19:07:49.006Z"
   },
   {
    "duration": 5,
    "start_time": "2021-07-10T19:07:57.656Z"
   },
   {
    "duration": 5,
    "start_time": "2021-07-10T19:08:00.331Z"
   },
   {
    "duration": 10,
    "start_time": "2021-07-10T19:08:02.347Z"
   },
   {
    "duration": 12,
    "start_time": "2021-07-10T19:08:03.842Z"
   },
   {
    "duration": 5,
    "start_time": "2021-07-10T19:08:05.535Z"
   },
   {
    "duration": 11,
    "start_time": "2021-07-10T19:08:07.701Z"
   },
   {
    "duration": 12,
    "start_time": "2021-07-10T19:08:09.293Z"
   },
   {
    "duration": 5,
    "start_time": "2021-07-10T19:08:11.313Z"
   },
   {
    "duration": 112,
    "start_time": "2021-07-10T19:09:20.540Z"
   },
   {
    "duration": 10056646,
    "start_time": "2021-07-10T19:09:26.929Z"
   },
   {
    "duration": 88,
    "start_time": "2021-07-10T21:59:56.461Z"
   },
   {
    "duration": 87,
    "start_time": "2021-07-10T22:00:07.152Z"
   },
   {
    "duration": 731,
    "start_time": "2021-07-10T22:00:13.179Z"
   },
   {
    "duration": 7,
    "start_time": "2021-07-10T22:00:29.404Z"
   },
   {
    "duration": 11,
    "start_time": "2021-07-10T22:00:46.081Z"
   },
   {
    "duration": 33,
    "start_time": "2021-07-10T22:00:58.117Z"
   },
   {
    "duration": 32,
    "start_time": "2021-07-10T22:01:19.742Z"
   },
   {
    "duration": 13,
    "start_time": "2021-07-10T22:01:43.989Z"
   },
   {
    "duration": 215,
    "start_time": "2021-07-10T22:01:46.394Z"
   },
   {
    "duration": 12,
    "start_time": "2021-07-10T22:02:57.468Z"
   },
   {
    "duration": 8,
    "start_time": "2021-07-10T22:02:58.995Z"
   },
   {
    "duration": 13,
    "start_time": "2021-07-10T22:03:01.483Z"
   },
   {
    "duration": 209,
    "start_time": "2021-07-10T22:03:05.110Z"
   },
   {
    "duration": 5,
    "start_time": "2021-07-10T22:03:07.644Z"
   },
   {
    "duration": 715,
    "start_time": "2021-07-10T22:03:14.044Z"
   },
   {
    "duration": 16,
    "start_time": "2021-07-10T22:03:35.381Z"
   },
   {
    "duration": 296,
    "start_time": "2021-07-10T22:03:38.921Z"
   },
   {
    "duration": 527,
    "start_time": "2021-07-10T22:03:43.917Z"
   },
   {
    "duration": 5,
    "start_time": "2021-07-10T22:04:22.357Z"
   },
   {
    "duration": 5,
    "start_time": "2021-07-10T22:04:24.787Z"
   },
   {
    "duration": 10,
    "start_time": "2021-07-10T22:04:51.249Z"
   },
   {
    "duration": 10,
    "start_time": "2021-07-10T22:04:53.212Z"
   },
   {
    "duration": 6,
    "start_time": "2021-07-10T22:04:55.468Z"
   },
   {
    "duration": 4774,
    "start_time": "2021-07-10T22:05:32.198Z"
   },
   {
    "duration": 369,
    "start_time": "2021-07-10T22:05:41.356Z"
   },
   {
    "duration": 977,
    "start_time": "2021-07-10T22:05:57.215Z"
   },
   {
    "duration": 373,
    "start_time": "2021-07-10T22:06:01.468Z"
   },
   {
    "duration": 1517,
    "start_time": "2021-07-10T22:12:05.197Z"
   },
   {
    "duration": 879,
    "start_time": "2021-07-10T22:12:06.890Z"
   },
   {
    "duration": 24,
    "start_time": "2021-07-10T22:12:08.887Z"
   },
   {
    "duration": 20,
    "start_time": "2021-07-10T22:12:09.673Z"
   },
   {
    "duration": 28,
    "start_time": "2021-07-10T22:12:12.627Z"
   },
   {
    "duration": 37,
    "start_time": "2021-07-10T22:12:13.152Z"
   },
   {
    "duration": 32,
    "start_time": "2021-07-10T22:12:14.774Z"
   },
   {
    "duration": 32,
    "start_time": "2021-07-10T22:12:15.495Z"
   },
   {
    "duration": 26,
    "start_time": "2021-07-10T22:12:18.077Z"
   },
   {
    "duration": 6,
    "start_time": "2021-07-10T22:12:21.423Z"
   },
   {
    "duration": 218,
    "start_time": "2021-07-10T22:12:23.290Z"
   },
   {
    "duration": 21,
    "start_time": "2021-07-10T22:12:25.062Z"
   },
   {
    "duration": 12,
    "start_time": "2021-07-10T22:12:28.919Z"
   },
   {
    "duration": 10,
    "start_time": "2021-07-10T22:12:30.626Z"
   },
   {
    "duration": 9,
    "start_time": "2021-07-10T22:12:33.892Z"
   },
   {
    "duration": 13,
    "start_time": "2021-07-10T22:12:35.664Z"
   },
   {
    "duration": 636,
    "start_time": "2021-07-10T22:12:54.897Z"
   },
   {
    "duration": 725,
    "start_time": "2021-07-10T22:12:57.826Z"
   },
   {
    "duration": 725,
    "start_time": "2021-07-10T22:13:01.169Z"
   },
   {
    "duration": 801,
    "start_time": "2021-07-10T22:13:04.890Z"
   },
   {
    "duration": 630,
    "start_time": "2021-07-10T22:13:08.706Z"
   },
   {
    "duration": 7,
    "start_time": "2021-07-10T22:13:12.576Z"
   },
   {
    "duration": 507,
    "start_time": "2021-07-10T22:13:16.656Z"
   },
   {
    "duration": 35,
    "start_time": "2021-07-10T22:13:20.173Z"
   },
   {
    "duration": 5,
    "start_time": "2021-07-10T22:13:29.972Z"
   },
   {
    "duration": 6,
    "start_time": "2021-07-10T22:13:33.497Z"
   },
   {
    "duration": 15,
    "start_time": "2021-07-10T22:13:41.087Z"
   },
   {
    "duration": 167,
    "start_time": "2021-07-10T22:13:44.644Z"
   },
   {
    "duration": 4,
    "start_time": "2021-07-10T22:13:46.712Z"
   },
   {
    "duration": 713,
    "start_time": "2021-07-10T22:13:49.895Z"
   },
   {
    "duration": 16,
    "start_time": "2021-07-10T22:13:52.771Z"
   },
   {
    "duration": 213,
    "start_time": "2021-07-10T22:13:55.004Z"
   },
   {
    "duration": 375,
    "start_time": "2021-07-10T22:13:58.394Z"
   },
   {
    "duration": 6,
    "start_time": "2021-07-10T22:14:05.992Z"
   },
   {
    "duration": 11,
    "start_time": "2021-07-10T22:14:11.919Z"
   },
   {
    "duration": 11,
    "start_time": "2021-07-10T22:14:13.488Z"
   },
   {
    "duration": 5,
    "start_time": "2021-07-10T22:14:15.332Z"
   },
   {
    "duration": 4949,
    "start_time": "2021-07-10T22:14:56.839Z"
   },
   {
    "duration": 1527,
    "start_time": "2021-07-10T22:15:13.125Z"
   },
   {
    "duration": 915,
    "start_time": "2021-07-10T22:15:14.655Z"
   },
   {
    "duration": 36,
    "start_time": "2021-07-10T22:15:15.573Z"
   },
   {
    "duration": 17,
    "start_time": "2021-07-10T22:15:15.612Z"
   },
   {
    "duration": 29,
    "start_time": "2021-07-10T22:15:15.632Z"
   },
   {
    "duration": 66,
    "start_time": "2021-07-10T22:15:15.664Z"
   },
   {
    "duration": 33,
    "start_time": "2021-07-10T22:15:15.733Z"
   },
   {
    "duration": 52,
    "start_time": "2021-07-10T22:15:15.769Z"
   },
   {
    "duration": 31,
    "start_time": "2021-07-10T22:15:15.824Z"
   },
   {
    "duration": 12,
    "start_time": "2021-07-10T22:15:15.857Z"
   },
   {
    "duration": 225,
    "start_time": "2021-07-10T22:15:15.871Z"
   },
   {
    "duration": 26,
    "start_time": "2021-07-10T22:15:16.098Z"
   },
   {
    "duration": 127,
    "start_time": "2021-07-10T22:15:16.127Z"
   },
   {
    "duration": 25,
    "start_time": "2021-07-10T22:15:16.257Z"
   },
   {
    "duration": 94,
    "start_time": "2021-07-10T22:15:16.284Z"
   },
   {
    "duration": 22,
    "start_time": "2021-07-10T22:15:16.380Z"
   },
   {
    "duration": 8,
    "start_time": "2021-07-10T22:15:16.405Z"
   },
   {
    "duration": 756,
    "start_time": "2021-07-10T22:15:16.415Z"
   },
   {
    "duration": 801,
    "start_time": "2021-07-10T22:15:17.174Z"
   },
   {
    "duration": 760,
    "start_time": "2021-07-10T22:15:17.978Z"
   },
   {
    "duration": 838,
    "start_time": "2021-07-10T22:15:18.741Z"
   },
   {
    "duration": 653,
    "start_time": "2021-07-10T22:15:19.582Z"
   },
   {
    "duration": 8,
    "start_time": "2021-07-10T22:15:20.240Z"
   },
   {
    "duration": 553,
    "start_time": "2021-07-10T22:15:20.250Z"
   },
   {
    "duration": 33,
    "start_time": "2021-07-10T22:15:20.809Z"
   },
   {
    "duration": 5,
    "start_time": "2021-07-10T22:15:20.845Z"
   },
   {
    "duration": 18,
    "start_time": "2021-07-10T22:15:20.852Z"
   },
   {
    "duration": 38,
    "start_time": "2021-07-10T22:15:20.873Z"
   },
   {
    "duration": 198,
    "start_time": "2021-07-10T22:15:20.913Z"
   },
   {
    "duration": 5,
    "start_time": "2021-07-10T22:15:21.113Z"
   },
   {
    "duration": 14074,
    "start_time": "2021-07-10T22:15:21.121Z"
   },
   {
    "duration": -225,
    "start_time": "2021-07-10T22:15:35.423Z"
   },
   {
    "duration": -226,
    "start_time": "2021-07-10T22:15:35.425Z"
   },
   {
    "duration": -226,
    "start_time": "2021-07-10T22:15:35.427Z"
   },
   {
    "duration": -226,
    "start_time": "2021-07-10T22:15:35.429Z"
   },
   {
    "duration": -226,
    "start_time": "2021-07-10T22:15:35.431Z"
   },
   {
    "duration": -227,
    "start_time": "2021-07-10T22:15:35.433Z"
   },
   {
    "duration": -228,
    "start_time": "2021-07-10T22:15:35.436Z"
   },
   {
    "duration": -229,
    "start_time": "2021-07-10T22:15:35.438Z"
   },
   {
    "duration": -230,
    "start_time": "2021-07-10T22:15:35.440Z"
   },
   {
    "duration": -231,
    "start_time": "2021-07-10T22:15:35.442Z"
   },
   {
    "duration": 3412,
    "start_time": "2021-07-10T22:15:39.139Z"
   },
   {
    "duration": 1544,
    "start_time": "2021-07-10T22:17:51.078Z"
   },
   {
    "duration": 919,
    "start_time": "2021-07-10T22:17:52.625Z"
   },
   {
    "duration": 24,
    "start_time": "2021-07-10T22:17:53.547Z"
   },
   {
    "duration": 36,
    "start_time": "2021-07-10T22:17:53.574Z"
   },
   {
    "duration": 26,
    "start_time": "2021-07-10T22:17:53.613Z"
   },
   {
    "duration": 34,
    "start_time": "2021-07-10T22:17:53.641Z"
   },
   {
    "duration": 58,
    "start_time": "2021-07-10T22:17:53.677Z"
   },
   {
    "duration": 31,
    "start_time": "2021-07-10T22:17:53.738Z"
   },
   {
    "duration": 41,
    "start_time": "2021-07-10T22:17:53.771Z"
   },
   {
    "duration": 7,
    "start_time": "2021-07-10T22:17:53.815Z"
   },
   {
    "duration": 236,
    "start_time": "2021-07-10T22:17:53.825Z"
   },
   {
    "duration": 20,
    "start_time": "2021-07-10T22:17:54.063Z"
   },
   {
    "duration": 29,
    "start_time": "2021-07-10T22:17:54.086Z"
   },
   {
    "duration": 12,
    "start_time": "2021-07-10T22:17:54.118Z"
   },
   {
    "duration": 10,
    "start_time": "2021-07-10T22:17:54.133Z"
   },
   {
    "duration": 16,
    "start_time": "2021-07-10T22:17:54.145Z"
   },
   {
    "duration": 4,
    "start_time": "2021-07-10T22:17:54.163Z"
   },
   {
    "duration": 686,
    "start_time": "2021-07-10T22:17:54.169Z"
   },
   {
    "duration": 738,
    "start_time": "2021-07-10T22:17:54.857Z"
   },
   {
    "duration": 734,
    "start_time": "2021-07-10T22:17:55.598Z"
   },
   {
    "duration": 820,
    "start_time": "2021-07-10T22:17:56.335Z"
   },
   {
    "duration": 659,
    "start_time": "2021-07-10T22:17:57.158Z"
   },
   {
    "duration": 6,
    "start_time": "2021-07-10T22:17:57.822Z"
   },
   {
    "duration": 553,
    "start_time": "2021-07-10T22:17:57.831Z"
   },
   {
    "duration": 42,
    "start_time": "2021-07-10T22:17:58.386Z"
   },
   {
    "duration": 5,
    "start_time": "2021-07-10T22:17:58.430Z"
   },
   {
    "duration": 12,
    "start_time": "2021-07-10T22:17:58.437Z"
   },
   {
    "duration": 17,
    "start_time": "2021-07-10T22:17:58.452Z"
   },
   {
    "duration": 239,
    "start_time": "2021-07-10T22:17:58.472Z"
   },
   {
    "duration": 4,
    "start_time": "2021-07-10T22:17:58.715Z"
   },
   {
    "duration": 2544616,
    "start_time": "2021-07-10T22:17:58.722Z"
   },
   {
    "duration": 785,
    "start_time": "2021-07-10T23:00:23.341Z"
   },
   {
    "duration": 13,
    "start_time": "2021-07-10T23:00:24.128Z"
   },
   {
    "duration": 80,
    "start_time": "2021-07-10T23:00:24.143Z"
   },
   {
    "duration": 3387797,
    "start_time": "2021-07-10T23:00:24.311Z"
   },
   {
    "duration": 368,
    "start_time": "2021-07-10T23:56:52.111Z"
   },
   {
    "duration": 5,
    "start_time": "2021-07-10T23:56:52.481Z"
   },
   {
    "duration": 23,
    "start_time": "2021-07-10T23:56:52.488Z"
   },
   {
    "duration": 39,
    "start_time": "2021-07-10T23:56:52.514Z"
   },
   {
    "duration": 15,
    "start_time": "2021-07-10T23:56:52.556Z"
   },
   {
    "duration": 18,
    "start_time": "2021-07-10T23:56:52.574Z"
   },
   {
    "duration": 727,
    "start_time": "2021-07-11T05:01:56.671Z"
   },
   {
    "duration": 368,
    "start_time": "2021-07-11T05:02:33.541Z"
   },
   {
    "duration": 5,
    "start_time": "2021-07-11T05:02:38.563Z"
   },
   {
    "duration": 5,
    "start_time": "2021-07-11T05:03:24.560Z"
   },
   {
    "duration": 9,
    "start_time": "2021-07-11T05:03:39.877Z"
   },
   {
    "duration": 10,
    "start_time": "2021-07-11T05:03:41.889Z"
   },
   {
    "duration": 5,
    "start_time": "2021-07-11T05:03:43.850Z"
   }
  ],
  "kernelspec": {
   "display_name": "Python 3 (ipykernel)",
   "language": "python",
   "name": "python3"
  },
  "language_info": {
   "codemirror_mode": {
    "name": "ipython",
    "version": 3
   },
   "file_extension": ".py",
   "mimetype": "text/x-python",
   "name": "python",
   "nbconvert_exporter": "python",
   "pygments_lexer": "ipython3",
   "version": "3.9.12"
  },
  "toc": {
   "base_numbering": 1,
   "nav_menu": {},
   "number_sections": true,
   "sideBar": true,
   "skip_h1_title": true,
   "title_cell": "Содержание",
   "title_sidebar": "Contents",
   "toc_cell": true,
   "toc_position": {
    "height": "calc(100% - 180px)",
    "left": "10px",
    "top": "150px",
    "width": "278.391px"
   },
   "toc_section_display": true,
   "toc_window_display": false
  }
 },
 "nbformat": 4,
 "nbformat_minor": 2
}
