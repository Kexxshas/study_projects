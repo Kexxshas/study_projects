{
 "cells": [
  {
   "cell_type": "markdown",
   "metadata": {},
   "source": [
    "# Исследование надёжности заёмщиков\n",
    "\n",
    "Заказчик — кредитный отдел банка. Нужно разобраться, влияет ли семейное положение и количество детей клиента на факт погашения кредита в срок. Входные данные от банка — статистика о платёжеспособности клиентов.\n",
    "\n",
    "Результаты исследования будут учтены при построении модели **кредитного скоринга** — специальной системы, которая оценивает способность потенциального заёмщика вернуть кредит банку."
   ]
  },
  {
   "cell_type": "markdown",
   "metadata": {},
   "source": [
    "## Цель и задачи проекта\n",
    "\n",
    "Основная цель проекта - выяснить является ли количество детей, семейное положение клиента, его уровень доходов и цели получения кредитования на факт погашения кредита в срок.\n",
    "\n",
    "Основными задачами во время работы проекта являются Задачами проекта являются:\n",
    "1. Ознакомиться с данными и выявить потенциальные проблемы при работы с ними;\n",
    "2. Определение и заполнение пропущенных значений;\n",
    "3. Замена типа данных в столбцах, где они неверно определяются;\n",
    "4. Выявление и обработка дубликатов;\n",
    "5. Выделение групп данных и их категоризация;\n",
    "6. Анализ влияния данных на возврат кредита."
   ]
  },
  {
   "cell_type": "markdown",
   "metadata": {},
   "source": [
    "Для анализа от предоставлена таблица с данными в формате csv, где в столбцы выделена основная информация по клиентам, которая может быть использована для построения модели кредитного скоринга.\n",
    "\n",
    "Всего в таблице 12 столбцов:<br>\n",
    "`children` — количество детей в семье<br>\n",
    "`days_employed` — общий трудовой стаж в днях<br>\n",
    "`dob_years` — возраст клиента в годах<br>\n",
    "`education` — уровень образования клиента<br>\n",
    "`education_id` — идентификатор уровня образования<br>\n",
    "`family_status` — семейное положение<br>\n",
    "`family_status_id` — идентификатор семейного положения<br>\n",
    "`gender` — пол клиента<br>\n",
    "`income_type` — тип занятости<br>\n",
    "`debt` — имел ли задолженность по возврату кредитов<br>\n",
    "`total_income` — ежемесячный доход<br>\n",
    "`purpose` — цель получения кредита"
   ]
  },
  {
   "cell_type": "markdown",
   "metadata": {},
   "source": [
    "## Выгрузка данных <a id=\"start\"></a>"
   ]
  },
  {
   "cell_type": "code",
   "execution_count": 1,
   "metadata": {},
   "outputs": [],
   "source": [
    "import pandas as pd\n",
    "from matplotlib import pyplot as plt\n",
    "from pymystem3 import Mystem"
   ]
  },
  {
   "cell_type": "code",
   "execution_count": 2,
   "metadata": {},
   "outputs": [
    {
     "name": "stdout",
     "output_type": "stream",
     "text": [
      "<class 'pandas.core.frame.DataFrame'>\n",
      "RangeIndex: 21525 entries, 0 to 21524\n",
      "Data columns (total 12 columns):\n",
      " #   Column            Non-Null Count  Dtype  \n",
      "---  ------            --------------  -----  \n",
      " 0   children          21525 non-null  int64  \n",
      " 1   days_employed     19351 non-null  float64\n",
      " 2   dob_years         21525 non-null  int64  \n",
      " 3   education         21525 non-null  object \n",
      " 4   education_id      21525 non-null  int64  \n",
      " 5   family_status     21525 non-null  object \n",
      " 6   family_status_id  21525 non-null  int64  \n",
      " 7   gender            21525 non-null  object \n",
      " 8   income_type       21525 non-null  object \n",
      " 9   debt              21525 non-null  int64  \n",
      " 10  total_income      19351 non-null  float64\n",
      " 11  purpose           21525 non-null  object \n",
      "dtypes: float64(2), int64(5), object(5)\n",
      "memory usage: 2.0+ MB\n"
     ]
    },
    {
     "data": {
      "text/html": [
       "<div>\n",
       "<style scoped>\n",
       "    .dataframe tbody tr th:only-of-type {\n",
       "        vertical-align: middle;\n",
       "    }\n",
       "\n",
       "    .dataframe tbody tr th {\n",
       "        vertical-align: top;\n",
       "    }\n",
       "\n",
       "    .dataframe thead th {\n",
       "        text-align: right;\n",
       "    }\n",
       "</style>\n",
       "<table border=\"1\" class=\"dataframe\">\n",
       "  <thead>\n",
       "    <tr style=\"text-align: right;\">\n",
       "      <th></th>\n",
       "      <th>children</th>\n",
       "      <th>days_employed</th>\n",
       "      <th>dob_years</th>\n",
       "      <th>education</th>\n",
       "      <th>education_id</th>\n",
       "      <th>family_status</th>\n",
       "      <th>family_status_id</th>\n",
       "      <th>gender</th>\n",
       "      <th>income_type</th>\n",
       "      <th>debt</th>\n",
       "      <th>total_income</th>\n",
       "      <th>purpose</th>\n",
       "    </tr>\n",
       "  </thead>\n",
       "  <tbody>\n",
       "    <tr>\n",
       "      <th>0</th>\n",
       "      <td>1</td>\n",
       "      <td>-8437.673028</td>\n",
       "      <td>42</td>\n",
       "      <td>высшее</td>\n",
       "      <td>0</td>\n",
       "      <td>женат / замужем</td>\n",
       "      <td>0</td>\n",
       "      <td>F</td>\n",
       "      <td>сотрудник</td>\n",
       "      <td>0</td>\n",
       "      <td>253875.639453</td>\n",
       "      <td>покупка жилья</td>\n",
       "    </tr>\n",
       "    <tr>\n",
       "      <th>1</th>\n",
       "      <td>1</td>\n",
       "      <td>-4024.803754</td>\n",
       "      <td>36</td>\n",
       "      <td>среднее</td>\n",
       "      <td>1</td>\n",
       "      <td>женат / замужем</td>\n",
       "      <td>0</td>\n",
       "      <td>F</td>\n",
       "      <td>сотрудник</td>\n",
       "      <td>0</td>\n",
       "      <td>112080.014102</td>\n",
       "      <td>приобретение автомобиля</td>\n",
       "    </tr>\n",
       "    <tr>\n",
       "      <th>2</th>\n",
       "      <td>0</td>\n",
       "      <td>-5623.422610</td>\n",
       "      <td>33</td>\n",
       "      <td>Среднее</td>\n",
       "      <td>1</td>\n",
       "      <td>женат / замужем</td>\n",
       "      <td>0</td>\n",
       "      <td>M</td>\n",
       "      <td>сотрудник</td>\n",
       "      <td>0</td>\n",
       "      <td>145885.952297</td>\n",
       "      <td>покупка жилья</td>\n",
       "    </tr>\n",
       "    <tr>\n",
       "      <th>3</th>\n",
       "      <td>3</td>\n",
       "      <td>-4124.747207</td>\n",
       "      <td>32</td>\n",
       "      <td>среднее</td>\n",
       "      <td>1</td>\n",
       "      <td>женат / замужем</td>\n",
       "      <td>0</td>\n",
       "      <td>M</td>\n",
       "      <td>сотрудник</td>\n",
       "      <td>0</td>\n",
       "      <td>267628.550329</td>\n",
       "      <td>дополнительное образование</td>\n",
       "    </tr>\n",
       "    <tr>\n",
       "      <th>4</th>\n",
       "      <td>0</td>\n",
       "      <td>340266.072047</td>\n",
       "      <td>53</td>\n",
       "      <td>среднее</td>\n",
       "      <td>1</td>\n",
       "      <td>гражданский брак</td>\n",
       "      <td>1</td>\n",
       "      <td>F</td>\n",
       "      <td>пенсионер</td>\n",
       "      <td>0</td>\n",
       "      <td>158616.077870</td>\n",
       "      <td>сыграть свадьбу</td>\n",
       "    </tr>\n",
       "  </tbody>\n",
       "</table>\n",
       "</div>"
      ],
      "text/plain": [
       "   children  days_employed  dob_years education  education_id  \\\n",
       "0         1   -8437.673028         42    высшее             0   \n",
       "1         1   -4024.803754         36   среднее             1   \n",
       "2         0   -5623.422610         33   Среднее             1   \n",
       "3         3   -4124.747207         32   среднее             1   \n",
       "4         0  340266.072047         53   среднее             1   \n",
       "\n",
       "      family_status  family_status_id gender income_type  debt   total_income  \\\n",
       "0   женат / замужем                 0      F   сотрудник     0  253875.639453   \n",
       "1   женат / замужем                 0      F   сотрудник     0  112080.014102   \n",
       "2   женат / замужем                 0      M   сотрудник     0  145885.952297   \n",
       "3   женат / замужем                 0      M   сотрудник     0  267628.550329   \n",
       "4  гражданский брак                 1      F   пенсионер     0  158616.077870   \n",
       "\n",
       "                      purpose  \n",
       "0               покупка жилья  \n",
       "1     приобретение автомобиля  \n",
       "2               покупка жилья  \n",
       "3  дополнительное образование  \n",
       "4             сыграть свадьбу  "
      ]
     },
     "execution_count": 2,
     "metadata": {},
     "output_type": "execute_result"
    }
   ],
   "source": [
    "data = pd.read_csv('credit_score_data.csv')\n",
    "data.info() \n",
    "data.head(5)"
   ]
  },
  {
   "cell_type": "markdown",
   "metadata": {},
   "source": [
    "**Вывод**\n"
   ]
  },
  {
   "cell_type": "markdown",
   "metadata": {},
   "source": [
    "Названия столбцов в таблице корректны: нет лишних пробелов, заглавных букв, все названия на английском языке.\n",
    "В предоставленной базе данных обнаружены следующие недочеты: \n",
    "- пропуски меются в столбцах `days_employed` и `total_income`;\n",
    "- В столбце `days_employed` имеются отрицательные значения, что не соответствует логике столбца;\n",
    "- количество дней стажа может быть только целочисленным значением, значит необходимо изменить тип столбца `days_employed` на int64;\n",
    "- в столбце `education` элементы прописаны разным регистром, необходимо привести их к единому виду;\n",
    "- в столбце `gender` имеется странное значение `XNA`;\n",
    "- в столбце `purpose` много близких по смыслу значений, необходимо выделить основные назначения и переименовать элементы столбца. "
   ]
  },
  {
   "cell_type": "markdown",
   "metadata": {},
   "source": [
    "## Предобработка данных <a id=\"preprocessing\"></a>"
   ]
  },
  {
   "cell_type": "code",
   "execution_count": 3,
   "metadata": {},
   "outputs": [
    {
     "data": {
      "text/plain": [
       "children               0\n",
       "days_employed       2174\n",
       "dob_years              0\n",
       "education              0\n",
       "education_id           0\n",
       "family_status          0\n",
       "family_status_id       0\n",
       "gender                 0\n",
       "income_type            0\n",
       "debt                   0\n",
       "total_income        2174\n",
       "purpose                0\n",
       "dtype: int64"
      ]
     },
     "execution_count": 3,
     "metadata": {},
     "output_type": "execute_result"
    }
   ],
   "source": [
    "data.isnull().sum()"
   ]
  },
  {
   "cell_type": "code",
   "execution_count": 4,
   "metadata": {},
   "outputs": [
    {
     "data": {
      "image/png": "[encoded data removed]",
      "text/plain": [
       "<Figure size 432x288 with 1 Axes>"
      ]
     },
     "metadata": {
      "needs_background": "light"
     },
     "output_type": "display_data"
    }
   ],
   "source": [
    "# Возьмём все отрицательные значения стажа по модулю. \n",
    "data['days_employed'] = abs(data['days_employed'])\n",
    "data['days_employed'].hist()\n",
    "plt.show()"
   ]
  },
  {
   "cell_type": "markdown",
   "metadata": {},
   "source": [
    "Пропуски в столбце стажа устранены. \n",
    "Необходимо выяснить у кредитного отдела причины появления ошибок в данном столбце.\n",
    "Отрицательные значения могут быть вызваны человеческим фактором или неверной формулой подсчета, зашитой в анкете клиента.\n",
    "Тоже самое относится к стажу в сотни лет, возможно были проставлены лишние нули в числах."
   ]
  },
  {
   "cell_type": "code",
   "execution_count": 5,
   "metadata": {},
   "outputs": [
    {
     "data": {
      "text/plain": [
       "True"
      ]
     },
     "execution_count": 5,
     "metadata": {},
     "output_type": "execute_result"
    }
   ],
   "source": [
    "(data['days_employed'].isnull()).equals(data['total_income'].isnull())"
   ]
  },
  {
   "cell_type": "markdown",
   "metadata": {},
   "source": [
    "### Обработка пропусков <a id=\"null\"></a>"
   ]
  },
  {
   "cell_type": "code",
   "execution_count": 6,
   "metadata": {},
   "outputs": [],
   "source": [
    "# Заменяем пустые значения стажа медианным значением для каждого типа занятости\n",
    "data['days_employed'] = data.groupby('income_type')['days_employed'].apply(lambda x: x.fillna(x.median())) "
   ]
  },
  {
   "cell_type": "code",
   "execution_count": 7,
   "metadata": {},
   "outputs": [],
   "source": [
    "# Заменяем пустые значения дохода медианным значением для каждого типа занятости\n",
    "data['total_income'] = data.groupby('income_type')['total_income'].apply(lambda x: x.fillna(x.median())) "
   ]
  },
  {
   "cell_type": "code",
   "execution_count": 8,
   "metadata": {},
   "outputs": [
    {
     "data": {
      "text/plain": [
       "children            0\n",
       "days_employed       0\n",
       "dob_years           0\n",
       "education           0\n",
       "education_id        0\n",
       "family_status       0\n",
       "family_status_id    0\n",
       "gender              0\n",
       "income_type         0\n",
       "debt                0\n",
       "total_income        0\n",
       "purpose             0\n",
       "dtype: int64"
      ]
     },
     "execution_count": 8,
     "metadata": {},
     "output_type": "execute_result"
    }
   ],
   "source": [
    "data.isnull().sum()"
   ]
  },
  {
   "cell_type": "markdown",
   "metadata": {},
   "source": [
    "**Вывод**"
   ]
  },
  {
   "cell_type": "markdown",
   "metadata": {},
   "source": [
    "Причины наличия пропусков в этих двух столбцах не случайны: люди могут не работать и соответственно не получать доход. Это в первую очередь относится к клиентам определенного типа занятости: студенты, пенсионеры и т.п.\n",
    "\n",
    "Пустые значения в столбцах заполнили медианными значения по соответствующим типам занятости."
   ]
  },
  {
   "cell_type": "markdown",
   "metadata": {},
   "source": [
    "### Замена типа данных <a id=\"type\"></a>"
   ]
  },
  {
   "cell_type": "code",
   "execution_count": 9,
   "metadata": {},
   "outputs": [
    {
     "data": {
      "text/plain": [
       "children             int64\n",
       "days_employed        int32\n",
       "dob_years            int64\n",
       "education           object\n",
       "education_id         int64\n",
       "family_status       object\n",
       "family_status_id     int64\n",
       "gender              object\n",
       "income_type         object\n",
       "debt                 int64\n",
       "total_income         int32\n",
       "purpose             object\n",
       "dtype: object"
      ]
     },
     "execution_count": 9,
     "metadata": {},
     "output_type": "execute_result"
    }
   ],
   "source": [
    "# Заменим тип столбцов, в которых были пропуски на целочисленный.\n",
    "data['days_employed'] = data['days_employed'].astype('int')\n",
    "data['total_income'] = data['total_income'].astype('int')\n",
    "data.dtypes"
   ]
  },
  {
   "cell_type": "code",
   "execution_count": 10,
   "metadata": {},
   "outputs": [
    {
     "data": {
      "text/plain": [
       "'Медианный доход: 142594 рублей'"
      ]
     },
     "execution_count": 10,
     "metadata": {},
     "output_type": "execute_result"
    }
   ],
   "source": [
    "total_income_median = data['total_income'].median()\n",
    "'Медианный доход: {:.0f} рублей'.format(total_income_median)"
   ]
  },
  {
   "cell_type": "markdown",
   "metadata": {},
   "source": [
    "**Вывод**"
   ]
  },
  {
   "cell_type": "markdown",
   "metadata": {},
   "source": [
    "Заменили типы данных в столбцах со стажем и доходом на целочисленные. Определили медианный доход клиентов - 142594 рубля."
   ]
  },
  {
   "cell_type": "markdown",
   "metadata": {},
   "source": [
    "### Обработка дубликатов <a id=\"duplicates\"></a>"
   ]
  },
  {
   "cell_type": "code",
   "execution_count": 11,
   "metadata": {},
   "outputs": [
    {
     "data": {
      "text/plain": [
       "среднее                13750\n",
       "высшее                  4718\n",
       "СРЕДНЕЕ                  772\n",
       "Среднее                  711\n",
       "неоконченное высшее      668\n",
       "ВЫСШЕЕ                   274\n",
       "Высшее                   268\n",
       "начальное                250\n",
       "Неоконченное высшее       47\n",
       "НЕОКОНЧЕННОЕ ВЫСШЕЕ       29\n",
       "НАЧАЛЬНОЕ                 17\n",
       "Начальное                 15\n",
       "ученая степень             4\n",
       "Ученая степень             1\n",
       "УЧЕНАЯ СТЕПЕНЬ             1\n",
       "Name: education, dtype: int64"
      ]
     },
     "execution_count": 11,
     "metadata": {},
     "output_type": "execute_result"
    }
   ],
   "source": [
    "data['education'].value_counts()"
   ]
  },
  {
   "cell_type": "markdown",
   "metadata": {},
   "source": [
    "В результате проверки видим, что в столбце `education` имеются дубликаты, причина их появления - разные регистры значений.\n",
    "Уберём дубликаты путём привидения всех значений стоблца к единому регистру - нижнему."
   ]
  },
  {
   "cell_type": "code",
   "execution_count": 12,
   "metadata": {},
   "outputs": [
    {
     "data": {
      "text/plain": [
       "54"
      ]
     },
     "execution_count": 12,
     "metadata": {},
     "output_type": "execute_result"
    }
   ],
   "source": [
    "data.duplicated().sum()"
   ]
  },
  {
   "cell_type": "code",
   "execution_count": 13,
   "metadata": {},
   "outputs": [
    {
     "data": {
      "text/plain": [
       "среднее                15233\n",
       "высшее                  5260\n",
       "неоконченное высшее      744\n",
       "начальное                282\n",
       "ученая степень             6\n",
       "Name: education, dtype: int64"
      ]
     },
     "execution_count": 13,
     "metadata": {},
     "output_type": "execute_result"
    }
   ],
   "source": [
    "data['education'] = data['education'].str.lower() #значения привели к единому регистру\n",
    "data['education'].value_counts()"
   ]
  },
  {
   "cell_type": "code",
   "execution_count": 14,
   "metadata": {},
   "outputs": [
    {
     "data": {
      "text/plain": [
       "71"
      ]
     },
     "execution_count": 14,
     "metadata": {},
     "output_type": "execute_result"
    }
   ],
   "source": [
    "data.duplicated().sum()"
   ]
  },
  {
   "cell_type": "markdown",
   "metadata": {},
   "source": [
    "После приведения значений столбца `education` к общему регистру число дубликтов увеличилось."
   ]
  },
  {
   "cell_type": "code",
   "execution_count": 15,
   "metadata": {},
   "outputs": [
    {
     "data": {
      "text/plain": [
       "('Число дубликатов в таблице:', 0)"
      ]
     },
     "execution_count": 15,
     "metadata": {},
     "output_type": "execute_result"
    }
   ],
   "source": [
    "data = data.drop_duplicates().reset_index(drop = True)\n",
    "'Число дубликатов в таблице:', data.duplicated().sum()"
   ]
  },
  {
   "cell_type": "markdown",
   "metadata": {},
   "source": [
    "**Вывод**"
   ]
  },
  {
   "cell_type": "markdown",
   "metadata": {},
   "source": [
    "До того, как приступили к обработке дубликатов их число составляло 54. После приведения значений столбца `education`к единому регистру, число дубликатов увеличилось до 71. Все выявленные дубликаты были удалены."
   ]
  },
  {
   "cell_type": "markdown",
   "metadata": {},
   "source": [
    "### Лемматизация <a id=\"lemmas\"></a>"
   ]
  },
  {
   "cell_type": "code",
   "execution_count": 16,
   "metadata": {},
   "outputs": [
    {
     "data": {
      "text/plain": [
       "свадьба                                   791\n",
       "на проведение свадьбы                     768\n",
       "сыграть свадьбу                           765\n",
       "операции с недвижимостью                  675\n",
       "покупка коммерческой недвижимости         661\n",
       "операции с жильем                         652\n",
       "покупка жилья для сдачи                   651\n",
       "операции с коммерческой недвижимостью     650\n",
       "покупка жилья                             646\n",
       "жилье                                     646\n",
       "покупка жилья для семьи                   638\n",
       "строительство собственной недвижимости    635\n",
       "недвижимость                              633\n",
       "операции со своей недвижимостью           627\n",
       "строительство жилой недвижимости          624\n",
       "покупка недвижимости                      621\n",
       "покупка своего жилья                      620\n",
       "строительство недвижимости                619\n",
       "ремонт жилью                              607\n",
       "покупка жилой недвижимости                606\n",
       "на покупку своего автомобиля              505\n",
       "заняться высшим образованием              496\n",
       "автомобиль                                494\n",
       "сделка с подержанным автомобилем          486\n",
       "свой автомобиль                           478\n",
       "на покупку подержанного автомобиля        478\n",
       "автомобили                                478\n",
       "на покупку автомобиля                     471\n",
       "приобретение автомобиля                   461\n",
       "дополнительное образование                460\n",
       "сделка с автомобилем                      455\n",
       "высшее образование                        452\n",
       "образование                               447\n",
       "получение дополнительного образования     446\n",
       "получение образования                     442\n",
       "профильное образование                    436\n",
       "получение высшего образования             426\n",
       "заняться образованием                     408\n",
       "Name: purpose, dtype: int64"
      ]
     },
     "execution_count": 16,
     "metadata": {},
     "output_type": "execute_result"
    }
   ],
   "source": [
    "# Проверяем какие значения имеются в столбце purpose\n",
    "data['purpose'].value_counts()"
   ]
  },
  {
   "cell_type": "markdown",
   "metadata": {},
   "source": [
    "Необходимо привести значения в столбце к одной из 4 групп."
   ]
  },
  {
   "cell_type": "code",
   "execution_count": 17,
   "metadata": {},
   "outputs": [
    {
     "name": "stderr",
     "output_type": "stream",
     "text": [
      "\n",
      "KeyboardInterrupt\n",
      "\n"
     ]
    }
   ],
   "source": [
    "m = Mystem()\n",
    "def lemmatize(text):\n",
    "      lemmas = m.lemmatize(text)\n",
    "      text = \" \".join(lemmas)\n",
    "      return text\n",
    "data['purpose'] = data['purpose'].apply(lemmatize)\n",
    "data['purpose'].value_counts()"
   ]
  },
  {
   "cell_type": "markdown",
   "metadata": {},
   "source": [
    "**Вывод**"
   ]
  },
  {
   "cell_type": "markdown",
   "metadata": {},
   "source": [
    "Используя библиотеку `pymystem3` выделили леммы в каждой строке столбца с `purpose`. Все представленные значения в столбце можно укрупнённо разделить на 4 группы: `недвижимость`, `автокредит`, `свадьба`, `образование`. Далее объединим их в одну из 4 групп, определенных ранее."
   ]
  },
  {
   "cell_type": "markdown",
   "metadata": {},
   "source": [
    "### Категоризация данных <a id=\"classification\"></a>"
   ]
  },
  {
   "cell_type": "code",
   "execution_count": null,
   "metadata": {},
   "outputs": [],
   "source": [
    "#Осуществим категоризацию данных\n",
    "def purpose(text):\n",
    "    words = ['недвижимость', 'автомобиль', 'свадьба', 'образование', 'жилье']\n",
    "    for word in words:\n",
    "        if word in text:\n",
    "            return word\n",
    "data['purpose'] = data['purpose'].apply(purpose)\n",
    "data['purpose'].value_counts()"
   ]
  },
  {
   "cell_type": "markdown",
   "metadata": {},
   "source": [
    "Если применить эту функцию, то значения в столбце заменяются на значения из списка `words`, однако остаётся проблема объединения значений `недвижимость` и `жилье` в общую группу `недвижимость` и замены леммы `автомобиль` на `автокредит`.\n",
    "Попытка заменить значения вручную при помощи `.loc` не срабатывает: `.value_counts` возвращает значения до категоризации."
   ]
  },
  {
   "cell_type": "markdown",
   "metadata": {},
   "source": [
    "Для приведения значений к указанным группам заменим значения `жилье` и `автомобиль`"
   ]
  },
  {
   "cell_type": "code",
   "execution_count": null,
   "metadata": {},
   "outputs": [],
   "source": [
    "data.loc[data['purpose'] == 'жилье', 'purpose'] = 'недвижимость'\n",
    "data.loc[data['purpose'] == 'автомобиль', 'purpose'] = 'автокредит'\n",
    "data['purpose'].unique()"
   ]
  },
  {
   "cell_type": "markdown",
   "metadata": {},
   "source": [
    "**Вывод**"
   ]
  },
  {
   "cell_type": "markdown",
   "metadata": {},
   "source": [
    "Все значения в столбце `purpose` приведены к одной из 4 групп: `недвижимость`, `автокредит`, `свадьба`, `образование`."
   ]
  },
  {
   "cell_type": "markdown",
   "metadata": {},
   "source": [
    "## Дополнительные вопросы исследования "
   ]
  },
  {
   "cell_type": "markdown",
   "metadata": {},
   "source": [
    "- Есть ли зависимость между наличием детей и возвратом кредита в срок?"
   ]
  },
  {
   "cell_type": "markdown",
   "metadata": {},
   "source": [
    "В столбце имеются недостоверные значения `-1`и `20`, возможно ошибка связана с человеческим фактором. Предполагаем, что для значения `-1` имелось в виду `1`.\n",
    "Значение `20` можно оставить без изменений, т.к. количество строк с ним незначительное. Будем считать эти значение, как подтверждение наличия детей у заемщика. Возможная причина такого большого количества детей - лишний ноль при вводе информации."
   ]
  },
  {
   "cell_type": "code",
   "execution_count": null,
   "metadata": {},
   "outputs": [],
   "source": [
    "data['children'] = abs(data['children'])\n",
    "data['children'].value_counts()"
   ]
  },
  {
   "cell_type": "code",
   "execution_count": null,
   "metadata": {},
   "outputs": [],
   "source": [
    "def children_count(children):\n",
    "    if children > 0:\n",
    "        return 1\n",
    "    else:\n",
    "        return 0\n",
    "data['children_count'] = data['children'].apply(children_count)"
   ]
  },
  {
   "cell_type": "code",
   "execution_count": null,
   "metadata": {},
   "outputs": [],
   "source": [
    "pivot_children = data.pivot_table(index='children_count', columns='debt', values = 'gender', aggfunc='count')\n",
    "pivot_children['ratio'] = pivot_children[1] / (pivot_children[0] + pivot_children[1]) \n",
    "pivot_children.round(3)"
   ]
  },
  {
   "cell_type": "markdown",
   "metadata": {},
   "source": [
    "**Вывод**"
   ]
  },
  {
   "cell_type": "markdown",
   "metadata": {},
   "source": [
    "По результатам анализа доля клиентов с детьми, у которых имеется просроченная задолженность составляет **9,2%**;\n",
    "доля клиентов без детей с просроченной задолженностью - **7,5%**"
   ]
  },
  {
   "cell_type": "markdown",
   "metadata": {},
   "source": [
    "- Есть ли зависимость между семейным положением и возвратом кредита в срок?\n"
   ]
  },
  {
   "cell_type": "code",
   "execution_count": null,
   "metadata": {},
   "outputs": [],
   "source": [
    "pivot_family = data.pivot_table(index = ['family_status'], columns = 'debt', values = 'gender', aggfunc = 'count')\n",
    "pivot_family['ratio'] = pivot_family[1] / (pivot_family[0] + pivot_family[1])\n",
    "pivot_family.sort_values('ratio', ascending = False).round(3)"
   ]
  },
  {
   "cell_type": "markdown",
   "metadata": {},
   "source": [
    "**Вывод**"
   ]
  },
  {
   "cell_type": "markdown",
   "metadata": {},
   "source": [
    "Для клиентов, которые никогда не состояли в официальному браке процент просрочек выше. Возможно, это обусловлено некоторой безответственностью и меньшим уровнем финансовой дисциплиной у заемщиков, которые привыкли следить только за личным бюджетом.\n",
    "Нахождение заемщика в гражданском браке не способствует лучшей платежеспособности заемщика, в отличие от зарегистрированного брака."
   ]
  },
  {
   "cell_type": "markdown",
   "metadata": {},
   "source": [
    "- Есть ли зависимость между уровнем дохода и возвратом кредита в срок?"
   ]
  },
  {
   "cell_type": "code",
   "execution_count": null,
   "metadata": {},
   "outputs": [],
   "source": [
    "data['total_income'].describe().round(2)"
   ]
  },
  {
   "cell_type": "markdown",
   "metadata": {},
   "source": [
    "Для удобства выделим разделим доходы заемщиком на 4 группы по квантилям"
   ]
  },
  {
   "cell_type": "code",
   "execution_count": null,
   "metadata": {},
   "outputs": [],
   "source": [
    "data['income_group'] = pd.qcut(data['total_income'],4)"
   ]
  },
  {
   "cell_type": "code",
   "execution_count": null,
   "metadata": {},
   "outputs": [],
   "source": [
    "pivot_income = data.pivot_table(index = ['income_group'], columns = 'debt', values = 'gender', aggfunc = 'count')\n",
    "pivot_income['ratio'] = pivot_income[1] / (pivot_income[0] + pivot_income[1])\n",
    "pivot_income.round(3)"
   ]
  },
  {
   "cell_type": "markdown",
   "metadata": {},
   "source": [
    "**Вывод**"
   ]
  },
  {
   "cell_type": "markdown",
   "metadata": {},
   "source": [
    "Получившиеся вероятности задолженности групп заемщиков:\n",
    "\n",
    "доход менее 107,6 тыс. руб. = 8%  \n",
    "доход в диапазоне от 107,6 до 142,6 тыс. руб. = 8,8%  \n",
    "доход в диапазоне от 142,6 до 195,8 тыс. руб. = 8,5%  \n",
    "доход свыше 195,8 тыс.руб. = 7,1%  \n",
    "\n",
    "Наилучшая платежеспособность у клиентов, которые получают свыше 195,8 т.р. Возможно это обусловлено тем, что такая группа заемщиков берёт больше кредитов на инвестиционные цели,которые приносят дополнительный доход, что способствует возвратам кредитов. Зачастую клиенты с высокими доходами имеют свой бизнес, что может послужить стимул в сохранении положительной кредитной истории.\n",
    "Следом идут клиенты, входящие в группу с наименьшим  уровнем доходов: до 107,6 т.р., что кажется контринтуитивным, но может объяснятся тем, что клиенты берут небольшие суммы кредитов. \n",
    "Набольшая доля просроченной задолженности наблюдается у клиентов с доходом от 107,6 т.р. до 195,8 т.р."
   ]
  },
  {
   "cell_type": "markdown",
   "metadata": {},
   "source": [
    "- Как разные цели кредита влияют на его возврат в срок?"
   ]
  },
  {
   "cell_type": "code",
   "execution_count": null,
   "metadata": {},
   "outputs": [],
   "source": [
    "pivot_purpose = data.pivot_table(index='purpose', columns ='debt', values = 'gender',aggfunc='count')\n",
    "pivot_purpose['ratio'] = pivot_purpose[1] / (pivot_purpose[0] + pivot_purpose[1])\n",
    "pivot_purpose.round(3)"
   ]
  },
  {
   "cell_type": "markdown",
   "metadata": {},
   "source": [
    "**Вывод**"
   ]
  },
  {
   "cell_type": "markdown",
   "metadata": {},
   "source": [
    "Вероятность задолженности для каждой цели получения кредита от большей к меньшей:\n",
    "\n",
    "1. автомобиль - 9,4%\n",
    "2. образование - 9,2%\n",
    "3. свадьба - 8%\n",
    "4. недвижимость - 7,2%\n",
    "Лучшая платежеспособность наблюдается у клиентов, которые берут кредиты на цели связанные с приобретение недвижимости.\n",
    "Причины этого могут быть следующие:\n",
    "- более низкие ставки по ипотечным кредитам, по сравнению с потребительскими кредитами;\n",
    "- обычно по таким кредитам приобретаемое имущество находится в залоге у банка и клиенты заинтересованы в соблюдении кредитной дисциплины, чтобы заложенное имущество не было изъято.\n",
    "- в случае приобретения недвижимости в коммерческих целях (продажа, сдача в аренду), клиенты могут гасить кредиты частично или полностью за счёт денежных поступлений от этих операций.\n",
    "\n",
    "Второй по уровню возвратов целью является свадьба, что может обусловлено тем, что в случае необходимости кредит могу погашать оба супруга, это также коррелирует с выводом, что у клиентов, находящихся в браке лучшая платежная дисциплина.\n",
    "\n",
    "Высокая доля просрочек по кредитам на образование может объяснятся тем, что их в основном берут студенты, у которых может не быть стабильного заработка, доходы на стартовых позициях довольно скромные для содержания долга.\n",
    "\n",
    "Наибольшая вероятность просрочек у автокредитов так же логична, зачастую именно по этим кредитам выявляется наибольшая доля мошенничества. Приобретенные за счет кредита автомобили могут быть повреждены, что является причиной для некоторых клиентов не осуществлять платежи по кредитам вовремя пока не будет получено страховое возмещение.\n"
   ]
  },
  {
   "cell_type": "markdown",
   "metadata": {},
   "source": [
    "## Общий вывод <a id=\"conclusion\"></a>"
   ]
  },
  {
   "cell_type": "markdown",
   "metadata": {},
   "source": [
    "Лучший заемщик с точки зрения вероятности возврата кредита - клиент, который находится или находился в официально браке, у которого нет детей, доходы у которого выше 195,8 тыс.руб., целью получения кредита которого является приобретение недвижимости.\n",
    "\n",
    "Данные исследования можно использовать в посторении скоринговой модели для оценки платежеспособности заемщика."
   ]
  }
 ],
 "metadata": {
  "kernelspec": {
   "display_name": "Python 3 (ipykernel)",
   "language": "python",
   "name": "python3"
  },
  "language_info": {
   "codemirror_mode": {
    "name": "ipython",
    "version": 3
   },
   "file_extension": ".py",
   "mimetype": "text/x-python",
   "name": "python",
   "nbconvert_exporter": "python",
   "pygments_lexer": "ipython3",
   "version": "3.9.12"
  },
  "toc": {
   "base_numbering": 1,
   "nav_menu": {},
   "number_sections": true,
   "sideBar": true,
   "skip_h1_title": true,
   "title_cell": "Table of Contents",
   "title_sidebar": "Contents",
   "toc_cell": false,
   "toc_position": {
    "height": "calc(100% - 180px)",
    "left": "10px",
    "top": "150px",
    "width": "318.391px"
   },
   "toc_section_display": true,
   "toc_window_display": false
  }
 },
 "nbformat": 4,
 "nbformat_minor": 2
}
