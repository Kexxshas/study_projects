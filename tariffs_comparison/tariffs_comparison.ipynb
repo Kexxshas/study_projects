{
 "cells": [
  {
   "cell_type": "markdown",
   "metadata": {},
   "source": [
    "<div style=\"border:solid Chocolate 2px; padding: 40px\">\n",
    "\n",
    "<b>Кирилл, привет!👋</b>\n",
    "\n",
    "Меня зовут Арина У., я буду ревьюером твоего проекта. Надеюсь, ты не против, если мы будем общаться на \"ты\", но если тебя это смущает, обязательно скажи об этом!😏 \n",
    "\n",
    "Пожалуйста, не удаляй мои комментарии, они будут особенно полезны для нашей работы в случае повторной проверки проекта. \n",
    "\n",
    "Ты также можешь реагировать на мои комментарии своими, выделяя их цветами и наиболее понравившимся тебе способом оформления, но явно  отличающимся от моих комментариев. Это нужно, чтобы не создавалась путаница😉\n",
    "\n",
    "Ты можешь найти мои комментарии, обозначенные <font color='green'>зеленым</font>, <font color='gold'>желтым</font> и <font color='red'>красным</font> цветами, например:\n",
    "\n",
    "<br/>\n",
    "\n",
    "<div class=\"alert alert-success\">\n",
    "<h2> Комментарий ревьюера <a class=\"tocSkip\"> </h2>\n",
    "\n",
    "<b>Все отлично!👍:</b> В случае, если решение на отдельном шаге является полностью правильным.\n",
    "</div>\n",
    "\n",
    "<br/>\n",
    "\n",
    "<div class=\"alert alert-warning\">\n",
    "    <h2> Комментарий ревьюера <a class=\"tocSkip\"> </h2>\n",
    "    \n",
    "<b>Некоторые замечания и рекомендации💡:</b> В случае, когда решение на отдельном шаге станет еще лучше, если внести небольшие коррективы.\n",
    "</div>\n",
    "\n",
    "\n",
    "<br/>\n",
    "\n",
    "<div class=\"alert alert-block alert-danger\">\n",
    "<h2> Комментарий ревьюера <a class=\"tocSkip\"></h2>\n",
    "\n",
    "    \n",
    "<b>На доработку🤔:</b> В случае, когда решение на отдельном шаге требует существенной переработки и внесения правок. Напоминаю, что проект не может быть принят с первого раза, если ревью содержит комментарии, рекомендующие доработать шаги.\n",
    "</div>\n",
    "    \n",
    "Увидев у тебя ошибку, в первый раз я лишь укажу на ее наличие и дам тебе возможность самому найти и исправить ее. На реальной работе твой руководитель будет поступать также, и я пытаюсь подготовить тебя именно к работе аналитиком. Но если ты пока не справишься с такой задачей - при следующей проверке я дам более точную подсказку!🤓"
   ]
  },
  {
   "cell_type": "markdown",
   "metadata": {},
   "source": [
    "# Определение перспективного тарифа компании Мегалайн"
   ]
  },
  {
   "cell_type": "markdown",
   "metadata": {},
   "source": [
    "**Цель проекта:** определить, какой из двух тарифов \"Смарт\" или \"Ультра\" приносит больше денег компании.\n",
    "  \n",
    "**Задачи проекта:**\n",
    "- определить для каждого пользователя в разрезе каждого месяца количество сделанных звонков и использованных минут разговора, написанных сообщений и объём израсходанного интернет-трафика,\n",
    "- определить помесячную выручку каждого клиента,\n",
    "- сравнить средние выручки по тарифам,\n",
    "- определить, отличается ли средняя выручка по Москве от выручки в других регионах."
   ]
  },
  {
   "cell_type": "markdown",
   "metadata": {},
   "source": [
    "<div class=\"alert alert-success\">\n",
    "<h2> Комментарий ревьюера <a class=\"tocSkip\"> </h2>\n",
    "\n",
    "<b>Все отлично!👍:</b> \n",
    "    \n",
    "Здорово, что ты начинаешь проект с подробного описания данных и фиксируешь основную цель проекта, это правильный подход!"
   ]
  },
  {
   "cell_type": "markdown",
   "metadata": {},
   "source": [
    "## Предобработка"
   ]
  },
  {
   "cell_type": "code",
   "execution_count": 1,
   "metadata": {},
   "outputs": [],
   "source": [
    "import numpy as np\n",
    "import pandas as pd\n",
    "import matplotlib.pyplot as plt\n",
    "import seaborn as sns\n",
    "from scipy import stats as st"
   ]
  },
  {
   "cell_type": "code",
   "execution_count": 2,
   "metadata": {},
   "outputs": [],
   "source": [
    "calls = pd.read_csv('/datasets/calls.csv')\n",
    "internet = pd.read_csv('/datasets/internet.csv', index_col=0)\n",
    "messages = pd.read_csv('/datasets/messages.csv')\n",
    "tariffs = pd.read_csv('/datasets/tariffs.csv')\n",
    "users = pd.read_csv('/datasets/users.csv')"
   ]
  },
  {
   "cell_type": "code",
   "execution_count": 3,
   "metadata": {},
   "outputs": [
    {
     "name": "stdout",
     "output_type": "stream",
     "text": [
      "<class 'pandas.core.frame.DataFrame'>\n",
      "RangeIndex: 202607 entries, 0 to 202606\n",
      "Data columns (total 4 columns):\n",
      "id           202607 non-null object\n",
      "call_date    202607 non-null object\n",
      "duration     202607 non-null float64\n",
      "user_id      202607 non-null int64\n",
      "dtypes: float64(1), int64(1), object(2)\n",
      "memory usage: 6.2+ MB\n"
     ]
    }
   ],
   "source": [
    "calls.info()"
   ]
  },
  {
   "cell_type": "code",
   "execution_count": 4,
   "metadata": {},
   "outputs": [
    {
     "name": "stdout",
     "output_type": "stream",
     "text": [
      "<class 'pandas.core.frame.DataFrame'>\n",
      "Int64Index: 149396 entries, 0 to 149395\n",
      "Data columns (total 4 columns):\n",
      "id              149396 non-null object\n",
      "mb_used         149396 non-null float64\n",
      "session_date    149396 non-null object\n",
      "user_id         149396 non-null int64\n",
      "dtypes: float64(1), int64(1), object(2)\n",
      "memory usage: 5.7+ MB\n"
     ]
    }
   ],
   "source": [
    "internet.info()"
   ]
  },
  {
   "cell_type": "code",
   "execution_count": 5,
   "metadata": {},
   "outputs": [
    {
     "name": "stdout",
     "output_type": "stream",
     "text": [
      "<class 'pandas.core.frame.DataFrame'>\n",
      "RangeIndex: 123036 entries, 0 to 123035\n",
      "Data columns (total 3 columns):\n",
      "id              123036 non-null object\n",
      "message_date    123036 non-null object\n",
      "user_id         123036 non-null int64\n",
      "dtypes: int64(1), object(2)\n",
      "memory usage: 2.8+ MB\n"
     ]
    }
   ],
   "source": [
    "messages.info()"
   ]
  },
  {
   "cell_type": "code",
   "execution_count": 6,
   "metadata": {},
   "outputs": [
    {
     "name": "stdout",
     "output_type": "stream",
     "text": [
      "<class 'pandas.core.frame.DataFrame'>\n",
      "RangeIndex: 2 entries, 0 to 1\n",
      "Data columns (total 8 columns):\n",
      "messages_included        2 non-null int64\n",
      "mb_per_month_included    2 non-null int64\n",
      "minutes_included         2 non-null int64\n",
      "rub_monthly_fee          2 non-null int64\n",
      "rub_per_gb               2 non-null int64\n",
      "rub_per_message          2 non-null int64\n",
      "rub_per_minute           2 non-null int64\n",
      "tariff_name              2 non-null object\n",
      "dtypes: int64(7), object(1)\n",
      "memory usage: 256.0+ bytes\n"
     ]
    }
   ],
   "source": [
    "tariffs.info()"
   ]
  },
  {
   "cell_type": "code",
   "execution_count": 7,
   "metadata": {},
   "outputs": [
    {
     "name": "stdout",
     "output_type": "stream",
     "text": [
      "<class 'pandas.core.frame.DataFrame'>\n",
      "RangeIndex: 500 entries, 0 to 499\n",
      "Data columns (total 8 columns):\n",
      "user_id       500 non-null int64\n",
      "age           500 non-null int64\n",
      "churn_date    38 non-null object\n",
      "city          500 non-null object\n",
      "first_name    500 non-null object\n",
      "last_name     500 non-null object\n",
      "reg_date      500 non-null object\n",
      "tariff        500 non-null object\n",
      "dtypes: int64(2), object(6)\n",
      "memory usage: 31.4+ KB\n"
     ]
    }
   ],
   "source": [
    "users.info()"
   ]
  },
  {
   "cell_type": "markdown",
   "metadata": {},
   "source": [
    "Представлен срез данных по 500 клиентам компании. В представленных датафреймах необходимо изменить тип у столбцов с датой и временем. Также необходимо будет округлить вверх значения минут и мегабайтов, как принято в Мегалайне. При объединение данных (звонки, сообщения и трафик)  появятся пропуски, это может обусловлено тем, что в какой-то момент клиент не писал сообщения или не пользовался интернетом. Данные пропуски необходимо будет заменить нулями."
   ]
  },
  {
   "cell_type": "markdown",
   "metadata": {},
   "source": [
    "<div class=\"alert alert-success\">\n",
    "<h2> Комментарий ревьюера <a class=\"tocSkip\"> </h2>\n",
    "\n",
    "<b>Все отлично!👍:</b> \n",
    "    \n",
    "Хорошо! Ты подробно изучил данные, определил проблемы в них. Давай посмотрим, что у тебя получилось на последующих шагах анализа!"
   ]
  },
  {
   "cell_type": "markdown",
   "metadata": {},
   "source": [
    "### Замена типов данных"
   ]
  },
  {
   "cell_type": "markdown",
   "metadata": {},
   "source": [
    "В каждой таблице столбцы с датами привдём к соответствующему формату:"
   ]
  },
  {
   "cell_type": "code",
   "execution_count": 8,
   "metadata": {},
   "outputs": [],
   "source": [
    "calls['call_date'] = pd.to_datetime(calls['call_date'], format='%Y-%m-%d')\n",
    "internet['session_date'] = pd.to_datetime(internet['session_date'], format='%Y-%m-%d')\n",
    "messages['message_date'] = pd.to_datetime(messages['message_date'], format='%Y-%m-%d')\n",
    "users['churn_date'] = pd.to_datetime(users['churn_date'], format='%Y-%m-%d')\n",
    "users['reg_date'] = pd.to_datetime(users['reg_date'], format='%Y-%m-%d')"
   ]
  },
  {
   "cell_type": "markdown",
   "metadata": {},
   "source": [
    "<div class=\"alert alert-success\">\n",
    "<h2> Комментарий ревьюера <a class=\"tocSkip\"> </h2>\n",
    "\n",
    "<b>Все отлично!👍:</b> \n",
    "    \n",
    "Типы данных заменены корректно!"
   ]
  },
  {
   "cell_type": "markdown",
   "metadata": {},
   "source": [
    "Добавим в столбец с указанием месяца для таблиц с параметрами тарифов."
   ]
  },
  {
   "cell_type": "code",
   "execution_count": 9,
   "metadata": {},
   "outputs": [],
   "source": [
    "calls['month'] = calls['call_date'].dt.month\n",
    "internet['month'] = internet['session_date'].dt.month\n",
    "messages['month'] = messages['message_date'].dt.month"
   ]
  },
  {
   "cell_type": "code",
   "execution_count": 10,
   "metadata": {},
   "outputs": [
    {
     "data": {
      "image/png": "[encoded data removed]",
      "text/plain": [
       "<Figure size 1080x288 with 2 Axes>"
      ]
     },
     "metadata": {
      "needs_background": "light"
     },
     "output_type": "display_data"
    }
   ],
   "source": [
    "fig, (ax0, ax1) = plt.subplots(nrows=1, ncols=2, figsize=(15,4))\n",
    "\n",
    "ax0.hist(calls['duration'],bins=30)\n",
    "ax0.set_title('Длительность звонка, мин.')\n",
    "\n",
    "ax1.hist(internet['mb_used'],bins=30)\n",
    "ax1.set_title('Использовано трафика, мб')\n",
    "\n",
    "plt.show()"
   ]
  },
  {
   "cell_type": "code",
   "execution_count": 11,
   "metadata": {},
   "outputs": [
    {
     "data": {
      "text/plain": [
       "id           39613\n",
       "call_date    39613\n",
       "duration     39613\n",
       "user_id      39613\n",
       "month        39613\n",
       "dtype: int64"
      ]
     },
     "execution_count": 11,
     "metadata": {},
     "output_type": "execute_result"
    }
   ],
   "source": [
    "calls.query('duration == 0').count()"
   ]
  },
  {
   "cell_type": "code",
   "execution_count": 12,
   "metadata": {},
   "outputs": [
    {
     "data": {
      "text/plain": [
       "id              19598\n",
       "mb_used         19598\n",
       "session_date    19598\n",
       "user_id         19598\n",
       "month           19598\n",
       "dtype: int64"
      ]
     },
     "execution_count": 12,
     "metadata": {},
     "output_type": "execute_result"
    }
   ],
   "source": [
    "internet.query('mb_used == 0').count()"
   ]
  },
  {
   "cell_type": "markdown",
   "metadata": {},
   "source": [
    "На указанных графиках видно, что имеется большое количество звонков с длительностью 0 минут и интернет-сессий с нулевым трафиком. Округлим значения в этих столбцах вверх до целого значения ~~, заменим 0 на 1.~~"
   ]
  },
  {
   "cell_type": "code",
   "execution_count": 13,
   "metadata": {},
   "outputs": [],
   "source": [
    "calls['duration'] = np.ceil(calls['duration'])\n",
    "#calls.loc[calls['duration'] == 0, 'duration'] = 1\n",
    "\n",
    "internet['mb_used'] = np.ceil(internet['mb_used'])\n",
    "#internet.loc[internet['mb_used'] == 0, 'mb_used'] = 1"
   ]
  },
  {
   "cell_type": "code",
   "execution_count": 14,
   "metadata": {},
   "outputs": [],
   "source": [
    "#messages[messages.duplicated() == 1].count()"
   ]
  },
  {
   "cell_type": "markdown",
   "metadata": {},
   "source": [
    "<div class=\"alert alert-warning\">\n",
    "    <h2> Комментарий ревьюера <a class=\"tocSkip\"> </h2>\n",
    "    \n",
    "<b>Некоторые замечания и рекомендации💡:</b> \n",
    "        \n",
    "В целом, такая стратегия обработки нулевых значений тоже приемлема. Как еще можно было бы поступить со звонками с нулевой длительностью и с нулевыми интернет-сессиями?\n",
    "     \n",
    "на самом деле нулевые звонки и нулевые сессии в интернет не повлияют на анализ, поэтому в целом их можно либо удалить из набора данных, либо сохранить, но отфильтровать на нужных шагах анализа."
   ]
  },
  {
   "cell_type": "markdown",
   "metadata": {},
   "source": [
    "\n",
    "<div class=\"alert alert-block alert-danger\">\n",
    "<h2> Комментарий ревьюера <a class=\"tocSkip\"></h2>\n",
    "\n",
    "    \n",
    "<b>На доработку🤔:</b> \n",
    "    \n",
    "Твоя логика с округлением нулей до единиц - понятна. Но у тебя также есть и ненулевые значения в колонках mb_used и duration. Согласно условиям оператора, длительность звонков и количествоп отраченных мб округляется, важно это сделать и лучше для решения этой задачи использовать метод `np.ceil()`"
   ]
  },
  {
   "cell_type": "markdown",
   "metadata": {},
   "source": [
    "<div class=\"alert alert-block alert-info\">\n",
    "<b>Комментарий студента:</b> По твоему совету оставил нули в данных. Переделал код с округлением, чтобы непосредственно применялся метод `np.ceil()`\n",
    "</div>"
   ]
  },
  {
   "cell_type": "markdown",
   "metadata": {},
   "source": [
    "<div class=\"alert alert-success\">\n",
    "<h2> Комментарий ревьюера: вторая итерация ревью <a class=\"tocSkip\"> </h2>\n",
    "\n",
    "<b>Все отлично!👍:</b> \n",
    "    \n",
    "Да, хорошо, вижу твои коррективы!"
   ]
  },
  {
   "cell_type": "markdown",
   "metadata": {},
   "source": [
    "### Создание сводной таблицы по каждому пользователю\n",
    "\n",
    "Рассчитаем для каждого пользователя:  \n",
    "- количество сделанных звонков и израсходованных минут разговора по месяцам;  \n",
    "- количество отправленных сообщений по месяцам;  \n",
    "- объем израсходованного интернет-трафика по месяцам."
   ]
  },
  {
   "cell_type": "code",
   "execution_count": 15,
   "metadata": {},
   "outputs": [],
   "source": [
    "# сводная таблица по звонкам:\n",
    "\n",
    "user_calls = calls.merge(users, on='user_id', how='right')\n",
    "user_calls_pivot = user_calls.pivot_table(values='duration', \n",
    "                       index=['user_id', 'month'], \n",
    "                       aggfunc=['count','sum'])\n",
    "user_calls_pivot.columns = ['calls', 'duration']"
   ]
  },
  {
   "cell_type": "code",
   "execution_count": 16,
   "metadata": {},
   "outputs": [],
   "source": [
    "# сводная таблица для подсчета количества использования трафика:\n",
    "\n",
    "user_internet = internet.merge(users, on='user_id', how='right')\n",
    "user_internet_pivot = user_internet.pivot_table(values='mb_used', \n",
    "                       index=['user_id', 'month'], \n",
    "                       aggfunc='sum')\n",
    "user_internet_pivot.columns = ['mb_used']"
   ]
  },
  {
   "cell_type": "code",
   "execution_count": 17,
   "metadata": {},
   "outputs": [],
   "source": [
    "# сводная таблица для подсчета количества отправленных сообщений:\n",
    "\n",
    "user_messages = messages.merge(users, on='user_id', how='right')\n",
    "user_messages_pivot = user_messages.pivot_table(values='id', \n",
    "                       index=['user_id', 'month'], \n",
    "                       aggfunc='count')\n",
    "user_messages_pivot.columns = ['messages_count']"
   ]
  },
  {
   "cell_type": "code",
   "execution_count": 18,
   "metadata": {},
   "outputs": [
    {
     "data": {
      "text/plain": [
       "calls              40\n",
       "duration           40\n",
       "mb_used            11\n",
       "messages_count    497\n",
       "dtype: int64"
      ]
     },
     "execution_count": 18,
     "metadata": {},
     "output_type": "execute_result"
    }
   ],
   "source": [
    "# объединённая таблица с данными по каждому пользователю\n",
    "\n",
    "pivots = [user_calls_pivot, user_internet_pivot, user_messages_pivot]\n",
    "data_grouped = pd.concat(pivots, axis=1)\n",
    "data_grouped.isna().sum()"
   ]
  },
  {
   "cell_type": "markdown",
   "metadata": {},
   "source": [
    "Как видно в сводной таблице есть пропущенные значения, т.к. у нас нет необходимых для заполенния данных, заменим пропущенные значения нулями."
   ]
  },
  {
   "cell_type": "code",
   "execution_count": 19,
   "metadata": {},
   "outputs": [
    {
     "data": {
      "text/html": [
       "<div>\n",
       "<style scoped>\n",
       "    .dataframe tbody tr th:only-of-type {\n",
       "        vertical-align: middle;\n",
       "    }\n",
       "\n",
       "    .dataframe tbody tr th {\n",
       "        vertical-align: top;\n",
       "    }\n",
       "\n",
       "    .dataframe thead th {\n",
       "        text-align: right;\n",
       "    }\n",
       "</style>\n",
       "<table border=\"1\" class=\"dataframe\">\n",
       "  <thead>\n",
       "    <tr style=\"text-align: right;\">\n",
       "      <th></th>\n",
       "      <th></th>\n",
       "      <th>calls</th>\n",
       "      <th>duration</th>\n",
       "      <th>mb_used</th>\n",
       "      <th>messages_count</th>\n",
       "    </tr>\n",
       "    <tr>\n",
       "      <th>user_id</th>\n",
       "      <th>month</th>\n",
       "      <th></th>\n",
       "      <th></th>\n",
       "      <th></th>\n",
       "      <th></th>\n",
       "    </tr>\n",
       "  </thead>\n",
       "  <tbody>\n",
       "    <tr>\n",
       "      <td rowspan=\"5\" valign=\"top\">1000</td>\n",
       "      <td>5.0</td>\n",
       "      <td>22.0</td>\n",
       "      <td>159.0</td>\n",
       "      <td>2256.0</td>\n",
       "      <td>22.0</td>\n",
       "    </tr>\n",
       "    <tr>\n",
       "      <td>6.0</td>\n",
       "      <td>43.0</td>\n",
       "      <td>172.0</td>\n",
       "      <td>23257.0</td>\n",
       "      <td>60.0</td>\n",
       "    </tr>\n",
       "    <tr>\n",
       "      <td>7.0</td>\n",
       "      <td>47.0</td>\n",
       "      <td>340.0</td>\n",
       "      <td>14016.0</td>\n",
       "      <td>75.0</td>\n",
       "    </tr>\n",
       "    <tr>\n",
       "      <td>8.0</td>\n",
       "      <td>52.0</td>\n",
       "      <td>408.0</td>\n",
       "      <td>14070.0</td>\n",
       "      <td>81.0</td>\n",
       "    </tr>\n",
       "    <tr>\n",
       "      <td>9.0</td>\n",
       "      <td>58.0</td>\n",
       "      <td>466.0</td>\n",
       "      <td>14581.0</td>\n",
       "      <td>57.0</td>\n",
       "    </tr>\n",
       "    <tr>\n",
       "      <td>...</td>\n",
       "      <td>...</td>\n",
       "      <td>...</td>\n",
       "      <td>...</td>\n",
       "      <td>...</td>\n",
       "      <td>...</td>\n",
       "    </tr>\n",
       "    <tr>\n",
       "      <td>1498</td>\n",
       "      <td>10.0</td>\n",
       "      <td>41.0</td>\n",
       "      <td>247.0</td>\n",
       "      <td>20604.0</td>\n",
       "      <td>42.0</td>\n",
       "    </tr>\n",
       "    <tr>\n",
       "      <td rowspan=\"4\" valign=\"top\">1499</td>\n",
       "      <td>9.0</td>\n",
       "      <td>9.0</td>\n",
       "      <td>70.0</td>\n",
       "      <td>1848.0</td>\n",
       "      <td>11.0</td>\n",
       "    </tr>\n",
       "    <tr>\n",
       "      <td>10.0</td>\n",
       "      <td>68.0</td>\n",
       "      <td>449.0</td>\n",
       "      <td>17809.0</td>\n",
       "      <td>48.0</td>\n",
       "    </tr>\n",
       "    <tr>\n",
       "      <td>11.0</td>\n",
       "      <td>74.0</td>\n",
       "      <td>612.0</td>\n",
       "      <td>17984.0</td>\n",
       "      <td>59.0</td>\n",
       "    </tr>\n",
       "    <tr>\n",
       "      <td>12.0</td>\n",
       "      <td>69.0</td>\n",
       "      <td>492.0</td>\n",
       "      <td>13077.0</td>\n",
       "      <td>66.0</td>\n",
       "    </tr>\n",
       "  </tbody>\n",
       "</table>\n",
       "<p>3214 rows × 4 columns</p>\n",
       "</div>"
      ],
      "text/plain": [
       "               calls  duration  mb_used  messages_count\n",
       "user_id month                                          \n",
       "1000    5.0     22.0     159.0   2256.0            22.0\n",
       "        6.0     43.0     172.0  23257.0            60.0\n",
       "        7.0     47.0     340.0  14016.0            75.0\n",
       "        8.0     52.0     408.0  14070.0            81.0\n",
       "        9.0     58.0     466.0  14581.0            57.0\n",
       "...              ...       ...      ...             ...\n",
       "1498    10.0    41.0     247.0  20604.0            42.0\n",
       "1499    9.0      9.0      70.0   1848.0            11.0\n",
       "        10.0    68.0     449.0  17809.0            48.0\n",
       "        11.0    74.0     612.0  17984.0            59.0\n",
       "        12.0    69.0     492.0  13077.0            66.0\n",
       "\n",
       "[3214 rows x 4 columns]"
      ]
     },
     "execution_count": 19,
     "metadata": {},
     "output_type": "execute_result"
    }
   ],
   "source": [
    "data_grouped.loc[data_grouped['calls'].isna(), 'calls'] = 0\n",
    "data_grouped.loc[data_grouped['duration'].isna(), 'duration'] = 0\n",
    "data_grouped.loc[data_grouped['messages_count'].isna(), 'messages_count'] = 0\n",
    "data_grouped.loc[data_grouped['mb_used'].isna(), 'mb_used'] = 0\n",
    "data_grouped"
   ]
  },
  {
   "cell_type": "code",
   "execution_count": 20,
   "metadata": {},
   "outputs": [
    {
     "data": {
      "text/html": [
       "<div>\n",
       "<style scoped>\n",
       "    .dataframe tbody tr th:only-of-type {\n",
       "        vertical-align: middle;\n",
       "    }\n",
       "\n",
       "    .dataframe tbody tr th {\n",
       "        vertical-align: top;\n",
       "    }\n",
       "\n",
       "    .dataframe thead th {\n",
       "        text-align: right;\n",
       "    }\n",
       "</style>\n",
       "<table border=\"1\" class=\"dataframe\">\n",
       "  <thead>\n",
       "    <tr style=\"text-align: right;\">\n",
       "      <th></th>\n",
       "      <th>user_id</th>\n",
       "      <th>month</th>\n",
       "      <th>calls</th>\n",
       "      <th>duration</th>\n",
       "      <th>mb_used</th>\n",
       "      <th>messages_count</th>\n",
       "      <th>tariff</th>\n",
       "    </tr>\n",
       "  </thead>\n",
       "  <tbody>\n",
       "    <tr>\n",
       "      <td>0</td>\n",
       "      <td>1000</td>\n",
       "      <td>5.0</td>\n",
       "      <td>22.0</td>\n",
       "      <td>159.0</td>\n",
       "      <td>2256.0</td>\n",
       "      <td>22.0</td>\n",
       "      <td>ultra</td>\n",
       "    </tr>\n",
       "    <tr>\n",
       "      <td>1</td>\n",
       "      <td>1000</td>\n",
       "      <td>6.0</td>\n",
       "      <td>43.0</td>\n",
       "      <td>172.0</td>\n",
       "      <td>23257.0</td>\n",
       "      <td>60.0</td>\n",
       "      <td>ultra</td>\n",
       "    </tr>\n",
       "    <tr>\n",
       "      <td>2</td>\n",
       "      <td>1000</td>\n",
       "      <td>7.0</td>\n",
       "      <td>47.0</td>\n",
       "      <td>340.0</td>\n",
       "      <td>14016.0</td>\n",
       "      <td>75.0</td>\n",
       "      <td>ultra</td>\n",
       "    </tr>\n",
       "    <tr>\n",
       "      <td>3</td>\n",
       "      <td>1000</td>\n",
       "      <td>8.0</td>\n",
       "      <td>52.0</td>\n",
       "      <td>408.0</td>\n",
       "      <td>14070.0</td>\n",
       "      <td>81.0</td>\n",
       "      <td>ultra</td>\n",
       "    </tr>\n",
       "    <tr>\n",
       "      <td>4</td>\n",
       "      <td>1000</td>\n",
       "      <td>9.0</td>\n",
       "      <td>58.0</td>\n",
       "      <td>466.0</td>\n",
       "      <td>14581.0</td>\n",
       "      <td>57.0</td>\n",
       "      <td>ultra</td>\n",
       "    </tr>\n",
       "  </tbody>\n",
       "</table>\n",
       "</div>"
      ],
      "text/plain": [
       "   user_id  month  calls  duration  mb_used  messages_count tariff\n",
       "0     1000    5.0   22.0     159.0   2256.0            22.0  ultra\n",
       "1     1000    6.0   43.0     172.0  23257.0            60.0  ultra\n",
       "2     1000    7.0   47.0     340.0  14016.0            75.0  ultra\n",
       "3     1000    8.0   52.0     408.0  14070.0            81.0  ultra\n",
       "4     1000    9.0   58.0     466.0  14581.0            57.0  ultra"
      ]
     },
     "execution_count": 20,
     "metadata": {},
     "output_type": "execute_result"
    }
   ],
   "source": [
    "data_with_tariff = data_grouped.copy()\n",
    "data_with_tariff.reset_index(inplace=True)\n",
    "data_with_tariff = data_with_tariff.merge(users, on='user_id', how='outer')\n",
    "data_grouped_final = data_with_tariff[['user_id','month','calls','duration','mb_used','messages_count','tariff']]\n",
    "data_grouped_final.head()\n",
    "#data_grouped_final.set_index(['user_id','month']) - для создания многоуровневого датафрейма"
   ]
  },
  {
   "cell_type": "code",
   "execution_count": 21,
   "metadata": {
    "scrolled": true
   },
   "outputs": [],
   "source": [
    "# Проверяем не были ли утрачены данные после объединения таблиц.\n",
    "\n",
    "#data_grouped_final['user_id'].nunique() == users['user_id'].nunique()\n",
    "#data_grouped_final['duration'].nunique() == user_calls_pivot['duration'].nunique()\n",
    "#data_grouped_final['mb_used'].nunique() == user_internet_pivot['mb_used'].nunique()\n",
    "#data_grouped_final['messages_count'].nunique() == user_messages_pivot['messages_count'].nunique()"
   ]
  },
  {
   "cell_type": "markdown",
   "metadata": {},
   "source": [
    "Проверка показала, что никакие данные не были утрачена, но появились пустые значения. Удалим пустые строки."
   ]
  },
  {
   "cell_type": "code",
   "execution_count": 22,
   "metadata": {},
   "outputs": [
    {
     "data": {
      "text/plain": [
       "user_id           0\n",
       "month             0\n",
       "calls             0\n",
       "duration          0\n",
       "mb_used           0\n",
       "messages_count    0\n",
       "tariff            0\n",
       "dtype: int64"
      ]
     },
     "execution_count": 22,
     "metadata": {},
     "output_type": "execute_result"
    }
   ],
   "source": [
    "data_grouped_final = data_grouped_final.dropna()\n",
    "data_grouped_final.isna().sum()"
   ]
  },
  {
   "cell_type": "markdown",
   "metadata": {},
   "source": [
    "\n",
    "<div class=\"alert alert-block alert-danger\">\n",
    "<h2> Комментарий ревьюера <a class=\"tocSkip\"></h2>\n",
    "\n",
    "    \n",
    "<b>На доработку🤔:</b> \n",
    "    \n",
    "В целом, ты используешьк орректные методы для объединения. Но не совсем правильно использовать внутренний тип объединения (`how = inner`), корректнее использовать внешнее объединение (`how = outer`). Почему? \n",
    "    \n",
    "Объединение без этого аргумента может привести к потере количества уникальных пользователей. Попробуй проверить себя: посчитай количество уникальных пользователей в объединенной таблице и посмотри на результат. \n",
    "    \n",
    "Как можно проверить объединение? (вообще, советую всегда проводить такие проверки)\n",
    "    \n",
    "* Для каждой комбинации месяц-пользователь у нас должна получиться 1 строка. Т.е., если у нас получится более 500*12 = 6000 строк - мы точно где-то ошиблись.\n",
    "    \n",
    "* Проверить количество уникальных пользователей - их должно быть 500. (ниже привела пример проверки на твоих данных)\n",
    "    \n",
    "* Также можно проверить - совпадают ли количества минут, СМС и Гб из итоговой таблицы и изначальных.\n",
    "    \n",
    "Важно объединить таблицы без потерь! Если после проверок окажется, что твои результаты верны, то все хорошо, а если нет, попробуй изменить способ объединения таблиц!"
   ]
  },
  {
   "cell_type": "markdown",
   "metadata": {},
   "source": [
    "<hr style=\"border: 2px solid red;\" />\n",
    "<h2> Пример кода от ревьюера: <a class=\"tocSkip\"></h2>"
   ]
  },
  {
   "cell_type": "code",
   "execution_count": 23,
   "metadata": {},
   "outputs": [],
   "source": [
    "data_grouped_final1 = data_grouped_final.copy()"
   ]
  },
  {
   "cell_type": "code",
   "execution_count": 24,
   "metadata": {},
   "outputs": [
    {
     "data": {
      "text/plain": [
       "498"
      ]
     },
     "execution_count": 24,
     "metadata": {},
     "output_type": "execute_result"
    }
   ],
   "source": [
    "import numpy as np\n",
    "data_grouped_final1['user_id'].nunique()"
   ]
  },
  {
   "cell_type": "markdown",
   "metadata": {},
   "source": [
    "<hr style=\"border: 2px solid red;\" />"
   ]
  },
  {
   "cell_type": "markdown",
   "metadata": {},
   "source": [
    "<div class=\"alert alert-block alert-info\">\n",
    "<b>Комментарий студента:</b> Во всех объединениях применил внешнее объединение, провёл проверку, в этот раз все данные на месте. Удалил образовавшиеся пустые строки.\n",
    "</div>"
   ]
  },
  {
   "cell_type": "markdown",
   "metadata": {},
   "source": [
    "<div class=\"alert alert-success\">\n",
    "<h2> Комментарий ревьюера: вторая итерация ревью <a class=\"tocSkip\"> </h2>\n",
    "\n",
    "<b>Все отлично!👍:</b> \n",
    "    \n",
    "Да, отлично, теперь объединение проведено более корректно!"
   ]
  },
  {
   "cell_type": "markdown",
   "metadata": {},
   "source": [
    "### Расчет выручки"
   ]
  },
  {
   "cell_type": "code",
   "execution_count": 25,
   "metadata": {},
   "outputs": [
    {
     "data": {
      "text/html": [
       "<div>\n",
       "<style scoped>\n",
       "    .dataframe tbody tr th:only-of-type {\n",
       "        vertical-align: middle;\n",
       "    }\n",
       "\n",
       "    .dataframe tbody tr th {\n",
       "        vertical-align: top;\n",
       "    }\n",
       "\n",
       "    .dataframe thead th {\n",
       "        text-align: right;\n",
       "    }\n",
       "</style>\n",
       "<table border=\"1\" class=\"dataframe\">\n",
       "  <thead>\n",
       "    <tr style=\"text-align: right;\">\n",
       "      <th></th>\n",
       "      <th>messages_included</th>\n",
       "      <th>mb_per_month_included</th>\n",
       "      <th>minutes_included</th>\n",
       "      <th>rub_monthly_fee</th>\n",
       "      <th>rub_per_gb</th>\n",
       "      <th>rub_per_message</th>\n",
       "      <th>rub_per_minute</th>\n",
       "      <th>tariff_name</th>\n",
       "    </tr>\n",
       "  </thead>\n",
       "  <tbody>\n",
       "    <tr>\n",
       "      <td>0</td>\n",
       "      <td>50</td>\n",
       "      <td>15360</td>\n",
       "      <td>500</td>\n",
       "      <td>550</td>\n",
       "      <td>200</td>\n",
       "      <td>3</td>\n",
       "      <td>3</td>\n",
       "      <td>smart</td>\n",
       "    </tr>\n",
       "    <tr>\n",
       "      <td>1</td>\n",
       "      <td>1000</td>\n",
       "      <td>30720</td>\n",
       "      <td>3000</td>\n",
       "      <td>1950</td>\n",
       "      <td>150</td>\n",
       "      <td>1</td>\n",
       "      <td>1</td>\n",
       "      <td>ultra</td>\n",
       "    </tr>\n",
       "  </tbody>\n",
       "</table>\n",
       "</div>"
      ],
      "text/plain": [
       "   messages_included  mb_per_month_included  minutes_included  \\\n",
       "0                 50                  15360               500   \n",
       "1               1000                  30720              3000   \n",
       "\n",
       "   rub_monthly_fee  rub_per_gb  rub_per_message  rub_per_minute tariff_name  \n",
       "0              550         200                3               3       smart  \n",
       "1             1950         150                1               1       ultra  "
      ]
     },
     "execution_count": 25,
     "metadata": {},
     "output_type": "execute_result"
    }
   ],
   "source": [
    "tariffs"
   ]
  },
  {
   "cell_type": "code",
   "execution_count": 26,
   "metadata": {},
   "outputs": [
    {
     "data": {
      "text/html": [
       "<div>\n",
       "<style scoped>\n",
       "    .dataframe tbody tr th:only-of-type {\n",
       "        vertical-align: middle;\n",
       "    }\n",
       "\n",
       "    .dataframe tbody tr th {\n",
       "        vertical-align: top;\n",
       "    }\n",
       "\n",
       "    .dataframe thead th {\n",
       "        text-align: right;\n",
       "    }\n",
       "</style>\n",
       "<table border=\"1\" class=\"dataframe\">\n",
       "  <thead>\n",
       "    <tr style=\"text-align: right;\">\n",
       "      <th></th>\n",
       "      <th>user_id</th>\n",
       "      <th>month</th>\n",
       "      <th>calls</th>\n",
       "      <th>duration</th>\n",
       "      <th>mb_used</th>\n",
       "      <th>messages_count</th>\n",
       "      <th>tariff</th>\n",
       "      <th>revenue</th>\n",
       "    </tr>\n",
       "  </thead>\n",
       "  <tbody>\n",
       "    <tr>\n",
       "      <td>0</td>\n",
       "      <td>1000</td>\n",
       "      <td>5.0</td>\n",
       "      <td>22.0</td>\n",
       "      <td>159.0</td>\n",
       "      <td>2256.0</td>\n",
       "      <td>22.0</td>\n",
       "      <td>ultra</td>\n",
       "      <td>1950.00000</td>\n",
       "    </tr>\n",
       "    <tr>\n",
       "      <td>1</td>\n",
       "      <td>1000</td>\n",
       "      <td>6.0</td>\n",
       "      <td>43.0</td>\n",
       "      <td>172.0</td>\n",
       "      <td>23257.0</td>\n",
       "      <td>60.0</td>\n",
       "      <td>ultra</td>\n",
       "      <td>1950.00000</td>\n",
       "    </tr>\n",
       "    <tr>\n",
       "      <td>2</td>\n",
       "      <td>1000</td>\n",
       "      <td>7.0</td>\n",
       "      <td>47.0</td>\n",
       "      <td>340.0</td>\n",
       "      <td>14016.0</td>\n",
       "      <td>75.0</td>\n",
       "      <td>ultra</td>\n",
       "      <td>1950.00000</td>\n",
       "    </tr>\n",
       "    <tr>\n",
       "      <td>3</td>\n",
       "      <td>1000</td>\n",
       "      <td>8.0</td>\n",
       "      <td>52.0</td>\n",
       "      <td>408.0</td>\n",
       "      <td>14070.0</td>\n",
       "      <td>81.0</td>\n",
       "      <td>ultra</td>\n",
       "      <td>1950.00000</td>\n",
       "    </tr>\n",
       "    <tr>\n",
       "      <td>4</td>\n",
       "      <td>1000</td>\n",
       "      <td>9.0</td>\n",
       "      <td>58.0</td>\n",
       "      <td>466.0</td>\n",
       "      <td>14581.0</td>\n",
       "      <td>57.0</td>\n",
       "      <td>ultra</td>\n",
       "      <td>1950.00000</td>\n",
       "    </tr>\n",
       "    <tr>\n",
       "      <td>5</td>\n",
       "      <td>1000</td>\n",
       "      <td>10.0</td>\n",
       "      <td>57.0</td>\n",
       "      <td>350.0</td>\n",
       "      <td>14717.0</td>\n",
       "      <td>73.0</td>\n",
       "      <td>ultra</td>\n",
       "      <td>1950.00000</td>\n",
       "    </tr>\n",
       "    <tr>\n",
       "      <td>6</td>\n",
       "      <td>1000</td>\n",
       "      <td>11.0</td>\n",
       "      <td>43.0</td>\n",
       "      <td>338.0</td>\n",
       "      <td>14768.0</td>\n",
       "      <td>58.0</td>\n",
       "      <td>ultra</td>\n",
       "      <td>1950.00000</td>\n",
       "    </tr>\n",
       "    <tr>\n",
       "      <td>7</td>\n",
       "      <td>1000</td>\n",
       "      <td>12.0</td>\n",
       "      <td>46.0</td>\n",
       "      <td>333.0</td>\n",
       "      <td>9827.0</td>\n",
       "      <td>70.0</td>\n",
       "      <td>ultra</td>\n",
       "      <td>1950.00000</td>\n",
       "    </tr>\n",
       "    <tr>\n",
       "      <td>8</td>\n",
       "      <td>1001</td>\n",
       "      <td>11.0</td>\n",
       "      <td>59.0</td>\n",
       "      <td>430.0</td>\n",
       "      <td>18452.0</td>\n",
       "      <td>0.0</td>\n",
       "      <td>smart</td>\n",
       "      <td>1153.90625</td>\n",
       "    </tr>\n",
       "    <tr>\n",
       "      <td>9</td>\n",
       "      <td>1001</td>\n",
       "      <td>12.0</td>\n",
       "      <td>63.0</td>\n",
       "      <td>414.0</td>\n",
       "      <td>14053.0</td>\n",
       "      <td>0.0</td>\n",
       "      <td>smart</td>\n",
       "      <td>550.00000</td>\n",
       "    </tr>\n",
       "  </tbody>\n",
       "</table>\n",
       "</div>"
      ],
      "text/plain": [
       "   user_id  month  calls  duration  mb_used  messages_count tariff     revenue\n",
       "0     1000    5.0   22.0     159.0   2256.0            22.0  ultra  1950.00000\n",
       "1     1000    6.0   43.0     172.0  23257.0            60.0  ultra  1950.00000\n",
       "2     1000    7.0   47.0     340.0  14016.0            75.0  ultra  1950.00000\n",
       "3     1000    8.0   52.0     408.0  14070.0            81.0  ultra  1950.00000\n",
       "4     1000    9.0   58.0     466.0  14581.0            57.0  ultra  1950.00000\n",
       "5     1000   10.0   57.0     350.0  14717.0            73.0  ultra  1950.00000\n",
       "6     1000   11.0   43.0     338.0  14768.0            58.0  ultra  1950.00000\n",
       "7     1000   12.0   46.0     333.0   9827.0            70.0  ultra  1950.00000\n",
       "8     1001   11.0   59.0     430.0  18452.0             0.0  smart  1153.90625\n",
       "9     1001   12.0   63.0     414.0  14053.0             0.0  smart   550.00000"
      ]
     },
     "execution_count": 26,
     "metadata": {},
     "output_type": "execute_result"
    }
   ],
   "source": [
    "# функция для расчёта выручки, полученной с одного клиента c учётом ежемесячного платежа и переплат за превышение \n",
    "# базового пакета услуг\n",
    "\n",
    "def revenue_func(row):\n",
    "    if row['tariff'] == 'smart':\n",
    "        duration_delta = row['duration'] - tariffs.loc[0, 'minutes_included']\n",
    "        mb_used_delta = row['mb_used'] - tariffs.loc[0, 'mb_per_month_included']\n",
    "        messages_delta = row['messages_count'] - tariffs.loc[0, 'messages_included']\n",
    "        \n",
    "        if duration_delta < 0:\n",
    "            duration_delta = 0\n",
    "        if mb_used_delta < 0:\n",
    "            mb_used_delta = 0\n",
    "        if messages_delta < 0:\n",
    "            messages_delta = 0\n",
    "        \n",
    "        return (tariffs.loc[0, 'rub_monthly_fee'] + tariffs.loc[0, 'rub_per_minute'] * duration_delta + \n",
    "                (tariffs.loc[0, 'rub_per_gb'] / 1024) * mb_used_delta + tariffs.loc[0, 'rub_per_message'] * messages_delta) \n",
    "    else:\n",
    "        duration_delta = row['duration'] - tariffs.loc[1, 'minutes_included']\n",
    "        mb_used_delta = row['mb_used'] - tariffs.loc[1, 'mb_per_month_included']\n",
    "        messages_delta = row['messages_count'] - tariffs.loc[1, 'messages_included']\n",
    "        \n",
    "        if duration_delta < 0:\n",
    "            duration_delta = 0\n",
    "        if mb_used_delta < 0:\n",
    "            mb_used_delta = 0\n",
    "        if messages_delta < 0:\n",
    "            messages_delta = 0\n",
    "        \n",
    "        return (tariffs.loc[1, 'rub_monthly_fee'] + tariffs.loc[1, 'rub_per_minute'] * duration_delta + \n",
    "                (tariffs.loc[1, 'rub_per_gb'] / 1024) * mb_used_delta + tariffs.loc[1, 'rub_per_message'] * messages_delta)\n",
    "\n",
    "data_final = data_grouped_final.copy()\n",
    "data_final['revenue'] = data_final.apply(revenue_func, axis=1)\n",
    "data_final.head(10)"
   ]
  },
  {
   "cell_type": "markdown",
   "metadata": {},
   "source": [
    "<div class=\"alert alert-success\">\n",
    "<h2> Комментарий ревьюера <a class=\"tocSkip\"> </h2>\n",
    "\n",
    "<b>Все отлично!👍:</b> \n",
    "    \n",
    "Выручка по пользователям подсчитана корректно, у тебя получилась эффективная функция, все получилось!"
   ]
  },
  {
   "cell_type": "markdown",
   "metadata": {},
   "source": [
    "## Анализ данных"
   ]
  },
  {
   "cell_type": "markdown",
   "metadata": {},
   "source": [
    "Посчитаем средние значения длительности звонков, количества сообщений и использованных мегабайтов по каждому клиенту в месяц."
   ]
  },
  {
   "cell_type": "code",
   "execution_count": 42,
   "metadata": {},
   "outputs": [
    {
     "data": {
      "text/html": [
       "<div>\n",
       "<style scoped>\n",
       "    .dataframe tbody tr th:only-of-type {\n",
       "        vertical-align: middle;\n",
       "    }\n",
       "\n",
       "    .dataframe tbody tr th {\n",
       "        vertical-align: top;\n",
       "    }\n",
       "\n",
       "    .dataframe thead th {\n",
       "        text-align: right;\n",
       "    }\n",
       "</style>\n",
       "<table border=\"1\" class=\"dataframe\">\n",
       "  <thead>\n",
       "    <tr style=\"text-align: right;\">\n",
       "      <th></th>\n",
       "      <th></th>\n",
       "      <th>duration</th>\n",
       "      <th>mb_used</th>\n",
       "      <th>messages_count</th>\n",
       "      <th>revenue</th>\n",
       "    </tr>\n",
       "    <tr>\n",
       "      <th>user_id</th>\n",
       "      <th>tariff</th>\n",
       "      <th></th>\n",
       "      <th></th>\n",
       "      <th></th>\n",
       "      <th></th>\n",
       "    </tr>\n",
       "  </thead>\n",
       "  <tbody>\n",
       "    <tr>\n",
       "      <td>1000</td>\n",
       "      <td>ultra</td>\n",
       "      <td>339.0</td>\n",
       "      <td>14325.5</td>\n",
       "      <td>65.0</td>\n",
       "      <td>1950.000000</td>\n",
       "    </tr>\n",
       "    <tr>\n",
       "      <td>1001</td>\n",
       "      <td>smart</td>\n",
       "      <td>422.0</td>\n",
       "      <td>16252.5</td>\n",
       "      <td>0.0</td>\n",
       "      <td>851.953125</td>\n",
       "    </tr>\n",
       "    <tr>\n",
       "      <td>1002</td>\n",
       "      <td>smart</td>\n",
       "      <td>214.0</td>\n",
       "      <td>17601.0</td>\n",
       "      <td>11.0</td>\n",
       "      <td>987.695312</td>\n",
       "    </tr>\n",
       "    <tr>\n",
       "      <td>1003</td>\n",
       "      <td>ultra</td>\n",
       "      <td>824.0</td>\n",
       "      <td>11368.0</td>\n",
       "      <td>83.0</td>\n",
       "      <td>1950.000000</td>\n",
       "    </tr>\n",
       "    <tr>\n",
       "      <td>1004</td>\n",
       "      <td>ultra</td>\n",
       "      <td>132.5</td>\n",
       "      <td>17828.5</td>\n",
       "      <td>154.5</td>\n",
       "      <td>1950.000000</td>\n",
       "    </tr>\n",
       "  </tbody>\n",
       "</table>\n",
       "</div>"
      ],
      "text/plain": [
       "                duration  mb_used  messages_count      revenue\n",
       "user_id tariff                                                \n",
       "1000    ultra      339.0  14325.5            65.0  1950.000000\n",
       "1001    smart      422.0  16252.5             0.0   851.953125\n",
       "1002    smart      214.0  17601.0            11.0   987.695312\n",
       "1003    ultra      824.0  11368.0            83.0  1950.000000\n",
       "1004    ultra      132.5  17828.5           154.5  1950.000000"
      ]
     },
     "execution_count": 42,
     "metadata": {},
     "output_type": "execute_result"
    }
   ],
   "source": [
    "data_medians = data_final.pivot_table(index=['user_id', 'tariff'], values=['duration', 'mb_used','messages_count', 'revenue'], aggfunc='median')\n",
    "data_medians.head()"
   ]
  },
  {
   "cell_type": "markdown",
   "metadata": {},
   "source": [
    "Рассчитаем средние значения, диспресию и стандартное отклонение по каждому из тарифов."
   ]
  },
  {
   "cell_type": "code",
   "execution_count": 47,
   "metadata": {},
   "outputs": [
    {
     "data": {
      "text/html": [
       "<div>\n",
       "<style scoped>\n",
       "    .dataframe tbody tr th:only-of-type {\n",
       "        vertical-align: middle;\n",
       "    }\n",
       "\n",
       "    .dataframe tbody tr th {\n",
       "        vertical-align: top;\n",
       "    }\n",
       "\n",
       "    .dataframe thead tr th {\n",
       "        text-align: left;\n",
       "    }\n",
       "\n",
       "    .dataframe thead tr:last-of-type th {\n",
       "        text-align: right;\n",
       "    }\n",
       "</style>\n",
       "<table border=\"1\" class=\"dataframe\">\n",
       "  <thead>\n",
       "    <tr>\n",
       "      <th></th>\n",
       "      <th colspan=\"3\" halign=\"left\">duration</th>\n",
       "      <th colspan=\"3\" halign=\"left\">mb_used</th>\n",
       "      <th colspan=\"3\" halign=\"left\">messages_count</th>\n",
       "      <th colspan=\"3\" halign=\"left\">revenue</th>\n",
       "    </tr>\n",
       "    <tr>\n",
       "      <th></th>\n",
       "      <th>median</th>\n",
       "      <th>std</th>\n",
       "      <th>var</th>\n",
       "      <th>median</th>\n",
       "      <th>std</th>\n",
       "      <th>var</th>\n",
       "      <th>median</th>\n",
       "      <th>std</th>\n",
       "      <th>var</th>\n",
       "      <th>median</th>\n",
       "      <th>std</th>\n",
       "      <th>var</th>\n",
       "    </tr>\n",
       "    <tr>\n",
       "      <th>tariff</th>\n",
       "      <th></th>\n",
       "      <th></th>\n",
       "      <th></th>\n",
       "      <th></th>\n",
       "      <th></th>\n",
       "      <th></th>\n",
       "      <th></th>\n",
       "      <th></th>\n",
       "      <th></th>\n",
       "      <th></th>\n",
       "      <th></th>\n",
       "      <th></th>\n",
       "    </tr>\n",
       "  </thead>\n",
       "  <tbody>\n",
       "    <tr>\n",
       "      <td>smart</td>\n",
       "      <td>422.0</td>\n",
       "      <td>190.313730</td>\n",
       "      <td>36219.315784</td>\n",
       "      <td>16531.0</td>\n",
       "      <td>5877.576978</td>\n",
       "      <td>3.454591e+07</td>\n",
       "      <td>28.0</td>\n",
       "      <td>28.227876</td>\n",
       "      <td>796.812958</td>\n",
       "      <td>959.898438</td>\n",
       "      <td>787.688141</td>\n",
       "      <td>620452.607534</td>\n",
       "    </tr>\n",
       "    <tr>\n",
       "      <td>ultra</td>\n",
       "      <td>518.0</td>\n",
       "      <td>317.606098</td>\n",
       "      <td>100873.633397</td>\n",
       "      <td>19324.0</td>\n",
       "      <td>10096.317202</td>\n",
       "      <td>1.019356e+08</td>\n",
       "      <td>38.0</td>\n",
       "      <td>47.804457</td>\n",
       "      <td>2285.266143</td>\n",
       "      <td>1950.000000</td>\n",
       "      <td>356.305046</td>\n",
       "      <td>126953.285460</td>\n",
       "    </tr>\n",
       "  </tbody>\n",
       "</table>\n",
       "</div>"
      ],
      "text/plain": [
       "       duration                             mb_used                \\\n",
       "         median         std            var   median           std   \n",
       "tariff                                                              \n",
       "smart     422.0  190.313730   36219.315784  16531.0   5877.576978   \n",
       "ultra     518.0  317.606098  100873.633397  19324.0  10096.317202   \n",
       "\n",
       "                     messages_count                              revenue  \\\n",
       "                 var         median        std          var       median   \n",
       "tariff                                                                     \n",
       "smart   3.454591e+07           28.0  28.227876   796.812958   959.898438   \n",
       "ultra   1.019356e+08           38.0  47.804457  2285.266143  1950.000000   \n",
       "\n",
       "                                   \n",
       "               std            var  \n",
       "tariff                             \n",
       "smart   787.688141  620452.607534  \n",
       "ultra   356.305046  126953.285460  "
      ]
     },
     "execution_count": 47,
     "metadata": {},
     "output_type": "execute_result"
    }
   ],
   "source": [
    "data_analysis = data_final.pivot_table(index=['tariff'], values=['duration', 'mb_used','messages_count', 'revenue'],\n",
    "                                       aggfunc={'duration': [np.median, np.var, np.std], \n",
    "                                                'mb_used': [np.median, np.var, np.std], \n",
    "                                                'messages_count': [np.median, np.std, np.var],\n",
    "                                                'revenue': [np.median, np.std, np.var]})\n",
    "data_analysis"
   ]
  },
  {
   "cell_type": "code",
   "execution_count": 48,
   "metadata": {},
   "outputs": [
    {
     "data": {
      "text/html": [
       "<div>\n",
       "<style scoped>\n",
       "    .dataframe tbody tr th:only-of-type {\n",
       "        vertical-align: middle;\n",
       "    }\n",
       "\n",
       "    .dataframe tbody tr th {\n",
       "        vertical-align: top;\n",
       "    }\n",
       "\n",
       "    .dataframe thead th {\n",
       "        text-align: right;\n",
       "    }\n",
       "</style>\n",
       "<table border=\"1\" class=\"dataframe\">\n",
       "  <thead>\n",
       "    <tr style=\"text-align: right;\">\n",
       "      <th></th>\n",
       "      <th>user_id</th>\n",
       "      <th>tariff</th>\n",
       "      <th>duration</th>\n",
       "      <th>mb_used</th>\n",
       "      <th>messages_count</th>\n",
       "      <th>revenue</th>\n",
       "    </tr>\n",
       "  </thead>\n",
       "  <tbody>\n",
       "    <tr>\n",
       "      <td>0</td>\n",
       "      <td>1000</td>\n",
       "      <td>ultra</td>\n",
       "      <td>339.0</td>\n",
       "      <td>14325.5</td>\n",
       "      <td>65.0</td>\n",
       "      <td>1950.000000</td>\n",
       "    </tr>\n",
       "    <tr>\n",
       "      <td>1</td>\n",
       "      <td>1001</td>\n",
       "      <td>smart</td>\n",
       "      <td>422.0</td>\n",
       "      <td>16252.5</td>\n",
       "      <td>0.0</td>\n",
       "      <td>851.953125</td>\n",
       "    </tr>\n",
       "    <tr>\n",
       "      <td>2</td>\n",
       "      <td>1002</td>\n",
       "      <td>smart</td>\n",
       "      <td>214.0</td>\n",
       "      <td>17601.0</td>\n",
       "      <td>11.0</td>\n",
       "      <td>987.695312</td>\n",
       "    </tr>\n",
       "    <tr>\n",
       "      <td>3</td>\n",
       "      <td>1003</td>\n",
       "      <td>ultra</td>\n",
       "      <td>824.0</td>\n",
       "      <td>11368.0</td>\n",
       "      <td>83.0</td>\n",
       "      <td>1950.000000</td>\n",
       "    </tr>\n",
       "    <tr>\n",
       "      <td>4</td>\n",
       "      <td>1004</td>\n",
       "      <td>ultra</td>\n",
       "      <td>132.5</td>\n",
       "      <td>17828.5</td>\n",
       "      <td>154.5</td>\n",
       "      <td>1950.000000</td>\n",
       "    </tr>\n",
       "    <tr>\n",
       "      <td>...</td>\n",
       "      <td>...</td>\n",
       "      <td>...</td>\n",
       "      <td>...</td>\n",
       "      <td>...</td>\n",
       "      <td>...</td>\n",
       "      <td>...</td>\n",
       "    </tr>\n",
       "    <tr>\n",
       "      <td>493</td>\n",
       "      <td>1495</td>\n",
       "      <td>ultra</td>\n",
       "      <td>954.0</td>\n",
       "      <td>29393.0</td>\n",
       "      <td>82.0</td>\n",
       "      <td>1950.000000</td>\n",
       "    </tr>\n",
       "    <tr>\n",
       "      <td>494</td>\n",
       "      <td>1496</td>\n",
       "      <td>smart</td>\n",
       "      <td>524.0</td>\n",
       "      <td>24067.5</td>\n",
       "      <td>41.5</td>\n",
       "      <td>2396.605469</td>\n",
       "    </tr>\n",
       "    <tr>\n",
       "      <td>495</td>\n",
       "      <td>1497</td>\n",
       "      <td>smart</td>\n",
       "      <td>490.0</td>\n",
       "      <td>14174.0</td>\n",
       "      <td>17.0</td>\n",
       "      <td>550.000000</td>\n",
       "    </tr>\n",
       "    <tr>\n",
       "      <td>496</td>\n",
       "      <td>1498</td>\n",
       "      <td>smart</td>\n",
       "      <td>323.5</td>\n",
       "      <td>21385.0</td>\n",
       "      <td>43.0</td>\n",
       "      <td>1726.757812</td>\n",
       "    </tr>\n",
       "    <tr>\n",
       "      <td>497</td>\n",
       "      <td>1499</td>\n",
       "      <td>smart</td>\n",
       "      <td>470.5</td>\n",
       "      <td>15443.0</td>\n",
       "      <td>53.5</td>\n",
       "      <td>813.160156</td>\n",
       "    </tr>\n",
       "  </tbody>\n",
       "</table>\n",
       "<p>498 rows × 6 columns</p>\n",
       "</div>"
      ],
      "text/plain": [
       "     user_id tariff  duration  mb_used  messages_count      revenue\n",
       "0       1000  ultra     339.0  14325.5            65.0  1950.000000\n",
       "1       1001  smart     422.0  16252.5             0.0   851.953125\n",
       "2       1002  smart     214.0  17601.0            11.0   987.695312\n",
       "3       1003  ultra     824.0  11368.0            83.0  1950.000000\n",
       "4       1004  ultra     132.5  17828.5           154.5  1950.000000\n",
       "..       ...    ...       ...      ...             ...          ...\n",
       "493     1495  ultra     954.0  29393.0            82.0  1950.000000\n",
       "494     1496  smart     524.0  24067.5            41.5  2396.605469\n",
       "495     1497  smart     490.0  14174.0            17.0   550.000000\n",
       "496     1498  smart     323.5  21385.0            43.0  1726.757812\n",
       "497     1499  smart     470.5  15443.0            53.5   813.160156\n",
       "\n",
       "[498 rows x 6 columns]"
      ]
     },
     "execution_count": 48,
     "metadata": {},
     "output_type": "execute_result"
    }
   ],
   "source": [
    "data_medians.reset_index(inplace=True)\n",
    "data_medians"
   ]
  },
  {
   "cell_type": "code",
   "execution_count": 80,
   "metadata": {},
   "outputs": [
    {
     "data": {
      "image/png": "[encoded data removed]",
      "text/plain": [
       "<Figure size 720x432 with 1 Axes>"
      ]
     },
     "metadata": {},
     "output_type": "display_data"
    }
   ],
   "source": [
    "sns.set_style(\"darkgrid\")\n",
    "fig, ax = plt.subplots(figsize=(10,6))\n",
    "sns.distplot(data_medians.query('tariff == \"ultra\"')['duration'], kde=False)\n",
    "sns.distplot(data_medians.query('tariff == \"smart\"')['duration'], kde=False)\n",
    "plt.legend(labels=['ultra','smart'])\n",
    "ax.set(xlabel=\"Длительность звонков, мин.\", ylabel = \"Количество клиентов\")\n",
    "plt.title(\"Сравнение длительности звонков по тарифам\")\n",
    "\n",
    "plt.show()"
   ]
  },
  {
   "cell_type": "code",
   "execution_count": 82,
   "metadata": {},
   "outputs": [
    {
     "data": {
      "image/png": "[encoded data removed]",
      "text/plain": [
       "<Figure size 720x432 with 1 Axes>"
      ]
     },
     "metadata": {},
     "output_type": "display_data"
    }
   ],
   "source": [
    "fig, ax = plt.subplots(figsize=(10,6))\n",
    "sns.distplot(data_medians.query('tariff == \"ultra\"')['mb_used'], kde=False)\n",
    "sns.distplot(data_medians.query('tariff == \"smart\"')['mb_used'], kde=False)\n",
    "plt.legend(labels=['ultra','smart'])\n",
    "ax.set(xlabel=\"Использовано трафика, Мбайт\", ylabel = \"Количество клиентов\")\n",
    "plt.title(\"Сравнение использование трафика по тарифам\")\n",
    "\n",
    "plt.show()"
   ]
  },
  {
   "cell_type": "code",
   "execution_count": 83,
   "metadata": {},
   "outputs": [
    {
     "data": {
      "image/png": "[encoded data removed]",
      "text/plain": [
       "<Figure size 720x432 with 1 Axes>"
      ]
     },
     "metadata": {},
     "output_type": "display_data"
    }
   ],
   "source": [
    "fig, ax = plt.subplots(figsize=(10,6))\n",
    "sns.distplot(data_medians.query('tariff == \"ultra\"')['messages_count'], kde=False)\n",
    "sns.distplot(data_medians.query('tariff == \"smart\"')['messages_count'], kde=False)\n",
    "plt.legend(labels=['ultra','smart'])\n",
    "ax.set(xlabel=\"Количество сообщений\", ylabel = \"Количество клиентов\")\n",
    "plt.title(\"Сравнение количества смс по тарифам\")\n",
    "\n",
    "plt.show()"
   ]
  },
  {
   "cell_type": "code",
   "execution_count": 84,
   "metadata": {},
   "outputs": [
    {
     "data": {
      "image/png": "[encoded data removed]",
      "text/plain": [
       "<Figure size 720x432 with 1 Axes>"
      ]
     },
     "metadata": {},
     "output_type": "display_data"
    }
   ],
   "source": [
    "fig, ax = plt.subplots(figsize=(10,6))\n",
    "sns.distplot(data_medians.query('tariff == \"ultra\"')['revenue'], kde=False)\n",
    "sns.distplot(data_medians.query('tariff == \"smart\"')['revenue'], kde=False)\n",
    "plt.legend(labels=['ultra','smart'])\n",
    "ax.set(xlabel=\"Выручка, руб.\", ylabel = \"Количество клиентов\")\n",
    "plt.title(\"Сравнение средней выручки по тарифам\")\n",
    "\n",
    "plt.show()"
   ]
  },
  {
   "cell_type": "code",
   "execution_count": 105,
   "metadata": {},
   "outputs": [
    {
     "data": {
      "text/plain": [
       "13713.662307326858"
      ]
     },
     "execution_count": 105,
     "metadata": {},
     "output_type": "execute_result"
    }
   ],
   "source": [
    "ultra_revenue_per_client = data_final.query(\n",
    "    'tariff == \"ultra\"')['revenue'].sum() / data_final.query(\n",
    "    'tariff == \"ultra\"')['user_id'].nunique()\n",
    "ultra_revenue_per_client"
   ]
  },
  {
   "cell_type": "code",
   "execution_count": 106,
   "metadata": {},
   "outputs": [
    {
     "data": {
      "text/plain": [
       "7854.674174107143"
      ]
     },
     "execution_count": 106,
     "metadata": {},
     "output_type": "execute_result"
    }
   ],
   "source": [
    "smart_revenue_per_client = data_final.query(\n",
    "    'tariff == \"smart\"')['revenue'].sum() / data_final.query(\n",
    "    'tariff == \"smart\"')['user_id'].nunique()\n",
    "smart_revenue_per_client "
   ]
  },
  {
   "cell_type": "code",
   "execution_count": 123,
   "metadata": {},
   "outputs": [
    {
     "data": {
      "text/plain": [
       "'Соотношение средней выручки пользователя тарифа \"Ультра\" к пользователю тарифа \"Смарт\" составляет: 174.59%'"
      ]
     },
     "execution_count": 123,
     "metadata": {},
     "output_type": "execute_result"
    }
   ],
   "source": [
    "'Соотношение средней выручки пользователя тарифа \"Ультра\" к пользователю тарифа \"Смарт\" составляет: {:.2%}'.format(ultra_revenue_per_client / smart_revenue_per_client)"
   ]
  },
  {
   "cell_type": "markdown",
   "metadata": {},
   "source": [
    "Графики для тарифа \"Смарт\" ближе к нормальному распределению. Дисперсия у \"Смарта\" меньше, чем у \"Ультра\" по всем показателям кроме выручки, по которой наблюдается обратная ситуация.\n",
    "Это может говорить о том, что у клиентов тарифа \"Смарт\" меньшая вариативность, поскольку пакет услуг в этом тарифе ограничен сильнее, чем для тарифа \"Ультра\". В то же время, у клиентов тарифа \"Ультра\" больше возможностей по использованию предоставляемых услуг, что вызывает увеличение дисперсии в рассматриваемой выборке. При этом высокая стоимость тарифа \"Ультра\" способствует уменьшению дисперсии, т.к. поведение клиентов может сильно отличаться в рамках дорого тарифа без дополнительных расходов с их стороны.  \n",
    "Выручка по клиентам тарифа \"Ультра\" в основном формируется за счёт ежемесячных платежей, у клиентов с тарифом \"Смарт\" платежи более разнообразны."
   ]
  },
  {
   "cell_type": "markdown",
   "metadata": {},
   "source": [
    "<div class=\"alert alert-warning\">\n",
    "    <h2> Комментарий ревьюера <a class=\"tocSkip\"> </h2>\n",
    "    \n",
    "<b>Некоторые замечания и рекомендации💡:</b> \n",
    "        \n",
    "В целом, есть рекомендации по оформлению визуализации: если ты используешь визуализацию в проекте, важно добавлять названия осей и заголовки ко всем графикам на русском языке (т.е. не использовать названия колонок, а фиксировать свои названия), кроме того важно убирать технические строчки типа `<matplotlib.axes._subplots.AxesSubplot at 0x7fc3d1b2fb50>` это можно сделать с помощью метода `plt.show()`. Пожалуйста, постарайся доработать всю визуализацию в твоем проекте."
   ]
  },
  {
   "cell_type": "markdown",
   "metadata": {},
   "source": [
    "<div class=\"alert alert-warning\">\n",
    "    <h2> Комментарий ревьюера <a class=\"tocSkip\"> </h2>\n",
    "    \n",
    "<b>Некоторые замечания и рекомендации💡:</b> \n",
    "        \n",
    "По аналогии с анализом звонков, смс и использованного трафика, важно проанализировать выручку."
   ]
  },
  {
   "cell_type": "markdown",
   "metadata": {},
   "source": [
    "<div class=\"alert alert-block alert-info\">\n",
    "<b>Комментарий студента:</b> Сделал графики более читаемыми, сравнил тарифы по выручке.\n",
    "</div>"
   ]
  },
  {
   "cell_type": "markdown",
   "metadata": {},
   "source": [
    "<div class=\"alert alert-success\">\n",
    "<h2> Комментарий ревьюера: вторая итерация ревью <a class=\"tocSkip\"> </h2>\n",
    "\n",
    "<b>Все отлично!👍:</b> \n",
    "    \n",
    "Да, отлично, теперь визуализация выглядит максимально информативно, здорово, что получилось добавить анализ выручки!"
   ]
  },
  {
   "cell_type": "markdown",
   "metadata": {},
   "source": [
    "## Построение гипотез"
   ]
  },
  {
   "cell_type": "markdown",
   "metadata": {},
   "source": [
    "### Cредняя выручка пользователей тарифов «Ультра» и «Смарт» различается"
   ]
  },
  {
   "cell_type": "markdown",
   "metadata": {},
   "source": [
    "Нулевая гипотеза H₀: Средняя выручка тарифа \"Ультра\" равна средней выручке тарифа \"Смарт\".  \n",
    "  \n",
    "Альтернативная гипотеза H₁: Средняя выручка тарифа \"Ультра\" и средняя выручка тарифа \"Смарт\" различаются.  \n",
    "  \n",
    "Уровень значимости: α=5%"
   ]
  },
  {
   "cell_type": "markdown",
   "metadata": {},
   "source": [
    "<div class=\"alert alert-success\">\n",
    "<h2> Комментарий ревьюера <a class=\"tocSkip\"> </h2>\n",
    "\n",
    "<b>Все отлично!👍:</b> \n",
    "    \n",
    "нулевая и альтернативная гипотезы сформулированы верно, так держать!"
   ]
  },
  {
   "cell_type": "code",
   "execution_count": 33,
   "metadata": {},
   "outputs": [
    {
     "name": "stdout",
     "output_type": "stream",
     "text": [
      "p-значение: 1.172655564462924e-190\n",
      "Отвергаем нулевую гипотезу\n"
     ]
    }
   ],
   "source": [
    "ultra = data_final.query('tariff == \"ultra\"')['revenue']\n",
    "smart = data_final.query('tariff == \"smart\"')['revenue']\n",
    "alpha = 0.05 \n",
    "\n",
    "results = st.ttest_ind(ultra, smart) \n",
    "\n",
    "print('p-значение:', results.pvalue)\n",
    "\n",
    "if results.pvalue < alpha:\n",
    "    print(\"Отвергаем нулевую гипотезу\")\n",
    "else:\n",
    "    print(\"Не получилось отвергнуть нулевую гипотезу\")"
   ]
  },
  {
   "cell_type": "code",
   "execution_count": 126,
   "metadata": {},
   "outputs": [
    {
     "data": {
      "text/html": [
       "<div>\n",
       "<style scoped>\n",
       "    .dataframe tbody tr th:only-of-type {\n",
       "        vertical-align: middle;\n",
       "    }\n",
       "\n",
       "    .dataframe tbody tr th {\n",
       "        vertical-align: top;\n",
       "    }\n",
       "\n",
       "    .dataframe thead th {\n",
       "        text-align: right;\n",
       "    }\n",
       "</style>\n",
       "<table border=\"1\" class=\"dataframe\">\n",
       "  <thead>\n",
       "    <tr style=\"text-align: right;\">\n",
       "      <th></th>\n",
       "      <th>revenue</th>\n",
       "    </tr>\n",
       "    <tr>\n",
       "      <th>tariff</th>\n",
       "      <th></th>\n",
       "    </tr>\n",
       "  </thead>\n",
       "  <tbody>\n",
       "    <tr>\n",
       "      <td>smart</td>\n",
       "      <td>959.898438</td>\n",
       "    </tr>\n",
       "    <tr>\n",
       "      <td>ultra</td>\n",
       "      <td>1950.000000</td>\n",
       "    </tr>\n",
       "  </tbody>\n",
       "</table>\n",
       "</div>"
      ],
      "text/plain": [
       "            revenue\n",
       "tariff             \n",
       "smart    959.898438\n",
       "ultra   1950.000000"
      ]
     },
     "execution_count": 126,
     "metadata": {},
     "output_type": "execute_result"
    }
   ],
   "source": [
    "data_final.pivot_table(index='tariff',values='revenue',aggfunc='median')"
   ]
  },
  {
   "cell_type": "markdown",
   "metadata": {},
   "source": [
    "Средние значения выручки по тарифам различаются в 2 раза. При стоимости тарифа \"Смарт\" в 550 рублей, в среднем с каждого клиента компания получает ещё по 410 рублей выручки. Эта может быть обусловлено ограниченым набором услуг по тарифу.\n",
    "\n",
    "Вероятность того, что средняя выручка тарифов различается случайно - менее 1%. С уверенностью 95% может сказать, что средняя выручка пользователей тарифов «Ультра» и «Смарт» различается."
   ]
  },
  {
   "cell_type": "markdown",
   "metadata": {},
   "source": [
    "### Cредняя выручка пользователей из Москвы отличается от выручки по другим регионам"
   ]
  },
  {
   "cell_type": "markdown",
   "metadata": {},
   "source": [
    "Нулевая гипотеза H₀: Средняя выручка пользователей из Москвы равна средней выручке пользователей из других регионов.\n",
    "  \n",
    "Альтернативная гипотеза H₁: Средняя выручка пользователей из Москвы и пользователей из других регионов различается.\n",
    "  \n",
    "Уровень значимости: α=5%  "
   ]
  },
  {
   "cell_type": "code",
   "execution_count": 35,
   "metadata": {},
   "outputs": [
    {
     "name": "stdout",
     "output_type": "stream",
     "text": [
      "p-значение: 0.47443187631524797\n",
      "Не получилось отвергнуть нулевую гипотезу\n"
     ]
    }
   ],
   "source": [
    "data_final_region = data_final.merge(users, on=['user_id','tariff'], how='inner')\n",
    "moscow = data_final_region.query('city == \"Москва\"')['revenue']\n",
    "regions = data_final_region.query('city != \"Москва\"')['revenue']\n",
    "\n",
    "alpha = 0.05 \n",
    "\n",
    "results = st.ttest_ind(moscow, regions)\n",
    "\n",
    "print('p-значение:', results.pvalue)\n",
    "\n",
    "if results.pvalue < alpha:\n",
    "    print(\"Отвергаем нулевую гипотезу\")\n",
    "else:\n",
    "    print(\"Не получилось отвергнуть нулевую гипотезу\")"
   ]
  },
  {
   "cell_type": "code",
   "execution_count": 36,
   "metadata": {},
   "outputs": [
    {
     "data": {
      "text/html": [
       "<div>\n",
       "<style scoped>\n",
       "    .dataframe tbody tr th:only-of-type {\n",
       "        vertical-align: middle;\n",
       "    }\n",
       "\n",
       "    .dataframe tbody tr th {\n",
       "        vertical-align: top;\n",
       "    }\n",
       "\n",
       "    .dataframe thead th {\n",
       "        text-align: right;\n",
       "    }\n",
       "</style>\n",
       "<table border=\"1\" class=\"dataframe\">\n",
       "  <thead>\n",
       "    <tr style=\"text-align: right;\">\n",
       "      <th></th>\n",
       "      <th>revenue</th>\n",
       "    </tr>\n",
       "    <tr>\n",
       "      <th>region</th>\n",
       "      <th></th>\n",
       "    </tr>\n",
       "  </thead>\n",
       "  <tbody>\n",
       "    <tr>\n",
       "      <td>Другой регион</td>\n",
       "      <td>1482.063727</td>\n",
       "    </tr>\n",
       "    <tr>\n",
       "      <td>Москва</td>\n",
       "      <td>1507.276762</td>\n",
       "    </tr>\n",
       "  </tbody>\n",
       "</table>\n",
       "</div>"
      ],
      "text/plain": [
       "                   revenue\n",
       "region                    \n",
       "Другой регион  1482.063727\n",
       "Москва         1507.276762"
      ]
     },
     "execution_count": 36,
     "metadata": {},
     "output_type": "execute_result"
    }
   ],
   "source": [
    "def region(city):\n",
    "    if city == 'Москва':\n",
    "        return 'Москва'\n",
    "    else:\n",
    "        return 'Другой регион'\n",
    "data_final_region['region'] = data_final_region['city'].apply(region)\n",
    "data_final_region.pivot_table(index='region',values='revenue',aggfunc='mean')"
   ]
  },
  {
   "cell_type": "markdown",
   "metadata": {},
   "source": [
    "Гипотезу о том, что средняя выручка по клиентам в Москве равна средней выручке по клиентам в других регионах, не удалось отвергнуть. Уровень значимости нулевой гипотезы сотавляет 52%"
   ]
  },
  {
   "cell_type": "markdown",
   "metadata": {},
   "source": [
    "<div class=\"alert alert-success\">\n",
    "<h2> Комментарий ревьюера <a class=\"tocSkip\"> </h2>\n",
    "\n",
    "<b>Все отлично!👍:</b> \n",
    "    \n",
    "В целом, тестирование гипотез произведено корректно!"
   ]
  },
  {
   "cell_type": "markdown",
   "metadata": {},
   "source": [
    "## Вывод"
   ]
  },
  {
   "cell_type": "markdown",
   "metadata": {},
   "source": [
    "Средняя выручка пользователей из Москвы практически не отличается от выручки пользователей из других регионов. Разница составляет 22 рубля. \n",
    "  \n",
    "По результатам проведённого анализа можно сделать вывод, тариф «Ультра» приносит в среднем больше выручки, чем тариф «Смарт»: `1950` и `960` рублей соответственно.    \n",
    "Cтоит отметить, что тариф \"Смарт\" более маржинальный по сравнению с \"Ультра\": выручка от дополнительных пакетов услуг в среднем на `174%` больше, чем абонентская плата.\n",
    "Не смотря на то что анализ показал, что тариф \"Смарт\" имеет большую долю по выручке и активнее приносит дополнительный доход, считаю целесообразным направить усилия на привлечение клиентов по тарифу \"Ультра\". Средняя выручка одного клиента по тарифу ультра на 174% выше, чем по тарифу \"Смарт\". Клиенты зачастую не используют весь пакет услуг в рамках месяца, что также способствует снижению затрат компании."
   ]
  },
  {
   "cell_type": "markdown",
   "metadata": {},
   "source": [
    "<div class=\"alert alert-block alert-danger\">\n",
    "<h2> Комментарий ревьюера <a class=\"tocSkip\"></h2>\n",
    "    \n",
    "<b>На доработку🤔:</b>\n",
    "\n",
    "Кирилл, в итоговом выводе обязательно должна найти свое отражение цель исследования - нужно определить выгодный тарифный план для сотового оператора.  Пока твой итоговый вывод представляет собой подитог твоих действий с данными. Стоит расширить вывод, но помни о том, что свою позицию надо подкрепить аргументами."
   ]
  },
  {
   "cell_type": "markdown",
   "metadata": {},
   "source": [
    "<div class=\"alert alert-block alert-info\">\n",
    "<b>Комментарий студента:</b> Вывод немного расширил, надеюсь, логика меня не подвела 😉"
   ]
  },
  {
   "cell_type": "markdown",
   "metadata": {},
   "source": [
    "<div class=\"alert alert-success\">\n",
    "<h2> Комментарий ревьюера: вторая итерация ревью <a class=\"tocSkip\"> </h2>\n",
    "\n",
    "<b>Все отлично!👍:</b> \n",
    "    \n",
    "Да, отлично, теперь вывод больше ориентирован на заказчика и в целом отвечает на основной вопрос исследования, ты молодец, все получилось!"
   ]
  },
  {
   "cell_type": "markdown",
   "metadata": {},
   "source": [
    "<div style=\"border:solid Chocolate 2px; padding: 40px\">\n",
    "\n",
    "**Общий вывод по проекту**\n",
    "\n",
    "Кирилл, спасибо за твой проект! Ты приложил много усилий, чтобы довести его до конца, многие задачи в рамках проекта тебе удалось успешно решить, отличная работа! Однако, есть несколько важных моментов, которые стоит доработать, подсказки ты найдешь в моих комментариях!\n",
    "\n",
    "**Отмечу отдельные положительные моменты проекта🙂**:\n",
    "* На разных шагах проекта ты предлагал очень интересные, решения и методы для их реализации. Хорошая работа! \n",
    "* Ты активно работал с визуализацией, хорошо, что ты не избегаешь этого инструмента для анализа!\n",
    "* Ты использовал разные методы для работы с данными, круто, что ты владеешь ими и можешь применять на практике.\n",
    "    \n",
    "**На что стоит обратить внимание:🙂**:\n",
    "* Стоит поработать над оформлением графиков в проекте.\n",
    "* Обрати внимание на объединение таблиц, также важно округлить значения звонков и интернет-сессий с помощью np.ceil()/\n",
    "* Важно попробовать расширить итоговый вывод!\n",
    "\n",
    "**Желаю удачи и жду твой проект на повторное ревью!**😉\n",
    "    \n",
    "![gif](https://media.giphy.com/media/l3vR76o4wmQ4aIrV6/giphy.gif)"
   ]
  },
  {
   "cell_type": "markdown",
   "metadata": {},
   "source": [
    "<div style=\"border:solid Chocolate 2px; padding: 40px\">\n",
    "\n",
    "**Общий вывод по проекту: вторая итерация ревью**\n",
    "\n",
    "Кирилл, спасибо, что прислал проект с доработками! И отдельное спасибо за обратную связь😊 Тебе удалось значительно улучшить проект, спасибо за терпение и желание довести проект до конца, у тебя все отлично получается, дальше - больше и лучше!\n",
    "Спешу тебе сообщить, что твой проект принят, и ты можешь перейти на следующий спринт!\n",
    "\n",
    "**Желаю тебе крутых и интересных проектов на следующих спринтах**😉\n",
    "![gif](https://media.giphy.com/media/l49JHz7kJvl6MCj3G/giphy.gif)"
   ]
  },
  {
   "cell_type": "code",
   "execution_count": null,
   "metadata": {},
   "outputs": [],
   "source": []
  }
 ],
 "metadata": {
  "kernelspec": {
   "display_name": "Python 3 (ipykernel)",
   "language": "python",
   "name": "python3"
  },
  "language_info": {
   "codemirror_mode": {
    "name": "ipython",
    "version": 3
   },
   "file_extension": ".py",
   "mimetype": "text/x-python",
   "name": "python",
   "nbconvert_exporter": "python",
   "pygments_lexer": "ipython3",
   "version": "3.9.5"
  },
  "toc": {
   "base_numbering": 1,
   "nav_menu": {},
   "number_sections": true,
   "sideBar": true,
   "skip_h1_title": true,
   "title_cell": "Table of Contents",
   "title_sidebar": "Contents",
   "toc_cell": false,
   "toc_position": {
    "height": "calc(100% - 180px)",
    "left": "10px",
    "top": "150px",
    "width": "355.764px"
   },
   "toc_section_display": true,
   "toc_window_display": false
  }
 },
 "nbformat": 4,
 "nbformat_minor": 2
}
